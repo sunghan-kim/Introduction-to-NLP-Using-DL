{
 "cells": [
  {
   "cell_type": "markdown",
   "metadata": {
    "colab_type": "text",
    "id": "h6eW5qa1Ljhv"
   },
   "source": [
    "# Chapter 01. 자연어 처리(natural language processing)란?"
   ]
  },
  {
   "cell_type": "markdown",
   "metadata": {
    "colab_type": "text",
    "id": "H6TIY2LDLqxo"
   },
   "source": [
    "# v06. 머신 러닝 워크플로우 (Machine Learning Workflow)"
   ]
  },
  {
   "cell_type": "markdown",
   "metadata": {
    "colab_type": "text",
    "id": "jvOOSM9ELyrw"
   },
   "source": [
    "- 데이터 사이언스(Data Science) 또는 머신 러닝(Machine Learning) 과정에서 거치는 전반적인 과정에 대해 확인"
   ]
  },
  {
   "cell_type": "markdown",
   "metadata": {
    "colab_type": "text",
    "id": "8s2i5Dc2MHji"
   },
   "source": [
    "<br>"
   ]
  },
  {
   "cell_type": "markdown",
   "metadata": {
    "colab_type": "text",
    "id": "DhkoMpYYMIxl"
   },
   "source": [
    "## 6.1 머신 러닝 워크플로우 (Machine Learning Workflow)\n",
    "\n",
    "- 데이터를 수집하고 머신 러닝을 하는 과정을 크게 6가지로 나누면, 아래의 그림과 같다.\n",
    "\n",
    "<img src=\"https://wikidocs.net/images/page/31947/%EB%A8%B8%EC%8B%A0_%EB%9F%AC%EB%8B%9D_%EC%9B%8C%ED%81%AC%ED%94%8C%EB%A1%9C%EC%9A%B0.PNG\" />"
   ]
  },
  {
   "cell_type": "markdown",
   "metadata": {
    "colab_type": "text",
    "id": "1QtxwheNMlcf"
   },
   "source": [
    "<br>"
   ]
  },
  {
   "cell_type": "markdown",
   "metadata": {
    "colab_type": "text",
    "id": "4btgKRebMm7W"
   },
   "source": [
    "### 6.1.1 수집 (Acquisition)\n",
    "\n",
    "- 머신 러닝을 하기 위해서는 기계에 학습시켜야 할 데이터가 필요하다.\n",
    "- 자연어 처리의 경우, 자연어 데이터를 **말뭉치 또는 코퍼스(corpus)**라고 부른다.\n",
    "- 코퍼스의 의미\n",
    "  - 조사나 연구 목적에 의해서 특정 도메인으로부터 수집된 텍스트 집합"
   ]
  },
  {
   "cell_type": "markdown",
   "metadata": {
    "colab_type": "text",
    "id": "SxHvCvzhNhjJ"
   },
   "source": [
    "<br>"
   ]
  },
  {
   "cell_type": "markdown",
   "metadata": {
    "colab_type": "text",
    "id": "PUKWFAn8Nifs"
   },
   "source": [
    "### 6.1.2 점검 및 탐색 (Inspection and exploration)\n",
    "\n",
    "- 데이터를 점검하고 탐색하는 단계\n",
    "- 데이터의 구조, 노이즈 데이터, 머신 러닝 적용을 위해서 데이터를 어떻게 정제해야하는 지 등을 파악\n",
    "- 이 단계를 **탐색적 데이터 분석(Exploratory Data Analysis, EDA) 단계**라고 한다.\n",
    "- EDA\n",
    "  - 독립 변수, 종속 변수, 변수 유형, 변수의 데이터 타입 등을 점검\n",
    "  - 데이터의 특징과 내재하는 구조적 관계를 알아내는 과정\n",
    "- 이 과정에서 시각화와 간단한 통계 테스트를 진행"
   ]
  },
  {
   "cell_type": "markdown",
   "metadata": {
    "colab_type": "text",
    "id": "pRX5SfT8OE0K"
   },
   "source": [
    "<br>"
   ]
  },
  {
   "cell_type": "markdown",
   "metadata": {
    "colab_type": "text",
    "id": "y3a61o-1OHi0"
   },
   "source": [
    "### 6.1.3 전처리 및 정제 (Preprocessing and Cleaning)\n",
    "\n",
    "- 가장 까다로운 작어 중 하나\n",
    "- 이 단계는 많은 단계를 포함하고 있음\n",
    "  - 자연어 처리 : 토큰화, 정제, 정규화, 불용어 제거 등의 단계 포함\n",
    "- 빠르고 정확한 데이터 전처리를 하기 위해서는 사용하고 있는 툴에 대한 다양한 라이브러리에 대한 지식이 필요하다.\n",
    "- 정말 까다로운 전처리의 경우에는 전처리 과정에서 머신 러닝이 사용되기도 한다."
   ]
  },
  {
   "cell_type": "markdown",
   "metadata": {
    "colab_type": "text",
    "id": "16uKDbkROmEf"
   },
   "source": [
    "<br>"
   ]
  },
  {
   "cell_type": "markdown",
   "metadata": {
    "colab_type": "text",
    "id": "lV5WTqgSOowW"
   },
   "source": [
    "### 6.1.4 모델링 및 훈련 (Modeling and Training)\n",
    "\n",
    "- 모델링 단계\n",
    "  - 머신 러닝에 대한 코드를 작성하는 단계  \n",
    "\n",
    "\n",
    "- 훈련\n",
    "  - 적절한 머신 러닝 알고리즘을 선택하여 모델링이 끝났다면, 전처리가 완료된 데이터를 머신 러닝 알고리즘을 통해 기계에 학습(training)을 시킨다.  \n",
    "  \n",
    "\n",
    "- 주의할 점\n",
    "  - 대부분의 경우에서 모든 데이터를 기계에게 학습 시켜서는 안된다.\n",
    "  - 데이터 중 일부는 테스트용으로 남겨두고 훈련용 데이터만 훈련에 사용해야 한다.\n",
    "  - 그래야만 기계가 학습을 하고나서, 현재 성능이 얼마나 되는 지를 측정할 수 있고 과적합(overfitting) 상황을 막을 수 있다.\n",
    "\n",
    "- 데이터 양이 충분하여 더 세부적으로 나눌 수 있다면 훈련용, 검증용, 테스트용으로 데이터를 세 가지로 나누고 훈련용 데이터만 훈련에 사용하기도 한다.  "
   ]
  },
  {
   "cell_type": "markdown",
   "metadata": {
    "colab_type": "text",
    "id": "PaM8P04Blb9F"
   },
   "source": [
    "<img src=\"https://wikidocs.net/images/page/31947/%EB%8D%B0%EC%9D%B4%ED%84%B0.PNG\" />"
   ]
  },
  {
   "cell_type": "markdown",
   "metadata": {
    "colab_type": "text",
    "id": "IcdHw3x5luQv"
   },
   "source": [
    "<br>"
   ]
  },
  {
   "cell_type": "markdown",
   "metadata": {
    "colab_type": "text",
    "id": "l6c-LJGHly_2"
   },
   "source": [
    "### 6.1.5 평가 (Evaluation)\n",
    "\n",
    "- 기계가 다 학습이 되었다면 테스트용 데이터로 성능을 평가한다.\n",
    "- 평가 방법\n",
    "  - 기계가 예측한 데이터가 테스트용 데이터의 실제 정답과 얼마나 가까운 지를 측정"
   ]
  },
  {
   "cell_type": "markdown",
   "metadata": {
    "colab_type": "text",
    "id": "c0BdJ4aYl_iT"
   },
   "source": [
    "<br>"
   ]
  },
  {
   "cell_type": "markdown",
   "metadata": {
    "colab_type": "text",
    "id": "LaOvJFDrmAkG"
   },
   "source": [
    "### 6.1.6 배포 (Deployment)\n",
    "\n",
    "- 평가 단계에서 기계가 성공적으로 훈련이 된 것으로 판단된다면, 완성된 모델이 배포되는 단계가 된다.\n",
    "- 다만, 여기서 완성된 모델에 대한 전체적인 피드백에 대해서 모델을 변경해야하는 상황이 온다면 다시 처음부터 돌아가야 하는 상황이 올 수 있다."
   ]
  }
 ],
 "metadata": {
  "colab": {
   "collapsed_sections": [],
   "name": "Ch01_v06_Machine-Learning-Workflow.ipynb",
   "provenance": []
  },
  "kernelspec": {
   "display_name": "Python 3",
   "language": "python",
   "name": "python3"
  },
  "language_info": {
   "name": ""
  }
 },
 "nbformat": 4,
 "nbformat_minor": 4
}
