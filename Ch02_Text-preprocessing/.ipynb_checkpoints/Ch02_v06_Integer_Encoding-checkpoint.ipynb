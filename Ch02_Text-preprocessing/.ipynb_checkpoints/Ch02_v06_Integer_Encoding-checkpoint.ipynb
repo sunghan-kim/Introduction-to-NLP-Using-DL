{
 "cells": [
  {
   "cell_type": "markdown",
   "metadata": {
    "colab_type": "text",
    "id": "4T-FIPCKELy0"
   },
   "source": [
    "# Ch02. 텍스트 전처리 (Text Preprocessing)"
   ]
  },
  {
   "cell_type": "markdown",
   "metadata": {
    "colab_type": "text",
    "id": "VEuZOf0sEUQA"
   },
   "source": [
    "# v06. 정수 인코딩 (Integer Encoding)"
   ]
  },
  {
   "cell_type": "markdown",
   "metadata": {
    "colab_type": "text",
    "id": "K8kT7I1AEXTA"
   },
   "source": [
    "**텍스트를 숫자로 바꾸는 기법을 적용하기 위한 첫 단계**\n",
    "\n",
    "- 각 단어를 고유한 정수에 맵핑(mapping)시키는 전처리 작업\n",
    "- ex) 가지고 있는 텍스트에 5,000개의 단어가 있다.\n",
    "  - 5,000개의 단어들 각각에 1번부터 5,000번까지 단어와 맵핑되는 **고유한 정수(인덱스)**를 부여\n",
    "    - book -> 150번\n",
    "    - dog -> 171번\n",
    "    - love -> 192번\n",
    "    - books -> 212번"
   ]
  },
  {
   "cell_type": "markdown",
   "metadata": {
    "colab_type": "text",
    "id": "FLivxcCcIjp8"
   },
   "source": [
    "**인덱스를 부여하는 방법**\n",
    "\n",
    "- 랜덤으로 부여\n",
    "- 전처리 또는 빈도수가 높은 단어들만 사용하기 위해서 단어에 대한 빈도수를 기준으로 정렬한 뒤에 부여"
   ]
  },
  {
   "cell_type": "markdown",
   "metadata": {
    "colab_type": "text",
    "id": "csRqqozDIuOP"
   },
   "source": [
    "<br>"
   ]
  },
  {
   "cell_type": "markdown",
   "metadata": {
    "colab_type": "text",
    "id": "CN8rI8O_IvRp"
   },
   "source": [
    "## 6.1 정수 인코딩 (Integer Encoding)"
   ]
  },
  {
   "cell_type": "markdown",
   "metadata": {
    "colab_type": "text",
    "id": "2hA_6_pkIxv5"
   },
   "source": [
    "- 어떤 과정으로 단어에 정수 인덱스를 부여하는 지 확인"
   ]
  },
  {
   "cell_type": "markdown",
   "metadata": {
    "colab_type": "text",
    "id": "3Ii7Es6cLG0A"
   },
   "source": [
    "**단어의 정수를 부여하는 방법**\n",
    "\n",
    "- 단어를 빈도수 순으로 정렬한 단어 집합(vocabulary)을 만듬\n",
    "- 빈도수가 높은 순서대로 차례로 낮은 숫자부터 정수를 부여"
   ]
  },
  {
   "cell_type": "markdown",
   "metadata": {
    "colab_type": "text",
    "id": "3_6OcYGOLRTn"
   },
   "source": [
    "- 단어의 빈도수가 적당하게 분포되도록 의도적으로 만든 텍스트 데이터를 가지고 실습"
   ]
  },
  {
   "cell_type": "markdown",
   "metadata": {
    "colab_type": "text",
    "id": "cgi-QtliLVOP"
   },
   "source": [
    "<br>"
   ]
  },
  {
   "cell_type": "markdown",
   "metadata": {
    "colab_type": "text",
    "id": "Dd2OicL3LWp8"
   },
   "source": [
    "### 6.1.1 dictionary 사용하기"
   ]
  },
  {
   "cell_type": "code",
   "execution_count": 8,
   "metadata": {
    "colab": {
     "base_uri": "https://localhost:8080/",
     "height": 107
    },
    "colab_type": "code",
    "id": "Dy8C2BhqM1CW",
    "outputId": "c0c055ff-6197-4477-d153-885c80fdb0fd"
   },
   "outputs": [
    {
     "name": "stdout",
     "output_type": "stream",
     "text": [
      "[nltk_data] Downloading package punkt to /root/nltk_data...\n",
      "[nltk_data]   Package punkt is already up-to-date!\n",
      "[nltk_data] Downloading package stopwords to /root/nltk_data...\n",
      "[nltk_data]   Unzipping corpora/stopwords.zip.\n"
     ]
    },
    {
     "data": {
      "text/plain": [
       "True"
      ]
     },
     "execution_count": 8,
     "metadata": {
      "tags": []
     },
     "output_type": "execute_result"
    }
   ],
   "source": [
    "import nltk\n",
    "nltk.download('punkt')\n",
    "nltk.download('stopwords')"
   ]
  },
  {
   "cell_type": "code",
   "execution_count": null,
   "metadata": {
    "colab": {},
    "colab_type": "code",
    "id": "yzJK6K7sL3WG"
   },
   "outputs": [],
   "source": [
    "from nltk.tokenize import sent_tokenize\n",
    "from nltk.tokenize import word_tokenize\n",
    "from nltk.corpus import stopwords"
   ]
  },
  {
   "cell_type": "code",
   "execution_count": null,
   "metadata": {
    "colab": {},
    "colab_type": "code",
    "id": "O8w33bkOMAHD"
   },
   "outputs": [],
   "source": [
    "text=\"A barber is a person. a barber is good person. a barber is huge person. \\\n",
    "he Knew A Secret! The Secret He Kept is huge secret. Huge secret. His barber kept his word. \\\n",
    "a barber kept his word. His barber kept his secret. \\\n",
    "But keeping and keeping such a huge secret to himself was driving the barber crazy. \\\n",
    "the barber went up a huge mountain.\""
   ]
  },
  {
   "cell_type": "markdown",
   "metadata": {
    "colab_type": "text",
    "id": "ND68lnRnOPe_"
   },
   "source": [
    "<br>"
   ]
  },
  {
   "cell_type": "markdown",
   "metadata": {
    "colab_type": "text",
    "id": "KItHmaCIMJOr"
   },
   "source": [
    "#### 6.1.1.1 문장 토큰화"
   ]
  },
  {
   "cell_type": "code",
   "execution_count": 6,
   "metadata": {
    "colab": {
     "base_uri": "https://localhost:8080/",
     "height": 55
    },
    "colab_type": "code",
    "id": "ztLIGxzmMwD-",
    "outputId": "8a21426c-4ca3-4555-ee81-c6807404d289"
   },
   "outputs": [
    {
     "name": "stdout",
     "output_type": "stream",
     "text": [
      "['A barber is a person.', 'a barber is good person.', 'a barber is huge person.', 'he Knew A Secret!', 'The Secret He Kept is huge secret.', 'Huge secret.', 'His barber kept his word.', 'a barber kept his word.', 'His barber kept his secret.', 'But keeping and keeping such a huge secret to himself was driving the barber crazy.', 'the barber went up a huge mountain.']\n"
     ]
    }
   ],
   "source": [
    "# 문장 토큰화\n",
    "text = sent_tokenize(text)\n",
    "print(text)"
   ]
  },
  {
   "cell_type": "markdown",
   "metadata": {
    "colab_type": "text",
    "id": "e6KYRWMgORCE"
   },
   "source": [
    "<br>"
   ]
  },
  {
   "cell_type": "markdown",
   "metadata": {
    "colab_type": "text",
    "id": "Ja4ie4dDMztp"
   },
   "source": [
    "#### 6.1.1.2 정제 및 단어 토큰화\n",
    "\n",
    "- 정제 작업을 병행하며 단어 토큰화 수행"
   ]
  },
  {
   "cell_type": "code",
   "execution_count": null,
   "metadata": {
    "colab": {},
    "colab_type": "code",
    "id": "fJAsbO6gNAsj"
   },
   "outputs": [],
   "source": [
    "# 정제와 단어 토큰화\n",
    "vocab = {} # 파이썬의 dictionary 자료형\n",
    "sentences = []\n",
    "stop_words = set(stopwords.words('english'))\n",
    "\n",
    "for i in text:\n",
    "  sentence = word_tokenize(i) # 단어 토큰화 수행\n",
    "  result = []\n",
    "\n",
    "  for word in sentence:\n",
    "    word = word.lower() # 모든 단어를 소문자화하여 단어의 개수를 줄임\n",
    "    if word not in stop_words: # 단어 토큰화된 결과에 대해서 불용어 제거\n",
    "      if len(word) > 2: # 단어 길이가 2이하인 경우에 대해 단어 제거\n",
    "        result.append(word)\n",
    "        if word not in vocab:\n",
    "          vocab[word] = 0\n",
    "        vocab[word] += 1\n",
    "  sentences.append(result)"
   ]
  },
  {
   "cell_type": "code",
   "execution_count": 10,
   "metadata": {
    "colab": {
     "base_uri": "https://localhost:8080/",
     "height": 55
    },
    "colab_type": "code",
    "id": "0jJEWdXzNrIi",
    "outputId": "5560deaf-c363-4437-95db-851b8f3a30e6"
   },
   "outputs": [
    {
     "name": "stdout",
     "output_type": "stream",
     "text": [
      "[['barber', 'person'], ['barber', 'good', 'person'], ['barber', 'huge', 'person'], ['knew', 'secret'], ['secret', 'kept', 'huge', 'secret'], ['huge', 'secret'], ['barber', 'kept', 'word'], ['barber', 'kept', 'word'], ['barber', 'kept', 'secret'], ['keeping', 'keeping', 'huge', 'secret', 'driving', 'barber', 'crazy'], ['barber', 'went', 'huge', 'mountain']]\n"
     ]
    }
   ],
   "source": [
    "print(sentences)"
   ]
  },
  {
   "cell_type": "markdown",
   "metadata": {
    "colab_type": "text",
    "id": "fiAxriQ6OSVZ"
   },
   "source": [
    "<br>"
   ]
  },
  {
   "cell_type": "markdown",
   "metadata": {
    "colab_type": "text",
    "id": "-vtgMA9qOLNA"
   },
   "source": [
    "\n",
    "#### 6.1.1.3 단어별 빈도수 확인"
   ]
  },
  {
   "cell_type": "code",
   "execution_count": 11,
   "metadata": {
    "colab": {
     "base_uri": "https://localhost:8080/",
     "height": 55
    },
    "colab_type": "code",
    "id": "GtSrF4_qNwoY",
    "outputId": "f5aad8b2-2c9d-4536-efe9-2c9719ef737c"
   },
   "outputs": [
    {
     "name": "stdout",
     "output_type": "stream",
     "text": [
      "{'barber': 8, 'person': 3, 'good': 1, 'huge': 5, 'knew': 1, 'secret': 6, 'kept': 4, 'word': 2, 'keeping': 2, 'driving': 1, 'crazy': 1, 'went': 1, 'mountain': 1}\n"
     ]
    }
   ],
   "source": [
    "# 중복을 제거한 단어와 각 단어에 대한 빈도수\n",
    "print(vocab)"
   ]
  },
  {
   "cell_type": "markdown",
   "metadata": {
    "colab_type": "text",
    "id": "jFKqPU5zN4_3"
   },
   "source": [
    "- 단어를 키(key)로, 단어에 대한 빈도수가 값(value)으로 저장되어 있음"
   ]
  },
  {
   "cell_type": "code",
   "execution_count": 12,
   "metadata": {
    "colab": {
     "base_uri": "https://localhost:8080/",
     "height": 35
    },
    "colab_type": "code",
    "id": "kirw2MEUOBBq",
    "outputId": "f8670c4b-ad0a-499f-f680-5ce191f25c74"
   },
   "outputs": [
    {
     "name": "stdout",
     "output_type": "stream",
     "text": [
      "8\n"
     ]
    }
   ],
   "source": [
    "print(vocab[\"barber\"]) # \"barber\" 라는 단어의 빈도수 출력"
   ]
  },
  {
   "cell_type": "markdown",
   "metadata": {
    "colab_type": "text",
    "id": "d7Gr-uJEODNf"
   },
   "source": [
    "<br>"
   ]
  },
  {
   "cell_type": "markdown",
   "metadata": {
    "colab_type": "text",
    "id": "lRlqnwwgOT3-"
   },
   "source": [
    "#### 6.1.1.4 빈도수가 높은 순서대로 정렬"
   ]
  },
  {
   "cell_type": "code",
   "execution_count": 13,
   "metadata": {
    "colab": {
     "base_uri": "https://localhost:8080/",
     "height": 55
    },
    "colab_type": "code",
    "id": "l_LwF8bZOXtC",
    "outputId": "18cd6269-6d17-43c4-f130-ed7872c3eebe"
   },
   "outputs": [
    {
     "name": "stdout",
     "output_type": "stream",
     "text": [
      "[('barber', 8), ('secret', 6), ('huge', 5), ('kept', 4), ('person', 3), ('word', 2), ('keeping', 2), ('good', 1), ('knew', 1), ('driving', 1), ('crazy', 1), ('went', 1), ('mountain', 1)]\n"
     ]
    }
   ],
   "source": [
    "vocab_sorted = sorted(vocab.items(), key=lambda x: x[1], reverse=True)\n",
    "print(vocab_sorted)"
   ]
  },
  {
   "cell_type": "markdown",
   "metadata": {
    "colab_type": "text",
    "id": "VoqvXiChOeGO"
   },
   "source": [
    "<br>"
   ]
  },
  {
   "cell_type": "markdown",
   "metadata": {
    "colab_type": "text",
    "id": "PPUl9vgKOhOt"
   },
   "source": [
    "#### 6.1.1.5 높은 빈도수를 가진 단어 순서대로 정수 인덱스 부여"
   ]
  },
  {
   "cell_type": "code",
   "execution_count": null,
   "metadata": {
    "colab": {},
    "colab_type": "code",
    "id": "Ou0meyDKOmMh"
   },
   "outputs": [],
   "source": [
    "word_to_index = {}\n",
    "i = 0\n",
    "\n",
    "for (word, frequency) in vocab_sorted:\n",
    "  if frequency > 1: # 정제(Cleaning) 챕터에서 언급했듯이 빈도수가 적은 단어 제외\n",
    "    i = i+1\n",
    "    word_to_index[word] = i  "
   ]
  },
  {
   "cell_type": "code",
   "execution_count": 16,
   "metadata": {
    "colab": {
     "base_uri": "https://localhost:8080/",
     "height": 35
    },
    "colab_type": "code",
    "id": "HFyhcgegOnhl",
    "outputId": "315a3dd8-9630-40ac-c069-26745f92d6cb"
   },
   "outputs": [
    {
     "name": "stdout",
     "output_type": "stream",
     "text": [
      "{'barber': 1, 'secret': 2, 'huge': 3, 'kept': 4, 'person': 5, 'word': 6, 'keeping': 7}\n"
     ]
    }
   ],
   "source": [
    "print(word_to_index)"
   ]
  },
  {
   "cell_type": "markdown",
   "metadata": {
    "colab_type": "text",
    "id": "YwLswMDFO2tl"
   },
   "source": [
    "<br>"
   ]
  },
  {
   "cell_type": "markdown",
   "metadata": {
    "colab_type": "text",
    "id": "lvljPdegO859"
   },
   "source": [
    "#### 6.1.1.6 빈도수 상위 n개 단어 사용\n",
    "\n",
    "- 텍스트 데이터에 있는 단어를 모두 사용하기 보다는 빈도수가 가장 높은 n개의 단어만 사용하고 싶은 경우가 많다.\n",
    "- 위 단어들은 빈도수가 높은 순으로 낮은 정수가 부여되어 있음\n",
    "- 빈도수 상위 n개의 단어만 사용하고 싶다.  \n",
    "$\\rightarrow$ `vocab`에서 정수값이 1부터 n까지인 단어들만 사용"
   ]
  },
  {
   "cell_type": "markdown",
   "metadata": {
    "colab_type": "text",
    "id": "bhAfalFNPQ-w"
   },
   "source": [
    "- 상위 5개 단어만 사용"
   ]
  },
  {
   "cell_type": "code",
   "execution_count": null,
   "metadata": {
    "colab": {},
    "colab_type": "code",
    "id": "IIeUqRngPTpA"
   },
   "outputs": [],
   "source": [
    "vocab_size = 5\n",
    "\n",
    "words_frequency = [w for w,c in word_to_index.items() if c >= vocab_size + 1] # 인덱스가 5 초과인 단어 제거\n",
    "\n",
    "for w in words_frequency:\n",
    "  del word_to_index[w] # 해당 단어에 대한 인덱스 정보 삭제"
   ]
  },
  {
   "cell_type": "code",
   "execution_count": 18,
   "metadata": {
    "colab": {
     "base_uri": "https://localhost:8080/",
     "height": 35
    },
    "colab_type": "code",
    "id": "M4ikfrIfPjcR",
    "outputId": "54c279d4-45da-45a6-e5fc-711723ab75a3"
   },
   "outputs": [
    {
     "name": "stdout",
     "output_type": "stream",
     "text": [
      "{'barber': 1, 'secret': 2, 'huge': 3, 'kept': 4, 'person': 5}\n"
     ]
    }
   ],
   "source": [
    "print(word_to_index)"
   ]
  },
  {
   "cell_type": "markdown",
   "metadata": {
    "colab_type": "text",
    "id": "rzaPOqyvPlfM"
   },
   "source": [
    "- `word_to_index`에는 "
   ]
  }
 ],
 "metadata": {
  "colab": {
   "collapsed_sections": [],
   "name": "Ch02_v06_Integer-Encoding.ipynb",
   "provenance": []
  },
  "kernelspec": {
   "display_name": "Python 3",
   "language": "python",
   "name": "python3"
  },
  "language_info": {
   "codemirror_mode": {
    "name": "ipython",
    "version": 3
   },
   "file_extension": ".py",
   "mimetype": "text/x-python",
   "name": "python",
   "nbconvert_exporter": "python",
   "pygments_lexer": "ipython3",
   "version": "3.6.9"
  }
 },
 "nbformat": 4,
 "nbformat_minor": 4
}
