{
 "cells": [
  {
   "cell_type": "markdown",
   "metadata": {
    "colab_type": "text",
    "id": "4T-FIPCKELy0"
   },
   "source": [
    "# Ch02. 텍스트 전처리 (Text Preprocessing)"
   ]
  },
  {
   "cell_type": "markdown",
   "metadata": {
    "colab_type": "text",
    "id": "VEuZOf0sEUQA"
   },
   "source": [
    "# v06. 정수 인코딩 (Integer Encoding)"
   ]
  },
  {
   "cell_type": "markdown",
   "metadata": {
    "colab_type": "text",
    "id": "K8kT7I1AEXTA"
   },
   "source": [
    "**텍스트를 숫자로 바꾸는 기법을 적용하기 위한 첫 단계**\n",
    "\n",
    "- 각 단어를 고유한 정수에 맵핑(mapping)시키는 전처리 작업\n",
    "- ex) 가지고 있는 텍스트에 5,000개의 단어가 있다.\n",
    "  - 5,000개의 단어들 각각에 1번부터 5,000번까지 단어와 맵핑되는 **고유한 정수(인덱스)**를 부여\n",
    "    - book -> 150번\n",
    "    - dog -> 171번\n",
    "    - love -> 192번\n",
    "    - books -> 212번"
   ]
  },
  {
   "cell_type": "markdown",
   "metadata": {
    "colab_type": "text",
    "id": "FLivxcCcIjp8"
   },
   "source": [
    "**인덱스를 부여하는 방법**\n",
    "\n",
    "- 랜덤으로 부여\n",
    "- 전처리 또는 빈도수가 높은 단어들만 사용하기 위해서 단어에 대한 빈도수를 기준으로 정렬한 뒤에 부여"
   ]
  },
  {
   "cell_type": "markdown",
   "metadata": {
    "colab_type": "text",
    "id": "csRqqozDIuOP"
   },
   "source": [
    "<br>"
   ]
  },
  {
   "cell_type": "markdown",
   "metadata": {
    "colab_type": "text",
    "id": "CN8rI8O_IvRp"
   },
   "source": [
    "## 6.1 정수 인코딩 (Integer Encoding)"
   ]
  },
  {
   "cell_type": "markdown",
   "metadata": {
    "colab_type": "text",
    "id": "2hA_6_pkIxv5"
   },
   "source": [
    "- 어떤 과정으로 단어에 정수 인덱스를 부여하는 지 확인"
   ]
  },
  {
   "cell_type": "markdown",
   "metadata": {
    "colab_type": "text",
    "id": "3Ii7Es6cLG0A"
   },
   "source": [
    "**단어의 정수를 부여하는 방법**\n",
    "\n",
    "- 단어를 빈도수 순으로 정렬한 단어 집합(vocabulary)을 만듬\n",
    "- 빈도수가 높은 순서대로 차례로 낮은 숫자부터 정수를 부여"
   ]
  },
  {
   "cell_type": "markdown",
   "metadata": {
    "colab_type": "text",
    "id": "3_6OcYGOLRTn"
   },
   "source": [
    "- 단어의 빈도수가 적당하게 분포되도록 의도적으로 만든 텍스트 데이터를 가지고 실습"
   ]
  },
  {
   "cell_type": "markdown",
   "metadata": {
    "colab_type": "text",
    "id": "cgi-QtliLVOP"
   },
   "source": [
    "<br>"
   ]
  },
  {
   "cell_type": "markdown",
   "metadata": {
    "colab_type": "text",
    "id": "Dd2OicL3LWp8"
   },
   "source": [
    "### 6.1.1 dictionary 사용하기"
   ]
  },
  {
   "cell_type": "code",
   "execution_count": 1,
   "metadata": {
    "colab": {
     "base_uri": "https://localhost:8080/",
     "height": 107
    },
    "colab_type": "code",
    "id": "Dy8C2BhqM1CW",
    "outputId": "006907e8-c231-48cf-e6c7-c253a81bebf4"
   },
   "outputs": [
    {
     "name": "stdout",
     "output_type": "stream",
     "text": [
      "[nltk_data] Downloading package punkt to /root/nltk_data...\n",
      "[nltk_data]   Unzipping tokenizers/punkt.zip.\n",
      "[nltk_data] Downloading package stopwords to /root/nltk_data...\n",
      "[nltk_data]   Unzipping corpora/stopwords.zip.\n"
     ]
    },
    {
     "data": {
      "text/plain": [
       "True"
      ]
     },
     "execution_count": 1,
     "metadata": {
      "tags": []
     },
     "output_type": "execute_result"
    }
   ],
   "source": [
    "import nltk\n",
    "nltk.download('punkt')\n",
    "nltk.download('stopwords')"
   ]
  },
  {
   "cell_type": "code",
   "execution_count": null,
   "metadata": {
    "colab": {},
    "colab_type": "code",
    "id": "yzJK6K7sL3WG"
   },
   "outputs": [],
   "source": [
    "from nltk.tokenize import sent_tokenize\n",
    "from nltk.tokenize import word_tokenize\n",
    "from nltk.corpus import stopwords"
   ]
  },
  {
   "cell_type": "code",
   "execution_count": null,
   "metadata": {
    "colab": {},
    "colab_type": "code",
    "id": "O8w33bkOMAHD"
   },
   "outputs": [],
   "source": [
    "text=\"A barber is a person. a barber is good person. a barber is huge person. \\\n",
    "he Knew A Secret! The Secret He Kept is huge secret. Huge secret. His barber kept his word. \\\n",
    "a barber kept his word. His barber kept his secret. \\\n",
    "But keeping and keeping such a huge secret to himself was driving the barber crazy. \\\n",
    "the barber went up a huge mountain.\""
   ]
  },
  {
   "cell_type": "markdown",
   "metadata": {
    "colab_type": "text",
    "id": "ND68lnRnOPe_"
   },
   "source": [
    "<br>"
   ]
  },
  {
   "cell_type": "markdown",
   "metadata": {
    "colab_type": "text",
    "id": "KItHmaCIMJOr"
   },
   "source": [
    "#### 6.1.1.1 문장 토큰화"
   ]
  },
  {
   "cell_type": "code",
   "execution_count": 4,
   "metadata": {
    "colab": {
     "base_uri": "https://localhost:8080/",
     "height": 55
    },
    "colab_type": "code",
    "id": "ztLIGxzmMwD-",
    "outputId": "98e703b0-179f-40ba-ac6a-388e2c132bde"
   },
   "outputs": [
    {
     "name": "stdout",
     "output_type": "stream",
     "text": [
      "['A barber is a person.', 'a barber is good person.', 'a barber is huge person.', 'he Knew A Secret!', 'The Secret He Kept is huge secret.', 'Huge secret.', 'His barber kept his word.', 'a barber kept his word.', 'His barber kept his secret.', 'But keeping and keeping such a huge secret to himself was driving the barber crazy.', 'the barber went up a huge mountain.']\n"
     ]
    }
   ],
   "source": [
    "# 문장 토큰화\n",
    "text = sent_tokenize(text)\n",
    "print(text)"
   ]
  },
  {
   "cell_type": "markdown",
   "metadata": {
    "colab_type": "text",
    "id": "e6KYRWMgORCE"
   },
   "source": [
    "<br>"
   ]
  },
  {
   "cell_type": "markdown",
   "metadata": {
    "colab_type": "text",
    "id": "Ja4ie4dDMztp"
   },
   "source": [
    "#### 6.1.1.2 정제 및 단어 토큰화\n",
    "\n",
    "- 정제 작업을 병행하며 단어 토큰화 수행"
   ]
  },
  {
   "cell_type": "code",
   "execution_count": null,
   "metadata": {
    "colab": {},
    "colab_type": "code",
    "id": "fJAsbO6gNAsj"
   },
   "outputs": [],
   "source": [
    "# 정제와 단어 토큰화\n",
    "vocab = {} # 파이썬의 dictionary 자료형\n",
    "sentences = []\n",
    "stop_words = set(stopwords.words('english'))\n",
    "\n",
    "for i in text:\n",
    "  sentence = word_tokenize(i) # 단어 토큰화 수행\n",
    "  result = []\n",
    "\n",
    "  for word in sentence:\n",
    "    word = word.lower() # 모든 단어를 소문자화하여 단어의 개수를 줄임\n",
    "    if word not in stop_words: # 단어 토큰화된 결과에 대해서 불용어 제거\n",
    "      if len(word) > 2: # 단어 길이가 2이하인 경우에 대해 단어 제거\n",
    "        result.append(word)\n",
    "        if word not in vocab:\n",
    "          vocab[word] = 0\n",
    "        vocab[word] += 1\n",
    "  sentences.append(result)"
   ]
  },
  {
   "cell_type": "code",
   "execution_count": 6,
   "metadata": {
    "colab": {
     "base_uri": "https://localhost:8080/",
     "height": 55
    },
    "colab_type": "code",
    "id": "0jJEWdXzNrIi",
    "outputId": "2ffa0b03-90a1-4f90-8959-37f58c36f536"
   },
   "outputs": [
    {
     "name": "stdout",
     "output_type": "stream",
     "text": [
      "[['barber', 'person'], ['barber', 'good', 'person'], ['barber', 'huge', 'person'], ['knew', 'secret'], ['secret', 'kept', 'huge', 'secret'], ['huge', 'secret'], ['barber', 'kept', 'word'], ['barber', 'kept', 'word'], ['barber', 'kept', 'secret'], ['keeping', 'keeping', 'huge', 'secret', 'driving', 'barber', 'crazy'], ['barber', 'went', 'huge', 'mountain']]\n"
     ]
    }
   ],
   "source": [
    "print(sentences)"
   ]
  },
  {
   "cell_type": "markdown",
   "metadata": {
    "colab_type": "text",
    "id": "fiAxriQ6OSVZ"
   },
   "source": [
    "<br>"
   ]
  },
  {
   "cell_type": "markdown",
   "metadata": {
    "colab_type": "text",
    "id": "-vtgMA9qOLNA"
   },
   "source": [
    "\n",
    "#### 6.1.1.3 단어별 빈도수 확인"
   ]
  },
  {
   "cell_type": "code",
   "execution_count": 7,
   "metadata": {
    "colab": {
     "base_uri": "https://localhost:8080/",
     "height": 55
    },
    "colab_type": "code",
    "id": "GtSrF4_qNwoY",
    "outputId": "a09890b0-57ff-4590-bfa5-e083532cca83"
   },
   "outputs": [
    {
     "name": "stdout",
     "output_type": "stream",
     "text": [
      "{'barber': 8, 'person': 3, 'good': 1, 'huge': 5, 'knew': 1, 'secret': 6, 'kept': 4, 'word': 2, 'keeping': 2, 'driving': 1, 'crazy': 1, 'went': 1, 'mountain': 1}\n"
     ]
    }
   ],
   "source": [
    "# 중복을 제거한 단어와 각 단어에 대한 빈도수\n",
    "print(vocab)"
   ]
  },
  {
   "cell_type": "markdown",
   "metadata": {
    "colab_type": "text",
    "id": "jFKqPU5zN4_3"
   },
   "source": [
    "- 단어를 키(key)로, 단어에 대한 빈도수가 값(value)으로 저장되어 있음"
   ]
  },
  {
   "cell_type": "code",
   "execution_count": 8,
   "metadata": {
    "colab": {
     "base_uri": "https://localhost:8080/",
     "height": 35
    },
    "colab_type": "code",
    "id": "kirw2MEUOBBq",
    "outputId": "dc704d15-9648-4036-f6aa-5add12880714"
   },
   "outputs": [
    {
     "name": "stdout",
     "output_type": "stream",
     "text": [
      "8\n"
     ]
    }
   ],
   "source": [
    "print(vocab[\"barber\"]) # \"barber\" 라는 단어의 빈도수 출력"
   ]
  },
  {
   "cell_type": "markdown",
   "metadata": {
    "colab_type": "text",
    "id": "d7Gr-uJEODNf"
   },
   "source": [
    "<br>"
   ]
  },
  {
   "cell_type": "markdown",
   "metadata": {
    "colab_type": "text",
    "id": "lRlqnwwgOT3-"
   },
   "source": [
    "#### 6.1.1.4 빈도수가 높은 순서대로 정렬"
   ]
  },
  {
   "cell_type": "code",
   "execution_count": 9,
   "metadata": {
    "colab": {
     "base_uri": "https://localhost:8080/",
     "height": 55
    },
    "colab_type": "code",
    "id": "l_LwF8bZOXtC",
    "outputId": "5c06969a-d783-4654-e34a-b6d028c44e38"
   },
   "outputs": [
    {
     "name": "stdout",
     "output_type": "stream",
     "text": [
      "[('barber', 8), ('secret', 6), ('huge', 5), ('kept', 4), ('person', 3), ('word', 2), ('keeping', 2), ('good', 1), ('knew', 1), ('driving', 1), ('crazy', 1), ('went', 1), ('mountain', 1)]\n"
     ]
    }
   ],
   "source": [
    "vocab_sorted = sorted(vocab.items(), key=lambda x: x[1], reverse=True)\n",
    "print(vocab_sorted)"
   ]
  },
  {
   "cell_type": "markdown",
   "metadata": {
    "colab_type": "text",
    "id": "VoqvXiChOeGO"
   },
   "source": [
    "<br>"
   ]
  },
  {
   "cell_type": "markdown",
   "metadata": {
    "colab_type": "text",
    "id": "PPUl9vgKOhOt"
   },
   "source": [
    "#### 6.1.1.5 높은 빈도수를 가진 단어 순서대로 정수 인덱스 부여"
   ]
  },
  {
   "cell_type": "code",
   "execution_count": null,
   "metadata": {
    "colab": {},
    "colab_type": "code",
    "id": "Ou0meyDKOmMh"
   },
   "outputs": [],
   "source": [
    "word_to_index = {}\n",
    "i = 0\n",
    "\n",
    "for (word, frequency) in vocab_sorted:\n",
    "  if frequency > 1: # 정제(Cleaning) 챕터에서 언급했듯이 빈도수가 적은 단어 제외\n",
    "    i = i+1\n",
    "    word_to_index[word] = i  "
   ]
  },
  {
   "cell_type": "code",
   "execution_count": 11,
   "metadata": {
    "colab": {
     "base_uri": "https://localhost:8080/",
     "height": 35
    },
    "colab_type": "code",
    "id": "HFyhcgegOnhl",
    "outputId": "cf328b6a-4a8c-4083-b489-519d07845033"
   },
   "outputs": [
    {
     "name": "stdout",
     "output_type": "stream",
     "text": [
      "{'barber': 1, 'secret': 2, 'huge': 3, 'kept': 4, 'person': 5, 'word': 6, 'keeping': 7}\n"
     ]
    }
   ],
   "source": [
    "print(word_to_index)"
   ]
  },
  {
   "cell_type": "markdown",
   "metadata": {
    "colab_type": "text",
    "id": "YwLswMDFO2tl"
   },
   "source": [
    "<br>"
   ]
  },
  {
   "cell_type": "markdown",
   "metadata": {
    "colab_type": "text",
    "id": "lvljPdegO859"
   },
   "source": [
    "#### 6.1.1.6 빈도수 상위 n개 단어 사용\n",
    "\n",
    "- 텍스트 데이터에 있는 단어를 모두 사용하기 보다는 빈도수가 가장 높은 n개의 단어만 사용하고 싶은 경우가 많다.\n",
    "- 위 단어들은 빈도수가 높은 순으로 낮은 정수가 부여되어 있음\n",
    "- 빈도수 상위 n개의 단어만 사용하고 싶다.  \n",
    "$\\rightarrow$ `vocab`에서 정수값이 1부터 n까지인 단어들만 사용"
   ]
  },
  {
   "cell_type": "markdown",
   "metadata": {
    "colab_type": "text",
    "id": "bhAfalFNPQ-w"
   },
   "source": [
    "- 상위 5개 단어만 사용"
   ]
  },
  {
   "cell_type": "code",
   "execution_count": null,
   "metadata": {
    "colab": {},
    "colab_type": "code",
    "id": "IIeUqRngPTpA"
   },
   "outputs": [],
   "source": [
    "vocab_size = 5\n",
    "\n",
    "words_frequency = [w for w,c in word_to_index.items() if c >= vocab_size + 1] # 인덱스가 5 초과인 단어 제거\n",
    "\n",
    "for w in words_frequency:\n",
    "  del word_to_index[w] # 해당 단어에 대한 인덱스 정보 삭제"
   ]
  },
  {
   "cell_type": "code",
   "execution_count": 13,
   "metadata": {
    "colab": {
     "base_uri": "https://localhost:8080/",
     "height": 35
    },
    "colab_type": "code",
    "id": "M4ikfrIfPjcR",
    "outputId": "37f64711-2abe-4923-cbaf-48fd34b8ced9"
   },
   "outputs": [
    {
     "name": "stdout",
     "output_type": "stream",
     "text": [
      "{'barber': 1, 'secret': 2, 'huge': 3, 'kept': 4, 'person': 5}\n"
     ]
    }
   ],
   "source": [
    "print(word_to_index)"
   ]
  },
  {
   "cell_type": "markdown",
   "metadata": {
    "colab_type": "text",
    "id": "rzaPOqyvPlfM"
   },
   "source": [
    "- `word_to_index`에는 빈도수가 높은 상위 5개의 단어만 저장됨"
   ]
  },
  {
   "cell_type": "markdown",
   "metadata": {
    "colab_type": "text",
    "id": "oL_4vxlwmjUn"
   },
   "source": [
    "<br>"
   ]
  },
  {
   "cell_type": "markdown",
   "metadata": {
    "colab_type": "text",
    "id": "iQvsm7jFTx4l"
   },
   "source": [
    "#### 6.1.1.7 단어를 정수로 인코딩\n",
    "\n",
    "- `word_to_index`를 사용하여 단어 토큰화가 된 상태로 저장된 `sentences`에 있는 각 단어를 정수로 바꾼다."
   ]
  },
  {
   "cell_type": "code",
   "execution_count": 15,
   "metadata": {
    "colab": {
     "base_uri": "https://localhost:8080/",
     "height": 35
    },
    "colab_type": "code",
    "id": "PLz0swwkUBbl",
    "outputId": "33347116-ec7b-4ec4-d137-3ad6c1cd15d5"
   },
   "outputs": [
    {
     "name": "stdout",
     "output_type": "stream",
     "text": [
      "['barber', 'person']\n"
     ]
    }
   ],
   "source": [
    "print(sentences[0])"
   ]
  },
  {
   "cell_type": "markdown",
   "metadata": {
    "colab_type": "text",
    "id": "Yi2u7i3VUDCm"
   },
   "source": [
    "- 첫 번째 문장인 `sentences[0]`에 대해 `[1,5]`로 인코딩한다."
   ]
  },
  {
   "cell_type": "code",
   "execution_count": 16,
   "metadata": {
    "colab": {
     "base_uri": "https://localhost:8080/",
     "height": 35
    },
    "colab_type": "code",
    "id": "r9Gu93kIUOGc",
    "outputId": "0c5070c8-319c-491e-c4eb-d97d122ce8a8"
   },
   "outputs": [
    {
     "name": "stdout",
     "output_type": "stream",
     "text": [
      "['barber', 'good', 'person']\n"
     ]
    }
   ],
   "source": [
    "print(sentences[1])"
   ]
  },
  {
   "cell_type": "markdown",
   "metadata": {
    "colab_type": "text",
    "id": "kYSofnJWUP1F"
   },
   "source": [
    "- 그런데 두 번째 문장인 `sentences[1]`에는 `word_to_index`에는 존재하지 않는 단어인 'good'가 있다."
   ]
  },
  {
   "cell_type": "markdown",
   "metadata": {
    "colab_type": "text",
    "id": "y3O0_2mTUYVm"
   },
   "source": [
    "**Out-Of-Vocabulary(OOV)**\n",
    "\n",
    "- 위에 처럼 훈련 데이터 또는 테스트 데이터에 대해서 단어 집합에 존재하지 않는 단어들을 OOV라고 한다.\n",
    "- Out-Of-Vocabulary : 단어 집합에 없는 단어\n",
    "- `word_to_index`에 `OOV`란 단어를 새롭게 추가\n",
    "- 단어 집합에 없는 단어들은 `OOV`의 인덱스로 코딩한다."
   ]
  },
  {
   "cell_type": "code",
   "execution_count": null,
   "metadata": {
    "colab": {},
    "colab_type": "code",
    "id": "BRd7V7RIUxL7"
   },
   "outputs": [],
   "source": [
    "word_to_index['OOV'] = len(word_to_index) + 1"
   ]
  },
  {
   "cell_type": "code",
   "execution_count": 18,
   "metadata": {
    "colab": {
     "base_uri": "https://localhost:8080/",
     "height": 35
    },
    "colab_type": "code",
    "id": "Y6X9ZAV7U1kU",
    "outputId": "61b2a0b0-73a6-418e-fe00-1226f2a914f2"
   },
   "outputs": [
    {
     "name": "stdout",
     "output_type": "stream",
     "text": [
      "{'barber': 1, 'secret': 2, 'huge': 3, 'kept': 4, 'person': 5, 'OOV': 6}\n"
     ]
    }
   ],
   "source": [
    "print(word_to_index)"
   ]
  },
  {
   "cell_type": "markdown",
   "metadata": {
    "colab_type": "text",
    "id": "V51otC12U2uL"
   },
   "source": [
    "<br>"
   ]
  },
  {
   "cell_type": "markdown",
   "metadata": {
    "colab_type": "text",
    "id": "rL07B_b0U5CD"
   },
   "source": [
    "- 이제 `word_to_index`를 사용하여 `sentences`의 모든 단어들을 맵핑되는 정수로 인코딩"
   ]
  },
  {
   "cell_type": "code",
   "execution_count": null,
   "metadata": {
    "colab": {},
    "colab_type": "code",
    "id": "lpMtoKSFVAnn"
   },
   "outputs": [],
   "source": [
    "encoded = []\n",
    "\n",
    "for s in sentences:\n",
    "  temp = []\n",
    "\n",
    "  for w in s:\n",
    "    try:\n",
    "      temp.append(word_to_index[w])\n",
    "    except KeyError:\n",
    "      temp.append(word_to_index['OOV'])\n",
    "\n",
    "  encoded.append(temp)"
   ]
  },
  {
   "cell_type": "code",
   "execution_count": 22,
   "metadata": {
    "colab": {
     "base_uri": "https://localhost:8080/",
     "height": 55
    },
    "colab_type": "code",
    "id": "4wz7Y9CqVGB8",
    "outputId": "451d4347-e588-47c5-b730-f88e5950f61e"
   },
   "outputs": [
    {
     "name": "stdout",
     "output_type": "stream",
     "text": [
      "[[1, 5], [1, 6, 5], [1, 3, 5], [6, 2], [2, 4, 3, 2], [3, 2], [1, 4, 6], [1, 4, 6], [1, 4, 2], [6, 6, 3, 2, 6, 1, 6], [1, 6, 3, 6]]\n"
     ]
    }
   ],
   "source": [
    "print(encoded)"
   ]
  },
  {
   "cell_type": "markdown",
   "metadata": {
    "colab_type": "text",
    "id": "EQwne3sLVWi8"
   },
   "source": [
    "<br>"
   ]
  },
  {
   "cell_type": "markdown",
   "metadata": {
    "colab_type": "text",
    "id": "sdaSZObQVZFS"
   },
   "source": [
    "- 정수 인코딩은 `Counter`, `FreqDist`, `enumerate` 또는 케라스 토크나이저를 사용하는 것을 권장한다."
   ]
  },
  {
   "cell_type": "markdown",
   "metadata": {
    "colab_type": "text",
    "id": "Ri3apbTAVjHy"
   },
   "source": [
    "<br>"
   ]
  },
  {
   "cell_type": "markdown",
   "metadata": {
    "colab_type": "text",
    "id": "Lw8IMNK0Vj5C"
   },
   "source": [
    "### 6.1.2 `Counter` 사용하기"
   ]
  },
  {
   "cell_type": "code",
   "execution_count": null,
   "metadata": {
    "colab": {},
    "colab_type": "code",
    "id": "fexd-y8CVqV_"
   },
   "outputs": [],
   "source": [
    "from collections import Counter"
   ]
  },
  {
   "cell_type": "code",
   "execution_count": 24,
   "metadata": {
    "colab": {
     "base_uri": "https://localhost:8080/",
     "height": 55
    },
    "colab_type": "code",
    "id": "B5TsVaBkVueD",
    "outputId": "ba687ee7-46e9-4ad9-85e2-933f68f3cd2a"
   },
   "outputs": [
    {
     "name": "stdout",
     "output_type": "stream",
     "text": [
      "[['barber', 'person'], ['barber', 'good', 'person'], ['barber', 'huge', 'person'], ['knew', 'secret'], ['secret', 'kept', 'huge', 'secret'], ['huge', 'secret'], ['barber', 'kept', 'word'], ['barber', 'kept', 'word'], ['barber', 'kept', 'secret'], ['keeping', 'keeping', 'huge', 'secret', 'driving', 'barber', 'crazy'], ['barber', 'went', 'huge', 'mountain']]\n"
     ]
    }
   ],
   "source": [
    "print(sentences)"
   ]
  },
  {
   "cell_type": "markdown",
   "metadata": {
    "colab_type": "text",
    "id": "9KCiHugqWWLA"
   },
   "source": [
    "- `sentences`는 단어 토큰화가 된 결과가 저장되어 있다."
   ]
  },
  {
   "cell_type": "markdown",
   "metadata": {
    "colab_type": "text",
    "id": "BLlph5-TWYRn"
   },
   "source": [
    "<br>"
   ]
  },
  {
   "cell_type": "markdown",
   "metadata": {
    "colab_type": "text",
    "id": "Fe8Uk9sWVv8q"
   },
   "source": [
    "#### 6.1.2.1 단어 집합 만들기\n",
    "\n",
    "- 단어 집합(vocabulary)을 만들기 위해서 `sentences`에서 문장의 경계인 `[,]`를 제거하고 단어들을 하나의 리스트로 만든다."
   ]
  },
  {
   "cell_type": "code",
   "execution_count": 25,
   "metadata": {
    "colab": {
     "base_uri": "https://localhost:8080/",
     "height": 55
    },
    "colab_type": "code",
    "id": "-F9kNA-NV7DZ",
    "outputId": "31d0ab2b-833f-4357-dd6a-7651a7181612"
   },
   "outputs": [
    {
     "name": "stdout",
     "output_type": "stream",
     "text": [
      "['barber', 'person', 'barber', 'good', 'person', 'barber', 'huge', 'person', 'knew', 'secret', 'secret', 'kept', 'huge', 'secret', 'huge', 'secret', 'barber', 'kept', 'word', 'barber', 'kept', 'word', 'barber', 'kept', 'secret', 'keeping', 'keeping', 'huge', 'secret', 'driving', 'barber', 'crazy', 'barber', 'went', 'huge', 'mountain']\n"
     ]
    }
   ],
   "source": [
    "words = sum(sentences, [])\n",
    "# 위 작업은 words = np.hstack(sentences)로도 수행 가능\n",
    "print(words)"
   ]
  },
  {
   "cell_type": "markdown",
   "metadata": {
    "colab_type": "text",
    "id": "eME8vwKQWOZi"
   },
   "source": [
    "<br>"
   ]
  },
  {
   "cell_type": "markdown",
   "metadata": {
    "colab_type": "text",
    "id": "Lg4yyZJuWjMo"
   },
   "source": [
    "#### 6.1.2.2 `Counter()` : 중복 단어 제거 및 단어 빈도수 기록\n",
    "\n",
    "- 파이썬의 `Counter()`의 입력으로 사용하면 중복을 제거하고 단어의 빈도수를 기록한다."
   ]
  },
  {
   "cell_type": "code",
   "execution_count": 28,
   "metadata": {
    "colab": {
     "base_uri": "https://localhost:8080/",
     "height": 55
    },
    "colab_type": "code",
    "id": "G3nTLZtOWsf0",
    "outputId": "58409866-4a92-41dd-b3ad-f5bfb479013a"
   },
   "outputs": [
    {
     "name": "stdout",
     "output_type": "stream",
     "text": [
      "Counter({'barber': 8, 'secret': 6, 'huge': 5, 'kept': 4, 'person': 3, 'word': 2, 'keeping': 2, 'good': 1, 'knew': 1, 'driving': 1, 'crazy': 1, 'went': 1, 'mountain': 1})\n"
     ]
    }
   ],
   "source": [
    "# 파이썬의 Counter 모듈을 이용하면 모든 빈도를 쉽게 계산할 수 있다.\n",
    "vocab = Counter(words)\n",
    "print(vocab)"
   ]
  },
  {
   "cell_type": "markdown",
   "metadata": {
    "colab_type": "text",
    "id": "phlhgBXhWy0h"
   },
   "source": [
    "- 단어를 키(key)로, 단어에 대한 빈도수가 값(value)으로 저장되어 있다."
   ]
  },
  {
   "cell_type": "markdown",
   "metadata": {
    "colab_type": "text",
    "id": "L3onmpxsW5IU"
   },
   "source": [
    "- `vocab`에 단어를 입력하면 빈도수를 리턴한다."
   ]
  },
  {
   "cell_type": "code",
   "execution_count": 29,
   "metadata": {
    "colab": {
     "base_uri": "https://localhost:8080/",
     "height": 35
    },
    "colab_type": "code",
    "id": "32w6QE8EW838",
    "outputId": "c315e4c5-76c1-40c2-beb3-96f03550ee2f"
   },
   "outputs": [
    {
     "data": {
      "text/plain": [
       "8"
      ]
     },
     "execution_count": 29,
     "metadata": {
      "tags": []
     },
     "output_type": "execute_result"
    }
   ],
   "source": [
    "vocab['barber']"
   ]
  },
  {
   "cell_type": "markdown",
   "metadata": {
    "colab_type": "text",
    "id": "cSafyHYLW-u9"
   },
   "source": [
    "<br>"
   ]
  },
  {
   "cell_type": "markdown",
   "metadata": {
    "colab_type": "text",
    "id": "bhNomqZwXBzG"
   },
   "source": [
    "#### 6.1.2.3 `Counter().most_common()` : 상위 빈도수 단어 추출\n",
    "\n",
    "- `most_common()`는 상위 빈도수를 가진 주어진 수의 단어만을 리턴한다."
   ]
  },
  {
   "cell_type": "markdown",
   "metadata": {
    "colab_type": "text",
    "id": "s4lwZJV4XPV4"
   },
   "source": [
    "- 등장 빈도수 상위 5개의 단어만 단어 집합으로 저장"
   ]
  },
  {
   "cell_type": "code",
   "execution_count": 30,
   "metadata": {
    "colab": {
     "base_uri": "https://localhost:8080/",
     "height": 35
    },
    "colab_type": "code",
    "id": "34R9KEMcXRx_",
    "outputId": "9348cf83-f5c2-4dc4-fd61-f5d9282b844b"
   },
   "outputs": [
    {
     "data": {
      "text/plain": [
       "[('barber', 8), ('secret', 6), ('huge', 5), ('kept', 4), ('person', 3)]"
      ]
     },
     "execution_count": 30,
     "metadata": {
      "tags": []
     },
     "output_type": "execute_result"
    }
   ],
   "source": [
    "vocab_size = 5\n",
    "vocab = vocab.most_common(vocab_size)\n",
    "vocab"
   ]
  },
  {
   "cell_type": "markdown",
   "metadata": {
    "colab_type": "text",
    "id": "dpIb1ZRcXWhv"
   },
   "source": [
    "<br>"
   ]
  },
  {
   "cell_type": "markdown",
   "metadata": {
    "colab_type": "text",
    "id": "KBciEuQCXZS2"
   },
   "source": [
    "#### 6.1.2.4 정수 인덱스 인코딩\n",
    "\n",
    "- 높은 빈도수를 가진 단어일수록 낮은 정수 인덱스를 부여"
   ]
  },
  {
   "cell_type": "code",
   "execution_count": null,
   "metadata": {
    "colab": {},
    "colab_type": "code",
    "id": "iXWMCTk8Xf72"
   },
   "outputs": [],
   "source": [
    "word_to_index = {}\n",
    "i = 0\n",
    "\n",
    "for (word, frequency) in vocab:\n",
    "  i = i+1\n",
    "  word_to_index[word] = i"
   ]
  },
  {
   "cell_type": "code",
   "execution_count": 32,
   "metadata": {
    "colab": {
     "base_uri": "https://localhost:8080/",
     "height": 35
    },
    "colab_type": "code",
    "id": "tPNA-y6MXnUX",
    "outputId": "9a06d10e-8349-4017-8267-c86e38d04c5f"
   },
   "outputs": [
    {
     "name": "stdout",
     "output_type": "stream",
     "text": [
      "{'barber': 1, 'secret': 2, 'huge': 3, 'kept': 4, 'person': 5}\n"
     ]
    }
   ],
   "source": [
    "print(word_to_index)"
   ]
  },
  {
   "cell_type": "markdown",
   "metadata": {
    "colab_type": "text",
    "id": "aD8vgPgVXpWn"
   },
   "source": [
    "<br>"
   ]
  },
  {
   "cell_type": "markdown",
   "metadata": {
    "colab_type": "text",
    "id": "87veuFqkXrM2"
   },
   "source": [
    "### 6.1.3 `NLTK`의 `FreqDist` 사용하기"
   ]
  },
  {
   "cell_type": "markdown",
   "metadata": {
    "colab_type": "text",
    "id": "lLSnJ-AbXtvC"
   },
   "source": [
    "- `NLTK`에서는 빈도수 계산 도구인 `FreqDist()`를 지원\n",
    "- `Counter()`랑 같은 방법으로 사용할 수 있다."
   ]
  },
  {
   "cell_type": "code",
   "execution_count": null,
   "metadata": {
    "colab": {},
    "colab_type": "code",
    "id": "PIxwrwVEg0Hz"
   },
   "outputs": [],
   "source": [
    "from nltk import FreqDist\n",
    "import numpy as np"
   ]
  },
  {
   "cell_type": "code",
   "execution_count": 35,
   "metadata": {
    "colab": {
     "base_uri": "https://localhost:8080/",
     "height": 215
    },
    "colab_type": "code",
    "id": "pyG-7sCjg_aT",
    "outputId": "c577ae48-c000-40ac-d03a-e05c54447f68"
   },
   "outputs": [
    {
     "data": {
      "text/plain": [
       "[['barber', 'person'],\n",
       " ['barber', 'good', 'person'],\n",
       " ['barber', 'huge', 'person'],\n",
       " ['knew', 'secret'],\n",
       " ['secret', 'kept', 'huge', 'secret'],\n",
       " ['huge', 'secret'],\n",
       " ['barber', 'kept', 'word'],\n",
       " ['barber', 'kept', 'word'],\n",
       " ['barber', 'kept', 'secret'],\n",
       " ['keeping', 'keeping', 'huge', 'secret', 'driving', 'barber', 'crazy'],\n",
       " ['barber', 'went', 'huge', 'mountain']]"
      ]
     },
     "execution_count": 35,
     "metadata": {
      "tags": []
     },
     "output_type": "execute_result"
    }
   ],
   "source": [
    "sentences"
   ]
  },
  {
   "cell_type": "markdown",
   "metadata": {
    "colab_type": "text",
    "id": "kRw87dLmhaXq"
   },
   "source": [
    "<br>"
   ]
  },
  {
   "cell_type": "markdown",
   "metadata": {
    "colab_type": "text",
    "id": "jyuuOhghhaNA"
   },
   "source": [
    "#### 6.1.3.1 단어 집합 생성"
   ]
  },
  {
   "cell_type": "code",
   "execution_count": 36,
   "metadata": {
    "colab": {
     "base_uri": "https://localhost:8080/",
     "height": 125
    },
    "colab_type": "code",
    "id": "l6YlY7PPhF01",
    "outputId": "3ef7207b-7011-4841-d044-fa5fd30fc4ad"
   },
   "outputs": [
    {
     "data": {
      "text/plain": [
       "array(['barber', 'person', 'barber', 'good', 'person', 'barber', 'huge',\n",
       "       'person', 'knew', 'secret', 'secret', 'kept', 'huge', 'secret',\n",
       "       'huge', 'secret', 'barber', 'kept', 'word', 'barber', 'kept',\n",
       "       'word', 'barber', 'kept', 'secret', 'keeping', 'keeping', 'huge',\n",
       "       'secret', 'driving', 'barber', 'crazy', 'barber', 'went', 'huge',\n",
       "       'mountain'], dtype='<U8')"
      ]
     },
     "execution_count": 36,
     "metadata": {
      "tags": []
     },
     "output_type": "execute_result"
    }
   ],
   "source": [
    "np.hstack(sentences)"
   ]
  },
  {
   "cell_type": "code",
   "execution_count": null,
   "metadata": {
    "colab": {},
    "colab_type": "code",
    "id": "wZCRx5oyg2yF"
   },
   "outputs": [],
   "source": [
    "# np.hstack으로 문장 구분을 제거하여 입력으로 사용\n",
    "# ex) ['barber', 'person', 'barber', 'good' ... 중략 ...\n",
    "vocab = FreqDist(np.hstack(sentences))"
   ]
  },
  {
   "cell_type": "code",
   "execution_count": 39,
   "metadata": {
    "colab": {
     "base_uri": "https://localhost:8080/",
     "height": 251
    },
    "colab_type": "code",
    "id": "ni7HWAALhMUs",
    "outputId": "b43d04ec-fa20-4b6e-de48-fe5971bba3dd"
   },
   "outputs": [
    {
     "data": {
      "text/plain": [
       "FreqDist({'barber': 8,\n",
       "          'crazy': 1,\n",
       "          'driving': 1,\n",
       "          'good': 1,\n",
       "          'huge': 5,\n",
       "          'keeping': 2,\n",
       "          'kept': 4,\n",
       "          'knew': 1,\n",
       "          'mountain': 1,\n",
       "          'person': 3,\n",
       "          'secret': 6,\n",
       "          'went': 1,\n",
       "          'word': 2})"
      ]
     },
     "execution_count": 39,
     "metadata": {
      "tags": []
     },
     "output_type": "execute_result"
    }
   ],
   "source": [
    "vocab"
   ]
  },
  {
   "cell_type": "code",
   "execution_count": 41,
   "metadata": {
    "colab": {
     "base_uri": "https://localhost:8080/",
     "height": 35
    },
    "colab_type": "code",
    "id": "0kYe29SOhNZ8",
    "outputId": "131030b4-b9d1-40fd-8f4b-96030da8ff8a"
   },
   "outputs": [
    {
     "name": "stdout",
     "output_type": "stream",
     "text": [
      "8\n"
     ]
    }
   ],
   "source": [
    "print(vocab['barber'])"
   ]
  },
  {
   "cell_type": "markdown",
   "metadata": {
    "colab_type": "text",
    "id": "jWXSAcVxhREk"
   },
   "source": [
    "<br>"
   ]
  },
  {
   "cell_type": "markdown",
   "metadata": {
    "colab_type": "text",
    "id": "BB5JukNphWoz"
   },
   "source": [
    "#### 6.1.3.2 `FreqDist().most_common()`"
   ]
  },
  {
   "cell_type": "markdown",
   "metadata": {
    "colab_type": "text",
    "id": "louBLpSlhiUz"
   },
   "source": [
    "- `most_common()`은 상위 빈도수를 가진 주어진 수의 단어만을 리턴"
   ]
  },
  {
   "cell_type": "code",
   "execution_count": 42,
   "metadata": {
    "colab": {
     "base_uri": "https://localhost:8080/",
     "height": 35
    },
    "colab_type": "code",
    "id": "SONrjaiwhmof",
    "outputId": "7f346814-98fa-4b07-cf90-df5baab9653c"
   },
   "outputs": [
    {
     "data": {
      "text/plain": [
       "[('barber', 8), ('secret', 6), ('huge', 5), ('kept', 4), ('person', 3)]"
      ]
     },
     "execution_count": 42,
     "metadata": {
      "tags": []
     },
     "output_type": "execute_result"
    }
   ],
   "source": [
    "vocab_size = 5\n",
    "vocab = vocab.most_common(vocab_size)\n",
    "vocab"
   ]
  },
  {
   "cell_type": "markdown",
   "metadata": {
    "colab_type": "text",
    "id": "NCAhZswFhrCs"
   },
   "source": [
    "- `Counter()`의 `most_common()`와 결과가 동일"
   ]
  },
  {
   "cell_type": "markdown",
   "metadata": {
    "colab_type": "text",
    "id": "Ybez25mxhxbp"
   },
   "source": [
    "<br>"
   ]
  },
  {
   "cell_type": "markdown",
   "metadata": {
    "colab_type": "text",
    "id": "yycNl-EMhyLL"
   },
   "source": [
    "### 6.1.3.3 정수 인덱스 인코딩"
   ]
  },
  {
   "cell_type": "markdown",
   "metadata": {
    "colab_type": "text",
    "id": "gZudwBcsh1D5"
   },
   "source": [
    "- `enumerate()`를 사용하여 좀 더 짧은 코드로 인덱스를 부여"
   ]
  },
  {
   "cell_type": "code",
   "execution_count": 43,
   "metadata": {
    "colab": {
     "base_uri": "https://localhost:8080/",
     "height": 35
    },
    "colab_type": "code",
    "id": "ex9qh461h6YG",
    "outputId": "9be5cbdf-93fc-4eaf-e257-3f129a7f8ad6"
   },
   "outputs": [
    {
     "name": "stdout",
     "output_type": "stream",
     "text": [
      "{'barber': 1, 'secret': 2, 'huge': 3, 'kept': 4, 'person': 5}\n"
     ]
    }
   ],
   "source": [
    "word_to_index = {word[0]: index + 1 for index, word in enumerate(vocab)}\n",
    "print(word_to_index)"
   ]
  },
  {
   "cell_type": "markdown",
   "metadata": {
    "colab_type": "text",
    "id": "O23OHc8kiEHq"
   },
   "source": [
    "<br>"
   ]
  },
  {
   "cell_type": "markdown",
   "metadata": {
    "colab_type": "text",
    "id": "YBDBsNrsiGDi"
   },
   "source": [
    "### 6.1.4 `enumerate` 이해하기"
   ]
  },
  {
   "cell_type": "markdown",
   "metadata": {
    "colab_type": "text",
    "id": "AF9jMajiiJ5-"
   },
   "source": [
    "- `enumerate()`는 순서가 있는 자료형(list, set, tuple, dictionary, string)을 입력으로 받아 인덱스를 순차적으로 함께 리턴한다."
   ]
  },
  {
   "cell_type": "code",
   "execution_count": 44,
   "metadata": {
    "colab": {
     "base_uri": "https://localhost:8080/",
     "height": 107
    },
    "colab_type": "code",
    "id": "pr9OnmCHiQUy",
    "outputId": "7efbe2f7-3ee2-4cad-bf5b-f57e317fe861"
   },
   "outputs": [
    {
     "name": "stdout",
     "output_type": "stream",
     "text": [
      "value : a, index : 0\n",
      "value : b, index : 1\n",
      "value : c, index : 2\n",
      "value : d, index : 3\n",
      "value : e, index : 4\n"
     ]
    }
   ],
   "source": [
    "test=['a', 'b', 'c', 'd', 'e']\n",
    "\n",
    "for index, value in enumerate(test): # 입력의 순서대로 0부터 인덱스를 부여\n",
    "  print('value : {}, index : {}'.format(value, index))\n"
   ]
  },
  {
   "cell_type": "markdown",
   "metadata": {
    "colab_type": "text",
    "id": "aSkjM7wwicX6"
   },
   "source": [
    "<br>"
   ]
  },
  {
   "cell_type": "markdown",
   "metadata": {
    "colab_type": "text",
    "id": "UQqdE4RIieAh"
   },
   "source": [
    "## 6.2 케라스(Keras)의 텍스트 전처리"
   ]
  },
  {
   "cell_type": "markdown",
   "metadata": {
    "colab_type": "text",
    "id": "DYYg1L70ihtO"
   },
   "source": [
    "- 케라스(Keras)는 기본적인 전처리를 위한 도구를 제공"
   ]
  },
  {
   "cell_type": "markdown",
   "metadata": {
    "colab_type": "text",
    "id": "dIExfUSTkM22"
   },
   "source": [
    "<br>"
   ]
  },
  {
   "cell_type": "markdown",
   "metadata": {
    "colab_type": "text",
    "id": "eb-YKISZkNmO"
   },
   "source": [
    "### 6.2.1 `Tokenizer`"
   ]
  },
  {
   "cell_type": "markdown",
   "metadata": {
    "colab_type": "text",
    "id": "bhDr9itEkQjt"
   },
   "source": [
    "- 정수 인코딩을 위해서 케라스의 전처리 도구인 토크나이저(`Tokenizer`)를 사용"
   ]
  },
  {
   "cell_type": "code",
   "execution_count": 45,
   "metadata": {
    "colab": {
     "base_uri": "https://localhost:8080/",
     "height": 53
    },
    "colab_type": "code",
    "id": "a__lAS9OkVXi",
    "outputId": "879aa659-bd0d-42fc-d99e-78f898e0da3e"
   },
   "outputs": [
    {
     "name": "stdout",
     "output_type": "stream",
     "text": [
      "TensorFlow 2.x selected.\n"
     ]
    },
    {
     "data": {
      "text/plain": [
       "'2.1.0'"
      ]
     },
     "execution_count": 45,
     "metadata": {
      "tags": []
     },
     "output_type": "execute_result"
    }
   ],
   "source": [
    "%tensorflow_version 2.x\n",
    "\n",
    "import tensorflow as tf\n",
    "tf.__version__"
   ]
  },
  {
   "cell_type": "code",
   "execution_count": null,
   "metadata": {
    "colab": {},
    "colab_type": "code",
    "id": "WsAp1qGtkXRf"
   },
   "outputs": [],
   "source": [
    "from tensorflow.keras.preprocessing.text import Tokenizer"
   ]
  },
  {
   "cell_type": "code",
   "execution_count": null,
   "metadata": {
    "colab": {},
    "colab_type": "code",
    "id": "kUoG780pkcN2"
   },
   "outputs": [],
   "source": [
    "sentences=[['barber', 'person'], ['barber', 'good', 'person'], ['barber', 'huge', 'person'], \n",
    "           ['knew', 'secret'], ['secret', 'kept', 'huge', 'secret'], ['huge', 'secret'], \n",
    "           ['barber', 'kept', 'word'], ['barber', 'kept', 'word'], ['barber', 'kept', 'secret'], \n",
    "           ['keeping', 'keeping', 'huge', 'secret', 'driving', 'barber', 'crazy'], \n",
    "           ['barber', 'went', 'huge', 'mountain']]"
   ]
  },
  {
   "cell_type": "markdown",
   "metadata": {
    "colab_type": "text",
    "id": "o50VQkbzkr0k"
   },
   "source": [
    "<br>"
   ]
  },
  {
   "cell_type": "markdown",
   "metadata": {
    "colab_type": "text",
    "id": "c9eRLfR7krM9"
   },
   "source": [
    "#### 6.2.1.1 `fit_on_text()`\n",
    "\n",
    "- `fit_on_texts()`는 입력한 텍스트로부터 단어 빈도수가 높은 순으로 낮은 정수 인덱스를 부여한다.\n",
    "- 정수 인코딩 작업이 이루어진다고 보면 된다.\n",
    "- `fit_on_texts()` 안에 코퍼스를 입력으로 하면 빈도수를 기준으로 단어 집합을 생성한다."
   ]
  },
  {
   "cell_type": "code",
   "execution_count": null,
   "metadata": {
    "colab": {},
    "colab_type": "code",
    "id": "E-X5W4RpkkLW"
   },
   "outputs": [],
   "source": [
    "tokenizer = Tokenizer()\n",
    "tokenizer.fit_on_texts(sentences)"
   ]
  },
  {
   "cell_type": "markdown",
   "metadata": {
    "colab_type": "text",
    "id": "xawMHJVklA4-"
   },
   "source": [
    "<br>"
   ]
  },
  {
   "cell_type": "markdown",
   "metadata": {
    "colab_type": "text",
    "id": "st3mnYr9lCmV"
   },
   "source": [
    "#### 6.2.1.2 `word_index`\n",
    "\n",
    "- 각 단어에 인덱스가 어떻게 부여되었는 지를 보려면, `word_index`를 사용한다."
   ]
  },
  {
   "cell_type": "code",
   "execution_count": 49,
   "metadata": {
    "colab": {
     "base_uri": "https://localhost:8080/",
     "height": 55
    },
    "colab_type": "code",
    "id": "bLBuBU7OlIOl",
    "outputId": "b0616cad-aa59-437d-b096-29cd4ba28e92"
   },
   "outputs": [
    {
     "name": "stdout",
     "output_type": "stream",
     "text": [
      "{'barber': 1, 'secret': 2, 'huge': 3, 'kept': 4, 'person': 5, 'word': 6, 'keeping': 7, 'good': 8, 'knew': 9, 'driving': 10, 'crazy': 11, 'went': 12, 'mountain': 13}\n"
     ]
    }
   ],
   "source": [
    "print(tokenizer.word_index)"
   ]
  },
  {
   "cell_type": "markdown",
   "metadata": {
    "colab_type": "text",
    "id": "nqXELtM9lKVN"
   },
   "source": [
    "- 각 단어의 빈도수가 높은 순서대로 인덱스가 부여된 것 확인"
   ]
  },
  {
   "cell_type": "markdown",
   "metadata": {
    "colab_type": "text",
    "id": "PBTpi1STlOwg"
   },
   "source": [
    "<br>"
   ]
  },
  {
   "cell_type": "markdown",
   "metadata": {
    "colab_type": "text",
    "id": "IMSo-tBflP3K"
   },
   "source": [
    "#### 6.2.1.3 `word_counts`\n",
    "\n",
    "- 각 단어가 카운트를 수행했을 때 몇 개였는 지 확인"
   ]
  },
  {
   "cell_type": "code",
   "execution_count": 50,
   "metadata": {
    "colab": {
     "base_uri": "https://localhost:8080/",
     "height": 55
    },
    "colab_type": "code",
    "id": "jhc-DR3elVAI",
    "outputId": "a32a2db4-d23a-402e-a5b5-5e50043dcf1b"
   },
   "outputs": [
    {
     "name": "stdout",
     "output_type": "stream",
     "text": [
      "OrderedDict([('barber', 8), ('person', 3), ('good', 1), ('huge', 5), ('knew', 1), ('secret', 6), ('kept', 4), ('word', 2), ('keeping', 2), ('driving', 1), ('crazy', 1), ('went', 1), ('mountain', 1)])\n"
     ]
    }
   ],
   "source": [
    "print(tokenizer.word_counts)"
   ]
  },
  {
   "cell_type": "markdown",
   "metadata": {
    "colab_type": "text",
    "id": "_-Hnry7ilWws"
   },
   "source": [
    "<br>"
   ]
  },
  {
   "cell_type": "markdown",
   "metadata": {
    "colab_type": "text",
    "id": "V6X6R6vblaLs"
   },
   "source": [
    "#### 6.2.1.4 `texts_to_sequences()`\n",
    "\n",
    "- 입력으로 들어온 코퍼스에 대해서 각 단어를 이미 정해진 인덱스로 변환한다."
   ]
  },
  {
   "cell_type": "code",
   "execution_count": 51,
   "metadata": {
    "colab": {
     "base_uri": "https://localhost:8080/",
     "height": 55
    },
    "colab_type": "code",
    "id": "dc8A-X8Vlf-M",
    "outputId": "28680964-06e6-48dc-9490-e2c74713303b"
   },
   "outputs": [
    {
     "name": "stdout",
     "output_type": "stream",
     "text": [
      "[[1, 5], [1, 8, 5], [1, 3, 5], [9, 2], [2, 4, 3, 2], [3, 2], [1, 4, 6], [1, 4, 6], [1, 4, 2], [7, 7, 3, 2, 10, 1, 11], [1, 12, 3, 13]]\n"
     ]
    }
   ],
   "source": [
    "print(tokenizer.texts_to_sequences(sentences))"
   ]
  },
  {
   "cell_type": "markdown",
   "metadata": {
    "colab_type": "text",
    "id": "r4WUvZdulikM"
   },
   "source": [
    "<br>"
   ]
  },
  {
   "cell_type": "markdown",
   "metadata": {
    "colab_type": "text",
    "id": "7Oxy2L1cloyT"
   },
   "source": [
    "#### 6.2.1.5 `Tokenizer(num_words)`\n",
    "\n",
    "- 위의 예제들에서 빈도수가 가장 높은 단어 n개만 사용하기 위해서 `most_common()`을 사용했다.\n",
    "- 케라스 토크나이저에서는 다음과 같이 `Tokenizer()` 객체 생성 시`num_words` 매개변수를 지정하여  빈도수가 높은 상위 몇 개의 단어만 사용하겠다고 지정할 수 있다.\n",
    "\n",
    "```python\n",
    "tokenizer = Tokenizer(num_words=숫자)\n",
    "```"
   ]
  },
  {
   "cell_type": "markdown",
   "metadata": {
    "colab_type": "text",
    "id": "w12sVrXYmFmr"
   },
   "source": [
    "- 상위 5개 단어를 사용한다고 토크나이저를 재정의"
   ]
  },
  {
   "cell_type": "code",
   "execution_count": null,
   "metadata": {
    "colab": {},
    "colab_type": "code",
    "id": "jKmkTR6ImLF-"
   },
   "outputs": [],
   "source": [
    "vocab_size = 5\n",
    "tokenizer = Tokenizer(num_words=vocab_size+1)\n",
    "tokenizer.fit_on_texts(sentences)"
   ]
  },
  {
   "cell_type": "markdown",
   "metadata": {
    "colab_type": "text",
    "id": "-LWfQ8crmUpr"
   },
   "source": [
    "**`num_words`에서 `+1`을 더해주는 이유**\n",
    "\n",
    "- `num_words`는 숫자를 0부터 카운트한다.\n",
    "- 만약 5를 넣으면 0 ~ 4번 단어 보존을 의미하게 된다.\n",
    "- 따라서 1번 단어부터 4번 단어만 남게 된다.\n",
    "- 그렇기 때문에 1 ~ 5번 단어까지 사용하고 싶다면 `num_words`에 `5 + 1`인 값을 넣어줘야 한다."
   ]
  },
  {
   "cell_type": "markdown",
   "metadata": {
    "colab_type": "text",
    "id": "KF1znMpbmni6"
   },
   "source": [
    "**케라스 토크나이저가 숫자 0까지 단어 집합의 크기로 산정하는 이유**\n",
    "\n",
    "- 자연어 처리에서 **패딩(padding)**이라는 작업 때문이다.\n",
    "- 추후에 학습할 내용이므로 우선 케라스 토크나이저를 사용할 때는 숫자 0도 단어 집합의 크기로 고려해야한다고 이해하고 넘어간다."
   ]
  },
  {
   "cell_type": "markdown",
   "metadata": {
    "colab_type": "text",
    "id": "Jkx54mPonGmh"
   },
   "source": [
    "<br>"
   ]
  },
  {
   "cell_type": "markdown",
   "metadata": {
    "colab_type": "text",
    "id": "52WTq9iBnIbp"
   },
   "source": [
    "#### 6.2.1.6 `Tokenizer(num_words).word_index`"
   ]
  },
  {
   "cell_type": "code",
   "execution_count": 54,
   "metadata": {
    "colab": {
     "base_uri": "https://localhost:8080/",
     "height": 55
    },
    "colab_type": "code",
    "id": "_oF7BUF5nKsJ",
    "outputId": "bfc73238-343f-47ed-8c7a-27158cf4cf14"
   },
   "outputs": [
    {
     "name": "stdout",
     "output_type": "stream",
     "text": [
      "{'barber': 1, 'secret': 2, 'huge': 3, 'kept': 4, 'person': 5, 'word': 6, 'keeping': 7, 'good': 8, 'knew': 9, 'driving': 10, 'crazy': 11, 'went': 12, 'mountain': 13}\n"
     ]
    }
   ],
   "source": [
    "print(tokenizer.word_index)"
   ]
  },
  {
   "cell_type": "markdown",
   "metadata": {
    "colab_type": "text",
    "id": "eOqCLkIhnOS7"
   },
   "source": [
    "- 토크나이저 객체 생성 시 상위 5개의 단어만 사용하겠다고 선언하였는 데 여전히 13개의 단어가 모두 출력된다."
   ]
  },
  {
   "cell_type": "markdown",
   "metadata": {
    "colab_type": "text",
    "id": "OE4p1boenbh3"
   },
   "source": [
    "<br>"
   ]
  },
  {
   "cell_type": "markdown",
   "metadata": {
    "colab_type": "text",
    "id": "rtqERmQPncdo"
   },
   "source": [
    "#### 6.2.1.7 `Tokenizer(num_words).word_counts`"
   ]
  },
  {
   "cell_type": "code",
   "execution_count": 55,
   "metadata": {
    "colab": {
     "base_uri": "https://localhost:8080/",
     "height": 55
    },
    "colab_type": "code",
    "id": "CHOoEs1XnfVo",
    "outputId": "fcfd4ea2-6e39-4296-d15f-ff47ef648996"
   },
   "outputs": [
    {
     "name": "stdout",
     "output_type": "stream",
     "text": [
      "OrderedDict([('barber', 8), ('person', 3), ('good', 1), ('huge', 5), ('knew', 1), ('secret', 6), ('kept', 4), ('word', 2), ('keeping', 2), ('driving', 1), ('crazy', 1), ('went', 1), ('mountain', 1)])\n"
     ]
    }
   ],
   "source": [
    "print(tokenizer.word_counts)"
   ]
  },
  {
   "cell_type": "markdown",
   "metadata": {
    "colab_type": "text",
    "id": "DZ1mm7MInjtw"
   },
   "source": [
    "- `word_counts`도 마찬가지로 13개의 단어가 모두 출력된다."
   ]
  },
  {
   "cell_type": "markdown",
   "metadata": {
    "colab_type": "text",
    "id": "73SbtprMnn44"
   },
   "source": [
    "<br>"
   ]
  },
  {
   "cell_type": "markdown",
   "metadata": {
    "colab_type": "text",
    "id": "_1YHtnkVnofY"
   },
   "source": [
    "#### 6.2.1.8 `Tokenizer(num_words).texts_to_sequences()`\n",
    "\n",
    "- 토크나이저 객체에 `num_words` 파라미터를 지정한 부분의 실제 적용은 `texts_to_sequences()`를 사용할 때 적용된다."
   ]
  },
  {
   "cell_type": "code",
   "execution_count": 56,
   "metadata": {
    "colab": {
     "base_uri": "https://localhost:8080/",
     "height": 35
    },
    "colab_type": "code",
    "id": "vUHyk3tTn39n",
    "outputId": "059a0449-c43c-4ffe-9a15-e9b42e4d2793"
   },
   "outputs": [
    {
     "name": "stdout",
     "output_type": "stream",
     "text": [
      "[[1, 5], [1, 5], [1, 3, 5], [2], [2, 4, 3, 2], [3, 2], [1, 4], [1, 4], [1, 4, 2], [3, 2, 1], [1, 3]]\n"
     ]
    }
   ],
   "source": [
    "print(tokenizer.texts_to_sequences(sentences))"
   ]
  },
  {
   "cell_type": "markdown",
   "metadata": {
    "colab_type": "text",
    "id": "M41StK-4n7Dn"
   },
   "source": [
    "- 코퍼스에 대해서는 각 단어를 이미 정해진 인덱스로 변환하는 데, 상위 5개의 단어만을 사용하겠다고 지정하였으므로 1번 단어부터 5번 단어까지만 보존되고 나머지 단어들을 제거된 것을 볼 수 있다."
   ]
  },
  {
   "cell_type": "markdown",
   "metadata": {
    "colab_type": "text",
    "id": "PLh4kSrPoHPv"
   },
   "source": [
    "- `word_index`와 `word_counts`에서도 지정된 `num_words` 만큼의 단어만 남기고 싶다면 아래의 코드로 구현할 수 있다."
   ]
  },
  {
   "cell_type": "code",
   "execution_count": 58,
   "metadata": {
    "colab": {
     "base_uri": "https://localhost:8080/",
     "height": 71
    },
    "colab_type": "code",
    "id": "-lZ6i4mYoORv",
    "outputId": "94d7ba19-f8f8-48e4-e83d-16dcdf8e2f01"
   },
   "outputs": [
    {
     "name": "stdout",
     "output_type": "stream",
     "text": [
      "{'barber': 1, 'secret': 2, 'huge': 3, 'kept': 4, 'person': 5}\n",
      "OrderedDict([('barber', 8), ('person', 3), ('huge', 5), ('secret', 6), ('kept', 4)])\n",
      "[[1, 5], [1, 5], [1, 3, 5], [2], [2, 4, 3, 2], [3, 2], [1, 4], [1, 4], [1, 4, 2], [3, 2, 1], [1, 3]]\n"
     ]
    }
   ],
   "source": [
    "tokenizer = Tokenizer()\n",
    "tokenizer.fit_on_texts(sentences)\n",
    "\n",
    "vocab_size = 5\n",
    "words_frequency = [w for w, c in tokenizer.word_index.items() if c >= vocab_size + 1] # 인덱스가 5 초과인 단어 제거\n",
    "\n",
    "for w in words_frequency:\n",
    "  del tokenizer.word_index[w] # 해당 단어에 대한 인덱스 정보 삭제\n",
    "  del tokenizer.word_counts[w] # 해당 단어에 대한 카운트 정보 삭제\n",
    "\n",
    "print(tokenizer.word_index)\n",
    "print(tokenizer.word_counts)\n",
    "print(tokenizer.texts_to_sequences(sentences))"
   ]
  },
  {
   "cell_type": "markdown",
   "metadata": {
    "colab_type": "text",
    "id": "wPnBVIeaotiH"
   },
   "source": [
    "<br>"
   ]
  },
  {
   "cell_type": "markdown",
   "metadata": {
    "colab_type": "text",
    "id": "NfZ9FbjtoxGm"
   },
   "source": [
    "#### 6.2.1.9 `Tokenizer(oov_token)`"
   ]
  },
  {
   "cell_type": "markdown",
   "metadata": {
    "colab_type": "text",
    "id": "y7_Y604go1e1"
   },
   "source": [
    "- 케라스 토크나이저는 기본적으로 단어 집합에 없는 단어인 OOV에 대해서는 단어를 정수로 바꾸는 과정에서 아예 단어를 제거한다는 특징이 있다.\n",
    "- 단어 집합에 없는 단어들은 OOV로 간주하여 보존하고 싶다면 `Tokenizer` 객체의 인자 `oov_token`을 사용한다."
   ]
  },
  {
   "cell_type": "code",
   "execution_count": null,
   "metadata": {
    "colab": {},
    "colab_type": "code",
    "id": "QfzLUaxHpDct"
   },
   "outputs": [],
   "source": [
    "vocab_size = 5\n",
    "\n",
    "tokenizer = Tokenizer(num_words=vocab_size+2, oov_token='OOV')\n",
    "# 빈도수 상위 5개 단어만 사용. 숫자 0과 OOV를 고려해서 단어 집합의 크기는 +2\n",
    "tokenizer.fit_on_texts(sentences)"
   ]
  },
  {
   "cell_type": "markdown",
   "metadata": {
    "colab_type": "text",
    "id": "I-aXlQ2ipRtl"
   },
   "source": [
    "- 만약 `oov_token`을 사용하기로 했다면 케라스 토크나이저는 기본적으로 'OOV'의 인덱스를 `1`로 한다."
   ]
  },
  {
   "cell_type": "code",
   "execution_count": 60,
   "metadata": {
    "colab": {
     "base_uri": "https://localhost:8080/",
     "height": 35
    },
    "colab_type": "code",
    "id": "Engou7-bpX5s",
    "outputId": "7f332594-e776-4277-9ec0-cafc48f69bc3"
   },
   "outputs": [
    {
     "name": "stdout",
     "output_type": "stream",
     "text": [
      "단어 OOV의 인덱스 : 1\n"
     ]
    }
   ],
   "source": [
    "print('단어 OOV의 인덱스 : {}'.format(tokenizer.word_index['OOV']))"
   ]
  },
  {
   "cell_type": "markdown",
   "metadata": {
    "colab_type": "text",
    "id": "MgtyBY5jpdCc"
   },
   "source": [
    "- 이제 코퍼스에 대해서 정수 인코딩을 진행"
   ]
  },
  {
   "cell_type": "code",
   "execution_count": 62,
   "metadata": {
    "colab": {
     "base_uri": "https://localhost:8080/",
     "height": 55
    },
    "colab_type": "code",
    "id": "lNPC19nxpheQ",
    "outputId": "366dcbf9-46e9-4098-8ad9-88cdcf2f882d"
   },
   "outputs": [
    {
     "name": "stdout",
     "output_type": "stream",
     "text": [
      "[[2, 6], [2, 1, 6], [2, 4, 6], [1, 3], [3, 5, 4, 3], [4, 3], [2, 5, 1], [2, 5, 1], [2, 5, 3], [1, 1, 4, 3, 1, 2, 1], [2, 1, 4, 1]]\n"
     ]
    }
   ],
   "source": [
    "print(tokenizer.texts_to_sequences(sentences))"
   ]
  },
  {
   "cell_type": "markdown",
   "metadata": {
    "colab_type": "text",
    "id": "MicKshfPpk8k"
   },
   "source": [
    "- 빈도수 상위 5개의 단어는 2 ~ 6까지의 인덱스를 가짐\n",
    "- 그 외 단어 집합에 없는 'goog'과 같은 단어들은 전부 'OOV'의 인덱스인 1로 인코딩됨"
   ]
  }
 ],
 "metadata": {
  "colab": {
   "collapsed_sections": [],
   "name": "Ch02_v06_Integer-Encoding.ipynb",
   "provenance": []
  },
  "kernelspec": {
   "display_name": "Python 3",
   "language": "python",
   "name": "python3"
  },
  "language_info": {
   "codemirror_mode": {
    "name": "ipython",
    "version": 3
   },
   "file_extension": ".py",
   "mimetype": "text/x-python",
   "name": "python",
   "nbconvert_exporter": "python",
   "pygments_lexer": "ipython3",
   "version": "3.6.9"
  }
 },
 "nbformat": 4,
 "nbformat_minor": 4
}
