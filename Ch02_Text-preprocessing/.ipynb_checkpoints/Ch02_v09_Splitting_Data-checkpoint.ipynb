{
 "cells": [
  {
   "cell_type": "markdown",
   "metadata": {
    "colab_type": "text",
    "id": "44bYJtVi862p"
   },
   "source": [
    "# Ch02. 텍스트 전처리 (Text Preprocessing)"
   ]
  },
  {
   "cell_type": "markdown",
   "metadata": {
    "colab_type": "text",
    "id": "hCCA6ZK79DwA"
   },
   "source": [
    "# v09. 데이터의 분리 (Splitting Data)"
   ]
  },
  {
   "cell_type": "markdown",
   "metadata": {
    "colab_type": "text",
    "id": "1hBRK0y39Jjv"
   },
   "source": [
    "- 지도 학습을 위한 데이터 분리 작업 학습"
   ]
  },
  {
   "cell_type": "markdown",
   "metadata": {
    "colab_type": "text",
    "id": "ZBGRgBS09P1z"
   },
   "source": [
    "<br>\n",
    "\n",
    "## 9.1 지도 학습 (Supervised Learning)"
   ]
  },
  {
   "cell_type": "markdown",
   "metadata": {
    "colab_type": "text",
    "id": "Eq7rKYZd9Uv_"
   },
   "source": [
    "### 9.1.1 지도 학습의 훈련 데이터\n",
    "\n",
    "- 문제지를 연상시킴\n",
    "- 정답이 무엇인지 맞춰야 하는 '문제'에 해당되는 데이터와 레이블이라고 부르는 '정답'이 적혀있는 데이터로 구성되어 있음\n",
    "- ex) 스팸 메일 분류기를 만들기 위한 데이터\n",
    "  - 메일의 내용과 해당 메일이 정상 메일인 지, 스팸 메일인 지 적혀있는 레이블로 구성되어 있음"
   ]
  },
  {
   "cell_type": "markdown",
   "metadata": {
    "colab_type": "text",
    "id": "WP0j-Jek9t_a"
   },
   "source": [
    "- ex) 아래와 같은 형식의 데이터가 약 200,000개가 있다고 가정\n",
    "  - 이 데이터는 두 개의 열로 구성되어 있음\n",
    "    - 메일의 본문에 해당되는 첫 번째 열\n",
    "    - 해당 메일이 정상 메일인지 스팸 메일인지가 적혀있는 정답에 해당되는 두 번째 열\n",
    "  - 그리고 이러한 데이터 배열이 총 20,000개의 행을 가짐\n",
    "\n",
    "<img src=\"../_images/Ch02/09/img001.jpg\" />\n",
    "\n",
    "- 메일의 내용이 담긴 첫 번째 열을 X에 저장\n",
    "- 메일이 스팸인지 정상인지 정답이 적혀있는 두 번째 열을 y에 저장"
   ]
  },
  {
   "cell_type": "markdown",
   "metadata": {
    "colab_type": "text",
    "id": "pYN5x38W-l3_"
   },
   "source": [
    "<br>\n",
    "\n",
    "### 9.1.2 테스트용 데이터 분리\n",
    "\n",
    "- 이제 이 X와 y에 대해서 일부 데이터를 또 다시 분리\n",
    "- 테스트용으로 2,000개의 데이터를 분리\n",
    "- 이 때, 분리시에는 여전히 X와 y의 맵핑 관계를 유지해야 한다.\n",
    "  - 어떤 X(문제)에 대한 어떤 y(정답)인지 바로 찾을 수 있어야 한다."
   ]
  },
  {
   "cell_type": "markdown",
   "metadata": {
    "colab_type": "text",
    "id": "KjcGhg9jkobZ"
   },
   "source": [
    "- 이렇게 되면 훈련용인 18,000개의 X, y의 쌍(pair)과 테스트용인 2,000개의 X, y의 쌍(pair)이 생긴다.\n",
    "- 이러한 유형의 데이터들에게 주로 이러한 변수명을 부여한다."
   ]
  },
  {
   "cell_type": "markdown",
   "metadata": {
    "colab_type": "text",
    "id": "Tm8JfXGIk41c"
   },
   "source": [
    "**훈련 데이터**\n",
    "\n",
    "- `X_train` : 문제지 데이터\n",
    "- `y_train` : 문제지에 대한 정답 데이터"
   ]
  },
  {
   "cell_type": "markdown",
   "metadata": {
    "colab_type": "text",
    "id": "dNhXLZY5lASI"
   },
   "source": [
    "**테스트 데이터**\n",
    "\n",
    "- `X_test` : 시험지 데이터\n",
    "- `y_test` : 시험지에 대한 정답 데이터"
   ]
  },
  {
   "cell_type": "markdown",
   "metadata": {
    "colab_type": "text",
    "id": "5axkV1hMlHck"
   },
   "source": [
    "<br>\n",
    "\n",
    "### 9.1.3 학습\n",
    "\n",
    "- `X_train`과 `y_train`에 대해서 학습\n",
    "- 기계는 현 상태에서는 `y_train`을 볼 수 있기 때문에 18,000개의 `X_train`을 보면서 어떤 메일 내용일 때 정상 메일인 지 스팸 메일인지를 규칙을 도출해나가면서 정리한다."
   ]
  },
  {
   "cell_type": "markdown",
   "metadata": {
    "colab_type": "text",
    "id": "9ase8wXYqTQx"
   },
   "source": [
    "<br>\n",
    "\n",
    "### 9.1.4 예측 및 평가\n",
    "\n",
    "- 그리고 학습을 다 한 기계에게 `y_test`는 보여주지 않고, `X_test`에 대해서 정답을 예측하게 한다.\n",
    "- 기계가 예측한 답과 실제 정답인 `y_test`를 비교하면서 기계가 정답을 얼마나 맞췄는 지를 평가한다.\n",
    "- 이 수치가 기계의 정확도(Accuracy)가 된다."
   ]
  },
  {
   "cell_type": "markdown",
   "metadata": {
    "colab_type": "text",
    "id": "734lE5t7qhRZ"
   },
   "source": [
    "<br>\n",
    "\n",
    "## 9.2 X와 y분리하기"
   ]
  },
  {
   "cell_type": "markdown",
   "metadata": {
    "colab_type": "text",
    "id": "rgme3TJaqj70"
   },
   "source": [
    "### 9.2.1 `zip` 함수를 이용하여 분리하기\n",
    "\n",
    "**`zip()` 함수**\n",
    "\n",
    "- 동일한 개수를 가지는 시퀀스 자료형에서 각 순서에 등장하는 원소들끼리 묶어주는 역할\n",
    "- 리스트의 리스트 구성에서 `zip` 함수는 X와 y를 분리하는 데 유용하다"
   ]
  },
  {
   "cell_type": "code",
   "execution_count": 3,
   "metadata": {
    "colab": {
     "base_uri": "https://localhost:8080/",
     "height": 53
    },
    "colab_type": "code",
    "id": "KV5weiEDqmkN",
    "outputId": "3b18733e-d192-46a5-fd86-07e9e3828b75"
   },
   "outputs": [
    {
     "name": "stdout",
     "output_type": "stream",
     "text": [
      "('a', 'b', 'c')\n",
      "(1, 2, 3)\n"
     ]
    }
   ],
   "source": [
    "X, y = zip(['a', 1], ['b', 2], ['c', 3])\n",
    "print(X)\n",
    "print(y)"
   ]
  },
  {
   "cell_type": "markdown",
   "metadata": {
    "colab_type": "text",
    "id": "cN54Tg0aEJfy"
   },
   "source": [
    "- 각 데이터에서 첫 번째로 등장한 원소들끼리 묶이고, 두 번째로 등장한 원소들끼리 묶인다."
   ]
  },
  {
   "cell_type": "markdown",
   "metadata": {
    "colab_type": "text",
    "id": "oLfmo9TqETW4"
   },
   "source": [
    "<br>"
   ]
  },
  {
   "cell_type": "code",
   "execution_count": 4,
   "metadata": {
    "colab": {
     "base_uri": "https://localhost:8080/",
     "height": 53
    },
    "colab_type": "code",
    "id": "3OD6Uh2-EURI",
    "outputId": "0df2067c-3a47-4bf1-bcc6-7dda7e10d591"
   },
   "outputs": [
    {
     "name": "stdout",
     "output_type": "stream",
     "text": [
      "('a', 'b', 'c')\n",
      "(1, 2, 3)\n"
     ]
    }
   ],
   "source": [
    "sequences = [['a', 1], ['b', 2], ['c', 3]] # 리스트의 리스트 또는 행렬 또는 뒤에서 배울 개념인 2D 텐서\n",
    "X, y = zip(*sequences)\n",
    "print(X)\n",
    "print(y)"
   ]
  },
  {
   "cell_type": "markdown",
   "metadata": {
    "colab_type": "text",
    "id": "06_vgqHeEhV7"
   },
   "source": [
    "- 각 데이터에서 첫 번째로 등장한 원소들끼리 묶이고, 두 번째로 등장한 원소들끼리 묶인 것을 볼 수 있다.\n",
    "- 이를 각각 X 데이터와 y 데이터로 사용할 수 있다."
   ]
  },
  {
   "cell_type": "markdown",
   "metadata": {
    "colab_type": "text",
    "id": "czknNTD2Ewmn"
   },
   "source": [
    "<br>\n",
    "\n",
    "### 9.2.2 데이터프레임을 이용하여 분리하기"
   ]
  },
  {
   "cell_type": "code",
   "execution_count": 5,
   "metadata": {
    "colab": {
     "base_uri": "https://localhost:8080/",
     "height": 173
    },
    "colab_type": "code",
    "id": "aQr-55FAExrX",
    "outputId": "163780b8-ecc4-4575-eced-aaa26bc88c6f"
   },
   "outputs": [
    {
     "data": {
      "text/html": [
       "<div>\n",
       "<style scoped>\n",
       "    .dataframe tbody tr th:only-of-type {\n",
       "        vertical-align: middle;\n",
       "    }\n",
       "\n",
       "    .dataframe tbody tr th {\n",
       "        vertical-align: top;\n",
       "    }\n",
       "\n",
       "    .dataframe thead th {\n",
       "        text-align: right;\n",
       "    }\n",
       "</style>\n",
       "<table border=\"1\" class=\"dataframe\">\n",
       "  <thead>\n",
       "    <tr style=\"text-align: right;\">\n",
       "      <th></th>\n",
       "      <th>메일 본문</th>\n",
       "      <th>스팸 메일 유무</th>\n",
       "    </tr>\n",
       "  </thead>\n",
       "  <tbody>\n",
       "    <tr>\n",
       "      <th>0</th>\n",
       "      <td>당신에게 드리는 마지막 혜택!</td>\n",
       "      <td>1</td>\n",
       "    </tr>\n",
       "    <tr>\n",
       "      <th>1</th>\n",
       "      <td>내일 뵐 수 있을지 확인 부탁드...</td>\n",
       "      <td>0</td>\n",
       "    </tr>\n",
       "    <tr>\n",
       "      <th>2</th>\n",
       "      <td>도연씨. 잘 지내시죠? 오랜만입...</td>\n",
       "      <td>0</td>\n",
       "    </tr>\n",
       "    <tr>\n",
       "      <th>3</th>\n",
       "      <td>(광고) AI로 주가를 예측할 수 있다!</td>\n",
       "      <td>1</td>\n",
       "    </tr>\n",
       "  </tbody>\n",
       "</table>\n",
       "</div>"
      ],
      "text/plain": [
       "                    메일 본문  스팸 메일 유무\n",
       "0        당신에게 드리는 마지막 혜택!         1\n",
       "1    내일 뵐 수 있을지 확인 부탁드...         0\n",
       "2    도연씨. 잘 지내시죠? 오랜만입...         0\n",
       "3  (광고) AI로 주가를 예측할 수 있다!         1"
      ]
     },
     "execution_count": 5,
     "metadata": {
      "tags": []
     },
     "output_type": "execute_result"
    }
   ],
   "source": [
    "import pandas as pd\n",
    "\n",
    "values = [['당신에게 드리는 마지막 혜택!', 1],\n",
    "          ['내일 뵐 수 있을지 확인 부탁드...', 0],\n",
    "          ['도연씨. 잘 지내시죠? 오랜만입...', 0],\n",
    "          ['(광고) AI로 주가를 예측할 수 있다!', 1]]\n",
    "\n",
    "columns = ['메일 본문', '스팸 메일 유무']\n",
    "\n",
    "df = pd.DataFrame(values, columns=columns)\n",
    "df"
   ]
  },
  {
   "cell_type": "markdown",
   "metadata": {
    "colab_type": "text",
    "id": "Q_E3pvcHFIL_"
   },
   "source": [
    "<br>\n",
    "\n",
    "- 데이터프레임은 열의 이름으로 각 열에 접근이 가능하다.\n",
    "- 이를 이용하면 손쉽게 X 데이터와 y 데이터를 분리할 수 있다."
   ]
  },
  {
   "cell_type": "code",
   "execution_count": null,
   "metadata": {
    "colab": {},
    "colab_type": "code",
    "id": "AkTFqjsxFYYu"
   },
   "outputs": [],
   "source": [
    "X = df['메일 본문']\n",
    "y = df['스팸 메일 유무']"
   ]
  },
  {
   "cell_type": "code",
   "execution_count": 9,
   "metadata": {
    "colab": {
     "base_uri": "https://localhost:8080/",
     "height": 107
    },
    "colab_type": "code",
    "id": "mSzsO4DXFcCu",
    "outputId": "09f0bdb3-98a6-4e34-ab03-042c7c6c9c6a"
   },
   "outputs": [
    {
     "name": "stdout",
     "output_type": "stream",
     "text": [
      "0          당신에게 드리는 마지막 혜택!\n",
      "1      내일 뵐 수 있을지 확인 부탁드...\n",
      "2      도연씨. 잘 지내시죠? 오랜만입...\n",
      "3    (광고) AI로 주가를 예측할 수 있다!\n",
      "Name: 메일 본문, dtype: object\n"
     ]
    }
   ],
   "source": [
    "print(X)"
   ]
  },
  {
   "cell_type": "code",
   "execution_count": 10,
   "metadata": {
    "colab": {
     "base_uri": "https://localhost:8080/",
     "height": 107
    },
    "colab_type": "code",
    "id": "nkr70T4DFjbG",
    "outputId": "24d99967-df57-4665-8cd0-0580e24d1331"
   },
   "outputs": [
    {
     "name": "stdout",
     "output_type": "stream",
     "text": [
      "0    1\n",
      "1    0\n",
      "2    0\n",
      "3    1\n",
      "Name: 스팸 메일 유무, dtype: int64\n"
     ]
    }
   ],
   "source": [
    "print(y)"
   ]
  },
  {
   "cell_type": "markdown",
   "metadata": {
    "colab_type": "text",
    "id": "saLVBjTEFmCX"
   },
   "source": [
    "<br>\n",
    "\n",
    "### 9.2.3 `Numpy`를 이용하여 분리하기"
   ]
  },
  {
   "cell_type": "code",
   "execution_count": 11,
   "metadata": {
    "colab": {
     "base_uri": "https://localhost:8080/",
     "height": 89
    },
    "colab_type": "code",
    "id": "ZiCfQ0GYFsFZ",
    "outputId": "db09a7bd-b992-49f4-df9e-8d613c5e4704"
   },
   "outputs": [
    {
     "name": "stdout",
     "output_type": "stream",
     "text": [
      "[[ 0  1  2  3]\n",
      " [ 4  5  6  7]\n",
      " [ 8  9 10 11]\n",
      " [12 13 14 15]]\n"
     ]
    }
   ],
   "source": [
    "import numpy as np\n",
    "\n",
    "ar = np.arange(0, 16).reshape((4,4))\n",
    "print(ar)"
   ]
  },
  {
   "cell_type": "code",
   "execution_count": 12,
   "metadata": {
    "colab": {
     "base_uri": "https://localhost:8080/",
     "height": 89
    },
    "colab_type": "code",
    "id": "csGdN6PCFxQt",
    "outputId": "11856ae9-ff18-413e-9c4f-4f5b91a3b986"
   },
   "outputs": [
    {
     "name": "stdout",
     "output_type": "stream",
     "text": [
      "[[ 0  1  2]\n",
      " [ 4  5  6]\n",
      " [ 8  9 10]\n",
      " [12 13 14]]\n"
     ]
    }
   ],
   "source": [
    "X = ar[:, :3]\n",
    "print(X)"
   ]
  },
  {
   "cell_type": "code",
   "execution_count": 13,
   "metadata": {
    "colab": {
     "base_uri": "https://localhost:8080/",
     "height": 35
    },
    "colab_type": "code",
    "id": "7fTTE4N5F1NN",
    "outputId": "65d566dc-049e-482f-f793-67061a0e88a6"
   },
   "outputs": [
    {
     "name": "stdout",
     "output_type": "stream",
     "text": [
      "[ 3  7 11 15]\n"
     ]
    }
   ],
   "source": [
    "y = ar[:, 3]\n",
    "print(y)"
   ]
  },
  {
   "cell_type": "markdown",
   "metadata": {
    "colab_type": "text",
    "id": "HIRK4248F4Fd"
   },
   "source": [
    "<br>\n",
    "\n",
    "## 9.3 테스트 데이터 분리하기\n",
    "\n",
    "- 이미 X와 y가 분리된 데이터에 대해서 테스트 데이터를 분리하는 과정 확인"
   ]
  },
  {
   "cell_type": "markdown",
   "metadata": {
    "colab_type": "text",
    "id": "AAeOY2Q2GASJ"
   },
   "source": [
    "<br>\n",
    "\n",
    "### 9.3.1 사이킷런을 이용하여 분리하기\n",
    "\n",
    "- `train_test_split`"
   ]
  },
  {
   "cell_type": "code",
   "execution_count": null,
   "metadata": {
    "colab": {},
    "colab_type": "code",
    "id": "jLNUYgCwGoxT"
   },
   "outputs": [],
   "source": [
    "from sklearn.model_selection import train_test_split\n",
    "\n",
    "X_train, X_test, y_train, y_test = train_test_split(X, y,\n",
    "                                                    test_size=0.2, random_state=1234)"
   ]
  },
  {
   "cell_type": "markdown",
   "metadata": {
    "colab_type": "text",
    "id": "fDeqnOvOGy47"
   },
   "source": [
    "- `X`\n",
    "  - 독립 변수 데이터 (배열이나 데이터프레임)\n",
    "\n",
    "\n",
    "- `y`\n",
    "  - 종속 변수 데이터\n",
    "  - 레이블 데이터\n",
    "\n",
    "\n",
    "- `test_size`\n",
    "  - 테스트용 데이터 개수 지정\n",
    "  - 1보다 작은 실수를 기재 $\\rightarrow$ 비율을 나타냄\n",
    "  - `test_size`를 입력하면 `train_size`는 입력안해도 된다.\n",
    "\n",
    "\n",
    "- `train_size`\n",
    "  - 학습용 데이터의 개수 지정\n",
    "  - 1보다 작은 실수를 기재 $\\rightarrow$ 비율을 나타냄\n",
    "  - `train_size`를 입력하면 `test_size`는 입력안해도 된다.\n",
    "\n",
    "  \n",
    "- `random_state`\n",
    "  - 난수 시드"
   ]
  },
  {
   "cell_type": "code",
   "execution_count": 15,
   "metadata": {
    "colab": {
     "base_uri": "https://localhost:8080/",
     "height": 125
    },
    "colab_type": "code",
    "id": "tSOsZBjSHbsX",
    "outputId": "895bd2f0-fb5c-41ca-c787-16ec43ed66d0"
   },
   "outputs": [
    {
     "name": "stdout",
     "output_type": "stream",
     "text": [
      "[[0 1]\n",
      " [2 3]\n",
      " [4 5]\n",
      " [6 7]\n",
      " [8 9]]\n",
      "[0, 1, 2, 3, 4]\n"
     ]
    }
   ],
   "source": [
    "import numpy as np\n",
    "from sklearn.model_selection import train_test_split\n",
    "\n",
    "X, y = np.arange(10).reshape((5, 2)), range(5)\n",
    "\n",
    "# 실습을 위해 임의로 X와 y가 이미 분리된 데이터를 생성\n",
    "print(X)\n",
    "print(list(y))"
   ]
  },
  {
   "cell_type": "code",
   "execution_count": null,
   "metadata": {
    "colab": {},
    "colab_type": "code",
    "id": "X2cyLUtzHwWl"
   },
   "outputs": [],
   "source": [
    "X_train, X_test, y_train, y_test = train_test_split(X, y,\n",
    "                                                    test_size=0.33, random_state=1234)"
   ]
  },
  {
   "cell_type": "code",
   "execution_count": 17,
   "metadata": {
    "colab": {
     "base_uri": "https://localhost:8080/",
     "height": 71
    },
    "colab_type": "code",
    "id": "p2CvKQmuH7BJ",
    "outputId": "6951e640-6111-49e4-91ae-febafc18a6ae"
   },
   "outputs": [
    {
     "name": "stdout",
     "output_type": "stream",
     "text": [
      "[[2 3]\n",
      " [4 5]\n",
      " [6 7]]\n"
     ]
    }
   ],
   "source": [
    "print(X_train)"
   ]
  },
  {
   "cell_type": "code",
   "execution_count": 18,
   "metadata": {
    "colab": {
     "base_uri": "https://localhost:8080/",
     "height": 53
    },
    "colab_type": "code",
    "id": "xhM7ULqSH8ah",
    "outputId": "322247ce-dd97-469d-ccb1-ceb524d46a8d"
   },
   "outputs": [
    {
     "name": "stdout",
     "output_type": "stream",
     "text": [
      "[[8 9]\n",
      " [0 1]]\n"
     ]
    }
   ],
   "source": [
    "print(X_test)"
   ]
  },
  {
   "cell_type": "markdown",
   "metadata": {
    "colab_type": "text",
    "id": "plmkrntSH-Wh"
   },
   "source": [
    "<br>\n",
    "\n",
    "### 9.3.2 수동으로 분리하기"
   ]
  },
  {
   "cell_type": "code",
   "execution_count": null,
   "metadata": {
    "colab": {},
    "colab_type": "code",
    "id": "qShj1YcOIDNJ"
   },
   "outputs": [],
   "source": [
    "import numpy as np\n",
    "\n",
    "X, y = np.arange(0, 24).reshape((12, 2)), range(12)"
   ]
  },
  {
   "cell_type": "code",
   "execution_count": 21,
   "metadata": {
    "colab": {
     "base_uri": "https://localhost:8080/",
     "height": 233
    },
    "colab_type": "code",
    "id": "i5d5fuwoIJ25",
    "outputId": "923d98c4-7892-4d30-84c1-90167a63cc82"
   },
   "outputs": [
    {
     "name": "stdout",
     "output_type": "stream",
     "text": [
      "[[ 0  1]\n",
      " [ 2  3]\n",
      " [ 4  5]\n",
      " [ 6  7]\n",
      " [ 8  9]\n",
      " [10 11]\n",
      " [12 13]\n",
      " [14 15]\n",
      " [16 17]\n",
      " [18 19]\n",
      " [20 21]\n",
      " [22 23]]\n"
     ]
    }
   ],
   "source": [
    "print(X)"
   ]
  },
  {
   "cell_type": "code",
   "execution_count": 22,
   "metadata": {
    "colab": {
     "base_uri": "https://localhost:8080/",
     "height": 35
    },
    "colab_type": "code",
    "id": "w56h1rH5INkx",
    "outputId": "9ada4075-8ba6-4708-c1c8-211c18bd4d24"
   },
   "outputs": [
    {
     "name": "stdout",
     "output_type": "stream",
     "text": [
      "[0, 1, 2, 3, 4, 5, 6, 7, 8, 9, 10, 11]\n"
     ]
    }
   ],
   "source": [
    "print(list(y))"
   ]
  },
  {
   "cell_type": "markdown",
   "metadata": {
    "colab_type": "text",
    "id": "wNVlerlGIOyB"
   },
   "source": [
    "<br>\n",
    "\n",
    "- `n_of_train` : 훈련 데이터의 개수를 의미\n",
    "- `n_of_test` : 테스트 데이터의 개수를 의미"
   ]
  },
  {
   "cell_type": "code",
   "execution_count": 23,
   "metadata": {
    "colab": {
     "base_uri": "https://localhost:8080/",
     "height": 53
    },
    "colab_type": "code",
    "id": "0jxMx0IkIZGM",
    "outputId": "2cdc019a-834e-4f48-fe66-066cb28b9889"
   },
   "outputs": [
    {
     "name": "stdout",
     "output_type": "stream",
     "text": [
      "9\n",
      "3\n"
     ]
    }
   ],
   "source": [
    "n_of_train = int(len(X) * 0.8)\n",
    "n_of_test = int(len(X) - n_of_train)\n",
    "\n",
    "print(n_of_train)\n",
    "print(n_of_test)"
   ]
  },
  {
   "cell_type": "code",
   "execution_count": null,
   "metadata": {
    "colab": {},
    "colab_type": "code",
    "id": "MeeX3VOqIiMp"
   },
   "outputs": [],
   "source": [
    "X_test = X[n_of_train:] # 20% 뒤\n",
    "y_test = y[n_of_train:] # 20% 뒤\n",
    "X_train = X[:n_of_train] # 80% 앞\n",
    "y_train = y[:n_of_train] # 80% 앞"
   ]
  },
  {
   "cell_type": "code",
   "execution_count": 26,
   "metadata": {
    "colab": {
     "base_uri": "https://localhost:8080/",
     "height": 71
    },
    "colab_type": "code",
    "id": "dLT74CXcI1Jr",
    "outputId": "052137c6-af89-467d-df20-c221795b10f9"
   },
   "outputs": [
    {
     "name": "stdout",
     "output_type": "stream",
     "text": [
      "[[18 19]\n",
      " [20 21]\n",
      " [22 23]]\n"
     ]
    }
   ],
   "source": [
    "print(X_test)"
   ]
  },
  {
   "cell_type": "code",
   "execution_count": 27,
   "metadata": {
    "colab": {
     "base_uri": "https://localhost:8080/",
     "height": 35
    },
    "colab_type": "code",
    "id": "AM2CiSVyI5M3",
    "outputId": "8f348962-933f-4ec2-d3d9-000b84b633ef"
   },
   "outputs": [
    {
     "name": "stdout",
     "output_type": "stream",
     "text": [
      "[9, 10, 11]\n"
     ]
    }
   ],
   "source": [
    "print(list(y_test))"
   ]
  }
 ],
 "metadata": {
  "colab": {
   "collapsed_sections": [],
   "name": "Ch02_v09_Splitting-Data.ipynb",
   "provenance": []
  },
  "kernelspec": {
   "display_name": "Python 3",
   "language": "python",
   "name": "python3"
  },
  "language_info": {
   "codemirror_mode": {
    "name": "ipython",
    "version": 3
   },
   "file_extension": ".py",
   "mimetype": "text/x-python",
   "name": "python",
   "nbconvert_exporter": "python",
   "pygments_lexer": "ipython3",
   "version": "3.6.9"
  }
 },
 "nbformat": 4,
 "nbformat_minor": 4
}
