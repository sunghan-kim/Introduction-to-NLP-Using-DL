{
 "cells": [
  {
   "cell_type": "markdown",
   "metadata": {
    "colab_type": "text",
    "id": "-WzcbpNhSSvn"
   },
   "source": [
    "# Ch02. 텍스트 전처리 (Text Preprocessing)"
   ]
  },
  {
   "cell_type": "markdown",
   "metadata": {
    "colab_type": "text",
    "id": "wu_56jrLSZlT"
   },
   "source": [
    "# v05. 정규 표현식 (Regular Expression)"
   ]
  },
  {
   "cell_type": "markdown",
   "metadata": {
    "colab_type": "text",
    "id": "Tfb8JuHzSc46"
   },
   "source": [
    "## 5.1 정규 표현식 문법과 모듈 함수\n",
    "\n",
    "- 파이썬에서는 정규 표현식 모듈 `re`을 지원\n",
    "- 이를 이용하면 특정 규칙이 있는 텍스트 데이터를 빠르게 정제할 수 있다"
   ]
  },
  {
   "cell_type": "markdown",
   "metadata": {
    "colab_type": "text",
    "id": "ne4RmP47ciQc"
   },
   "source": [
    "<br>"
   ]
  },
  {
   "cell_type": "markdown",
   "metadata": {
    "colab_type": "text",
    "id": "27pq_EX_ejv3"
   },
   "source": [
    "### 5.1.1 정규 표현식 문법"
   ]
  },
  {
   "cell_type": "markdown",
   "metadata": {
    "colab_type": "text",
    "id": "tn4rLzP7cjJX"
   },
   "source": [
    "#### 5.1.1.1 특수문자\n",
    "\n",
    "- 정규 표현식을 위해 사용되는 문법 중 **특수 문자들**은 아래와 같다.\n",
    "\n",
    "|     특수문자     | 설명                                                         |\n",
    "| :--------------: | ------------------------------------------------------------ |\n",
    "|       `.`        | - 한 개의 임의의 문자를 나타냄<br />- 줄바꿈 문자인 `\\n`은 제외 |\n",
    "|       `?`        | - 앞의 문자가 존재할 수도 있고, 존재하지 않을 수도 있다.<br />- 문자가 0개 또는 1개 |\n",
    "|       `*`        | - 앞의 문자가 무한 개로 존재할 수도 있고, 존재하지 않을 수도 있다.<br />- 문자가 0개 이상 |\n",
    "|       `+`        | - 앞의 문자가 최소 한 개 이상 존재<br />- 문자가 1개 이상    |\n",
    "|       `^`        | - 뒤의 문자로 문자열이 시작됨                                |\n",
    "|       `$`        | - 앞의 문자로 문자열이 끝남                                  |\n",
    "|     `{숫자}`     | - 숫자만큼 반복                                              |\n",
    "| `{숫자1, 숫자2}` | - 숫자1 이상 숫자2 이하만큼 반복<br />- `?`, `*`, `+`를 이것으로 대체할 수 있다. |\n",
    "|    `{숫자,}`     | - 숫자 이상만큼 반복                                         |\n",
    "|       `[]`       | - 대괄호 안의 문자들 중 한 개의 문자와 매치<br />- `[amk]` : `a` 또는 `m` 또는 `k` 중 하나라도 존재하면 매치를 의미<br />- `[a-z]` : `-`를 이용해 범위를 지정할 수 있음<br />- `[a-zA-Z]` : 알파벳 전체를 의미하는 범위 (문자열에 알파벳이 존재하면 매치를 의미) |\n",
    "|    `[^문자]`     | - 해당 문자를 제외한 문자를 매치                             |\n",
    "|       `|`        | - `A|B` : `A` 또는 `B`의 의미를 가짐                         |"
   ]
  },
  {
   "cell_type": "markdown",
   "metadata": {
    "colab_type": "text",
    "id": "9JcAgG0vcsZn"
   },
   "source": [
    "<br>"
   ]
  },
  {
   "cell_type": "markdown",
   "metadata": {
    "colab_type": "text",
    "id": "bJd94JgTeomL"
   },
   "source": [
    "#### 5.1.1.2 역 슬래쉬(`\\`)를 이용한 문자 규칙\n",
    "\n",
    "- 정규 표현식 문법에는 역 슬래쉬(`\\`)를 이용하여 자주 쓰이는 문자 규칙들이 있다.\n",
    "\n",
    "| 문자 규칙 | 설명                                                         |\n",
    "| :-------: | ------------------------------------------------------------ |\n",
    "|   `\\\\`    | - 역 슬래쉬 문자 자체를 의미                                 |\n",
    "|   `\\d`    | - 모든 숫자를 의미<br />- `[0-9]`와 의미가 동일              |\n",
    "|   `\\D`    | - 숫자를 제외한 모든 문자를 의미<br />- `[^0-9]`와 의미가 동일 |\n",
    "|   `\\s`    | - 공백을 의미<br />- `[\\t\\n\\r\\f\\v]`와 의미가 동일            |\n",
    "|   `\\S`    | - 공백을 제외한 문자를 의미<br />- `[^ \\t\\n\\r\\f\\v]`와 의미가 동일 |\n",
    "|   `\\w`    | - 문자 또는 숫자를 의미<br />- `[a-zA-Z0-9]`와 의미가 동일   |\n",
    "|   `\\W`    | - 문자 또는 숫자가 아닌 문자를 의미<br />- `[^a-zA-Z0-9]`와 의미가 동일 |"
   ]
  },
  {
   "cell_type": "markdown",
   "metadata": {
    "colab_type": "text",
    "id": "ZboY2xQEeykL"
   },
   "source": [
    "<br>"
   ]
  },
  {
   "cell_type": "markdown",
   "metadata": {
    "colab_type": "text",
    "id": "Q7OXDMW0hD8Q"
   },
   "source": [
    "### 5.1.2 정규 표현식 모듈 함수\n",
    "\n",
    "- 정규 표현식 모듈에서 지원하는 함수는 이와 같다.\n",
    "\n",
    "|    모듈 함수    | 설명                                                         |\n",
    "| :-------------: | ------------------------------------------------------------ |\n",
    "| `re.compile()`  | - 정규표현식을 컴파일하는 함수<br />- 다시 말해, 파이썬에게 전해주는 역할을 함<br />- 찾고자 하는 패턴이 빈번한 경우에는 미리 컴파일해놓고 사용하면 속도와 편의성면에서 유리 |\n",
    "|  `re.search()`  | - 문자열 전체에 대해서 정규표현식과 매치되는 지를 검색<br />- 매치된다면 `Match Object`를 리턴<br />- 매치되지 않으면 아무런 값도 출력되지 않음 |\n",
    "|  `re.match()`   | - 문자열의 처음이 정규표현식과 매치되는 지를 검색            |\n",
    "|  `re.split()`   | - 정규표현식을 기준으로 문자열을 분리하여 리스트로 리턴      |\n",
    "| `re.findall()`  | - 문자열에서 정규 표현식과 매치되는 모든 경우의 문자열을 찾아서 리스트로 리턴<br />- 만약, 매치되는 문자열이 없다면 빈 리스트가 리턴됨 |\n",
    "| `re.finditer()` | - 문자열에서 정규 표현식과 매치되는 모든 경우의 문자열에 대한 이터레이터 객체를 리턴 |\n",
    "|   `re.sub()`    | - 문자열에서 정규 표현식과 일치하는 부분에 대해서 다른 문자열로 대체 |"
   ]
  },
  {
   "cell_type": "markdown",
   "metadata": {
    "colab_type": "text",
    "id": "W-8xryrthI2u"
   },
   "source": [
    "<br>"
   ]
  },
  {
   "cell_type": "markdown",
   "metadata": {
    "colab_type": "text",
    "id": "tjTOJO3ziaZM"
   },
   "source": [
    "## 5.2 정규 표현식 실습\n",
    "\n",
    "- 앞서 표로 봤던 정규 표현식 특수 문자에 대해서 직접 예제를 통해 이해"
   ]
  },
  {
   "cell_type": "markdown",
   "metadata": {
    "colab_type": "text",
    "id": "hL3OwoirihZA"
   },
   "source": [
    "<br>"
   ]
  },
  {
   "cell_type": "markdown",
   "metadata": {
    "colab_type": "text",
    "id": "U9h79xHriiI0"
   },
   "source": [
    "### 5.2.1 `.` 기호\n",
    "\n",
    "- `.`은 한 개의 임의의 문자를 나타낸다.  \n",
    "  \n",
    "  \n",
    "- ex) 정규표현식이 `a.c`\n",
    "  - `a`와 `c` 사이에는 어떤 1개의 문자라도 올 수 있다.\n",
    "  - `akc`, `azc`, `avc`, `a5c`, `a!c` 와 같은 형태는 모두 `a.c` 정규 표현식과 매치된다."
   ]
  },
  {
   "cell_type": "code",
   "execution_count": null,
   "metadata": {
    "colab": {},
    "colab_type": "code",
    "id": "xgS1xBEsiz-D"
   },
   "outputs": [],
   "source": [
    "import re\n",
    "\n",
    "r = re.compile(\"a.c\")\n",
    "r.search(\"kkk\") # 일치하지 않으므로 아무런 결과도 출력되지 않는다."
   ]
  },
  {
   "cell_type": "code",
   "execution_count": 2,
   "metadata": {
    "colab": {
     "base_uri": "https://localhost:8080/",
     "height": 35
    },
    "colab_type": "code",
    "id": "0Ro6vELUi5MS",
    "outputId": "dfa8d85a-ed20-45b1-c6b1-2297545dc23f"
   },
   "outputs": [
    {
     "data": {
      "text/plain": [
       "<_sre.SRE_Match object; span=(0, 3), match='abc'>"
      ]
     },
     "execution_count": 2,
     "metadata": {
      "tags": []
     },
     "output_type": "execute_result"
    }
   ],
   "source": [
    "r.search(\"abc\") # 매치되므로 Match Object 리턴"
   ]
  },
  {
   "cell_type": "markdown",
   "metadata": {
    "colab_type": "text",
    "id": "TvnQTm0ki-oL"
   },
   "source": [
    "<br>"
   ]
  },
  {
   "cell_type": "markdown",
   "metadata": {
    "colab_type": "text",
    "id": "1nBcZLgGjH_D"
   },
   "source": [
    "### 5.2.2 `?` 기호\n",
    "\n",
    "- `?`는 `?` **앞의 문자**가 존재할 수도 있고, 존재하지 않을 수도 있는 경우를 나타냄  \n",
    "  \n",
    "\n",
    "- ex) 정규표현식이 `ab?c`\n",
    "  - 이 경우 정규 표현식에서의 `b`는 있다고 취급할 수도 있고, 없다고 취급할 수도 있다.\n",
    "  - 즉, `abc`와 `ac` 모두 매치할 수 있다."
   ]
  },
  {
   "cell_type": "code",
   "execution_count": null,
   "metadata": {
    "colab": {},
    "colab_type": "code",
    "id": "9WgI0HJXoOvL"
   },
   "outputs": [],
   "source": [
    "import re\n",
    "\n",
    "r = re.compile(\"ab?c\")\n",
    "r.search(\"abbc\") # 일치하지 않으므로 아무런 결과도 출력되지 않는다."
   ]
  },
  {
   "cell_type": "code",
   "execution_count": 4,
   "metadata": {
    "colab": {
     "base_uri": "https://localhost:8080/",
     "height": 35
    },
    "colab_type": "code",
    "id": "93jEj7nVoZD0",
    "outputId": "42e110bd-9e11-41cf-961e-57a349d405f2"
   },
   "outputs": [
    {
     "data": {
      "text/plain": [
       "<_sre.SRE_Match object; span=(0, 3), match='abc'>"
      ]
     },
     "execution_count": 4,
     "metadata": {
      "tags": []
     },
     "output_type": "execute_result"
    }
   ],
   "source": [
    "r.search(\"abc\") # 매치되므로 Match Object 리턴"
   ]
  },
  {
   "cell_type": "code",
   "execution_count": 5,
   "metadata": {
    "colab": {
     "base_uri": "https://localhost:8080/",
     "height": 35
    },
    "colab_type": "code",
    "id": "5UC90hvjoabI",
    "outputId": "bcaa1094-cf03-483d-a59f-922869c73320"
   },
   "outputs": [
    {
     "data": {
      "text/plain": [
       "<_sre.SRE_Match object; span=(0, 2), match='ac'>"
      ]
     },
     "execution_count": 5,
     "metadata": {
      "tags": []
     },
     "output_type": "execute_result"
    }
   ],
   "source": [
    "r.search(\"ac\") # 매치되므로 Match Object 리턴"
   ]
  },
  {
   "cell_type": "markdown",
   "metadata": {
    "colab_type": "text",
    "id": "SlTcM-HtofUZ"
   },
   "source": [
    "<br>"
   ]
  },
  {
   "cell_type": "markdown",
   "metadata": {
    "colab_type": "text",
    "id": "6f8OQPzYohdY"
   },
   "source": [
    "### 5.2.3 `*` 기호\n",
    "\n",
    "- `*`은 바로 **앞의 문자**가 0개 이상일 경우를 나타낸다.\n",
    "- 앞의 문자는 존재하지 않을 수도 있으며, 또는 여러 개일 수도 있다.  \n",
    "  \n",
    "\n",
    "- ex) 정규표현식이 `ab*c`\n",
    "  - `ac`, `abc`, `abbc`, `abbbc` 등과 매치할 수 있다.\n",
    "  - `b`의 개수는 무수히 많아도 상관없다."
   ]
  },
  {
   "cell_type": "code",
   "execution_count": null,
   "metadata": {
    "colab": {},
    "colab_type": "code",
    "id": "fuyASwiLo12H"
   },
   "outputs": [],
   "source": [
    "import re\n",
    "\n",
    "r = re.compile(\"ab*c\")\n",
    "r.search(\"a\") # 일치하지 않으므로 아무런 결과도 출력되지 않는다."
   ]
  },
  {
   "cell_type": "code",
   "execution_count": 7,
   "metadata": {
    "colab": {
     "base_uri": "https://localhost:8080/",
     "height": 35
    },
    "colab_type": "code",
    "id": "GrmjEWoPpDOg",
    "outputId": "719ca7db-1034-4ca0-831d-885dbc7e3930"
   },
   "outputs": [
    {
     "data": {
      "text/plain": [
       "<_sre.SRE_Match object; span=(0, 2), match='ac'>"
      ]
     },
     "execution_count": 7,
     "metadata": {
      "tags": []
     },
     "output_type": "execute_result"
    }
   ],
   "source": [
    "r.search(\"ac\") # 매치되므로 Match Object 리턴"
   ]
  },
  {
   "cell_type": "code",
   "execution_count": 8,
   "metadata": {
    "colab": {
     "base_uri": "https://localhost:8080/",
     "height": 35
    },
    "colab_type": "code",
    "id": "jyr-ESR4pFe_",
    "outputId": "8e9a6827-5004-40ba-c234-8b4606147550"
   },
   "outputs": [
    {
     "data": {
      "text/plain": [
       "<_sre.SRE_Match object; span=(0, 3), match='abc'>"
      ]
     },
     "execution_count": 8,
     "metadata": {
      "tags": []
     },
     "output_type": "execute_result"
    }
   ],
   "source": [
    "r.search(\"abc\") # 매치되므로 Match Object 리턴"
   ]
  },
  {
   "cell_type": "code",
   "execution_count": 9,
   "metadata": {
    "colab": {
     "base_uri": "https://localhost:8080/",
     "height": 35
    },
    "colab_type": "code",
    "id": "eKjkn-XvpKsg",
    "outputId": "27ff7689-af84-4120-ce22-ac00a9ee2ad1"
   },
   "outputs": [
    {
     "data": {
      "text/plain": [
       "<_sre.SRE_Match object; span=(0, 6), match='abbbbc'>"
      ]
     },
     "execution_count": 9,
     "metadata": {
      "tags": []
     },
     "output_type": "execute_result"
    }
   ],
   "source": [
    "r.search(\"abbbbc\") # 매치되므로 Match Object 리턴"
   ]
  },
  {
   "cell_type": "markdown",
   "metadata": {
    "colab_type": "text",
    "id": "if6wFRbVpNKn"
   },
   "source": [
    "<br>"
   ]
  },
  {
   "cell_type": "markdown",
   "metadata": {
    "colab_type": "text",
    "id": "g_oCF0SIpOZf"
   },
   "source": [
    "### 5.2.4 `+` 기호\n",
    "\n",
    "- `+`는 `*`와 유사하다.\n",
    "- 하지만 다른 점은 **앞의 문자**가 최소 1개 이상이어야 한다는 점이다.  \n",
    "  \n",
    "\n",
    "- ex) 정규표현식이 `ab+c`\n",
    "  - `ac`는 매치되지 않음\n",
    "  - `abc`, `abbc`, `abbbc` 등과 매치할 수 있음\n",
    "  - `b`의 갯수는 무수히 많을 수 있다."
   ]
  },
  {
   "cell_type": "code",
   "execution_count": null,
   "metadata": {
    "colab": {},
    "colab_type": "code",
    "id": "8HuV_B7Epfbp"
   },
   "outputs": [],
   "source": [
    "import re\n",
    "\n",
    "r = re.compile(\"ab+c\")\n",
    "\n",
    "r.search(\"ac\") # 일치하지 않으므로 아무런 결과도 출력되지 않는다."
   ]
  },
  {
   "cell_type": "code",
   "execution_count": 11,
   "metadata": {
    "colab": {
     "base_uri": "https://localhost:8080/",
     "height": 35
    },
    "colab_type": "code",
    "id": "2mrpXIbRplw_",
    "outputId": "1cc9c966-50ef-477d-c420-3f6791608361"
   },
   "outputs": [
    {
     "data": {
      "text/plain": [
       "<_sre.SRE_Match object; span=(0, 3), match='abc'>"
      ]
     },
     "execution_count": 11,
     "metadata": {
      "tags": []
     },
     "output_type": "execute_result"
    }
   ],
   "source": [
    "r.search(\"abc\") # 매치되므로 Match Object 리턴"
   ]
  },
  {
   "cell_type": "code",
   "execution_count": 12,
   "metadata": {
    "colab": {
     "base_uri": "https://localhost:8080/",
     "height": 35
    },
    "colab_type": "code",
    "id": "zdaEUn3NppGG",
    "outputId": "f15e4623-0ebd-415f-93fc-2ef349a1b23a"
   },
   "outputs": [
    {
     "data": {
      "text/plain": [
       "<_sre.SRE_Match object; span=(0, 6), match='abbbbc'>"
      ]
     },
     "execution_count": 12,
     "metadata": {
      "tags": []
     },
     "output_type": "execute_result"
    }
   ],
   "source": [
    "r.search(\"abbbbc\") # 매치되므로 Match Object 리턴"
   ]
  },
  {
   "cell_type": "markdown",
   "metadata": {
    "colab_type": "text",
    "id": "jXus0pbJprcf"
   },
   "source": [
    "<br>\n",
    "<a id=\"525\"></a>"
   ]
  },
  {
   "cell_type": "markdown",
   "metadata": {
    "colab_type": "text",
    "id": "Yk_dcoSgptKG"
   },
   "source": [
    "### 5.2.5 `^` 기호\n",
    "\n",
    "- `^`는 시작되는 글자를 지정  \n",
    "  \n",
    "  \n",
    "- ex) 정규표현식이 `^a`\n",
    "  - `a`로 시작되는 문자열만 찾아낸다."
   ]
  },
  {
   "cell_type": "code",
   "execution_count": null,
   "metadata": {
    "colab": {},
    "colab_type": "code",
    "id": "eALu9LkYp3Sy"
   },
   "outputs": [],
   "source": [
    "import re\n",
    "\n",
    "r = re.compile(\"^a\")\n",
    "\n",
    "r.search(\"bbc\") # 일치하지 않으므로 아무런 결과도 출력되지 않는다."
   ]
  },
  {
   "cell_type": "code",
   "execution_count": 14,
   "metadata": {
    "colab": {
     "base_uri": "https://localhost:8080/",
     "height": 35
    },
    "colab_type": "code",
    "id": "WKauutKAqByK",
    "outputId": "b3fda641-314c-49cd-a591-48a3d8257029"
   },
   "outputs": [
    {
     "data": {
      "text/plain": [
       "<_sre.SRE_Match object; span=(0, 1), match='a'>"
      ]
     },
     "execution_count": 14,
     "metadata": {
      "tags": []
     },
     "output_type": "execute_result"
    }
   ],
   "source": [
    "r.search(\"ab\") # 매치되므로 Match Object 리턴"
   ]
  },
  {
   "cell_type": "markdown",
   "metadata": {
    "colab_type": "text",
    "id": "hC4Weo-KqE7u"
   },
   "source": [
    "<br>"
   ]
  },
  {
   "cell_type": "markdown",
   "metadata": {
    "colab_type": "text",
    "id": "hLEW3zlAqGSV"
   },
   "source": [
    "### 5.2.6 `{숫자}` 기호\n",
    "\n",
    "- 문자 뒤에 해당 기호를 붙이면, 해당 문자를 숫자만큼 반복한 것을 나타낸다.  \n",
    "  \n",
    "\n",
    "- ex) 정규표현식이 `ab{2}c`\n",
    "  - `a`와 `c` 사이에 `b`가 존재하면서 `b`가 2개인 문자열에 대해서 매치한다."
   ]
  },
  {
   "cell_type": "code",
   "execution_count": null,
   "metadata": {
    "colab": {},
    "colab_type": "code",
    "id": "dAlePGpsqYa3"
   },
   "outputs": [],
   "source": [
    "import re\n",
    "\n",
    "r = re.compile(\"ab{2}c\")"
   ]
  },
  {
   "cell_type": "code",
   "execution_count": null,
   "metadata": {
    "colab": {},
    "colab_type": "code",
    "id": "dkURIofGqhzk"
   },
   "outputs": [],
   "source": [
    "r.search(\"ac\") # 일치하지 않으므로 아무런 결과도 출력되지 않는다."
   ]
  },
  {
   "cell_type": "code",
   "execution_count": null,
   "metadata": {
    "colab": {},
    "colab_type": "code",
    "id": "-jSzRZq8qk4l"
   },
   "outputs": [],
   "source": [
    "r.search(\"abc\") # 일치하지 않으므로 아무런 결과도 출력되지 않는다."
   ]
  },
  {
   "cell_type": "code",
   "execution_count": 18,
   "metadata": {
    "colab": {
     "base_uri": "https://localhost:8080/",
     "height": 35
    },
    "colab_type": "code",
    "id": "VWmg8t_qqmtd",
    "outputId": "8cde91c0-3149-47f2-8240-a9de831bcb26"
   },
   "outputs": [
    {
     "data": {
      "text/plain": [
       "<_sre.SRE_Match object; span=(0, 4), match='abbc'>"
      ]
     },
     "execution_count": 18,
     "metadata": {
      "tags": []
     },
     "output_type": "execute_result"
    }
   ],
   "source": [
    "r.search(\"abbc\") # 매치되므로 Match Object 리턴"
   ]
  },
  {
   "cell_type": "code",
   "execution_count": null,
   "metadata": {
    "colab": {},
    "colab_type": "code",
    "id": "UFhM1Iylqou9"
   },
   "outputs": [],
   "source": [
    "r.search(\"abbbbbc\") # 일치하지 않으므로 아무런 결과도 출력되지 않는다."
   ]
  },
  {
   "cell_type": "markdown",
   "metadata": {
    "colab_type": "text",
    "id": "BsjUVXUlqsNd"
   },
   "source": [
    "<br>"
   ]
  },
  {
   "cell_type": "markdown",
   "metadata": {
    "colab_type": "text",
    "id": "S9cJ2FMNq6oy"
   },
   "source": [
    "### 5.2.7 `{숫자1, 숫자2}` 기호\n",
    "\n",
    "- 문자 뒤에 해당 기호를 붙이면, 해당 문자를 `숫자1` 이상 `숫자2` 이하만큼 반복한다.  \n",
    "  \n",
    "\n",
    "- ex) 정규표현식이 `ab{2,8}c`\n",
    "  - `a`와 `c` 사이에 `b`가 존재하면서 `b`는 2개 이상 8개 이하인 문자열에 대해서 매치한다."
   ]
  },
  {
   "cell_type": "code",
   "execution_count": null,
   "metadata": {
    "colab": {},
    "colab_type": "code",
    "id": "B-vK7OmbrOqz"
   },
   "outputs": [],
   "source": [
    "import re\n",
    "\n",
    "r = re.compile(\"ab{2,8}c\")"
   ]
  },
  {
   "cell_type": "code",
   "execution_count": null,
   "metadata": {
    "colab": {},
    "colab_type": "code",
    "id": "R85eddz0rShT"
   },
   "outputs": [],
   "source": [
    "r.search(\"ac\") # 일치하지 않으므로 아무런 결과도 출력되지 않는다. (b가 0개)"
   ]
  },
  {
   "cell_type": "code",
   "execution_count": null,
   "metadata": {
    "colab": {},
    "colab_type": "code",
    "id": "s3Lq2quQrZpN"
   },
   "outputs": [],
   "source": [
    "r.search(\"abc\") # 일치하지 않으므로 아무런 결과도 출력되지 않는다. (b가 1개)"
   ]
  },
  {
   "cell_type": "code",
   "execution_count": 23,
   "metadata": {
    "colab": {
     "base_uri": "https://localhost:8080/",
     "height": 35
    },
    "colab_type": "code",
    "id": "k3U9Fk-srbij",
    "outputId": "add1303f-6275-4da5-bc13-28d690fd43c5"
   },
   "outputs": [
    {
     "data": {
      "text/plain": [
       "<_sre.SRE_Match object; span=(0, 4), match='abbc'>"
      ]
     },
     "execution_count": 23,
     "metadata": {
      "tags": []
     },
     "output_type": "execute_result"
    }
   ],
   "source": [
    "r.search(\"abbc\") # 매치되므로 Match Object 리턴 (b가 2개)"
   ]
  },
  {
   "cell_type": "code",
   "execution_count": 24,
   "metadata": {
    "colab": {
     "base_uri": "https://localhost:8080/",
     "height": 35
    },
    "colab_type": "code",
    "id": "9xuwtB9yrfRF",
    "outputId": "45e6363c-ef2a-4476-fbd1-7326bc86db64"
   },
   "outputs": [
    {
     "data": {
      "text/plain": [
       "<_sre.SRE_Match object; span=(0, 5), match='abbbc'>"
      ]
     },
     "execution_count": 24,
     "metadata": {
      "tags": []
     },
     "output_type": "execute_result"
    }
   ],
   "source": [
    "r.search(\"abbbc\") # 매치되므로 Match Object 리턴 (b가 3개)"
   ]
  },
  {
   "cell_type": "code",
   "execution_count": 25,
   "metadata": {
    "colab": {
     "base_uri": "https://localhost:8080/",
     "height": 35
    },
    "colab_type": "code",
    "id": "gitRCsADrhwN",
    "outputId": "f8234c43-6406-4930-f998-7c772d486cc1"
   },
   "outputs": [
    {
     "data": {
      "text/plain": [
       "<_sre.SRE_Match object; span=(0, 6), match='abbbbc'>"
      ]
     },
     "execution_count": 25,
     "metadata": {
      "tags": []
     },
     "output_type": "execute_result"
    }
   ],
   "source": [
    "r.search(\"abbbbc\") # 매치되므로 Match Object 리턴 (b가 4개)"
   ]
  },
  {
   "cell_type": "code",
   "execution_count": 26,
   "metadata": {
    "colab": {
     "base_uri": "https://localhost:8080/",
     "height": 35
    },
    "colab_type": "code",
    "id": "l7UB9XnBrk6t",
    "outputId": "3091b2ef-9461-4994-886e-3521a1047264"
   },
   "outputs": [
    {
     "data": {
      "text/plain": [
       "<_sre.SRE_Match object; span=(0, 10), match='abbbbbbbbc'>"
      ]
     },
     "execution_count": 26,
     "metadata": {
      "tags": []
     },
     "output_type": "execute_result"
    }
   ],
   "source": [
    "r.search(\"abbbbbbbbc\") # 매치되므로 Match Object 리턴 (b가 8개)"
   ]
  },
  {
   "cell_type": "code",
   "execution_count": null,
   "metadata": {
    "colab": {},
    "colab_type": "code",
    "id": "1NMfSlvCrm1t"
   },
   "outputs": [],
   "source": [
    "r.search(\"abbbbbbbbbc\") # 일치하지 않으므로 아무런 결과도 출력되지 않는다. (b가 9개)"
   ]
  },
  {
   "cell_type": "markdown",
   "metadata": {
    "colab_type": "text",
    "id": "jUYAeUVurrqN"
   },
   "source": [
    "<br>"
   ]
  },
  {
   "cell_type": "markdown",
   "metadata": {
    "colab_type": "text",
    "id": "mWmX2hwrruCb"
   },
   "source": [
    "### 5.2.8 `{숫자,}` 기호\n",
    "\n",
    "- 문자 뒤에 해당 기호를 붙이면 해당 문자를 `숫자` 이상 만큼 반복한다.  \n",
    "  \n",
    "\n",
    "- ex) 정규표현식이 `a{2,}bc`\n",
    "  - `bc`가 붙으면서 `a`의 갯수가 2개 이상인 경우인 문자열과 매치된다.  \n",
    "\n",
    "\n",
    "- `{0,}` 는 `*`과 동일한 의미를 가짐\n",
    "- `{1,}` 는 `+`와 동일한 의미를 가짐"
   ]
  },
  {
   "cell_type": "code",
   "execution_count": null,
   "metadata": {
    "colab": {},
    "colab_type": "code",
    "id": "1lrFmj2SsMun"
   },
   "outputs": [],
   "source": [
    "import re\n",
    "\n",
    "r = re.compile(\"a{2,}bc\")"
   ]
  },
  {
   "cell_type": "code",
   "execution_count": null,
   "metadata": {
    "colab": {},
    "colab_type": "code",
    "id": "s0nQDe3esPsh"
   },
   "outputs": [],
   "source": [
    "r.search(\"bc\") # 일치하지 않으므로 아무런 결과도 출력되지 않는다. (a가 0개)"
   ]
  },
  {
   "cell_type": "code",
   "execution_count": null,
   "metadata": {
    "colab": {},
    "colab_type": "code",
    "id": "lnWuEteNsRaq"
   },
   "outputs": [],
   "source": [
    "r.search(\"aa\") # 일치하지 않으므로 아무런 결과도 출력되지 않는다. (bc가 없음)"
   ]
  },
  {
   "cell_type": "code",
   "execution_count": 31,
   "metadata": {
    "colab": {
     "base_uri": "https://localhost:8080/",
     "height": 35
    },
    "colab_type": "code",
    "id": "0Z0Mp3FRsYCg",
    "outputId": "a6918b7c-0798-4977-a97b-c27c107231df"
   },
   "outputs": [
    {
     "data": {
      "text/plain": [
       "<_sre.SRE_Match object; span=(0, 4), match='aabc'>"
      ]
     },
     "execution_count": 31,
     "metadata": {
      "tags": []
     },
     "output_type": "execute_result"
    }
   ],
   "source": [
    "r.search(\"aabc\") # 매치되므로 Match Object 리턴"
   ]
  },
  {
   "cell_type": "code",
   "execution_count": 32,
   "metadata": {
    "colab": {
     "base_uri": "https://localhost:8080/",
     "height": 35
    },
    "colab_type": "code",
    "id": "5DVpx3dHscZ7",
    "outputId": "37ce4cdb-f89b-4b75-cf5e-253e4a138461"
   },
   "outputs": [
    {
     "data": {
      "text/plain": [
       "<_sre.SRE_Match object; span=(0, 10), match='aaaaaaaabc'>"
      ]
     },
     "execution_count": 32,
     "metadata": {
      "tags": []
     },
     "output_type": "execute_result"
    }
   ],
   "source": [
    "r.search(\"aaaaaaaabc\") # 매치되므로 Match Object 리턴"
   ]
  },
  {
   "cell_type": "markdown",
   "metadata": {
    "colab_type": "text",
    "id": "FJdp5VWGsfhb"
   },
   "source": [
    "<br>"
   ]
  },
  {
   "cell_type": "markdown",
   "metadata": {
    "colab_type": "text",
    "id": "LGkg9Lk0ssIw"
   },
   "source": [
    "### 5.2.9 `[]` 기호\n",
    "\n",
    "- `[]` 안에 문자들을 넣으면 그 **문자들 중 한 개의 문자와 매치**라는 의미를 갖는다.  \n",
    "  \n",
    "\n",
    "- ex) 정규표현식 : `[abc]`\n",
    "  - `a` 또는 `b` 또는 `c`가 들어있는 문자열과 매치됨  \n",
    "\n",
    "\n",
    "- 범위를 지정하는 것도 가능하다.\n",
    "  - `[a-zA-Z]` : 알파벳 전부를 의미\n",
    "  - `[0-9]` : 숫자 전부를 의미"
   ]
  },
  {
   "cell_type": "code",
   "execution_count": null,
   "metadata": {
    "colab": {},
    "colab_type": "code",
    "id": "DGy1YRw7tHD4"
   },
   "outputs": [],
   "source": [
    "import re\n",
    "\n",
    "r = re.compile(\"[abc]\") # [abc]는 [a-c]와 동일"
   ]
  },
  {
   "cell_type": "code",
   "execution_count": 34,
   "metadata": {
    "colab": {
     "base_uri": "https://localhost:8080/",
     "height": 35
    },
    "colab_type": "code",
    "id": "iVo-Vw4UtPiB",
    "outputId": "61f1ffa8-23ea-4659-b911-0301b55404d1"
   },
   "outputs": [
    {
     "data": {
      "text/plain": [
       "<_sre.SRE_Match object; span=(0, 1), match='a'>"
      ]
     },
     "execution_count": 34,
     "metadata": {
      "tags": []
     },
     "output_type": "execute_result"
    }
   ],
   "source": [
    "r.search(\"a\")"
   ]
  },
  {
   "cell_type": "code",
   "execution_count": 35,
   "metadata": {
    "colab": {
     "base_uri": "https://localhost:8080/",
     "height": 35
    },
    "colab_type": "code",
    "id": "YvV6fRljtQ3k",
    "outputId": "a4c36b23-1abd-47bf-bc62-37353d9fe07c"
   },
   "outputs": [
    {
     "data": {
      "text/plain": [
       "<_sre.SRE_Match object; span=(0, 1), match='a'>"
      ]
     },
     "execution_count": 35,
     "metadata": {
      "tags": []
     },
     "output_type": "execute_result"
    }
   ],
   "source": [
    "r.search(\"aaaaaaa\")"
   ]
  },
  {
   "cell_type": "code",
   "execution_count": 36,
   "metadata": {
    "colab": {
     "base_uri": "https://localhost:8080/",
     "height": 35
    },
    "colab_type": "code",
    "id": "XfMb9Ah7tT9n",
    "outputId": "6dd06572-e6e8-41d2-9faa-320c4c584175"
   },
   "outputs": [
    {
     "data": {
      "text/plain": [
       "<_sre.SRE_Match object; span=(0, 1), match='b'>"
      ]
     },
     "execution_count": 36,
     "metadata": {
      "tags": []
     },
     "output_type": "execute_result"
    }
   ],
   "source": [
    "r.search(\"baac\")"
   ]
  },
  {
   "cell_type": "code",
   "execution_count": 37,
   "metadata": {
    "colab": {
     "base_uri": "https://localhost:8080/",
     "height": 35
    },
    "colab_type": "code",
    "id": "y3mtI0nTtVCo",
    "outputId": "dabc58f3-6582-4702-82b2-288ff9b7ecae"
   },
   "outputs": [
    {
     "data": {
      "text/plain": [
       "<_sre.SRE_Match object; span=(0, 1), match='a'>"
      ]
     },
     "execution_count": 37,
     "metadata": {
      "tags": []
     },
     "output_type": "execute_result"
    }
   ],
   "source": [
    "r.search(\"abcde\")"
   ]
  },
  {
   "cell_type": "markdown",
   "metadata": {
    "colab_type": "text",
    "id": "uZ-3J1cvtXGY"
   },
   "source": [
    "- 알파벳 소문자에 대해서만 범위를 지정하여 정규 표현식을 만들고 문자열과 매치"
   ]
  },
  {
   "cell_type": "code",
   "execution_count": null,
   "metadata": {
    "colab": {},
    "colab_type": "code",
    "id": "IMWKjXpztfMj"
   },
   "outputs": [],
   "source": [
    "import re\n",
    "\n",
    "r = re.compile(\"[a-z]\")"
   ]
  },
  {
   "cell_type": "code",
   "execution_count": null,
   "metadata": {
    "colab": {},
    "colab_type": "code",
    "id": "3eoBLTwwtiKR"
   },
   "outputs": [],
   "source": [
    "r.search(\"AAA\")"
   ]
  },
  {
   "cell_type": "code",
   "execution_count": 40,
   "metadata": {
    "colab": {
     "base_uri": "https://localhost:8080/",
     "height": 35
    },
    "colab_type": "code",
    "id": "RB38n43HtjvZ",
    "outputId": "6bf0d210-005c-437b-f6b5-028525008c9c"
   },
   "outputs": [
    {
     "data": {
      "text/plain": [
       "<_sre.SRE_Match object; span=(0, 1), match='a'>"
      ]
     },
     "execution_count": 40,
     "metadata": {
      "tags": []
     },
     "output_type": "execute_result"
    }
   ],
   "source": [
    "r.search(\"aBC\")"
   ]
  },
  {
   "cell_type": "code",
   "execution_count": null,
   "metadata": {
    "colab": {},
    "colab_type": "code",
    "id": "Mfrhya6ktlTh"
   },
   "outputs": [],
   "source": [
    "r.search(\"111\")"
   ]
  },
  {
   "cell_type": "markdown",
   "metadata": {
    "colab_type": "text",
    "id": "QyzYah7ttm4B"
   },
   "source": [
    "<br>"
   ]
  },
  {
   "cell_type": "markdown",
   "metadata": {
    "colab_type": "text",
    "id": "DfgB_Tk_tosI"
   },
   "source": [
    "### 5.2.10 `[^문자]` 기호\n",
    "\n",
    "- `[^문자]` 는 [5.2.5](#525)에서 설명한 `^`와는 완전히 다른 의미로 쓰인다.\n",
    "- `[]` 안의 `^` 기호 뒤에 붙은 문자들을 제외한 모든 문자를 매치하는 역할을 한다.  \n",
    "  \n",
    "  \n",
    "- ex) 정규표현식 : `[^abc]`\n",
    "  - `a` 또는 `b` 또는 `c`가 들어간 문자열을 제외한 모든 문자열을 매치한다."
   ]
  },
  {
   "cell_type": "code",
   "execution_count": null,
   "metadata": {
    "colab": {},
    "colab_type": "code",
    "id": "tOTCSEPnuKb5"
   },
   "outputs": [],
   "source": [
    "import re\n",
    "\n",
    "r = re.compile(\"[^abc]\")"
   ]
  },
  {
   "cell_type": "code",
   "execution_count": null,
   "metadata": {
    "colab": {},
    "colab_type": "code",
    "id": "pedrHPnGuOVN"
   },
   "outputs": [],
   "source": [
    "r.search(\"a\")"
   ]
  },
  {
   "cell_type": "code",
   "execution_count": null,
   "metadata": {
    "colab": {},
    "colab_type": "code",
    "id": "YKhS9byNuQwO"
   },
   "outputs": [],
   "source": [
    "r.search(\"b\")"
   ]
  },
  {
   "cell_type": "code",
   "execution_count": null,
   "metadata": {
    "colab": {},
    "colab_type": "code",
    "id": "NFhACwcFuR6m"
   },
   "outputs": [],
   "source": [
    "r.search(\"ab\")"
   ]
  },
  {
   "cell_type": "code",
   "execution_count": 46,
   "metadata": {
    "colab": {
     "base_uri": "https://localhost:8080/",
     "height": 35
    },
    "colab_type": "code",
    "id": "ss3UVowCuTIO",
    "outputId": "03e543bc-a957-4759-8d8e-36c275948639"
   },
   "outputs": [
    {
     "data": {
      "text/plain": [
       "<_sre.SRE_Match object; span=(0, 1), match='d'>"
      ]
     },
     "execution_count": 46,
     "metadata": {
      "tags": []
     },
     "output_type": "execute_result"
    }
   ],
   "source": [
    "r.search(\"d\")"
   ]
  },
  {
   "cell_type": "code",
   "execution_count": 47,
   "metadata": {
    "colab": {
     "base_uri": "https://localhost:8080/",
     "height": 35
    },
    "colab_type": "code",
    "id": "1Hd1NgFYuVIe",
    "outputId": "3f78f30c-5bd8-4ec2-a64e-d1e231853534"
   },
   "outputs": [
    {
     "data": {
      "text/plain": [
       "<_sre.SRE_Match object; span=(0, 1), match='1'>"
      ]
     },
     "execution_count": 47,
     "metadata": {
      "tags": []
     },
     "output_type": "execute_result"
    }
   ],
   "source": [
    "r.search(\"1\")"
   ]
  },
  {
   "cell_type": "markdown",
   "metadata": {
    "colab_type": "text",
    "id": "Susf41xuuWsW"
   },
   "source": [
    "<br>"
   ]
  },
  {
   "cell_type": "markdown",
   "metadata": {
    "colab_type": "text",
    "id": "Z8GfHBOGuYeN"
   },
   "source": [
    "## 5.3 정규 표현식 모듈 함수 예제\n",
    "\n",
    "- `re.compile()`과 `re.search()` 이외의 다른 정규 표현식 모듈 함수에 대해 실습 진행"
   ]
  },
  {
   "cell_type": "markdown",
   "metadata": {
    "colab_type": "text",
    "id": "z9rmAI1CumSp"
   },
   "source": [
    "<br>"
   ]
  },
  {
   "cell_type": "markdown",
   "metadata": {
    "colab_type": "text",
    "id": "kFkRmBY2unvl"
   },
   "source": [
    "### 5.3.1 `re.match()` 와 `re.search()` 의 차이\n",
    "\n",
    "- `search()`\n",
    "  - 정규 표현식 전체에 대해서 문자열이 매치하는 지를 확인  \n",
    "\n",
    "\n",
    "- `match()`\n",
    "  - 문자열의 **첫 부분**부터 정규 표현식과 매치하는 지를 확인\n",
    "  - 문자열 중간에 찾을 패턴이 있다고 하더라도, `match` 함수는 문자열의 시작에서 패턴이 일치하지 않으면 찾지 않는다."
   ]
  },
  {
   "cell_type": "code",
   "execution_count": null,
   "metadata": {
    "colab": {},
    "colab_type": "code",
    "id": "o1IORiogvCdW"
   },
   "outputs": [],
   "source": [
    "import re\n",
    "\n",
    "r = re.compile(\"ab.\") # ab 다음에는 어떤 한 글자가 존재할 수 있다는 패턴을 의미"
   ]
  },
  {
   "cell_type": "code",
   "execution_count": 49,
   "metadata": {
    "colab": {
     "base_uri": "https://localhost:8080/",
     "height": 35
    },
    "colab_type": "code",
    "id": "Rq7bNiMIvGLl",
    "outputId": "fa74a1af-0fba-46c7-b5b9-59586e711d03"
   },
   "outputs": [
    {
     "data": {
      "text/plain": [
       "<_sre.SRE_Match object; span=(3, 6), match='abc'>"
      ]
     },
     "execution_count": 49,
     "metadata": {
      "tags": []
     },
     "output_type": "execute_result"
    }
   ],
   "source": [
    "r.search(\"kkkabc\")"
   ]
  },
  {
   "cell_type": "code",
   "execution_count": null,
   "metadata": {
    "colab": {},
    "colab_type": "code",
    "id": "8n1BcZhGvIKP"
   },
   "outputs": [],
   "source": [
    "r.match(\"kkkabc\") # 앞부분이 ab. 와 매치되지 않음"
   ]
  },
  {
   "cell_type": "code",
   "execution_count": 51,
   "metadata": {
    "colab": {
     "base_uri": "https://localhost:8080/",
     "height": 35
    },
    "colab_type": "code",
    "id": "dEEzoCRivVym",
    "outputId": "a66a2b71-1e3d-41be-aae3-4c588a30b808"
   },
   "outputs": [
    {
     "data": {
      "text/plain": [
       "<_sre.SRE_Match object; span=(0, 3), match='abc'>"
      ]
     },
     "execution_count": 51,
     "metadata": {
      "tags": []
     },
     "output_type": "execute_result"
    }
   ],
   "source": [
    "r.match(\"abckkk\")"
   ]
  },
  {
   "cell_type": "markdown",
   "metadata": {
    "colab_type": "text",
    "id": "faOojHXxvXVc"
   },
   "source": [
    "<br>"
   ]
  },
  {
   "cell_type": "markdown",
   "metadata": {
    "colab_type": "text",
    "id": "HtN8XwyPvifU"
   },
   "source": [
    "### 5.3.2 `re.split()`\n",
    "\n",
    "- 입력된 정규 표현식을 기준으로 문자열들을 분리하여 리스트로 리턴\n",
    "- 자연어 처리에 있어서 가장 많이 사용되는 정규 표현식 함수 중 하나  \n",
    "(토큰화에 유용하게 쓰일 수 있기 때문)"
   ]
  },
  {
   "cell_type": "code",
   "execution_count": 52,
   "metadata": {
    "colab": {
     "base_uri": "https://localhost:8080/",
     "height": 35
    },
    "colab_type": "code",
    "id": "NVfoldJWvv87",
    "outputId": "a93f8959-b1f2-422f-8853-f6482877e9a0"
   },
   "outputs": [
    {
     "data": {
      "text/plain": [
       "['사과', '딸기', '수박', '메론', '바나나']"
      ]
     },
     "execution_count": 52,
     "metadata": {
      "tags": []
     },
     "output_type": "execute_result"
    }
   ],
   "source": [
    "import re\n",
    "\n",
    "text = \"사과 딸기 수박 메론 바나나\"\n",
    "re.split(\" \", text) # 공백을 기준으로 문자열 분리 수행"
   ]
  },
  {
   "cell_type": "code",
   "execution_count": 53,
   "metadata": {
    "colab": {
     "base_uri": "https://localhost:8080/",
     "height": 35
    },
    "colab_type": "code",
    "id": "-Z8SqMx4v6Fr",
    "outputId": "62471ce3-6d7b-42ba-95e2-bd5674d14f34"
   },
   "outputs": [
    {
     "data": {
      "text/plain": [
       "['사과', '딸기', '수박', '메론', '바나나']"
      ]
     },
     "execution_count": 53,
     "metadata": {
      "tags": []
     },
     "output_type": "execute_result"
    }
   ],
   "source": [
    "import re\n",
    "\n",
    "text = \"\"\"사과\n",
    "딸기\n",
    "수박\n",
    "메론\n",
    "바나나\"\"\"\n",
    "re.split(\"\\n\", text) # 줄바꿈(\\n)을 기준으로 문자열 분리 수행"
   ]
  },
  {
   "cell_type": "code",
   "execution_count": 54,
   "metadata": {
    "colab": {
     "base_uri": "https://localhost:8080/",
     "height": 35
    },
    "colab_type": "code",
    "id": "m_MGd7lAwGh6",
    "outputId": "3c56d7ec-3af8-4ca8-9ece-7555891f0727"
   },
   "outputs": [
    {
     "data": {
      "text/plain": [
       "['사과', '딸기', '수박', '메론', '바나나']"
      ]
     },
     "execution_count": 54,
     "metadata": {
      "tags": []
     },
     "output_type": "execute_result"
    }
   ],
   "source": [
    "import re\n",
    "\n",
    "text=\"사과+딸기+수박+메론+바나나\"\n",
    "\n",
    "re.split(\"\\+\", text) # \"+\" 기호를 기준으로 문자열 분리 수행"
   ]
  },
  {
   "cell_type": "markdown",
   "metadata": {
    "colab_type": "text",
    "id": "7atqqSRXwUjl"
   },
   "source": [
    "<br>"
   ]
  },
  {
   "cell_type": "markdown",
   "metadata": {
    "colab_type": "text",
    "id": "RIqWs_xrwW95"
   },
   "source": [
    "### 5.3.3 `re.findall()`\n",
    "\n",
    "- 정규 표현식과 매치되는 모든 문자열들을 리스트로 리턴\n",
    "- 단, 매치되는 문자열이 없다면 빈 리스트를 리턴"
   ]
  },
  {
   "cell_type": "code",
   "execution_count": 55,
   "metadata": {
    "colab": {
     "base_uri": "https://localhost:8080/",
     "height": 35
    },
    "colab_type": "code",
    "id": "gDw2z7vGwgPU",
    "outputId": "6f834554-4bd8-4c10-db64-f9bdfdfc4c4d"
   },
   "outputs": [
    {
     "data": {
      "text/plain": [
       "['010', '1234', '1234', '30']"
      ]
     },
     "execution_count": 55,
     "metadata": {
      "tags": []
     },
     "output_type": "execute_result"
    }
   ],
   "source": [
    "import re\n",
    "\n",
    "text = \"\"\"이름 : 김철수\n",
    "전화번호 : 010 - 1234 - 1234\n",
    "나이 : 30\n",
    "성별 : 남\"\"\"\n",
    "\n",
    "re.findall(\"\\d+\", text) # 1개 이상(+)의 숫자(\\d)"
   ]
  },
  {
   "cell_type": "code",
   "execution_count": 56,
   "metadata": {
    "colab": {
     "base_uri": "https://localhost:8080/",
     "height": 35
    },
    "colab_type": "code",
    "id": "hPcSvHRzwtxf",
    "outputId": "dcd08ecd-4422-42fa-a860-5fd04533e6a3"
   },
   "outputs": [
    {
     "data": {
      "text/plain": [
       "[]"
      ]
     },
     "execution_count": 56,
     "metadata": {
      "tags": []
     },
     "output_type": "execute_result"
    }
   ],
   "source": [
    "# 빈 리스트 리턴 확인\n",
    "re.findall(\"\\d+\", \"문자열입니다.\")"
   ]
  },
  {
   "cell_type": "markdown",
   "metadata": {
    "colab_type": "text",
    "id": "6zAD_85aw9JR"
   },
   "source": [
    "<br>"
   ]
  },
  {
   "cell_type": "markdown",
   "metadata": {
    "colab_type": "text",
    "id": "oObhUrfQw_Ty"
   },
   "source": [
    "### 5.3.4 `re.sub()`\n",
    "\n",
    "- 정규 표현식 패턴과 일치하는 문자열을 찾아 다른 문자열로 대체할 수 있다."
   ]
  },
  {
   "cell_type": "code",
   "execution_count": 58,
   "metadata": {
    "colab": {
     "base_uri": "https://localhost:8080/",
     "height": 55
    },
    "colab_type": "code",
    "id": "_o_11YtlxFXA",
    "outputId": "7a74d98a-16ce-4a4f-85e2-3053351f5539"
   },
   "outputs": [
    {
     "data": {
      "text/plain": [
       "'Regular expression   A regular expression  regex or regexp     sometimes called a rational expression        is  in theoretical computer science and formal language theory  a sequence of characters that define a search pattern '"
      ]
     },
     "execution_count": 58,
     "metadata": {
      "tags": []
     },
     "output_type": "execute_result"
    }
   ],
   "source": [
    "import re\n",
    "\n",
    "text=\"Regular expression : A regular expression, regex or regexp[1] \\\n",
    "(sometimes called a rational expression)[2][3] is, in theoretical computer science and formal \\\n",
    "language theory, a sequence of characters that define a search pattern.\"\n",
    "\n",
    "# 알파벳이 아닌 문자열(\":\", \"[\", \"]\", \"(\", \")\", 숫자, \",\", \".)을 띄어쓰기로 대체\n",
    "re.sub(\"[^a-zA-Z]\", \" \", text) "
   ]
  },
  {
   "cell_type": "markdown",
   "metadata": {
    "colab_type": "text",
    "id": "QX4TBGpCxYtj"
   },
   "source": [
    "- 자연어 처리를 위해 특수 문자를 제거하고 싶다면 아래의 코드를 알파벳 외의 문자는 공백을 처리하는 등의 사용 용도로 쓸 수 있다.\n",
    "\n",
    "```python\n",
    "re.sub(\"[^a-zA-Z], \"\", 문자열)\n",
    "```"
   ]
  },
  {
   "cell_type": "markdown",
   "metadata": {
    "colab_type": "text",
    "id": "s1JBfGhnyFLm"
   },
   "source": [
    "<br>"
   ]
  },
  {
   "cell_type": "markdown",
   "metadata": {
    "colab_type": "text",
    "id": "mTH1qe4gyKMm"
   },
   "source": [
    "## 5.4 정규 표현식 텍스트 전처리 예제"
   ]
  },
  {
   "cell_type": "code",
   "execution_count": null,
   "metadata": {
    "colab": {},
    "colab_type": "code",
    "id": "MM-yKFlUyReI"
   },
   "outputs": [],
   "source": [
    "import re\n",
    "\n",
    "text = \"\"\"100 John    PROF\n",
    "101 James   STUD\n",
    "102 Mac   STUD\"\"\" "
   ]
  },
  {
   "cell_type": "markdown",
   "metadata": {
    "colab_type": "text",
    "id": "T6ShigqUyrH5"
   },
   "source": [
    "- 입력으로 테이블 형식의 데이터를 텍스트에 저장\n",
    "- 각 데이터가 공백으로 구분되어 있음"
   ]
  },
  {
   "cell_type": "markdown",
   "metadata": {
    "colab_type": "text",
    "id": "LD3pTpHnyUmG"
   },
   "source": [
    "<br>"
   ]
  },
  {
   "cell_type": "markdown",
   "metadata": {
    "colab_type": "text",
    "id": "vvEYZPlNyaIO"
   },
   "source": [
    "### 5.4.1 공백으로 문자열 분리하기\n",
    "\n",
    "- `\\s+` : 1개 이상의 공백을 찾아내는 정규표현식\n",
    "  - 뒤에 붙는 `+`는 최소 1개 이상의 패턴을 찾아낸다는 의미이다.\n",
    "  - `s`는 공백을 의미한다."
   ]
  },
  {
   "cell_type": "code",
   "execution_count": 60,
   "metadata": {
    "colab": {
     "base_uri": "https://localhost:8080/",
     "height": 35
    },
    "colab_type": "code",
    "id": "G3Kyeo5NyyZU",
    "outputId": "5a1b8861-1059-4dc2-c62f-fbbc66473455"
   },
   "outputs": [
    {
     "data": {
      "text/plain": [
       "['100', 'John', 'PROF', '101', 'James', 'STUD', '102', 'Mac', 'STUD']"
      ]
     },
     "execution_count": 60,
     "metadata": {
      "tags": []
     },
     "output_type": "execute_result"
    }
   ],
   "source": [
    "re.split(\"\\s+\", text)"
   ]
  },
  {
   "cell_type": "markdown",
   "metadata": {
    "colab_type": "text",
    "id": "Rrt4xuR4y0_m"
   },
   "source": [
    "- `split()` 은 주어진 정규표현식을 기준으로 분리한다."
   ]
  },
  {
   "cell_type": "markdown",
   "metadata": {
    "colab_type": "text",
    "id": "iKLB_e4fy6BV"
   },
   "source": [
    "<br>"
   ]
  },
  {
   "cell_type": "markdown",
   "metadata": {
    "colab_type": "text",
    "id": "ATHJfj9szG-8"
   },
   "source": [
    "### 5.4.2 숫자만 뽑기\n",
    "\n",
    "- `\\d` : 최소 1개 이상의 숫자에 해당되는 정규표현식\n",
    "  - `+` : 최소 1개 이상의 패턴을 찾아낸다."
   ]
  },
  {
   "cell_type": "code",
   "execution_count": 61,
   "metadata": {
    "colab": {
     "base_uri": "https://localhost:8080/",
     "height": 35
    },
    "colab_type": "code",
    "id": "25v7g2QkzKPw",
    "outputId": "13bdd94f-f83e-4414-e0b4-2c15e5d388b1"
   },
   "outputs": [
    {
     "data": {
      "text/plain": [
       "['100', '101', '102']"
      ]
     },
     "execution_count": 61,
     "metadata": {
      "tags": []
     },
     "output_type": "execute_result"
    }
   ],
   "source": [
    "re.findall(\"\\d+\", text)"
   ]
  },
  {
   "cell_type": "markdown",
   "metadata": {
    "colab_type": "text",
    "id": "eCgvO25zzP9U"
   },
   "source": [
    "- `findall()` 은 해당 정규 표현식에 일치하는 값을 찾아내는 메서드이다."
   ]
  },
  {
   "cell_type": "markdown",
   "metadata": {
    "colab_type": "text",
    "id": "dqjnv30Izgqd"
   },
   "source": [
    "<br>"
   ]
  },
  {
   "cell_type": "markdown",
   "metadata": {
    "colab_type": "text",
    "id": "BugtcNxSzir1"
   },
   "source": [
    "### 5.4.3 텍스트로부터 대문자인 행의 값만 가져오기\n",
    "\n",
    "- 정규 표현식에 대문자를 기준으로 매치시키면 된다.\n",
    "- 하지만 정규 표현식에 대문자라는 기준만을 넣을 경우에는 문자열을 가져오는 것이 아니라 모든 대문자 각각을 가져오게 된다."
   ]
  },
  {
   "cell_type": "code",
   "execution_count": 62,
   "metadata": {
    "colab": {
     "base_uri": "https://localhost:8080/",
     "height": 35
    },
    "colab_type": "code",
    "id": "FwvdWD5lzwZw",
    "outputId": "2b9c524b-c4a7-4284-cdc7-6961d83c499f"
   },
   "outputs": [
    {
     "data": {
      "text/plain": [
       "['J', 'P', 'R', 'O', 'F', 'J', 'S', 'T', 'U', 'D', 'M', 'S', 'T', 'U', 'D']"
      ]
     },
     "execution_count": 62,
     "metadata": {
      "tags": []
     },
     "output_type": "execute_result"
    }
   ],
   "source": [
    "re.findall(\"[A-Z]\", text)"
   ]
  },
  {
   "cell_type": "markdown",
   "metadata": {
    "colab_type": "text",
    "id": "Of48uaafzy6B"
   },
   "source": [
    "- 대문자가 연속적으로 4번 등장하는 경우로 조건을 추가"
   ]
  },
  {
   "cell_type": "code",
   "execution_count": 63,
   "metadata": {
    "colab": {
     "base_uri": "https://localhost:8080/",
     "height": 35
    },
    "colab_type": "code",
    "id": "WKRoOHmqz25r",
    "outputId": "c861c6d2-5fa9-49bd-c932-9947291220c1"
   },
   "outputs": [
    {
     "data": {
      "text/plain": [
       "['PROF', 'STUD', 'STUD']"
      ]
     },
     "execution_count": 63,
     "metadata": {
      "tags": []
     },
     "output_type": "execute_result"
    }
   ],
   "source": [
    "re.findall(\"[A-Z]{4}\", text)"
   ]
  },
  {
   "cell_type": "markdown",
   "metadata": {
    "colab_type": "text",
    "id": "-VElCJecz6BQ"
   },
   "source": [
    "<br>"
   ]
  },
  {
   "cell_type": "markdown",
   "metadata": {
    "colab_type": "text",
    "id": "6jHVFuhiz8vS"
   },
   "source": [
    "### 5.4.4 이름과 같은 대문자와 소문자가 섞인 값 가져오기\n",
    "\n",
    "- 이름에 대한 행의 값을 가져오고 싶다면 처음에 대문자가 등장하고, 그 후에 소문자가 여러번 등장하는 경우에 매치하게 한다."
   ]
  },
  {
   "cell_type": "code",
   "execution_count": 64,
   "metadata": {
    "colab": {
     "base_uri": "https://localhost:8080/",
     "height": 35
    },
    "colab_type": "code",
    "id": "QLKza8rK0IwC",
    "outputId": "e55e7ba3-0fa0-4555-cac6-6d2d2149e7ed"
   },
   "outputs": [
    {
     "data": {
      "text/plain": [
       "['John', 'James', 'Mac']"
      ]
     },
     "execution_count": 64,
     "metadata": {
      "tags": []
     },
     "output_type": "execute_result"
    }
   ],
   "source": [
    "re.findall(\"[A-Z][a-z]+\", text)"
   ]
  },
  {
   "cell_type": "markdown",
   "metadata": {
    "colab_type": "text",
    "id": "qx66JvQS0MlC"
   },
   "source": [
    "<br>"
   ]
  },
  {
   "cell_type": "markdown",
   "metadata": {
    "colab_type": "text",
    "id": "5gsVcLB10P2a"
   },
   "source": [
    "### 5.4.5 영문자가 아닌 문자는 모두 공백으로 치환"
   ]
  },
  {
   "cell_type": "code",
   "execution_count": 66,
   "metadata": {
    "colab": {
     "base_uri": "https://localhost:8080/",
     "height": 35
    },
    "colab_type": "code",
    "id": "N-J9aF8j0VZv",
    "outputId": "9d85328d-a0bb-4f1b-c968-e092e106d3cb"
   },
   "outputs": [
    {
     "data": {
      "text/plain": [
       "'    John    PROF     James   STUD     Mac   STUD'"
      ]
     },
     "execution_count": 66,
     "metadata": {
      "tags": []
     },
     "output_type": "execute_result"
    }
   ],
   "source": [
    "letters_only = re.sub(\"[^a-zA-Z]\", \" \", text)\n",
    "letters_only"
   ]
  },
  {
   "cell_type": "markdown",
   "metadata": {
    "colab_type": "text",
    "id": "Su5yyVaJ0a9U"
   },
   "source": [
    "<br>"
   ]
  },
  {
   "cell_type": "markdown",
   "metadata": {
    "colab_type": "text",
    "id": "enNgjrBB0hYD"
   },
   "source": [
    "### 5.4.6 정규 표현식 텍스트 전처리 예제 링크\n",
    "\n",
    "- [링크1](https://www.machinelearningplus.com/python/python-regex-tutorial-examples/)\n",
    "- [링크2](https://docs.python.org/3.6/library/re.html#re.regex.search)\n",
    "- [링크3](http://blog.naver.com/javaking75/220702756707)"
   ]
  },
  {
   "cell_type": "markdown",
   "metadata": {
    "colab_type": "text",
    "id": "nkWlQQ2M0tAe"
   },
   "source": [
    "<br>"
   ]
  },
  {
   "cell_type": "markdown",
   "metadata": {
    "colab_type": "text",
    "id": "1WuTG1lD1vOB"
   },
   "source": [
    "## 5.5 정규 표현식을 이용한 토큰화"
   ]
  },
  {
   "cell_type": "markdown",
   "metadata": {
    "colab_type": "text",
    "id": "O9hRyGkA00P2"
   },
   "source": [
    "### 5.5.1 `RegexpTokenizer`\n",
    "\n",
    "- NLTK에서는 정규 표현식을 사용해서 단어 토큰화를 수행하는 `RegexpTokenizer`를 지원한다.\n",
    "- `RegexpTokenizer()`에서 괄호 안에 원하는 정규 표현식을 넣어서 토큰화를 수행할 수 있다."
   ]
  },
  {
   "cell_type": "code",
   "execution_count": 67,
   "metadata": {
    "colab": {
     "base_uri": "https://localhost:8080/",
     "height": 55
    },
    "colab_type": "code",
    "id": "2CF41qGe02sy",
    "outputId": "7ed12c81-25ad-460f-bf8a-d8cfe7b74dd1"
   },
   "outputs": [
    {
     "name": "stdout",
     "output_type": "stream",
     "text": [
      "['Don', 't', 'be', 'fooled', 'by', 'the', 'dark', 'sounding', 'name', 'Mr', 'Jone', 's', 'Orphanage', 'is', 'as', 'cheery', 'as', 'cheery', 'goes', 'for', 'a', 'pastry', 'shop']\n"
     ]
    }
   ],
   "source": [
    "import nltk\n",
    "from nltk.tokenize import RegexpTokenizer\n",
    "\n",
    "tokenizer = RegexpTokenizer(\"[\\w]+\") # 1개 이상의 모든 문자와 숫자\n",
    "\n",
    "text = \"Don't be fooled by the dark sounding name, Mr. Jone's Orphanage is as cheery as \\\n",
    "cheery goes for a pastry shop\"\n",
    "\n",
    "print(tokenizer.tokenize(text))"
   ]
  },
  {
   "cell_type": "markdown",
   "metadata": {
    "colab_type": "text",
    "id": "xCc6yP_T1bM5"
   },
   "source": [
    "- `[\\w]+` 가 문자 또는 숫자가 1개 이상인 경우를 인식하는 코드이다.\n",
    "- 그렇기 때문에 이 코드는 문장에서 **구두점(`.`)**을 제외하고, 단어들만을 가지고 토큰화를 수행한다."
   ]
  },
  {
   "cell_type": "markdown",
   "metadata": {
    "colab_type": "text",
    "id": "4mx22TLT1zmI"
   },
   "source": [
    "\n",
    "<br>"
   ]
  },
  {
   "cell_type": "markdown",
   "metadata": {
    "colab_type": "text",
    "id": "28iK0BkX10mX"
   },
   "source": [
    "### 5.5.2 `RegexpTokenizer()`의 파라미터로 토큰을 나누기 위한 기준 입력\n",
    "\n",
    "- 공백을 기준으로 문장을 토큰화  \n",
    "  \n",
    "\n",
    "- `gaps=True`\n",
    "  - 해당 정규 표현식을 토큰으로 나누기 위한 기준으로 사용한다는 의미이다.\n",
    "  - 이 코드를 기재하지 않으면, 토큰화의 결과는 공백들만 나오게 된다.  "
   ]
  },
  {
   "cell_type": "code",
   "execution_count": 68,
   "metadata": {
    "colab": {
     "base_uri": "https://localhost:8080/",
     "height": 55
    },
    "colab_type": "code",
    "id": "Dhm9FAYu19yT",
    "outputId": "d6432aa7-cf49-4b18-ff47-105016ab3eb8"
   },
   "outputs": [
    {
     "name": "stdout",
     "output_type": "stream",
     "text": [
      "[\"Don't\", 'be', 'fooled', 'by', 'the', 'dark', 'sounding', 'name,', 'Mr.', \"Jone's\", 'Orphanage', 'is', 'as', 'cheery', 'as', 'cheery', 'goes', 'for', 'a', 'pastry', 'shop']\n"
     ]
    }
   ],
   "source": [
    "import nltk\n",
    "from nltk.tokenize import RegexpTokenizer\n",
    "\n",
    "tokenizer = RegexpTokenizer(\"[\\s]+\", gaps=True)\n",
    "\n",
    "text = \"Don't be fooled by the dark sounding name, Mr. Jone's Orphanage is as cheery as \\\n",
    "cheery goes for a pastry shop\"\n",
    "\n",
    "print(tokenizer.tokenize(text))"
   ]
  },
  {
   "cell_type": "markdown",
   "metadata": {
    "colab_type": "text",
    "id": "taxSSrwm2I12"
   },
   "source": [
    "- [5.5.2](#552)의 예제와는 달리 아포스트로피(`'`)나 온점(`.`)을 제외하지 않고 토큰화가 수행된 것을 확인할 수 있다."
   ]
  }
 ],
 "metadata": {
  "colab": {
   "collapsed_sections": [],
   "name": "Ch02_v05_Regular-Expression.ipynb",
   "provenance": []
  },
  "kernelspec": {
   "display_name": "Python 3",
   "language": "python",
   "name": "python3"
  },
  "language_info": {
   "codemirror_mode": {
    "name": "ipython",
    "version": 3
   },
   "file_extension": ".py",
   "mimetype": "text/x-python",
   "name": "python",
   "nbconvert_exporter": "python",
   "pygments_lexer": "ipython3",
   "version": "3.6.9"
  }
 },
 "nbformat": 4,
 "nbformat_minor": 4
}
