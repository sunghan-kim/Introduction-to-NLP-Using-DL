{
  "nbformat": 4,
  "nbformat_minor": 0,
  "metadata": {
    "colab": {
      "name": "Ch02_v09_Splitting-Data.ipynb",
      "provenance": [],
      "collapsed_sections": []
    },
    "kernelspec": {
      "name": "python3",
      "display_name": "Python 3"
    }
  },
  "cells": [
    {
      "cell_type": "markdown",
      "metadata": {
        "id": "44bYJtVi862p",
        "colab_type": "text"
      },
      "source": [
        "# Ch02. 텍스트 전처리 (Text Preprocessing)"
      ]
    },
    {
      "cell_type": "markdown",
      "metadata": {
        "id": "hCCA6ZK79DwA",
        "colab_type": "text"
      },
      "source": [
        "# v09. 데이터의 분리 (Splitting Data)"
      ]
    },
    {
      "cell_type": "markdown",
      "metadata": {
        "id": "1hBRK0y39Jjv",
        "colab_type": "text"
      },
      "source": [
        "- 지도 학습을 위한 데이터 분리 작업 학습"
      ]
    },
    {
      "cell_type": "markdown",
      "metadata": {
        "id": "ZBGRgBS09P1z",
        "colab_type": "text"
      },
      "source": [
        "<br>\n",
        "\n",
        "## 9.1 지도 학습 (Supervised Learning)"
      ]
    },
    {
      "cell_type": "markdown",
      "metadata": {
        "id": "Eq7rKYZd9Uv_",
        "colab_type": "text"
      },
      "source": [
        "### 9.1.1 지도 학습의 훈련 데이터\n",
        "\n",
        "- 문제지를 연상시킴\n",
        "- 정답이 무엇인지 맞춰야 하는 '문제'에 해당되는 데이터와 레이블이라고 부르는 '정답'이 적혀있는 데이터로 구성되어 있음\n",
        "- ex) 스팸 메일 분류기를 만들기 위한 데이터\n",
        "  - 메일의 내용과 해당 메일이 정상 메일인 지, 스팸 메일인 지 적혀있는 레이블로 구성되어 있음"
      ]
    },
    {
      "cell_type": "markdown",
      "metadata": {
        "id": "WP0j-Jek9t_a",
        "colab_type": "text"
      },
      "source": [
        "- ex) 아래와 같은 형식의 데이터가 약 200,000개가 있다고 가정\n",
        "  - 이 데이터는 두 개의 열로 구성되어 있음\n",
        "    - 메일의 본문에 해당되는 첫 번째 열\n",
        "    - 해당 메일이 정상 메일인지 스팸 메일인지가 적혀있는 정답에 해당되는 두 번째 열\n",
        "  - 그리고 이러한 데이터 배열이 총 20,000개의 행을 가짐\n",
        "\n",
        "<img src=\"./images/09/img001.jpg\" />"
      ]
    },
    {
      "cell_type": "code",
      "metadata": {
        "id": "ukQ6d0KM-fRl",
        "colab_type": "code",
        "colab": {
          "base_uri": "https://localhost:8080/",
          "height": 35
        },
        "outputId": "0984b0e9-ef97-48aa-e429-82938a878531"
      },
      "source": [
        "import os\n",
        "\n",
        "os.listdir('./images/09/')"
      ],
      "execution_count": 1,
      "outputs": [
        {
          "output_type": "execute_result",
          "data": {
            "text/plain": [
              "['img001.jpg']"
            ]
          },
          "metadata": {
            "tags": []
          },
          "execution_count": 1
        }
      ]
    },
    {
      "cell_type": "code",
      "metadata": {
        "id": "pYN5x38W-l3_",
        "colab_type": "code",
        "colab": {}
      },
      "source": [
        ""
      ],
      "execution_count": 0,
      "outputs": []
    }
  ]
}