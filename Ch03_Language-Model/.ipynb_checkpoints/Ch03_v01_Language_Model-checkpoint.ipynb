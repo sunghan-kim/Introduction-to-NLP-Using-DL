{
 "cells": [
  {
   "cell_type": "markdown",
   "metadata": {
    "colab_type": "text",
    "id": "ekQP_TscJlbl"
   },
   "source": [
    "# Ch03. 언어 모델 (Language Model)"
   ]
  },
  {
   "cell_type": "markdown",
   "metadata": {
    "colab_type": "text",
    "id": "Z3KZWOuEJqWe"
   },
   "source": [
    "# v01. 언어 모델(Language Model)이란?"
   ]
  },
  {
   "cell_type": "markdown",
   "metadata": {
    "colab_type": "text",
    "id": "SRfbI9YSJvBW"
   },
   "source": [
    "**언어 모델(Language Model, LM)**\n",
    "\n",
    "- 언어라는 현상을 모델링하고자 단어 시퀀스(또는 문장)에 확률을 할당(assign)하는 모델"
   ]
  },
  {
   "cell_type": "markdown",
   "metadata": {
    "colab_type": "text",
    "id": "Dg9a8cvMNHGD"
   },
   "source": [
    "<br>\n",
    "\n",
    "**언어 모델을 만드는 방법**\n",
    "\n",
    "1. **통계를 이용한 방법**\n",
    "2. **인공 신경망을 이용한 방법**\n",
    "\n",
    "- 최근에는 통계를 이용한 방법보다는 인공 신경망을 이용한 방법이 더 좋은 성능을 보여주고 있다.\n",
    "- 최근 핫한 자연어 처리의 신기술인 GPT나 BERT 또한 인공 신경망 언어 모델의 개념을 사용하여 만들어졌다."
   ]
  },
  {
   "cell_type": "markdown",
   "metadata": {
    "colab_type": "text",
    "id": "RZ21ACjBO7GW"
   },
   "source": [
    "<br>\n",
    "\n",
    "## 1.1 언어 모델 (Language Model)\n",
    "\n",
    "- 언어 모델은 **단어 시퀀스에 확률을 할당(assign)하는 일**을 하는 모델이다.\n",
    "- 즉, 언어 모델은 가장 자연스러운 단어 시퀀스를 찾아내는 모델이다."
   ]
  },
  {
   "cell_type": "markdown",
   "metadata": {
    "colab_type": "text",
    "id": "BYVjYbzHPxQ6"
   },
   "source": [
    "<br>\n",
    "\n",
    "### 1.1.1 단어 시퀀스에 확률을 할당하기 위해 보편적으로 사용되는 방법\n",
    "\n",
    "- 언어 모델이 **이전 단어들이 주어졌을 때 다음 단어를 예측**하도록 하는 것"
   ]
  },
  {
   "cell_type": "markdown",
   "metadata": {
    "colab_type": "text",
    "id": "CVUczbBSQexl"
   },
   "source": [
    "<br>\n",
    "\n",
    "### 1.1.2 다른 유형의 언어 모델\n",
    "\n",
    "- **주어진 양쪽의 단어들로부터 가운데 비어있는 단어를 예측하는 언어 모델**\n",
    "- 빈칸 추론 문제와 비슷하다.\n",
    "- 이 유형의 언어 모델은 **BERT** 챕터에서 다룰 예정이다.\n",
    "- 그때까지는 이전 단어들로부터 다음 단어를 예측하는 방식에만 집중한다."
   ]
  },
  {
   "cell_type": "markdown",
   "metadata": {
    "colab_type": "text",
    "id": "nMOLT0GlRDBI"
   },
   "source": [
    "<br>\n",
    "\n",
    "### 1.1.3 언어 모델링(Language Modeling)\n",
    "\n",
    "- 주어진 단어들로부터 아직 모르는 단어를 예측하는 작업을 말한다.\n",
    "- 즉, 언어 모델이 이전 단어들로부터 다음 단어를 예측하는 일은 언어 모델링이다."
   ]
  },
  {
   "cell_type": "markdown",
   "metadata": {
    "colab_type": "text",
    "id": "0AwlKzcsS2-k"
   },
   "source": [
    "<br>\n",
    "\n",
    "## 1.2 단어 시퀀스의 확률 할당\n",
    "\n",
    "- 자연어 처리에서 단어 시퀀스에 확률을 할당하는 일이 왜 필요할까?\n",
    "- 아래의 예제들에서 $P$는 확률을 의미한다."
   ]
  },
  {
   "cell_type": "markdown",
   "metadata": {
    "colab_type": "text",
    "id": "2oG39DqxTDoM"
   },
   "source": [
    "<br>\n",
    "\n",
    "### 1.2.1 기계 번역(Machine Translation)\n",
    "\n",
    "> $P(나는 \\, 버스를 \\, 탔다) > P(나는 \\, 버스를 \\, 태운다)$\n",
    "\n",
    "- 언어 모델은 두 문장을 비교하여 좌측의 문장의 확률이 더 높다고 판단한다."
   ]
  },
  {
   "cell_type": "markdown",
   "metadata": {
    "colab_type": "text",
    "id": "7azyeNGSUF4R"
   },
   "source": [
    "<br>\n",
    "\n",
    "### 1.2.2 오타 교정(Spell Correction)\n",
    "\n",
    "> 선생님이 교실로 부리나케  \n",
    "$P(달려갔다) > P(잘려갔다)$\n",
    "\n",
    "- 언어 모델은 두 문장을 비교하여 좌측의 문장의 확률이 더 높다고 판단한다."
   ]
  },
  {
   "cell_type": "markdown",
   "metadata": {
    "colab_type": "text",
    "id": "zxdvJlA3UWbZ"
   },
   "source": [
    "<br>\n",
    "\n",
    "### 1.2.3 음성 인식(Speech Recognition)\n",
    "\n",
    "> $P(나는 \\, 메롱을 \\, 먹는다) < P(나는 \\, 메론을 \\, 먹는다)$\n",
    "\n",
    "- 언어 모델은 두 문장을 비교하여 우측의 문장의 확률이 더 높다고 판단한다."
   ]
  },
  {
   "cell_type": "markdown",
   "metadata": {
    "colab_type": "text",
    "id": "UCYSGfY3UnMB"
   },
   "source": [
    "<br>\n",
    "\n",
    "### 1.2.4 종합\n",
    "\n",
    "- 언어 모델은 위와 같이 확률을 통해 **보다 적절한 문장을 판단**한다."
   ]
  },
  {
   "cell_type": "markdown",
   "metadata": {
    "colab_type": "text",
    "id": "soK3BYGzUn5o"
   },
   "source": [
    "<br>\n",
    "\n",
    "## 1.3 주어진 이전 단어들로부터 다음 단어 예측하기\n",
    "\n",
    "- 언어 모델은 단어 시퀀스에 확률을 할당하는 모델이다.\n",
    "- 그리고 단어 시퀀스에 확률을 할당하기 위해 가장 보편적으로 사용하는 방법은 \"이전 단어들이 주어졌을 때, 다음 단어를 예측하도록 하는 것\"이다.\n",
    "- 이를 **조건부 확률**로 표현"
   ]
  },
  {
   "cell_type": "markdown",
   "metadata": {
    "colab_type": "text",
    "id": "1hglS7BkVBvC"
   },
   "source": [
    "<br>\n",
    "\n",
    "### 1.3.1 단어 시퀀스의 확률\n",
    "\n",
    "- $w$ : 하나의 단어\n",
    "- $W$ : 단어 시퀀스  \n",
    "  \n",
    "\n",
    "- $n$개의 단어가 등장하는 단어 시퀀스 $W$의 확률 :  \n",
    "\n",
    "$\\qquad P(W) = P(w_1, w_2, w_3, w_4, w_5, \\cdots, w_n)$"
   ]
  },
  {
   "cell_type": "markdown",
   "metadata": {
    "colab_type": "text",
    "id": "xolqsY1BVesA"
   },
   "source": [
    "<br>\n",
    "\n",
    "### 1.3.2 다음 단어 등장 확률\n",
    "\n",
    "- 다음 단어 등장 확률을 식으로 표현\n",
    "- $n-1$개의 단어가 나열된 상태에서 $n$번째 단어의 확률 :  \n",
    "\n",
    "$\\qquad P(w_n | w_1, \\cdots, w_{n-1})$"
   ]
  },
  {
   "cell_type": "markdown",
   "metadata": {
    "colab_type": "text",
    "id": "KMuAGFSOVglH"
   },
   "source": [
    "- ex) 다섯 번째 단어의 확률\n",
    "\n",
    "$\\qquad P(w_5 | w_1, w_2, w_3, w_4)$"
   ]
  },
  {
   "cell_type": "markdown",
   "metadata": {
    "colab_type": "text",
    "id": "IsOgdqmEXNrD"
   },
   "source": [
    "- 전체 단어 시퀀스 $W$의 확률은 모든 단어가 예측되고 나서야 알 수 있으므로 단어 시퀀스의 확률은 다음과 같다.\n",
    "\n",
    "$\\qquad P(W) = P(w_1,w_2,w_3,w_4,w_5,\\cdots,w_n) = \\prod_{i=1}^n P(w_n | w_1, \\cdots, w_{n-1})$"
   ]
  },
  {
   "cell_type": "markdown",
   "metadata": {
    "colab_type": "text",
    "id": "nCa58TpKX9ND"
   },
   "source": [
    "<br>\n",
    "\n",
    "## 1.4 언어 모델의 간단한 직관\n",
    "\n",
    "> **비행기를 타려고 공항에 갔는데 지각을 하는 바람에 비행기를 [?]**\n",
    "\n",
    "- 위의 문장에서 **'비행기를'** 다음에 어떤 단어가 오게 될지 사람은 쉽게 **'놓쳤다'**라고 예상할 수 있다.\n",
    "  - 우리 지식에 기반하여 나올 수 있는 여러 단어들을 후보에 놓고 놓쳤다는 단어가 나올 확률이 가장 높다고 판단했기 때문이다.  \n",
    "  \n",
    "\n",
    "- 그렇다면 기계에게 위 문장을 주고 **'비행기를'** 다음에 나올 단어를 예측해보라고 한다면 과연 어떻게 최대한 정확히 예측할 수 있을까?\n",
    "  - 앞에 어떤 단어들이 나왔는 지 고려하여 후보가 될 수 있는 여러 단어들에 대해서 확률을 예측\n",
    "  - 가장 높은 확률을 가진 단어를 선택\n",
    "  - 앞에 어떤 단어들이 나왔는 지 고려하여 후보가 될 수 있는 여러 단어들에 대해서 등장 확률을 추정하고 가장 높은 확률을 가진 단어를 선택한다."
   ]
  },
  {
   "cell_type": "markdown",
   "metadata": {
    "colab_type": "text",
    "id": "epO9C7LdZsH6"
   },
   "source": [
    "<br>\n",
    "\n",
    "## 1.5 검색 엔진에서의 언어 모델의 예\n",
    "\n",
    "- 검색 엔진이 입력된 단어들의 나열에 대해서 다음 단어를 예측하는 언어 모델을 사용하고 있다."
   ]
  }
 ],
 "metadata": {
  "colab": {
   "collapsed_sections": [],
   "name": "Ch03_v01_Language-Model.ipynb",
   "provenance": []
  },
  "kernelspec": {
   "display_name": "Python 3",
   "language": "python",
   "name": "python3"
  },
  "language_info": {
   "codemirror_mode": {
    "name": "ipython",
    "version": 3
   },
   "file_extension": ".py",
   "mimetype": "text/x-python",
   "name": "python",
   "nbconvert_exporter": "python",
   "pygments_lexer": "ipython3",
   "version": "3.6.9"
  }
 },
 "nbformat": 4,
 "nbformat_minor": 4
}
