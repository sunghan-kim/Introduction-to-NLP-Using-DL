{
 "cells": [
  {
   "cell_type": "markdown",
   "metadata": {
    "colab_type": "text",
    "id": "64GqZi7X0Eal"
   },
   "source": [
    "# Ch03. 언어 모델 (Language Model)"
   ]
  },
  {
   "cell_type": "markdown",
   "metadata": {
    "colab_type": "text",
    "id": "kNbGY79E0KhV"
   },
   "source": [
    "# v06. 조건부 확률 (Conditional Probability)"
   ]
  },
  {
   "cell_type": "markdown",
   "metadata": {
    "colab_type": "text",
    "id": "Q-UNyKcp0Qf9"
   },
   "source": [
    "|              | 남학생 | 여학생 |  계  |\n",
    "| :----------: | :----: | :----: | :--: |\n",
    "|  **중학생**  |  100   |   60   | 160  |\n",
    "| **고등학생** |   80   |  120   | 200  |\n",
    "|    **계**    |  180   |  180   | 360  |\n",
    "\n",
    "- A = 학생이 **남학생**인 사건\n",
    "- B = 학생이 **여학생**인 사건 \n",
    "- C = 학생이 **중학생**인 사건\n",
    "- D = 학생이 **고등학생**인 사건"
   ]
  },
  {
   "cell_type": "markdown",
   "metadata": {
    "colab_type": "text",
    "id": "Xg17mBjm0xAT"
   },
   "source": [
    "**1. 학생을 뽑았을 때, 남학생일 확률**\n",
    "\n",
    "$\n",
    "\\qquad\n",
    "P(A) = 180 / 360 = 0.5\n",
    "$"
   ]
  },
  {
   "cell_type": "markdown",
   "metadata": {
    "colab_type": "text",
    "id": "lAz-t8tL07Jr"
   },
   "source": [
    "**2. 학생을 뽑았을 때, 고등학생이면서 남학생일 확률**\n",
    "\n",
    "$\n",
    "\\qquad\n",
    "P(A \\cap D) = 80 / 360 = 0.222...\n",
    "$"
   ]
  },
  {
   "cell_type": "markdown",
   "metadata": {
    "colab_type": "text",
    "id": "OpSh4Glv1LNj"
   },
   "source": [
    "**3. 고등학생 중 한명을 뽑았을 때, 남학생일 확률**\n",
    "\n",
    "$\n",
    "\\qquad\n",
    "\\begin{align*}\n",
    "P(A \\; | \\; D) &= 80 / 200 \\\\\n",
    "&= P(A \\cap D) / P(D) \\\\\n",
    "&= (80 / 360) \\; / \\; (200 / 360) \\\\\n",
    "&= 80 / 200 \\\\\n",
    "&= 0.4\n",
    "\\end{align*}\n",
    "$"
   ]
  }
 ],
 "metadata": {
  "colab": {
   "collapsed_sections": [],
   "name": "Ch03_v06_Conditional-Probability.ipynb",
   "provenance": []
  },
  "kernelspec": {
   "display_name": "Python 3",
   "language": "python",
   "name": "python3"
  },
  "language_info": {
   "codemirror_mode": {
    "name": "ipython",
    "version": 3
   },
   "file_extension": ".py",
   "mimetype": "text/x-python",
   "name": "python",
   "nbconvert_exporter": "python",
   "pygments_lexer": "ipython3",
   "version": "3.6.9"
  }
 },
 "nbformat": 4,
 "nbformat_minor": 4
}
