{
 "cells": [
  {
   "cell_type": "markdown",
   "metadata": {
    "colab_type": "text",
    "id": "lAt1p-COkl6k"
   },
   "source": [
    "# Ch04. 카운트 기반의 단어 표현 (Count based word Representation)"
   ]
  },
  {
   "cell_type": "markdown",
   "metadata": {
    "colab_type": "text",
    "id": "PYvgYGmUlFo0"
   },
   "source": [
    "# v01. 다양한 단어의 표현 방법"
   ]
  },
  {
   "cell_type": "markdown",
   "metadata": {
    "colab_type": "text",
    "id": "p22uRDNKlV8M"
   },
   "source": [
    "- 카운트 기반의 단어 표현 방법 외에도 다양한 단어의 표현 방법에는 어떤 것이 있는 지 확인"
   ]
  },
  {
   "cell_type": "markdown",
   "metadata": {
    "colab_type": "text",
    "id": "VIcGACbB0AgD"
   },
   "source": [
    "<br>\n",
    "\n",
    "## 1.1 단어의 표현 방법\n",
    "\n",
    "1. **국소 표현(Local Representation) 방법**\n",
    "2. **분산 표현(Distributed Representation) 방법**\n"
   ]
  },
  {
   "cell_type": "markdown",
   "metadata": {
    "colab_type": "text",
    "id": "0fBqrKlp1kHA"
   },
   "source": [
    "<br>\n",
    "\n",
    "### 1.1. 국소 표현(Local Representation) 방법\n",
    "\n",
    "- 해당 단어 그 자체만 보고, 특정값을 매핑하여 단어를 표현하는 방법\n",
    "- ex) puppy(강아지), cute(귀여운), lovely(사랑스러운)라는 단어가 있을 때\n",
    "  - 각 단어에 1번, 2번, 3번 등과 같은 숫자를 맵핑(mapping)하여 부여한다.  \n",
    "  $\\rightarrow$ 국소 표현 방법\n",
    "- 국소 표현 방법은 단어의 의미, 뉘앙스를 표현할 수 없다.\n",
    "- 국소 표현 방법을 **이산 표현(Discrete Representation)**이라고도 한다."
   ]
  },
  {
   "cell_type": "markdown",
   "metadata": {
    "colab_type": "text",
    "id": "VGqveIaB0Bku"
   },
   "source": [
    "<br>\n",
    "\n",
    "### 1.1.2 분산 표현(Distributed Representation) 방법\n",
    "\n",
    "- 그 단어를 표현하고자 주변을 참고하여 단어를 표현하는 방법\n",
    "- ex) puppy(강아지), cute(귀여운), lovely(사랑스러운)라는 단어가 있을 때\n",
    "  - puppy(강아지)라는 단어 근처에는 주로 cute(귀여운), lovely(사랑스러운)이라는 단어가 자주 등장\n",
    "  - \"puppy라는 단어는 cute, lovely한 느낌이다\"로 단어를 정의한다.\n",
    "- 분산 표현 방법은 단어의 뉘앙스를 표현할 수 있다.\n",
    "- 분산 표현 방법을 **연속 표현(Continuous Representation)**이라고도 한다."
   ]
  },
  {
   "cell_type": "markdown",
   "metadata": {
    "colab_type": "text",
    "id": "XDwhTcfO1hha"
   },
   "source": [
    "<br>\n",
    "\n",
    "### 1.1.3 다른 의견\n",
    "\n",
    "- 구글의 연구원 토마스 미코로브(Tomas Mikolov)는 2016년에 한 발표\n",
    "  - LSA나 LDA와 같은 방법들은 단어의 의미를 표현할 수 있다는 점에서 **연속 표현(Continuous Representation)**이지만, 엄밀히 말해서 다른 접근의 방법론을 사용하고 있는 Word2Vec와 같은 **분산 표현(Distributed Representation)**은 아닌 것으로 분류  \n",
    "  $\\rightarrow$ 연속 표현이 분산 표현을 포괄하고 있는 더 큰 개념으로 설명"
   ]
  },
  {
   "cell_type": "markdown",
   "metadata": {
    "colab_type": "text",
    "id": "UkXcC7FHpqMS"
   },
   "source": [
    "<br>\n",
    "\n",
    "## 1.2 단어 표현의 카테고리화\n",
    "\n",
    "- 아래와 같은 기준으로 단어 표현을 카테고리화하여 작성  \n",
    "<img src=\"https://wikidocs.net/images/page/31767/wordrepresentation.PNG\" />"
   ]
  },
  {
   "cell_type": "markdown",
   "metadata": {
    "colab_type": "text",
    "id": "Q8c9VX8Gp6ph"
   },
   "source": [
    "<br>\n",
    "\n",
    "### 1.2.1 4장(카운트 기반의 단어 표현) 학습 내용\n",
    "\n",
    "- 국소 표현(Local Representation)에 속하는 **Bag of Words**에 대해 학습\n",
    "  - Bag of Words는 단어의 빈도수를 카운트(Count)하여 단어를 수치화하는 단어 표현 방법\n",
    "-  BoW와 그의 확장인 **DTM(또는 TDM)**에 대해서 학습\n",
    "- 이러한 빈도수 기반 단어 표현에 단어의 중요도에 따른 가중치를 줄 수 있는 **TF-IDF**에 대해 학습"
   ]
  },
  {
   "cell_type": "markdown",
   "metadata": {
    "colab_type": "text",
    "id": "3hJzzmzUqhtY"
   },
   "source": [
    "<br>\n",
    "\n",
    "### 1.2.2 6장(토픽 모델링) 학습 내용\n",
    "\n",
    "- 단어의 뉘앙스를 반영하는 연속 표현(Continuous Representation)의 일종인 LSA를 토픽 모델링이라는 주제로 학습"
   ]
  },
  {
   "cell_type": "markdown",
   "metadata": {
    "colab_type": "text",
    "id": "t-7pL_-fqs_Z"
   },
   "source": [
    "<br>\n",
    "\n",
    "### 1.2.3 10장(워드 임베딩) 학습 내용\n",
    "\n",
    "- 연속 표현(Continuous Representation)에 속하면서, 예측(prediction)을 기반으로 단어의 뉘앙스를 표현하는 **워드투벡터(Word2Vec)**에 대해 학습\n",
    "- Word2Vec의 확장인 **패스트텍스트(FastText)**를 학습\n",
    "- 예측과 카운트라는 두 가지 방법이 모두 사용된 **글로브(GloVe)**에 대해서 학습"
   ]
  }
 ],
 "metadata": {
  "colab": {
   "collapsed_sections": [],
   "name": "Ch04_v01_method-of-word-representation.ipynb",
   "provenance": []
  },
  "kernelspec": {
   "display_name": "Python 3",
   "language": "python",
   "name": "python3"
  },
  "language_info": {
   "codemirror_mode": {
    "name": "ipython",
    "version": 3
   },
   "file_extension": ".py",
   "mimetype": "text/x-python",
   "name": "python",
   "nbconvert_exporter": "python",
   "pygments_lexer": "ipython3",
   "version": "3.6.9"
  }
 },
 "nbformat": 4,
 "nbformat_minor": 4
}
