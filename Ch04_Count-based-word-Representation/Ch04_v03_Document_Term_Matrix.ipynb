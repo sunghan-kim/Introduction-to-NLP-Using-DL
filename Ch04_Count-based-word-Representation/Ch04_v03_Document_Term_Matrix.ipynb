{
 "cells": [
  {
   "cell_type": "markdown",
   "metadata": {
    "colab_type": "text",
    "id": "a6kQBjyg8QuT"
   },
   "source": [
    "# Ch04. 카운트 기반의 단어 표현 (Count based word Representation)"
   ]
  },
  {
   "cell_type": "markdown",
   "metadata": {
    "colab_type": "text",
    "id": "gmHj9AbX8Wwc"
   },
   "source": [
    "# v03. 문서 단어 행렬 (Document-Term Matrix, DTM)"
   ]
  },
  {
   "cell_type": "markdown",
   "metadata": {
    "colab_type": "text",
    "id": "MumdLDK18bbT"
   },
   "source": [
    "- 서로 다른 문서들의 BoW들을 결합한 표현 방법인 문서 단어 행렬(Document-Term Matrix, DTM) 표현 방법 학습\n",
    "- 행과 열을 반대로 선택하면 TDM이라고 부르기도 한다.\n",
    "- 이렇게 하면 서로 다른 문서들을 비교할 수 있게 된다."
   ]
  },
  {
   "cell_type": "markdown",
   "metadata": {
    "colab_type": "text",
    "id": "Gw65q_GI8sk8"
   },
   "source": [
    "<br>\n",
    "\n",
    "## 3.1 문서 단어 행렬(Document-Term Matrix, DTM)의 표기법"
   ]
  },
  {
   "cell_type": "markdown",
   "metadata": {
    "colab_type": "text",
    "id": "997BiCPw8wrX"
   },
   "source": [
    "### 3.1.1 문서 단어 행렬(Document-Term Matrix, DTM)\n",
    "\n",
    "- 다수의 문서에서 등장하는 각 단어들의 빈도를 행렬로 표현한 것\n",
    "- 각 문서에 대한 BoW를 하나의 행렬로 만든 것으로 생각\n",
    "- BoW와 다른 표현 방법이 아니라 BoW 표현을 다수의 문서에 대해서 행렬로 표현하고 부르는 용어이다."
   ]
  },
  {
   "cell_type": "markdown",
   "metadata": {
    "colab_type": "text",
    "id": "fa5fza5s9BdT"
   },
   "source": [
    "- ex) 다음과 같이 4개의 문서가 있다고 하자.\n",
    "  - 문서1 : 먹고 싶은 사과  \n",
    "  - 문서2 : 먹고 싶은 바나나\n",
    "  - 문서3 : 길고 노란 바나나 바나나\n",
    "  - 문서4 : 저는 과일이 좋아요\n",
    "- 이를 문서 단어 행렬로 표현하면 다음과 같다.\n",
    "\n",
    "| -     | 과일이 | 길고 | 노란 | 먹고 | 바나나 | 사과 | 싶은 | 저는 | 좋아요 |\n",
    "| :---- | :----- | :--- | :--- | :--- | :----- | :--- | :--- | :--- | :----- |\n",
    "| 문서1 | 0      | 0    | 0    | 1    | 0      | 1    | 1    | 0    | 0      |\n",
    "| 문서2 | 0      | 0    | 0    | 1    | 1      | 0    | 1    | 0    | 0      |\n",
    "| 문서3 | 0      | 1    | 1    | 0    | 2      | 0    | 0    | 0    | 0      |\n",
    "| 문서4 | 1      | 0    | 0    | 0    | 0      | 0    | 0    | 1    | 1      |\n",
    "\n",
    "- 각 문서에서 등장한 단어의 빈도를 행렬의 값으로 표기한다."
   ]
  },
  {
   "cell_type": "markdown",
   "metadata": {
    "colab_type": "text",
    "id": "znlFNvPQ9QU6"
   },
   "source": [
    "<br>\n",
    "\n",
    "### 3.1.2 문서 단어 행렬의 의의\n",
    "\n",
    "- 문서 단어 행렬은 문서들을 서로 비교할 수 있도록 수치화할 수 있다는 점에서 의의를 갖는다.\n",
    "- 한국어에서 불용어에 해당되는 조사들 또한 제거하여 더 정제된 DTM을 만들 수도 있다."
   ]
  },
  {
   "cell_type": "markdown",
   "metadata": {
    "colab_type": "text",
    "id": "ioEDESbv9y_R"
   },
   "source": [
    "<br>\n",
    "\n",
    "## 3.2 문서 단어 행렬(Document-Term Matrix)의 한계\n",
    "\n",
    "- DTM은 매우 간단하고 구현하기도 쉽지만, 본질적으로 가지는 몇 가지 한계들이 있다.\n",
    "\n",
    "1. 희소 표현 (Sparse representation)\n",
    "2. 단순 빈도 수 기반 접근"
   ]
  },
  {
   "cell_type": "markdown",
   "metadata": {
    "colab_type": "text",
    "id": "VyR3yLJR-ArZ"
   },
   "source": [
    "<br>\n",
    "\n",
    "### 3.2.1 희소 표현 (Sparse representation)\n",
    "\n",
    "- 원-핫 벡터는 단어 집합의 크기가 벡터의 차원이 되고 대부분의 값이 0이 된다는 특징이 있다.\n",
    "- 이 특징은 **공간적 낭비**와 **계산 리소스를 증가**시킬 수 있다는 점에서 원-핫 벡터의 단점이었다.  \n",
    "  \n",
    "\n",
    "- DTM도 마찬가지이다.\n",
    "- DTM에서의 각 행을 문서 벡터라고 해보자.\n",
    "- 각 문서 벡터의 차원은 원-핫 벡터와 마찬가지로 전체 단어 집합의 크기를 가진다.\n",
    "- 만약 가지고 있는 전체 코퍼스가 방대한 데이터라면 문서 벡터의 차원은 수백만의 차원을 가질 수도 있다.\n",
    "- 또한 많은 문서 벡터가 대부분의 값이 0을 가질 수도 있다."
   ]
  },
  {
   "cell_type": "markdown",
   "metadata": {
    "colab_type": "text",
    "id": "jKg3FnGC-aUQ"
   },
   "source": [
    "- 원-핫 벡터나 DTM과 같은 대부분의 값이 0인 표현을 희소 벡터(sparse vector) 또는 희소 행렬(sparse matrix)라고 부른다.\n",
    "- 희소 벡터는 많은 양의 저장 공간과 계산을 위한 리소스를 필요로 한다.\n",
    "- 이러한 이유로 전처리를 통해 단어 집합의 크기를 줄이는 일은 BoW 표현을 사용하는 모델에서 중요할 수 있다.\n",
    "- 다음과 같은 텍스트 전처리 방법을 사용하여 단어 집합의 크기를 줄일 수 있다.\n",
    "  - 구두점, 빈도수가 낮은 단어, 불용어 제거\n",
    "  - 어간이나 표제어 추출을 통해 단어를 정규화"
   ]
  },
  {
   "cell_type": "markdown",
   "metadata": {
    "colab_type": "text",
    "id": "vFsIy8SF-5PS"
   },
   "source": [
    "<br>\n",
    "\n",
    "### 3.2.2 단순 빈도 수 기반 접근\n",
    "\n",
    "- 여러 문서에 등장하는 모든 단어에 대해서 빈도 표기를 하는 이런 방법은 때로는 한계를 가지기도 한다.\n",
    "- ex) 영어에 대해서 DTM을 만들었을 경우\n",
    "  - 불용어인 the는 어떤 문서이든 자주 등장할 수 밖에 없다.\n",
    "  - 그런데 유사한 문서인지 비교하고 싶은 문서1, 문서2, 문서3에서 동일하게 \"the\"가 빈도수가 높다고 해서 이 문서들이 유사한 문서라고 판단해서는 안된다.  \n",
    "\n",
    "\n",
    "- 각 문서에는 중요한 단어와 불필요한 단어들이 혼재되어 있다.\n",
    "- 불용어(stopwords)는 자연어 처리에 있어 의미를 거의 갖지 못한다는 단어이다.\n",
    "- 그렇다면 DTM에 불용어와 중요한 단어에 대해서 **가중치**를 줄 수 있는 방법이 없을까?  \n",
    "$\\Rightarrow$ 이를 위해 사용하는 것이 바로 **TF-IDF**이다."
   ]
  }
 ],
 "metadata": {
  "colab": {
   "collapsed_sections": [],
   "name": "Ch04_v03_Document-Term-Matrix.ipynb",
   "provenance": []
  },
  "kernelspec": {
   "display_name": "Python 3",
   "language": "python",
   "name": "python3"
  },
  "language_info": {
   "codemirror_mode": {
    "name": "ipython",
    "version": 3
   },
   "file_extension": ".py",
   "mimetype": "text/x-python",
   "name": "python",
   "nbconvert_exporter": "python",
   "pygments_lexer": "ipython3",
   "version": "3.6.9"
  }
 },
 "nbformat": 4,
 "nbformat_minor": 4
}
