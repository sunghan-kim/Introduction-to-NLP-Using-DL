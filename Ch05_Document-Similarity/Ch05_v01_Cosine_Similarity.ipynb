{
 "cells": [
  {
   "cell_type": "markdown",
   "metadata": {
    "colab_type": "text",
    "id": "FbgbN0cYIFqC"
   },
   "source": [
    "# Ch05. 문서 유사도 (Document Similarity)"
   ]
  },
  {
   "cell_type": "markdown",
   "metadata": {
    "colab_type": "text",
    "id": "FbF2ZxorIUfo"
   },
   "source": [
    "# v01. 코사인 유사도 (Cosine Similarity)"
   ]
  },
  {
   "cell_type": "markdown",
   "metadata": {
    "colab_type": "text",
    "id": "UnffeSmlIYVo"
   },
   "source": [
    "- BoW나 BoW에 기반한 단어 표현 방법인 DTM, TF-IDF, Word2Vec 등과 같이 단어를 수치화할 수 있는 방법을 이해했다면, 이러한 표현 방법에 대해서 코사인 유사도를 이용하여 문서의 유사도를 구하는 게 가능하다."
   ]
  },
  {
   "cell_type": "markdown",
   "metadata": {
    "colab_type": "text",
    "id": "k6X6At6SKYA2"
   },
   "source": [
    "<br>\n",
    "\n",
    "## 1.1 코사인 유사도 (Cosine Similarity)"
   ]
  },
  {
   "cell_type": "markdown",
   "metadata": {
    "colab_type": "text",
    "id": "NmhoUDG1JFO2"
   },
   "source": [
    "### 1.1.1 코사인 유사도의 의미\n",
    "\n",
    "- 두 벡터 간의 코사인 각도를 이용하여 구할 수 있는 두 벡터의 유사도를 의미  \n",
    "  \n",
    "\n",
    "- 두 벡터의 방향이 완전 동일하다 $\\rightarrow$ 코사인 유사도 값 = 1\n",
    "- 두 벡터가 90°의 각을 이룬다 $\\rightarrow$ 코사인 유사도 값 = 0\n",
    "- 두 벡터가 180°의 각을 이룬다(반대의 방향) $\\rightarrow$ 코사인 유사도 = -1  \n",
    "  \n",
    "\n",
    "- 즉, 코사인 유사도는 -1 이상 1 이하의 값을 가지며 값이 1에 가까울수록 유사도가 높다고 판단할 수 있다.\n",
    "- 이를 직관적으로 이해하면 두 벡터가 가리키는 방향이 얼마나 유사한가를 의미한다.\n",
    "<img src=\"https://wikidocs.net/images/page/24603/%EC%BD%94%EC%82%AC%EC%9D%B8%EC%9C%A0%EC%82%AC%EB%8F%84.PNG\" />"
   ]
  },
  {
   "cell_type": "markdown",
   "metadata": {
    "colab_type": "text",
    "id": "nA8vpn-3KQ-G"
   },
   "source": [
    "<br>\n",
    "\n",
    "### 1.1.2 코사인 유사도 식\n",
    "\n",
    "- 두 벡터 $A$, $B$에 대해서 코사인 유사도는 식으로 표현하면 다음과 같다.\n",
    "\n",
    "$\n",
    "\\qquad\n",
    "similarity=cos(Θ)=\\frac{A⋅B}{||A||\\ ||B||}=\\frac{\\sum_{i=1}^{n}{A_{i}×B_{i}}}{\\sqrt{\\sum_{i=1}^{n}(A_{i})^2}×\\sqrt{\\sum_{i=1}^{n}(B_{i})^2}}\n",
    "$\n",
    "\n",
    "- 문서 단어 행렬(DTM)이나 TF-IDF 행렬을 통해서 문서의 유사도를 구하는 경우\n",
    "  - 문서 단어 행렬(DTM)이나 TF-IDF 행렬이 각각의 특징 벡터 $A$, $B$가 된다."
   ]
  },
  {
   "cell_type": "markdown",
   "metadata": {
    "colab_type": "text",
    "id": "VpNtLpR3Ki5r"
   },
   "source": [
    "<br>\n",
    "\n",
    "### 1.1.3 문서 단어 행렬(DTM)에 대한 코사인 유사도 계산\n",
    "\n",
    "> 문서1 : 저는 사과 좋아요  \n",
    "문서2 : 저는 바나나 좋아요  \n",
    "문서3 : 저는 바나나 좋아요 저는 바나나 좋아요\n",
    "\n",
    "- 위의 세 문서에 대해서 문서 단어 행렬(DTM)을 만들면 다음과 같다.\n",
    "\n",
    "| -     | 바나나 | 사과 | 저는 | 좋아요 |\n",
    "| :---- | :----- | :--- | :--- | :----- |\n",
    "| 문서1 | 0      | 1    | 1    | 1      |\n",
    "| 문서2 | 1      | 0    | 1    | 1      |\n",
    "| 문서3 | 2      | 0    | 2    | 2      |"
   ]
  },
  {
   "cell_type": "code",
   "execution_count": null,
   "metadata": {
    "colab": {},
    "colab_type": "code",
    "id": "_CpVqqBkMQ3I"
   },
   "outputs": [],
   "source": [
    "import warnings\n",
    "warnings.filterwarnings('ignore')"
   ]
  },
  {
   "cell_type": "code",
   "execution_count": null,
   "metadata": {
    "colab": {},
    "colab_type": "code",
    "id": "SfOOl9qhMU6w"
   },
   "outputs": [],
   "source": [
    "# Numpy 이용 코사인 유사도 계산\n",
    "from numpy import dot\n",
    "from numpy.linalg import norm\n",
    "import numpy as np\n",
    "\n",
    "def cos_sim(A, B):\n",
    "  return dot(A, B)/(norm(A)*norm(B))"
   ]
  },
  {
   "cell_type": "code",
   "execution_count": null,
   "metadata": {
    "colab": {},
    "colab_type": "code",
    "id": "iZ8lsdiOMiaA"
   },
   "outputs": [],
   "source": [
    "# 문서1, 문서2, 문서3에 대해서 각각 BoW를 만듬\n",
    "doc1 = np.array([0, 1, 1, 1])\n",
    "doc2 = np.array([1, 0, 1, 1])\n",
    "doc3 = np.array([2, 0, 2, 2])"
   ]
  },
  {
   "cell_type": "code",
   "execution_count": 5,
   "metadata": {
    "colab": {
     "base_uri": "https://localhost:8080/",
     "height": 71
    },
    "colab_type": "code",
    "id": "nlLiqOXLM9FX",
    "outputId": "51374cf5-ad67-43af-9964-213078923dcc"
   },
   "outputs": [
    {
     "name": "stdout",
     "output_type": "stream",
     "text": [
      "문서1과 문서2의 코사인 유사도 :  0.6666666666666667\n",
      "문서1과 문서3의 코사인 유사도 :  0.6666666666666667\n",
      "문서2과 문서3의 코사인 유사도 :  1.0000000000000002\n"
     ]
    }
   ],
   "source": [
    "# 각 문서에 대한 코사인 유사도 계산\n",
    "print(\"문서1과 문서2의 코사인 유사도 : \", cos_sim(doc1, doc2))\n",
    "print(\"문서1과 문서3의 코사인 유사도 : \", cos_sim(doc1, doc3))\n",
    "print(\"문서2과 문서3의 코사인 유사도 : \", cos_sim(doc2, doc3))"
   ]
  },
  {
   "cell_type": "markdown",
   "metadata": {
    "colab_type": "text",
    "id": "w-ScOtytNOQn"
   },
   "source": [
    "- 눈여겨볼만한 점\n",
    "  - 문서1과 문서2의 코사인 유사도와 문서1과 문서3의 코사인 유사도가 같다\n",
    "  - 문서2와 문서3의 코사인 유사도가 1이 나온다.\n",
    "    - 코사인 유사도 = 1 : 두 벡터의 방향이 완전이 동일한 경우(유사도 값이 최대)\n",
    "    - 문서3은 문서2에서 단지 모든 단어의 빈도수가 1씩 증가했을 뿐이다.\n",
    "    - 이는 한 문서 내의 모든 단어의 빈도수가 똑같이 증가하는 경우에는 기존의 문서와 코사인 유사도 값이 1이라는 것을 의미한다."
   ]
  },
  {
   "cell_type": "markdown",
   "metadata": {
    "colab_type": "text",
    "id": "7lFWeK3zNy1l"
   },
   "source": [
    "<br>\n",
    "\n",
    "## 1.2 유사도를 이용한 추천 시스템 구현하기\n",
    "\n",
    "- 캐글에서 사용되었던 영화 데이터셋을 가지고 영화 추천 시스템 생성\n",
    "- TF-IDF와 코사인 유사도만으로 영화의 줄거리에 기반해서 영화를 추천하는 추천 시스템을 만들 수 있다."
   ]
  },
  {
   "cell_type": "markdown",
   "metadata": {
    "colab_type": "text",
    "id": "dqJFlwDjN9FK"
   },
   "source": [
    "<br>\n",
    "\n",
    "### 1.2.1 데이터셋 로드\n",
    "\n",
    "- [데이터셋 다운로드 링크](https://www.kaggle.com/rounakbanik/the-movies-dataset)\n",
    "- 원본 파일은 위 링크에서 `movies_metadata.csv` 파일을 다운받으면 된다.\n",
    "- 해당 데이터는 총 24개의 열을 가진 45,466개의 샘플로 구성된 영화 정보 데이터이다."
   ]
  },
  {
   "cell_type": "code",
   "execution_count": 1,
   "metadata": {
    "colab": {},
    "colab_type": "code",
    "id": "i9Ke9HgAPHhT"
   },
   "outputs": [],
   "source": [
    "DATA_DIR = \"../_data/the-movies-dataset/\""
   ]
  },
  {
   "cell_type": "code",
   "execution_count": 2,
   "metadata": {},
   "outputs": [
    {
     "data": {
      "text/plain": [
       "['movies_metadata.csv']"
      ]
     },
     "execution_count": 2,
     "metadata": {},
     "output_type": "execute_result"
    }
   ],
   "source": [
    "import os\n",
    "\n",
    "os.listdir(DATA_DIR)"
   ]
  },
  {
   "cell_type": "code",
   "execution_count": 7,
   "metadata": {
    "colab": {
     "base_uri": "https://localhost:8080/",
     "height": 318
    },
    "colab_type": "code",
    "id": "q_zH-Y80PK0S",
    "outputId": "b6ca21de-f38c-4107-dfe2-9a1f5b9c0088"
   },
   "outputs": [
    {
     "data": {
      "text/html": [
       "<div>\n",
       "<style scoped>\n",
       "    .dataframe tbody tr th:only-of-type {\n",
       "        vertical-align: middle;\n",
       "    }\n",
       "\n",
       "    .dataframe tbody tr th {\n",
       "        vertical-align: top;\n",
       "    }\n",
       "\n",
       "    .dataframe thead th {\n",
       "        text-align: right;\n",
       "    }\n",
       "</style>\n",
       "<table border=\"1\" class=\"dataframe\">\n",
       "  <thead>\n",
       "    <tr style=\"text-align: right;\">\n",
       "      <th></th>\n",
       "      <th>adult</th>\n",
       "      <th>belongs_to_collection</th>\n",
       "      <th>budget</th>\n",
       "      <th>genres</th>\n",
       "      <th>homepage</th>\n",
       "      <th>id</th>\n",
       "      <th>imdb_id</th>\n",
       "      <th>original_language</th>\n",
       "      <th>original_title</th>\n",
       "      <th>overview</th>\n",
       "      <th>popularity</th>\n",
       "      <th>poster_path</th>\n",
       "      <th>production_companies</th>\n",
       "      <th>production_countries</th>\n",
       "      <th>release_date</th>\n",
       "      <th>revenue</th>\n",
       "      <th>runtime</th>\n",
       "      <th>spoken_languages</th>\n",
       "      <th>status</th>\n",
       "      <th>tagline</th>\n",
       "      <th>title</th>\n",
       "      <th>video</th>\n",
       "      <th>vote_average</th>\n",
       "      <th>vote_count</th>\n",
       "    </tr>\n",
       "  </thead>\n",
       "  <tbody>\n",
       "    <tr>\n",
       "      <th>0</th>\n",
       "      <td>False</td>\n",
       "      <td>{'id': 10194, 'name': 'Toy Story Collection', ...</td>\n",
       "      <td>30000000</td>\n",
       "      <td>[{'id': 16, 'name': 'Animation'}, {'id': 35, '...</td>\n",
       "      <td>http://toystory.disney.com/toy-story</td>\n",
       "      <td>862</td>\n",
       "      <td>tt0114709</td>\n",
       "      <td>en</td>\n",
       "      <td>Toy Story</td>\n",
       "      <td>Led by Woody, Andy's toys live happily in his ...</td>\n",
       "      <td>21.946943</td>\n",
       "      <td>/rhIRbceoE9lR4veEXuwCC2wARtG.jpg</td>\n",
       "      <td>[{'name': 'Pixar Animation Studios', 'id': 3}]</td>\n",
       "      <td>[{'iso_3166_1': 'US', 'name': 'United States o...</td>\n",
       "      <td>1995-10-30</td>\n",
       "      <td>373554033.0</td>\n",
       "      <td>81.0</td>\n",
       "      <td>[{'iso_639_1': 'en', 'name': 'English'}]</td>\n",
       "      <td>Released</td>\n",
       "      <td>NaN</td>\n",
       "      <td>Toy Story</td>\n",
       "      <td>False</td>\n",
       "      <td>7.7</td>\n",
       "      <td>5415.0</td>\n",
       "    </tr>\n",
       "    <tr>\n",
       "      <th>1</th>\n",
       "      <td>False</td>\n",
       "      <td>NaN</td>\n",
       "      <td>65000000</td>\n",
       "      <td>[{'id': 12, 'name': 'Adventure'}, {'id': 14, '...</td>\n",
       "      <td>NaN</td>\n",
       "      <td>8844</td>\n",
       "      <td>tt0113497</td>\n",
       "      <td>en</td>\n",
       "      <td>Jumanji</td>\n",
       "      <td>When siblings Judy and Peter discover an encha...</td>\n",
       "      <td>17.015539</td>\n",
       "      <td>/vzmL6fP7aPKNKPRTFnZmiUfciyV.jpg</td>\n",
       "      <td>[{'name': 'TriStar Pictures', 'id': 559}, {'na...</td>\n",
       "      <td>[{'iso_3166_1': 'US', 'name': 'United States o...</td>\n",
       "      <td>1995-12-15</td>\n",
       "      <td>262797249.0</td>\n",
       "      <td>104.0</td>\n",
       "      <td>[{'iso_639_1': 'en', 'name': 'English'}, {'iso...</td>\n",
       "      <td>Released</td>\n",
       "      <td>Roll the dice and unleash the excitement!</td>\n",
       "      <td>Jumanji</td>\n",
       "      <td>False</td>\n",
       "      <td>6.9</td>\n",
       "      <td>2413.0</td>\n",
       "    </tr>\n",
       "  </tbody>\n",
       "</table>\n",
       "</div>"
      ],
      "text/plain": [
       "   adult  ... vote_count\n",
       "0  False  ...     5415.0\n",
       "1  False  ...     2413.0\n",
       "\n",
       "[2 rows x 24 columns]"
      ]
     },
     "execution_count": 7,
     "metadata": {
      "tags": []
     },
     "output_type": "execute_result"
    }
   ],
   "source": [
    "import pandas as pd\n",
    "\n",
    "data = pd.read_csv(DATA_DIR + \"movies_metadata.csv\", low_memory=False)\n",
    "data.head(2)"
   ]
  },
  {
   "cell_type": "markdown",
   "metadata": {
    "colab_type": "text",
    "id": "49B2bOOHQWcV"
   },
   "source": [
    "- 코사인 유사도에 사용할 데이터\n",
    "  - `title` : 영화 제목\n",
    "  - `overview` : 줄거리"
   ]
  },
  {
   "cell_type": "code",
   "execution_count": null,
   "metadata": {
    "colab": {},
    "colab_type": "code",
    "id": "qRvLyIsdQuUi"
   },
   "outputs": [],
   "source": [
    "data = data.head(20000)"
   ]
  },
  {
   "cell_type": "markdown",
   "metadata": {
    "colab_type": "text",
    "id": "_S7Cv1vrQv9A"
   },
   "source": [
    "<br>\n",
    "\n",
    "### 1.2.2 결측값 처리\n",
    "\n",
    "- tf-idf를 할 때 데이터에 Null 값이 들어있으면 에러가 발생한다.\n",
    "- tf-idf의 대상이 되는 data의 `overview` 열에 Null 값이 있는 지 확인"
   ]
  },
  {
   "cell_type": "code",
   "execution_count": 9,
   "metadata": {
    "colab": {
     "base_uri": "https://localhost:8080/",
     "height": 35
    },
    "colab_type": "code",
    "id": "6pT_4uuJQ9eo",
    "outputId": "f5f21c81-eae1-4781-afaa-ed9add67df01"
   },
   "outputs": [
    {
     "data": {
      "text/plain": [
       "135"
      ]
     },
     "execution_count": 9,
     "metadata": {
      "tags": []
     },
     "output_type": "execute_result"
    }
   ],
   "source": [
    "data['overview'].isnull().sum()"
   ]
  },
  {
   "cell_type": "markdown",
   "metadata": {
    "colab_type": "text",
    "id": "1pDh-B9MQ_0F"
   },
   "source": [
    "- 135개의 샘플에서 Null 값이 있는 것 확인"
   ]
  },
  {
   "cell_type": "markdown",
   "metadata": {
    "colab_type": "text",
    "id": "uTpLT7GJRDo1"
   },
   "source": [
    "- pandas의 `fillna()`를 이용해 Null 값을 빈 값(empty value)로 대체"
   ]
  },
  {
   "cell_type": "code",
   "execution_count": null,
   "metadata": {
    "colab": {},
    "colab_type": "code",
    "id": "U9RLtYtqU3TD"
   },
   "outputs": [],
   "source": [
    "data['overview'] = data['overview'].fillna('')"
   ]
  },
  {
   "cell_type": "code",
   "execution_count": 11,
   "metadata": {
    "colab": {
     "base_uri": "https://localhost:8080/",
     "height": 35
    },
    "colab_type": "code",
    "id": "ZVrGFrtDU74Y",
    "outputId": "1e659499-1e03-4f09-e5ce-242a38b6dafa"
   },
   "outputs": [
    {
     "data": {
      "text/plain": [
       "0"
      ]
     },
     "execution_count": 11,
     "metadata": {
      "tags": []
     },
     "output_type": "execute_result"
    }
   ],
   "source": [
    "data['overview'].isnull().sum()"
   ]
  },
  {
   "cell_type": "markdown",
   "metadata": {
    "colab_type": "text",
    "id": "KLVqdyVDU-aA"
   },
   "source": [
    "<br>\n",
    "\n",
    "### 1.2.3 tf-idf 수행"
   ]
  },
  {
   "cell_type": "code",
   "execution_count": 12,
   "metadata": {
    "colab": {
     "base_uri": "https://localhost:8080/",
     "height": 35
    },
    "colab_type": "code",
    "id": "VaD0rKNeVB30",
    "outputId": "96a20512-e39e-49ee-ed8b-efd633a13349"
   },
   "outputs": [
    {
     "name": "stdout",
     "output_type": "stream",
     "text": [
      "(20000, 47487)\n"
     ]
    }
   ],
   "source": [
    "from sklearn.feature_extraction.text import TfidfVectorizer\n",
    "\n",
    "tfidf = TfidfVectorizer(stop_words='english')\n",
    "tfidf_matrix = tfidf.fit_transform(data['overview'])\n",
    "\n",
    "print(tfidf_matrix.shape)"
   ]
  },
  {
   "cell_type": "markdown",
   "metadata": {
    "colab_type": "text",
    "id": "G_Db8lvcVPIv"
   },
   "source": [
    "- 20,000개의 영화를 표현하기 위해 총 47,487개의 단어가 사용되었다."
   ]
  },
  {
   "cell_type": "markdown",
   "metadata": {
    "colab_type": "text",
    "id": "lmGWgAYcVV6X"
   },
   "source": [
    "<br>\n",
    "\n",
    "### 1.2.4 코사인 유사도 계산\n",
    "\n",
    "- 코사인 유사도를 사용하여 문서의 유사도 계산"
   ]
  },
  {
   "cell_type": "code",
   "execution_count": null,
   "metadata": {
    "colab": {},
    "colab_type": "code",
    "id": "H5LHlGbcVcMC"
   },
   "outputs": [],
   "source": [
    "from sklearn.metrics.pairwise import linear_kernel\n",
    "\n",
    "# 코사인 유사도 계산\n",
    "cosine_sim = linear_kernel(tfidf_matrix, tfidf_matrix)"
   ]
  },
  {
   "cell_type": "code",
   "execution_count": 14,
   "metadata": {
    "colab": {
     "base_uri": "https://localhost:8080/",
     "height": 251
    },
    "colab_type": "code",
    "id": "xTfItLD1VoWi",
    "outputId": "867c0a66-cf3e-4d4a-f52a-2b99929874c8"
   },
   "outputs": [
    {
     "data": {
      "text/plain": [
       "array([[1.        , 0.01575748, 0.        , ..., 0.        , 0.        ,\n",
       "        0.        ],\n",
       "       [0.01575748, 1.        , 0.04907345, ..., 0.        , 0.        ,\n",
       "        0.        ],\n",
       "       [0.        , 0.04907345, 1.        , ..., 0.        , 0.        ,\n",
       "        0.        ],\n",
       "       ...,\n",
       "       [0.        , 0.        , 0.        , ..., 1.        , 0.        ,\n",
       "        0.08375766],\n",
       "       [0.        , 0.        , 0.        , ..., 0.        , 1.        ,\n",
       "        0.        ],\n",
       "       [0.        , 0.        , 0.        , ..., 0.08375766, 0.        ,\n",
       "        1.        ]])"
      ]
     },
     "execution_count": 14,
     "metadata": {
      "tags": []
     },
     "output_type": "execute_result"
    }
   ],
   "source": [
    "cosine_sim"
   ]
  },
  {
   "cell_type": "markdown",
   "metadata": {
    "colab_type": "text",
    "id": "d07RHIbnV7BV"
   },
   "source": [
    "<br>\n",
    "\n",
    "### 1.2.5 인덱스 생성\n",
    "\n",
    "- 영화의 타이틀과 인덱스를 가진 테이블 생성"
   ]
  },
  {
   "cell_type": "code",
   "execution_count": 15,
   "metadata": {
    "colab": {
     "base_uri": "https://localhost:8080/",
     "height": 143
    },
    "colab_type": "code",
    "id": "sUAcNHEfVqOf",
    "outputId": "f10b15f3-9693-44d4-c989-0b7fa67c2cd5"
   },
   "outputs": [
    {
     "name": "stdout",
     "output_type": "stream",
     "text": [
      "title\n",
      "Toy Story                      0\n",
      "Jumanji                        1\n",
      "Grumpier Old Men               2\n",
      "Waiting to Exhale              3\n",
      "Father of the Bride Part II    4\n",
      "dtype: int64\n"
     ]
    }
   ],
   "source": [
    "indices = pd.Series(data.index, index=data['title']).drop_duplicates()\n",
    "print(indices.head())"
   ]
  },
  {
   "cell_type": "markdown",
   "metadata": {
    "colab_type": "text",
    "id": "o3VaizQfV0D2"
   },
   "source": [
    "- 이 테이블의 용도는 영화의 타이틀을 입력하면 인덱스를 리턴하기 위함이다."
   ]
  },
  {
   "cell_type": "code",
   "execution_count": 16,
   "metadata": {
    "colab": {
     "base_uri": "https://localhost:8080/",
     "height": 35
    },
    "colab_type": "code",
    "id": "XFItj_uZWGju",
    "outputId": "f3810988-3b11-4ec4-ebde-c42dd678d597"
   },
   "outputs": [
    {
     "name": "stdout",
     "output_type": "stream",
     "text": [
      "4\n"
     ]
    }
   ],
   "source": [
    "idx = indices['Father of the Bride Part II']\n",
    "print(idx)"
   ]
  },
  {
   "cell_type": "markdown",
   "metadata": {
    "colab_type": "text",
    "id": "gXgksvvoWIf3"
   },
   "source": [
    "<br>\n",
    "\n",
    "### 1.2.6 유사한 영화 찾는 함수 생성\n",
    "\n",
    "- 이제 선택한 영화에 대해서 코사인 유사도를 이용하여, 가장 `overview`가 유사한 10개의 영화를 찾아내는 함수 생성"
   ]
  },
  {
   "cell_type": "code",
   "execution_count": null,
   "metadata": {
    "colab": {},
    "colab_type": "code",
    "id": "yCQsHmLLWRRB"
   },
   "outputs": [],
   "source": [
    "def get_recommendations(title, cosine_sim=cosine_sim):\n",
    "\n",
    "  # 선택한 영화의 타이틀로부터 해당되는 인덱스를 받아온다.\n",
    "  idx = indices[title]\n",
    "\n",
    "  # 모든 영화에 대해서 해당 영화와의 유사도를 구한다.\n",
    "  sim_scores = list(enumerate(cosine_sim[idx]))\n",
    "\n",
    "  # 유사도에 따라 영화들을 정렬\n",
    "  sim_scores = sorted(sim_scores, key=lambda x: x[1], reverse=True)\n",
    "\n",
    "  # 가장 유사한 영화 10개를 가져온다.\n",
    "  sim_scores = sim_scores[1:11]\n",
    "\n",
    "  # 가장 유사한 10개의 영화의 인덱스를 받아온다.\n",
    "  movie_indices = [i[0] for i in sim_scores]\n",
    "\n",
    "  # 가장 유사한 10개의 영화 제목을 리턴\n",
    "  return data['title'].iloc[movie_indices]"
   ]
  },
  {
   "cell_type": "markdown",
   "metadata": {
    "colab_type": "text",
    "id": "39EgFi8qXEhG"
   },
   "source": [
    "<br>\n",
    "\n",
    "### 1.2.7 유사한 영화 확인\n",
    "\n",
    "- 영화 \"다크 나이트 라이즈\"와 `overview` 가 유사한 영화 확인"
   ]
  },
  {
   "cell_type": "code",
   "execution_count": 28,
   "metadata": {
    "colab": {
     "base_uri": "https://localhost:8080/",
     "height": 215
    },
    "colab_type": "code",
    "id": "04DJrp5jXLNe",
    "outputId": "3362b738-5533-442e-92c8-b4c2bccb78b9"
   },
   "outputs": [
    {
     "data": {
      "text/plain": [
       "12481                            The Dark Knight\n",
       "150                               Batman Forever\n",
       "1328                              Batman Returns\n",
       "15511                 Batman: Under the Red Hood\n",
       "585                                       Batman\n",
       "9230          Batman Beyond: Return of the Joker\n",
       "18035                           Batman: Year One\n",
       "19792    Batman: The Dark Knight Returns, Part 1\n",
       "3095                Batman: Mask of the Phantasm\n",
       "10122                              Batman Begins\n",
       "Name: title, dtype: object"
      ]
     },
     "execution_count": 28,
     "metadata": {
      "tags": []
     },
     "output_type": "execute_result"
    }
   ],
   "source": [
    "get_recommendations('The Dark Knight Rises')"
   ]
  },
  {
   "cell_type": "markdown",
   "metadata": {
    "colab_type": "text",
    "id": "WlEdYVbjXNdj"
   },
   "source": [
    "- 첫 번째로 영화 \"다크 나이트\"가 나오고, 그 외에도 전부 배트맨 영화를 찾아낸 것을 확인할 수 있다."
   ]
  }
 ],
 "metadata": {
  "colab": {
   "collapsed_sections": [],
   "name": "Ch05_v01_Cosine-Similarity.ipynb",
   "provenance": []
  },
  "kernelspec": {
   "display_name": "Python 3",
   "language": "python",
   "name": "python3"
  },
  "language_info": {
   "codemirror_mode": {
    "name": "ipython",
    "version": 3
   },
   "file_extension": ".py",
   "mimetype": "text/x-python",
   "name": "python",
   "nbconvert_exporter": "python",
   "pygments_lexer": "ipython3",
   "version": "3.6.9"
  }
 },
 "nbformat": 4,
 "nbformat_minor": 4
}
