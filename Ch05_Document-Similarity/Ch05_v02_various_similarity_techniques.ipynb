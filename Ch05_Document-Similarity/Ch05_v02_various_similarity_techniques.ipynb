{
 "cells": [
  {
   "cell_type": "markdown",
   "metadata": {
    "colab_type": "text",
    "id": "pBe8lgxBcQcv"
   },
   "source": [
    "# Ch05. 문서 유사도(Document Similarity)"
   ]
  },
  {
   "cell_type": "markdown",
   "metadata": {
    "colab_type": "text",
    "id": "70p1Y0EccYbi"
   },
   "source": [
    "# v02. 여러 가지 유사도 기법"
   ]
  },
  {
   "cell_type": "markdown",
   "metadata": {
    "colab_type": "text",
    "id": "PE2FTsrLcaZG"
   },
   "source": [
    "- 문서의 유사도를 구하기 위한 방법으로는 코사인 유사도 외에도 여러 가지 방법들이 있다."
   ]
  },
  {
   "cell_type": "markdown",
   "metadata": {
    "colab_type": "text",
    "id": "naVpN7f2cj4g"
   },
   "source": [
    "<br>\n",
    "\n",
    "## 2.1 유클리드 거리 (Euclidean distance)\n",
    "\n",
    "- 유클리드 거리는 문서의 유사도를 구할 때 자카드 유사도나 코사인 유사도만큼, 유용한 방법은 아니다.\n",
    "- 하지만 여러 가지 방법을 이해하고, 시도해 보는 것 자체만으로 다른 개념들을 이해할 때 도움이 되므로 의미가 있다."
   ]
  },
  {
   "cell_type": "markdown",
   "metadata": {
    "colab_type": "text",
    "id": "fMTAV_Rpcy2L"
   },
   "source": [
    "<br>\n",
    "\n",
    "### 2.1.1 유클리드 거리 공식\n",
    "\n",
    "- 다차원 공간에서 두 개의 점 $p$와 $q$가 각각 다음과 같은 좌표를 갖는다.\n",
    "  - $p = (p_1, p_2, p_3, \\cdots, p_n)$\n",
    "  - $q = (q_1, q_2, q_3, \\cdots, q_n)$\n",
    "- 이 때 두 점 사이의 거리를 계산하는 유클리드 거리 공식은 다음과 같다.\n",
    "\n",
    "$\n",
    "\\qquad\n",
    "\\sqrt{ {\\left( q_1 - p_1 \\right)}^2 + {\\left( q_2 - p_2 \\right)}^2 + \\cdots + {\\left( q_n - p_n \\right)}^2 } = \\sqrt{ \\sum_{i=1}^n {\\left( q_i - p_i \\right)}^2 }\n",
    "$"
   ]
  },
  {
   "cell_type": "markdown",
   "metadata": {
    "colab_type": "text",
    "id": "MVPY3Qc4dmiN"
   },
   "source": [
    "<br>\n",
    "\n",
    "### 2.1.2 좌표 평면 시각화\n",
    "\n",
    "- 다차원 공간이라고 가정하면 식이 복잡하여 이해하기 어렵다.\n",
    "- 좀 더 쉽게 이해하기 위해 2차원 공간이라고 가정하고 두 점 사이의 거리를 좌표 평면 상에서 시각화해보자.\n",
    "\n",
    "<img src=\"../_images/Ch05/02/img001.jpg\" />\n",
    "\n",
    "- 2차원 평면 상에서 두 점 $p$와 $q$ 사이의 직선 거리를 구하는 문제이다.\n",
    "- 위의 경우 직각 삼각형으로 표현 가능 $\\rightarrow$ 피타고라스의 정리를 통해 $p$와 $q$ 사이의 거리를 계산할 수 있다.\n",
    "- 즉, 2차원 좌표 평면에서 두 점 사이의 유클리드 거리 공식은 피타고라스의 정리를 통해 두 점 사이의 거리를 구하는 것과 동일하다."
   ]
  },
  {
   "cell_type": "markdown",
   "metadata": {
    "colab_type": "text",
    "id": "IpvMAVUjeeQq"
   },
   "source": [
    "<br>\n",
    "\n",
    "### 2.1.3 유클리드 거리 공식을 통한 문서 유사도 구하기\n",
    "\n",
    "- 여러 문서에 대해서 유사도를 구하고자 유클리드 거리 공식을 사용한다는 것은, 앞서 본 2차원을 단어의 총 개수만큼의 차원으로 확장하는 것과 같다.  \n",
    "  \n",
    "\n",
    "- ex) 아래와 같은 DTM이 있다고 하자\n",
    "\n",
    "| -     | 바나나 | 사과 | 저는 | 좋아요 |\n",
    "| :---- | :----- | :--- | :--- | :----- |\n",
    "| 문서1 | 2      | 3    | 0    | 1      |\n",
    "| 문서2 | 1      | 2    | 3    | 1      |\n",
    "| 문서3 | 2      | 1    | 2    | 2      |\n",
    "\n",
    "- 단어의 개수 = 4 $\\rightarrow$ 4차원 공간에 문서1, 문서2, 문서3을 배치하는 것과 같다.  "
   ]
  },
  {
   "cell_type": "markdown",
   "metadata": {
    "colab_type": "text",
    "id": "XpnkEtvPfJr_"
   },
   "source": [
    "- 이 때 다음과 같은 문서Q에 대해서 문서1, 문서2, 문서3 중 가장 유사한 문서를 찾아내고자 한다.\n",
    "\n",
    "| -     | 바나나 | 사과 | 저는 | 좋아요 |\n",
    "| :---- | :----- | :--- | :--- | :----- |\n",
    "| 문서Q | 1      | 1    | 0    | 1      |\n",
    "\n",
    "- 이 때 유클리드 거리를 통해 유사도를 구하려고 한다면, 문서Q 또한 다른 문서들처럼 4차원 공간에 배치시켰다는 관점에서 4차원 공간에서의 각각의 문서들과의 유클리드 거리를 구하면 된다."
   ]
  },
  {
   "cell_type": "code",
   "execution_count": null,
   "metadata": {
    "colab": {},
    "colab_type": "code",
    "id": "Cey_3MT_foL2"
   },
   "outputs": [],
   "source": [
    "import warnings\n",
    "warnings.filterwarnings('ignore')"
   ]
  },
  {
   "cell_type": "code",
   "execution_count": null,
   "metadata": {
    "colab": {},
    "colab_type": "code",
    "id": "f1KQnLSOfqfu"
   },
   "outputs": [],
   "source": [
    "import numpy as np\n",
    "\n",
    "def dist(x, y):\n",
    "  return np.sqrt(np.sum((x-y)**2))"
   ]
  },
  {
   "cell_type": "code",
   "execution_count": 3,
   "metadata": {
    "colab": {
     "base_uri": "https://localhost:8080/",
     "height": 71
    },
    "colab_type": "code",
    "id": "Liiv6IRmfweO",
    "outputId": "4ab3a2a2-0f3f-4d1c-c3cd-2c0e171fbd51"
   },
   "outputs": [
    {
     "name": "stdout",
     "output_type": "stream",
     "text": [
      "2.23606797749979\n",
      "3.1622776601683795\n",
      "2.449489742783178\n"
     ]
    }
   ],
   "source": [
    "doc1 = np.array((2,3,0,1))\n",
    "doc2 = np.array((1,2,3,1))\n",
    "doc3 = np.array((2,1,2,2))\n",
    "docQ = np.array((1,1,0,1))\n",
    "\n",
    "print(dist(doc1,docQ))\n",
    "print(dist(doc2,docQ))\n",
    "print(dist(doc3,docQ))"
   ]
  },
  {
   "cell_type": "markdown",
   "metadata": {
    "colab_type": "text",
    "id": "UorwJXvkfzIW"
   },
   "source": [
    "- 유클리드 거리의 값이 가장 작다 $\\rightarrow$ 문서 간의 거리가 가장 가깝다\n",
    "- 즉, 문서1이 문서Q와 가장 유사하다고 볼 수 있다."
   ]
  },
  {
   "cell_type": "markdown",
   "metadata": {
    "colab_type": "text",
    "id": "42SDpD9kf7Y1"
   },
   "source": [
    "<br>\n",
    "\n",
    "## 2.2 자카드 유사도 (Jaccard similarity)\n",
    "\n",
    "### 2.2.1 자카드 유사도의 아이디어\n",
    "\n",
    "- $A$와 $B$, 2개의 집합이 있다고 하자.\n",
    "- 이 때 합집합에서 교집합의 비율을 구한다면 두 집합 $A$와 $B$의 유사도를 구할 수 있다는 것이 자카드 유사도의 아이디어이다."
   ]
  },
  {
   "cell_type": "markdown",
   "metadata": {
    "colab_type": "text",
    "id": "dmkhuzlFgSgA"
   },
   "source": [
    "<br>\n",
    "\n",
    "### 2.2.2 자카드 유사도 특징\n",
    "\n",
    "- 자카드 유사도는 0과 1사이의 값을 가진다.\n",
    "- 만약 두 집합이 동일하다면 1의 값을 갖는다.\n",
    "- 만약 두 집합의 공통 원소가 없다면 0의 값을 갖는다."
   ]
  },
  {
   "cell_type": "markdown",
   "metadata": {
    "colab_type": "text",
    "id": "D2mqorVDgihM"
   },
   "source": [
    "<br>\n",
    "\n",
    "### 2.2.3 자카드 유사도 함수\n",
    "\n",
    "- 자카드 유사도를 구하는 함수를 $J$라고 했을 때, 자카드 유사도 함수 $J$는 아래와 같다.\n",
    "\n",
    "$\n",
    "\\qquad\n",
    "J(A,B) = {{|A \\cap B|} \\over {|A \\cup B|}} = { {| A \\cap B |} \\over {|A| + |B| - | A \\cap B |} }\n",
    "$"
   ]
  },
  {
   "cell_type": "markdown",
   "metadata": {
    "colab_type": "text",
    "id": "NaFu0su3g8lp"
   },
   "source": [
    "<br>\n",
    "\n",
    "### 2.2.4 문서 유사도를 구하기 위한 자카드 유사도\n",
    "\n",
    "- 두 개의 비교할 문서를 각각 $doc_1$, $doc_2$ 라고 했을 때 $doc_1$과 $doc_2$의 문서의 유사도를 구하기 위한 자카드 유사도는 아래와 같다.\n",
    "\n",
    "$\n",
    "\\qquad\n",
    "J(doc_1,doc_2) = {{doc_1 \\; \\cap \\; doc_2} \\over {doc_1 \\; \\cup \\; doc_2}}\n",
    "$\n",
    "\n",
    "- 즉, 두 문서 $doc_1$, $doc_2$ 사이의 자카드 유사도 $J(doc_1,doc_2)$는 두 집합의 교집합 크기를 두 집합의 합집합의 크기로 나눈 값으로 정의된다."
   ]
  },
  {
   "cell_type": "code",
   "execution_count": 4,
   "metadata": {
    "colab": {
     "base_uri": "https://localhost:8080/",
     "height": 53
    },
    "colab_type": "code",
    "id": "qJf3MxsghlmE",
    "outputId": "99aced68-6779-49c6-c63b-c8019c5e919d"
   },
   "outputs": [
    {
     "name": "stdout",
     "output_type": "stream",
     "text": [
      "['apple', 'banana', 'everyone', 'like', 'likey', 'watch', 'card', 'holder']\n",
      "['apple', 'banana', 'coupon', 'passport', 'love', 'you']\n"
     ]
    }
   ],
   "source": [
    "# 다음과 같은 두 개의 문서가 있다.\n",
    "# 두 문서 모두에 등장하는 단어는 \"apple\"과 \"banana\" 2개이다.\n",
    "doc1 = \"apple banana everyone like likey watch card holder\"\n",
    "doc2 = \"apple banana coupon passport love you\"\n",
    "\n",
    "# 토큰화 수행\n",
    "tokenized_doc1 = doc1.split()\n",
    "tokenized_doc2 = doc2.split()\n",
    "\n",
    "print(tokenized_doc1)\n",
    "print(tokenized_doc2)"
   ]
  },
  {
   "cell_type": "markdown",
   "metadata": {
    "colab_type": "text",
    "id": "QrbqG6gNh8Qa"
   },
   "source": [
    "<br>\n",
    "\n",
    "문서1과 문서2의 **합집합** 구하기"
   ]
  },
  {
   "cell_type": "code",
   "execution_count": 5,
   "metadata": {
    "colab": {
     "base_uri": "https://localhost:8080/",
     "height": 35
    },
    "colab_type": "code",
    "id": "qCay_ZjQiCYm",
    "outputId": "ed474651-a870-4415-b3ea-21cdb4dddfd7"
   },
   "outputs": [
    {
     "name": "stdout",
     "output_type": "stream",
     "text": [
      "{'likey', 'holder', 'everyone', 'love', 'card', 'banana', 'coupon', 'like', 'watch', 'apple', 'you', 'passport'}\n"
     ]
    }
   ],
   "source": [
    "union = set(tokenized_doc1).union(set(tokenized_doc2))\n",
    "print(union)"
   ]
  },
  {
   "cell_type": "code",
   "execution_count": 6,
   "metadata": {
    "colab": {
     "base_uri": "https://localhost:8080/",
     "height": 35
    },
    "colab_type": "code",
    "id": "JNeUMNokiHNZ",
    "outputId": "2687b390-af5f-4e55-937c-f59efc5a6e44"
   },
   "outputs": [
    {
     "data": {
      "text/plain": [
       "12"
      ]
     },
     "execution_count": 6,
     "metadata": {
      "tags": []
     },
     "output_type": "execute_result"
    }
   ],
   "source": [
    "len(union)"
   ]
  },
  {
   "cell_type": "markdown",
   "metadata": {
    "colab_type": "text",
    "id": "CkxEYJl5iLj5"
   },
   "source": [
    "- 문서1과 문서2의 합집합의 단어의 총 개수는 12개이다."
   ]
  },
  {
   "cell_type": "markdown",
   "metadata": {
    "colab_type": "text",
    "id": "h6PprDTgiQBh"
   },
   "source": [
    "<br>\n",
    "\n",
    "문서1과 문서2의 **교집합** 구하기"
   ]
  },
  {
   "cell_type": "code",
   "execution_count": 7,
   "metadata": {
    "colab": {
     "base_uri": "https://localhost:8080/",
     "height": 35
    },
    "colab_type": "code",
    "id": "CvMSGkXUiXE6",
    "outputId": "ad31a016-36cb-4ced-dd14-7a0bcf2bb06b"
   },
   "outputs": [
    {
     "name": "stdout",
     "output_type": "stream",
     "text": [
      "{'apple', 'banana'}\n"
     ]
    }
   ],
   "source": [
    "intersection = set(tokenized_doc1).intersection(set(tokenized_doc2))\n",
    "print(intersection)"
   ]
  },
  {
   "cell_type": "code",
   "execution_count": 8,
   "metadata": {
    "colab": {
     "base_uri": "https://localhost:8080/",
     "height": 35
    },
    "colab_type": "code",
    "id": "A6ePOaboigU7",
    "outputId": "7b5e5bc3-59c2-4234-8f8e-d67e3ba464d0"
   },
   "outputs": [
    {
     "data": {
      "text/plain": [
       "2"
      ]
     },
     "execution_count": 8,
     "metadata": {
      "tags": []
     },
     "output_type": "execute_result"
    }
   ],
   "source": [
    "len(intersection)"
   ]
  },
  {
   "cell_type": "markdown",
   "metadata": {
    "colab_type": "text",
    "id": "Z9JdcPquihoo"
   },
   "source": [
    "- 문서1과 문서2에서 둘 다 등장하는 단어는 \"banana\"와 \"apple\" 총 2개 이다."
   ]
  },
  {
   "cell_type": "markdown",
   "metadata": {
    "colab_type": "text",
    "id": "837-U1HyirSQ"
   },
   "source": [
    "<br>\n",
    "\n",
    "자카드 유사도 계산\n",
    "\n",
    "- 교집합의 수를 합집합의 수로 나누면 자카드 유사도가 계산된다."
   ]
  },
  {
   "cell_type": "code",
   "execution_count": 10,
   "metadata": {
    "colab": {
     "base_uri": "https://localhost:8080/",
     "height": 35
    },
    "colab_type": "code",
    "id": "W2xaHapMixXo",
    "outputId": "b156e810-efd4-4be6-88bc-0ad7cddce65b"
   },
   "outputs": [
    {
     "name": "stdout",
     "output_type": "stream",
     "text": [
      "0.16666666666666666\n"
     ]
    }
   ],
   "source": [
    "print(len(intersection)/len(union))"
   ]
  },
  {
   "cell_type": "markdown",
   "metadata": {
    "colab_type": "text",
    "id": "MsEM-yO1i1II"
   },
   "source": [
    "- 이 값이 자카드 유사도이자, 두 문서의 총 단어 집합에서 두 문서에서 공통적으로 등장한 단어의 비율이기도 하다."
   ]
  }
 ],
 "metadata": {
  "colab": {
   "collapsed_sections": [],
   "name": "Ch05_v02_various-similarity-techniques.ipynb",
   "provenance": []
  },
  "kernelspec": {
   "display_name": "Python 3",
   "language": "python",
   "name": "python3"
  },
  "language_info": {
   "codemirror_mode": {
    "name": "ipython",
    "version": 3
   },
   "file_extension": ".py",
   "mimetype": "text/x-python",
   "name": "python",
   "nbconvert_exporter": "python",
   "pygments_lexer": "ipython3",
   "version": "3.6.9"
  }
 },
 "nbformat": 4,
 "nbformat_minor": 4
}
