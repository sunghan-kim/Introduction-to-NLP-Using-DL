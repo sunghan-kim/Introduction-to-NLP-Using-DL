{
 "cells": [
  {
   "cell_type": "markdown",
   "metadata": {
    "colab_type": "text",
    "id": "NoSqa_EpdUrg"
   },
   "source": [
    "# Ch07. 머신 러닝(Machine Learning) 개요"
   ]
  },
  {
   "cell_type": "markdown",
   "metadata": {
    "colab_type": "text",
    "id": "xO-e8Ru5ddq5"
   },
   "source": [
    "# v04. 로지스틱 회귀(Logistic Regression) - 이진 분류"
   ]
  },
  {
   "cell_type": "markdown",
   "metadata": {
    "colab_type": "text",
    "id": "KExR4zpadhRl"
   },
   "source": [
    "**이진 분류(Binary Classification)**\n",
    "\n",
    "- 시험 점수의 합격 불합격 여부 분류 문제\n",
    "- 이메일의 정상, 스팸 분류 문제"
   ]
  },
  {
   "cell_type": "markdown",
   "metadata": {
    "colab_type": "text",
    "id": "5i1Kp9JNdxx-"
   },
   "source": [
    "**로지스틱 회귀(Logistic Regression)**\n",
    "\n",
    "- 이진 분류를 풀기 위한 대표적인 알고리즘"
   ]
  },
  {
   "cell_type": "markdown",
   "metadata": {
    "colab_type": "text",
    "id": "TbmxGDo7d2dl"
   },
   "source": [
    "<br>\n",
    "\n",
    "## 4.1 이진 분류 (Binary Classification)"
   ]
  },
  {
   "cell_type": "markdown",
   "metadata": {
    "colab_type": "text",
    "id": "8OZfQpuzd6FJ"
   },
   "source": [
    "### 4.1.1 선형 회귀\n",
    "\n",
    "- 공부 시간과 성적 간의 관계를 직선의 방정식으로 표현한다는 가정\n",
    "- 주어진 데이터로부터 가중치 $W$(weight)와 편향 $b$(bias)를 찾아 데이터를 가장 잘 표현하는 직선을 찾음"
   ]
  },
  {
   "cell_type": "markdown",
   "metadata": {
    "colab_type": "text",
    "id": "PbIx-BPIh8L0"
   },
   "source": [
    "<br>\n",
    "\n",
    "### 4.1.2 이진 분류 문제\n",
    "\n",
    "- 하지만 둘 중 하나의 선택지 중에서 정답을 고르는 이진 분류 문제는 직선으로 표현하는 것이 적절하지 않다."
   ]
  },
  {
   "cell_type": "markdown",
   "metadata": {
    "colab_type": "text",
    "id": "8jTO96I8iW4t"
   },
   "source": [
    "- 학생들이 시험 성적에 따라서 합격, 불합격이 기재된 데이터가 있다고 가정\n",
    "- 시험 성적 : $x$\n",
    "- 합격, 불합격 결과 : $y$\n",
    "- 이 시험의 커트라인은 공개되지 않음\n",
    "- 이 데이터로부터 특정 점수를 얻었을 때의 합격, 불합격 여부를 판정하는 모델을 만들고자 한다.\n",
    "\n",
    "| score(xx) | result(yy) |\n",
    "| :-------- | :--------- |\n",
    "| 45        | 불합격     |\n",
    "| 50        | 불합격     |\n",
    "| 55        | 불합격     |\n",
    "| 60        | 합격       |\n",
    "| 65        | 합격       |\n",
    "| 70        | 합격       |"
   ]
  },
  {
   "cell_type": "markdown",
   "metadata": {
    "colab_type": "text",
    "id": "jzZHfV1dixzx"
   },
   "source": [
    "<br>\n",
    "\n",
    "### 4.1.3 이진 분류 데이터의 그래프\n",
    "\n",
    "- 위 데이터에서 합격을 1, 불합격을 0이라고 하였을 때 그래프를 그려보면 아래와 같다.\n",
    "\n",
    "![](https://wikidocs.net/images/page/22881/%EB%A1%9C%EC%A7%80%EC%8A%A4%ED%8B%B1%ED%9A%8C%EA%B7%80.PNG)\n",
    "\n",
    "- 이러한 점들을 표현하는 그래프는 알파벳의 S자 형태로 표현된다.\n",
    "- 이러한 $x$와 $y$의 관계를 표현하기 위해서는 직선을 표현하는 함수가 아니라 S자 형태로 표현할 수 있는 함수가 필요하다.\n",
    "- 직선을 사용할 경우 보통 분류 작업이 제대로 동작하지 않는다."
   ]
  },
  {
   "cell_type": "markdown",
   "metadata": {
    "colab_type": "text",
    "id": "8-7vn_THjSQS"
   },
   "source": [
    "<br>\n",
    "\n",
    "### 4.1.4 $y$ 값의 범위\n",
    "\n",
    "- 또한 이번 예제의 경우 실제값 $y$가 0 또는 1 이라는 두 가지 값밖에 가지지 않는다.\n",
    "- 그러므로 이 문제를 풀기 위해서는 예측값이 0과 1 사이의 값을 가지도록 하는 것이 보편적이다.\n",
    "- 0 과 1 사이의 값을 확률로 해석하면 문제를 풀기가 훨씬 용이해진다.\n",
    "  - 최종 예측값이 0.5 보다 작다 $\\rightarrow$ 0으로 예측했다고 판단\n",
    "  - 최종 예측값이 0.5 보다 크다 $\\rightarrow$ 1로 예측했다고 판단\n",
    "- 하지만 선형 회귀의 경우 $y$값이 음의 무한대부터 양의 무한대와 같은 큰 수들도 가질 수 있다.\n",
    "- 이는 분류 문제에 적합하지 않은 두 번째 이유이다."
   ]
  },
  {
   "cell_type": "markdown",
   "metadata": {
    "colab_type": "text",
    "id": "N9MJUL3VkFtZ"
   },
   "source": [
    "- 0과 1 사이의 값을 가지면서, S자 형태로 그려지는 조건을 충족하는 함수가 있다.\n",
    "- 바로 **시그모이드 함수(Sigmoid function)**이다."
   ]
  },
  {
   "cell_type": "markdown",
   "metadata": {
    "colab_type": "text",
    "id": "1SWUSmOSkUG_"
   },
   "source": [
    "<br>\n",
    "\n",
    "## 4.2 시그모이드 함수 (Sigmoid function)"
   ]
  },
  {
   "cell_type": "markdown",
   "metadata": {
    "colab_type": "text",
    "id": "WG6UtyBomRc7"
   },
   "source": [
    "### 4.2.1 시그모이드 함수의 방정식\n",
    "\n",
    "- 종종 $\\sigma$로 축약해서 표현하기도 한다.\n",
    "- 이는 위의 문제를 풀기 위한 가설(Hypothesis)식이기도 한다.\n",
    "\n",
    "$\n",
    "\\qquad\n",
    "H(X) = {1 \\over {1 + e^{-\\left(Wx + b\\right)}}} = sigmoid(Wx + b) = \\sigma (Wx + b)\n",
    "$\n",
    "\n",
    "- 여기서 구해야 할 것은 주어진 데이터에 가장 적합한 가중치 $W$(weight)와 편향 $b$(bias)이다.\n",
    "- 인공 지능 알고리즘이 하는 것은 결국 주어진 데이터에 적합한 가중치 $W$와 $b$를 구하는 것이다."
   ]
  },
  {
   "cell_type": "markdown",
   "metadata": {
    "colab_type": "text",
    "id": "_y9MoIArm6lD"
   },
   "source": [
    "<br>\n",
    "\n",
    "### 4.2.2 시그모이드 함수 시각화\n",
    "\n",
    "- 시그모이드 함수를 파이썬의 `Matplotlib`을 통해 그래프로 표현"
   ]
  },
  {
   "cell_type": "code",
   "execution_count": null,
   "metadata": {
    "colab": {},
    "colab_type": "code",
    "id": "Cm7iuSOAsPym"
   },
   "outputs": [],
   "source": [
    "import warnings\n",
    "warnings.filterwarnings('ignore')"
   ]
  },
  {
   "cell_type": "code",
   "execution_count": null,
   "metadata": {
    "colab": {},
    "colab_type": "code",
    "id": "0zIhdjsYsTgA"
   },
   "outputs": [],
   "source": [
    "%matplotlib inline\n",
    "import numpy as np\n",
    "import matplotlib.pyplot as plt"
   ]
  },
  {
   "cell_type": "markdown",
   "metadata": {
    "colab_type": "text",
    "id": "UGq7Uxl-sYen"
   },
   "source": [
    "- 아래 그래프는 $W$는 1, $b$는 0임을 가정한 그래프이다."
   ]
  },
  {
   "cell_type": "code",
   "execution_count": null,
   "metadata": {
    "colab": {},
    "colab_type": "code",
    "id": "1OdMPyaIscq4"
   },
   "outputs": [],
   "source": [
    "def sigmoid(x):\n",
    "    return 1/(1+np.exp(-x))"
   ]
  },
  {
   "cell_type": "code",
   "execution_count": 9,
   "metadata": {
    "colab": {
     "base_uri": "https://localhost:8080/",
     "height": 35
    },
    "colab_type": "code",
    "id": "jFe8xmP9sipI",
    "outputId": "cf25a63a-10b2-4440-a48c-fc7c6a6e9640"
   },
   "outputs": [
    {
     "name": "stdout",
     "output_type": "stream",
     "text": [
      "[-5.  -4.9 -4.8 -4.7 -4.6]\n"
     ]
    }
   ],
   "source": [
    "x = np.arange(-5.0, 5.0, 0.1)\n",
    "print(x[:5])"
   ]
  },
  {
   "cell_type": "code",
   "execution_count": 10,
   "metadata": {
    "colab": {
     "base_uri": "https://localhost:8080/",
     "height": 35
    },
    "colab_type": "code",
    "id": "QwkzSVf_so3H",
    "outputId": "083684a8-0fad-46b9-8448-37c2afb11556"
   },
   "outputs": [
    {
     "name": "stdout",
     "output_type": "stream",
     "text": [
      "[0.00669285 0.00739154 0.00816257 0.0090133  0.0099518 ]\n"
     ]
    }
   ],
   "source": [
    "y = sigmoid(x)\n",
    "print(y[:5])"
   ]
  },
  {
   "cell_type": "code",
   "execution_count": 12,
   "metadata": {
    "colab": {
     "base_uri": "https://localhost:8080/",
     "height": 281
    },
    "colab_type": "code",
    "id": "y2Koa4e-s4T3",
    "outputId": "a29036ac-535d-4a7a-91b2-f4ed216f878e"
   },
   "outputs": [
    {
     "data": {
      "image/png": "[encoded data removed]",
      "text/plain": [
       "<Figure size 432x288 with 1 Axes>"
      ]
     },
     "metadata": {
      "tags": []
     },
     "output_type": "display_data"
    }
   ],
   "source": [
    "plt.plot(x, y, 'g')\n",
    "plt.plot([0,0], [1.0, 0.0], ':') # 가운데 점선 추가\n",
    "plt.title('Sigmoid Function')\n",
    "plt.show()"
   ]
  },
  {
   "cell_type": "markdown",
   "metadata": {
    "colab_type": "text",
    "id": "jxD6v0GHz_wy"
   },
   "source": [
    "- 시그모이드 함수는 출력값을 0과 1사이의 값으로 조정하여 반환한다.\n",
    "- 마치 S자의 모양을 연상시킨다.\n",
    "- $x$가 0일 때 $y$는 0.5의 값을 갖는다.\n",
    "- $x$가 증가하면 1에 수렴한다."
   ]
  },
  {
   "cell_type": "markdown",
   "metadata": {
    "colab_type": "text",
    "id": "aTOaEGjs0XU5"
   },
   "source": [
    "<br>\n",
    "\n",
    "### 4.2.3 시그모이드 함수에서의 $W$와 $b$의 의미\n",
    "\n",
    "- 구해야 할 가중치 $W$와 편향 $b$가 어떤 의미를 가지는 지 그래프를 통해 확인"
   ]
  },
  {
   "cell_type": "markdown",
   "metadata": {
    "colab_type": "text",
    "id": "n1plbh-t0k2I"
   },
   "source": [
    "<br>\n",
    "\n",
    "#### 4.2.3.1 $W$ 값 변화에 따른 시그모이드 함수\n",
    "\n",
    "- $W$의 값을 변화시키고 이에 따른 그래프를 확인"
   ]
  },
  {
   "cell_type": "code",
   "execution_count": null,
   "metadata": {
    "colab": {},
    "colab_type": "code",
    "id": "dyxDz0z50vHF"
   },
   "outputs": [],
   "source": [
    "def sigmoid(x):\n",
    "    return 1/(1+np.exp(-x))"
   ]
  },
  {
   "cell_type": "code",
   "execution_count": 14,
   "metadata": {
    "colab": {
     "base_uri": "https://localhost:8080/",
     "height": 35
    },
    "colab_type": "code",
    "id": "9C9bqnSx0yFi",
    "outputId": "6d0db061-741d-45e7-a714-07080e77af7a"
   },
   "outputs": [
    {
     "name": "stdout",
     "output_type": "stream",
     "text": [
      "[-5.  -4.9 -4.8 -4.7 -4.6]\n"
     ]
    }
   ],
   "source": [
    "x = np.arange(-5.0, 5.0, 0.1)\n",
    "print(x[:5])"
   ]
  },
  {
   "cell_type": "code",
   "execution_count": 15,
   "metadata": {
    "colab": {
     "base_uri": "https://localhost:8080/",
     "height": 35
    },
    "colab_type": "code",
    "id": "9hCNLVvP01gB",
    "outputId": "07dbe182-f72d-46ca-9f53-d4fc18b902ac"
   },
   "outputs": [
    {
     "name": "stdout",
     "output_type": "stream",
     "text": [
      "[0.07585818 0.07943855 0.0831727  0.08706577 0.09112296]\n"
     ]
    }
   ],
   "source": [
    "y1 = sigmoid(0.5*x)\n",
    "print(y1[:5])"
   ]
  },
  {
   "cell_type": "code",
   "execution_count": 16,
   "metadata": {
    "colab": {
     "base_uri": "https://localhost:8080/",
     "height": 35
    },
    "colab_type": "code",
    "id": "C1kFs2Jj04Q5",
    "outputId": "e4bcbeff-cf19-475b-844d-8c38513eff66"
   },
   "outputs": [
    {
     "name": "stdout",
     "output_type": "stream",
     "text": [
      "[0.00669285 0.00739154 0.00816257 0.0090133  0.0099518 ]\n"
     ]
    }
   ],
   "source": [
    "y2 = sigmoid(x)\n",
    "print(y2[:5])"
   ]
  },
  {
   "cell_type": "code",
   "execution_count": 17,
   "metadata": {
    "colab": {
     "base_uri": "https://localhost:8080/",
     "height": 53
    },
    "colab_type": "code",
    "id": "ZXOA9Mjz08Mf",
    "outputId": "4b5556ce-d17a-4cf6-bfce-2df96153a13c"
   },
   "outputs": [
    {
     "name": "stdout",
     "output_type": "stream",
     "text": [
      "[4.53978687e-05 5.54485247e-05 6.77241496e-05 8.27172229e-05\n",
      " 1.01029194e-04]\n"
     ]
    }
   ],
   "source": [
    "y3 = sigmoid(2*x)\n",
    "print(y3[:5])"
   ]
  },
  {
   "cell_type": "code",
   "execution_count": 20,
   "metadata": {
    "colab": {
     "base_uri": "https://localhost:8080/",
     "height": 281
    },
    "colab_type": "code",
    "id": "uoEX9LuR1AsX",
    "outputId": "3722413a-7ee6-4176-83e7-ef11c89de545"
   },
   "outputs": [
    {
     "data": {
      "image/png": "[encoded data removed]",
      "text/plain": [
       "<Figure size 432x288 with 1 Axes>"
      ]
     },
     "metadata": {
      "tags": []
     },
     "output_type": "display_data"
    }
   ],
   "source": [
    "plt.plot(x, y1, 'r', linestyle='--') # W의 값이 0.5일 때\n",
    "plt.plot(x, y2, 'g') # W의 값이 1일 때\n",
    "plt.plot(x, y3, 'b', linestyle='--') # W의 값이 2일 때\n",
    "plt.plot([0,0], [1,0], ':')\n",
    "plt.title('Sigmoid Function')\n",
    "plt.show()"
   ]
  },
  {
   "cell_type": "markdown",
   "metadata": {
    "colab_type": "text",
    "id": "P2SNiABu1UD6"
   },
   "source": [
    "- <font color=\"red\">빨간 점선</font> : $W$의 값이 0.5일 때\n",
    "- <font color=\"green\">초록 실선</font> : $W$의 값이 1일 때\n",
    "- <font color=\"blue\">파란 점선</font> : $W$의 값이 2일 때"
   ]
  },
  {
   "cell_type": "markdown",
   "metadata": {
    "colab_type": "text",
    "id": "k7Hu92ZB1c0D"
   },
   "source": [
    "- $W$의 값에 따라 그래프의 경사도가 변함\n",
    "- 선형 회귀에서는 가중치 $W$는 직선의 기울기를 의미함\n",
    "- 여기서는 가중치 $W$는 그래프의 경사도를 결정한다.\n",
    "- $W$의 값이 커지면 경사가 커지고 $W$의 값이 작아지면 경사가 작아진다."
   ]
  },
  {
   "cell_type": "markdown",
   "metadata": {
    "colab_type": "text",
    "id": "OVJ1n5yU5F4I"
   },
   "source": [
    "<br>\n",
    "\n",
    "#### 4.2.3.2 $b$ 값 변화에 따른 시그모이드 함수"
   ]
  },
  {
   "cell_type": "code",
   "execution_count": null,
   "metadata": {
    "colab": {},
    "colab_type": "code",
    "id": "pNn_f4G95MFP"
   },
   "outputs": [],
   "source": [
    "def sigmoid(x):\n",
    "    return 1/(1 + np.exp(-x))"
   ]
  },
  {
   "cell_type": "code",
   "execution_count": 22,
   "metadata": {
    "colab": {
     "base_uri": "https://localhost:8080/",
     "height": 35
    },
    "colab_type": "code",
    "id": "woiB0lz-5Q7A",
    "outputId": "5f827e59-1ce1-4d36-b4af-28df213e8bcd"
   },
   "outputs": [
    {
     "name": "stdout",
     "output_type": "stream",
     "text": [
      "[-5.  -4.9 -4.8 -4.7 -4.6]\n"
     ]
    }
   ],
   "source": [
    "x = np.arange(-5.0, 5.0, 0.1)\n",
    "print(x[:5])"
   ]
  },
  {
   "cell_type": "code",
   "execution_count": 23,
   "metadata": {
    "colab": {
     "base_uri": "https://localhost:8080/",
     "height": 35
    },
    "colab_type": "code",
    "id": "Kr3M09jk5UNP",
    "outputId": "7e3e16bd-ea5f-4e87-91b3-58f9cdb5a5a9"
   },
   "outputs": [
    {
     "name": "stdout",
     "output_type": "stream",
     "text": [
      "[0.01098694 0.01212843 0.01338692 0.01477403 0.0163025 ]\n"
     ]
    }
   ],
   "source": [
    "y1 = sigmoid(x + 0.5)\n",
    "print(y1[:5])"
   ]
  },
  {
   "cell_type": "code",
   "execution_count": 24,
   "metadata": {
    "colab": {
     "base_uri": "https://localhost:8080/",
     "height": 35
    },
    "colab_type": "code",
    "id": "KfUIiieG5aSw",
    "outputId": "7985daff-9090-4d8f-955f-ec4d1d9f37f6"
   },
   "outputs": [
    {
     "name": "stdout",
     "output_type": "stream",
     "text": [
      "[0.01798621 0.01984031 0.02188127 0.02412702 0.02659699]\n"
     ]
    }
   ],
   "source": [
    "y2 = sigmoid(x + 1)\n",
    "print(y2[:5])"
   ]
  },
  {
   "cell_type": "code",
   "execution_count": 27,
   "metadata": {
    "colab": {
     "base_uri": "https://localhost:8080/",
     "height": 35
    },
    "colab_type": "code",
    "id": "x5f661s-5ewH",
    "outputId": "1f2061fe-62da-4a99-f8c7-8127e21f4b62"
   },
   "outputs": [
    {
     "name": "stdout",
     "output_type": "stream",
     "text": [
      "[0.02931223 0.03229546 0.03557119 0.03916572 0.04310725]\n"
     ]
    }
   ],
   "source": [
    "y3 = sigmoid(x + 1.5)\n",
    "print(y3[:5])"
   ]
  },
  {
   "cell_type": "code",
   "execution_count": 28,
   "metadata": {
    "colab": {
     "base_uri": "https://localhost:8080/",
     "height": 281
    },
    "colab_type": "code",
    "id": "r6H8MCe-5hsG",
    "outputId": "cf1e62e1-6d4c-4592-87e1-a259316112a5"
   },
   "outputs": [
    {
     "data": {
      "image/png": "[encoded data removed]",
      "text/plain": [
       "<Figure size 432x288 with 1 Axes>"
      ]
     },
     "metadata": {
      "tags": []
     },
     "output_type": "display_data"
    }
   ],
   "source": [
    "plt.plot(x, y1, 'r', linestyle='--') # b의 값이 0.5일 때\n",
    "plt.plot(x, y2, 'g') # b의 값이 1일 때\n",
    "plt.plot(x, y3, 'b', linestyle='--') # b의 값이 1.5일 때\n",
    "plt.plot([0,0], [1,0], ':')\n",
    "plt.title('Sigmoid Function')\n",
    "plt.show()"
   ]
  },
  {
   "cell_type": "markdown",
   "metadata": {
    "colab_type": "text",
    "id": "4CiJrAlv5uIH"
   },
   "source": [
    "- $b$의 값에 따라서 그래프가 이동함"
   ]
  },
  {
   "cell_type": "markdown",
   "metadata": {
    "colab_type": "text",
    "id": "CAQkej-n6Cpt"
   },
   "source": [
    "<br>\n",
    "\n",
    "### 4.2.4 정리\n",
    "\n",
    "- 시그모이드 함수는 입력값이 커지면 1에 수렴하고, 입력값이 작아지면 0에 수렴한다.\n",
    "- 0부터의 1까지의 값을 가진다.\n",
    "  - 출력값이 0.5 이상 $\\rightarrow$ 1(True)\n",
    "  - 출력값이 0.5 이하 $\\rightarrow$ 0(False)\n",
    "- 이렇게 되면 이진 분류 문제로 사용할 수 있다.\n",
    "- 이를 확률로 생각해보면\n",
    "  - 해당 범주에 속할 확률이 50%가 넘으면 해당 범주라고 판단\n",
    "  - 해당 범주에 속할 확률이 50%보다 낮으면 해당 범주가 아니라고 판단"
   ]
  },
  {
   "cell_type": "markdown",
   "metadata": {
    "colab_type": "text",
    "id": "viearJmL6hRK"
   },
   "source": [
    "<br>\n",
    "\n",
    "## 4.3 비용 함수(Cost function)"
   ]
  },
  {
   "cell_type": "markdown",
   "metadata": {
    "colab_type": "text",
    "id": "fR37TbF66kV8"
   },
   "source": [
    "### 4.3.1 로지스틱 회귀에서 비용 함수로 평균 제곱 오차(MSE)를 사용하지 않는 이유\n",
    "\n",
    "- 로지스틱 회귀 또한 경사 하강법을 사용하여 가중치 $W$를 찾아낸다.\n",
    "- 하지만 비용 함수로 평균 제곱 오차를 사용하지 않는다.\n",
    "- 그 이유는 시그모이드 함수에 비용 함수를 평균 제곱 오차로 하여 그래프를 그리면 다음과 비슷한 형태가 되기 떄문이다.\n",
    "\n",
    "![](https://wikidocs.net/images/page/22881/%EB%A1%9C%EC%BB%AC%EB%AF%B8%EB%8B%88%EB%A9%88.PNG)\n",
    "\n",
    "- 로지스틱 회귀에서 평균 제곱 오차를 비용 함수로 사용하면, 경사 하강법을 사용하였을 때 자칫 잘못하면 찾고자 하는 최소값이 아닌 잘못된 최소값에 빠진다.\n",
    "- 이를 전체 함수에 걸쳐 최소값인 글로벌 미니멈(Global Minimum)이 아닌 특정 구역에서의 최소값인 로컬 미니멈(Local Minimum)에 도달했다고 한다.\n",
    "- 이는 cost가 최소가 되는 가중치 $W$를 찾는다는 비용 함수의 목적에 맞지 않는다."
   ]
  },
  {
   "cell_type": "markdown",
   "metadata": {
    "colab_type": "text",
    "id": "AAXt6O0oK6Re"
   },
   "source": [
    "<br>\n",
    "\n",
    "### 4.3.2 새로운 비용 함수, 목적 함수(objective function)\n",
    "\n",
    "- 그렇다면 가중치 $W$를 최소로 만드는 새로운 비용 함수를 찾아야 한다."
   ]
  },
  {
   "cell_type": "markdown",
   "metadata": {
    "colab_type": "text",
    "id": "uIWp0XSgLTll"
   },
   "source": [
    "- 가중치를 최소화하는 아래의 어떤 함수를 목적 함수라고 하자.\n",
    "- 비용 함수와 목적 함수를 최적의 가중치를 찾기 위해 함수의 값을 최소화하는 함수라는 의미에서 같은 의미의 용어로 사용한다."
   ]
  },
  {
   "cell_type": "markdown",
   "metadata": {
    "colab_type": "text",
    "id": "bC6x_YjgLk8E"
   },
   "source": [
    "<br>\n",
    "\n",
    "### 4.3.3 목적 함수 식\n",
    "\n",
    "- $J$는 목적 함수(objective function)를 의미한다.\n",
    "\n",
    "$\n",
    "\\qquad\n",
    "J(W) = {1 \\over n} \\sum_{i=1}^n f \\left( H(x^{(i)}), \\, y^{(i)} \\right)\n",
    "$\n",
    "\n",
    "- 위의 식은 완성되지 않았다.\n",
    "- 위의 식에서 샘플 데이터의 개수 : $n$개\n",
    "- 함수 $f$ : 실제값 $y_i$와 예측값 $H(x_i)$의 오차를 나타내는 함수\n",
    "- 여기서 새로운 함수 $f$를 어떻게 정의하느냐에 따라서 가중치를 최소화하는 적절한 목적 함수가 완성된다."
   ]
  },
  {
   "cell_type": "markdown",
   "metadata": {
    "colab_type": "text",
    "id": "0el7qqNKMnts"
   },
   "source": [
    "<br>\n",
    "\n",
    "### 4.3.4 비용 함수를 반영한 목적 함수 식\n",
    "\n",
    "- 목적 함수는 전체 데이터에 대해서 어떤 함수 $f$의 값의 평균을 계산하고 있다.\n",
    "- 적절한 가중치를 찾기 위해서는 결과적으로 실제값과 예측값에 대한 오차를 줄여야 하므로 여기서 이 $f$를 **비용 함수(cost function)**라고 한다.\n",
    "- 식을 다시 쓰면 아래와 같다.\n",
    "\n",
    "$\n",
    "\\qquad\n",
    "J(W) = {1 \\over n} \\sum_{i=1}^n cost \\left( H(x^{(i)}), \\, y^{(i)} \\right)\n",
    "$"
   ]
  },
  {
   "cell_type": "markdown",
   "metadata": {
    "colab_type": "text",
    "id": "f0FkSEq-Ns-_"
   },
   "source": [
    "<br>\n",
    "\n",
    "### 4.3.5 로그 함수를 적용한 비용 함수 식\n",
    "\n",
    "- 시그모이드 함수는 0과 1 사이의 $y$값을 반환한다.\n",
    "- 이는 실제값이 0일 때\n",
    "  - $y$ 값이 1에 가까워지면 오차가 커진다.\n",
    "  - $y$ 값이 0에 가까워지면 오차가 작아진다.\n",
    "- 이를 반영할 수 있는 함수는 **로그 함수**를 통해 표현이 가능하다.\n",
    "\n",
    "$\n",
    "\\qquad\n",
    "if \\; y=1 \\; \\rightarrow \\; cost \\left( H(x), y \\right) = -log \\left(H(x)\\right)\n",
    "$\n",
    "\n",
    "$\n",
    "\\qquad\n",
    "if \\; y=0 \\; \\rightarrow \\; cost \\left( H(x), y \\right) = -log \\left(1-H(x)\\right)\n",
    "$\n",
    "\n",
    "- $y$의 실제값이 1일 때 $-log H(x)$ 그래프 사용\n",
    "- $y$의 실제값이 0일 때 $-log \\left(1 - H(x)\\right)$ 그래프를 사용\n",
    "\n",
    "- 위의 두 식을 그래프 상으로 표현하면 아래와 같다.\n",
    "\n",
    "![](https://wikidocs.net/images/page/22881/%EC%86%90%EC%8B%A4%ED%95%A8%EC%88%98.PNG)\n",
    "\n",
    "- 실제값이 1일 때의 그래프 : 파란색 선\n",
    "- 실제값이 0일 때의 그래프 : 빨간색 선"
   ]
  },
  {
   "cell_type": "markdown",
   "metadata": {
    "colab_type": "text",
    "id": "v6vn0rEBN-FL"
   },
   "source": [
    "- 실제값이 1일 때, 예측값인 $H(X)$의 값이 1이면 오차가 0이므로 당연히 cost는 0이 된다.\n",
    "- 실제값이 1일 때, 예측값인 $H(X)$의 값이 0으로 수렴하면 cost가 무한대로 발산한다."
   ]
  },
  {
   "cell_type": "markdown",
   "metadata": {
    "colab_type": "text",
    "id": "rc8VaDaeOEBH"
   },
   "source": [
    "- 실제값이 0일 때, 예측값인 $H(X)$의 값이 0이면 오차가 0이므로 당연히 cost는 0이 된다.\n",
    "- 실제값이 0일 때, 예측값인 $H(X)$의 값이 1로 수렴하면 cost가 무한대로 발산한다."
   ]
  },
  {
   "cell_type": "markdown",
   "metadata": {
    "colab_type": "text",
    "id": "PFeh9rRlOV47"
   },
   "source": [
    "- 이는 다음과 같이 하나의 식으로 표현할 수 있다.\n",
    "\n",
    "$\n",
    "\\qquad\n",
    "cost(H(x), y) = - \\left[ \\; y \\; logH(x) + (1 - y) \\; log(1-H(x)) \\; \\right] \n",
    "$\n",
    "\n",
    "- $y$와 $(1-y)$가 식 중간에 들어감\n",
    "- 두 개의 식을 $-$로 묶은 것 외에는 기존의 두 식이 들어가 있는 것을 볼 수 있다.\n",
    "- $y$가 0 $\\rightarrow$ $y \\; logH(X)$가 없어짐\n",
    "- $y$가 1 $\\rightarrow$ $(1-y) \\; log(1-H(X))$가 없어짐\n",
    "- 이는 $y$가 1일 때와 $y$가 0일 때의 앞서 본 식과 동일하다."
   ]
  },
  {
   "cell_type": "markdown",
   "metadata": {
    "colab_type": "text",
    "id": "03koqN8dRAKs"
   },
   "source": [
    "<br>\n",
    "\n",
    "### 4.3.6 로지스틱 회귀의 목적 함수, 크로스 엔트로피(Cross Entropy) 함수\n",
    "\n",
    "- 결과적으로 로지스틱 회귀의 목적 함수는 아래와 같다.\n",
    "\n",
    "$\n",
    "\\qquad\n",
    "J(W) = -\\frac{1}{n} \\sum_{i=1}^{n} [y^{(i)}logH(x^{(i)}) + (1-y^{(i)})log(1-H(x^{(i)}))]\n",
    "$\n",
    "\n",
    "- 이 때 로지스틱 회귀에서 찾아낸 비용 함수를 **크로스 엔트로피(Cross Entropy)** 함수라고 한다."
   ]
  },
  {
   "cell_type": "markdown",
   "metadata": {
    "colab_type": "text",
    "id": "GYsdD8k4RKEi"
   },
   "source": [
    "- 즉, 결론적으로 로지스틱 회귀는 비용 함수로 크로스 엔트로피 함수를 사용한다.\n",
    "- 가중치를 찾기 위해서 크로스 엔트로피 함수의 평균을 취한 함수를 사용한다.\n",
    "- 크로스 엔트로피 함수는 **소프트맥스 회귀의 비용 함수**이기도 하다."
   ]
  },
  {
   "cell_type": "markdown",
   "metadata": {
    "colab_type": "text",
    "id": "jSxTVx3TRmwZ"
   },
   "source": [
    "<br>\n",
    "\n",
    "### 4.3.7 비용 함수의 요약\n",
    "\n",
    "- 선형 회귀의 비용 함수 : 평균 제곱 오차(MSE)\n",
    "  - MSE : $cost(W, b) = {1 \\over n} \\sum_{i=1}^n \\left[ y^{(i)} - H(x^{(i)}) \\right]$^2"
   ]
  },
  {
   "cell_type": "markdown",
   "metadata": {},
   "source": [
    "- 로지스틱 회귀의 비용 함수 : 크로스 엔트로피(Cross Entropy) 함수\n",
    "  - Cross Entropy : $J(W) = -\\frac{1}{n} \\sum_{i=1}^{n} [y^{(i)}logH(x^{(i)}) + (1-y^{(i)})log(1-H(x^{(i)}))]$"
   ]
  },
  {
   "cell_type": "markdown",
   "metadata": {},
   "source": [
    "- 소프트맥스 회귀의 비용 함수 : 크로스 엔트로피(Cross Entropy) 함수"
   ]
  },
  {
   "cell_type": "markdown",
   "metadata": {
    "colab_type": "text",
    "id": "zJYzzF2ySing"
   },
   "source": [
    "<br>\n",
    "\n",
    "## 4.4 케라스로 구현하는 로지스틱 회귀"
   ]
  },
  {
   "cell_type": "code",
   "execution_count": 29,
   "metadata": {
    "colab": {
     "base_uri": "https://localhost:8080/",
     "height": 53
    },
    "colab_type": "code",
    "id": "ttgd4KaGSwmC",
    "outputId": "11ed4377-7557-40eb-e158-0c879ce2679a"
   },
   "outputs": [
    {
     "name": "stdout",
     "output_type": "stream",
     "text": [
      "TensorFlow 2.x selected.\n"
     ]
    },
    {
     "data": {
      "text/plain": [
       "'2.1.0'"
      ]
     },
     "execution_count": 29,
     "metadata": {
      "tags": []
     },
     "output_type": "execute_result"
    }
   ],
   "source": [
    "%tensorflow_version 2.x\n",
    "\n",
    "import tensorflow as tf\n",
    "tf.__version__"
   ]
  },
  {
   "cell_type": "code",
   "execution_count": 31,
   "metadata": {
    "colab": {
     "base_uri": "https://localhost:8080/",
     "height": 1000
    },
    "colab_type": "code",
    "id": "q23Jl97MS-93",
    "outputId": "b7ca0e37-7742-449b-f5c3-cbed435ff6b5"
   },
   "outputs": [
    {
     "name": "stdout",
     "output_type": "stream",
     "text": [
      "Train on 13 samples\n",
      "Epoch 1/200\n",
      "13/13 [==============================] - 0s 18ms/sample - loss: 0.2230 - binary_accuracy: 0.9231\n",
      "Epoch 2/200\n",
      "13/13 [==============================] - 0s 2ms/sample - loss: 0.2156 - binary_accuracy: 0.9231\n",
      "Epoch 3/200\n",
      "13/13 [==============================] - 0s 1ms/sample - loss: 0.2097 - binary_accuracy: 0.9231\n",
      "Epoch 4/200\n",
      "13/13 [==============================] - 0s 2ms/sample - loss: 0.2053 - binary_accuracy: 0.9231\n",
      "Epoch 5/200\n",
      "13/13 [==============================] - 0s 2ms/sample - loss: 0.2019 - binary_accuracy: 0.9231\n",
      "Epoch 6/200\n",
      "13/13 [==============================] - 0s 2ms/sample - loss: 0.1993 - binary_accuracy: 0.9231\n",
      "Epoch 7/200\n",
      "13/13 [==============================] - 0s 2ms/sample - loss: 0.1972 - binary_accuracy: 0.9231\n",
      "Epoch 8/200\n",
      "13/13 [==============================] - 0s 2ms/sample - loss: 0.1954 - binary_accuracy: 0.9231\n",
      "Epoch 9/200\n",
      "13/13 [==============================] - 0s 2ms/sample - loss: 0.1937 - binary_accuracy: 0.9231\n",
      "Epoch 10/200\n",
      "13/13 [==============================] - 0s 2ms/sample - loss: 0.1921 - binary_accuracy: 0.9231\n",
      "Epoch 11/200\n",
      "13/13 [==============================] - 0s 2ms/sample - loss: 0.1906 - binary_accuracy: 0.9231\n",
      "Epoch 12/200\n",
      "13/13 [==============================] - 0s 2ms/sample - loss: 0.1891 - binary_accuracy: 0.9231\n",
      "Epoch 13/200\n",
      "13/13 [==============================] - 0s 2ms/sample - loss: 0.1876 - binary_accuracy: 0.9231\n",
      "Epoch 14/200\n",
      "13/13 [==============================] - 0s 2ms/sample - loss: 0.1862 - binary_accuracy: 0.9231\n",
      "Epoch 15/200\n",
      "13/13 [==============================] - 0s 1ms/sample - loss: 0.1848 - binary_accuracy: 0.9231\n",
      "Epoch 16/200\n",
      "13/13 [==============================] - 0s 2ms/sample - loss: 0.1834 - binary_accuracy: 0.9231\n",
      "Epoch 17/200\n",
      "13/13 [==============================] - 0s 2ms/sample - loss: 0.1820 - binary_accuracy: 0.9231\n",
      "Epoch 18/200\n",
      "13/13 [==============================] - 0s 2ms/sample - loss: 0.1807 - binary_accuracy: 0.9231\n",
      "Epoch 19/200\n",
      "13/13 [==============================] - 0s 2ms/sample - loss: 0.1794 - binary_accuracy: 0.9231\n",
      "Epoch 20/200\n",
      "13/13 [==============================] - 0s 2ms/sample - loss: 0.1781 - binary_accuracy: 0.9231\n",
      "Epoch 21/200\n",
      "13/13 [==============================] - 0s 2ms/sample - loss: 0.1768 - binary_accuracy: 0.9231\n",
      "Epoch 22/200\n",
      "13/13 [==============================] - 0s 2ms/sample - loss: 0.1755 - binary_accuracy: 0.9231\n",
      "Epoch 23/200\n",
      "13/13 [==============================] - 0s 2ms/sample - loss: 0.1743 - binary_accuracy: 0.9231\n",
      "Epoch 24/200\n",
      "13/13 [==============================] - 0s 2ms/sample - loss: 0.1731 - binary_accuracy: 0.9231\n",
      "Epoch 25/200\n",
      "13/13 [==============================] - 0s 2ms/sample - loss: 0.1719 - binary_accuracy: 0.9231\n",
      "Epoch 26/200\n",
      "13/13 [==============================] - 0s 2ms/sample - loss: 0.1707 - binary_accuracy: 0.9231\n",
      "Epoch 27/200\n",
      "13/13 [==============================] - 0s 2ms/sample - loss: 0.1695 - binary_accuracy: 0.9231\n",
      "Epoch 28/200\n",
      "13/13 [==============================] - 0s 2ms/sample - loss: 0.1684 - binary_accuracy: 0.9231\n",
      "Epoch 29/200\n",
      "13/13 [==============================] - 0s 2ms/sample - loss: 0.1673 - binary_accuracy: 0.9231\n",
      "Epoch 30/200\n",
      "13/13 [==============================] - 0s 2ms/sample - loss: 0.1661 - binary_accuracy: 0.9231\n",
      "Epoch 31/200\n",
      "13/13 [==============================] - 0s 2ms/sample - loss: 0.1651 - binary_accuracy: 0.9231\n",
      "Epoch 32/200\n",
      "13/13 [==============================] - 0s 2ms/sample - loss: 0.1640 - binary_accuracy: 0.9231\n",
      "Epoch 33/200\n",
      "13/13 [==============================] - 0s 2ms/sample - loss: 0.1629 - binary_accuracy: 0.9231\n",
      "Epoch 34/200\n",
      "13/13 [==============================] - 0s 2ms/sample - loss: 0.1619 - binary_accuracy: 0.9231\n",
      "Epoch 35/200\n",
      "13/13 [==============================] - 0s 2ms/sample - loss: 0.1608 - binary_accuracy: 0.9231\n",
      "Epoch 36/200\n",
      "13/13 [==============================] - 0s 2ms/sample - loss: 0.1598 - binary_accuracy: 0.9231\n",
      "Epoch 37/200\n",
      "13/13 [==============================] - 0s 2ms/sample - loss: 0.1588 - binary_accuracy: 0.9231\n",
      "Epoch 38/200\n",
      "13/13 [==============================] - 0s 2ms/sample - loss: 0.1579 - binary_accuracy: 0.9231\n",
      "Epoch 39/200\n",
      "13/13 [==============================] - 0s 2ms/sample - loss: 0.1569 - binary_accuracy: 0.9231\n",
      "Epoch 40/200\n",
      "13/13 [==============================] - 0s 2ms/sample - loss: 0.1559 - binary_accuracy: 0.9231\n",
      "Epoch 41/200\n",
      "13/13 [==============================] - 0s 2ms/sample - loss: 0.1550 - binary_accuracy: 0.9231\n",
      "Epoch 42/200\n",
      "13/13 [==============================] - 0s 2ms/sample - loss: 0.1541 - binary_accuracy: 0.9231\n",
      "Epoch 43/200\n",
      "13/13 [==============================] - 0s 2ms/sample - loss: 0.1532 - binary_accuracy: 0.9231\n",
      "Epoch 44/200\n",
      "13/13 [==============================] - 0s 2ms/sample - loss: 0.1523 - binary_accuracy: 0.9231\n",
      "Epoch 45/200\n",
      "13/13 [==============================] - 0s 2ms/sample - loss: 0.1514 - binary_accuracy: 0.9231\n",
      "Epoch 46/200\n",
      "13/13 [==============================] - 0s 2ms/sample - loss: 0.1505 - binary_accuracy: 0.9231\n",
      "Epoch 47/200\n",
      "13/13 [==============================] - 0s 2ms/sample - loss: 0.1497 - binary_accuracy: 0.9231\n",
      "Epoch 48/200\n",
      "13/13 [==============================] - 0s 2ms/sample - loss: 0.1488 - binary_accuracy: 0.9231\n",
      "Epoch 49/200\n",
      "13/13 [==============================] - 0s 2ms/sample - loss: 0.1480 - binary_accuracy: 0.9231\n",
      "Epoch 50/200\n",
      "13/13 [==============================] - 0s 2ms/sample - loss: 0.1472 - binary_accuracy: 0.9231\n",
      "Epoch 51/200\n",
      "13/13 [==============================] - 0s 2ms/sample - loss: 0.1463 - binary_accuracy: 0.9231\n",
      "Epoch 52/200\n",
      "13/13 [==============================] - 0s 2ms/sample - loss: 0.1455 - binary_accuracy: 0.9231\n",
      "Epoch 53/200\n",
      "13/13 [==============================] - 0s 2ms/sample - loss: 0.1448 - binary_accuracy: 0.9231\n",
      "Epoch 54/200\n",
      "13/13 [==============================] - 0s 2ms/sample - loss: 0.1440 - binary_accuracy: 0.9231\n",
      "Epoch 55/200\n",
      "13/13 [==============================] - 0s 2ms/sample - loss: 0.1432 - binary_accuracy: 0.9231\n",
      "Epoch 56/200\n",
      "13/13 [==============================] - 0s 2ms/sample - loss: 0.1425 - binary_accuracy: 0.9231\n",
      "Epoch 57/200\n",
      "13/13 [==============================] - 0s 2ms/sample - loss: 0.1417 - binary_accuracy: 0.9231\n",
      "Epoch 58/200\n",
      "13/13 [==============================] - 0s 2ms/sample - loss: 0.1410 - binary_accuracy: 0.9231\n",
      "Epoch 59/200\n",
      "13/13 [==============================] - 0s 2ms/sample - loss: 0.1403 - binary_accuracy: 0.9231\n",
      "Epoch 60/200\n",
      "13/13 [==============================] - 0s 2ms/sample - loss: 0.1395 - binary_accuracy: 0.9231\n",
      "Epoch 61/200\n",
      "13/13 [==============================] - 0s 2ms/sample - loss: 0.1388 - binary_accuracy: 0.9231\n",
      "Epoch 62/200\n",
      "13/13 [==============================] - 0s 2ms/sample - loss: 0.1381 - binary_accuracy: 0.9231\n",
      "Epoch 63/200\n",
      "13/13 [==============================] - 0s 2ms/sample - loss: 0.1374 - binary_accuracy: 0.9231\n",
      "Epoch 64/200\n",
      "13/13 [==============================] - 0s 2ms/sample - loss: 0.1368 - binary_accuracy: 0.9231\n",
      "Epoch 65/200\n",
      "13/13 [==============================] - 0s 2ms/sample - loss: 0.1361 - binary_accuracy: 0.9231\n",
      "Epoch 66/200\n",
      "13/13 [==============================] - 0s 1ms/sample - loss: 0.1354 - binary_accuracy: 0.9231\n",
      "Epoch 67/200\n",
      "13/13 [==============================] - 0s 2ms/sample - loss: 0.1348 - binary_accuracy: 0.9231\n",
      "Epoch 68/200\n",
      "13/13 [==============================] - 0s 2ms/sample - loss: 0.1341 - binary_accuracy: 0.9231\n",
      "Epoch 69/200\n",
      "13/13 [==============================] - 0s 2ms/sample - loss: 0.1335 - binary_accuracy: 0.9231\n",
      "Epoch 70/200\n",
      "13/13 [==============================] - 0s 2ms/sample - loss: 0.1329 - binary_accuracy: 0.9231\n",
      "Epoch 71/200\n",
      "13/13 [==============================] - 0s 2ms/sample - loss: 0.1323 - binary_accuracy: 0.9231\n",
      "Epoch 72/200\n",
      "13/13 [==============================] - 0s 2ms/sample - loss: 0.1316 - binary_accuracy: 0.9231\n",
      "Epoch 73/200\n",
      "13/13 [==============================] - 0s 2ms/sample - loss: 0.1310 - binary_accuracy: 0.9231\n",
      "Epoch 74/200\n",
      "13/13 [==============================] - 0s 1ms/sample - loss: 0.1304 - binary_accuracy: 0.9231\n",
      "Epoch 75/200\n",
      "13/13 [==============================] - 0s 2ms/sample - loss: 0.1299 - binary_accuracy: 0.9231\n",
      "Epoch 76/200\n",
      "13/13 [==============================] - 0s 2ms/sample - loss: 0.1293 - binary_accuracy: 0.9231\n",
      "Epoch 77/200\n",
      "13/13 [==============================] - 0s 2ms/sample - loss: 0.1287 - binary_accuracy: 0.9231\n",
      "Epoch 78/200\n",
      "13/13 [==============================] - 0s 2ms/sample - loss: 0.1281 - binary_accuracy: 0.9231\n",
      "Epoch 79/200\n",
      "13/13 [==============================] - 0s 2ms/sample - loss: 0.1276 - binary_accuracy: 0.9231\n",
      "Epoch 80/200\n",
      "13/13 [==============================] - 0s 2ms/sample - loss: 0.1270 - binary_accuracy: 0.9231\n",
      "Epoch 81/200\n",
      "13/13 [==============================] - 0s 2ms/sample - loss: 0.1265 - binary_accuracy: 0.9231\n",
      "Epoch 82/200\n",
      "13/13 [==============================] - 0s 2ms/sample - loss: 0.1259 - binary_accuracy: 0.9231\n",
      "Epoch 83/200\n",
      "13/13 [==============================] - 0s 2ms/sample - loss: 0.1254 - binary_accuracy: 0.9231\n",
      "Epoch 84/200\n",
      "13/13 [==============================] - 0s 2ms/sample - loss: 0.1249 - binary_accuracy: 0.9231\n",
      "Epoch 85/200\n",
      "13/13 [==============================] - 0s 2ms/sample - loss: 0.1243 - binary_accuracy: 0.9231\n",
      "Epoch 86/200\n",
      "13/13 [==============================] - 0s 2ms/sample - loss: 0.1238 - binary_accuracy: 0.9231\n",
      "Epoch 87/200\n",
      "13/13 [==============================] - 0s 2ms/sample - loss: 0.1233 - binary_accuracy: 0.9231\n",
      "Epoch 88/200\n",
      "13/13 [==============================] - 0s 2ms/sample - loss: 0.1228 - binary_accuracy: 0.9231\n",
      "Epoch 89/200\n",
      "13/13 [==============================] - 0s 2ms/sample - loss: 0.1223 - binary_accuracy: 0.9231\n",
      "Epoch 90/200\n",
      "13/13 [==============================] - 0s 2ms/sample - loss: 0.1218 - binary_accuracy: 0.9231\n",
      "Epoch 91/200\n",
      "13/13 [==============================] - 0s 2ms/sample - loss: 0.1213 - binary_accuracy: 0.9231\n",
      "Epoch 92/200\n",
      "13/13 [==============================] - 0s 2ms/sample - loss: 0.1208 - binary_accuracy: 0.9231\n",
      "Epoch 93/200\n",
      "13/13 [==============================] - 0s 2ms/sample - loss: 0.1204 - binary_accuracy: 0.9231\n",
      "Epoch 94/200\n",
      "13/13 [==============================] - 0s 2ms/sample - loss: 0.1199 - binary_accuracy: 0.9231\n",
      "Epoch 95/200\n",
      "13/13 [==============================] - 0s 2ms/sample - loss: 0.1194 - binary_accuracy: 0.9231\n",
      "Epoch 96/200\n",
      "13/13 [==============================] - 0s 1ms/sample - loss: 0.1190 - binary_accuracy: 0.9231\n",
      "Epoch 97/200\n",
      "13/13 [==============================] - 0s 2ms/sample - loss: 0.1185 - binary_accuracy: 0.9231\n",
      "Epoch 98/200\n",
      "13/13 [==============================] - 0s 2ms/sample - loss: 0.1180 - binary_accuracy: 0.9231\n",
      "Epoch 99/200\n",
      "13/13 [==============================] - 0s 2ms/sample - loss: 0.1176 - binary_accuracy: 0.9231\n",
      "Epoch 100/200\n",
      "13/13 [==============================] - 0s 2ms/sample - loss: 0.1172 - binary_accuracy: 0.9231\n",
      "Epoch 101/200\n",
      "13/13 [==============================] - 0s 2ms/sample - loss: 0.1167 - binary_accuracy: 0.9231\n",
      "Epoch 102/200\n",
      "13/13 [==============================] - 0s 2ms/sample - loss: 0.1163 - binary_accuracy: 0.9231\n",
      "Epoch 103/200\n",
      "13/13 [==============================] - 0s 2ms/sample - loss: 0.1159 - binary_accuracy: 0.9231\n",
      "Epoch 104/200\n",
      "13/13 [==============================] - 0s 2ms/sample - loss: 0.1154 - binary_accuracy: 0.9231\n",
      "Epoch 105/200\n",
      "13/13 [==============================] - 0s 2ms/sample - loss: 0.1150 - binary_accuracy: 0.9231\n",
      "Epoch 106/200\n",
      "13/13 [==============================] - 0s 2ms/sample - loss: 0.1146 - binary_accuracy: 0.9231\n",
      "Epoch 107/200\n",
      "13/13 [==============================] - 0s 2ms/sample - loss: 0.1142 - binary_accuracy: 0.9231\n",
      "Epoch 108/200\n",
      "13/13 [==============================] - 0s 2ms/sample - loss: 0.1138 - binary_accuracy: 0.9231\n",
      "Epoch 109/200\n",
      "13/13 [==============================] - 0s 2ms/sample - loss: 0.1134 - binary_accuracy: 0.9231\n",
      "Epoch 110/200\n",
      "13/13 [==============================] - 0s 2ms/sample - loss: 0.1130 - binary_accuracy: 0.9231\n",
      "Epoch 111/200\n",
      "13/13 [==============================] - 0s 1ms/sample - loss: 0.1126 - binary_accuracy: 0.9231\n",
      "Epoch 112/200\n",
      "13/13 [==============================] - 0s 2ms/sample - loss: 0.1122 - binary_accuracy: 0.9231\n",
      "Epoch 113/200\n",
      "13/13 [==============================] - 0s 2ms/sample - loss: 0.1118 - binary_accuracy: 0.9231\n",
      "Epoch 114/200\n",
      "13/13 [==============================] - 0s 2ms/sample - loss: 0.1114 - binary_accuracy: 0.9231\n",
      "Epoch 115/200\n",
      "13/13 [==============================] - 0s 2ms/sample - loss: 0.1111 - binary_accuracy: 0.9231\n",
      "Epoch 116/200\n",
      "13/13 [==============================] - 0s 2ms/sample - loss: 0.1107 - binary_accuracy: 0.9231\n",
      "Epoch 117/200\n",
      "13/13 [==============================] - 0s 2ms/sample - loss: 0.1103 - binary_accuracy: 0.9231\n",
      "Epoch 118/200\n",
      "13/13 [==============================] - 0s 2ms/sample - loss: 0.1099 - binary_accuracy: 0.9231\n",
      "Epoch 119/200\n",
      "13/13 [==============================] - 0s 2ms/sample - loss: 0.1096 - binary_accuracy: 0.9231\n",
      "Epoch 120/200\n",
      "13/13 [==============================] - 0s 2ms/sample - loss: 0.1092 - binary_accuracy: 0.9231\n",
      "Epoch 121/200\n",
      "13/13 [==============================] - 0s 2ms/sample - loss: 0.1089 - binary_accuracy: 0.9231\n",
      "Epoch 122/200\n",
      "13/13 [==============================] - 0s 2ms/sample - loss: 0.1085 - binary_accuracy: 0.9231\n",
      "Epoch 123/200\n",
      "13/13 [==============================] - 0s 2ms/sample - loss: 0.1082 - binary_accuracy: 0.9231\n",
      "Epoch 124/200\n",
      "13/13 [==============================] - 0s 2ms/sample - loss: 0.1078 - binary_accuracy: 0.9231\n",
      "Epoch 125/200\n",
      "13/13 [==============================] - 0s 2ms/sample - loss: 0.1075 - binary_accuracy: 0.9231\n",
      "Epoch 126/200\n",
      "13/13 [==============================] - 0s 2ms/sample - loss: 0.1071 - binary_accuracy: 0.9231\n",
      "Epoch 127/200\n",
      "13/13 [==============================] - 0s 2ms/sample - loss: 0.1068 - binary_accuracy: 0.9231\n",
      "Epoch 128/200\n",
      "13/13 [==============================] - 0s 2ms/sample - loss: 0.1065 - binary_accuracy: 0.9231\n",
      "Epoch 129/200\n",
      "13/13 [==============================] - 0s 2ms/sample - loss: 0.1061 - binary_accuracy: 0.9231\n",
      "Epoch 130/200\n",
      "13/13 [==============================] - 0s 2ms/sample - loss: 0.1058 - binary_accuracy: 0.9231\n",
      "Epoch 131/200\n",
      "13/13 [==============================] - 0s 2ms/sample - loss: 0.1055 - binary_accuracy: 0.9231\n",
      "Epoch 132/200\n",
      "13/13 [==============================] - 0s 2ms/sample - loss: 0.1051 - binary_accuracy: 0.9231\n",
      "Epoch 133/200\n",
      "13/13 [==============================] - 0s 2ms/sample - loss: 0.1048 - binary_accuracy: 0.9231\n",
      "Epoch 134/200\n",
      "13/13 [==============================] - 0s 2ms/sample - loss: 0.1045 - binary_accuracy: 0.9231\n",
      "Epoch 135/200\n",
      "13/13 [==============================] - 0s 2ms/sample - loss: 0.1042 - binary_accuracy: 0.9231\n",
      "Epoch 136/200\n",
      "13/13 [==============================] - 0s 2ms/sample - loss: 0.1039 - binary_accuracy: 0.9231\n",
      "Epoch 137/200\n",
      "13/13 [==============================] - 0s 2ms/sample - loss: 0.1036 - binary_accuracy: 0.9231\n",
      "Epoch 138/200\n",
      "13/13 [==============================] - 0s 2ms/sample - loss: 0.1033 - binary_accuracy: 0.9231\n",
      "Epoch 139/200\n",
      "13/13 [==============================] - 0s 2ms/sample - loss: 0.1030 - binary_accuracy: 0.9231\n",
      "Epoch 140/200\n",
      "13/13 [==============================] - 0s 2ms/sample - loss: 0.1027 - binary_accuracy: 0.9231\n",
      "Epoch 141/200\n",
      "13/13 [==============================] - 0s 2ms/sample - loss: 0.1024 - binary_accuracy: 0.9231\n",
      "Epoch 142/200\n",
      "13/13 [==============================] - 0s 1ms/sample - loss: 0.1021 - binary_accuracy: 0.9231\n",
      "Epoch 143/200\n",
      "13/13 [==============================] - 0s 2ms/sample - loss: 0.1018 - binary_accuracy: 0.9231\n",
      "Epoch 144/200\n",
      "13/13 [==============================] - 0s 2ms/sample - loss: 0.1015 - binary_accuracy: 0.9231\n",
      "Epoch 145/200\n",
      "13/13 [==============================] - 0s 2ms/sample - loss: 0.1012 - binary_accuracy: 0.9231\n",
      "Epoch 146/200\n",
      "13/13 [==============================] - 0s 2ms/sample - loss: 0.1009 - binary_accuracy: 0.9231\n",
      "Epoch 147/200\n",
      "13/13 [==============================] - 0s 2ms/sample - loss: 0.1006 - binary_accuracy: 0.9231\n",
      "Epoch 148/200\n",
      "13/13 [==============================] - 0s 2ms/sample - loss: 0.1004 - binary_accuracy: 0.9231\n",
      "Epoch 149/200\n",
      "13/13 [==============================] - 0s 2ms/sample - loss: 0.1001 - binary_accuracy: 0.9231\n",
      "Epoch 150/200\n",
      "13/13 [==============================] - 0s 2ms/sample - loss: 0.0998 - binary_accuracy: 0.9231\n",
      "Epoch 151/200\n",
      "13/13 [==============================] - 0s 2ms/sample - loss: 0.0995 - binary_accuracy: 0.9231\n",
      "Epoch 152/200\n",
      "13/13 [==============================] - 0s 2ms/sample - loss: 0.0993 - binary_accuracy: 0.9231\n",
      "Epoch 153/200\n",
      "13/13 [==============================] - 0s 2ms/sample - loss: 0.0990 - binary_accuracy: 0.9231\n",
      "Epoch 154/200\n",
      "13/13 [==============================] - 0s 2ms/sample - loss: 0.0987 - binary_accuracy: 0.9231\n",
      "Epoch 155/200\n",
      "13/13 [==============================] - 0s 2ms/sample - loss: 0.0984 - binary_accuracy: 0.9231\n",
      "Epoch 156/200\n",
      "13/13 [==============================] - 0s 2ms/sample - loss: 0.0982 - binary_accuracy: 0.9231\n",
      "Epoch 157/200\n",
      "13/13 [==============================] - 0s 2ms/sample - loss: 0.0979 - binary_accuracy: 0.9231\n",
      "Epoch 158/200\n",
      "13/13 [==============================] - 0s 2ms/sample - loss: 0.0977 - binary_accuracy: 0.9231\n",
      "Epoch 159/200\n",
      "13/13 [==============================] - 0s 2ms/sample - loss: 0.0974 - binary_accuracy: 0.9231\n",
      "Epoch 160/200\n",
      "13/13 [==============================] - 0s 2ms/sample - loss: 0.0972 - binary_accuracy: 0.9231\n",
      "Epoch 161/200\n",
      "13/13 [==============================] - 0s 2ms/sample - loss: 0.0969 - binary_accuracy: 0.9231\n",
      "Epoch 162/200\n",
      "13/13 [==============================] - 0s 2ms/sample - loss: 0.0967 - binary_accuracy: 0.9231\n",
      "Epoch 163/200\n",
      "13/13 [==============================] - 0s 2ms/sample - loss: 0.0964 - binary_accuracy: 0.9231\n",
      "Epoch 164/200\n",
      "13/13 [==============================] - 0s 2ms/sample - loss: 0.0962 - binary_accuracy: 0.9231\n",
      "Epoch 165/200\n",
      "13/13 [==============================] - 0s 2ms/sample - loss: 0.0959 - binary_accuracy: 0.9231\n",
      "Epoch 166/200\n",
      "13/13 [==============================] - 0s 3ms/sample - loss: 0.0957 - binary_accuracy: 0.9231\n",
      "Epoch 167/200\n",
      "13/13 [==============================] - 0s 2ms/sample - loss: 0.0954 - binary_accuracy: 0.9231\n",
      "Epoch 168/200\n",
      "13/13 [==============================] - 0s 2ms/sample - loss: 0.0952 - binary_accuracy: 0.9231\n",
      "Epoch 169/200\n",
      "13/13 [==============================] - 0s 2ms/sample - loss: 0.0949 - binary_accuracy: 0.9231\n",
      "Epoch 170/200\n",
      "13/13 [==============================] - 0s 2ms/sample - loss: 0.0947 - binary_accuracy: 0.9231\n",
      "Epoch 171/200\n",
      "13/13 [==============================] - 0s 2ms/sample - loss: 0.0945 - binary_accuracy: 0.9231\n",
      "Epoch 172/200\n",
      "13/13 [==============================] - 0s 2ms/sample - loss: 0.0942 - binary_accuracy: 0.9231\n",
      "Epoch 173/200\n",
      "13/13 [==============================] - 0s 2ms/sample - loss: 0.0940 - binary_accuracy: 0.9231\n",
      "Epoch 174/200\n",
      "13/13 [==============================] - 0s 2ms/sample - loss: 0.0938 - binary_accuracy: 0.9231\n",
      "Epoch 175/200\n",
      "13/13 [==============================] - 0s 2ms/sample - loss: 0.0936 - binary_accuracy: 0.9231\n",
      "Epoch 176/200\n",
      "13/13 [==============================] - 0s 2ms/sample - loss: 0.0933 - binary_accuracy: 0.9231\n",
      "Epoch 177/200\n",
      "13/13 [==============================] - 0s 2ms/sample - loss: 0.0931 - binary_accuracy: 0.9231\n",
      "Epoch 178/200\n",
      "13/13 [==============================] - 0s 2ms/sample - loss: 0.0929 - binary_accuracy: 0.9231\n",
      "Epoch 179/200\n",
      "13/13 [==============================] - 0s 2ms/sample - loss: 0.0927 - binary_accuracy: 0.9231\n",
      "Epoch 180/200\n",
      "13/13 [==============================] - 0s 2ms/sample - loss: 0.0924 - binary_accuracy: 0.9231\n",
      "Epoch 181/200\n",
      "13/13 [==============================] - 0s 2ms/sample - loss: 0.0922 - binary_accuracy: 0.9231\n",
      "Epoch 182/200\n",
      "13/13 [==============================] - 0s 2ms/sample - loss: 0.0920 - binary_accuracy: 0.9231\n",
      "Epoch 183/200\n",
      "13/13 [==============================] - 0s 2ms/sample - loss: 0.0918 - binary_accuracy: 0.9231\n",
      "Epoch 184/200\n",
      "13/13 [==============================] - 0s 2ms/sample - loss: 0.0916 - binary_accuracy: 0.9231\n",
      "Epoch 185/200\n",
      "13/13 [==============================] - 0s 2ms/sample - loss: 0.0914 - binary_accuracy: 0.9231\n",
      "Epoch 186/200\n",
      "13/13 [==============================] - 0s 2ms/sample - loss: 0.0912 - binary_accuracy: 0.9231\n",
      "Epoch 187/200\n",
      "13/13 [==============================] - 0s 2ms/sample - loss: 0.0909 - binary_accuracy: 0.9231\n",
      "Epoch 188/200\n",
      "13/13 [==============================] - 0s 2ms/sample - loss: 0.0907 - binary_accuracy: 0.9231\n",
      "Epoch 189/200\n",
      "13/13 [==============================] - 0s 2ms/sample - loss: 0.0905 - binary_accuracy: 0.9231\n",
      "Epoch 190/200\n",
      "13/13 [==============================] - 0s 2ms/sample - loss: 0.0903 - binary_accuracy: 0.9231\n",
      "Epoch 191/200\n",
      "13/13 [==============================] - 0s 2ms/sample - loss: 0.0901 - binary_accuracy: 0.9231\n",
      "Epoch 192/200\n",
      "13/13 [==============================] - 0s 2ms/sample - loss: 0.0899 - binary_accuracy: 0.9231\n",
      "Epoch 193/200\n",
      "13/13 [==============================] - 0s 2ms/sample - loss: 0.0897 - binary_accuracy: 1.0000\n",
      "Epoch 194/200\n",
      "13/13 [==============================] - 0s 2ms/sample - loss: 0.0895 - binary_accuracy: 1.0000\n",
      "Epoch 195/200\n",
      "13/13 [==============================] - 0s 2ms/sample - loss: 0.0893 - binary_accuracy: 1.0000\n",
      "Epoch 196/200\n",
      "13/13 [==============================] - 0s 2ms/sample - loss: 0.0891 - binary_accuracy: 1.0000\n",
      "Epoch 197/200\n",
      "13/13 [==============================] - 0s 2ms/sample - loss: 0.0889 - binary_accuracy: 1.0000\n",
      "Epoch 198/200\n",
      "13/13 [==============================] - 0s 2ms/sample - loss: 0.0887 - binary_accuracy: 1.0000\n",
      "Epoch 199/200\n",
      "13/13 [==============================] - 0s 2ms/sample - loss: 0.0885 - binary_accuracy: 1.0000\n",
      "Epoch 200/200\n",
      "13/13 [==============================] - 0s 2ms/sample - loss: 0.0884 - binary_accuracy: 1.0000\n"
     ]
    },
    {
     "data": {
      "text/plain": [
       "<tensorflow.python.keras.callbacks.History at 0x7f8a07f75860>"
      ]
     },
     "execution_count": 31,
     "metadata": {
      "tags": []
     },
     "output_type": "execute_result"
    }
   ],
   "source": [
    "import numpy as np\n",
    "from tensorflow.keras.models import Sequential\n",
    "from tensorflow.keras.layers import Dense\n",
    "from tensorflow.keras import optimizers\n",
    "\n",
    "# x : 임의의 숫자들의 나열\n",
    "X=np.array([-50, -40, -30, -20, -10, -5, 0, 5, 10, 20, 30, 40, 50])\n",
    "\n",
    "# y : 숫자 10 이상인 경우에는 1, 미만인 경우에는 0을 부여한 레이블 데이터\n",
    "y=np.array([0, 0, 0, 0, 0, 0, 0, 0, 1, 1, 1, 1, 1])\n",
    "\n",
    "model = Sequential()\n",
    "\n",
    "# input_dim=1 : \n",
    "# - 이번 데이터는 앞서 배운 단순 선형 회귀때와 마찬가지로 1개의 실수인 $X$로부터\n",
    "# - 1개의 실수인 $y$를 예측하는 맵핑 관계를 가지므로 각각 1을 기재한다\n",
    "\n",
    "# activation='sigmoid'\n",
    "# - 시그모이드 함수 사용\n",
    "model.add(Dense(1, input_dim=1, activation='sigmoid'))\n",
    "sgd = optimizers.SGD(lr=0.01)\n",
    "model.compile(optimizer=sgd, loss='binary_crossentropy', metrics=['binary_accuracy'])\n",
    "# 옵티마이저 : 경사하강법의 일종인 확률적 경사 하강법(SGD) 사용\n",
    "# 손실 함수(Loss Function) : binary_crossentropy(이진 크로스 엔트로피) 사용\n",
    "\n",
    "model.fit(X, y, batch_size=1, epochs=200, shuffle=False)\n",
    "# 주어진 X와 y 데이터에 대해서 오차를 최소화하는 작업을 200번 시도"
   ]
  },
  {
   "cell_type": "markdown",
   "metadata": {
    "colab_type": "text",
    "id": "QzDDaPeXTtzl"
   },
   "source": [
    "- 총 200회에 걸쳐 전체 데이터에 대한 오차를 최소화하는 $W$와 $b$를 찾아내는 작업을 한다.\n",
    "- 약 193회부터 정확도가 100%가 나오기 시작했다."
   ]
  },
  {
   "cell_type": "markdown",
   "metadata": {
    "colab_type": "text",
    "id": "_L3UQ0m4U3zr"
   },
   "source": [
    "<br>\n",
    "\n",
    "- 실제값과 오차를 최소화하는 $W$와 $b$의 값을 가진 시그모이드 함수 그래프를 그려보자."
   ]
  },
  {
   "cell_type": "code",
   "execution_count": 32,
   "metadata": {
    "colab": {
     "base_uri": "https://localhost:8080/",
     "height": 301
    },
    "colab_type": "code",
    "id": "sqP--d0QVAkq",
    "outputId": "319fc8e3-939d-4e4f-89ba-613bc078d221"
   },
   "outputs": [
    {
     "data": {
      "text/plain": [
       "[<matplotlib.lines.Line2D at 0x7f8a94c9f9b0>,\n",
       " <matplotlib.lines.Line2D at 0x7f8a07dd7dd8>]"
      ]
     },
     "execution_count": 32,
     "metadata": {
      "tags": []
     },
     "output_type": "execute_result"
    },
    {
     "data": {
      "image/png": "[encoded data removed]",
      "text/plain": [
       "<Figure size 432x288 with 1 Axes>"
      ]
     },
     "metadata": {
      "tags": []
     },
     "output_type": "display_data"
    }
   ],
   "source": [
    "%matplotlib inline\n",
    "\n",
    "import matplotlib.pyplot as plt\n",
    "\n",
    "plt.plot(X, model.predict(X), 'b', X, y, 'k.')"
   ]
  },
  {
   "cell_type": "markdown",
   "metadata": {
    "colab_type": "text",
    "id": "h1MP1ZCBVcJB"
   },
   "source": [
    "- $X$ 값이 5와 10 사이의 어떤 값일 때 $y$ 값이 0.5가 넘기 시작하는 것처럼 보인다.\n",
    "- 정확도가 100%가 나왔었기 때문에 적어도 $X$값이 5일 때는 $y$값이 0.5보다 작고, $X$값이 10일 때는 $y$값이 0.5를 넘을 것이다."
   ]
  },
  {
   "cell_type": "markdown",
   "metadata": {
    "colab_type": "text",
    "id": "ePozQxYdVzAB"
   },
   "source": [
    "<br>\n",
    "\n",
    "- 이제 $X$값이 5보다 작은 값일 때와 $X$값이 10보다 클 때에 대해서 $y$값을 출력해보자."
   ]
  },
  {
   "cell_type": "code",
   "execution_count": 34,
   "metadata": {
    "colab": {
     "base_uri": "https://localhost:8080/",
     "height": 107
    },
    "colab_type": "code",
    "id": "LMc5TgH9V4gh",
    "outputId": "ac4add20-5f01-4e31-8b7f-5d26b1fa00fa"
   },
   "outputs": [
    {
     "name": "stdout",
     "output_type": "stream",
     "text": [
      "[[0.21110295]\n",
      " [0.2694972 ]\n",
      " [0.3371412 ]\n",
      " [0.41218367]\n",
      " [0.4515554 ]]\n"
     ]
    }
   ],
   "source": [
    "print(model.predict([1, 2, 3, 4, 4.5]))"
   ]
  },
  {
   "cell_type": "code",
   "execution_count": 35,
   "metadata": {
    "colab": {
     "base_uri": "https://localhost:8080/",
     "height": 107
    },
    "colab_type": "code",
    "id": "e4ut1VA7WByI",
    "outputId": "1d0242bb-cb8d-434d-f8ee-019240661fa3"
   },
   "outputs": [
    {
     "name": "stdout",
     "output_type": "stream",
     "text": [
      "[[0.8690811 ]\n",
      " [0.99396425]\n",
      " [0.9997553 ]\n",
      " [0.9999901 ]\n",
      " [1.        ]]\n"
     ]
    }
   ],
   "source": [
    "print(model.predict([11, 21, 31, 41, 500]))"
   ]
  },
  {
   "cell_type": "markdown",
   "metadata": {
    "colab_type": "text",
    "id": "SijtWtOAV6Co"
   },
   "source": [
    "- $X$값이 5보다 작을 때는 0.5보다 작은 값을, $X$값이 10보다 클 때는 0.5보다 큰 값을 출력하는 것을 볼 수 있다."
   ]
  }
 ],
 "metadata": {
  "colab": {
   "collapsed_sections": [],
   "name": "Ch07_v04_Logistic-Regression-Binary-Classification.ipynb",
   "provenance": []
  },
  "kernelspec": {
   "display_name": "Python 3",
   "language": "python",
   "name": "python3"
  },
  "language_info": {
   "codemirror_mode": {
    "name": "ipython",
    "version": 3
   },
   "file_extension": ".py",
   "mimetype": "text/x-python",
   "name": "python",
   "nbconvert_exporter": "python",
   "pygments_lexer": "ipython3",
   "version": "3.6.9"
  }
 },
 "nbformat": 4,
 "nbformat_minor": 4
}
