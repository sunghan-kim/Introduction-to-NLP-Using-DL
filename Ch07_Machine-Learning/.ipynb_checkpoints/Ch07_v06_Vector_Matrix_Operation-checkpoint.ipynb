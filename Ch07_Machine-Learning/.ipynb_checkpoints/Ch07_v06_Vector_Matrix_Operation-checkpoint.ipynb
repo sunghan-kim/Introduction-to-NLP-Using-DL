{
 "cells": [
  {
   "cell_type": "markdown",
   "metadata": {
    "colab_type": "text",
    "id": "WauPSP8VVvkT"
   },
   "source": [
    "# Ch07. 머신 러닝(Machine Learning) 개요"
   ]
  },
  {
   "cell_type": "markdown",
   "metadata": {
    "colab_type": "text",
    "id": "AJ9R4rdUV7_f"
   },
   "source": [
    "# v06. 벡터와 행렬 연산"
   ]
  },
  {
   "cell_type": "markdown",
   "metadata": {
    "colab_type": "text",
    "id": "DYiOEVkkWN5-"
   },
   "source": [
    "- Numpy나 텐서플로우의 로우-레벨(low-level)의 머신 러닝 개발을 하게되면 각 변수들의 연산을 벡터와 행렬 연산으로 이해할 수 있어야 한다.\n",
    "- 즉, 사용자가 데이터와 변수의 개수로부터 행렬의 크기, 더 나아 텐서의 크기를 산정할 수 있어야 한다.\n",
    "- 이번 챕터에서는 기본적인 벡터와 행렬 연산에 대해 이해해본다."
   ]
  },
  {
   "cell_type": "markdown",
   "metadata": {
    "colab_type": "text",
    "id": "xiexV37JW7rs"
   },
   "source": [
    "<br>\n",
    "\n",
    "## 6.1 벡터와 행렬과 텐서"
   ]
  },
  {
   "cell_type": "markdown",
   "metadata": {
    "colab_type": "text",
    "id": "7w6eHeSrW-SH"
   },
   "source": [
    "### 6.1.1 벡터\n",
    "\n",
    "- 크기와 방향을 가진 양\n",
    "- 숫자가 나열된 형태\n",
    "- 파이썬에서는 1차원 배열 또는 리스트로 표현한다."
   ]
  },
  {
   "cell_type": "markdown",
   "metadata": {
    "colab_type": "text",
    "id": "MtDU77yQXG8z"
   },
   "source": [
    "<br>\n",
    "\n",
    "### 6.1.2 행렬\n",
    "\n",
    "- 행과 열을 가지는 2차원 형상을 가진 구조\n",
    "- 파이썬에서는 2차원 배열로 표현한다.\n",
    "- 가로줄 : 행(row)\n",
    "- 세로줄 : 열(column)"
   ]
  },
  {
   "cell_type": "markdown",
   "metadata": {
    "colab_type": "text",
    "id": "Gyrm1JVTekKX"
   },
   "source": [
    "<br>\n",
    "\n",
    "### 6.1.3 텐서\n",
    "\n",
    "- 3차원부터는 주로 텐서라고 부른다.\n",
    "- 텐서는 파이썬에서는 3차원 이상의 배열로 표현한다."
   ]
  },
  {
   "cell_type": "markdown",
   "metadata": {
    "colab_type": "text",
    "id": "wleem5OCezX3"
   },
   "source": [
    "<br>\n",
    "\n",
    "## 6.2 텐서 (Tensor)"
   ]
  },
  {
   "cell_type": "markdown",
   "metadata": {
    "colab_type": "text",
    "id": "VL07v5Q7e4t3"
   },
   "source": [
    "- 인공 신경망은 복잡한 모델 내의 연산을 주로 행렬 연산을 통해 해결한다.\n",
    "- 그런데 여기서 말하는 행렬 연산이란 단순히 2차원 배열을 통한 행렬 연산만을 의미하는 것이 아니다.\n",
    "- 머신 러닝의 입력, 출력이 복잡해지면 **3차원 텐서**에 대한 이해가 필수로 요구된다.\n",
    "- 예를 들어, 인공 신경망 모델 중 하나인 RNN에서는 3차원 텐서에 대한 개념을 모르면 RNN을 이해하기가 쉽지 않다."
   ]
  },
  {
   "cell_type": "markdown",
   "metadata": {
    "colab_type": "text",
    "id": "bXNBUj16kBs4"
   },
   "source": [
    "- 텐서를 설명하기 위한 아래의 모든 코드는 Numpy를 임포트했다고 가정한다."
   ]
  },
  {
   "cell_type": "code",
   "execution_count": null,
   "metadata": {
    "colab": {},
    "colab_type": "code",
    "id": "ao_CqgxDkFqV"
   },
   "outputs": [],
   "source": [
    "import numpy as np"
   ]
  },
  {
   "cell_type": "markdown",
   "metadata": {
    "colab_type": "text",
    "id": "USdJ_63akHp1"
   },
   "source": [
    "<br>\n",
    "\n",
    "### 6.2.1 0차원 텐서\n",
    "\n",
    "- 스칼라 : 하나의 실수값으로 이루어진 데이터\n",
    "- 스칼라값을 0차원 텐서라고 한다.\n",
    "- 차원을 영어로 Dimensionality라고 하므로 0D 텐서라고도 한다."
   ]
  },
  {
   "cell_type": "code",
   "execution_count": 2,
   "metadata": {
    "colab": {
     "base_uri": "https://localhost:8080/",
     "height": 53
    },
    "colab_type": "code",
    "id": "2Y0XhYzPkyZV",
    "outputId": "73432290-0a19-4af1-d6ad-1e1170660ab5"
   },
   "outputs": [
    {
     "name": "stdout",
     "output_type": "stream",
     "text": [
      "0\n",
      "()\n"
     ]
    }
   ],
   "source": [
    "d = np.array(5)\n",
    "print(d.ndim) # 차원수 출력 : 0\n",
    "print(d.shape) # 텐서의 크기 출력 : () -> 크기가 없음"
   ]
  },
  {
   "cell_type": "markdown",
   "metadata": {
    "colab_type": "text",
    "id": "uOb7scoSk3nY"
   },
   "source": [
    "- Numpy의 `ndim`은 **축의 개수**를 출력한다.\n",
    "- 이 축의 개수는 텐서에서의 차원수와 동일하다."
   ]
  },
  {
   "cell_type": "markdown",
   "metadata": {
    "colab_type": "text",
    "id": "x5jG9cmHlKnb"
   },
   "source": [
    "<br>\n",
    "\n",
    "### 6.2.2 1차원 텐서\n",
    "\n",
    "- 숫자를 특정 순서대로 배열한 것을 **벡터**라고 한다.\n",
    "- 또한 벡터를 1차원 텐서라고 한다.\n",
    "- 주의할 점\n",
    "  - 벡터의 차원과 텐서의 차원은 다른 개념이다."
   ]
  },
  {
   "cell_type": "markdown",
   "metadata": {
    "colab_type": "text",
    "id": "tHAk1oj1ldoA"
   },
   "source": [
    "- 아래의 예제는 **4차원 벡터**이지만, **1차원 텐서**이다. (1D 텐서라고도 한다.)"
   ]
  },
  {
   "cell_type": "code",
   "execution_count": 3,
   "metadata": {
    "colab": {
     "base_uri": "https://localhost:8080/",
     "height": 53
    },
    "colab_type": "code",
    "id": "_ytShn-_lkII",
    "outputId": "c83a0c00-d800-468a-9752-397c9d11f80d"
   },
   "outputs": [
    {
     "name": "stdout",
     "output_type": "stream",
     "text": [
      "1\n",
      "(4,)\n"
     ]
    }
   ],
   "source": [
    "d = np.array([1, 2, 3, 4])\n",
    "print(d.ndim)\n",
    "print(d.shape)"
   ]
  },
  {
   "cell_type": "markdown",
   "metadata": {
    "colab_type": "text",
    "id": "beFHjWoclpYz"
   },
   "source": [
    "**벡터의 차원과 텐서의 차원의 차이**\n",
    "\n",
    "- 벡터에서의 차원(Dimensionality) : 하나의 축에 차원들이 존재하는 것\n",
    "- 텐서에서의 차원(Dimensionality) : 축의 개수"
   ]
  },
  {
   "cell_type": "markdown",
   "metadata": {
    "colab_type": "text",
    "id": "fcCdpEMYmSSk"
   },
   "source": [
    "<br>\n",
    "\n",
    "### 6.2.3 2차원 텐서\n",
    "\n",
    "- 행과 열이 존재하는 벡터의 배열\n",
    "- 즉, 행렬(matrix)을 2차원 텐서라고 한다.\n",
    "- 2D 텐서라고도 한다."
   ]
  },
  {
   "cell_type": "code",
   "execution_count": 4,
   "metadata": {
    "colab": {
     "base_uri": "https://localhost:8080/",
     "height": 53
    },
    "colab_type": "code",
    "id": "WiTn1HJfmdRA",
    "outputId": "0beba4ed-71ec-47b3-8b50-55e295f0ec96"
   },
   "outputs": [
    {
     "name": "stdout",
     "output_type": "stream",
     "text": [
      "2\n",
      "(3, 4)\n"
     ]
    }
   ],
   "source": [
    "d = np.array([\n",
    "              [1, 2, 3, 4],\n",
    "              [5, 6, 7, 8],\n",
    "              [9, 10, 11, 12]\n",
    "])\n",
    "\n",
    "print(d.ndim)\n",
    "print(d.shape)"
   ]
  },
  {
   "cell_type": "markdown",
   "metadata": {
    "colab_type": "text",
    "id": "4WW_03vlmpJp"
   },
   "source": [
    "- 텐서의 크기를 보고 머리 속에 떠올릴 수 있으면 모델 설계 시 유용하다.\n",
    "- 이게 어렵다면, 큰 단위부터 확장해나가며 생각하면 된다."
   ]
  },
  {
   "cell_type": "markdown",
   "metadata": {
    "colab_type": "text",
    "id": "0AiMI2gxm5yf"
   },
   "source": [
    "**`(3, 4)`**\n",
    "\n",
    "- 위의 경우 3개의 커다란 데이터가 있는데, 그 각각의 커다란 데이터는 작은 데이터 4개로 이루어졌다고 생각할 수 있다."
   ]
  },
  {
   "cell_type": "markdown",
   "metadata": {
    "colab_type": "text",
    "id": "PNk4zHq1nDFQ"
   },
   "source": [
    "**수학적 행렬 표현**\n",
    "\n",
    "- 1차원 텐서를 벡터, 2차원 텐서를 행렬로 비유했다.\n",
    "- 수학적으로 행렬의 열을 열벡터, 열벡터를 열행렬로 부르는 것과 혼동해서는 안된다.\n",
    "- 여기서 말하는 1차원 텐서와 2차원 텐서는 차원 자체가 달라야 한다."
   ]
  },
  {
   "cell_type": "markdown",
   "metadata": {
    "colab_type": "text",
    "id": "oj4p2CjpnVfv"
   },
   "source": [
    "<br>\n",
    "\n",
    "### 6.2.4 3차원 텐서\n",
    "\n",
    "- 행렬 또는 2차원 텐서를 단위로 한 번 더 배열하면 3차원 텐서라고 부른다.\n",
    "- 3D 텐서라고도 한다."
   ]
  },
  {
   "cell_type": "markdown",
   "metadata": {
    "colab_type": "text",
    "id": "UVWHAMtHnhOG"
   },
   "source": [
    "- 위에서 언급한 0차원 ~ 2차원 텐서는 각각 스칼라, 벡터, 행렬이라고 해도 무방하다.\n",
    "- 그러므로 **3차원 이상의 텐서부터 본격적으로 텐서라고 부른다.**\n",
    "- 데이터 사이언스 분야 한정으로 주로 3차원 이상의 배열을 텐서라고 부른다.  \n",
    "(엄밀한 수학적 정의로는 아니다.)\n",
    "- 그렇다면 3D 텐서는 적어도 여기서는 **3차원 배열**로 이해하면 된다."
   ]
  },
  {
   "cell_type": "markdown",
   "metadata": {
    "colab_type": "text",
    "id": "wobTb7Ern1ne"
   },
   "source": [
    "- 이 3차원 텐서의 구조를 이해하지 않으면, 복잡한 인공 신경망의 입력값 및 출력값을 이해하는 것이 쉽지 않다."
   ]
  },
  {
   "cell_type": "code",
   "execution_count": 5,
   "metadata": {
    "colab": {
     "base_uri": "https://localhost:8080/",
     "height": 53
    },
    "colab_type": "code",
    "id": "hvHWB68Mn9kW",
    "outputId": "5bd97249-fb55-429c-945e-4335acadbf64"
   },
   "outputs": [
    {
     "name": "stdout",
     "output_type": "stream",
     "text": [
      "3\n",
      "(2, 3, 5)\n"
     ]
    }
   ],
   "source": [
    "d = np.array([\n",
    "              [\n",
    "               [1,   2,  3,  4,  5],\n",
    "               [6,   7,  8,  9, 10],\n",
    "               [11, 12, 13, 14, 15]\n",
    "              ],\n",
    "              [\n",
    "               [16, 17, 18, 19, 20],\n",
    "               [21, 22, 23, 24, 25],\n",
    "               [26, 27, 28, 29, 30]\n",
    "              ]\n",
    "])\n",
    "\n",
    "print(d.ndim)\n",
    "print(d.shape)"
   ]
  },
  {
   "cell_type": "markdown",
   "metadata": {
    "colab_type": "text",
    "id": "x3_f54JnoqtY"
   },
   "source": [
    "- 2개의 큰 데이터가 있다.\n",
    "- 그 각각은 3개의 더 작은 데이터로 구성됨\n",
    "- 그 3개의 데이터는 또한 더 작은 5개의 데이터로 구성되어 있다."
   ]
  },
  {
   "cell_type": "markdown",
   "metadata": {
    "colab_type": "text",
    "id": "x50cmZtPrqRz"
   },
   "source": [
    "<br>\n",
    "\n",
    "**자연어 처리에서의 3D 텐서의 사용**\n",
    "\n",
    "- 자연어 처리에서 특히 자주 보게 되는 것이 이 3D 텐서이다.\n",
    "- 3D 텐서는 시퀀스 데이터(sequence data)를 표현할 때 자주 사용되기 때문이다.\n",
    "  - 시퀀스 데이터 : 단어의 시퀀스를 의미\n",
    "  - 시퀀스 : 문장이나 문서, 뉴스 기사 등의 텍스트\n",
    "  - 이 경우 3D 텐서는 `(samples, timesteps, word_dim)`이 된다.\n",
    "- 또는 일괄로 처리하기 위해 데이터를 묶는 단위인 **배치**의 개념을 적용\n",
    "  - 이 경우 3D 텐서는 `(batch_size, timesteps, word_dim)`이 된다."
   ]
  },
  {
   "cell_type": "markdown",
   "metadata": {
    "colab_type": "text",
    "id": "k6Wsh75NsPFA"
   },
   "source": [
    "- `samples` / `batch_size` : 데이터의 개수\n",
    "- `timesteps` : 시퀀스의 길이\n",
    "- `word_dim` : 단어를 표현하는 벡터의 차원을 의미"
   ]
  },
  {
   "cell_type": "markdown",
   "metadata": {
    "colab_type": "text",
    "id": "tgDxJF0Asafn"
   },
   "source": [
    "<br>\n",
    "\n",
    "**자연어 처리에서의 3D 텐서의 개념 사용 예시**\n",
    "\n",
    "- 다음과 같은 훈련 데이터가 있다고 하자.\n",
    "\n",
    "> 문서1 : I like NLP  \n",
    "문서2 : I like DL  \n",
    "문서3 : DL is AI\n",
    "\n",
    "- 이를 인공 신경망의 모델의 입력으로 사용하기 위해서는 각 단어를 벡터화해야 한다.\n",
    "- 단어를 벡터화하는 방법\n",
    "  - 원-핫 인코딩\n",
    "  - 워드 임베딩\n",
    "- 원-핫 인코딩으로 모든 단어를 벡터화 한다.\n",
    "\n",
    "| 단어 | One-hot vector |\n",
    "| :--- | :------------- |\n",
    "| I    | `[1 0 0 0 0 0]`  |\n",
    "| like | `[0 1 0 0 0 0]`  |\n",
    "| NLP  | `[0 0 1 0 0 0]`  |\n",
    "| DL   | `[0 0 0 1 0 0]`  |\n",
    "| is   | `[0 0 0 0 1 0]`  |\n",
    "| AI   | `[0 0 0 0 0 1]`  |\n",
    "\n",
    "- 그럼 기존에 있던 훈련 데이터를 모두 원-핫 벡터로 바꿔서 인공 신경망의 입력으로 한 꺼번에 사용한다고 하면 다음과 같다.\n",
    "\n",
    "```\n",
    "[\n",
    "    [\n",
    "        [1, 0, 0, 0, 0, 0],\n",
    "        [0, 1, 0, 0, 0, 0],\n",
    "        [0, 0, 1, 0, 0, 0],\n",
    "    ],\n",
    "    [\n",
    "        [1, 0, 0, 0, 0, 0],\n",
    "        [0, 1, 0, 0, 0, 0],\n",
    "        [0, 0, 0, 1, 0, 0],\n",
    "    ],\n",
    "    [\n",
    "        [0, 0, 0, 1, 0, 0],\n",
    "        [0, 0, 0, 0, 1, 0],\n",
    "        [0, 0, 0, 0, 0, 1],\n",
    "    ]\n",
    "]\n",
    "```\n",
    "\n",
    "- 이는 `(3, 3, 6)`의 크기를 가지는 3D 텐서이다."
   ]
  },
  {
   "cell_type": "markdown",
   "metadata": {
    "colab_type": "text",
    "id": "7LZ_-xCitoRW"
   },
   "source": [
    "<br>\n",
    "\n",
    "### 6.2.5 그 이상의 텐서\n",
    "\n",
    "- 3차원 텐서를 배열로 합치면 4차원 텐서가 된다.\n",
    "- 4차원 텐서를 배열로 합치면 5차원 텐서가 된다.\n",
    "- 이런 식으로 텐서는 배열로서 계속해서 확장될 수 있다."
   ]
  },
  {
   "cell_type": "markdown",
   "metadata": {
    "colab_type": "text",
    "id": "ON7LJCBkt1yT"
   },
   "source": [
    "- 다음은 각 텐서를 도형으로 시각화한 모습을 보여준다.\n",
    "![](https://wikidocs.net/images/page/37001/tensor.png)"
   ]
  },
  {
   "cell_type": "markdown",
   "metadata": {
    "colab_type": "text",
    "id": "5Ipd2JqJt7-T"
   },
   "source": [
    "<br>\n",
    "\n",
    "### 6.2.6 케라스에서의 텐서\n",
    "\n",
    "- 앞서 Numpy로 각 텐서의 `ndim`(차원)과 `shape`(크기)를 출력했다.\n",
    "- ex) 위의 예제에서는 3차원 텐서는 3차원(3-dim)이고, 크기는 `(2, 3, 5)` 였다.\n",
    "- 케라스에서는 입력의 크기(`shape`)를 인자로 줄 때 `input_shape`라는 인자를 사용한다."
   ]
  },
  {
   "cell_type": "markdown",
   "metadata": {
    "colab_type": "text",
    "id": "EzxpEjaiuWda"
   },
   "source": [
    "<br>\n",
    "\n",
    "#### 6.2.6.1 `input_shape`\n",
    "\n",
    "- `input_shape`는 배치 크기를 제외하고 차원을 지정한다.\n",
    "- ex) `input_shape(6,5)` 인자값 사용 및 배치 크기 `32` 지정\n",
    "  - 이 텐서의 크기는 `(32, 6, 5)`를 의미한다."
   ]
  },
  {
   "cell_type": "markdown",
   "metadata": {
    "colab_type": "text",
    "id": "UmRThI_NvfBK"
   },
   "source": [
    "<br>\n",
    "\n",
    "#### 6.2.6.2 `batch_input_shape`\n",
    "\n",
    "- 만약 배치 크기까지 지정해주고 싶다면 다음과 같이 사용할 수 있다.\n",
    "- `batch_input_shape=(8, 2, 10)`\n",
    "  - 이 텐서의 크기는 `(8, 2, 10)`을 의미한다."
   ]
  },
  {
   "cell_type": "markdown",
   "metadata": {
    "colab_type": "text",
    "id": "fMn5M2nJvuYR"
   },
   "source": [
    "<br>\n",
    "\n",
    "#### 6.2.6.3 그 외의 인자들\n",
    "\n",
    "- `input_dim` : 입력의 속성 수를 의미\n",
    "- `input_length` : 시퀀스 데이터의 길이를 의미 "
   ]
  },
  {
   "cell_type": "markdown",
   "metadata": {
    "colab_type": "text",
    "id": "XXjbImRev3pn"
   },
   "source": [
    "- 사실 `input_shape`의 두 개의 인자는 `(input_length, input_dim)` 이라고 볼 수 있다."
   ]
  },
  {
   "cell_type": "markdown",
   "metadata": {
    "colab_type": "text",
    "id": "QrbEzfgcwEKS"
   },
   "source": [
    "<br>\n",
    "\n",
    "## 6.3 벡터와 행렬의 연산"
   ]
  },
  {
   "cell_type": "code",
   "execution_count": null,
   "metadata": {
    "colab": {},
    "colab_type": "code",
    "id": "4TNV-13jwHc4"
   },
   "outputs": [],
   "source": [
    "import numpy as np"
   ]
  },
  {
   "cell_type": "markdown",
   "metadata": {
    "colab_type": "text",
    "id": "NrdrdR5v0dks"
   },
   "source": [
    "<br>\n",
    "\n",
    "### 6.3.1 벡터와 행렬의 덧셈과 뺄셈\n",
    "\n",
    "#### 6.3.1.1 요소별 연산\n",
    "\n",
    "- 같은 크기의 두 개의 벡터나 행렬은 덧셈과 뺄셈을 할 수 있다.\n",
    "- 이 경우 같은 위치의 원소끼리 연산하면 된다.\n",
    "- 이러한 연산을 **요소별(element-wise) 연산**이라고 한다."
   ]
  },
  {
   "cell_type": "markdown",
   "metadata": {
    "colab_type": "text",
    "id": "RVlAg5Vx0rvh"
   },
   "source": [
    "<br>\n",
    "\n",
    "#### 6.3.1.2 벡터의 덧셈과 뺄셈\n",
    "\n",
    "- 다음과 같이 a와 b라는 두 개의 벡터가 있다고 하자\n",
    "\n",
    "$\n",
    "\\qquad\n",
    "a =  \n",
    "\\begin{bmatrix}\n",
    "8 \\\\\n",
    "4 \\\\\n",
    "5\n",
    "\\end{bmatrix}\n",
    "\\qquad\n",
    "b =  \n",
    "\\begin{bmatrix}\n",
    "1 \\\\\n",
    "2 \\\\\n",
    "3\n",
    "\\end{bmatrix}\n",
    "$"
   ]
  },
  {
   "cell_type": "markdown",
   "metadata": {
    "colab_type": "text",
    "id": "VuvwNKNB1ROm"
   },
   "source": [
    "- 이 때 두 벡터 a와 b의 덧셈과 뺄셈은 다음과 같다.\n",
    "\n",
    "$\n",
    "\\qquad\n",
    "a + b =  \n",
    "\\begin{bmatrix}\n",
    "8 \\\\\n",
    "4 \\\\\n",
    "5 \\\\\n",
    "\\end{bmatrix}\n",
    "+\n",
    "\\begin{bmatrix}\n",
    "1 \\\\\n",
    "2 \\\\\n",
    "3 \\\\\n",
    "\\end{bmatrix}\n",
    "=\n",
    "\\begin{bmatrix}\n",
    "9 \\\\\n",
    "6 \\\\\n",
    "8 \\\\\n",
    "\\end{bmatrix}\n",
    "$\n",
    "\n",
    "$\n",
    "\\qquad\n",
    "a - b =  \n",
    "\\begin{bmatrix}\n",
    "8 \\\\\n",
    "4 \\\\\n",
    "5 \\\\\n",
    "\\end{bmatrix}\n",
    "-\n",
    "\\begin{bmatrix}\n",
    "1 \\\\\n",
    "2 \\\\\n",
    "3 \\\\\n",
    "\\end{bmatrix}\n",
    "=\n",
    "\\begin{bmatrix}\n",
    "7 \\\\\n",
    "2 \\\\\n",
    "2 \\\\\n",
    "\\end{bmatrix}\n",
    "$"
   ]
  },
  {
   "cell_type": "markdown",
   "metadata": {
    "colab_type": "text",
    "id": "JjCuv2Z81m5U"
   },
   "source": [
    "- Numpy를 이용하여 이를 구현할 수 있다."
   ]
  },
  {
   "cell_type": "code",
   "execution_count": 7,
   "metadata": {
    "colab": {
     "base_uri": "https://localhost:8080/",
     "height": 53
    },
    "colab_type": "code",
    "id": "V5tJF5tU1pfU",
    "outputId": "1342360d-29d2-434c-c736-fc58a8ed474b"
   },
   "outputs": [
    {
     "name": "stdout",
     "output_type": "stream",
     "text": [
      "[9 6 8]\n",
      "[7 2 2]\n"
     ]
    }
   ],
   "source": [
    "a = np.array([8, 4, 5])\n",
    "b = np.array([1, 2, 3])\n",
    "\n",
    "print(a+b)\n",
    "print(a-b)"
   ]
  },
  {
   "cell_type": "markdown",
   "metadata": {
    "colab_type": "text",
    "id": "UmMmNeRZ1uYV"
   },
   "source": [
    "<br>\n",
    "\n",
    "#### 6.3.1.3 행렬의 덧셈과 뺄셈\n",
    "\n",
    "- 다음과 같이 a와 b라는 두 개의 행렬이 있다고 하였을 때, 두 행렬 a와 b의 덧셈과 뺄셈은 아래와 같다.\n",
    "\n",
    "$\n",
    "\\qquad\n",
    "a =  \n",
    "\\begin{bmatrix}\n",
    "10 & 20 & 30 & 40 \\\\\n",
    "50 & 60 & 70 & 80 \\\\\n",
    "\\end{bmatrix}\n",
    "\\qquad\n",
    "b =  \n",
    "\\begin{bmatrix}\n",
    "5 & 6 & 7 & 8 \\\\\n",
    "1 & 2 & 3 & 4 \\\\\n",
    "\\end{bmatrix}\n",
    "$"
   ]
  },
  {
   "cell_type": "markdown",
   "metadata": {
    "colab_type": "text",
    "id": "dDhPBVO32gs_"
   },
   "source": [
    "\n",
    "$\n",
    "\\qquad\n",
    "a + b =  \n",
    "\\begin{bmatrix}\n",
    "10 & 20 & 30 & 40 \\\\\n",
    "50 & 60 & 70 & 80 \\\\\n",
    "\\end{bmatrix}\n",
    "+\n",
    "\\begin{bmatrix}\n",
    "5 & 6 & 7 & 8 \\\\\n",
    "1 & 2 & 3 & 4 \\\\\n",
    "\\end{bmatrix}\n",
    "=\n",
    "\\begin{bmatrix}\n",
    "15 & 26 & 37 & 48 \\\\\n",
    "51 & 62 & 73 & 84 \\\\\n",
    "\\end{bmatrix}\n",
    "$"
   ]
  },
  {
   "cell_type": "markdown",
   "metadata": {
    "colab_type": "text",
    "id": "9YYjvN3Y2jjN"
   },
   "source": [
    "$\n",
    "\\qquad\n",
    "a - b =  \n",
    "\\begin{bmatrix}\n",
    "10 & 20 & 30 & 40 \\\\\n",
    "50 & 60 & 70 & 80 \\\\\n",
    "\\end{bmatrix}\n",
    "-\n",
    "\\begin{bmatrix}\n",
    "5 & 6 & 7 & 8 \\\\\n",
    "1 & 2 & 3 & 4 \\\\\n",
    "\\end{bmatrix}\n",
    "=\n",
    "\\begin{bmatrix}\n",
    "5 & 14 & 23 & 32 \\\\\n",
    "49 & 58 & 67 & 76 \\\\\n",
    "\\end{bmatrix}\n",
    "$"
   ]
  },
  {
   "cell_type": "markdown",
   "metadata": {
    "colab_type": "text",
    "id": "aZnkzhSD2krd"
   },
   "source": [
    "- Numpy를 이용하여 이를 구현할 수 있다."
   ]
  },
  {
   "cell_type": "code",
   "execution_count": 8,
   "metadata": {
    "colab": {
     "base_uri": "https://localhost:8080/",
     "height": 89
    },
    "colab_type": "code",
    "id": "jhqM6OrH2ouF",
    "outputId": "ebe51d31-f8be-4643-be83-574e40734292"
   },
   "outputs": [
    {
     "name": "stdout",
     "output_type": "stream",
     "text": [
      "[[15 26 37 48]\n",
      " [51 62 73 84]]\n",
      "[[ 5 14 23 32]\n",
      " [49 58 67 76]]\n"
     ]
    }
   ],
   "source": [
    "import numpy as np\n",
    "a = np.array([[10, 20, 30, 40], [50, 60, 70, 80]])\n",
    "b = np.array([[5, 6, 7, 8],[1, 2, 3, 4]])\n",
    "print(a+b)\n",
    "print(a-b)"
   ]
  },
  {
   "cell_type": "markdown",
   "metadata": {
    "colab_type": "text",
    "id": "UTjFdP3V2p-2"
   },
   "source": [
    "<br>\n",
    "\n",
    "### 6.3.2 벡터의 내적과 행렬의 곱셈"
   ]
  },
  {
   "cell_type": "markdown",
   "metadata": {
    "colab_type": "text",
    "id": "vBBXixcZ2wqE"
   },
   "source": [
    "#### 6.3.2.1 벡터의 점곱(dot product) 또는 내적(inner product)\n",
    "\n",
    "- 벡터의 내적은 연산을 점(dot)으로 표현하면 $a \\cdot b$와 같이 표현하기도 한다."
   ]
  },
  {
   "cell_type": "markdown",
   "metadata": {
    "colab_type": "text",
    "id": "bvUJDTKz3MFL"
   },
   "source": [
    "- 내적이 성립하기 위한 조건\n",
    "  - 두 벡터의 차원이 같아야 한다.\n",
    "  - 두 벡터 중 앞의 벡터가 행벡터(가로 방향 벡터)이고 뒤의 벡터가 열벡터(세로 방향 벡터)여야 한다."
   ]
  },
  {
   "cell_type": "markdown",
   "metadata": {
    "colab_type": "text",
    "id": "sUVQTifC3W0q"
   },
   "source": [
    "- 아래는 두 벡터의 차원이 같고 곱셈의 대상이 각각 행벡터이고 열벡터일 때 내적이 이루어지는 모습을 보여준다.\n",
    "- 벡터의 내적의 결과는 스칼라가 된다는 특징이 있다.\n",
    "\n",
    "$\n",
    "\\qquad\n",
    "a \\cdot b = \n",
    "\\begin{bmatrix}\n",
    "1 & 2 & 3\n",
    "\\end{bmatrix}\n",
    "\\begin{bmatrix}\n",
    "4 \\\\\n",
    "5 \\\\\n",
    "6\n",
    "\\end{bmatrix}\n",
    "=\n",
    "1 \\times 4 + 2 \\times 5 + 3 \\times 6 = 32 (스칼라)\n",
    "$"
   ]
  },
  {
   "cell_type": "markdown",
   "metadata": {
    "colab_type": "text",
    "id": "LGqvBqGY3045"
   },
   "source": [
    "- Numpy를 이용하여 이를 구현할 수 있다."
   ]
  },
  {
   "cell_type": "code",
   "execution_count": 9,
   "metadata": {
    "colab": {
     "base_uri": "https://localhost:8080/",
     "height": 35
    },
    "colab_type": "code",
    "id": "XM8soMCZ33Kp",
    "outputId": "769b8aea-7dc9-4c7c-930c-16506f9a1c15"
   },
   "outputs": [
    {
     "name": "stdout",
     "output_type": "stream",
     "text": [
      "32\n"
     ]
    }
   ],
   "source": [
    "a = np.array([1, 2, 3])\n",
    "b = np.array([4, 5, 6])\n",
    "print(np.dot(a,b))"
   ]
  },
  {
   "cell_type": "markdown",
   "metadata": {
    "colab_type": "text",
    "id": "Fcp8V-e334S5"
   },
   "source": [
    "<br>\n",
    "\n",
    "#### 6.3.2.2 행렬의 곱셈\n",
    "\n",
    "- 행렬의 곱셈을 이해하기 위해서는 벡터의 내적을 이해해야 한다.\n",
    "- 행렬의 곱셈은 왼쪽 행렬의 행벡터(가로 방향 벡터)와 오른쪽 행렬의 열벡터(세로 방향 벡터)의 내적(대응하는 원소들의 곱의 합)이 결과 행렬의 원소가 되는 것으로 이루어진다."
   ]
  },
  {
   "cell_type": "markdown",
   "metadata": {
    "colab_type": "text",
    "id": "K3xIEGab4Esg"
   },
   "source": [
    "- 다음과 같이 a와 b라는 두 개의 행렬이 있다고 하였을 때, 두 행렬 a와 b의 곱셈은 아래와 같다.\n",
    "\n",
    "$\n",
    "\\qquad\n",
    "a =  \n",
    "\\begin{bmatrix}\n",
    "1 & 3 \\\\\n",
    "2 & 4 \\\\\n",
    "\\end{bmatrix}\n",
    "\\qquad\n",
    "b =  \n",
    "\\begin{bmatrix}\n",
    "5 & 7 \\\\\n",
    "6 & 8 \\\\\n",
    "\\end{bmatrix}\n",
    "$"
   ]
  },
  {
   "cell_type": "markdown",
   "metadata": {
    "colab_type": "text",
    "id": "I0El2au94HLI"
   },
   "source": [
    "$\n",
    "\\qquad\n",
    "ab =  \n",
    "\\begin{bmatrix}\n",
    "1 & 3 \\\\\n",
    "2 & 4 \\\\\n",
    "\\end{bmatrix}\n",
    "\\begin{bmatrix}\n",
    "5 & 7 \\\\\n",
    "6 & 8 \\\\\n",
    "\\end{bmatrix}\n",
    "= \n",
    "\\begin{bmatrix}\n",
    "1 \\times 5 + 3 \\times 6 & 1 \\times 7 + 3 \\times 8 \\\\\n",
    "2 \\times 5 + 4 \\times 6 & 2 \\times 7 + 4 \\times 8 \\\\\n",
    "\\end{bmatrix}\n",
    "=\n",
    "\\begin{bmatrix}\n",
    "23 & 31 \\\\\n",
    "34 & 46 \\\\\n",
    "\\end{bmatrix}\n",
    "$"
   ]
  },
  {
   "cell_type": "markdown",
   "metadata": {
    "colab_type": "text",
    "id": "3qrJE5X_423W"
   },
   "source": [
    "- Numpy를 이용하여 이를 구현할 수 있다."
   ]
  },
  {
   "cell_type": "code",
   "execution_count": 10,
   "metadata": {
    "colab": {
     "base_uri": "https://localhost:8080/",
     "height": 53
    },
    "colab_type": "code",
    "id": "sLlIxyvK45Zl",
    "outputId": "e59c5688-ae0e-4d7e-b5e6-92395633eebe"
   },
   "outputs": [
    {
     "name": "stdout",
     "output_type": "stream",
     "text": [
      "[[23 31]\n",
      " [34 46]]\n"
     ]
    }
   ],
   "source": [
    "import numpy as np\n",
    "a = np.array([[1, 3],\n",
    "              [2, 4]])\n",
    "b = np.array([[5, 7],\n",
    "              [6, 8]])\n",
    "\n",
    "print(np.matmul(a,b))"
   ]
  },
  {
   "cell_type": "markdown",
   "metadata": {
    "colab_type": "text",
    "id": "8aY3XYpM5IR_"
   },
   "source": [
    "<br>\n",
    "\n",
    "### 6.3.3 벡터와 행렬의 곱 or 행렬과 벡터의 곱\n",
    "\n",
    "- 벡터와 행렬의 곱 또는 행렬과 벡터의 곱 또한 행렬의 곰셈과 동일한 원리로 이루어진다."
   ]
  },
  {
   "cell_type": "markdown",
   "metadata": {
    "colab_type": "text",
    "id": "2YDJT45M5X5m"
   },
   "source": [
    "<br>\n",
    "\n",
    "## 6.4 다중 선형 회귀 행렬 연산으로 이해하기\n",
    "\n",
    "- 독립 변수가 2개 이상일 때, 1개의 종속 변수를 예측하는 문제를 행렬의 연산으로 표현한다면 어떻게 될까?\n",
    "- 다중 선형 회귀나 다중 로지스틱 회귀가 이러한 연산이 사용된다.\n",
    "- 여기서는 다중 선형 회귀를 통해 예를 사용한다."
   ]
  },
  {
   "cell_type": "markdown",
   "metadata": {
    "colab_type": "text",
    "id": "ijeZAWOa5evu"
   },
   "source": [
    "<br>\n",
    "\n",
    "### 6.4.1 다중 선형 회귀 수식\n",
    "\n",
    "- 독립 변수 $x$가 $n$개인 다음과 같은 다중 선형 회귀 수식은 다음과 같다.\n",
    "\n",
    "$\n",
    "\\qquad\n",
    "y = w_1x_1 + w_2x_2 + w_3x_3 + ... + w_nx_n + b\n",
    "$"
   ]
  },
  {
   "cell_type": "markdown",
   "metadata": {
    "colab_type": "text",
    "id": "wILp0p1l7P_T"
   },
   "source": [
    "<br>\n",
    "\n",
    "### 6.4.2 입력 벡터와 가중치 벡터의 내적 표현\n",
    "\n",
    "- 위 수식은 입력 벡터 $ [ x_1, \\cdots, x_n ] $와 가중치 벡터 $[w_1,\\cdots,w_n]$의 내적으로 표현할 수 있다.\n",
    "\n",
    "$\n",
    "\\qquad\n",
    "y = \n",
    "\\begin{bmatrix}\n",
    "x_1 & x_2 & x_3 & \\cdots & x_n\n",
    "\\end{bmatrix}\n",
    "\\begin{bmatrix}\n",
    "w_1 \\\\\n",
    "w_2 \\\\\n",
    "w_3 \\\\\n",
    "\\vdots \\\\\n",
    "w_n \\\\\n",
    "\\end{bmatrix}\n",
    "+ b = \n",
    "w_1x_1 + w_2x_2 + w_3x_3 + ... + w_nx_n + b\n",
    "$"
   ]
  },
  {
   "cell_type": "markdown",
   "metadata": {
    "colab_type": "text",
    "id": "lUSWrmkS9Fvf"
   },
   "source": [
    "<br>\n",
    "\n",
    "### 6.4.3 가중치 벡터와 입력 벡터의 내적 표현\n",
    "\n",
    "- 또는 가중치 벡터 $[w_1,\\cdots,w_n]$와 입력 벡터 $ [ x_1, \\cdots, x_n ] $의 내적으로 표현할 수 있다.\n",
    "\n",
    "$\n",
    "\\qquad\n",
    "y = \n",
    "\\begin{bmatrix}\n",
    "w_1 & w_2 & w_3 & \\cdots & w_n\n",
    "\\end{bmatrix}\n",
    "\\begin{bmatrix}\n",
    "x_1 \\\\\n",
    "x_2 \\\\\n",
    "x_3 \\\\\n",
    "\\vdots \\\\\n",
    "x_n \\\\\n",
    "\\end{bmatrix}\n",
    "+ b = \n",
    "w_1x_1 + w_2x_2 + w_3x_3 + ... + w_nx_n + b\n",
    "$"
   ]
  },
  {
   "cell_type": "markdown",
   "metadata": {
    "colab_type": "text",
    "id": "EjttJgIH9W1n"
   },
   "source": [
    "<br>\n",
    "\n",
    "### 6.4.4 행렬의 곱셈으로 표현\n",
    "\n",
    "- 데이터의 개수가 많을 경우에는 벡터의 내적이 아니라 행렬의 곱셈으로 표현이 가능하다"
   ]
  },
  {
   "cell_type": "markdown",
   "metadata": {
    "colab_type": "text",
    "id": "Rg9KQ1ApHok0"
   },
   "source": [
    "- 다중 선형 회귀에서 데이터의 개수가 여러 개일 때, 행렬의 곱셈으로 어떻게 표현할 수 있는 지 예를 들어보자.\n",
    "- 다음은 집의 크기, 방의 수, 층의 수, 집이 얼마나 오래되었는지와 집의 가격이 기록된 부동산 데이터라고 가정하자.\n",
    "- 해당 데이터를 학습하여 새로운 집의 정보가 들어왔을 때, 집의 가격을 예측한다고 하자.\n",
    "\n",
    "| size($feet^2$)($x_1$) | number of bedrooms($x_2$) | number of floors($x_3$) | age of home($x_4$) | price(\\$1000)($y$) |\n",
    "| :-------------------- | :------------------------ | :---------------------- | :----------------- | :----------------- |\n",
    "| 1800                  | 2                         | 1                       | 10                 | 207                |\n",
    "| 1200                  | 4                         | 2                       | 20                 | 176                |\n",
    "| 1700                  | 3                         | 2                       | 15                 | 213                |\n",
    "| 1500                  | 5                         | 1                       | 10                 | 234                |\n",
    "| 1100                  | 2                         | 2                       | 10                 | 155                |"
   ]
  },
  {
   "cell_type": "markdown",
   "metadata": {
    "colab_type": "text",
    "id": "xjkuqdJ0IE0q"
   },
   "source": [
    "<br>\n",
    "\n",
    "- 위의 데이터에 대해서 입력 행렬 $X$와 가중치 벡터 $W$의 곱으로 표현하면 다음과 같다.\n",
    "\n",
    "$\n",
    "\\qquad\n",
    "\\begin{bmatrix}\n",
    "x_{11} & x_{12} & x_{13} & x_{14} \\\\\n",
    "x_{21} & x_{22} & x_{23} & x_{24} \\\\\n",
    "x_{31} & x_{32} & x_{33} & x_{34} \\\\\n",
    "x_{41} & x_{42} & x_{43} & x_{44} \\\\\n",
    "x_{51} & x_{52} & x_{53} & x_{54}\n",
    "\\end{bmatrix}\n",
    "\\begin{bmatrix}\n",
    "w_1 \\\\\n",
    "w_2 \\\\\n",
    "w_3 \\\\\n",
    "w_4 \\\\\n",
    "\\end{bmatrix}\n",
    "=\n",
    "\\begin{bmatrix}\n",
    "x_{11} w_1 + x_{12} w_2 + x_{13} w_3 + x_{14} w_4 \\\\\n",
    "x_{21} w_1 + x_{22} w_2 + x_{23} w_3 + x_{24} w_4 \\\\\n",
    "x_{31} w_1 + x_{32} w_2 + x_{33} w_3 + x_{34} w_4 \\\\\n",
    "x_{41} w_1 + x_{42} w_2 + x_{43} w_3 + x_{44} w_4 \\\\\n",
    "x_{51} w_1 + x_{52} w_2 + x_{53} w_3 + x_{54} w_4\n",
    "\\end{bmatrix}\n",
    "$"
   ]
  },
  {
   "cell_type": "markdown",
   "metadata": {
    "colab_type": "text",
    "id": "3XIIinvXI-8L"
   },
   "source": [
    "<br>\n",
    "\n",
    "- 여기에 편항 벡터 $B$를 더해주면 위 데이터에 대한 전체 가설 수식 $H(X)$를 표현할 수 있다.\n",
    "\n",
    "$\n",
    "\\qquad\n",
    "\\begin{bmatrix}\n",
    "x_{11} w_1 + x_{12} w_2 + x_{13} w_3 + x_{14} w_4 \\\\\n",
    "x_{21} w_1 + x_{22} w_2 + x_{23} w_3 + x_{24} w_4 \\\\\n",
    "x_{31} w_1 + x_{32} w_2 + x_{33} w_3 + x_{34} w_4 \\\\\n",
    "x_{41} w_1 + x_{42} w_2 + x_{43} w_3 + x_{44} w_4 \\\\\n",
    "x_{51} w_1 + x_{52} w_2 + x_{53} w_3 + x_{54} w_4\n",
    "\\end{bmatrix}\n",
    "+\n",
    "\\begin{bmatrix}\n",
    "b \\\\\n",
    "b \\\\\n",
    "b \\\\\n",
    "b \\\\\n",
    "b \\\\\n",
    "\\end{bmatrix}\n",
    "=\n",
    "\\begin{bmatrix}\n",
    "y_1 \\\\\n",
    "y_2 \\\\\n",
    "y_3 \\\\\n",
    "y_4 \\\\\n",
    "y_5 \\\\\n",
    "\\end{bmatrix}\n",
    "$"
   ]
  },
  {
   "cell_type": "markdown",
   "metadata": {
    "colab_type": "text",
    "id": "d1pOSxg5JbLt"
   },
   "source": [
    "<br>\n",
    "\n",
    "$\n",
    "\\qquad\n",
    "H(X) = X W + B\n",
    "$\n",
    "\n",
    "- 위 수식에서 입력 행렬 $X$는 5행 4열의 크기를 가진다.\n",
    "- 출력 벡터를 $Y$라고 했을 때, $Y$는 5행 1열의 크기를 가진다.\n",
    "- 여기서 곱셈이 성립하기 위해서는 가중치 벡터 $W$의 크기는 4행 1열을 가져야함을 추론할 수 있다."
   ]
  },
  {
   "cell_type": "markdown",
   "metadata": {
    "colab_type": "text",
    "id": "TdaNi-ShJtwB"
   },
   "source": [
    "<br>\n",
    "\n",
    "- 만약 가중치 벡터를 앞에 두고 입력 행렬을 뒤에 두고 행렬 연산을 한다면 아래와 같다.\n",
    "\n",
    "$\n",
    "\\qquad\n",
    "\\begin{bmatrix}\n",
    "w_1 & w_2 & w_3 & w_4\n",
    "\\end{bmatrix}\n",
    "\\begin{bmatrix}\n",
    "x_{11} & x_{21} & x_{31} & x_{41} & x_{51} \\\\\n",
    "x_{12} & x_{22} & x_{32} & x_{42} & x_{52} \\\\\n",
    "x_{13} & x_{23} & x_{33} & x_{43} & x_{53} \\\\\n",
    "x_{14} & x_{24} & x_{34} & x_{44} & x_{54} \\\\\n",
    "\\end{bmatrix}\n",
    "+\n",
    "\\begin{bmatrix}\n",
    "b & b & b & b & b\n",
    "\\end{bmatrix}\n",
    "=\n",
    "\\begin{bmatrix}\n",
    "y_1 & y_2 & y_3 & y_4 & y_5\n",
    "\\end{bmatrix}\n",
    "$"
   ]
  },
  {
   "cell_type": "markdown",
   "metadata": {
    "colab_type": "text",
    "id": "ozYplDUPMS_5"
   },
   "source": [
    "- 이는 연산 방법의 차이일 뿐 어떤 것이 맞다고, 틀리다고 할 수 없다.\n",
    "- 다만, 수학적 관례로 아래와 같이 수식으로 표현할 때는 주로 가중치 $W$가 입력 $X$의 앞에 오므로 위 두 가지 경우 모두를 염두하는 것이 좋다.\n",
    "\n",
    "$\n",
    "\\qquad\n",
    "H(X) = W X + B\n",
    "$"
   ]
  },
  {
   "cell_type": "markdown",
   "metadata": {
    "colab_type": "text",
    "id": "er8DUKgvMiFR"
   },
   "source": [
    "- 인공 신경망도 본질적으로 위와 같이 훈련 데이터에 대한 행렬 연산이므로 이번 예제는 반드시 이해해야 한다."
   ]
  },
  {
   "cell_type": "markdown",
   "metadata": {
    "colab_type": "text",
    "id": "FUs_bS8tNiV0"
   },
   "source": [
    "<br>\n",
    "\n",
    "## 6.5 샘플(Sample)과 특성(Feature)\n",
    "\n",
    "- 훈련 데이터의 입력 행렬을 $X$라고 했을 때 샘플(Sample)과 특성(Feature)의 정의는 다음과 같다.  \n",
    "![](https://wikidocs.net/images/page/35821/n_x_m.PNG)\n",
    "- 머신 러닝에서는 데이터를 셀 수 있는 단위로 구분할 때, 각각을 **샘플**이라고 부른다.\n",
    "- 종속 변수 $y$를 예측하기 위한 각각의 독립 변수 $x$를 **특성**이라고 부른다."
   ]
  },
  {
   "cell_type": "markdown",
   "metadata": {
    "colab_type": "text",
    "id": "ef_mJ2tHOBFi"
   },
   "source": [
    "<br>\n",
    "\n",
    "## 6.6 가중치와 편향 행렬의 크기 결정\n",
    "\n",
    "- 여기서는 특성을 행렬의 열로 보는 경우를 가정하여 행렬의 크기가 어떻게 결정되는 지를 정리한다."
   ]
  },
  {
   "cell_type": "markdown",
   "metadata": {
    "colab_type": "text",
    "id": "BYPp7gRTOK7z"
   },
   "source": [
    "<br>\n",
    "\n",
    "### 6.6.1 행렬곱의 두 가지 정의\n",
    "\n",
    "- 행렬곱은 두 가지 정의를 갖는다.\n",
    "- 두 개의 행렬 J와 K의 곱은 다음과 같은 조건을 충족해야 한다.\n",
    "  1. 두 행렬의 곱 J x K 에 대하여 행렬 J의 열의 수와 행렬 K의 행의 수는 같아야 한다.\n",
    "  2. 두 행렬의 곱 J x K 의 결과로 나온 행렬 JK의 크기는 J의 행의 크기와 K의 열의 크기를 가진다.\n",
    "\n",
    "- 이로부터 주어진 데이터가 입력과 출력의 행렬의 크기를 어떻게 가지느냐에 따라서 가중치 W의 행렬과 편향 b의 행렬의 크기를 찾아낼 수 있다."
   ]
  },
  {
   "cell_type": "markdown",
   "metadata": {
    "colab_type": "text",
    "id": "QguBQdrOOvmz"
   },
   "source": [
    "<br>\n",
    "\n",
    "### 6.6.2 가중치와 편향 행렬 크기 결정\n",
    "\n",
    "- 가중치 W의 행렬을 W, 편향 b의 행렬을 B라고 하자.\n",
    "- 이때 행렬 X는 또한 입력 행렬(Input Matrix)이라고 부를 수 있다.\n",
    "- 또한 Y는 출력 행렬(Output Matrix)이라고 부를 수 있다.  \n",
    "\n",
    "$\\qquad$ ![](https://wikidocs.net/images/page/37001/matrix1.PNG)"
   ]
  },
  {
   "cell_type": "markdown",
   "metadata": {
    "colab_type": "text",
    "id": "IPZgfdC-PXBy"
   },
   "source": [
    "- 이제 입력 행렬의 크기와 출력 행렬의 크기로부터 W 행렬과 B 행렬의 크기를 추론해본다."
   ]
  },
  {
   "cell_type": "markdown",
   "metadata": {
    "colab_type": "text",
    "id": "_Tt4ZQhySp8v"
   },
   "source": [
    "$\\qquad$ ![](https://wikidocs.net/images/page/37001/matrix2.PNG)\n",
    "\n",
    "- 우선 행렬의 덧셈에 해당되는 B 행렬은 Y 행렬의 크기에 영향을 주지 않는다.\n",
    "- 그러므로 B 행렬의 크기는 Y 행렬의 크기와 같다."
   ]
  },
  {
   "cell_type": "markdown",
   "metadata": {
    "colab_type": "text",
    "id": "gSBtyR2rSrlA"
   },
   "source": [
    "$\\qquad$ ![](https://wikidocs.net/images/page/37001/matrix3.PNG)\n",
    "\n",
    "- 행렬의 곱셈이 성립되려면 행렬의 곱셈에서 앞에 있는 행렬의 열의 크기와 뒤에 있는 행렬의 행의 크기는 같아야 한다.\n",
    "- 그러므로 입력 행렬 X로부터 W행렬의 행의 크기가 결정된다."
   ]
  },
  {
   "cell_type": "markdown",
   "metadata": {
    "colab_type": "text",
    "id": "B-A6lzpiS1mp"
   },
   "source": [
    "$\\qquad$ ![](https://wikidocs.net/images/page/37001/matrix4.PNG)\n",
    "\n",
    "- 두 행렬의 곱의 결과로서 나온 행렬의 열의 크기는 행렬의 곱에서 뒤에 있는 행렬의 열의 크기와 동일하다.\n",
    "- 그러므로 출력 행렬 Y로부터 W행렬의 열의 크기가 결정된다."
   ]
  },
  {
   "cell_type": "markdown",
   "metadata": {
    "colab_type": "text",
    "id": "lSTHcsWRTFqY"
   },
   "source": [
    "<br>\n",
    "\n",
    "### 6.6.3 배치에 대한 개념\n",
    "\n",
    "- 이 때 위의 식에서 X행렬의 행을 의미하는 수치 m은 샘플 데이터를 몇 개씩 묶어서 처리하느냐에 따라 달라진다.\n",
    "- 전체 샘플 데이터에 대해서 한 꺼번에 행렬 연산을 하고자한다면, m은 전체 샘플의 개수가 된다."
   ]
  },
  {
   "cell_type": "markdown",
   "metadata": {
    "colab_type": "text",
    "id": "mfYFSo1LTSra"
   },
   "source": [
    "- 하지만 전체 샘플 데이터 중 1개씩 불러와서 처리하고자한다면 m은 1이 됩니다. 또는 전체 데이터를 임의의 m개씩 묶인 작은 그룹들로 분할하여 여러번 처리할 수도 있는데 이렇게 처리하면서 기계가 학습하는 것을 **미니배치 학습**이라고 한다."
   ]
  },
  {
   "cell_type": "markdown",
   "metadata": {
    "colab_type": "text",
    "id": "jTZ-oeV7Tifo"
   },
   "source": [
    "- 예를 들어 전체 데이터가 1,024개가 있다고 하자.\n",
    "- m을 64로 잡는다면 전체 데이터는 16개의 그룹으로 분할된다. (64 x 16 = 1,024)\n",
    "- 각 그룹은 총 64개의 샘플로 구성된다.\n",
    "- 그리고 위에서 설명한 행렬 연산을 총 16번 반복하게되고 그제서야 전체 데이터에 대한 학습이 완료된다.\n",
    "- 이때 64를 배치 크기(Batch size)라고 합니다."
   ]
  }
 ],
 "metadata": {
  "colab": {
   "collapsed_sections": [],
   "name": "Ch07_v06_Vector-Matrix-Operation.ipynb",
   "provenance": [],
   "toc_visible": true
  },
  "kernelspec": {
   "display_name": "Python 3",
   "language": "python",
   "name": "python3"
  },
  "language_info": {
   "codemirror_mode": {
    "name": "ipython",
    "version": 3
   },
   "file_extension": ".py",
   "mimetype": "text/x-python",
   "name": "python",
   "nbconvert_exporter": "python",
   "pygments_lexer": "ipython3",
   "version": "3.6.9"
  }
 },
 "nbformat": 4,
 "nbformat_minor": 4
}
