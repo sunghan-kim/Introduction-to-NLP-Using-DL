{
 "cells": [
  {
   "cell_type": "markdown",
   "metadata": {
    "colab_type": "text",
    "id": "DVOZbCHFlysz"
   },
   "source": [
    "# Ch07. 머신 러닝(Machine Learning) 개요"
   ]
  },
  {
   "cell_type": "markdown",
   "metadata": {
    "colab_type": "text",
    "id": "BrW9vD7Vl392"
   },
   "source": [
    "# v05. 다중 입력에 대한 실습"
   ]
  },
  {
   "cell_type": "markdown",
   "metadata": {
    "colab_type": "text",
    "id": "R3g-2TNwl55q"
   },
   "source": [
    "- 독립 변수 $x$가 2개 이상인 선형 회귀와 로지스틱 회귀에 대해 학습\n",
    "- 비용 함수와 옵티마이저 등을 사용하는 원리는 동일하다."
   ]
  },
  {
   "cell_type": "markdown",
   "metadata": {
    "colab_type": "text",
    "id": "IslI-Fiwl_dF"
   },
   "source": [
    "<br>\n",
    "\n",
    "## 5.1 다중 선형 회귀\n",
    "\n",
    "- 딥 러닝에서는 대부분의 입력들은 독립 변수가 2개 이상이다.\n",
    "- 이는 모델을 직접 코딩하는 관점에서는 **입력 벡터의 차원이 2 이상**이라고 할 수 있다."
   ]
  },
  {
   "cell_type": "markdown",
   "metadata": {
    "colab_type": "text",
    "id": "qilC90K0mKw9"
   },
   "source": [
    "<br>\n",
    "\n",
    "### 5.1.1 시험 점수 데이터\n",
    "\n",
    "- $y$를 결정하는 데 있어 독립 변수가 3개인 선형 회귀를 풀어보자.\n",
    "- 중간 고사, 기말 고사, 그리고 추가 점수를 어떤 공식을 통해 최종 점수를 계산한 데이터가 있다.\n",
    "\n",
    "| Midterm($x1$) | Final($x2$) | Added point($x3$) | Score(\\$1000)($y$) |\n",
    "| :------------ | :---------- | :---------------- | :-------------- |\n",
    "| 70            | 85          | 11                | 73              |\n",
    "| 71            | 89          | 18                | 82              |\n",
    "| 50            | 80          | 20                | 72              |\n",
    "| 99            | 20          | 10                | 57              |\n",
    "| 50            | 10          | 10                | 34              |\n",
    "| 20            | 99          | 10                | 58              |\n",
    "| 40            | 50          | 20                | 56              |\n"
   ]
  },
  {
   "cell_type": "markdown",
   "metadata": {
    "colab_type": "text",
    "id": "1XQX6k8zmltC"
   },
   "source": [
    "<br>\n",
    "\n",
    "### 5.1.2 가설\n",
    "\n",
    "- 이 경우 가설은 다음과 같다.\n",
    "\n",
    "$\n",
    "\\qquad\n",
    "H(X) = W_1 x_1 + W_2 x_2 + W_3 x_3 + b\n",
    "$"
   ]
  },
  {
   "cell_type": "markdown",
   "metadata": {
    "colab_type": "text",
    "id": "O-vxOA-bnIKT"
   },
   "source": [
    "<br>\n",
    "\n",
    "### 5.1.3 데이터 분리 및 모델 학습\n",
    "\n",
    "- 위의 데이터 중 상위 5개의 데이터만 훈련에 사용\n",
    "- 나머지 2개는 테스트에 사용"
   ]
  },
  {
   "cell_type": "code",
   "execution_count": 1,
   "metadata": {
    "colab": {
     "base_uri": "https://localhost:8080/",
     "height": 53
    },
    "colab_type": "code",
    "id": "l1nwu8V6nNh3",
    "outputId": "a781dc90-8b98-4be0-ee4e-f4d80cd02e2d"
   },
   "outputs": [
    {
     "name": "stdout",
     "output_type": "stream",
     "text": [
      "TensorFlow 2.x selected.\n"
     ]
    },
    {
     "data": {
      "text/plain": [
       "'2.1.0'"
      ]
     },
     "execution_count": 1,
     "metadata": {
      "tags": []
     },
     "output_type": "execute_result"
    }
   ],
   "source": [
    "%tensorflow_version 2.x\n",
    "\n",
    "import tensorflow as tf\n",
    "tf.__version__"
   ]
  },
  {
   "cell_type": "code",
   "execution_count": null,
   "metadata": {
    "colab": {},
    "colab_type": "code",
    "id": "CD-uQV0GnRE9"
   },
   "outputs": [],
   "source": [
    "import numpy as np\n",
    "from tensorflow.keras.models import Sequential\n",
    "from tensorflow.keras.layers import Dense\n",
    "from tensorflow.keras import optimizers\n",
    "\n",
    "X = np.array([[70,85,11],\n",
    "              [71,89,18],\n",
    "              [50,80,20],\n",
    "              [99,20,10],\n",
    "              [50,10,10]])\n",
    "# 입력 벡터의 차원은 3이다. 즉, input_dim은 3이다.\n",
    "\n",
    "y = np.array([73,82,72,57,34])\n",
    "# 출력 벡터의 차원은 1이다. 즉, output_dim은 1이다.\n",
    "\n",
    "model = Sequential()\n",
    "model.add(Dense(1, input_dim=3, activation='linear')) # input_dim = 3 : 입력 벡터의 차원이 3\n",
    "\n",
    "# 옵티마이저는 sgd(확률적 경사 하강법) 사용\n",
    "# 학습률(learning rate)은 0.00001로 지정\n",
    "sgd = optimizers.SGD(lr=0.00001)\n",
    "\n",
    "# 손실 함수(loss function)는 평균제곱오차 mse 사용\n",
    "model.compile(optimizer=sgd, loss='mse', metrics=['mse'])\n",
    "\n",
    "model.fit(X, y, batch_size=1, epochs=2000, shuffle=False)"
   ]
  },
  {
   "cell_type": "markdown",
   "metadata": {
    "colab_type": "text",
    "id": "pF476xeOperx"
   },
   "source": [
    "```\n",
    "Epoch 1/2000\n",
    "5/5 [==============================] - 0s 86ms/step - loss: 18534.6645 - mean_squared_error: 18534.6645\n",
    "... 중략 ...\n",
    "Epoch 2000/2000\n",
    "5/5 [==============================] - 0s 2ms/step - loss: 0.0363 - mean_squared_error: 0.0363\n",
    "```"
   ]
  },
  {
   "cell_type": "markdown",
   "metadata": {
    "colab_type": "text",
    "id": "fEGxYyPOqxbv"
   },
   "source": [
    "<br>\n",
    "\n",
    "### 5.1.4 예측"
   ]
  },
  {
   "cell_type": "code",
   "execution_count": 4,
   "metadata": {
    "colab": {
     "base_uri": "https://localhost:8080/",
     "height": 107
    },
    "colab_type": "code",
    "id": "jhS9NaLwoYz7",
    "outputId": "788c4026-aca0-42a5-b4fb-961f6b0d4600"
   },
   "outputs": [
    {
     "name": "stdout",
     "output_type": "stream",
     "text": [
      "[[73.29252 ]\n",
      " [81.99197 ]\n",
      " [71.84287 ]\n",
      " [57.188465]\n",
      " [33.585   ]]\n"
     ]
    }
   ],
   "source": [
    "print(model.predict(X))"
   ]
  },
  {
   "cell_type": "markdown",
   "metadata": {
    "colab_type": "text",
    "id": "tsQzpicqqpE0"
   },
   "source": [
    "- 기존 데이터를 주고 예측을 시켰을 때 아직 정확하게 예측하는 건 아니지만 어느 정도 실제 값에 근접한 예측을 하는 것을 볼 수 있다."
   ]
  },
  {
   "cell_type": "markdown",
   "metadata": {
    "colab_type": "text",
    "id": "TU3kf3zbrDxa"
   },
   "source": [
    "<br>\n",
    "\n",
    "### 5.1.5 평가\n",
    "\n",
    "- 훈련할 때 사용하지 않았던 데이터를 가지고 예측 작업을 수행"
   ]
  },
  {
   "cell_type": "code",
   "execution_count": 5,
   "metadata": {
    "colab": {
     "base_uri": "https://localhost:8080/",
     "height": 53
    },
    "colab_type": "code",
    "id": "ItXtvwTprJEr",
    "outputId": "e484116f-6039-438d-a055-09d1cc410035"
   },
   "outputs": [
    {
     "name": "stdout",
     "output_type": "stream",
     "text": [
      "[[58.19531 ]\n",
      " [55.544582]]\n"
     ]
    }
   ],
   "source": [
    "X_test = np.array([[20, 99, 10],  # 58점 예측해야 함\n",
    "                   [40, 50, 20]]) # 56점 예측해야 함\n",
    "print(model.predict(X_test))"
   ]
  },
  {
   "cell_type": "markdown",
   "metadata": {
    "colab_type": "text",
    "id": "wfUzqrIdrTPM"
   },
   "source": [
    "<br>\n",
    "\n",
    "## 5.2 다중 로지스틱 회귀"
   ]
  },
  {
   "cell_type": "markdown",
   "metadata": {
    "colab_type": "text",
    "id": "W2AYJBbfrWkg"
   },
   "source": [
    "- $y$를 결정하는 데 있어 독립 변수 $x$가 2개인 로지스틱 회귀 문제"
   ]
  },
  {
   "cell_type": "markdown",
   "metadata": {
    "colab_type": "text",
    "id": "qGPDJVCprl0q"
   },
   "source": [
    "<br>\n",
    "\n",
    "### 5.2.1 데이터\n",
    "\n",
    "- 꽃받침(Sepal)의 길이와 꽃잎(Petal)의 길이와 해당 꽃이 A인지 B인지가 적혀져 있는 데이터가 있다.\n",
    "- 새로 조사한 꽃받침의 길이와 꽃잎의 길이로부터 무슨 꽃인지 예측할 수 있는 모델을 만들고자 한다.\n",
    "- 이 때 독립 변수 $x$는 2개가 된다.\n",
    "\n",
    "| SepalLengthCm($x_1$) | PetalLengthCm($x_2$) | Species($y$) |\n",
    "| :------------------- | :------------------- | :----------- |\n",
    "| 5.1                  | 3.5                  | A            |\n",
    "| 4.7                  | 3.2                  | A            |\n",
    "| 5.2                  | 1.8                  | B            |\n",
    "| 7                    | 4.1                  | A            |\n",
    "| 5.1                  | 2.1                  | B            |"
   ]
  },
  {
   "cell_type": "markdown",
   "metadata": {
    "colab_type": "text",
    "id": "Cot6u287rn7K"
   },
   "source": [
    "<br>\n",
    "\n",
    "### 5.2.2 가설\n",
    "\n",
    "- 이 경우 가설은 다음과 같다.\n",
    "\n",
    "$\n",
    "\\qquad\n",
    "H(X) = sigmoid \\left( W_1 x_1 + W_2 x_2 + b \\right)\n",
    "$"
   ]
  },
  {
   "cell_type": "markdown",
   "metadata": {
    "colab_type": "text",
    "id": "PTjOTqI1r8wK"
   },
   "source": [
    "<br>\n",
    "\n",
    "### 5.2.3 OR 게이트 구현\n",
    "\n",
    "- 독립 변수가 2개인 좀 더 간단한 예를 들고, 이를 케라스로 구현"
   ]
  },
  {
   "cell_type": "markdown",
   "metadata": {
    "colab_type": "text",
    "id": "v6fbsPK0sLzd"
   },
   "source": [
    "- OR 게이트\n",
    "  - 0 또는 1의 값을 입력으로 받는다.\n",
    "  - 두 개의 입력 $x_1$, $x_2$ 중 하나라도 1이면 출력값 $y$가 1이 됨\n",
    "  - 두 개의 입력이 0인 경우에만 출력값이 0이 됨"
   ]
  },
  {
   "cell_type": "markdown",
   "metadata": {
    "colab_type": "text",
    "id": "DrmM2pRlsYdN"
   },
   "source": [
    "- 로지스틱 회귀를 통해 OR 게이트 구현"
   ]
  },
  {
   "cell_type": "code",
   "execution_count": null,
   "metadata": {
    "colab": {},
    "colab_type": "code",
    "id": "6nHH5Q_0sae0"
   },
   "outputs": [],
   "source": [
    "import numpy as np\n",
    "\n",
    "X = np.array([[0, 0],\n",
    "              [0, 1],\n",
    "              [1, 0],\n",
    "              [1, 1]])\n",
    "# 입력 벡터의 차원은 2이다. 즉, input_dim은 2이다.\n",
    "\n",
    "y = np.array([0, 1, 1, 1])\n",
    "# 출력 벡터의 차원은 1이다. 즉, output_dim은 1이다."
   ]
  },
  {
   "cell_type": "code",
   "execution_count": null,
   "metadata": {
    "colab": {},
    "colab_type": "code",
    "id": "FY7fmEMMspyo"
   },
   "outputs": [],
   "source": [
    "from tensorflow.keras.models import Sequential\n",
    "from tensorflow.keras.layers import Dense\n",
    "from tensorflow.keras import optimizers\n",
    "\n",
    "model = Sequential()\n",
    "model.add(Dense(1, input_dim=2, activation='sigmoid')) # input_dim = 2 : 입력 차원은 2이다.\n",
    "\n",
    "# 옵티마이저 : SGD(확률적 경사 하강법) 사용\n",
    "# 비용 함수 : 이진 크로스 엔트로피(binary_crossentropy) 사용\n",
    "model.compile(optimizer='sgd', loss='binary_crossentropy', metrics=['binary_accuracy'])\n",
    "\n",
    "model.fit(X, y, batch_size=1, epochs=800, shuffle=False)"
   ]
  },
  {
   "cell_type": "markdown",
   "metadata": {
    "colab_type": "text",
    "id": "iCh02_2PtNwS"
   },
   "source": [
    "```\n",
    "Train on 4 samples\n",
    "Epoch 1/800\n",
    "4/4 [==============================] - 0s 69ms/sample - loss: 0.4338 - binary_accuracy: 1.0000\n",
    "Epoch 2/800\n",
    "4/4 [==============================] - 0s 3ms/sample - loss: 0.4322 - binary_accuracy: 0.7500\n",
    "Epoch 3/800\n",
    "4/4 [==============================] - 0s 3ms/sample - loss: 0.4305 - binary_accuracy: 0.7500\n",
    "\n",
    "... 생략\n",
    "\n",
    "Epoch 798/800\n",
    "4/4 [==============================] - 0s 3ms/sample - loss: 0.1856 - binary_accuracy: 1.0000\n",
    "Epoch 799/800\n",
    "4/4 [==============================] - 0s 3ms/sample - loss: 0.1855 - binary_accuracy: 1.0000\n",
    "Epoch 800/800\n",
    "4/4 [==============================] - 0s 3ms/sample - loss: 0.1853 - binary_accuracy: 1.0000\n",
    "<tensorflow.python.keras.callbacks.History at 0x7f5fca8612e8>\n",
    "```"
   ]
  },
  {
   "cell_type": "markdown",
   "metadata": {
    "colab_type": "text",
    "id": "pKGCVqCHtwxW"
   },
   "source": [
    "- 정확도는 100%가 나오고 있으므로 800회 정도로 학습을 멈춤"
   ]
  },
  {
   "cell_type": "markdown",
   "metadata": {
    "colab_type": "text",
    "id": "n7mzHYsLt7-y"
   },
   "source": [
    "- 시그모이드 함수의 각 입력값에 대해서 출력값이 0.5보다 크고 작은 지를 확인"
   ]
  },
  {
   "cell_type": "code",
   "execution_count": 9,
   "metadata": {
    "colab": {
     "base_uri": "https://localhost:8080/",
     "height": 89
    },
    "colab_type": "code",
    "id": "ZacesDHIuCZ8",
    "outputId": "0415d00b-4df0-4f4e-fca7-658a1877f09e"
   },
   "outputs": [
    {
     "name": "stdout",
     "output_type": "stream",
     "text": [
      "[[0.3628071 ]\n",
      " [0.89191985]\n",
      " [0.84965724]\n",
      " [0.98793864]]\n"
     ]
    }
   ],
   "source": [
    "print(model.predict(X))"
   ]
  },
  {
   "cell_type": "markdown",
   "metadata": {
    "colab_type": "text",
    "id": "41vrXyc-uD-i"
   },
   "source": [
    "- 입력이 둘 다 0, 0 인 경우를 제외하고 나머지 3개의 입력 쌍(pair)에 대해서는 전부 값이 0.5를 넘는 것을 볼 수 있다."
   ]
  },
  {
   "cell_type": "markdown",
   "metadata": {
    "colab_type": "text",
    "id": "5LEv4C6-uLZR"
   },
   "source": [
    "<br>\n",
    "\n",
    "## 5.3 인공 신경망 다이어그램\n",
    "\n",
    "- 다중 로지스틱 회귀를 뒤에서 배우게 되는 인공 신경망의 형태로 표현하면 다음과 같다.  \n",
    "![](https://wikidocs.net/images/page/35821/multiplelogistic_regression.PNG)"
   ]
  },
  {
   "cell_type": "markdown",
   "metadata": {
    "colab_type": "text",
    "id": "k1yQAiq0u-XV"
   },
   "source": [
    "- 이는 로지스틱 회귀를 일종의 인공 신경망 구조로 해석해도 무방함을 보여준다.\n",
    "\n",
    "$\n",
    "\\qquad\n",
    "\\begin{align*}\n",
    "y &= sigmoid(W_1 x_1 + W_2 x_2 + W_3 x_3 + \\cdots + W_n x_n + b) \\\\\n",
    "&= \\sigma (W_1 x_1 + W_2 x_2 + W_3 x_3 + \\cdots + W_n x_n + b)\n",
    "\\end{align*}\n",
    "$"
   ]
  }
 ],
 "metadata": {
  "colab": {
   "collapsed_sections": [],
   "name": "Ch07_v05_Multiple-Inputs.ipynb",
   "provenance": []
  },
  "kernelspec": {
   "display_name": "Python 3",
   "language": "python",
   "name": "python3"
  },
  "language_info": {
   "codemirror_mode": {
    "name": "ipython",
    "version": 3
   },
   "file_extension": ".py",
   "mimetype": "text/x-python",
   "name": "python",
   "nbconvert_exporter": "python",
   "pygments_lexer": "ipython3",
   "version": "3.6.9"
  }
 },
 "nbformat": 4,
 "nbformat_minor": 4
}
