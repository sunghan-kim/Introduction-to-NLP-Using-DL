{
 "cells": [
  {
   "cell_type": "markdown",
   "metadata": {
    "colab_type": "text",
    "id": "WauPSP8VVvkT"
   },
   "source": [
    "# Ch07. 머신 러닝(Machine Learning) 개요"
   ]
  },
  {
   "cell_type": "markdown",
   "metadata": {
    "colab_type": "text",
    "id": "AJ9R4rdUV7_f"
   },
   "source": [
    "# v06. 벡터와 행렬 연산"
   ]
  },
  {
   "cell_type": "markdown",
   "metadata": {
    "colab_type": "text",
    "id": "DYiOEVkkWN5-"
   },
   "source": [
    "- Numpy나 텐서플로우의 로우-레벨(low-level)의 머신 러닝 개발을 하게되면 각 변수들의 연산을 벡터와 행렬 연산으로 이해할 수 있어야 한다.\n",
    "- 즉, 사용자가 데이터와 변수의 개수로부터 행렬의 크기, 더 나아 텐서의 크기를 산정할 수 있어야 한다.\n",
    "- 이번 챕터에서는 기본적인 벡터와 행렬 연산에 대해 이해해본다."
   ]
  },
  {
   "cell_type": "markdown",
   "metadata": {
    "colab_type": "text",
    "id": "xiexV37JW7rs"
   },
   "source": [
    "<br>\n",
    "\n",
    "## 6.1 벡터와 행렬과 텐서"
   ]
  },
  {
   "cell_type": "markdown",
   "metadata": {
    "colab_type": "text",
    "id": "7w6eHeSrW-SH"
   },
   "source": [
    "### 6.1.1 벡터\n",
    "\n",
    "- 크기와 방향을 가진 양\n",
    "- 숫자가 나열된 형태\n",
    "- 파이썬에서는 1차원 배열 또는 리스트로 표현한다."
   ]
  },
  {
   "cell_type": "markdown",
   "metadata": {
    "colab_type": "text",
    "id": "MtDU77yQXG8z"
   },
   "source": [
    "<br>\n",
    "\n",
    "### 6.1.2 행렬\n",
    "\n",
    "- 행과 열을 가지는 2차원 형상을 가진 구조\n",
    "- 파이썬에서는 2차원 배열로 표현한다.\n",
    "- 가로줄 : 행(row)\n",
    "- 세로줄 : 열(column)"
   ]
  },
  {
   "cell_type": "markdown",
   "metadata": {
    "colab_type": "text",
    "id": "Gyrm1JVTekKX"
   },
   "source": [
    "<br>\n",
    "\n",
    "### 6.1.3 텐서\n",
    "\n",
    "- 3차원부터는 주로 텐서라고 부른다.\n",
    "- 텐서는 파이썬에서는 3차원 이상의 배열로 표현한다."
   ]
  },
  {
   "cell_type": "markdown",
   "metadata": {
    "colab_type": "text",
    "id": "wleem5OCezX3"
   },
   "source": [
    "<br>\n",
    "\n",
    "## 6.2 텐서 (Tensor)"
   ]
  },
  {
   "cell_type": "markdown",
   "metadata": {
    "colab_type": "text",
    "id": "VL07v5Q7e4t3"
   },
   "source": [
    "- 인공 신경망은 복잡한 모델 내의 연산을 주로 행렬 연산을 통해 해결한다.\n",
    "- 그런데 여기서 말하는 행렬 연산이란 단순히 2차원 배열을 통한 행렬 연산만을 의미하는 것이 아니다.\n",
    "- 머신 러닝의 입력, 출력이 복잡해지면 **3차원 텐서**에 대한 이해가 필수로 요구된다.\n",
    "- 예를 들어, 인공 신경망 모델 중 하나인 RNN에서는 3차원 텐서에 대한 개념을 모르면 RNN을 이해하기가 쉽지 않다."
   ]
  },
  {
   "cell_type": "markdown",
   "metadata": {
    "colab_type": "text",
    "id": "bXNBUj16kBs4"
   },
   "source": [
    "- 텐서를 설명하기 위한 아래의 모든 코드는 Numpy를 임포트했다고 가정한다."
   ]
  },
  {
   "cell_type": "code",
   "execution_count": null,
   "metadata": {
    "colab": {},
    "colab_type": "code",
    "id": "ao_CqgxDkFqV"
   },
   "outputs": [],
   "source": [
    "import numpy as np"
   ]
  },
  {
   "cell_type": "markdown",
   "metadata": {
    "colab_type": "text",
    "id": "USdJ_63akHp1"
   },
   "source": [
    "<br>\n",
    "\n",
    "### 6.2.1 0차원 텐서\n",
    "\n",
    "- 스칼라 : 하나의 실수값으로 이루어진 데이터\n",
    "- 스칼라값을 0차원 텐서라고 한다.\n",
    "- 차원을 영어로 Dimensionality라고 하므로 0D 텐서라고도 한다."
   ]
  },
  {
   "cell_type": "code",
   "execution_count": 5,
   "metadata": {
    "colab": {
     "base_uri": "https://localhost:8080/",
     "height": 53
    },
    "colab_type": "code",
    "id": "2Y0XhYzPkyZV",
    "outputId": "36465d12-eba5-48c9-f7b6-0e99b1b8792a"
   },
   "outputs": [
    {
     "name": "stdout",
     "output_type": "stream",
     "text": [
      "0\n",
      "()\n"
     ]
    }
   ],
   "source": [
    "d = np.array(5)\n",
    "print(d.ndim) # 차원수 출력 : 0\n",
    "print(d.shape) # 텐서의 크기 출력 : () -> 크기가 없음"
   ]
  },
  {
   "cell_type": "markdown",
   "metadata": {
    "colab_type": "text",
    "id": "uOb7scoSk3nY"
   },
   "source": [
    "- Numpy의 `ndim`은 **축의 개수**를 출력한다.\n",
    "- 이 축의 개수는 텐서에서의 차원수와 동일하다."
   ]
  },
  {
   "cell_type": "markdown",
   "metadata": {
    "colab_type": "text",
    "id": "x5jG9cmHlKnb"
   },
   "source": [
    "<br>\n",
    "\n",
    "### 6.2.2 1차원 텐서\n",
    "\n",
    "- 숫자를 특정 순서대로 배열한 것을 **벡터**라고 한다.\n",
    "- 또한 벡터를 1차원 텐서라고 한다.\n",
    "- 주의할 점\n",
    "  - 벡터의 차원과 텐서의 차원은 다른 개념이다."
   ]
  },
  {
   "cell_type": "markdown",
   "metadata": {
    "colab_type": "text",
    "id": "tHAk1oj1ldoA"
   },
   "source": [
    "- 아래의 예제는 **4차원 벡터**이지만, **1차원 텐서**이다. (1D 텐서라고도 한다.)"
   ]
  },
  {
   "cell_type": "code",
   "execution_count": 6,
   "metadata": {
    "colab": {
     "base_uri": "https://localhost:8080/",
     "height": 53
    },
    "colab_type": "code",
    "id": "_ytShn-_lkII",
    "outputId": "aa3e4b8f-384f-4679-ba96-3ef5e7f2dada"
   },
   "outputs": [
    {
     "name": "stdout",
     "output_type": "stream",
     "text": [
      "1\n",
      "(4,)\n"
     ]
    }
   ],
   "source": [
    "d = np.array([1, 2, 3, 4])\n",
    "print(d.ndim)\n",
    "print(d.shape)"
   ]
  },
  {
   "cell_type": "markdown",
   "metadata": {
    "colab_type": "text",
    "id": "beFHjWoclpYz"
   },
   "source": [
    "**벡터의 차원과 텐서의 차원의 차이**\n",
    "\n",
    "- 벡터에서의 차원(Dimensionality) : 하나의 축에 차원들이 존재하는 것\n",
    "- 텐서에서의 차원(Dimensionality) : 축의 개수"
   ]
  },
  {
   "cell_type": "markdown",
   "metadata": {
    "colab_type": "text",
    "id": "fcCdpEMYmSSk"
   },
   "source": [
    "<br>\n",
    "\n",
    "### 6.2.3 2차원 텐서\n",
    "\n",
    "- 행과 열이 존재하는 벡터의 배열\n",
    "- 즉, 행렬(matrix)을 2차원 텐서라고 한다.\n",
    "- 2D 텐서라고도 한다."
   ]
  },
  {
   "cell_type": "code",
   "execution_count": 7,
   "metadata": {
    "colab": {
     "base_uri": "https://localhost:8080/",
     "height": 53
    },
    "colab_type": "code",
    "id": "WiTn1HJfmdRA",
    "outputId": "dfd35b5e-639f-41df-e646-b4bb64d731af"
   },
   "outputs": [
    {
     "name": "stdout",
     "output_type": "stream",
     "text": [
      "2\n",
      "(3, 4)\n"
     ]
    }
   ],
   "source": [
    "d = np.array([\n",
    "              [1, 2, 3, 4],\n",
    "              [5, 6, 7, 8],\n",
    "              [9, 10, 11, 12]\n",
    "])\n",
    "\n",
    "print(d.ndim)\n",
    "print(d.shape)"
   ]
  },
  {
   "cell_type": "markdown",
   "metadata": {
    "colab_type": "text",
    "id": "4WW_03vlmpJp"
   },
   "source": [
    "- 텐서의 크기를 보고 머리 속에 떠올릴 수 있으면 모델 설계 시 유용하다.\n",
    "- 이게 어렵다면, 큰 단위부터 확장해나가며 생각하면 된다."
   ]
  },
  {
   "cell_type": "markdown",
   "metadata": {
    "colab_type": "text",
    "id": "0AiMI2gxm5yf"
   },
   "source": [
    "**`(3, 4)`**\n",
    "\n",
    "- 위의 경우 3개의 커다란 데이터가 있는데, 그 각각의 커다란 데이터는 작은 데이터 4개로 이루어졌다고 생각할 수 있다."
   ]
  },
  {
   "cell_type": "markdown",
   "metadata": {
    "colab_type": "text",
    "id": "PNk4zHq1nDFQ"
   },
   "source": [
    "**수학적 행렬 표현**\n",
    "\n",
    "- 1차원 텐서를 벡터, 2차원 텐서를 행렬로 비유했다.\n",
    "- 수학적으로 행렬의 열을 열벡터, 열벡터를 열행렬로 부르는 것과 혼동해서는 안된다.\n",
    "- 여기서 말하는 1차원 텐서와 2차원 텐서는 차원 자체가 달라야 한다."
   ]
  },
  {
   "cell_type": "markdown",
   "metadata": {
    "colab_type": "text",
    "id": "oj4p2CjpnVfv"
   },
   "source": [
    "<br>\n",
    "\n",
    "### 6.2.4 3차원 텐서\n",
    "\n",
    "- 행렬 또는 2차원 텐서를 단위로 한 번 더 배열하면 3차원 텐서라고 부른다.\n",
    "- 3D 텐서라고도 한다."
   ]
  },
  {
   "cell_type": "markdown",
   "metadata": {
    "colab_type": "text",
    "id": "UVWHAMtHnhOG"
   },
   "source": [
    "- 위에서 언급한 0차원 ~ 2차원 텐서는 각각 스칼라, 벡터, 행렬이라고 해도 무방하다.\n",
    "- 그러므로 **3차원 이상의 텐서부터 본격적으로 텐서라고 부른다.**\n",
    "- 데이터 사이언스 분야 한정으로 주로 3차원 이상의 배열을 텐서라고 부른다.  \n",
    "(엄밀한 수학적 정의로는 아니다.)\n",
    "- 그렇다면 3D 텐서는 적어도 여기서는 **3차원 배열**로 이해하면 된다."
   ]
  },
  {
   "cell_type": "markdown",
   "metadata": {
    "colab_type": "text",
    "id": "wobTb7Ern1ne"
   },
   "source": [
    "- 이 3차원 텐서의 구조를 이해하지 않으면, 복잡한 인공 신경망의 입력값 및 출력값을 이해하는 것이 쉽지 않다."
   ]
  },
  {
   "cell_type": "code",
   "execution_count": 8,
   "metadata": {
    "colab": {
     "base_uri": "https://localhost:8080/",
     "height": 53
    },
    "colab_type": "code",
    "id": "hvHWB68Mn9kW",
    "outputId": "6de4a3f1-1931-4e8c-bb75-8529f94e0bf3"
   },
   "outputs": [
    {
     "name": "stdout",
     "output_type": "stream",
     "text": [
      "3\n",
      "(2, 3, 5)\n"
     ]
    }
   ],
   "source": [
    "d = np.array([\n",
    "              [\n",
    "               [1,   2,  3,  4,  5],\n",
    "               [6,   7,  8,  9, 10],\n",
    "               [11, 12, 13, 14, 15]\n",
    "              ],\n",
    "              [\n",
    "               [16, 17, 18, 19, 20],\n",
    "               [21, 22, 23, 24, 25],\n",
    "               [26, 27, 28, 29, 30]\n",
    "              ]\n",
    "])\n",
    "\n",
    "print(d.ndim)\n",
    "print(d.shape)"
   ]
  },
  {
   "cell_type": "markdown",
   "metadata": {
    "colab_type": "text",
    "id": "x3_f54JnoqtY"
   },
   "source": [
    "- 2개의 큰 데이터가 있다.\n",
    "- 그 각각은 3개의 더 작은 데이터로 구성됨\n",
    "- 그 3개의 데이터는 또한 더 작은 5개의 데이터로 구성되어 있다."
   ]
  },
  {
   "cell_type": "markdown",
   "metadata": {
    "colab_type": "text",
    "id": "x50cmZtPrqRz"
   },
   "source": [
    "<br>\n",
    "\n",
    "**자연어 처리에서의 3D 텐서의 사용**\n",
    "\n",
    "- 자연어 처리에서 특히 자주 보게 되는 것이 이 3D 텐서이다.\n",
    "- 3D 텐서는 시퀀스 데이터(sequence data)를 표현할 때 자주 사용되기 때문이다.\n",
    "  - 시퀀스 데이터 : 단어의 시퀀스를 의미\n",
    "  - 시퀀스 : 문장이나 문서, 뉴스 기사 등의 텍스트\n",
    "  - 이 경우 3D 텐서는 `(samples, timesteps, word_dim)`이 된다.\n",
    "- 또는 일괄로 처리하기 위해 데이터를 묶는 단위인 **배치**의 개념을 적용\n",
    "  - 이 경우 3D 텐서는 `(batch_size, timesteps, word_dim)`이 된다."
   ]
  },
  {
   "cell_type": "markdown",
   "metadata": {
    "colab_type": "text",
    "id": "k6Wsh75NsPFA"
   },
   "source": [
    "- `samples` / `batch_size` : 데이터의 개수\n",
    "- `timesteps` : 시퀀스의 길이\n",
    "- `word_dim` : 단어를 표현하는 벡터의 차원을 의미"
   ]
  },
  {
   "cell_type": "markdown",
   "metadata": {
    "colab_type": "text",
    "id": "tgDxJF0Asafn"
   },
   "source": [
    "<br>\n",
    "\n",
    "**자연어 처리에서의 3D 텐서의 개념 사용 예시**\n",
    "\n",
    "- 다음과 같은 훈련 데이터가 있다고 하자.\n",
    "\n",
    "> 문서1 : I like NLP  \n",
    "문서2 : I like DL  \n",
    "문서3 : DL is AI\n",
    "\n",
    "- 이를 인공 신경망의 모델의 입력으로 사용하기 위해서는 각 단어를 벡터화해야 한다.\n",
    "- 단어를 벡터화하는 방법\n",
    "  - 원-핫 인코딩\n",
    "  - 워드 임베딩\n",
    "- 원-핫 인코딩으로 모든 단어를 벡터화 한다.\n",
    "\n",
    "| 단어 | One-hot vector |\n",
    "| :--- | :------------- |\n",
    "| I    | `[1 0 0 0 0 0]`  |\n",
    "| like | `[0 1 0 0 0 0]`  |\n",
    "| NLP  | `[0 0 1 0 0 0]`  |\n",
    "| DL   | `[0 0 0 1 0 0]`  |\n",
    "| is   | `[0 0 0 0 1 0]`  |\n",
    "| AI   | `[0 0 0 0 0 1]`  |\n",
    "\n",
    "- 그럼 기존에 있던 훈련 데이터를 모두 원-핫 벡터로 바꿔서 인공 신경망의 입력으로 한 꺼번에 사용한다고 하면 다음과 같다.\n",
    "\n",
    "```\n",
    "[\n",
    "    [\n",
    "        [1, 0, 0, 0, 0, 0],\n",
    "        [0, 1, 0, 0, 0, 0],\n",
    "        [0, 0, 1, 0, 0, 0],\n",
    "    ],\n",
    "    [\n",
    "        [1, 0, 0, 0, 0, 0],\n",
    "        [0, 1, 0, 0, 0, 0],\n",
    "        [0, 0, 0, 1, 0, 0],\n",
    "    ],\n",
    "    [\n",
    "        [0, 0, 0, 1, 0, 0],\n",
    "        [0, 0, 0, 0, 1, 0],\n",
    "        [0, 0, 0, 0, 0, 1],\n",
    "    ]\n",
    "]\n",
    "```\n",
    "\n",
    "- 이는 `(3, 3, 6)`의 크기를 가지는 3D 텐서이다."
   ]
  },
  {
   "cell_type": "markdown",
   "metadata": {
    "colab_type": "text",
    "id": "7LZ_-xCitoRW"
   },
   "source": [
    "<br>\n",
    "\n",
    "### 6.2.5 그 이상의 텐서\n",
    "\n",
    "- 3차원 텐서를 배열로 합치면 4차원 텐서가 된다.\n",
    "- 4차원 텐서를 배열로 합치면 5차원 텐서가 된다.\n",
    "- 이런 식으로 텐서는 배열로서 계속해서 확장될 수 있다."
   ]
  },
  {
   "cell_type": "markdown",
   "metadata": {
    "colab_type": "text",
    "id": "ON7LJCBkt1yT"
   },
   "source": [
    "- 다음은 각 텐서를 도형으로 시각화한 모습을 보여준다.\n",
    "![](https://wikidocs.net/images/page/37001/tensor.png)"
   ]
  },
  {
   "cell_type": "markdown",
   "metadata": {
    "colab_type": "text",
    "id": "5Ipd2JqJt7-T"
   },
   "source": [
    "<br>\n",
    "\n",
    "### 6.2.6 케라스에서의 텐서\n",
    "\n",
    "- 앞서 Numpy로 각 텐서의 `ndim`(차원)과 `shape`(크기)를 출력했다.\n",
    "- ex) 위의 예제에서는 3차원 텐서는 3차원(3-dim)이고, 크기는 `(2, 3, 5)` 였다.\n",
    "- 케라스에서는 입력의 크기(`shape`)를 인자로 줄 때 `input_shape`라는 인자를 사용한다."
   ]
  },
  {
   "cell_type": "markdown",
   "metadata": {
    "colab_type": "text",
    "id": "EzxpEjaiuWda"
   },
   "source": [
    "<br>\n",
    "\n",
    "#### 6.2.6.1 `input_shape`\n",
    "\n",
    "- `input_shape`는 배치 크기를 제외하고 차원을 지정한다.\n",
    "- ex) `input_shape(6,5)` 인자값 사용 및 배치 크기 `32` 지정\n",
    "  - 이 텐서의 크기는 `(32, 6, 5)`를 의미한다."
   ]
  },
  {
   "cell_type": "markdown",
   "metadata": {
    "colab_type": "text",
    "id": "UmRThI_NvfBK"
   },
   "source": [
    "<br>\n",
    "\n",
    "#### 6.2.6.2 `batch_input_shape`\n",
    "\n",
    "- 만약 배치 크기까지 지정해주고 싶다면 다음과 같이 사용할 수 있다.\n",
    "- `batch_input_shape=(8, 2, 10)`\n",
    "  - 이 텐서의 크기는 `(8, 2, 10)`을 의미한다."
   ]
  },
  {
   "cell_type": "markdown",
   "metadata": {
    "colab_type": "text",
    "id": "fMn5M2nJvuYR"
   },
   "source": [
    "<br>\n",
    "\n",
    "#### 6.2.6.3 그 외의 인자들\n",
    "\n",
    "- `input_dim` : 입력의 속성 수를 의미\n",
    "- `input_length` : 시퀀스 데이터의 길이를 의미 "
   ]
  },
  {
   "cell_type": "markdown",
   "metadata": {
    "colab_type": "text",
    "id": "XXjbImRev3pn"
   },
   "source": [
    "- 사실 `input_shape`의 두 개의 인자는 `(input_length, input_dim)` 이라고 볼 수 있다."
   ]
  },
  {
   "cell_type": "markdown",
   "metadata": {
    "colab_type": "text",
    "id": "QrbEzfgcwEKS"
   },
   "source": [
    "<br>\n",
    "\n",
    "## 6.3 벡터와 행렬의 연산"
   ]
  },
  {
   "cell_type": "code",
   "execution_count": null,
   "metadata": {
    "colab": {},
    "colab_type": "code",
    "id": "4TNV-13jwHc4"
   },
   "outputs": [],
   "source": [
    "import numpy as np"
   ]
  },
  {
   "cell_type": "markdown",
   "metadata": {
    "colab_type": "text",
    "id": "NrdrdR5v0dks"
   },
   "source": [
    "<br>\n",
    "\n",
    "### 6.3.1 벡터와 행렬의 덧셈과 뺄셈\n",
    "\n",
    "#### 6.3.1.1 요소별 연산\n",
    "\n",
    "- 같은 크기의 두 개의 벡터나 행렬은 덧셈과 뺄셈을 할 수 있다.\n",
    "- 이 경우 같은 위치의 원소끼리 연산하면 된다.\n",
    "- 이러한 연산을 **요소별(element-wise) 연산**이라고 한다."
   ]
  },
  {
   "cell_type": "markdown",
   "metadata": {
    "colab_type": "text",
    "id": "RVlAg5Vx0rvh"
   },
   "source": [
    "<br>\n",
    "\n",
    "#### 6.3.1.2 벡터의 덧셈과 뺄셈\n",
    "\n",
    "- 다음과 같이 a와 b라는 두 개의 벡터가 있다고 하자\n",
    "\n",
    "$\n",
    "\\qquad\n",
    "a =  \n",
    "\\begin{bmatrix}\n",
    "8 \\\\\n",
    "4 \\\\\n",
    "5\n",
    "\\end{bmatrix}\n",
    "\\qquad\n",
    "b =  \n",
    "\\begin{bmatrix}\n",
    "1 \\\\\n",
    "2 \\\\\n",
    "3\n",
    "\\end{bmatrix}\n",
    "$"
   ]
  },
  {
   "cell_type": "markdown",
   "metadata": {
    "colab_type": "text",
    "id": "VuvwNKNB1ROm"
   },
   "source": [
    "- 이 때 두 벡터 a와 b의 덧셈과 뺄셈은 다음과 같다.\n",
    "\n",
    "$\n",
    "\\qquad\n",
    "a + b =  \n",
    "\\begin{bmatrix}\n",
    "8 \\\\\n",
    "4 \\\\\n",
    "5 \\\\\n",
    "\\end{bmatrix}\n",
    "+\n",
    "\\begin{bmatrix}\n",
    "1 \\\\\n",
    "2 \\\\\n",
    "3 \\\\\n",
    "\\end{bmatrix}\n",
    "=\n",
    "\\begin{bmatrix}\n",
    "9 \\\\\n",
    "6 \\\\\n",
    "8 \\\\\n",
    "\\end{bmatrix}\n",
    "$\n",
    "\n",
    "$\n",
    "\\qquad\n",
    "a - b =  \n",
    "\\begin{bmatrix}\n",
    "8 \\\\\n",
    "4 \\\\\n",
    "5 \\\\\n",
    "\\end{bmatrix}\n",
    "-\n",
    "\\begin{bmatrix}\n",
    "1 \\\\\n",
    "2 \\\\\n",
    "3 \\\\\n",
    "\\end{bmatrix}\n",
    "=\n",
    "\\begin{bmatrix}\n",
    "7 \\\\\n",
    "2 \\\\\n",
    "2 \\\\\n",
    "\\end{bmatrix}\n",
    "$"
   ]
  },
  {
   "cell_type": "markdown",
   "metadata": {
    "colab_type": "text",
    "id": "JjCuv2Z81m5U"
   },
   "source": [
    "- Numpy를 이용하여 이를 구현할 수 있다."
   ]
  },
  {
   "cell_type": "code",
   "execution_count": 10,
   "metadata": {
    "colab": {
     "base_uri": "https://localhost:8080/",
     "height": 53
    },
    "colab_type": "code",
    "id": "V5tJF5tU1pfU",
    "outputId": "046d37f5-8330-4f70-a622-717712d13e1b"
   },
   "outputs": [
    {
     "name": "stdout",
     "output_type": "stream",
     "text": [
      "[9 6 8]\n",
      "[7 2 2]\n"
     ]
    }
   ],
   "source": [
    "a = np.array([8, 4, 5])\n",
    "b = np.array([1, 2, 3])\n",
    "\n",
    "print(a+b)\n",
    "print(a-b)"
   ]
  },
  {
   "cell_type": "markdown",
   "metadata": {
    "colab_type": "text",
    "id": "UmMmNeRZ1uYV"
   },
   "source": [
    "<br>\n",
    "\n",
    "#### 6.3.1.3 행렬의 덧셈과 뺄셈\n",
    "\n",
    "- 다음과 같이 a와 b라는 두 개의 행렬이 있다고 하였을 때, 두 행렬 a와 b의 덧셈과 뺄셈은 아래와 같다.\n",
    "\n",
    "$\n",
    "\\qquad\n",
    "a =  \n",
    "\\begin{bmatrix}\n",
    "10 & 20 & 30 & 40 \\\\\n",
    "50 & 60 & 70 & 80 \\\\\n",
    "\\end{bmatrix}\n",
    "\\qquad\n",
    "b =  \n",
    "\\begin{bmatrix}\n",
    "5 & 6 & 7 & 8 \\\\\n",
    "1 & 2 & 3 & 4 \\\\\n",
    "\\end{bmatrix}\n",
    "$"
   ]
  },
  {
   "cell_type": "markdown",
   "metadata": {
    "colab_type": "text",
    "id": "dDhPBVO32gs_"
   },
   "source": [
    "\n",
    "$\n",
    "\\qquad\n",
    "a + b =  \n",
    "\\begin{bmatrix}\n",
    "10 & 20 & 30 & 40 \\\\\n",
    "50 & 60 & 70 & 80 \\\\\n",
    "\\end{bmatrix}\n",
    "+\n",
    "\\begin{bmatrix}\n",
    "5 & 6 & 7 & 8 \\\\\n",
    "1 & 2 & 3 & 4 \\\\\n",
    "\\end{bmatrix}\n",
    "=\n",
    "\\begin{bmatrix}\n",
    "15 & 26 & 37 & 48 \\\\\n",
    "51 & 62 & 73 & 84 \\\\\n",
    "\\end{bmatrix}\n",
    "$"
   ]
  },
  {
   "cell_type": "markdown",
   "metadata": {
    "colab_type": "text",
    "id": "9YYjvN3Y2jjN"
   },
   "source": [
    "$\n",
    "\\qquad\n",
    "a - b =  \n",
    "\\begin{bmatrix}\n",
    "10 & 20 & 30 & 40 \\\\\n",
    "50 & 60 & 70 & 80 \\\\\n",
    "\\end{bmatrix}\n",
    "-\n",
    "\\begin{bmatrix}\n",
    "5 & 6 & 7 & 8 \\\\\n",
    "1 & 2 & 3 & 4 \\\\\n",
    "\\end{bmatrix}\n",
    "=\n",
    "\\begin{bmatrix}\n",
    "5 & 14 & 23 & 32 \\\\\n",
    "49 & 58 & 67 & 76 \\\\\n",
    "\\end{bmatrix}\n",
    "$"
   ]
  },
  {
   "cell_type": "markdown",
   "metadata": {
    "colab_type": "text",
    "id": "aZnkzhSD2krd"
   },
   "source": [
    "- Numpy를 이용하여 이를 구현할 수 있다."
   ]
  },
  {
   "cell_type": "code",
   "execution_count": 11,
   "metadata": {
    "colab": {
     "base_uri": "https://localhost:8080/",
     "height": 89
    },
    "colab_type": "code",
    "id": "jhqM6OrH2ouF",
    "outputId": "87ab11bb-14ea-4fdd-8eeb-a240db19d2bc"
   },
   "outputs": [
    {
     "name": "stdout",
     "output_type": "stream",
     "text": [
      "[[15 26 37 48]\n",
      " [51 62 73 84]]\n",
      "[[ 5 14 23 32]\n",
      " [49 58 67 76]]\n"
     ]
    }
   ],
   "source": [
    "import numpy as np\n",
    "a = np.array([[10, 20, 30, 40], [50, 60, 70, 80]])\n",
    "b = np.array([[5, 6, 7, 8],[1, 2, 3, 4]])\n",
    "print(a+b)\n",
    "print(a-b)"
   ]
  },
  {
   "cell_type": "markdown",
   "metadata": {
    "colab_type": "text",
    "id": "UTjFdP3V2p-2"
   },
   "source": [
    "<br>\n",
    "\n",
    "### 6.3.2 벡터의 내적과 행렬의 곱셈"
   ]
  },
  {
   "cell_type": "markdown",
   "metadata": {
    "colab_type": "text",
    "id": "vBBXixcZ2wqE"
   },
   "source": [
    "#### 6.3.2.1 벡터의 점곱(dot product) 또는 내적(inner product)\n",
    "\n",
    "- 벡터의 내적은 연산을 점(dot)으로 표현하면 $a \\cdot b$와 같이 표현하기도 한다."
   ]
  },
  {
   "cell_type": "markdown",
   "metadata": {
    "colab_type": "text",
    "id": "bvUJDTKz3MFL"
   },
   "source": [
    "- 내적이 성립하기 위한 조건\n",
    "  - 두 벡터의 차원이 같아야 한다.\n",
    "  - 두 벡터 중 앞의 벡터가 행벡터(가로 방향 벡터)이고 뒤의 벡터가 열벡터(세로 방향 벡터)여야 한다."
   ]
  },
  {
   "cell_type": "markdown",
   "metadata": {
    "colab_type": "text",
    "id": "sUVQTifC3W0q"
   },
   "source": [
    "- 아래는 두 벡터의 차원이 같고 곱셈의 대상이 각각 행벡터이고 열벡터일 때 내적이 이루어지는 모습을 보여준다.\n",
    "- 벡터의 내적의 결과는 스칼라가 된다는 특징이 있다.\n",
    "\n",
    "$\n",
    "\\qquad\n",
    "a \\cdot b = \n",
    "\\begin{bmatrix}\n",
    "1 & 2 & 3\n",
    "\\end{bmatrix}\n",
    "\\begin{bmatrix}\n",
    "4 \\\\\n",
    "5 \\\\\n",
    "6\n",
    "\\end{bmatrix}\n",
    "=\n",
    "1 \\times 4 + 2 \\times 5 + 3 \\times 6 = 32 (스칼라)\n",
    "$"
   ]
  },
  {
   "cell_type": "markdown",
   "metadata": {
    "colab_type": "text",
    "id": "LGqvBqGY3045"
   },
   "source": [
    "- Numpy를 이용하여 이를 구현할 수 있다."
   ]
  },
  {
   "cell_type": "code",
   "execution_count": 12,
   "metadata": {
    "colab": {
     "base_uri": "https://localhost:8080/",
     "height": 35
    },
    "colab_type": "code",
    "id": "XM8soMCZ33Kp",
    "outputId": "78477abd-9e49-48c5-c33c-650942582b86"
   },
   "outputs": [
    {
     "name": "stdout",
     "output_type": "stream",
     "text": [
      "32\n"
     ]
    }
   ],
   "source": [
    "a = np.array([1, 2, 3])\n",
    "b = np.array([4, 5, 6])\n",
    "print(np.dot(a,b))"
   ]
  },
  {
   "cell_type": "markdown",
   "metadata": {
    "colab_type": "text",
    "id": "Fcp8V-e334S5"
   },
   "source": [
    "<br>\n",
    "\n",
    "#### 6.3.2.2 행렬의 곱셈\n",
    "\n",
    "- 행렬의 곱셈을 이해하기 위해서는 벡터의 내적을 이해해야 한다.\n",
    "- 행렬의 곱셈은 왼쪽 행렬의 행벡터(가로 방향 벡터)와 오른쪽 행렬의 열벡터(세로 방향 벡터)의 내적(대응하는 원소들의 곱의 합)이 결과 행렬의 원소가 되는 것으로 이루어진다."
   ]
  },
  {
   "cell_type": "markdown",
   "metadata": {
    "colab_type": "text",
    "id": "K3xIEGab4Esg"
   },
   "source": [
    "- 다음과 같이 a와 b라는 두 개의 행렬이 있다고 하였을 때, 두 행렬 a와 b의 곱셈은 아래와 같다.\n",
    "\n",
    "$\n",
    "\\qquad\n",
    "a =  \n",
    "\\begin{bmatrix}\n",
    "1 & 3 \\\\\n",
    "2 & 4 \\\\\n",
    "\\end{bmatrix}\n",
    "\\qquad\n",
    "b =  \n",
    "\\begin{bmatrix}\n",
    "5 & 7 \\\\\n",
    "6 & 8 \\\\\n",
    "\\end{bmatrix}\n",
    "$"
   ]
  },
  {
   "cell_type": "markdown",
   "metadata": {
    "colab_type": "text",
    "id": "I0El2au94HLI"
   },
   "source": [
    "$\n",
    "\\qquad\n",
    "ab =  \n",
    "\\begin{bmatrix}\n",
    "1 & 3 \\\\\n",
    "2 & 4 \\\\\n",
    "\\end{bmatrix}\n",
    "\\begin{bmatrix}\n",
    "5 & 7 \\\\\n",
    "6 & 8 \\\\\n",
    "\\end{bmatrix}\n",
    "= \n",
    "\\begin{bmatrix}\n",
    "1 \\times 5 + 3 \\times 6 & 1 \\times 7 + 3 \\times 8 \\\\\n",
    "2 \\times 5 + 4 \\times 6 & 2 \\times 7 + 4 \\times 8 \\\\\n",
    "\\end{bmatrix}\n",
    "=\n",
    "\\begin{bmatrix}\n",
    "23 & 31 \\\\\n",
    "34 & 46 \\\\\n",
    "\\end{bmatrix}\n",
    "$"
   ]
  },
  {
   "cell_type": "markdown",
   "metadata": {
    "colab_type": "text",
    "id": "3qrJE5X_423W"
   },
   "source": [
    "- Numpy를 이용하여 이를 구현할 수 있다."
   ]
  },
  {
   "cell_type": "code",
   "execution_count": 13,
   "metadata": {
    "colab": {
     "base_uri": "https://localhost:8080/",
     "height": 53
    },
    "colab_type": "code",
    "id": "sLlIxyvK45Zl",
    "outputId": "b687500b-81bf-456e-8d97-0470b1f3b99a"
   },
   "outputs": [
    {
     "name": "stdout",
     "output_type": "stream",
     "text": [
      "[[23 31]\n",
      " [34 46]]\n"
     ]
    }
   ],
   "source": [
    "import numpy as np\n",
    "a = np.array([[1, 3],\n",
    "              [2, 4]])\n",
    "b = np.array([[5, 7],\n",
    "              [6, 8]])\n",
    "\n",
    "print(np.matmul(a,b))"
   ]
  },
  {
   "cell_type": "markdown",
   "metadata": {
    "colab_type": "text",
    "id": "8aY3XYpM5IR_"
   },
   "source": [
    "<br>\n",
    "\n",
    "### 6.3.3 벡터와 행렬의 곱 or 행렬과 벡터의 곱\n",
    "\n",
    "- 벡터와 행렬의 곱 또는 행렬과 벡터의 곱 또한 행렬의 곰셈과 동일한 원리로 이루어진다."
   ]
  },
  {
   "cell_type": "markdown",
   "metadata": {
    "colab_type": "text",
    "id": "2YDJT45M5X5m"
   },
   "source": [
    "<br>\n",
    "\n",
    "## 6.4 다중 선형 회귀 행렬 연산으로 이해하기\n",
    "\n",
    "- 독립 변수가 2개 이상일 때, 1개의 종속 변수를 예측하는 문제를 행렬의 연산으로 표현한다면 어떻게 될까?\n",
    "- 다중 선형 회귀나 다중 로지스틱 회귀가 이러한 연산이 사용된다.\n",
    "- 여기서는 다중 선형 회귀를 통해 예를 사용한다."
   ]
  },
  {
   "cell_type": "markdown",
   "metadata": {
    "colab_type": "text",
    "id": "ijeZAWOa5evu"
   },
   "source": [
    "<br>\n",
    "\n",
    "### 6.4.1 다중 선형 회귀 수식\n",
    "\n",
    "- 독립 변수 $x$가 $n$개인 다음과 같은 다중 선형 회귀 수식은 다음과 같다.\n",
    "\n",
    "$\n",
    "\\qquad\n",
    "y = w_1x_1 + w_2x_2 + w_3x_3 + ... + w_nx_n + b\n",
    "$"
   ]
  },
  {
   "cell_type": "markdown",
   "metadata": {
    "colab_type": "text",
    "id": "wILp0p1l7P_T"
   },
   "source": [
    "<br>\n",
    "\n",
    "### 6.4.2 입력 벡터와 가중치 벡터의 내적 표현\n",
    "\n",
    "- 위 수식은 입력 벡터 $ [ x_1, \\cdots, x_n ] $와 가중치 벡터 $[w_1,\\cdots,w_n]$의 내적으로 표현할 수 있다.\n",
    "\n",
    "$\n",
    "\\qquad\n",
    "y = \n",
    "\\begin{bmatrix}\n",
    "x_1 & x_2 & x_3 & \\cdots & x_n\n",
    "\\end{bmatrix}\n",
    "\\begin{bmatrix}\n",
    "w_1 \\\\\n",
    "w_2 \\\\\n",
    "w_3 \\\\\n",
    "\\vdots \\\\\n",
    "w_n \\\\\n",
    "\\end{bmatrix}\n",
    "+ b = \n",
    "w_1x_1 + w_2x_2 + w_3x_3 + ... + w_nx_n + b\n",
    "$"
   ]
  },
  {
   "cell_type": "markdown",
   "metadata": {
    "colab_type": "text",
    "id": "lUSWrmkS9Fvf"
   },
   "source": [
    "<br>\n",
    "\n",
    "### 6.4.3 가중치 벡터와 입력 벡터의 내적 표현\n",
    "\n",
    "- 또는 가중치 벡터 $[w_1,\\cdots,w_n]$와 입력 벡터 $ [ x_1, \\cdots, x_n ] $의 내적으로 표현할 수 있다.\n",
    "\n",
    "$\n",
    "\\qquad\n",
    "y = \n",
    "\\begin{bmatrix}\n",
    "w_1 & w_2 & w_3 & \\cdots & w_n\n",
    "\\end{bmatrix}\n",
    "\\begin{bmatrix}\n",
    "x_1 \\\\\n",
    "x_2 \\\\\n",
    "x_3 \\\\\n",
    "\\vdots \\\\\n",
    "x_n \\\\\n",
    "\\end{bmatrix}\n",
    "+ b = \n",
    "w_1x_1 + w_2x_2 + w_3x_3 + ... + w_nx_n + b\n",
    "$"
   ]
  },
  {
   "cell_type": "markdown",
   "metadata": {
    "colab_type": "text",
    "id": "EjttJgIH9W1n"
   },
   "source": [
    "<br>\n",
    "\n",
    "### 6.4.4 행렬의 곱셈으로 표현\n",
    "\n"
   ]
  }
 ],
 "metadata": {
  "colab": {
   "collapsed_sections": [],
   "name": "Ch07_v06_Vector-Matrix-Operation.ipynb",
   "provenance": []
  },
  "kernelspec": {
   "display_name": "Python 3",
   "language": "python",
   "name": "python3"
  },
  "language_info": {
   "codemirror_mode": {
    "name": "ipython",
    "version": 3
   },
   "file_extension": ".py",
   "mimetype": "text/x-python",
   "name": "python",
   "nbconvert_exporter": "python",
   "pygments_lexer": "ipython3",
   "version": "3.6.9"
  }
 },
 "nbformat": 4,
 "nbformat_minor": 4
}
