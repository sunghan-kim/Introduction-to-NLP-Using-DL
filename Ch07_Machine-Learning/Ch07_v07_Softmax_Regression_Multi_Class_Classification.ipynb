{
 "cells": [
  {
   "cell_type": "markdown",
   "metadata": {
    "colab_type": "text",
    "id": "cbfulz6f2GbU"
   },
   "source": [
    "# Ch07. 머신 러닝(Machine Learning) 개요"
   ]
  },
  {
   "cell_type": "markdown",
   "metadata": {
    "colab_type": "text",
    "id": "ZFM3_Olt2R0R"
   },
   "source": [
    "# v07. 소프트맥스 회귀(Softmax Regression) - 다중 클래스 분류"
   ]
  },
  {
   "cell_type": "markdown",
   "metadata": {
    "colab_type": "text",
    "id": "msMggOBt2XKC"
   },
   "source": [
    "- 3개 이상의 선택지 중에서 1개를 고르는 다중 클래스 분류 문제를 위한 소프트맥스 회귀(Softmax Regression)에 대해서 학습"
   ]
  },
  {
   "cell_type": "markdown",
   "metadata": {
    "colab_type": "text",
    "id": "aXzkJxi_2gfh"
   },
   "source": [
    "<br>\n",
    "\n",
    "## 7.1 다중 클래스 분류 (Multi-class Classification)\n",
    "\n",
    "- 세 개 이상의 선택지 중 하나를 고르는 문제를 다중 클래스 분류라고 한다.\n",
    "- 아래의 문제는 꽃받침 길이, 꽃받침 넓이, 꽃잎 길이, 꽃잎 넓이로부터 setosa, versicolor, virginica라는 3개의 품종 중 어떤 품종인지를 예측하는 문제로 전형적인 다중 클래스 분류 문제이다.\n",
    "\n",
    "| SepalLengthCm($x_1$) | SepalWidthCm($x_2$) | PetalLengthCm($x_3$) | PetalWidthCm($x_4$) | Species($y$) |\n",
    "| :------------------- | :------------------ | :------------------- | :------------------ | :----------- |\n",
    "| 5.1                  | 3.5                 | 1.4                  | 0.2                 | setosa       |\n",
    "| 4.9                  | 3.0                 | 1.4                  | 0.2                 | setosa       |\n",
    "| 5.8                  | 2.6                 | 4.0                  | 1.2                 | versicolor   |\n",
    "| 6.7                  | 3.0                 | 5.2                  | 2.3                 | virginica    |\n",
    "| 5.6                  | 2.8                 | 4.9                  | 2.0                 | virginica    |"
   ]
  },
  {
   "cell_type": "markdown",
   "metadata": {
    "colab_type": "text",
    "id": "sfKywl2m4otn"
   },
   "source": [
    "<br>\n",
    "\n",
    "### 7.1.1 로지스틱 회귀에서의 시그모이드 함수\n",
    "\n",
    "- 앞서 로지스틱 회귀에서 사용한 시그모이드 함수는 입력된 데이터에 대해서 0과 1사이의 값을 출력하여 해당 값이 둘 중 하나에 속할 확률로 해석할 수 있도록 만들어 주었다.\n",
    "- 예를 들어 0이 정상 메일, 1이 스팸 메일이라고 정의해놓는다면 시그모이드 함수의 0과 1사이의 출력값을 스팸 메일일 확률로 해석할 수 있었다.\n",
    "- 확률값이 0.5를 넘으면 1에 더 가까우니까 스팸 메일로 판단하면 되고, 그 반대라면 정상 메일로 판단하면 됐다."
   ]
  },
  {
   "cell_type": "markdown",
   "metadata": {
    "colab_type": "text",
    "id": "--COJkLf5N1X"
   },
   "source": [
    "<br>\n",
    "\n",
    "### 7.1.2 세 개 이상의 정답지 중 고르는 문제에 시그모이드 함수 적용\n",
    "\n",
    "- 이번에는 세 개 이상의 정답지 중에서 고르는 문제이다.\n",
    "- 여기다가 앞서 배운 시그모이드 함수를 사용해본다고 하자.\n",
    "- 그렇게 하면, 첫 번째 정답일 확률은 0.7, 두 번째가 정답일 확률은 0.6, 세 번째 정답일 확률은 0.4 등과 같은 출력을 얻게 된다.\n",
    "- 그런데 이 전체 확률의 합계가 1이 되도록 하여 전체 정답지에 걸친 확률로 바꿀순 없을까?"
   ]
  },
  {
   "cell_type": "markdown",
   "metadata": {
    "colab_type": "text",
    "id": "2f6nmb1R6P6O"
   },
   "source": [
    "<br>\n",
    "\n",
    "### 7.1.3 소프트맥스 함수\n",
    "\n",
    "- 만약 하나의 샘플 데이터에 대한 예측값으로 모든 가능한 정답지에 대한 정답일 확률의 합이 1이 되도록 구살 수 있으면 어떨까?\n",
    "- 위의 예제에서 setosa, versicolor, virginica 3개 중에 하나의 정답을 골라야 하는 데 이 샘플 데이터가 setosa일 확률이 0.58, versicolor일 확률 0.22, virginica일 확률이 0.2와 같이 총 합이 1인 확률 분포를 구할 수 있게 해보는 것이다.\n",
    "- 이럴 때 사용할 수 있는 것이 **소프트맥스 함수**이다."
   ]
  },
  {
   "cell_type": "markdown",
   "metadata": {
    "colab_type": "text",
    "id": "j4gNEjZA6pDs"
   },
   "source": [
    "<br>\n",
    "\n",
    "## 7.2 소프트맥스 함수(Softmax function)"
   ]
  },
  {
   "cell_type": "markdown",
   "metadata": {
    "colab_type": "text",
    "id": "JkVtC6Zl6tYV"
   },
   "source": [
    "- 소프트맥스 함수는 분류해야 하는 정답지(클래스)의 총 개수를 k라고 할 때, k차원의 벡터를 입력받아 각 클래스에 대한 확률을 추정한다."
   ]
  },
  {
   "cell_type": "markdown",
   "metadata": {
    "colab_type": "text",
    "id": "Y0VLRHii61er"
   },
   "source": [
    "<br>\n",
    "\n",
    "### 7.2.1 소프트맥스 함수의 이해\n",
    "\n",
    "- $z_i$ : k차원의 벡터에서 i번째 원소\n",
    "- $p_i$ : i번째 클래스가 정답일 확률\n",
    "- 소프트맥스 함수는 $p_i$를 다음과 같이 정의한다.\n",
    "\n",
    "$\n",
    "\\qquad\n",
    "p_i = {{e^{z_i}} \\over {\\sum_{j=1}^k e^{z_j}} } \\quad for \\quad i=1, 2, \\cdots, k\n",
    "$"
   ]
  },
  {
   "cell_type": "markdown",
   "metadata": {
    "colab_type": "text",
    "id": "C3BFrlO97IOw"
   },
   "source": [
    "- 위에서 풀어야 하는 문제에 소프트맥스 함수를 차근차근 적용해보자.\n",
    "- 위에서 풀어야 하는 문제의 경우 k=3이므로 3차원 벡터 $z = [z_1 \\; z_2 \\; z_3]$의 입력을 받으면 소프트맥스 함수는 아래와 같은 출력을 리턴한다.\n",
    "\n",
    "$\n",
    "\\qquad\n",
    "softmax(z) = \\left[ {{e^{z_1} \\over \\sum_{j=1}^3 e^{z_j}}} \\; {{e^{z_2} \\over \\sum_{j=1}^3 e^{z_j}}} \\; {{e^{z_3} \\over \\sum_{j=1}^3 e^{z_j}}} \\right]\n",
    "= \\left[ p_1, \\, p_2, \\, p_3 \\right] = \\hat{y} = predicted \\; value\n",
    "$"
   ]
  },
  {
   "cell_type": "markdown",
   "metadata": {
    "colab_type": "text",
    "id": "TFxiJnzF8jry"
   },
   "source": [
    "- $p_1$, $p_2$, $p_3$\n",
    "  - 각각 1번 클래스가 정답일 확률, 2번 클래스가 정답일 확률, 3번 클래스가 정답일 확률\n",
    "  - 각각 0과 1사이의 값\n",
    "  - 총 합은 1이 된다."
   ]
  },
  {
   "cell_type": "markdown",
   "metadata": {
    "colab_type": "text",
    "id": "o6rueBvj800L"
   },
   "source": [
    "- 여기서 분류하고자 하는 3개의 클래스는 virginica, setosa, versicolor이다.\n",
    "- 그러므로 이는 결국 주어진 입력이 virginica일 확률, setosa일 확률, versicolor일 확률을 나타내는 값을 의미한다.\n",
    "- 여기서는 i가 1일 때는 virginica일 확률을 나타내고, 2일 때는 setosa일 확률, 3일 때는 versicolor일 확률이라고 지정했다고 하자.\n",
    "- 이 지정 순서는 문제를 풀고자 하는 사람의 무작위 선택이다."
   ]
  },
  {
   "cell_type": "markdown",
   "metadata": {
    "colab_type": "text",
    "id": "qVWFKrtv7Pjm"
   },
   "source": [
    "- 이에 따라 식을 문제에 맞게 다시 쓰면 아래와 같다.\n",
    "\n",
    "$\n",
    "\\qquad\n",
    "softmax(z) = \\left[ {{e^{z_1} \\over \\sum_{j=1}^3 e^{z_j}}} \\; {{e^{z_2} \\over \\sum_{j=1}^3 e^{z_j}}} \\; {{e^{z_3} \\over \\sum_{j=1}^3 e^{z_j}}} \\right]\n",
    "= \\left[ p_1, \\, p_2, \\, p_3 \\right] = \\left[ p_{virginica}, \\, p_{setosa}, \\, p_{versicolor} \\right]\n",
    "$"
   ]
  },
  {
   "cell_type": "markdown",
   "metadata": {
    "colab_type": "text",
    "id": "-wpujv3d80HG"
   },
   "source": [
    "- 분류하고자 하는 클래스가 k개 일 때, k차원의 벡터를 입력받아서 모든 벡터 원소의 값을 0과 1사이의 값으로 값을 변경하여 다시 k차원의 벡터를 리턴한다는 내용의 식이다."
   ]
  },
  {
   "cell_type": "markdown",
   "metadata": {
    "colab_type": "text",
    "id": "-ST-9El_9dFk"
   },
   "source": [
    "<br>\n",
    "\n",
    "### 7.2.2 그림을 통한 이해\n",
    "\n",
    "- 샘플 데이터를 1개씩 입력으로 받아 처리한다고 가정하자. (즉, 배치 크기가 1이다.)"
   ]
  },
  {
   "cell_type": "markdown",
   "metadata": {
    "colab_type": "text",
    "id": "-1-d8YCw9faH"
   },
   "source": [
    "$\\quad$ ![](https://wikidocs.net/images/page/35476/softmax1_final_final.PNG)\n",
    "\n",
    "- 위 그림에는 두 가지 질문이 있다."
   ]
  },
  {
   "cell_type": "markdown",
   "metadata": {
    "colab_type": "text",
    "id": "r8MCyIzDEQw6"
   },
   "source": [
    "**첫 번째 질문 : 소프트맥스 함수의 입력에 대한 질문**\n",
    "- 하나의 샘플 데이터는 4개의 독립 변수 $x$를 가진다.\n",
    "- 이는 모델이 4차원 벡터를 입력으로 받음을 의미한다.\n",
    "- 그런데 소프트맥스 함수의 입력으로 사용되는 벡터는 벡터의 차원이 분류하고자 하는 클래스의 개수가 되어야 한다.\n",
    "- 그러므로 **어떤 가중치 연산을 통해 3차원 벡터로 변환**되어야 한다.\n",
    "- 위 그림에서는 소프트맥스 함수의 입력으로 사용되는 3차원 벡터를 $Z$로 표현하였다."
   ]
  },
  {
   "cell_type": "markdown",
   "metadata": {
    "colab_type": "text",
    "id": "melcAC8wCeQN"
   },
   "source": [
    "<br>\n",
    "\n",
    "$\\quad$ ![](https://wikidocs.net/images/page/35476/softmaxbetween1and2.PNG)\n",
    "\n",
    "- 샘플 데이터 벡터를 소프트맥스 함수의 입력 벡터로 차원을 축소하는 방법은 간단하다.\n",
    "- 소프트맥스 함수의 입력 벡터 $Z$의 차원수만큼 결과값이 나오도록 가중치 곱을 진행한다.\n",
    "- 위의 그림에서 화살표는 총(4 x 3 = 12) 12개이며 전부 다른 가중치를 가지고, 학습 과정에서 점차적으로 오차를 최소화하는 가중치로 값이 변경된다."
   ]
  },
  {
   "cell_type": "markdown",
   "metadata": {
    "colab_type": "text",
    "id": "perEuK2eEBO8"
   },
   "source": [
    "<br>\n",
    "\n",
    "**두 번째 질문 : 오차 계산 방법에 대한 질문**\n",
    "\n",
    "- 소프트맥스 함수의 출력 : 분류하고자 하는 클래스의 개수만큼 차원을 가지는 벡터\n",
    "- 각 원소는 0과 1사이의 값을 가진다.\n",
    "- 이 각각은 특정 클래스가 정답일 확률을 나타낸다.\n",
    "  - 첫 번째 원소인 $p_1$ : virginica가 정답일 확률\n",
    "  - 두 번째 원소인 $p_2$ : setosa가 정답일 확률\n",
    "  - 세 번째 원소인 $p_3$ : versicolor가 정답일 확률\n",
    "- 그렇다면 이 예측값과 비교를 할 수 있는 **실제값의 표현 방법**이 있어야 한다.\n",
    "- 소프트맥스 회귀에서는 실제값을 **원-핫 벡터**로 표현한다."
   ]
  },
  {
   "cell_type": "markdown",
   "metadata": {
    "colab_type": "text",
    "id": "2QlH4Z73ENWq"
   },
   "source": [
    "<br>\n",
    "\n",
    "$\\quad$ ![](https://wikidocs.net/images/page/35476/softmax2_final.PNG)\n",
    "\n",
    "- 위의 그림은 소프트맥스 함수의 출력 벡터의 첫번째 원소 $p_1$가 virginica가 정답일 확률, 두번째 원소 $p_2$가 setosa가 정답일 확률, 세번째 원소 $p_3$가 versicolor가 정답일 확률을 의미한다고 하였을 때, 각 실제값의 정수 인코딩은 1, 2, 3이 되고 이에 원-핫 인코딩을 수행하여 실제값을 원-핫 벡터로 수치화한 것을 보여준다."
   ]
  },
  {
   "cell_type": "markdown",
   "metadata": {
    "colab_type": "text",
    "id": "fL-rGpN6FNI1"
   },
   "source": [
    "<br>\n",
    "\n",
    "$\\quad$ ![](https://wikidocs.net/images/page/35476/softmax4.PNG)\n",
    "\n",
    "- 예를 들어 현재 풀고 있는 샘플 데이터의 실제값이 setosa라면 setosa의 원-핫 벡터는 [0 1 0]이다.\n",
    "- 이 경우, 예측값과 실제값의 오차가 0이 되는 경우는 소프트맥스 함수의 결과가 [0 1 0]이 되는 경우이다.\n",
    "- 이 두 벡터의 오차를 계산하기 위해서 소프트맥스 회귀는 **비용 함수**로 **크로스 엔트로피 함수**를 사용한다."
   ]
  },
  {
   "cell_type": "markdown",
   "metadata": {
    "colab_type": "text",
    "id": "GQDWh4ybFga1"
   },
   "source": [
    "<br>\n",
    "\n",
    "$\\quad$ ![](https://wikidocs.net/images/page/35476/softmax5.PNG)\n",
    "\n",
    "- 이제 앞서 배운 선형 회귀나 로지스틱 회귀와 마찬가지로 오차로부터 가중치를 업데이트 한다."
   ]
  },
  {
   "cell_type": "markdown",
   "metadata": {
    "colab_type": "text",
    "id": "IObPlMawF0md"
   },
   "source": [
    "<br>\n",
    "\n",
    "$\\quad$ ![](https://wikidocs.net/images/page/35476/softmax6_final.PNG)\n",
    "\n",
    "- 더 정확히는 선형 회귀나 로지스틱 회귀와 마찬가지로 편향 또한 업데이트의 대상이 되는 매개 변수이다."
   ]
  },
  {
   "cell_type": "markdown",
   "metadata": {
    "colab_type": "text",
    "id": "kdJjqKZCGHkr"
   },
   "source": [
    "<br>\n",
    "\n",
    "- 소프트맥스 회귀를 벡터와 행렬 연산으로 이해해보자.\n",
    "- 입력을 특성(feature)의 수만큼의 차원을 가진 입력 벡터 $x$라고 하고, 가중치 행렬을 $W$, 편향을 $b$라고 하자.\n",
    "- 이때 소프트맥스 회귀에서 예측값을 구하는 과정을 행렬 연상으로 표현하면 아래와 같다.\n",
    "\n",
    "$\\quad$ ![](https://wikidocs.net/images/page/35476/softmax7.PNG)\n",
    "\n",
    "- 여기서 4는 특성의 수이며 3은 클래스의 개수에 해당된다."
   ]
  },
  {
   "cell_type": "markdown",
   "metadata": {
    "colab_type": "text",
    "id": "-0Kok6h2Gm6a"
   },
   "source": [
    "<br>\n",
    "\n",
    "## 7.3 원-핫 벡터의 무작위성"
   ]
  },
  {
   "cell_type": "markdown",
   "metadata": {
    "colab_type": "text",
    "id": "SX9eEazCSfvc"
   },
   "source": [
    "- 꼭 실제값을 원-핫 벡터로 표현해야만 다중 클래스 분류 문제를 풀 수 있는 것은 아니지만, 대부분의 다중 클래스 분류 문제가 각 클래스 간의 관계가 균등하다는 점에서 원-핫 벡터는 이러한 점을 표현할 수 있는 적절한 표현 방법이다."
   ]
  },
  {
   "cell_type": "markdown",
   "metadata": {
    "colab_type": "text",
    "id": "eTVjYes8Srag"
   },
   "source": [
    "<br>\n",
    "\n",
    "### 7.3.1 레이블링 방법 : 정수 인코딩\n",
    "\n",
    "- 다수의 클래스를 분류하는 문제에서는 이진 분류처럼 2개의 숫자 레이블이 아니라 클래스의 개수만큼 숫자 레이블이 필요하다.\n",
    "- 이때 직관적으로 생각해볼 수 있는 레이블링 방법 : 분류해야 할 클래스 전체에 정수 인코딩을 하는 것\n",
    "  - ex) 분류해야 할 레이블이 `{red, green, blue}`와 같이 3개일 때  \n",
    "  : 각각 0, 1, 2로 레이블을 한다.\n",
    "  - ex) 분류해야 할 클래스가 4개이고, 인덱스를 숫자 1부터 시작하고 싶을 때 (`{baby, child, adolescent, adult}`)  \n",
    "  : 1, 2, 3, 4로 레이블을 할 수 있다.\n",
    "- 그런데 일반적인 다중 클래스 분류 문제에서 레이블링 방법으로 위와 같은 정수 인코딩이 아니라 원-핫 인코딩을 사용하는 것이 보다 클래스의 성질을 잘 표현할 수 있다."
   ]
  },
  {
   "cell_type": "markdown",
   "metadata": {
    "colab_type": "text",
    "id": "75_prcj_h-I3"
   },
   "source": [
    "<br>\n",
    "\n",
    "### 7.3.2 정수 인코딩 레이블링의 문제점\n",
    "\n",
    "- Banana, Tomato, Apple라는 3개의 클래스가 존재하는 문제가 있다고 하자.\n",
    "- 레이블은 정수 인코딩을 사용하여 각각 1, 2, 3을 부여했다.\n",
    "- 손실 함수로 평균 제곱 오차 MSE를 사용하면 정수 인코딩이 어떤 오해를 불러 일으킬 수 있는 지 확인할 수 있다.\n",
    "- 아래의 식은 앞서 선형 회귀에서 배웠던 MSE를 다시 그대로 가져온 것이다.\n",
    "- $\\hat{y}$는 예측값을 의미한다.\n",
    "\n",
    "$\n",
    "\\qquad\n",
    "Loss \\; function = {1 \\over n} \\sum_i^n \\left( y_i - \\hat{y_i} \\right)^2\n",
    "$"
   ]
  },
  {
   "cell_type": "markdown",
   "metadata": {
    "colab_type": "text",
    "id": "HFFaXeJAix05"
   },
   "source": [
    "- 직관적인 오차 크기를 위해 평균을 구하는 수식은 제외하고 제곱 오차로만 판단해 본다."
   ]
  },
  {
   "cell_type": "markdown",
   "metadata": {
    "colab_type": "text",
    "id": "Yw1JNpLui2e2"
   },
   "source": [
    "- 실제값이 Tomato일 때 예측값이 Banana이었다면 제곱 오차는 다음과 같다.\n",
    "\n",
    "$\n",
    "\\qquad\n",
    "\\left( 2-1 \\right)^2 = 1\n",
    "$"
   ]
  },
  {
   "cell_type": "markdown",
   "metadata": {
    "colab_type": "text",
    "id": "6DYjrScQjBOg"
   },
   "source": [
    "- 실제값이 Apple일 때 예측값이 Banana이었다면 제곱 오차는 다음과 같다.\n",
    "\n",
    "$\n",
    "\\qquad\n",
    "\\left( 3-1 \\right)^2 = 4\n",
    "$"
   ]
  },
  {
   "cell_type": "markdown",
   "metadata": {
    "colab_type": "text",
    "id": "rFEuWbHbjEtW"
   },
   "source": [
    "- 즉, Banana와 Tomato 사이의 오차보다 Banana와 Apple의 오차가 더 크다.\n",
    "- 이는 기계에게 Banana가 Apple보다는 Tomato에 더 가깝다는 정부를 주는 것과 다름없다."
   ]
  },
  {
   "cell_type": "markdown",
   "metadata": {
    "colab_type": "text",
    "id": "JMkexubejO6A"
   },
   "source": [
    "- 더 많은 클래스에 대해서 정수 인코딩을 수행했다고 해보자.  \n",
    "```\n",
    "{Banana: 1, Tomato: 2, Apple: 3, Strawberry: 4, ..., Watermelon: 10}\n",
    "```\n",
    "- 이 정수 인코딩은 Banana가 Watermelon보다는 Tomato에 더 가깝다는 의미를 담고 있다.\n",
    "- 이는 사용자가 부여하고자 했던 정보가 아니다."
   ]
  },
  {
   "cell_type": "markdown",
   "metadata": {
    "colab_type": "text",
    "id": "RgD-NmOGjl_P"
   },
   "source": [
    "- 이러한 정수 인코딩의 순서 정보가 도움이 되는 분류 문제도 물론 있다.\n",
    "- 바로 각 클래스가 순서의 의미를 갖고 있어서 회귀를 통해서 분류 문제를 풀 수 있는 경우\n",
    "  - ex) `{baby, child, adolescent, adult}`\n",
    "  - ex) `{1층, 2층, 3층, 4층}`\n",
    "  - ex) `{10대, 20대, 30대, 40대}`"
   ]
  },
  {
   "cell_type": "markdown",
   "metadata": {
    "colab_type": "text",
    "id": "VwbbMdVvj6Ux"
   },
   "source": [
    "- 하지만 일반적인 분류 문제에서는 각 클래스는 순서의 의미를 갖고 있지 않다.\n",
    "- 그러므로 각 클래스 간의 오차는 균등한 것이 옳다.\n",
    "- 정수 인코딩과 달리 원-핫 인코딩은 분류 문제 모든 클래스 간의 관계를 균등하게 분배한다."
   ]
  },
  {
   "cell_type": "markdown",
   "metadata": {
    "colab_type": "text",
    "id": "nnUtXGnWkFxv"
   },
   "source": [
    "<br>\n",
    "\n",
    "### 7.3.3 레이블링 방법 : 원-핫 인코딩\n",
    "\n",
    "- 아래는 세 개의 카테고리에 대해서 원-핫 인코딩을 통해서 레이블을 인코딩했을 때 각 클래스 간의 제곱 오차가 균등함을 보여준다.\n",
    "\n",
    "$\n",
    "\\qquad\n",
    "\\left( (1, 0, 0) - (0, 1, 0) \\right)^2 = (1 - 0)^2 + (0 - 1)^2 + (0 - 0)^2 = 2\n",
    "$\n",
    "\n",
    "$\n",
    "\\qquad\n",
    "\\left( (1, 0, 0) - (0, 0, 1) \\right)^2 = (1 - 0)^2 + (0 - 0)^2 + (0 - 1)^2 = 2\n",
    "$"
   ]
  },
  {
   "cell_type": "markdown",
   "metadata": {
    "colab_type": "text",
    "id": "irrscqrjkskB"
   },
   "source": [
    "- 다르게 표현하면 모든 클래스에 대해서 원-핫 인코딩을 통해 얻은 원-핫 벡터들은 모든 쌍에 대해서 유클리드 거리를 구해도 전부 유클리드 거리가 동일하다.\n",
    "- 원-핫 벡터는 이처럼 각 클래스의 표현 방법이 무작위성을 가진다는 점을 표현할 수 있다.\n",
    "- 이러한 원-핫 벡터의 관계의 무작위성은 때로는 단어의 유사성을 구할 수 없다는 단점으로 언급되기도 한다."
   ]
  },
  {
   "cell_type": "markdown",
   "metadata": {
    "colab_type": "text",
    "id": "W2U5ACzfk-Gw"
   },
   "source": [
    "<br>\n",
    "\n",
    "## 7.4 비용 함수 (Cost function)\n",
    "\n",
    "- 소프트맥스 회귀에서는 비용 함수로 **크로스 엔트로피 함수**를 사용한다.\n",
    "- 여기서는 소프트맥수 회귀에서의 크로스 엔트로피 함수뿐만 아니라, 다양한 표기 방법에 대해서 이해해본다."
   ]
  },
  {
   "cell_type": "markdown",
   "metadata": {
    "colab_type": "text",
    "id": "d5j4e1lZlMPn"
   },
   "source": [
    "<br>\n",
    "\n",
    "### 7.4.1 크로스 엔트로피 함수\n",
    "\n",
    "- $y$ : 실제값\n",
    "- $k$ : 클래스의 개수로 정의\n",
    "- $y_j$ : 실제값 원-핫 벡터의 $j$번 째 인덱스를 의미\n",
    "- $p_j$ : 샘플 데이터가 $j$번 째 클래스일 확률 (표기에 따라서 $\\hat{y_j}$로 표현하기도 한다.)\n",
    "\n",
    "$\n",
    "\\qquad\n",
    "cost(W) = - \\sum_{j=1}^k y_i \\; log(p_j)\n",
    "$"
   ]
  },
  {
   "cell_type": "markdown",
   "metadata": {
    "colab_type": "text",
    "id": "chzMUaX9mU1X"
   },
   "source": [
    "- 이 함수가 왜 비용 함수로 적합한 지 확인해보자."
   ]
  },
  {
   "cell_type": "markdown",
   "metadata": {
    "colab_type": "text",
    "id": "trmNSrsEmYo6"
   },
   "source": [
    "- $c$ : 실제값 원-핫 벡터에서 1을 가진 원소의 인덱스  \n",
    "$\\rightarrow$ $p_c = 1$은 $\\hat{y}$가 $y$를 정확하게 예측한 경우가 된다.\n",
    "- 이를 식에 대입해보면  \n",
    "$\\rightarrow$ $-1 \\; log(1) = 0$ 이 되기 때문에, 결과적으로 $\\hat{y}$가 $y$를 정확하게 예측한 경우의 크로스 엔트로피 함수의 값은 0이 된다.\n",
    "- 즉, $- \\sum_{j=1}^k y_i \\; log(p_j)$ 이 값을 최소화 하는 방향으로 학습해야 한다."
   ]
  },
  {
   "cell_type": "markdown",
   "metadata": {
    "colab_type": "text",
    "id": "56YarQ0emETy"
   },
   "source": [
    "<br>\n",
    "\n",
    "- 이제 이를 $n$개의 전체 데이터에 대한 평균을 구한다고 하면 최종 비용 함수는 다음과 같다.\n",
    "\n",
    "$\n",
    "\\qquad\n",
    "cost(W) = - {1 \\over n} \\sum_{i=1}^n \\sum_{j=1}^k {y_j}^{(i)} log \\left( {p_j}^{(i)} \\right)\n",
    "$"
   ]
  },
  {
   "cell_type": "markdown",
   "metadata": {
    "colab_type": "text",
    "id": "d7sP7yyUmFVe"
   },
   "source": [
    "<br>\n",
    "\n",
    "### 7.4.2 이진 분류에서의 크로스 엔트로피\n",
    "\n",
    "- 로지스틱 회귀에서 배운 크로스 엔트로피 함수식과 달라보이지만, 본질적으로는 동일한 함수식이다.\n",
    "- 로지스틱 회귀의 크로스 엔트로피 함수식으로 부터 소프트맥스 회귀의 크로스 엔트로피 함수식을 도출해보자."
   ]
  },
  {
   "cell_type": "markdown",
   "metadata": {
    "colab_type": "text",
    "id": "i522iHWcnawo"
   },
   "source": [
    "$\n",
    "\\qquad\n",
    "cost(W) = - (y \\; log H(X) + (1-y) \\; log (1 - H(X)))\n",
    "$\n",
    "\n",
    "<br>\n",
    "\n",
    "- 위의 식은 앞서 로지스틱 회귀에서 배웠던 크로스 엔트로피의 함수식을 보여준다.\n",
    "- 위의 식에서 다음과 같이 치환을 하자\n",
    "  - $y \\; \\rightarrow \\; y_1$\n",
    "  - $y-1 \\; \\rightarrow \\; y_2$\n",
    "  - $H(X) \\; \\rightarrow \\; p_1$\n",
    "  - $1 - H(X) \\; \\rightarrow \\; p_2$"
   ]
  },
  {
   "cell_type": "markdown",
   "metadata": {
    "colab_type": "text",
    "id": "TNX8-z_3oUdg"
   },
   "source": [
    "- 이렇게 하면 결과적으로 아래의 식을 얻을 수 있다.\n",
    "\n",
    "$\n",
    "\\qquad\n",
    "{- ( y_1 \\; log(p_1) + y_2 \\; log(p_2))}\n",
    "$"
   ]
  },
  {
   "cell_type": "markdown",
   "metadata": {
    "colab_type": "text",
    "id": "RabT-sEloW01"
   },
   "source": [
    "- 이 식은 아래와 같이 표현할 수 있다.\n",
    "\n",
    "$\n",
    "\\qquad\n",
    "{- \\left( \\sum_{i=1}^2 y_i \\; log \\; p_i \\right)}\n",
    "$"
   ]
  },
  {
   "cell_type": "markdown",
   "metadata": {
    "colab_type": "text",
    "id": "ORvB_01oogIV"
   },
   "source": [
    "- 소프트맥스 회귀에서는 k의 값이 고정된 값이 아니므로 2를 k로 변경한다.\n",
    "\n",
    "$\n",
    "\\qquad\n",
    "{- \\left( \\sum_{i=1}^k y_i \\; log \\; p_i \\right)}\n",
    "$"
   ]
  },
  {
   "cell_type": "markdown",
   "metadata": {
    "colab_type": "text",
    "id": "QWJn4q4MoqEU"
   },
   "source": [
    "- 위의 식은 결과적으로 소프트맥스 회귀의 식과 동일하다."
   ]
  },
  {
   "cell_type": "markdown",
   "metadata": {
    "colab_type": "text",
    "id": "HN_I_hOmovOG"
   },
   "source": [
    "<br>\n",
    "\n",
    "- 역으로 소프트맥스 회귀에서 로지스틱 회귀의 크로스 엔트로피 함수식을 얻는 것은\n",
    "  - k를 2로 하고\n",
    "  - $y_1$과 $y_2$를 각각 $y$와 $1-y$로 치환하고\n",
    "  - $p_1$과 $p_2$를 각각 $H(X)$와 $1-H(X)$로 치환하면 된다."
   ]
  },
  {
   "cell_type": "markdown",
   "metadata": {
    "colab_type": "text",
    "id": "ks4fG8jcpCzw"
   },
   "source": [
    "<br>\n",
    "\n",
    "### 7.4.3 정리\n",
    "\n",
    "- 소프트맥스 함수의 최종 비용 함수에서 $k$가 2라고 가정하면 결국 로지스틱 회귀의 비용 함수와 같다.\n",
    "\n",
    "$\n",
    "\\qquad\n",
    "cost(W) = - {1 \\over n} \\sum_{i=1}^n \\sum_{j=1}^k {y_j}^{(i)} log \\left( {p_j}^{(i)} \\right)\n",
    "= - {1 \\over n} \\sum_{i=1}^n \\left[ y^{(i)} \\; log ( p^{(i)} ) + (1 - y^{(i)}) \\; log (1 - p^{(i)} ) \\right]\n",
    "$"
   ]
  },
  {
   "cell_type": "markdown",
   "metadata": {
    "colab_type": "text",
    "id": "sPyFsgLFpkmm"
   },
   "source": [
    "<br>\n",
    "\n",
    "## 7.5 소프트맥스 회귀 (Softmax Regression)\n",
    "\n",
    "- 이번에 실습할 데이터는 품종 분류 문제이다."
   ]
  },
  {
   "cell_type": "markdown",
   "metadata": {
    "colab_type": "text",
    "id": "bf-0dEWFptHt"
   },
   "source": [
    "<br>\n",
    "\n",
    "### 7.5.1 아이리스 품종 데이터에 대한 문제"
   ]
  },
  {
   "cell_type": "markdown",
   "metadata": {
    "colab_type": "text",
    "id": "d6RK3FDQtUbo"
   },
   "source": [
    "#### 7.5.1.1 데이터셋 로드"
   ]
  },
  {
   "cell_type": "code",
   "execution_count": 7,
   "metadata": {
    "colab": {
     "base_uri": "https://localhost:8080/",
     "height": 203
    },
    "colab_type": "code",
    "id": "9gZEeteUpxDV",
    "outputId": "cb2deef8-9fdc-4261-9794-891737b1bc39"
   },
   "outputs": [
    {
     "data": {
      "text/html": [
       "<div>\n",
       "<style scoped>\n",
       "    .dataframe tbody tr th:only-of-type {\n",
       "        vertical-align: middle;\n",
       "    }\n",
       "\n",
       "    .dataframe tbody tr th {\n",
       "        vertical-align: top;\n",
       "    }\n",
       "\n",
       "    .dataframe thead th {\n",
       "        text-align: right;\n",
       "    }\n",
       "</style>\n",
       "<table border=\"1\" class=\"dataframe\">\n",
       "  <thead>\n",
       "    <tr style=\"text-align: right;\">\n",
       "      <th></th>\n",
       "      <th>sepal length (cm)</th>\n",
       "      <th>sepal width (cm)</th>\n",
       "      <th>petal length (cm)</th>\n",
       "      <th>petal width (cm)</th>\n",
       "      <th>Species</th>\n",
       "    </tr>\n",
       "  </thead>\n",
       "  <tbody>\n",
       "    <tr>\n",
       "      <th>0</th>\n",
       "      <td>5.1</td>\n",
       "      <td>3.5</td>\n",
       "      <td>1.4</td>\n",
       "      <td>0.2</td>\n",
       "      <td>setosa</td>\n",
       "    </tr>\n",
       "    <tr>\n",
       "      <th>1</th>\n",
       "      <td>4.9</td>\n",
       "      <td>3.0</td>\n",
       "      <td>1.4</td>\n",
       "      <td>0.2</td>\n",
       "      <td>setosa</td>\n",
       "    </tr>\n",
       "    <tr>\n",
       "      <th>2</th>\n",
       "      <td>4.7</td>\n",
       "      <td>3.2</td>\n",
       "      <td>1.3</td>\n",
       "      <td>0.2</td>\n",
       "      <td>setosa</td>\n",
       "    </tr>\n",
       "    <tr>\n",
       "      <th>3</th>\n",
       "      <td>4.6</td>\n",
       "      <td>3.1</td>\n",
       "      <td>1.5</td>\n",
       "      <td>0.2</td>\n",
       "      <td>setosa</td>\n",
       "    </tr>\n",
       "    <tr>\n",
       "      <th>4</th>\n",
       "      <td>5.0</td>\n",
       "      <td>3.6</td>\n",
       "      <td>1.4</td>\n",
       "      <td>0.2</td>\n",
       "      <td>setosa</td>\n",
       "    </tr>\n",
       "  </tbody>\n",
       "</table>\n",
       "</div>"
      ],
      "text/plain": [
       "   sepal length (cm)  sepal width (cm)  ...  petal width (cm)  Species\n",
       "0                5.1               3.5  ...               0.2   setosa\n",
       "1                4.9               3.0  ...               0.2   setosa\n",
       "2                4.7               3.2  ...               0.2   setosa\n",
       "3                4.6               3.1  ...               0.2   setosa\n",
       "4                5.0               3.6  ...               0.2   setosa\n",
       "\n",
       "[5 rows x 5 columns]"
      ]
     },
     "execution_count": 7,
     "metadata": {
      "tags": []
     },
     "output_type": "execute_result"
    }
   ],
   "source": [
    "from sklearn.datasets import load_iris\n",
    "import pandas as pd\n",
    "import numpy as np\n",
    "\n",
    "Iris = load_iris()\n",
    "\n",
    "data = pd.DataFrame(data=np.c_[Iris['data'], Iris['target']],\n",
    "                    columns=Iris['feature_names'] + ['Species'])\n",
    "data['Species'] = data['Species'].map({0: 'setosa', 1: 'versicolor', 2: 'virginica'})\n",
    "data.head()"
   ]
  },
  {
   "cell_type": "code",
   "execution_count": null,
   "metadata": {
    "colab": {},
    "colab_type": "code",
    "id": "wCusM-v1qdaS"
   },
   "outputs": [],
   "source": [
    "data = data.reset_index()\n",
    "data = data.rename(columns={'index': 'Id',\n",
    "                            'sepal length (cm)': 'SepalLengthCm', 'sepal width (cm)': 'SepalWidthCm',\n",
    "                            'petal length (cm)': 'PetalLengthCm', 'petal width (cm)': 'PetalWidthCm'})"
   ]
  },
  {
   "cell_type": "code",
   "execution_count": 9,
   "metadata": {
    "colab": {
     "base_uri": "https://localhost:8080/",
     "height": 203
    },
    "colab_type": "code",
    "id": "cBpOUwnTqh_d",
    "outputId": "308dec33-bb83-4ad5-9dcb-760ae74a11fd"
   },
   "outputs": [
    {
     "data": {
      "text/html": [
       "<div>\n",
       "<style scoped>\n",
       "    .dataframe tbody tr th:only-of-type {\n",
       "        vertical-align: middle;\n",
       "    }\n",
       "\n",
       "    .dataframe tbody tr th {\n",
       "        vertical-align: top;\n",
       "    }\n",
       "\n",
       "    .dataframe thead th {\n",
       "        text-align: right;\n",
       "    }\n",
       "</style>\n",
       "<table border=\"1\" class=\"dataframe\">\n",
       "  <thead>\n",
       "    <tr style=\"text-align: right;\">\n",
       "      <th></th>\n",
       "      <th>Id</th>\n",
       "      <th>SepalLengthCm</th>\n",
       "      <th>SepalWidthCm</th>\n",
       "      <th>PetalLengthCm</th>\n",
       "      <th>PetalWidthCm</th>\n",
       "      <th>Species</th>\n",
       "    </tr>\n",
       "  </thead>\n",
       "  <tbody>\n",
       "    <tr>\n",
       "      <th>0</th>\n",
       "      <td>0</td>\n",
       "      <td>5.1</td>\n",
       "      <td>3.5</td>\n",
       "      <td>1.4</td>\n",
       "      <td>0.2</td>\n",
       "      <td>setosa</td>\n",
       "    </tr>\n",
       "    <tr>\n",
       "      <th>1</th>\n",
       "      <td>1</td>\n",
       "      <td>4.9</td>\n",
       "      <td>3.0</td>\n",
       "      <td>1.4</td>\n",
       "      <td>0.2</td>\n",
       "      <td>setosa</td>\n",
       "    </tr>\n",
       "    <tr>\n",
       "      <th>2</th>\n",
       "      <td>2</td>\n",
       "      <td>4.7</td>\n",
       "      <td>3.2</td>\n",
       "      <td>1.3</td>\n",
       "      <td>0.2</td>\n",
       "      <td>setosa</td>\n",
       "    </tr>\n",
       "    <tr>\n",
       "      <th>3</th>\n",
       "      <td>3</td>\n",
       "      <td>4.6</td>\n",
       "      <td>3.1</td>\n",
       "      <td>1.5</td>\n",
       "      <td>0.2</td>\n",
       "      <td>setosa</td>\n",
       "    </tr>\n",
       "    <tr>\n",
       "      <th>4</th>\n",
       "      <td>4</td>\n",
       "      <td>5.0</td>\n",
       "      <td>3.6</td>\n",
       "      <td>1.4</td>\n",
       "      <td>0.2</td>\n",
       "      <td>setosa</td>\n",
       "    </tr>\n",
       "  </tbody>\n",
       "</table>\n",
       "</div>"
      ],
      "text/plain": [
       "   Id  SepalLengthCm  SepalWidthCm  PetalLengthCm  PetalWidthCm Species\n",
       "0   0            5.1           3.5            1.4           0.2  setosa\n",
       "1   1            4.9           3.0            1.4           0.2  setosa\n",
       "2   2            4.7           3.2            1.3           0.2  setosa\n",
       "3   3            4.6           3.1            1.5           0.2  setosa\n",
       "4   4            5.0           3.6            1.4           0.2  setosa"
      ]
     },
     "execution_count": 9,
     "metadata": {
      "tags": []
     },
     "output_type": "execute_result"
    }
   ],
   "source": [
    "data.head()"
   ]
  },
  {
   "cell_type": "code",
   "execution_count": 10,
   "metadata": {
    "colab": {
     "base_uri": "https://localhost:8080/",
     "height": 35
    },
    "colab_type": "code",
    "id": "Nf3tOlgYrPJ3",
    "outputId": "442415e8-e04e-49c9-aa5c-196734a7330a"
   },
   "outputs": [
    {
     "name": "stdout",
     "output_type": "stream",
     "text": [
      "150\n"
     ]
    }
   ],
   "source": [
    "print(len(data))"
   ]
  },
  {
   "cell_type": "markdown",
   "metadata": {
    "colab_type": "text",
    "id": "BSX9xKXlrZrv"
   },
   "source": [
    "<br>\n",
    "\n",
    "#### 7.5.1.2 클래스 종류 확인\n",
    "\n",
    "- Species 열은 몇 가지 품종으로 구성되어져 있는 지 확인"
   ]
  },
  {
   "cell_type": "code",
   "execution_count": 12,
   "metadata": {
    "colab": {
     "base_uri": "https://localhost:8080/",
     "height": 53
    },
    "colab_type": "code",
    "id": "Y32g7pwJrf-Q",
    "outputId": "decfd8bb-e3ab-4c3d-dd45-f0ea8aa16aab"
   },
   "outputs": [
    {
     "name": "stdout",
     "output_type": "stream",
     "text": [
      "품종 종류:\n",
      "['setosa' 'versicolor' 'virginica']\n"
     ]
    }
   ],
   "source": [
    "print(\"품종 종류:\", data['Species'].unique(), sep=\"\\n\")"
   ]
  },
  {
   "cell_type": "markdown",
   "metadata": {
    "colab_type": "text",
    "id": "-ZkImbtfrnCG"
   },
   "source": [
    "<br>\n",
    "\n",
    "- 이번 데이터를 가지고 푸는 문제\n",
    "  - 주어진 샘플 데이터의 4개의 특성으로부터 3개 중 어떤 품종인지를 예측하는 문제"
   ]
  },
  {
   "cell_type": "markdown",
   "metadata": {
    "colab_type": "text",
    "id": "5y4MEyjHrz8p"
   },
   "source": [
    "<br>\n",
    "\n",
    "#### 7.5.1.3 시각화를 통한 데이터 분포 확인\n",
    "\n",
    "**`pairplot`**\n",
    "\n",
    "- 데이터프레임을 인수로 받아 데이터프레임의 각 열의 조합에 따라서 산점도(scatter plot)을 그린다.\n",
    "- 쉽게 말해 4개의 특성에 해당하는 SepalLengthCm, SepalWidthCm, PetalLengthCm, PetalWidthCm에 대해서 모든 쌍(pair)의 조합인 16개의 경우에 대해서 산점도를 그린다.\n",
    "- 만약 같은 데이터의 쌍일 경우에는 히스토그램으로 나타낸다.\n",
    "\n",
    "<br>\n",
    "\n",
    "- 3개의 품종이 4개의 특성에 대해서 어떤 분포를 가지고 있는 지 시각화해보자."
   ]
  },
  {
   "cell_type": "code",
   "execution_count": 14,
   "metadata": {
    "colab": {
     "base_uri": "https://localhost:8080/",
     "height": 927
    },
    "colab_type": "code",
    "id": "GpbISAscr4PM",
    "outputId": "0fefc254-1137-42bb-f84a-edbbdaa0ab7d"
   },
   "outputs": [
    {
     "data": {
      "image/png": "[encoded data removed]",
      "text/plain": [
       "<Figure size 993.85x900 with 30 Axes>"
      ]
     },
     "metadata": {
      "tags": []
     },
     "output_type": "display_data"
    }
   ],
   "source": [
    "import seaborn as sns\n",
    "\n",
    "sns.set(style=\"ticks\", color_codes=True)\n",
    "g = sns.pairplot(data, hue=\"Species\", palette=\"husl\")"
   ]
  },
  {
   "cell_type": "markdown",
   "metadata": {
    "colab_type": "text",
    "id": "MMG34m_dr_c9"
   },
   "source": [
    "<br>\n",
    "\n",
    "**`barplot`**\n",
    "\n",
    "- barplot을 통해 종과 특성에 대한 연관관계를 출력할 수도 있다."
   ]
  },
  {
   "cell_type": "code",
   "execution_count": 15,
   "metadata": {
    "colab": {
     "base_uri": "https://localhost:8080/",
     "height": 303
    },
    "colab_type": "code",
    "id": "-qeUSQUmsaOM",
    "outputId": "84eab5f7-c081-4305-ae31-770914202a8a"
   },
   "outputs": [
    {
     "data": {
      "text/plain": [
       "<matplotlib.axes._subplots.AxesSubplot at 0x7f7c3e06c9b0>"
      ]
     },
     "execution_count": 15,
     "metadata": {
      "tags": []
     },
     "output_type": "execute_result"
    },
    {
     "data": {
      "image/png": "[encoded data removed]",
      "text/plain": [
       "<Figure size 432x288 with 1 Axes>"
      ]
     },
     "metadata": {
      "tags": []
     },
     "output_type": "display_data"
    }
   ],
   "source": [
    "# 각 종과 특성에 대한 연관 관계\n",
    "sns.barplot(data['Species'], data['SepalWidthCm'], ci=None)"
   ]
  },
  {
   "cell_type": "markdown",
   "metadata": {
    "colab_type": "text",
    "id": "V0TXALs5szZV"
   },
   "source": [
    "<br>\n",
    "\n",
    "- 150개의 샘플 데이터 중에서 각 품종인 setosa, versicolor, virginica을 나타내는 데이터가 몇 개씩 있는 지 확인해보자.\n",
    "- 즉, Species 열에서 각 품종이 몇 개 있는 지를 확인한다."
   ]
  },
  {
   "cell_type": "code",
   "execution_count": 16,
   "metadata": {
    "colab": {
     "base_uri": "https://localhost:8080/",
     "height": 330
    },
    "colab_type": "code",
    "id": "Mm6-MblIs_JW",
    "outputId": "c85335b8-6725-444a-9efa-880a182cd728"
   },
   "outputs": [
    {
     "data": {
      "text/plain": [
       "<matplotlib.axes._subplots.AxesSubplot at 0x7f7c3e10b0b8>"
      ]
     },
     "execution_count": 16,
     "metadata": {
      "tags": []
     },
     "output_type": "execute_result"
    },
    {
     "data": {
      "image/png": "[encoded data removed]",
      "text/plain": [
       "<Figure size 432x288 with 1 Axes>"
      ]
     },
     "metadata": {
      "tags": []
     },
     "output_type": "display_data"
    }
   ],
   "source": [
    "import matplotlib.pyplot as plt\n",
    "data[\"Species\"].value_counts().plot(kind='bar')"
   ]
  },
  {
   "cell_type": "markdown",
   "metadata": {
    "colab_type": "text",
    "id": "FOQyMigOtEyF"
   },
   "source": [
    "- 정확하게 50개씩 있는 것을 확인할 수 있다.\n",
    "- 즉, 각 품종 데이터에 대한 분포는 1:1:1이다."
   ]
  },
  {
   "cell_type": "markdown",
   "metadata": {
    "colab_type": "text",
    "id": "WD1rVZPGtMCT"
   },
   "source": [
    "<br>\n",
    "\n",
    "#### 7.5.1.4 데이터 전처리\n",
    "\n",
    "- 데이터에 대한 구성을 파악하였다면, 이제 소프트맥스 회귀 모델을 구성하기 위해 전처리를 진행해야 한다.\n",
    "- 우선 Species 열에 대해서 전부 수치화를 진행할 필요가 있다."
   ]
  },
  {
   "cell_type": "markdown",
   "metadata": {
    "colab_type": "text",
    "id": "-SgydzywtSAc"
   },
   "source": [
    "**정수 인코딩 수행**"
   ]
  },
  {
   "cell_type": "code",
   "execution_count": 17,
   "metadata": {
    "colab": {
     "base_uri": "https://localhost:8080/",
     "height": 283
    },
    "colab_type": "code",
    "id": "Rkoaydl7txh0",
    "outputId": "30a31de0-2f16-45a7-b79b-c0f0d648262e"
   },
   "outputs": [
    {
     "data": {
      "text/plain": [
       "<matplotlib.axes._subplots.AxesSubplot at 0x7f7c3c30fbe0>"
      ]
     },
     "execution_count": 17,
     "metadata": {
      "tags": []
     },
     "output_type": "execute_result"
    },
    {
     "data": {
      "image/png": "[encoded data removed]",
      "text/plain": [
       "<Figure size 432x288 with 1 Axes>"
      ]
     },
     "metadata": {
      "tags": []
     },
     "output_type": "display_data"
    }
   ],
   "source": [
    "data['Species'] = data['Species'].replace(['virginica', 'setosa', 'versicolor'], [0, 1, 2])\n",
    "data['Species'].value_counts().plot(kind='bar')"
   ]
  },
  {
   "cell_type": "markdown",
   "metadata": {
    "colab_type": "text",
    "id": "f4h17E9et86x"
   },
   "source": [
    "- 여전히 50개 씩 1:1:1의 분포를 보인다."
   ]
  },
  {
   "cell_type": "markdown",
   "metadata": {
    "colab_type": "text",
    "id": "pI47kUlPuCOM"
   },
   "source": [
    "<br>\n",
    "\n",
    "- 특성과 품종을 각각 종속 변수와 독립 변수 데이터로 분리하는 작업을 수행\n",
    "- 정확하게 분리되었는 지를 확인하기 위해 데이터 중 5개씩만 출력"
   ]
  },
  {
   "cell_type": "code",
   "execution_count": 19,
   "metadata": {
    "colab": {
     "base_uri": "https://localhost:8080/",
     "height": 125
    },
    "colab_type": "code",
    "id": "UM6oMII3uM1L",
    "outputId": "e26deae7-331a-4524-b10f-d2b5ad31524c"
   },
   "outputs": [
    {
     "name": "stdout",
     "output_type": "stream",
     "text": [
      "[[5.1 3.5 1.4 0.2]\n",
      " [4.9 3.  1.4 0.2]\n",
      " [4.7 3.2 1.3 0.2]\n",
      " [4.6 3.1 1.5 0.2]\n",
      " [5.  3.6 1.4 0.2]]\n",
      "[1 1 1 1 1]\n"
     ]
    }
   ],
   "source": [
    "from sklearn.model_selection import train_test_split\n",
    "\n",
    "data_X = data[['SepalLengthCm', 'SepalWidthCm', 'PetalLengthCm', 'PetalWidthCm']].values\n",
    "data_y = data['Species'].values\n",
    "\n",
    "print(data_X[:5])\n",
    "print(data_y[:5])"
   ]
  },
  {
   "cell_type": "markdown",
   "metadata": {
    "colab_type": "text",
    "id": "mAgIHMfZuYP9"
   },
   "source": [
    "<br>\n",
    "\n",
    "- 훈련 데이터와 테스트 데이터의 분리와 원-핫 인코딩을 수행"
   ]
  },
  {
   "cell_type": "code",
   "execution_count": null,
   "metadata": {
    "colab": {},
    "colab_type": "code",
    "id": "K5jRKilZumid"
   },
   "outputs": [],
   "source": [
    "(X_train, X_test, y_train, y_test) = train_test_split(data_X, data_y, train_size=0.8, random_state=1)"
   ]
  },
  {
   "cell_type": "code",
   "execution_count": 21,
   "metadata": {
    "colab": {
     "base_uri": "https://localhost:8080/",
     "height": 53
    },
    "colab_type": "code",
    "id": "w6oimRpTuvDz",
    "outputId": "f83e3a04-f612-4d2a-d7b8-0d1eeaef30ad"
   },
   "outputs": [
    {
     "name": "stdout",
     "output_type": "stream",
     "text": [
      "TensorFlow 2.x selected.\n"
     ]
    },
    {
     "data": {
      "text/plain": [
       "'2.1.0'"
      ]
     },
     "execution_count": 21,
     "metadata": {
      "tags": []
     },
     "output_type": "execute_result"
    }
   ],
   "source": [
    "%tensorflow_version 2.x\n",
    "\n",
    "import tensorflow as tf\n",
    "tf.__version__"
   ]
  },
  {
   "cell_type": "code",
   "execution_count": 25,
   "metadata": {
    "colab": {
     "base_uri": "https://localhost:8080/",
     "height": 197
    },
    "colab_type": "code",
    "id": "IdBqTq-Nuxq0",
    "outputId": "a17a04df-a010-439a-d801-68c123c74574"
   },
   "outputs": [
    {
     "name": "stdout",
     "output_type": "stream",
     "text": [
      "[[0. 0. 1.]\n",
      " [1. 0. 0.]\n",
      " [0. 0. 1.]\n",
      " [1. 0. 0.]\n",
      " [1. 0. 0.]]\n",
      "[[0. 1. 0.]\n",
      " [0. 0. 1.]\n",
      " [0. 0. 1.]\n",
      " [0. 1. 0.]\n",
      " [1. 0. 0.]]\n"
     ]
    }
   ],
   "source": [
    "from tensorflow.keras.utils import to_categorical\n",
    "\n",
    "y_train = to_categorical(y_train)\n",
    "y_test = to_categorical(y_test)\n",
    "\n",
    "print(y_train[:5])\n",
    "print(y_test[:5])"
   ]
  },
  {
   "cell_type": "markdown",
   "metadata": {
    "colab_type": "text",
    "id": "G1kdjY6mu8IH"
   },
   "source": [
    "<br>\n",
    "\n",
    "### 7.5.2 소프트맥스 회귀"
   ]
  },
  {
   "cell_type": "code",
   "execution_count": null,
   "metadata": {
    "colab": {},
    "colab_type": "code",
    "id": "OFUmsgqevKJd"
   },
   "outputs": [],
   "source": [
    "from tensorflow.keras.models import Sequential\n",
    "from tensorflow.keras.layers import Dense\n",
    "from tensorflow.keras import optimizers\n",
    "\n",
    "model = Sequential()\n",
    "model.add(Dense(3, input_dim=4, activation='softmax'))\n",
    "\n",
    "sgd = optimizers.SGD(lr=0.01)\n",
    "\n",
    "model.compile(loss='categorical_crossentropy', optimizer='adam', metrics=['accuracy'])\n",
    "\n",
    "history = model.fit(X_train, y_train, batch_size=1, epochs=200, validation_data=(X_test, y_test))"
   ]
  },
  {
   "cell_type": "markdown",
   "metadata": {
    "colab_type": "text",
    "id": "AbwZqFG4wQhG"
   },
   "source": [
    "**앞선 실습한 코드들과의 차이점**\n",
    "\n",
    "- 입력의 차원이 4로 바뀌면서, `input_dim`의 인자값이 4로 바뀜\n",
    "- 이제 출력의 차원이 3이므로,  `input_dim=4` 앞의 인자값이 3으로 바뀜\n",
    "- 함수로는 소프트맥스 함수를 사용하므로 `activation`에 `softmax`를 입력"
   ]
  },
  {
   "cell_type": "markdown",
   "metadata": {
    "colab_type": "text",
    "id": "5t0exbvuwn13"
   },
   "source": [
    "<br>\n",
    "\n",
    "**오차 함수**\n",
    "\n",
    "- 크로스 엔트로피 함수를 사용한다.\n",
    "- 이진 분류 문제 : `binary_crossentropy`를 사용\n",
    "- 다중 클래스 분류 문제 : `categorical_crossentropy`를 사용"
   ]
  },
  {
   "cell_type": "markdown",
   "metadata": {
    "colab_type": "text",
    "id": "FkkJyAzpwzbY"
   },
   "source": [
    "<br>\n",
    "\n",
    "**옵티마이저**\n",
    "\n",
    "- 경사 하강법의 일종인 `adam`을 사용"
   ]
  },
  {
   "cell_type": "markdown",
   "metadata": {
    "colab_type": "text",
    "id": "28yUP6-nw4qA"
   },
   "source": [
    "<br>\n",
    "\n",
    "**그 외의 설정들**\n",
    "\n",
    "- 전체 데이터에 대한 훈련 횟수(`epochs`)는 200회로 지정\n",
    "- 테스트 데이터를 별도로 분리해서 평가에 사용\n",
    "  - `validation_data=()`에 테스트 데이터를 기재해주면 실제로는 훈련에는 반영되지 않으면서 각 훈련 횟수마다 테스트 데이터에 대한 정확도를 출력한다.\n",
    "  - 즉, 정확도가 전체 데이터에 대한 훈련 1회(1 에포크)마다 측정되고는 있지만 기계는 저 데이터를 가지고는 가중치를 업데이트하지 않는다."
   ]
  },
  {
   "cell_type": "markdown",
   "metadata": {
    "colab_type": "text",
    "id": "IiArUVyMxV0d"
   },
   "source": [
    "```\n",
    "Train on 120 samples, validate on 30 samples\n",
    "Epoch 1/200\n",
    "120/120 [==============================] - 1s 7ms/sample - loss: 1.1666 - accuracy: 0.3333 - val_loss: 1.1533 - val_accuracy: 0.2333\n",
    "Epoch 2/200\n",
    "120/120 [==============================] - 0s 2ms/sample - loss: 1.0682 - accuracy: 0.3917 - val_loss: 1.1028 - val_accuracy: 0.1667\n",
    "Epoch 3/200\n",
    "120/120 [==============================] - 0s 2ms/sample - loss: 1.0051 - accuracy: 0.3750 - val_loss: 1.0412 - val_accuracy: 0.2000\n",
    "\n",
    "...\n",
    "\n",
    "Epoch 198/200\n",
    "120/120 [==============================] - 0s 2ms/sample - loss: 0.1555 - accuracy: 0.9750 - val_loss: 0.2117 - val_accuracy: 0.9333\n",
    "Epoch 199/200\n",
    "120/120 [==============================] - 0s 2ms/sample - loss: 0.1558 - accuracy: 0.9750 - val_loss: 0.2011 - val_accuracy: 0.9667\n",
    "Epoch 200/200\n",
    "120/120 [==============================] - 0s 2ms/sample - loss: 0.1570 - accuracy: 0.9583 - val_loss: 0.1917 - val_accuracy: 0.9667\n",
    "```"
   ]
  },
  {
   "cell_type": "markdown",
   "metadata": {
    "colab_type": "text",
    "id": "G-FkEcrlxcAE"
   },
   "source": [
    "- **`acc`** : 훈련 데이터에 대한 정확도\n",
    "- **`val_acc`** : 테스트 데이터에 대한 정확도"
   ]
  },
  {
   "cell_type": "markdown",
   "metadata": {
    "colab_type": "text",
    "id": "y5NC8-VAxmc_"
   },
   "source": [
    "- 훈련 데이터에서는 95%의 정확도를 보임\n",
    "- 테스트 데이터에 대해서는 96%의 정확도를 보인다."
   ]
  },
  {
   "cell_type": "markdown",
   "metadata": {
    "colab_type": "text",
    "id": "RK040dynxuH-"
   },
   "source": [
    "<br>\n",
    "\n",
    "- 각 에포크당 훈련 데이터와 테스트 데이터에 대한 정확도를 측정했으므로 한 번 에포크에 따른 정확도를 그래프로 출력"
   ]
  },
  {
   "cell_type": "code",
   "execution_count": 30,
   "metadata": {
    "colab": {
     "base_uri": "https://localhost:8080/",
     "height": 301
    },
    "colab_type": "code",
    "id": "20fng0Zdx0wH",
    "outputId": "f7486a5a-37c3-411b-c514-77599f7c9787"
   },
   "outputs": [
    {
     "data": {
      "image/png": "[encoded data removed]",
      "text/plain": [
       "<Figure size 432x288 with 1 Axes>"
      ]
     },
     "metadata": {
      "tags": []
     },
     "output_type": "display_data"
    }
   ],
   "source": [
    "epochs = range(1, len(history.history['accuracy']) + 1)\n",
    "\n",
    "plt.plot(epochs, history.history['loss'])\n",
    "plt.plot(epochs, history.history['val_loss'])\n",
    "plt.title('model loss')\n",
    "plt.ylabel('loss')\n",
    "plt.xlabel('epoch')\n",
    "plt.legend(['tarin', 'val'], loc='upper left')\n",
    "plt.show()"
   ]
  },
  {
   "cell_type": "markdown",
   "metadata": {
    "colab_type": "text",
    "id": "DGY4k0ukyI8_"
   },
   "source": [
    "- 에포크가 증가함에 따라 손실이 점차적으로 줄어드는 것을 볼 수 있다."
   ]
  },
  {
   "cell_type": "markdown",
   "metadata": {
    "colab_type": "text",
    "id": "MCWGPunCyVGb"
   },
   "source": [
    "<br>\n",
    "\n",
    "- 케라스에서 테스트 데이터의 정확도를 측젖ㅇ하는 용도로 제공하고 있는 `evaluate()`를 통해 테스트 데이터에 대한 정확도를 다시 출력"
   ]
  },
  {
   "cell_type": "code",
   "execution_count": 31,
   "metadata": {
    "colab": {
     "base_uri": "https://localhost:8080/",
     "height": 71
    },
    "colab_type": "code",
    "id": "nyqxbsO0yiHY",
    "outputId": "fe94e54c-d62d-44df-c418-f3556f31cbe1"
   },
   "outputs": [
    {
     "name": "stdout",
     "output_type": "stream",
     "text": [
      "30/30 [==============================] - 0s 3ms/sample - loss: 0.1917 - accuracy: 0.9667\n",
      "\n",
      " 테스트 정확도 : 0.9667\n"
     ]
    }
   ],
   "source": [
    "print(\"\\n 테스트 정확도 : %.4f\" % (model.evaluate(X_test, y_test)[1]))"
   ]
  },
  {
   "cell_type": "markdown",
   "metadata": {
    "colab_type": "text",
    "id": "xFmfP-hvyoar"
   },
   "source": [
    "<br>\n",
    "\n",
    "## 7.6 인공 신경망 다이어그램\n",
    "\n",
    "- n개의 특성을 가지고 m개의 클래스를 분류하는 소프트맥스 회귀를 인공 신경망의 형태로 표현하면 다음과 같다.\n",
    "- 소프트맥스 회귀 또한 하나의 인공 신경망으로 불 수 있으므로 소프트맥스 회귀로부터 인공 신경망을 이해하는 것은 어렵지 않다.\n",
    "\n",
    "$\\quad$ ![](https://wikidocs.net/images/page/35476/softmax_regression_nn.PNG)"
   ]
  },
  {
   "cell_type": "markdown",
   "metadata": {
    "colab_type": "text",
    "id": "zZnDJTFqy8Dk"
   },
   "source": [
    "- 사실 위의 그림은 앞서 소프트맥스 함수를 사용하기 위해 설명했던 아래의 그림에서 특성의 개수를 $n$으로 하고, 클래스의 개수를 $m$으로 일반화한 뒤에 그림을 좀 더 요약해서 표현한 것으로 봐도 무방하다.\n",
    "\n",
    "$\\quad$ ![](https://wikidocs.net/images/page/35476/softmax6_final.PNG)"
   ]
  }
 ],
 "metadata": {
  "colab": {
   "collapsed_sections": [],
   "name": "Ch07_v07_Softmax-Regression-Multi-Class-Classification.ipynb",
   "provenance": [],
   "toc_visible": true
  },
  "kernelspec": {
   "display_name": "Python 3",
   "language": "python",
   "name": "python3"
  },
  "language_info": {
   "codemirror_mode": {
    "name": "ipython",
    "version": 3
   },
   "file_extension": ".py",
   "mimetype": "text/x-python",
   "name": "python",
   "nbconvert_exporter": "python",
   "pygments_lexer": "ipython3",
   "version": "3.6.9"
  }
 },
 "nbformat": 4,
 "nbformat_minor": 4
}
