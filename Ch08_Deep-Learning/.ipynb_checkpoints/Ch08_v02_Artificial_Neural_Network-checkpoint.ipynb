{
 "cells": [
  {
   "cell_type": "markdown",
   "metadata": {
    "colab_type": "text",
    "id": "23ZdRuZSvYgH"
   },
   "source": [
    "# Ch08. 딥 러닝(Deep Learning) 개요"
   ]
  },
  {
   "cell_type": "markdown",
   "metadata": {
    "colab_type": "text",
    "id": "DMlqg3TTvpEI"
   },
   "source": [
    "# v02. 인공 신경망(Artificial Neural Network) 훑어보기"
   ]
  },
  {
   "cell_type": "markdown",
   "metadata": {
    "colab_type": "text",
    "id": "lSWIC5AtvuEl"
   },
   "source": [
    "- 인공 신경망에 대한 전반적인 내용들을 정리"
   ]
  },
  {
   "cell_type": "markdown",
   "metadata": {
    "colab_type": "text",
    "id": "hvYBhawavxYM"
   },
   "source": [
    "<br>\n",
    "\n",
    "## 2.1 순방향 신경망 (피드 포워드 신경망, Feed-Forward Neural Network, FFNN)\n",
    "\n",
    "$\\quad$ ![](https://wikidocs.net/images/page/24987/mlp_final.PNG)\n",
    "\n",
    "- 위의 다층 퍼셉트론(MLP)과 같이 입력층에서 출력층 방향으로 연산이 전개되는 신경망을 피드 포워드 신경망(Feed-Forward Neural Network, FFNN)이라고 한다.\n",
    "- 이렇게 별도로 정의되는 이유는 FFNN이 아닌 신경망이 존재하기 때문이다."
   ]
  },
  {
   "cell_type": "markdown",
   "metadata": {
    "colab_type": "text",
    "id": "QNadHq-fx75M"
   },
   "source": [
    "<br>\n",
    "\n",
    "### 2.1.1 순방향 신경망(FFNN)이 아닌 신경망\n",
    "\n",
    "$\\quad$ ![](https://wikidocs.net/images/page/24987/rnn_final.PNG)\n",
    "\n",
    "- 위의 그림은 대표적으로 FFNN이 아닌 RNN이라는 신경망을 보여준다.\n",
    "- 이 신경망은 은닉층의 출력값을 출력층으로도 값을 보내지만, 동시에 은닉층의 출력값이 다시 은닉층의 입력으로 사용되는데 이는 FFNN의 정의에 벗어난다."
   ]
  },
  {
   "cell_type": "markdown",
   "metadata": {
    "colab_type": "text",
    "id": "D8oNXZSHyJhr"
   },
   "source": [
    "<br>\n",
    "\n",
    "## 2.2 전결합층 (Fully-connected layer, FC, Dense layer)\n",
    "\n",
    "- 앞서 본 다층 퍼셉트론은 은닉층과 출력층에 있는 모든 뉴런은 바로 이전 층의 모든 뉴런과 연결돼 있었다.\n",
    "- 그와 같이 어떤 층의 모든 뉴런이 이전 층의 모든 뉴런과 연결돼 있는 층을 **전결합층**이라고 한다.\n",
    "- 줄여서 FC라고 부르기도 한다.\n",
    "- 즉, 앞서 본 다층 퍼셉트론의 모든 은닉층과 출력층은 전결합층이다."
   ]
  },
  {
   "cell_type": "markdown",
   "metadata": {
    "colab_type": "text",
    "id": "t83ikxhIyeQr"
   },
   "source": [
    "<br>\n",
    "\n",
    "### 2.2.1 밀집층 (Dense layer)\n",
    "\n",
    "- 이와 동일한 의미로 **밀집층(Dense layer)**이라고 부르기도 하는데, 케라스에서는 밀집층을 구현할 때 `Dense()`를 사용한다."
   ]
  },
  {
   "cell_type": "markdown",
   "metadata": {
    "colab_type": "text",
    "id": "Ru_Af5Mayo3C"
   },
   "source": [
    "<br>\n",
    "\n",
    "### 2.2.2 전결합 피드 포워드 신경망(Fully-connected FFNN)\n",
    "\n",
    "- 만약 전결합층만으로 구성된 피드 포워드 신경망이 있다면, 이를 **전결합 피드 포워드 신경망(Fully-connected FFNN)**이라고도 한다."
   ]
  },
  {
   "cell_type": "markdown",
   "metadata": {
    "colab_type": "text",
    "id": "YNQ6jyAGy61R"
   },
   "source": [
    "<br>\n",
    "\n",
    "## 2.3 활성화 함수 (Activation Function)\n",
    "\n",
    "$\\quad$ ![](https://wikidocs.net/images/page/24987/activation_function_final.PNG)\n",
    "\n",
    "- 앞서 배운 퍼셉트론에서는 계단 함수(Step function)를 통해 출력값이 0이 될지, 1이 될지를 결정했다.\n",
    "- 이러한 매커니즘은 실제 뇌를 구성하는 신경 세포 뉴런이 전위가 일정치 이상이 되면 시냅스가 서로 화학적으로 연결되는 모습을 모방한 것이다.\n",
    "- 이렇게 은닉층과 출력층의 뉴런에서 출력값을 결정하는 함수를 **활성화 함수(Activation function)**라고 한다.\n",
    "- 계단 함수는 이러한 활성화 함수의 하나의 예제에 불과하다.\n",
    "- 앞으로 다양한 활성화 함수에 대해서 알아볼텐데, 사실 일부는 7챕터인 머신 러닝 챕터에서 이미 봤던 함수들이다."
   ]
  },
  {
   "cell_type": "markdown",
   "metadata": {
    "colab_type": "text",
    "id": "AomKSue0y9sq"
   },
   "source": [
    "<br>\n",
    "\n",
    "### 2.3.1 활성화 함수의 특징 - 비선형 함수 (Nonlinear function)\n",
    "\n",
    "- 활성화 함수의 특징 : \"선형 함수가 아닌 비선형 함수여야 한다\""
   ]
  },
  {
   "cell_type": "markdown",
   "metadata": {
    "colab_type": "text",
    "id": "UYNdfCvfz1HQ"
   },
   "source": [
    "<br>\n",
    "\n",
    "#### 2.3.1.1 선형 함수\n",
    "\n",
    "- 선형 함수란 출력이 입력의 상수배만큼 변하는 함수를 선형함수라고 한다.\n",
    "- ex) f(x)=Wx+b라는 함수가 있을 때\n",
    "  - W와 b는 상수이다.\n",
    "  - 위 식은 그래프를 그리면 직선이 그려진다."
   ]
  },
  {
   "cell_type": "markdown",
   "metadata": {
    "colab_type": "text",
    "id": "rXmEaQHE0R8P"
   },
   "source": [
    "<br>\n",
    "\n",
    "#### 2.3.1.2 비선형 함수\n",
    "\n",
    "- 반대로 비선형 함수는 직선 1개로는 그릴 수 없는 함수를 말한다."
   ]
  },
  {
   "cell_type": "markdown",
   "metadata": {
    "colab_type": "text",
    "id": "_ifus1nT0WrP"
   },
   "source": [
    "<br>\n",
    "\n",
    "#### 2.3.1.3 인공 신경망의 활성화 함수\n",
    "\n",
    "- 인공 신경망에서 활성화 함수는 반드시 비선형 함수여야 한다.\n",
    "- 앞서 퍼셉트론에서도 계단 함수라는 활성화 함수를 사용했다.\n",
    "- 즉, 계단 함수 또한 비선형 함수에 속한다."
   ]
  },
  {
   "cell_type": "markdown",
   "metadata": {
    "colab_type": "text",
    "id": "Ye-5uGKF0lwX"
   },
   "source": [
    "<br>\n",
    "\n",
    "#### 2.3.1.4 비선형 함수를 사용하는 이유\n",
    "\n",
    "- 인공 신경망의 능력을 높이기 위해서는 은닉층을 계속해서 추가해야 한다.\n",
    "- 그런데 만약 활성화 함수로 선형 함수를 사용하게 되면 은닉층을 쌓을 수가 없습니다."
   ]
  },
  {
   "cell_type": "markdown",
   "metadata": {
    "colab_type": "text",
    "id": "lK4qOxbv0u7f"
   },
   "source": [
    "- ex) 활성화 함수로 선형 함수를 선택하고, 층을 계속 쌓는다고 가정 (활성화 함수는 $f(x)=Wx$ 라고 가정한다.)\n",
    "  - 여기다가 은닉층을 두 개 추가한다 $\\rightarrow$ 출력층을 포함해서 $y(x)=f(f(f(x)))$가 된다.\n",
    "  - 이를 식으로 표현 $\\rightarrow$ $W×W×W×x$\n",
    "  - 그런데 이는 잘 생각해보면 $W$의 세 제곱값을 $k$라고 정의해버리면 $y(x)=kx$와 같이 다시 표현이 가능하다.\n",
    "- 즉, **선형 함수로는 은닉층을 여러번 추가하더라도 1회 추가한 것과 차이를 줄 수 없다.**"
   ]
  },
  {
   "cell_type": "markdown",
   "metadata": {
    "colab_type": "text",
    "id": "7qvCSwtb1NMX"
   },
   "source": [
    "<br>\n",
    "\n",
    "#### 2.3.1.5 선형층(linear layer) or 투사층(projection layer)\n",
    "\n",
    "- 선형 함수를 사용한 은닉층을 1회 추가한 것과 연속으로 추가한 것이 차이가 없다는 뜻이지, 선형 함수를 사용한 층이 아무 의미가 없다는 뜻이 아니다.\n",
    "- 학습 가능한 가중치가 새로 생긴다는 점에서 분명히 의미가 있다.\n",
    "- 이와 같이 **선형 함수를 사용한 층**을 활성화 함수를 사용하는 은닉층과 구분하기 위해서 **선형층(linear layer)**이나 **투사층(projection layer)** 등의 다른 표현을 사용하여 표현한다."
   ]
  },
  {
   "cell_type": "markdown",
   "metadata": {
    "colab_type": "text",
    "id": "mt24iHp51iWs"
   },
   "source": [
    "<br>\n",
    "\n",
    "#### 2.3.1.6 비선형층 (nonlinear layer)\n",
    "\n",
    "- **활성화 함수를 사용하는 일반적인 은닉층**을 선형층과 대비되는 표현을 사용하면 **비선형층(nonlinear layer)**이다."
   ]
  },
  {
   "cell_type": "markdown",
   "metadata": {
    "colab_type": "text",
    "id": "ZTnSK4c91rgs"
   },
   "source": [
    "<br>\n",
    "\n",
    "### 2.3.2 계단 함수 (Step function)\n",
    "\n",
    "- 계단 함수는 이제 거의 사용되지 않지만, 퍼셉트론을 통해 처음으로 인공 신경망을 배울 때 가장 처음 접하게 되는 활성화 함수이다."
   ]
  },
  {
   "cell_type": "code",
   "execution_count": null,
   "metadata": {
    "colab": {},
    "colab_type": "code",
    "id": "2HPOtw3b13Eq"
   },
   "outputs": [],
   "source": [
    "import numpy as np\n",
    "import matplotlib.pyplot as plt"
   ]
  },
  {
   "cell_type": "code",
   "execution_count": null,
   "metadata": {
    "colab": {},
    "colab_type": "code",
    "id": "RDOqoWIB2SFE"
   },
   "outputs": [],
   "source": [
    "def step(x):\n",
    "    return np.array(x > 0, dtype=np.int)"
   ]
  },
  {
   "cell_type": "code",
   "execution_count": 4,
   "metadata": {
    "colab": {
     "base_uri": "https://localhost:8080/",
     "height": 71
    },
    "colab_type": "code",
    "id": "_rfFi8Wb2Vyk",
    "outputId": "1c2c987b-c9ee-4279-fc29-5777a46eceb5"
   },
   "outputs": [
    {
     "name": "stdout",
     "output_type": "stream",
     "text": [
      "[0 0 0 0 0 0 0 0 0 0 0 0 0 0 0 0 0 0 0 0 0 0 0 0 0 0 0 0 0 0 0 0 0 0 0 0 0\n",
      " 0 0 0 0 0 0 0 0 0 0 0 0 0 0 1 1 1 1 1 1 1 1 1 1 1 1 1 1 1 1 1 1 1 1 1 1 1\n",
      " 1 1 1 1 1 1 1 1 1 1 1 1 1 1 1 1 1 1 1 1 1 1 1 1 1 1]\n"
     ]
    }
   ],
   "source": [
    "x = np.arange(-5.0, 5.0, 0.1)\n",
    "y = step(x)\n",
    "print(y)"
   ]
  },
  {
   "cell_type": "code",
   "execution_count": 5,
   "metadata": {
    "colab": {
     "base_uri": "https://localhost:8080/",
     "height": 281
    },
    "colab_type": "code",
    "id": "zyuhBwVl2dSU",
    "outputId": "5085c12c-ef27-4d66-8b14-0884dd0c146b"
   },
   "outputs": [
    {
     "data": {
      "image/png": "[encoded data removed]",
      "text/plain": [
       "<Figure size 432x288 with 1 Axes>"
      ]
     },
     "metadata": {
      "tags": []
     },
     "output_type": "display_data"
    }
   ],
   "source": [
    "plt.title('Step Function')\n",
    "plt.plot(x, y)\n",
    "plt.show()"
   ]
  },
  {
   "cell_type": "markdown",
   "metadata": {
    "colab_type": "text",
    "id": "2JNfGze72jm2"
   },
   "source": [
    "<br>\n",
    "\n",
    "### 2.3.3 시그모이드 함수(Sigmoid function)와 기울기 소실\n",
    "\n",
    "- 시그모이드 함수를 사용한 어떤 인공 신경망이 있다고 가정해보자.\n",
    "\n",
    "$\\quad$ ![](https://wikidocs.net/images/page/60683/simple-neural-network.png)"
   ]
  },
  {
   "cell_type": "markdown",
   "metadata": {
    "colab_type": "text",
    "id": "fwQEJWXz2zBz"
   },
   "source": [
    "<br>\n",
    "\n",
    "#### 2.3.3.1 인공 신경망 학습 과정\n",
    "\n",
    "- 위의 인공 신경망의 학습 과정은 다음과 같다."
   ]
  },
  {
   "cell_type": "markdown",
   "metadata": {
    "colab_type": "text",
    "id": "WCLJydA624dr"
   },
   "source": [
    "- 우선 인공 신경망은 입력에 대해서 순전파(forward propagation) 연산을 한다.\n",
    "- 그리고 순전파 연산을 통해 나온 예측값과 실제값의 오차를 손실 함수(loss function)을 통해 계산한다.\n",
    "- 그리고 이 손실(loss)을 미분을 통해서 기울기(gradient)를 구한다.\n",
    "- 이를 통해 역전파(back propagation)를 수행한다."
   ]
  },
  {
   "cell_type": "markdown",
   "metadata": {
    "colab_type": "text",
    "id": "ja82gFbp3H_X"
   },
   "source": [
    "<br>\n",
    "\n",
    "#### 2.3.3.2 시그모이드 함수의 문제점\n",
    "\n",
    "- 시그모이드 함수의 문제점은 미분을 해서 기울기(gradient)를 구할 때 발생한다."
   ]
  },
  {
   "cell_type": "code",
   "execution_count": null,
   "metadata": {
    "colab": {},
    "colab_type": "code",
    "id": "xZbBzFLB3WwU"
   },
   "outputs": [],
   "source": [
    "def sigmoid(x):\n",
    "    return 1 / (1 + np.exp(-x))"
   ]
  },
  {
   "cell_type": "code",
   "execution_count": 7,
   "metadata": {
    "colab": {
     "base_uri": "https://localhost:8080/",
     "height": 281
    },
    "colab_type": "code",
    "id": "O5b0Fn4H3aTV",
    "outputId": "ff099979-a89d-4a6f-8ddb-3f34b6593d77"
   },
   "outputs": [
    {
     "data": {
      "image/png": "[encoded data removed]",
      "text/plain": [
       "<Figure size 432x288 with 1 Axes>"
      ]
     },
     "metadata": {
      "tags": []
     },
     "output_type": "display_data"
    }
   ],
   "source": [
    "x = np.arange(-5.0, 5.0, 0.1)\n",
    "y = sigmoid(x)\n",
    "\n",
    "plt.plot(x, y)\n",
    "plt.plot([0,0], [1.0,0.0], ':')\n",
    "plt.title('Sigmoid Function')\n",
    "plt.show()"
   ]
  },
  {
   "cell_type": "markdown",
   "metadata": {
    "colab_type": "text",
    "id": "HUMMd2bz3urJ"
   },
   "source": [
    "- 위의 그래프는 시그모이드 함수의 그래프를 보여준다.\n",
    "- 위 그래프를 시그모이드 함수의 출력값이 0 또는 1에 가까워지면, 그래프의 기울기가 완만해지는 모습을 볼 수 있다."
   ]
  },
  {
   "cell_type": "markdown",
   "metadata": {
    "colab_type": "text",
    "id": "HG0OtwIM322R"
   },
   "source": [
    "- 기울기가 완만해지는 구간을 주황색, 그렇지 않은 구간을 초록색으로 칠해보자.\n",
    "\n",
    "$\\quad$ ![](https://wikidocs.net/images/page/60683/%EC%8B%9C%EA%B7%B8%EB%AA%A8%EC%9D%B4%EB%93%9C%ED%95%A8%EC%88%982.PNG)\n",
    "\n",
    "- 주황색 부분은 기울기를 계산하면 0에 가까운 아주 작은 값이 나오게 된다."
   ]
  },
  {
   "cell_type": "markdown",
   "metadata": {
    "colab_type": "text",
    "id": "z7xOsAE634oR"
   },
   "source": [
    "<br>\n",
    "\n",
    "#### 2.3.3.3 기울기 소실(Vanishing Gradient) 문제\n",
    "\n",
    "- 역전파 과정에서 0에 가까운 아주 작은 기울기가 곱해지게 되면, 앞단에는 기울기가 잘 전달되지 않는다.\n",
    "- 이러한 현상을 **기울기 소실(Vanishing Gradient) 문제**라고 한다."
   ]
  },
  {
   "cell_type": "markdown",
   "metadata": {
    "colab_type": "text",
    "id": "MXA_YsPQ4bEg"
   },
   "source": [
    "- 시그모이드 함수를 사용하는 은닉층의 개수가 다수가 될 경우에는 0에 가까운 기울기가 계속 곱해지면 앞단에서는 거의 기울기를 전파받을 수 없게 된다.\n",
    "- 다시 말해 매개변수 $W$가 업데이트 되지 않아 학습이 되지를 않는다."
   ]
  },
  {
   "cell_type": "markdown",
   "metadata": {
    "colab_type": "text",
    "id": "cfzs2UxJ4lco"
   },
   "source": [
    "$\\quad$ ![](https://wikidocs.net/images/page/60683/%EA%B8%B0%EC%9A%B8%EA%B8%B0_%EC%86%8C%EC%8B%A4.png)\n",
    "\n",
    "- 위의 그림은 은닉층이 깊은 신경망에서 기울기 소실 문제로 인해 출력층과 가까운 은닉층에서는 기울기가 잘 전파되지만, 앞단으로 갈수록 기울기가 제대로 전파되지 않는 모습을 보여준다.\n",
    "- 결론적으로 시그모이드 함수를 은닉층에서 사용하는 것은 지양된다."
   ]
  },
  {
   "cell_type": "markdown",
   "metadata": {
    "colab_type": "text",
    "id": "n5GN4FDo4xln"
   },
   "source": [
    "<br>\n",
    "\n",
    "### 2.3.4 하이퍼볼릭탄젠트 함수 (Hyperbolic tangent function)\n",
    "\n",
    "- 하이퍼볼릭탄젠트 함수(tanh)는 입력값을 -1과 1 사이의 값으로 변환한다."
   ]
  },
  {
   "cell_type": "code",
   "execution_count": 8,
   "metadata": {
    "colab": {
     "base_uri": "https://localhost:8080/",
     "height": 281
    },
    "colab_type": "code",
    "id": "d-1Ntbsv49lR",
    "outputId": "7685abe4-80af-4eec-cf9f-a681b867f965"
   },
   "outputs": [
    {
     "data": {
      "image/png": "[encoded data removed]",
      "text/plain": [
       "<Figure size 432x288 with 1 Axes>"
      ]
     },
     "metadata": {
      "tags": []
     },
     "output_type": "display_data"
    }
   ],
   "source": [
    "x = np.arange(-5.0, 5.0, 0.1)\n",
    "y = np.tanh(x)\n",
    "\n",
    "plt.plot(x, y)\n",
    "plt.plot([0,0],[1.0,-1.0], ':')\n",
    "plt.axhline(y=0, color='orange', linestyle='--')\n",
    "plt.title('Tanh Function')\n",
    "plt.show()"
   ]
  },
  {
   "cell_type": "markdown",
   "metadata": {
    "colab_type": "text",
    "id": "AqaJI7Mj9f65"
   },
   "source": [
    "- 하이퍼볼릭탄젠트 함수도 -1과 1에 가까운 출력값을 출력할 때, 시그모이드 함수와 같은 문제가 발생한다.\n",
    "- 그러나 하이퍼볼릭탄젠트 함수의 경우에는 시그모이드 함수와는 달리 0을 중심으로 하고 있다.\n",
    "- 이 때문에 시그모이드 함수와 비교하면 반환값의 변화폭이 더 크다.\n",
    "- 그래서 시그모이드 함수보다는 기울기 소실 증상이 적은 편이다.\n",
    "- 그래서 은닉층에서 시그모이드 함수보다는 많이 사용된다."
   ]
  },
  {
   "cell_type": "markdown",
   "metadata": {
    "colab_type": "text",
    "id": "ZNkkDxTC9q12"
   },
   "source": [
    "<br>\n",
    "\n",
    "### 2.3.5 렐루 함수 (ReLU)\n",
    "\n",
    "- 인공 신경망에서 가장 최고의 인기를 얻고 있는 함수이다.\n",
    "- 수식 : $f(x) = max(0, x)$"
   ]
  },
  {
   "cell_type": "code",
   "execution_count": null,
   "metadata": {
    "colab": {},
    "colab_type": "code",
    "id": "IVlSGcan921-"
   },
   "outputs": [],
   "source": [
    "def relu(x):\n",
    "    return np.maximum(0, x)"
   ]
  },
  {
   "cell_type": "code",
   "execution_count": 10,
   "metadata": {
    "colab": {
     "base_uri": "https://localhost:8080/",
     "height": 281
    },
    "colab_type": "code",
    "id": "zGgtUT9R96pW",
    "outputId": "ab0d05cf-79f6-4169-b997-f55dd60855e5"
   },
   "outputs": [
    {
     "data": {
      "image/png": "[encoded data removed]",
      "text/plain": [
       "<Figure size 432x288 with 1 Axes>"
      ]
     },
     "metadata": {
      "tags": []
     },
     "output_type": "display_data"
    }
   ],
   "source": [
    "x = np.arange(-5.0, 5.0, 0.1)\n",
    "y = relu(x)\n",
    "\n",
    "plt.plot(x, y)\n",
    "plt.plot([0,0],[5.0,0.0], ':')\n",
    "plt.title('Relu Function')\n",
    "plt.show()"
   ]
  },
  {
   "cell_type": "markdown",
   "metadata": {
    "colab_type": "text",
    "id": "dRwHLP8e98U-"
   },
   "source": [
    "<br>\n",
    "\n",
    "#### 2.3.5.1 렐루 함수의 출력\n",
    "\n",
    "- 음수를 입력 : 0을 출력\n",
    "- 양수를 입력 : 입력값을 그대로 반환"
   ]
  },
  {
   "cell_type": "markdown",
   "metadata": {
    "colab_type": "text",
    "id": "Hk6ubFwL-EiR"
   },
   "source": [
    "<br>\n",
    "\n",
    "#### 2.3.5.2 렐루 함수의 특징\n",
    "\n",
    "- 렐루 함수는 특정 양수값에 수렴하지 않으므로 깊은 신경망에서 시그모이드 함수보다 훨씬 더 잘 작동한다.\n",
    "- 뿐만 아니라, 렐루 함수는 시그모이드 함수와 하이퍼볼릭탄젠트 함수와 같이 어떤 연산이 필요한 것이 아니라 단순 임곗값이므로 연산 속도가 빠르다."
   ]
  },
  {
   "cell_type": "markdown",
   "metadata": {
    "colab_type": "text",
    "id": "YXC1ObJr-b-D"
   },
   "source": [
    "<br>\n",
    "\n",
    "#### 2.3.5.3 렐루 함수의 한계\n",
    "\n",
    "- 하지만 여전히 문제점이 존재한다.\n",
    "- 입력값이 음수면 기울기도 0이 된다.\n",
    "- 그리고 이 뉴런은 다시 회생하는 것이 매우 어렵다.\n",
    "- 이 문제를 **죽은 렐루(dying ReLU)**라고 한다."
   ]
  },
  {
   "cell_type": "markdown",
   "metadata": {
    "colab_type": "text",
    "id": "DRVEkDXC-m9M"
   },
   "source": [
    "<br>\n",
    "\n",
    "### 2.3.6 리키 렐루(Leaky ReLU)\n",
    "\n",
    "- 죽은 렐루를 보완하기 위해 ReLU의 변형 함수들이 등장하기 시작했다.\n",
    "- 변형 함수는 여러 개가 있지만 여기서는 Leaky ReLU에 대해서만 소개한다."
   ]
  },
  {
   "cell_type": "markdown",
   "metadata": {
    "colab_type": "text",
    "id": "0LN6wVZv-xRV"
   },
   "source": [
    "- Leaky ReLU는 입력값이 음수일 경우에 0이 아니라 0.001과 같은 매우 작은 수를 반환하도록 되어있다."
   ]
  },
  {
   "cell_type": "markdown",
   "metadata": {
    "colab_type": "text",
    "id": "ZKpmFead-0ck"
   },
   "source": [
    "- 수식 : $f(x) = max(ax, x)$\n",
    "- $a$\n",
    "  - 하이퍼 파라미터\n",
    "  - Leaky('새는') 정도를 결정\n",
    "  - 일반적으로는 0.01의 값을 가진다.\n",
    "- 여기서 말하는 '새는 정도' 라는 것은 입력값의 음수일 때의 기울기를 비유하고 있다."
   ]
  },
  {
   "cell_type": "code",
   "execution_count": null,
   "metadata": {
    "colab": {},
    "colab_type": "code",
    "id": "tQROCaSf_E5l"
   },
   "outputs": [],
   "source": [
    "a = 0.1"
   ]
  },
  {
   "cell_type": "code",
   "execution_count": null,
   "metadata": {
    "colab": {},
    "colab_type": "code",
    "id": "mjgTOocD_Fn-"
   },
   "outputs": [],
   "source": [
    "def leaky_relu(x):\n",
    "    return np.maximum(a*x, x)"
   ]
  },
  {
   "cell_type": "code",
   "execution_count": 16,
   "metadata": {
    "colab": {
     "base_uri": "https://localhost:8080/",
     "height": 281
    },
    "colab_type": "code",
    "id": "8TiaEfTF_KPd",
    "outputId": "903b5053-570f-4074-de38-3545e31e82a2"
   },
   "outputs": [
    {
     "data": {
      "image/png": "[encoded data removed]",
      "text/plain": [
       "<Figure size 432x288 with 1 Axes>"
      ]
     },
     "metadata": {
      "tags": []
     },
     "output_type": "display_data"
    }
   ],
   "source": [
    "x = np.arange(-5.0, 5.0, 0.1)\n",
    "y = leaky_relu(x)\n",
    "\n",
    "plt.plot(x, y)\n",
    "plt.plot([0,0], [5.0, 0.0], ':')\n",
    "plt.title('Leaky ReLU Function')\n",
    "plt.show()"
   ]
  },
  {
   "cell_type": "markdown",
   "metadata": {
    "colab_type": "text",
    "id": "dsphRr25_WTk"
   },
   "source": [
    "- 위의 그래프에서는 새는 모습을 확실히 보여주기 위해 a를 0.1로 잡았다.\n",
    "- 위와 같이 입력값이 음수라도 기울기가 0이 되지 않으면 ReLU는 죽지 않는다."
   ]
  },
  {
   "cell_type": "markdown",
   "metadata": {
    "colab_type": "text",
    "id": "QX8i5lbQ_gR_"
   },
   "source": [
    "<br>\n",
    "\n",
    "### 2.3.7 소프트맥스 함수 (Softmax function)\n",
    "\n",
    "- 은닉층에서 ReLU(또는 ReLU 변형) 함수들을 사용하는 것이 일반적이다.\n",
    "- 하지만 그렇다고 해서 앞서 배운 시그모이드 함수나 소프트맥스 함수가 사용되지 않는다는 의미는 아니다."
   ]
  },
  {
   "cell_type": "markdown",
   "metadata": {
    "colab_type": "text",
    "id": "bhHlSucm_siO"
   },
   "source": [
    "- 분류 문제를 로지스틱 회귀와 소프트맥스 회귀를 출력층에 적용하여 사용한다."
   ]
  },
  {
   "cell_type": "code",
   "execution_count": 17,
   "metadata": {
    "colab": {
     "base_uri": "https://localhost:8080/",
     "height": 281
    },
    "colab_type": "code",
    "id": "JFM0iZi-_wS6",
    "outputId": "34027e08-4ea9-4ce9-c9a8-56716debab42"
   },
   "outputs": [
    {
     "data": {
      "image/png": "[encoded data removed]",
      "text/plain": [
       "<Figure size 432x288 with 1 Axes>"
      ]
     },
     "metadata": {
      "tags": []
     },
     "output_type": "display_data"
    }
   ],
   "source": [
    "x = np.arange(-5.0, 5.0, 0.1) # -5.0부터 5.0까지 0.1 간격 생성\n",
    "y = np.exp(x) / np.sum(np.exp(x))\n",
    "\n",
    "plt.plot(x, y)\n",
    "plt.title('Softmax Function')\n",
    "plt.show()"
   ]
  },
  {
   "cell_type": "markdown",
   "metadata": {
    "colab_type": "text",
    "id": "bkh0jLqs_2kq"
   },
   "source": [
    "<br>\n",
    "\n",
    "#### 2.3.7.1 시그모이드 함수와 소프트맥스 함수의 사용\n",
    "\n",
    "- 소프트맥스 함수는 시그모이드 함수처럼 출력층의 뉴런에서 주로 사용된다."
   ]
  },
  {
   "cell_type": "markdown",
   "metadata": {
    "colab_type": "text",
    "id": "9lslOFedBp2H"
   },
   "source": [
    "- 시그모이드 함수\n",
    "  - 두 가지 선택지 중 하나를 고르는 이진 분류(Binary Classification) 문제에 사용됨\n"
   ]
  },
  {
   "cell_type": "markdown",
   "metadata": {
    "colab_type": "text",
    "id": "y-KUibD4BwLH"
   },
   "source": [
    "- 소프트맥스 함수\n",
    "  - 세 가지 이상의 (상호 베타적인) 선택지 중 하나를 고르는 다중 클래스 분류(MultiClass Classification) 문제에 사용됨"
   ]
  },
  {
   "cell_type": "markdown",
   "metadata": {
    "colab_type": "text",
    "id": "FPRVeYofQP2A"
   },
   "source": [
    "<br>\n",
    "\n",
    "## 2.4 행렬의 곱셈을 이용한 순전파(Forward Propagation)"
   ]
  },
  {
   "cell_type": "markdown",
   "metadata": {
    "colab_type": "text",
    "id": "yTv1dF8RB5HD"
   },
   "source": [
    "### 2.4.1 케라스를 이용한 인공 신경망 구현\n",
    "\n",
    "$\\quad$ ![](https://wikidocs.net/images/page/24987/neuralnetwork_final.PNG)\n",
    "\n",
    "- 위와 같은 인공 신경망이 있다고 하자.\n",
    "- 주어진 인공 신경망을 케라스로 구현해본다면 아래와 같이 짧은 코드로 구현할 수 있다."
   ]
  },
  {
   "cell_type": "code",
   "execution_count": 18,
   "metadata": {
    "colab": {
     "base_uri": "https://localhost:8080/",
     "height": 53
    },
    "colab_type": "code",
    "id": "jPg8Br8BLdS9",
    "outputId": "071e51f8-caaa-4ed1-ce5c-8f4703003e91"
   },
   "outputs": [
    {
     "name": "stdout",
     "output_type": "stream",
     "text": [
      "TensorFlow 2.x selected.\n"
     ]
    },
    {
     "data": {
      "text/plain": [
       "'2.1.0'"
      ]
     },
     "execution_count": 18,
     "metadata": {
      "tags": []
     },
     "output_type": "execute_result"
    }
   ],
   "source": [
    "%tensorflow_version 2.x\n",
    "\n",
    "import tensorflow as tf\n",
    "tf.__version__"
   ]
  },
  {
   "cell_type": "code",
   "execution_count": null,
   "metadata": {
    "colab": {},
    "colab_type": "code",
    "id": "zR-UqCO_LinO"
   },
   "outputs": [],
   "source": [
    "from keras.models import Sequential\n",
    "from keras.layers import Dense"
   ]
  },
  {
   "cell_type": "markdown",
   "metadata": {
    "colab_type": "text",
    "id": "PpODSbeHLpDt"
   },
   "source": [
    "```python\n",
    "# 층을 추가할 준비\n",
    "model = Sequential()\n",
    "\n",
    "# 입력층(4)과 다음 첫 번째 은닉층(8), 그리고 첫 번째 은닉층의 활성화 함수는 relu\n",
    "model.add(Dense(8, input_dim=4, init='uniform', activation='relu'))\n",
    "\n",
    "# 두 번째 은닉층(8)의 활성화 함수는 relu\n",
    "model.add(Dense(8, activation='relu'))\n",
    "\n",
    "# 출력층(3)의 활성화 함수는 소프트맥스\n",
    "model.add(3, activation='softmax')\n",
    "```"
   ]
  },
  {
   "cell_type": "markdown",
   "metadata": {
    "colab_type": "text",
    "id": "43-2YAFUMIJ8"
   },
   "source": [
    "- 위의 코드의 주석에서 `()` 괄호 안의 값 : 각 층에서의 뉴런의 수를 의미\n",
    "- 입력층부터 출력층까지 순차적으로 인공 신경망의 층을 한 층씩 추가하였다.\n",
    "- 케라스를 이용하면 간단하게 딥 러닝 모델을 구현할 수 있다."
   ]
  },
  {
   "cell_type": "markdown",
   "metadata": {
    "colab_type": "text",
    "id": "akJDcozMQXFT"
   },
   "source": [
    "<br>\n",
    "\n",
    "### 2.4.2 순전파(Forward Propagation)\n",
    "\n",
    "- 인공 신경망에서 입력층에서 출력층 방향으로 연산을 진행하는 과정을 **순전파(Forward Propagation)**라고 한다.\n",
    "- 다르게 말하면 주어진 입력으로부터 예측값을 계산하는 과정을 순전파라고 한다.\n",
    "-  앞서 머신 러닝 챕터에서 배웠던 벡터와 행렬 연산을 인공 신경망에 적용하려고 하면, 벡터와 행렬 연산이 순전파 과정에서 층(layer)마다 적용이 된다."
   ]
  },
  {
   "cell_type": "markdown",
   "metadata": {
    "colab_type": "text",
    "id": "VUZQWTWZQsMM"
   },
   "source": [
    "<br>\n",
    "\n",
    "### 2.4.3 행렬의 크기 결정\n",
    "\n",
    "- 사실 케라스로 인공 신경망을 만들면 이러한 연산 과정을 자세히 이해하지 않아도 모델을 만들 수는 있다.\n",
    "- 하지만, Numpy 등을 통해 인공 신경망을 로우 레벨로 개발하고 있다면 인공 신경망 내부 연산에 사용하는 행렬 크기를 고려해야 인공 신경망을 구현할 수 있다.\n",
    "- 그렇기 때문에 로우 레벨 단계에서는 행렬의 크기가 어떻게 결정되는지 이해해보자."
   ]
  },
  {
   "cell_type": "markdown",
   "metadata": {
    "colab_type": "text",
    "id": "6ZE9lCGRT6Oz"
   },
   "source": [
    "<br>\n",
    "\n",
    "#### 2.4.3.1 각 층의 입출력 개수 및 제약 조건\n",
    "\n",
    "- 우선 각 층을 기준으로 입력과 출력의 개수를 정리하면 다음과 같다.\n",
    "\n",
    "|   층    | 입력 갯수 | 출력 갯수 |\n",
    "| :-----: | :-------: | :-------: |\n",
    "| 입력층  |     4     |     8     |\n",
    "| 은닉층1 |     8     |     8     |\n",
    "| 은닉층2 |     8     |     3     |\n",
    "| 출력층  |     3     |     3     |\n",
    "\n",
    "- 편의상 각 층들을 다음과 같이 부르기로 한다.\n",
    "  - 입력층 : layer 0\n",
    "  - 은닉층 1 : layer 1\n",
    "  - 은닉층 2 : layer 2\n",
    "  - 출력층 : layer 3\n",
    "\n",
    "- 이제 위의 정보를 가지고 층마다 생기는 가중치와 편향 행렬의 크기를 추정해보자."
   ]
  },
  {
   "cell_type": "markdown",
   "metadata": {
    "colab_type": "text",
    "id": "c0Aj50AIUH3U"
   },
   "source": [
    "- 가중치 행렬과 입력 행렬을 곱하는 방법은 2 가지가 존재한다.\n",
    "  1. 가중치 행렬에 입력 행렬을 곱하는 경우 ($W X$)\n",
    "  2. 입력 행렬에 가중치 행렬을 곱하는 경우 ($X W$)"
   ]
  },
  {
   "cell_type": "markdown",
   "metadata": {
    "colab_type": "text",
    "id": "ZOp5lpzFUJek"
   },
   "source": [
    "- 여기서는 두 번째 방법을 가정한다. ($X W$)"
   ]
  },
  {
   "cell_type": "markdown",
   "metadata": {
    "colab_type": "text",
    "id": "QcJGHlk2ULJQ"
   },
   "source": [
    "- 또한 배치 크기는 1로 한다."
   ]
  },
  {
   "cell_type": "markdown",
   "metadata": {
    "colab_type": "text",
    "id": "OUTYORNCREtj"
   },
   "source": [
    "<br>\n",
    "\n",
    "#### 2.4.3.2 layer 1의 행렬 크기 추정하기\n",
    "\n"
   ]
  },
  {
   "cell_type": "markdown",
   "metadata": {
    "colab_type": "text",
    "id": "I78FraPbSSCw"
   },
   "source": [
    "- 이 경우 layer 1에서 처음 입력으로 들어오는 입력 행렬 $X$의 크기는 $1 \\times 4$로 행벡터가 된다.  \n",
    "(만약 미니 배치 학습을 가정할 경우, $X$의 크기는 배치의 크기 $\\times 4$가 된다.)"
   ]
  },
  {
   "cell_type": "markdown",
   "metadata": {
    "colab_type": "text",
    "id": "AuhFo9IFSkcg"
   },
   "source": [
    "- 입력 행렬, 가중치 행렬, 편향 행렬, 출력 행렬은 다음과 같은 크기 관계를 갖는다.\n",
    "\n",
    "$\n",
    "\\qquad\n",
    "X_{m \\times n} \\times W_{n \\times j} + B_{m \\times j} = Y_{m \\times j}\n",
    "$"
   ]
  },
  {
   "cell_type": "markdown",
   "metadata": {
    "colab_type": "text",
    "id": "g65j5S-US4I3"
   },
   "source": [
    "- layer 1의 입력 행렬 $X$의 크기는 $1 \\times 4$이다. ($m=1$, $n=4$)\n",
    "- layer 1의 출력은 8개이므로, 그에 따라 출력 행렬 $Y$의 크기는 $1 \\times 8$이 된다. ($j=8$)\n",
    "\n",
    "$\n",
    "\\qquad\n",
    "X_{1 \\times 4} \\times W_{n \\times j} + B_{m \\times j} = Y_{1 \\times 8}\n",
    "$"
   ]
  },
  {
   "cell_type": "markdown",
   "metadata": {
    "colab_type": "text",
    "id": "BoyIVkWiTRLO"
   },
   "source": [
    "- 그런데 가중치 행렬 $W$의 행은 입력 행렬 $X$의 열과 같아야 하므로 아래와 같다.\n",
    "\n",
    "$\n",
    "\\qquad\n",
    "X_{1 \\times 4} \\times W_{4 \\times j} + B_{m \\times j} = Y_{1 \\times 8}\n",
    "$"
   ]
  },
  {
   "cell_type": "markdown",
   "metadata": {
    "colab_type": "text",
    "id": "050yUt6yTa4G"
   },
   "source": [
    "- 편향 행렬 $B$는 출력 행렬 $Y$의 크기에 영향을 주지 않으므로 편향 행렬 $B$의 크기는 출력 행렬 $Y$의 크기와 같다.\n",
    "\n",
    "$\n",
    "\\qquad\n",
    "X_{1 \\times 4} \\times W_{4 \\times j} + B_{1 \\times 8} = Y_{1 \\times 8}\n",
    "$"
   ]
  },
  {
   "cell_type": "markdown",
   "metadata": {
    "colab_type": "text",
    "id": "D5eUgs5UTpRO"
   },
   "source": [
    "- 가중치 행렬 $W$의 열은 출력 행렬 $Y$의 열과 동일해야 한다.\n",
    "\n",
    "$\n",
    "\\qquad\n",
    "X_{1 \\times 4} \\times W_{4 \\times 8} + B_{1 \\times 8} = Y_{1 \\times 8}\n",
    "$"
   ]
  },
  {
   "cell_type": "markdown",
   "metadata": {
    "colab_type": "text",
    "id": "iJkW__xJTwDG"
   },
   "source": [
    "- 결과적으로 가중치 행렬 $W$의 크기는 $4 \\times 8$이 되고, 편향 행렬 $B$의 크기는 $1 \\times 8$이 된다.\n",
    "- 이제 layer 1의 출력 행렬 $Y$는 layer 2에서는 입력 행렬 $X$가 된다."
   ]
  },
  {
   "cell_type": "markdown",
   "metadata": {
    "colab_type": "text",
    "id": "NgtKxRADUVz1"
   },
   "source": [
    "<br>\n",
    "\n",
    "#### 2.4.3.3 layer 2와 layer 3의 행렬 크기 추정하기\n",
    "\n",
    "- 이를 반복하면 layer 2와 layer 3에서의 가중치 행렬과 편향 행렬의 크기를 구할 수 있다.\n",
    "- 비록 은닉층과 출력층에 활성화 함수가 존재하지만 **활성화 함수는 행렬의 크기에 영향을 주지 않는다.**\n",
    "\n",
    "- layer 2 : $X_{1 \\times 8} \\times W_{8 \\times 8} + B_{1 \\times 8} = Y_{1 \\times 8}$\n",
    "- layer 3 : $X_{1 \\times 8} \\times W_{8 \\times 3} + B_{1 \\times 3} = Y_{1 \\times 3}$"
   ]
  },
  {
   "cell_type": "markdown",
   "metadata": {
    "colab_type": "text",
    "id": "xeh0Z8huU1i7"
   },
   "source": [
    "<br>\n",
    "\n",
    "### 2.4.4 순전파 진행 후 해야 할 일\n",
    "\n",
    "- 이와 같이 순전파를 진행하고 예측값을 구하고 나서 이 다음에 인공 신경망이 해야 할 일은 다음과 같다.\n",
    "  - 예측값과 실제값으로부터 오차를 계산 (비용 함수)\n",
    "  - 오차로부터 가중치와 편향을 업데이트 (옵티마이저)\n",
    "- 즉, 이는 인공 신경망의 **학습 단계**에 해당된다."
   ]
  },
  {
   "cell_type": "markdown",
   "metadata": {
    "colab_type": "text",
    "id": "c10JnDTkVQFr"
   },
   "source": [
    "<br>\n",
    "\n",
    "### 2.4.5 역전파 (BackPropagation)\n",
    "\n",
    "- 이 때 인공 신경망은 순전파와는 반대 방향으로 연산을 진행하며 가중치를 업데이트 한다.\n",
    "- 이 과정을 **역전파(BackPropagation)**라고 한다."
   ]
  },
  {
   "cell_type": "markdown",
   "metadata": {
    "colab_type": "text",
    "id": "gbh-l4lKVaOj"
   },
   "source": [
    "<br>\n",
    "\n",
    "### 2.4.6 순전파 과정 참고 영상\n",
    "\n",
    "- [영상 링크](https://www.youtube.com/watch?v=UJwK6jAStmg)"
   ]
  },
  {
   "cell_type": "markdown",
   "metadata": {
    "colab_type": "text",
    "id": "G1-rwOe4ViPz"
   },
   "source": [
    "- 위의 영상은 행렬을 통한 인공 신경망의 순전파 과정을 영상을 통해 보여준다.\n",
    "- 이번 설명에서 배치 크기를 1로 가정했지만, 위의 영상에서는 3개의 데이터를 한 꺼번에 연산한다.\n",
    "- 즉, 입렬 행렬 $X$의 행이 3이 되는 것이다.\n",
    "- 하지만 행렬의 크기가 결정되는 원리는 달라지지 않는다."
   ]
  }
 ],
 "metadata": {
  "colab": {
   "collapsed_sections": [],
   "name": "Ch08_v02_Artificial-Neural-Network.ipynb",
   "provenance": []
  },
  "kernelspec": {
   "display_name": "Python 3",
   "language": "python",
   "name": "python3"
  },
  "language_info": {
   "codemirror_mode": {
    "name": "ipython",
    "version": 3
   },
   "file_extension": ".py",
   "mimetype": "text/x-python",
   "name": "python",
   "nbconvert_exporter": "python",
   "pygments_lexer": "ipython3",
   "version": "3.6.9"
  }
 },
 "nbformat": 4,
 "nbformat_minor": 4
}
