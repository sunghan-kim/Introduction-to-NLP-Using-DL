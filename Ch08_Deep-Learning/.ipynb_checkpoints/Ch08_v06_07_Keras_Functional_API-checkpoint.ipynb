{
 "cells": [
  {
   "cell_type": "markdown",
   "metadata": {
    "colab_type": "text",
    "id": "RXmDEMduJkI5"
   },
   "source": [
    "# Ch08. 딥 러닝(Deep Learning) 개요"
   ]
  },
  {
   "cell_type": "markdown",
   "metadata": {
    "colab_type": "text",
    "id": "UZQTnar_JqeG"
   },
   "source": [
    "# v06. 케라스(Keras) 훑어보기"
   ]
  },
  {
   "cell_type": "markdown",
   "metadata": {
    "colab_type": "text",
    "id": "KH5Zl3LUJtLF"
   },
   "source": [
    "# 6.7 케라스의 함수형 API (Keras Functional API)"
   ]
  },
  {
   "cell_type": "markdown",
   "metadata": {
    "colab_type": "text",
    "id": "TsSJwUPXJxGl"
   },
   "source": [
    "- 케라스를 사용하여 모델을 설계하는 방식을 Sequential API를 사용한다.\n",
    "- 그런데 Sequential API는 여러 층을 공유하거나 다양한 종류의 입력과 출력을 사용하는 등의 복잡한 모델을 만드는 일을 하기에는 한계가 있다.\n",
    "- 이번에는 복잡한 모델을 생성할 수 있는 방식인 **함수형 API(Functional API)**에 대해 알아보자."
   ]
  },
  {
   "cell_type": "markdown",
   "metadata": {
    "colab_type": "text",
    "id": "UFQGDV96MdL3"
   },
   "source": [
    "- functional API에 대한 자세한 소개는 [케라스 공식 문서](https://keras.io/getting-started/functional-api-guide/)에서도 확인할 수 있다."
   ]
  },
  {
   "cell_type": "markdown",
   "metadata": {
    "colab_type": "text",
    "id": "2b6rkXMWMjtB"
   },
   "source": [
    "<br>\n",
    "\n",
    "## 6.7.1 Sequential API로 만든 모델\n",
    "\n",
    "- 두 가지 API의 차이를 이해하기 위해서 앞서 배운 Sequential API를 사용하여 기본적인 모델을 만들어 보자.\n",
    "\n",
    "```python\n",
    "from tensorflow.keras.models import Sequential\n",
    "from tensorflow.keras.layers import Dense\n",
    "\n",
    "model = Sequential()\n",
    "model.add(Dense(3, input_dim=4, activation='softmax'))\n",
    "```\n",
    "\n",
    "- 위와 같은 방식은 직관적이고 편리하지만 단순히 층을 쌓는 것만으로는 구현할 수 없는 복잡한 인공 신경망을 구현할 수 없다."
   ]
  },
  {
   "cell_type": "markdown",
   "metadata": {
    "colab_type": "text",
    "id": "qZpM1ZhNNKB5"
   },
   "source": [
    "<br>\n",
    "\n",
    "## 6.7.2 functional API로 만든 모델\n",
    "\n",
    "- functional API는 각 층을 일종의 함수(function)로서 정의한다.\n",
    "- 그리고 각 함수를 조합하기 위한 연산자들을 제공한다.\n",
    "- 이를 이용하여 신경망을 설계한다.\n",
    "- functional API로 FFNN, RNN 등 다양한 모델을 만들면서 기존의 sequential API와의 차이를 이해해보자."
   ]
  },
  {
   "cell_type": "markdown",
   "metadata": {
    "colab_type": "text",
    "id": "RO1GNwdtd37I"
   },
   "source": [
    "<br>\n",
    "\n",
    "### 6.7.2.1 전결합 피드 포워드 신경망 (Fully-connected FFNN)\n",
    "\n",
    "- sequential API와는 다르게 functional API에서는 입력 데이터의 크기(shape)를 인자로 입력층을 정의해줘야 한다.\n",
    "- 여기서는 입력의 차원이 1인 전결합 피드 포워드 신경망(Fully-connected FFNN)을 만든다고 가정하자."
   ]
  },
  {
   "cell_type": "markdown",
   "metadata": {
    "colab_type": "text",
    "id": "ujL80ohEeVkZ"
   },
   "source": [
    "<br>\n",
    "\n",
    "```python\n",
    "from tensorflow.keras.layers import Input\n",
    "\n",
    "# 텐서를 리턴한다.\n",
    "inputs = Input(shape=(10,))\n",
    "```\n",
    "\n",
    "- 위 코드는 10개의 입력을 받는 입력층을 보여준다."
   ]
  },
  {
   "cell_type": "markdown",
   "metadata": {
    "colab_type": "text",
    "id": "GdeIHldfeYIg"
   },
   "source": [
    "<br>\n",
    "\n",
    "- 이제 위의 코드에 은닉층과 출력층을 추가해보자.\n",
    "\n",
    "```python\n",
    "from tensorflow.keras.layer import Input, Dense\n",
    "\n",
    "inputs = Input(shape=(10,))\n",
    "hidden1 = Dense(64, activation='relu')(inputs)\n",
    "hidden2 = Dense(64, activation='relu')(hidden1)\n",
    "output = Dense(1, activation='sigmoid')(hidden2)\n",
    "```"
   ]
  },
  {
   "cell_type": "markdown",
   "metadata": {
    "colab_type": "text",
    "id": "aFr5dFBvesM3"
   },
   "source": [
    "<br>\n",
    "\n",
    "- 이제 위의 코드를 하나의 모델로 구성해보자.\n",
    "- 이는 `Model()`에 입력 텐서와 출력 텐서를 정의하여 완성된다.\n",
    "\n",
    "```python\n",
    "from tensorflow.keras.layer import Input, Dense\n",
    "from tensorflow.keras.models import Model\n",
    "\n",
    "inputs = Input(shape=(10,))\n",
    "hidden1 = Dense(64, activation='relu')(inputs)\n",
    "hidden2 = Dense(64, activation='relu')(hidden1)\n",
    "output = Dense(1, activation='sigmoid')(hidden2)\n",
    "\n",
    "model = Model(inputs=inputs, outputs=output)\n",
    "```"
   ]
  },
  {
   "cell_type": "markdown",
   "metadata": {
    "colab_type": "text",
    "id": "Ur-V4MRae-jG"
   },
   "source": [
    "<br>\n",
    "\n",
    "- 지금까지의 내용을 정리하면 다음과 같다.\n",
    "  - `Input()` 함수에 입력의 크기를 정의한다.\n",
    "  - 이전층을 다음층 함수의 입력으로 사용하고, 변수에 할당한다.\n",
    "  - `Model()` 함수에 입력과 출력을 정의한다."
   ]
  },
  {
   "cell_type": "markdown",
   "metadata": {
    "colab_type": "text",
    "id": "KxNyeOeUfLEu"
   },
   "source": [
    "<br>\n",
    "\n",
    "- 이를 `model`로 저장하면 sequential API를 사용할 때와 마찬가지로 `model.compile()`, `model.fit()` 등을 사용 가능하다.\n",
    "\n",
    "```python\n",
    "model.compile(optimizer='rmsprop', loss='categorical_crossentropy', metrics=['accuracy'])\n",
    "model.fit(data, labels)\n",
    "```"
   ]
  },
  {
   "cell_type": "markdown",
   "metadata": {
    "colab_type": "text",
    "id": "TzYGsfSffmOW"
   },
   "source": [
    "<br>\n",
    "\n",
    "- 이번에는 변수명을 달리해서 FFNN을 만들어보자.\n",
    "- 이번에는 은닉층과 출력층의 변수를 전부 `x`로 통일했다.\n",
    "\n",
    "```python\n",
    "inputs = Input(shape=(10,))\n",
    "x = Dense(8, activation='relu')(inputs)\n",
    "x = Dense(4, activation='relu')(x)\n",
    "x = Dense(1, activation='linear')(x)\n",
    "\n",
    "model = Model(inputs, x)\n",
    "```"
   ]
  },
  {
   "cell_type": "markdown",
   "metadata": {
    "colab_type": "text",
    "id": "RgyFe-fIf42f"
   },
   "source": [
    "<br>\n",
    "\n",
    "### 6.7.2.2 선형 회귀 (Linear Regression)\n",
    "\n",
    "- 위에서 배운 내용을 바탕으로 선형 회귀 functional API를 구현해보자.\n",
    "\n",
    "```python\n",
    "from tensorflow.keras.layers import Input, Dense\n",
    "from tensorflow.keras.models import Model\n",
    "\n",
    "inputs = Input(shape=(3,))\n",
    "output = Dense(1, activation='linear')(inputs)\n",
    "\n",
    "linear_model = Model(inputs, output)\n",
    "\n",
    "linear_model.compile(optimizer='sgd', loss='mse')\n",
    "\n",
    "linear_model.fit(x=dat_test, y=y_cts_test, epochs=50, verbose=0)\n",
    "linear_model.fit(x=dat_test, y=y_cts_test, epochs=1, verbose=1)\n",
    "```"
   ]
  },
  {
   "cell_type": "markdown",
   "metadata": {
    "colab_type": "text",
    "id": "mU1S-8f4gfst"
   },
   "source": [
    "<br>\n",
    "\n",
    "### 6.7.2.3 로지스틱 회귀 (Logistic Regression)\n",
    "\n",
    "- 로지스틱 회귀 functional API는 다음과 같다.\n",
    "\n",
    "```python\n",
    "from tensorflow.keras.layers import Input, Dense\n",
    "from tensorflow.keras.models import Model\n",
    "\n",
    "inputs = Input(shape=(3,))\n",
    "output = Dense(1, activation='sigmoid')(inputs)\n",
    "\n",
    "logistic_model = Model(inputs, output)\n",
    "\n",
    "logistic_model.compile(optimizer='sgd', loss='binary_crossentropy', metrics=['accuracy'])\n",
    "logistic_model.optimizer.lr = 0.001\n",
    "\n",
    "logistic_model.fit(x=dat_train, y=y_classifier_train, epochs=5, validation_data=(dat_test, y_classifier_test))\n",
    "```"
   ]
  },
  {
   "cell_type": "markdown",
   "metadata": {
    "colab_type": "text",
    "id": "oSpLE1zXhLJU"
   },
   "source": [
    "<br>\n",
    "\n",
    "### 6.7.2.4 다중 입력을 받는 모델 (model that accepts multiple inputs)\n",
    "\n",
    "- functional API를 사용하면 아래와 같이 다중 입력과 다중 출력을 가지는 모델도 만들 수 있다.\n",
    "\n",
    "```python\n",
    "# 최종 완성된 다중 입력, 다중 출력의 예\n",
    "model = Model(inputs=[a1, a2], outputs=[b1, b2, b3])\n",
    "```"
   ]
  },
  {
   "cell_type": "markdown",
   "metadata": {
    "colab_type": "text",
    "id": "UlzvfrjRjJaw"
   },
   "source": [
    "<br>\n",
    "\n",
    "- 다중 입력을 받는 모델을 입력층부터 출력층까지 설계해보자.\n",
    "\n",
    "```python\n",
    "from tensorflow.keras.layers import Input, Dense, concatenate\n",
    "from tensorflow.keras.models import Model\n",
    "\n",
    "# 두 개의 입력층을 정의\n",
    "inputA = Input(shape=(64,))\n",
    "inputB = Input(shape=(128,))\n",
    "\n",
    "# 첫 번째 입력층으로부터 분기되어 진행되는 인공 신경망을 정의\n",
    "x = Dense(16, activation='relu')(inputA)\n",
    "x = Dense(8, activation='relu')(x)\n",
    "\n",
    "x = Model(inputs=inputA, outputs=x)\n",
    "\n",
    "# 두 번째 입력층으로부터 분기되어 진행되는 인공 신경망을 정의\n",
    "y = Dense(64, activation='relu')(inputB)\n",
    "y = Dense(16, activation='relu')(y)\n",
    "y = Dense(8, activation='relu')(y)\n",
    "\n",
    "y = Model(inputs=inputB, outputs=y)\n",
    "\n",
    "# 두 개의 인공 신경망의 출력을 연결 (concatenate)\n",
    "result = concatenate([x.output, y.output])\n",
    "\n",
    "# 연결된 값을 입력으로 받는 밀집층 추가 (Dense layer)\n",
    "z = Dense(2, activation='relu')(result)\n",
    "\n",
    "# 선형 회귀를 위해 activation='linear'를 설정\n",
    "z = Dense(1, activation='linear')(z)\n",
    "\n",
    "# 결과적으로 이 모델은 두 개의 입력층으로부터 분기되어 진행된 후 마지막에는 아나의 출력을 예측하는 모델이 됨\n",
    "model = Model(inputs=[x.input, y.input], outputs=z)\n",
    "```"
   ]
  },
  {
   "cell_type": "markdown",
   "metadata": {
    "colab_type": "text",
    "id": "lwjL3BOrke4B"
   },
   "source": [
    "<br>\n",
    "\n",
    "### 6.7.2.5 RNN(Recurrent Neural Network) 은닉층 사용하기\n",
    "\n",
    "- RNN 은닉층을 가지는 모델을 설계해보자.\n",
    "- 여기서는 하나의 특성(feature)에 50개의 시점(time-step)을 입력으로 받는 모델을 설계해보자.\n",
    "- RNN에 대한 구체적인 사항은 다음 챕터에서 배운다.\n",
    "\n",
    "```python\n",
    "from tensorflow.keras.layers import Input, Dense, LSTM\n",
    "from tensorflow.keras.models import Model\n",
    "\n",
    "inputs = Input(shape=(50, 1))\n",
    "\n",
    "lstm_layer = LSTM(10)(inputs) # RNN의 일종인 LSTM을 사용\n",
    "x = Dense(10, activation='relu')(lstm_layer)\n",
    "\n",
    "output = Dense(1, activation='sigmoid')(x)\n",
    "\n",
    "model = Model(inputs=inputs, outputs=output)\n",
    "```\n",
    "\n",
    "- 다수의 입력과 다수의 출력을 가지는 좀 더 다양한 예제는 앞서 소개한 케라스 공식 문서에서 확인할 수 있다."
   ]
  },
  {
   "cell_type": "markdown",
   "metadata": {
    "colab_type": "text",
    "id": "LU6xqZr_l6rD"
   },
   "source": [
    "<br>\n",
    "\n",
    "### 6.7.2.6 다르게 보이지만 동일한 표기\n",
    "\n",
    "- 케라스의 functional API가 익숙하지 않은 상태에서 functional API를 사용한 코드를 보다가 혼동할 수 있는 점이 한 가지 있다.\n",
    "- 바로 동일한 의미를 가지지만, 하나의 줄로 표현할 수 있는 코드를 두 개의 줄로 표현한 경우이다.\n",
    "\n",
    "```python\n",
    "encoder = Dense(128)(input)\n",
    "```\n",
    "\n",
    "- 위 코드는 아래와 같이 두 개의 줄로 표현할 수 있다.\n",
    "\n",
    "```python\n",
    "encoder = Dense(128)\n",
    "encoder(input)\n",
    "```"
   ]
  }
 ],
 "metadata": {
  "colab": {
   "collapsed_sections": [],
   "name": "Ch08_v06_07_Keras-Functional-API.ipynb",
   "provenance": []
  },
  "kernelspec": {
   "display_name": "Python 3",
   "language": "python",
   "name": "python3"
  },
  "language_info": {
   "codemirror_mode": {
    "name": "ipython",
    "version": 3
   },
   "file_extension": ".py",
   "mimetype": "text/x-python",
   "name": "python",
   "nbconvert_exporter": "python",
   "pygments_lexer": "ipython3",
   "version": "3.6.9"
  }
 },
 "nbformat": 4,
 "nbformat_minor": 4
}
