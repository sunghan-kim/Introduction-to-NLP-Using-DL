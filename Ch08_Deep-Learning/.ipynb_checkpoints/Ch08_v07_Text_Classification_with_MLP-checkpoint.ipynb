{
 "cells": [
  {
   "cell_type": "markdown",
   "metadata": {
    "colab_type": "text",
    "id": "xr4HIhOsdwX4"
   },
   "source": [
    "# Ch08. 딥 러닝(Deep Learning) 개요"
   ]
  },
  {
   "cell_type": "markdown",
   "metadata": {
    "colab_type": "text",
    "id": "IbBSZR3md4rY"
   },
   "source": [
    "# v07. 다층 퍼셉트론(Multi Layer Perceptron, MLP)으로 텍스트 분류하기"
   ]
  },
  {
   "cell_type": "markdown",
   "metadata": {
    "colab_type": "text",
    "id": "KzX5dCuxeABX"
   },
   "source": [
    "## 7.1 다층 퍼셉트론(Multi Layer Perceptron, MLP)\n",
    "\n",
    "- 단층 퍼셉트론의 형태에서 은닉층이 1개 이상 추가된 신경망을 **다층 퍼셉트론(MLP)**이라고 한다.\n",
    "- 다층 퍼셉트론은 **피드 포워드 신경망(Feed Forward Neural Network, FFNN)**의 가장 기본적인 형태이다.  \n",
    "(피드 포워드 신경망 : 입력층에서 출력층으로 오직 한 방향으로만 연산 방향이 정해져 있는 신경망)"
   ]
  },
  {
   "cell_type": "markdown",
   "metadata": {
    "colab_type": "text",
    "id": "THv8yl7Xewsy"
   },
   "source": [
    "- 뒤에서는 다음 2가지의 새로운 개념들을 사용하여 자연어 처리 실습을 한다.\n",
    "  - 순환 신경망(RNN)\n",
    "  - 분산 표현(distributed representation)\n",
    "- 이번 챕터에서는 다음 두 가지 개념 없이 지금까지 배운 개념만으로도 자연어 처리를 할 수 있다는 것을 보여준다."
   ]
  },
  {
   "cell_type": "markdown",
   "metadata": {
    "colab_type": "text",
    "id": "_nThX082fKZR"
   },
   "source": [
    "<br>\n",
    "\n",
    "## 7.2 케라스의 `texts_to_matrix()` 이해하기\n",
    "\n",
    "- MLP로 텍스트 분류를 수행하기 전에 이번에 사용할 도구인 케라스의 `Tokenizer`의 `texts_to_matrix()`를 이해해보자."
   ]
  },
  {
   "cell_type": "markdown",
   "metadata": {
    "colab_type": "text",
    "id": "h4Dx0ncIfN5A"
   },
   "source": [
    "<br>\n",
    "\n",
    "### 7.2.1 라이브러리 임포트"
   ]
  },
  {
   "cell_type": "code",
   "execution_count": 36,
   "metadata": {
    "colab": {
     "base_uri": "https://localhost:8080/",
     "height": 35
    },
    "colab_type": "code",
    "id": "q3FfFbCCfodj",
    "outputId": "0fcbb82a-ff24-48bc-b6ef-5948b793d7a1"
   },
   "outputs": [
    {
     "data": {
      "text/plain": [
       "'2.1.0'"
      ]
     },
     "execution_count": 36,
     "metadata": {
      "tags": []
     },
     "output_type": "execute_result"
    }
   ],
   "source": [
    "%tensorflow_version 2.x\n",
    "\n",
    "import tensorflow as tf\n",
    "tf.__version__"
   ]
  },
  {
   "cell_type": "code",
   "execution_count": null,
   "metadata": {
    "colab": {},
    "colab_type": "code",
    "id": "AstBaYF3fqvB"
   },
   "outputs": [],
   "source": [
    "import numpy as np\n",
    "from tensorflow.keras.preprocessing.text import Tokenizer"
   ]
  },
  {
   "cell_type": "markdown",
   "metadata": {
    "colab_type": "text",
    "id": "L6opfaLVfw_4"
   },
   "source": [
    "<br>\n",
    "\n",
    "### 7.2.2 텍스트 데이터\n",
    "\n",
    "- 여기에서 사용할 텍스트 데이터는 다음 네 문장이다."
   ]
  },
  {
   "cell_type": "code",
   "execution_count": null,
   "metadata": {
    "colab": {},
    "colab_type": "code",
    "id": "enES0eZ_f5To"
   },
   "outputs": [],
   "source": [
    "texts = ['먹고 싶은 사과',\n",
    "         '먹고 싶은 바나나',\n",
    "         '길고 노란 바나나 바나나',\n",
    "         '저는 과일이 좋아요']"
   ]
  },
  {
   "cell_type": "markdown",
   "metadata": {
    "colab_type": "text",
    "id": "Fg7zbBZegC-X"
   },
   "source": [
    "<br>\n",
    "\n",
    "### 7.2.3 정수 인코딩\n",
    "\n",
    "- 위의 텍스트 데이터에 대해서 정수 인코딩을 수행한다.\n",
    "- `Tokenizer().fit_on_texts()`를 이용해 텍스트 데이터를 단어들로 분리한 뒤, 각 단어에 정수 인덱스를 부여한다."
   ]
  },
  {
   "cell_type": "code",
   "execution_count": 39,
   "metadata": {
    "colab": {
     "base_uri": "https://localhost:8080/",
     "height": 35
    },
    "colab_type": "code",
    "id": "jZLiSjSDgUlo",
    "outputId": "e047ce29-36b5-4579-d7fa-c85ec6426c9e"
   },
   "outputs": [
    {
     "name": "stdout",
     "output_type": "stream",
     "text": [
      "{'바나나': 1, '먹고': 2, '싶은': 3, '사과': 4, '길고': 5, '노란': 6, '저는': 7, '과일이': 8, '좋아요': 9}\n"
     ]
    }
   ],
   "source": [
    "t = Tokenizer()\n",
    "t.fit_on_texts(texts)\n",
    "print(t.word_index)"
   ]
  },
  {
   "cell_type": "markdown",
   "metadata": {
    "colab_type": "text",
    "id": "8Pf7mbcQgaDo"
   },
   "source": [
    "- 각 단어에 숫자 1부터 시작하는 정수 인덱스가 부여됐다."
   ]
  },
  {
   "cell_type": "markdown",
   "metadata": {
    "colab_type": "text",
    "id": "ri2asvicghrP"
   },
   "source": [
    "<br>\n",
    "\n",
    "### 7.2.4 `texts_to_matrix()` 사용\n",
    "\n",
    "- 이 도구는 입력된 텍스트 데이터로부터 행렬(matrix)을 만드는 도구이다.\n",
    "- `texts_to_matrix()`는 다음 4가지의 모드를 지원한다.\n",
    "  - `mode='binary'`\n",
    "  - `mode='count'`\n",
    "  - `mode='freq'`\n",
    "  - `mode='tfidf'`"
   ]
  },
  {
   "cell_type": "markdown",
   "metadata": {
    "colab_type": "text",
    "id": "5kOtohEAg009"
   },
   "source": [
    "<br>\n",
    "\n",
    "#### 7.2.4.1 `texts_to_matrix(mode='count')`\n",
    "\n",
    "- `'count'` 모드를 사용하면 앞서 배운 **문서 단어 행렬(Document-Term Matrix, DTM)**을 생성한다.\n",
    "- DTM에서의 인덱스는 앞서 확인한 `word_index`의 결과이다."
   ]
  },
  {
   "cell_type": "code",
   "execution_count": 40,
   "metadata": {
    "colab": {
     "base_uri": "https://localhost:8080/",
     "height": 89
    },
    "colab_type": "code",
    "id": "8vkuBI_Kg8EV",
    "outputId": "01f6fdac-ad06-4660-8a8e-37cf40e3fd30"
   },
   "outputs": [
    {
     "name": "stdout",
     "output_type": "stream",
     "text": [
      "[[0. 0. 1. 1. 1. 0. 0. 0. 0. 0.]\n",
      " [0. 1. 1. 1. 0. 0. 0. 0. 0. 0.]\n",
      " [0. 2. 0. 0. 0. 1. 1. 0. 0. 0.]\n",
      " [0. 0. 0. 0. 0. 0. 0. 1. 1. 1.]]\n"
     ]
    }
   ],
   "source": [
    "print(t.texts_to_matrix(texts, mode='count'))"
   ]
  },
  {
   "cell_type": "markdown",
   "metadata": {
    "colab_type": "text",
    "id": "VUM9v0jghK58"
   },
   "source": [
    "**주의할 점**\n",
    "\n",
    "- 각 단어에 부여되는 인덱스는 1부터 시작하는 반면, 완성되는 행렬의 인덱스는 0부터 시작한다.\n",
    "- 실제로 단어의 개수는 9개였지만, \n",
    "  - 완성된 행렬의 열의 개수는 10개\n",
    "  - 첫 번째 열은 모든 행에서 값이 0  \n",
    "  (인덱스 0에는 그 어떤 단어도 할당되지 않았기 때문)"
   ]
  },
  {
   "cell_type": "markdown",
   "metadata": {
    "colab_type": "text",
    "id": "LBgfapa-hkWc"
   },
   "source": [
    "**네 번째 행**\n",
    "\n",
    "- 네 번째 행은 테스트 데이터에서 네 번째 문장을 의미한다.\n",
    "- 네번째 행은 8번째 열, 9번째 열, 10번째 열에서 1의 값을 가진다.\n",
    "- 이는 7번 단어, 8번 단어, 9번 단어가 네번째 문장에서 1개씩 존재함을 의미한다.\n",
    "- 위에서 정수 인코딩 된 결과를 보면 7번 단어는 '저는', 8번 단어는 '과일이', 9번 단어는 '좋아요'이다."
   ]
  },
  {
   "cell_type": "markdown",
   "metadata": {
    "colab_type": "text",
    "id": "7lEqsenzh8Jc"
   },
   "source": [
    "**세 번째 행**\n",
    "\n",
    "- 세 번째 행의 첫 번째 열의 값은 2이다.\n",
    "- 이는 세 번째 문장에서 1번 인덱스를 가진 바나나가 두 번 등장했기 때문이다."
   ]
  },
  {
   "cell_type": "markdown",
   "metadata": {
    "colab_type": "text",
    "id": "OgWFuX_1iFDL"
   },
   "source": [
    "**단어 순서 정보**\n",
    "\n",
    "- DTM은 bag of words를 기반으로 하므로 **단어의 순서 정보는 보존되지 않는다.**\n",
    "- 사실 더 구체적으로 4개의 모든 모드에서 단어 순서 정보는 보존되지 않는다."
   ]
  },
  {
   "cell_type": "markdown",
   "metadata": {
    "colab_type": "text",
    "id": "76XGA7voiVRj"
   },
   "source": [
    "<br>\n",
    "\n",
    "#### 7.2.4.2 `texts_to_matrix(mode='binary')`"
   ]
  },
  {
   "cell_type": "code",
   "execution_count": 41,
   "metadata": {
    "colab": {
     "base_uri": "https://localhost:8080/",
     "height": 89
    },
    "colab_type": "code",
    "id": "N-0oipb2iavD",
    "outputId": "f4d348de-d217-4b86-84e7-dcfe59f29228"
   },
   "outputs": [
    {
     "name": "stdout",
     "output_type": "stream",
     "text": [
      "[[0. 0. 1. 1. 1. 0. 0. 0. 0. 0.]\n",
      " [0. 1. 1. 1. 0. 0. 0. 0. 0. 0.]\n",
      " [0. 1. 0. 0. 0. 1. 1. 0. 0. 0.]\n",
      " [0. 0. 0. 0. 0. 0. 0. 1. 1. 1.]]\n"
     ]
    }
   ],
   "source": [
    "print(t.texts_to_matrix(texts, mode='binary'))"
   ]
  },
  {
   "cell_type": "markdown",
   "metadata": {
    "colab_type": "text",
    "id": "qUz7sn7HieUE"
   },
   "source": [
    "- DTM과 결과가 매우 유사해보인다.\n",
    "- 다만 세 번째 행의 두 번째 열의 값이 DTM에서는 2였는데 여기서는 1로 바뀌었다.\n",
    "- 그 이유는 `'binary'` 모드는 해당 단어가 존재하는 지만 관심을 가지고 해당 단어가 몇 개 였는 지는 무시하기 때문이다.\n",
    "- 해당 단어가 존재하면 1, 단어가 존재하지 않으면 0의 값을 가진다.\n",
    "- 즉, **단어의 존재 유무로만 행렬을 표현**한다."
   ]
  },
  {
   "cell_type": "markdown",
   "metadata": {
    "colab_type": "text",
    "id": "RGRFxEACjlTi"
   },
   "source": [
    "<br>\n",
    "\n",
    "#### 7.2.4.3 `texts_to_matrix(mode='tfidf')`"
   ]
  },
  {
   "cell_type": "code",
   "execution_count": 42,
   "metadata": {
    "colab": {
     "base_uri": "https://localhost:8080/",
     "height": 89
    },
    "colab_type": "code",
    "id": "1DPSNtJJjnmZ",
    "outputId": "34419ea8-f393-4a6e-c65f-561ebd82bce4"
   },
   "outputs": [
    {
     "name": "stdout",
     "output_type": "stream",
     "text": [
      "[[0.   0.   0.85 0.85 1.1  0.   0.   0.   0.   0.  ]\n",
      " [0.   0.85 0.85 0.85 0.   0.   0.   0.   0.   0.  ]\n",
      " [0.   1.43 0.   0.   0.   1.1  1.1  0.   0.   0.  ]\n",
      " [0.   0.   0.   0.   0.   0.   0.   1.1  1.1  1.1 ]]\n"
     ]
    }
   ],
   "source": [
    "print(t.texts_to_matrix(texts, mode='tfidf').round(2))"
   ]
  },
  {
   "cell_type": "markdown",
   "metadata": {
    "colab_type": "text",
    "id": "5p7EjHyqjxzJ"
   },
   "source": [
    "- `'tfidf'` 모드는 말 그대로 TF-IDF 행렬을 만든다.\n",
    "- 다만, TF-IDF 챕터에서 배운 기본식이나 사이킷런의 `TfidfVectorizer`에서 사용하는 식과는 차이가 있다.\n",
    "  - 앞서 배운 기본식에서의 TF : 각 문서에서의 각 단어의 빈도\n",
    "  - `'tfidf'` 모드에서의 TF : 각 문서에서의 각 단어의 빈도에 자연 로그를 씌우고 1을 더한 값으로 정의\n",
    "  - `'tfidf'` 모드에서의 IDF : 기본식에서 로그는 자연 로그를 사용, 로그 안의 분수에 1을 추가로 더함"
   ]
  },
  {
   "cell_type": "markdown",
   "metadata": {
    "colab_type": "text",
    "id": "LKm-e_fdkUq1"
   },
   "source": [
    "<br>\n",
    "\n",
    "#### 7.2.4.4 `texts_to_matrix(mode='freq')`"
   ]
  },
  {
   "cell_type": "code",
   "execution_count": 43,
   "metadata": {
    "colab": {
     "base_uri": "https://localhost:8080/",
     "height": 89
    },
    "colab_type": "code",
    "id": "eULoP3Glk2Nn",
    "outputId": "787433ee-7350-484a-8fe6-f9bb6598952c"
   },
   "outputs": [
    {
     "name": "stdout",
     "output_type": "stream",
     "text": [
      "[[0.   0.   0.33 0.33 0.33 0.   0.   0.   0.   0.  ]\n",
      " [0.   0.33 0.33 0.33 0.   0.   0.   0.   0.   0.  ]\n",
      " [0.   0.5  0.   0.   0.   0.25 0.25 0.   0.   0.  ]\n",
      " [0.   0.   0.   0.   0.   0.   0.   0.33 0.33 0.33]]\n"
     ]
    }
   ],
   "source": [
    "print(t.texts_to_matrix(texts, mode='freq').round(2))"
   ]
  },
  {
   "cell_type": "markdown",
   "metadata": {
    "colab_type": "text",
    "id": "ymy_x9QLk6gH"
   },
   "source": [
    "- `'freq'` 모드는 각 문서에서의 각 단어의 등장 횟수를 분자로, 각 문서의 크기(각 문서에서 등장한 모든 단어의 개수의 총합)를 분모로 하는 표현 방법이다.\n",
    "\n",
    "$\n",
    "\\qquad\n",
    "\\frac{\\text{해당 문서에서 각 단어의 등장 횟수}}{\\text{해당 문서에 등장한 모든 단어의 개수의 총합}}\n",
    "$"
   ]
  },
  {
   "cell_type": "markdown",
   "metadata": {
    "colab_type": "text",
    "id": "c24GWBS2lVdH"
   },
   "source": [
    "**세 번째 문장**\n",
    "\n",
    "> 길고 노란 바나나 바나나\n",
    "\n",
    "- 문서의 크기 : 4\n",
    "- '바나나' : 2회 등장 $\\rightarrow$ 2 / 4 = 0.5\n",
    "- '길고' : 1회 등장 $\\rightarrow$ 1 / 4 = 0.25\n",
    "- '노란' : 1회 등장 $\\rightarrow$ 1 / 4 = 0.25"
   ]
  },
  {
   "cell_type": "markdown",
   "metadata": {
    "colab_type": "text",
    "id": "zWMZ6GUal8Z-"
   },
   "source": [
    "<br>\n",
    "\n",
    "## 7.3 20개 뉴스 그룹(Twenty Newsgroups) 데이터에 대한 이해"
   ]
  },
  {
   "cell_type": "markdown",
   "metadata": {
    "colab_type": "text",
    "id": "cfAmC27vmAtd"
   },
   "source": [
    "### 7.3.1 필요 라이브러리 임포트"
   ]
  },
  {
   "cell_type": "code",
   "execution_count": null,
   "metadata": {
    "colab": {},
    "colab_type": "code",
    "id": "rUCuCGUhmHZ4"
   },
   "outputs": [],
   "source": [
    "import pandas as pd\n",
    "from sklearn.datasets import fetch_20newsgroups\n",
    "\n",
    "%matplotlib inline\n",
    "import matplotlib.pyplot as plt\n",
    "\n",
    "from tensorflow.keras.preprocessing.text import Tokenizer\n",
    "from tensorflow.keras.utils import to_categorical"
   ]
  },
  {
   "cell_type": "markdown",
   "metadata": {
    "colab_type": "text",
    "id": "XkAZrJ5xmV4F"
   },
   "source": [
    "<br>\n",
    "\n",
    "### 7.3.2 데이터셋\n",
    "\n",
    "- 사이킷런에서는 20개의 다른 주제를 가진 18,846개의 뉴스 그룹 이메일 데이터를 제공한다. (LSA 챕터와 동일한 데이터)"
   ]
  },
  {
   "cell_type": "code",
   "execution_count": null,
   "metadata": {
    "colab": {},
    "colab_type": "code",
    "id": "H0P-OZwFmeq0"
   },
   "outputs": [],
   "source": [
    "newsdata = fetch_20newsgroups(subset='train') # 훈련 데이터만 리턴"
   ]
  },
  {
   "cell_type": "markdown",
   "metadata": {
    "colab_type": "text",
    "id": "757LVp2vmzk_"
   },
   "source": [
    "- `subset='all'` : 전체 데이터인 18,846개의 샘플 다운로드\n",
    "- `subset='train'` : 훈련 데이터 다운로드\n",
    "- `subset='test'` : 테스트 데이터 다운로드"
   ]
  },
  {
   "cell_type": "markdown",
   "metadata": {
    "colab_type": "text",
    "id": "0FruOt-cm9Iv"
   },
   "source": [
    "<br>\n",
    "\n",
    "### 7.3.3 데이터 속성 확인\n",
    "\n",
    "- `newsdata.keys()`를 출력하면 해당 데이터의 속성을 확인할 수 있다."
   ]
  },
  {
   "cell_type": "code",
   "execution_count": 46,
   "metadata": {
    "colab": {
     "base_uri": "https://localhost:8080/",
     "height": 35
    },
    "colab_type": "code",
    "id": "R_BXPjqVnFx7",
    "outputId": "0ff00ecd-1a0f-4097-f941-ea329f4439f1"
   },
   "outputs": [
    {
     "name": "stdout",
     "output_type": "stream",
     "text": [
      "dict_keys(['data', 'filenames', 'target_names', 'target', 'DESCR'])\n"
     ]
    }
   ],
   "source": [
    "print(newsdata.keys())"
   ]
  },
  {
   "cell_type": "markdown",
   "metadata": {
    "colab_type": "text",
    "id": "jW8wp0ntnHC8"
   },
   "source": [
    "- `data` : 이메일 본문\n",
    "- `target` : 메일이 어떤 주제인 지 기재된 숫자 레이블"
   ]
  },
  {
   "cell_type": "markdown",
   "metadata": {
    "colab_type": "text",
    "id": "xSd3nIZgnOCt"
   },
   "source": [
    "<br>\n",
    "\n",
    "### 7.3.4 훈련용 샘플의 개수 확인"
   ]
  },
  {
   "cell_type": "code",
   "execution_count": 47,
   "metadata": {
    "colab": {
     "base_uri": "https://localhost:8080/",
     "height": 35
    },
    "colab_type": "code",
    "id": "tTjWjEwTnSe-",
    "outputId": "221192d9-411c-4972-d6e4-8f372f23335c"
   },
   "outputs": [
    {
     "name": "stdout",
     "output_type": "stream",
     "text": [
      "훈련용 샘플의 개수 : 11314\n"
     ]
    }
   ],
   "source": [
    "print(\"훈련용 샘플의 개수 : {}\".format(len(newsdata.data)))"
   ]
  },
  {
   "cell_type": "markdown",
   "metadata": {
    "colab_type": "text",
    "id": "B1GxrGAznamq"
   },
   "source": [
    "<br>\n",
    "\n",
    "### 7.3.5 20개의 주제 확인\n",
    "\n",
    "- `target_names`에는 20개의 주제의 이름을 담고 있다."
   ]
  },
  {
   "cell_type": "code",
   "execution_count": 48,
   "metadata": {
    "colab": {
     "base_uri": "https://localhost:8080/",
     "height": 35
    },
    "colab_type": "code",
    "id": "l2dj0-NKniPZ",
    "outputId": "cc533606-0d9f-4a35-fb4e-1fce9add9829"
   },
   "outputs": [
    {
     "name": "stdout",
     "output_type": "stream",
     "text": [
      "총 주제의 개수 : 20\n"
     ]
    }
   ],
   "source": [
    "print('총 주제의 개수 : {}'.format(len(newsdata.target_names)))"
   ]
  },
  {
   "cell_type": "code",
   "execution_count": 49,
   "metadata": {
    "colab": {
     "base_uri": "https://localhost:8080/",
     "height": 55
    },
    "colab_type": "code",
    "id": "B6GUgO-mnmyp",
    "outputId": "a50b332d-e2b1-4be4-9eb8-cefeefcb6790"
   },
   "outputs": [
    {
     "name": "stdout",
     "output_type": "stream",
     "text": [
      "['alt.atheism', 'comp.graphics', 'comp.os.ms-windows.misc', 'comp.sys.ibm.pc.hardware', 'comp.sys.mac.hardware', 'comp.windows.x', 'misc.forsale', 'rec.autos', 'rec.motorcycles', 'rec.sport.baseball', 'rec.sport.hockey', 'sci.crypt', 'sci.electronics', 'sci.med', 'sci.space', 'soc.religion.christian', 'talk.politics.guns', 'talk.politics.mideast', 'talk.politics.misc', 'talk.religion.misc']\n"
     ]
    }
   ],
   "source": [
    "print(newsdata.target_names)"
   ]
  },
  {
   "cell_type": "markdown",
   "metadata": {
    "colab_type": "text",
    "id": "owtsr5fanpZh"
   },
   "source": [
    "<br>\n",
    "\n",
    "### 7.3.6 특정 주제 확인\n",
    "\n",
    "- 이번 챕터 실습의 목적은 테스트 데이터에서 이메일 본문을 보고 20개의 주제 중 어떤 주제인 지를 맞추는 것이다.\n",
    "- 레이블인 `target`에는 총 0부터 19까지의 숫자가 들어가 있다.\n",
    "- 첫 번째 샘플의 경우에는 몇 번 주제인 지 확인해보자"
   ]
  },
  {
   "cell_type": "code",
   "execution_count": 50,
   "metadata": {
    "colab": {
     "base_uri": "https://localhost:8080/",
     "height": 35
    },
    "colab_type": "code",
    "id": "a6DmYRoQjfps",
    "outputId": "218e02bd-dcef-467c-dfbc-fe7a66aa4615"
   },
   "outputs": [
    {
     "name": "stdout",
     "output_type": "stream",
     "text": [
      "첫 번째 샘플의 레이블 : 7\n"
     ]
    }
   ],
   "source": [
    "print('첫 번째 샘플의 레이블 : {}'.format(newsdata.target[0]))"
   ]
  },
  {
   "cell_type": "markdown",
   "metadata": {
    "colab_type": "text",
    "id": "2FLTVIi1jkHV"
   },
   "source": [
    "- 7이 실제로 어떤 주제를 나타내는 지는 `target_names[]`안에 숫자를 입력하여 알 수 있다."
   ]
  },
  {
   "cell_type": "code",
   "execution_count": 51,
   "metadata": {
    "colab": {
     "base_uri": "https://localhost:8080/",
     "height": 35
    },
    "colab_type": "code",
    "id": "7mtTQZ_YjtZq",
    "outputId": "cd0e7921-015e-41d9-8054-e2f92fc13991"
   },
   "outputs": [
    {
     "name": "stdout",
     "output_type": "stream",
     "text": [
      "7번 레이블이 의미하는 주제 : rec.autos\n"
     ]
    }
   ],
   "source": [
    "print('7번 레이블이 의미하는 주제 : {}'.format(newsdata.target_names[7]))"
   ]
  },
  {
   "cell_type": "markdown",
   "metadata": {
    "colab_type": "text",
    "id": "aoNVAIczj4xE"
   },
   "source": [
    "- 7번 레이블은 \"rec.autos\"라는 주제이다.\n",
    "- 즉, 첫 번째 샘플의 주제는 \"rec.autos\"이다."
   ]
  },
  {
   "cell_type": "markdown",
   "metadata": {
    "colab_type": "text",
    "id": "NHZovbxSkF89"
   },
   "source": [
    "<br>\n",
    "\n",
    "- 첫 번째 샘플의 본문 내용 확인"
   ]
  },
  {
   "cell_type": "code",
   "execution_count": 52,
   "metadata": {
    "colab": {
     "base_uri": "https://localhost:8080/",
     "height": 413
    },
    "colab_type": "code",
    "id": "q4yXddF5kJh_",
    "outputId": "09a799a8-43e4-4492-c124-e8d243a2a365"
   },
   "outputs": [
    {
     "name": "stdout",
     "output_type": "stream",
     "text": [
      "From: lerxst@wam.umd.edu (where's my thing)\n",
      "Subject: WHAT car is this!?\n",
      "Nntp-Posting-Host: rac3.wam.umd.edu\n",
      "Organization: University of Maryland, College Park\n",
      "Lines: 15\n",
      "\n",
      " I was wondering if anyone out there could enlighten me on this car I saw\n",
      "the other day. It was a 2-door sports car, looked to be from the late 60s/\n",
      "early 70s. It was called a Bricklin. The doors were really small. In addition,\n",
      "the front bumper was separate from the rest of the body. This is \n",
      "all I know. If anyone can tellme a model name, engine specs, years\n",
      "of production, where this car is made, history, or whatever info you\n",
      "have on this funky looking car, please e-mail.\n",
      "\n",
      "Thanks,\n",
      "- IL\n",
      "   ---- brought to you by your neighborhood Lerxst ----\n",
      "\n",
      "\n",
      "\n",
      "\n",
      "\n"
     ]
    }
   ],
   "source": [
    "print(newsdata.data[0])"
   ]
  },
  {
   "cell_type": "markdown",
   "metadata": {
    "colab_type": "text",
    "id": "0xSNClsdkR1d"
   },
   "source": [
    "- 이메일의 내용을 보니 \"스포츠 카\"에 대한 글로 보인다."
   ]
  },
  {
   "cell_type": "markdown",
   "metadata": {
    "colab_type": "text",
    "id": "lmLAZex7ki9l"
   },
   "source": [
    "<br>\n",
    "\n",
    "### 7.3.7 훈련에 사용할 데이터셋 생성\n",
    "\n",
    "- 훈련에 사용될 메일 본문인 `data`와 레이블인 `target`을 데이터프레임으로 만든다."
   ]
  },
  {
   "cell_type": "code",
   "execution_count": 53,
   "metadata": {
    "colab": {
     "base_uri": "https://localhost:8080/",
     "height": 203
    },
    "colab_type": "code",
    "id": "_uxlWFHBkvLQ",
    "outputId": "c6c49654-ef10-4397-beb5-5fcb3118b3fb"
   },
   "outputs": [
    {
     "data": {
      "text/html": [
       "<div>\n",
       "<style scoped>\n",
       "    .dataframe tbody tr th:only-of-type {\n",
       "        vertical-align: middle;\n",
       "    }\n",
       "\n",
       "    .dataframe tbody tr th {\n",
       "        vertical-align: top;\n",
       "    }\n",
       "\n",
       "    .dataframe thead th {\n",
       "        text-align: right;\n",
       "    }\n",
       "</style>\n",
       "<table border=\"1\" class=\"dataframe\">\n",
       "  <thead>\n",
       "    <tr style=\"text-align: right;\">\n",
       "      <th></th>\n",
       "      <th>email</th>\n",
       "      <th>target</th>\n",
       "    </tr>\n",
       "  </thead>\n",
       "  <tbody>\n",
       "    <tr>\n",
       "      <th>0</th>\n",
       "      <td>From: lerxst@wam.umd.edu (where's my thing)\\nS...</td>\n",
       "      <td>7</td>\n",
       "    </tr>\n",
       "    <tr>\n",
       "      <th>1</th>\n",
       "      <td>From: guykuo@carson.u.washington.edu (Guy Kuo)...</td>\n",
       "      <td>4</td>\n",
       "    </tr>\n",
       "    <tr>\n",
       "      <th>2</th>\n",
       "      <td>From: twillis@ec.ecn.purdue.edu (Thomas E Will...</td>\n",
       "      <td>4</td>\n",
       "    </tr>\n",
       "    <tr>\n",
       "      <th>3</th>\n",
       "      <td>From: jgreen@amber (Joe Green)\\nSubject: Re: W...</td>\n",
       "      <td>1</td>\n",
       "    </tr>\n",
       "    <tr>\n",
       "      <th>4</th>\n",
       "      <td>From: jcm@head-cfa.harvard.edu (Jonathan McDow...</td>\n",
       "      <td>14</td>\n",
       "    </tr>\n",
       "  </tbody>\n",
       "</table>\n",
       "</div>"
      ],
      "text/plain": [
       "                                               email  target\n",
       "0  From: lerxst@wam.umd.edu (where's my thing)\\nS...       7\n",
       "1  From: guykuo@carson.u.washington.edu (Guy Kuo)...       4\n",
       "2  From: twillis@ec.ecn.purdue.edu (Thomas E Will...       4\n",
       "3  From: jgreen@amber (Joe Green)\\nSubject: Re: W...       1\n",
       "4  From: jcm@head-cfa.harvard.edu (Jonathan McDow...      14"
      ]
     },
     "execution_count": 53,
     "metadata": {
      "tags": []
     },
     "output_type": "execute_result"
    }
   ],
   "source": [
    "data = pd.DataFrame(newsdata.data, columns=['email'])\n",
    "data['target'] = pd.Series(newsdata.target)\n",
    "data[:5]"
   ]
  },
  {
   "cell_type": "markdown",
   "metadata": {
    "colab_type": "text",
    "id": "JEKifwCZk4ev"
   },
   "source": [
    "<br>\n",
    "\n",
    "### 7.3.8 데이터 통계 정보 확인"
   ]
  },
  {
   "cell_type": "code",
   "execution_count": 54,
   "metadata": {
    "colab": {
     "base_uri": "https://localhost:8080/",
     "height": 143
    },
    "colab_type": "code",
    "id": "TH8TPYmbmLJr",
    "outputId": "e6c8a5e9-997a-4b6d-f4ab-d663af218e68"
   },
   "outputs": [
    {
     "name": "stdout",
     "output_type": "stream",
     "text": [
      "<class 'pandas.core.frame.DataFrame'>\n",
      "RangeIndex: 11314 entries, 0 to 11313\n",
      "Data columns (total 2 columns):\n",
      "email     11314 non-null object\n",
      "target    11314 non-null int64\n",
      "dtypes: int64(1), object(1)\n",
      "memory usage: 176.9+ KB\n"
     ]
    }
   ],
   "source": [
    "data.info()"
   ]
  },
  {
   "cell_type": "markdown",
   "metadata": {
    "colab_type": "text",
    "id": "UrstUZoEmMZj"
   },
   "source": [
    "- `email` 열은 문자열(`object`)이다.\n",
    "- `traget` 열은 정수형(`int64`) 데이터 이다."
   ]
  },
  {
   "cell_type": "markdown",
   "metadata": {
    "colab_type": "text",
    "id": "adBpt9EsmbHT"
   },
   "source": [
    "<br>\n",
    "\n",
    "### 7.3.9 결측값 확인\n",
    "\n",
    "- Null 값을 가진 샘플이 있는 지 `isnull().values.any()`로도 확인 가능하다."
   ]
  },
  {
   "cell_type": "code",
   "execution_count": 55,
   "metadata": {
    "colab": {
     "base_uri": "https://localhost:8080/",
     "height": 35
    },
    "colab_type": "code",
    "id": "U3cFgzGVmlcL",
    "outputId": "97c44076-de49-4f56-8183-0d1274219df4"
   },
   "outputs": [
    {
     "data": {
      "text/plain": [
       "False"
      ]
     },
     "execution_count": 55,
     "metadata": {
      "tags": []
     },
     "output_type": "execute_result"
    }
   ],
   "source": [
    "data.isnull().values.any()"
   ]
  },
  {
   "cell_type": "markdown",
   "metadata": {
    "colab_type": "text",
    "id": "BQnk2mA9mm-L"
   },
   "source": [
    "- `False`는 데이터에 별도의 Null값은 없음을 의미한다."
   ]
  },
  {
   "cell_type": "markdown",
   "metadata": {
    "colab_type": "text",
    "id": "nKGoeoPCmw1c"
   },
   "source": [
    "<br>\n",
    "\n",
    "### 7.3.10 중복 제거한 데이터 개수\n",
    "\n",
    "- `nunique()`를 통해 샘플 중 중목을 제거한 개수를 확인할 수 있다."
   ]
  },
  {
   "cell_type": "code",
   "execution_count": 56,
   "metadata": {
    "colab": {
     "base_uri": "https://localhost:8080/",
     "height": 35
    },
    "colab_type": "code",
    "id": "h29FO3XDnBFV",
    "outputId": "e61f300e-d4ba-4c17-c749-df1a1c7e7704"
   },
   "outputs": [
    {
     "data": {
      "text/plain": [
       "11314"
      ]
     },
     "execution_count": 56,
     "metadata": {
      "tags": []
     },
     "output_type": "execute_result"
    }
   ],
   "source": [
    "data['email'].nunique()"
   ]
  },
  {
   "cell_type": "code",
   "execution_count": 57,
   "metadata": {
    "colab": {
     "base_uri": "https://localhost:8080/",
     "height": 35
    },
    "colab_type": "code",
    "id": "v4FAnUvjnFbs",
    "outputId": "d876b03c-8a97-433d-d1b5-6622dc86ecc5"
   },
   "outputs": [
    {
     "data": {
      "text/plain": [
       "20"
      ]
     },
     "execution_count": 57,
     "metadata": {
      "tags": []
     },
     "output_type": "execute_result"
    }
   ],
   "source": [
    "data['target'].nunique()"
   ]
  },
  {
   "cell_type": "markdown",
   "metadata": {
    "colab_type": "text",
    "id": "Z4p9pZpPnIIS"
   },
   "source": [
    "<br>\n",
    "\n",
    "### 7.3.11 레이블 값 분포\n",
    "\n",
    "- 레이블 값의 분포를 시각화해보자"
   ]
  },
  {
   "cell_type": "code",
   "execution_count": 58,
   "metadata": {
    "colab": {
     "base_uri": "https://localhost:8080/",
     "height": 286
    },
    "colab_type": "code",
    "id": "QXSNJQKgnPKO",
    "outputId": "feb89b75-fd63-4d89-e86c-e1fd5f933d22"
   },
   "outputs": [
    {
     "data": {
      "text/plain": [
       "<matplotlib.axes._subplots.AxesSubplot at 0x7fc6bf989128>"
      ]
     },
     "execution_count": 58,
     "metadata": {
      "tags": []
     },
     "output_type": "execute_result"
    },
    {
     "data": {
      "image/png": "[encoded data removed]",
      "text/plain": [
       "<Figure size 432x288 with 1 Axes>"
      ]
     },
     "metadata": {
      "tags": []
     },
     "output_type": "display_data"
    }
   ],
   "source": [
    "data['target'].value_counts().plot(kind='bar')"
   ]
  },
  {
   "cell_type": "markdown",
   "metadata": {
    "colab_type": "text",
    "id": "rxm-mDVMnSsD"
   },
   "source": [
    "- 10번 레이블의 수가 가장 많음\n",
    "- 19번 레이블의 수가 가장 적음\n",
    "- 대체적으로 400 ~ 600개 사이의  분포를 보인다."
   ]
  },
  {
   "cell_type": "markdown",
   "metadata": {
    "colab_type": "text",
    "id": "w6jEHiKDnhan"
   },
   "source": [
    "<br>\n",
    "\n",
    "- 각 레이블이 몇 개 있는 지 구체적인 수치로 확인해보자."
   ]
  },
  {
   "cell_type": "code",
   "execution_count": 59,
   "metadata": {
    "colab": {
     "base_uri": "https://localhost:8080/",
     "height": 665
    },
    "colab_type": "code",
    "id": "mJLZFi0onlp4",
    "outputId": "0fee072e-ebc1-4786-cfd4-ce1dffaaf384"
   },
   "outputs": [
    {
     "data": {
      "text/html": [
       "<div>\n",
       "<style scoped>\n",
       "    .dataframe tbody tr th:only-of-type {\n",
       "        vertical-align: middle;\n",
       "    }\n",
       "\n",
       "    .dataframe tbody tr th {\n",
       "        vertical-align: top;\n",
       "    }\n",
       "\n",
       "    .dataframe thead th {\n",
       "        text-align: right;\n",
       "    }\n",
       "</style>\n",
       "<table border=\"1\" class=\"dataframe\">\n",
       "  <thead>\n",
       "    <tr style=\"text-align: right;\">\n",
       "      <th></th>\n",
       "      <th>target</th>\n",
       "      <th>count</th>\n",
       "    </tr>\n",
       "  </thead>\n",
       "  <tbody>\n",
       "    <tr>\n",
       "      <th>0</th>\n",
       "      <td>0</td>\n",
       "      <td>480</td>\n",
       "    </tr>\n",
       "    <tr>\n",
       "      <th>1</th>\n",
       "      <td>1</td>\n",
       "      <td>584</td>\n",
       "    </tr>\n",
       "    <tr>\n",
       "      <th>2</th>\n",
       "      <td>2</td>\n",
       "      <td>591</td>\n",
       "    </tr>\n",
       "    <tr>\n",
       "      <th>3</th>\n",
       "      <td>3</td>\n",
       "      <td>590</td>\n",
       "    </tr>\n",
       "    <tr>\n",
       "      <th>4</th>\n",
       "      <td>4</td>\n",
       "      <td>578</td>\n",
       "    </tr>\n",
       "    <tr>\n",
       "      <th>5</th>\n",
       "      <td>5</td>\n",
       "      <td>593</td>\n",
       "    </tr>\n",
       "    <tr>\n",
       "      <th>6</th>\n",
       "      <td>6</td>\n",
       "      <td>585</td>\n",
       "    </tr>\n",
       "    <tr>\n",
       "      <th>7</th>\n",
       "      <td>7</td>\n",
       "      <td>594</td>\n",
       "    </tr>\n",
       "    <tr>\n",
       "      <th>8</th>\n",
       "      <td>8</td>\n",
       "      <td>598</td>\n",
       "    </tr>\n",
       "    <tr>\n",
       "      <th>9</th>\n",
       "      <td>9</td>\n",
       "      <td>597</td>\n",
       "    </tr>\n",
       "    <tr>\n",
       "      <th>10</th>\n",
       "      <td>10</td>\n",
       "      <td>600</td>\n",
       "    </tr>\n",
       "    <tr>\n",
       "      <th>11</th>\n",
       "      <td>11</td>\n",
       "      <td>595</td>\n",
       "    </tr>\n",
       "    <tr>\n",
       "      <th>12</th>\n",
       "      <td>12</td>\n",
       "      <td>591</td>\n",
       "    </tr>\n",
       "    <tr>\n",
       "      <th>13</th>\n",
       "      <td>13</td>\n",
       "      <td>594</td>\n",
       "    </tr>\n",
       "    <tr>\n",
       "      <th>14</th>\n",
       "      <td>14</td>\n",
       "      <td>593</td>\n",
       "    </tr>\n",
       "    <tr>\n",
       "      <th>15</th>\n",
       "      <td>15</td>\n",
       "      <td>599</td>\n",
       "    </tr>\n",
       "    <tr>\n",
       "      <th>16</th>\n",
       "      <td>16</td>\n",
       "      <td>546</td>\n",
       "    </tr>\n",
       "    <tr>\n",
       "      <th>17</th>\n",
       "      <td>17</td>\n",
       "      <td>564</td>\n",
       "    </tr>\n",
       "    <tr>\n",
       "      <th>18</th>\n",
       "      <td>18</td>\n",
       "      <td>465</td>\n",
       "    </tr>\n",
       "    <tr>\n",
       "      <th>19</th>\n",
       "      <td>19</td>\n",
       "      <td>377</td>\n",
       "    </tr>\n",
       "  </tbody>\n",
       "</table>\n",
       "</div>"
      ],
      "text/plain": [
       "    target  count\n",
       "0        0    480\n",
       "1        1    584\n",
       "2        2    591\n",
       "3        3    590\n",
       "4        4    578\n",
       "5        5    593\n",
       "6        6    585\n",
       "7        7    594\n",
       "8        8    598\n",
       "9        9    597\n",
       "10      10    600\n",
       "11      11    595\n",
       "12      12    591\n",
       "13      13    594\n",
       "14      14    593\n",
       "15      15    599\n",
       "16      16    546\n",
       "17      17    564\n",
       "18      18    465\n",
       "19      19    377"
      ]
     },
     "execution_count": 59,
     "metadata": {
      "tags": []
     },
     "output_type": "execute_result"
    }
   ],
   "source": [
    "data.groupby('target').size().reset_index(name='count')"
   ]
  },
  {
   "cell_type": "markdown",
   "metadata": {
    "colab_type": "text",
    "id": "IzxsGN7qnqTc"
   },
   "source": [
    "<br>\n",
    "\n",
    "### 7.3.12 훈련 데이터 및 테스트 데이터 준비"
   ]
  },
  {
   "cell_type": "code",
   "execution_count": null,
   "metadata": {
    "colab": {},
    "colab_type": "code",
    "id": "yu8kXvkPn0HT"
   },
   "outputs": [],
   "source": [
    "newsdata_test = fetch_20newsgroups(subset='test', shuffle=True)\n",
    "train_email = data['email']\n",
    "train_label = data['target']\n",
    "test_email = newsdata_test.data\n",
    "test_label = newsdata_test.target"
   ]
  },
  {
   "cell_type": "markdown",
   "metadata": {
    "colab_type": "text",
    "id": "taiuKj02oBHW"
   },
   "source": [
    "<br>\n",
    "\n",
    "### 7.3.13 데이터 전처리\n",
    "\n",
    "- 케라스의 토크나이저 도구를 사용하여 전처리를 수행한다."
   ]
  },
  {
   "cell_type": "markdown",
   "metadata": {
    "colab_type": "text",
    "id": "PyOI2xymoKy0"
   },
   "source": [
    "<br>\n",
    "\n",
    "#### 7.3.13.1 필요한 변수들 정의"
   ]
  },
  {
   "cell_type": "code",
   "execution_count": null,
   "metadata": {
    "colab": {},
    "colab_type": "code",
    "id": "Uti2NKRMoT1u"
   },
   "outputs": [],
   "source": [
    "max_words = 10000 # 실습에 사용할 단어의 최대 개수\n",
    "num_classes = 20 # 레이블의 수"
   ]
  },
  {
   "cell_type": "markdown",
   "metadata": {
    "colab_type": "text",
    "id": "o084G8leoZN3"
   },
   "source": [
    "- `max_words`\n",
    "  - 이번 실습에서 사용할 최대 단어 개수\n",
    "  - 뒤에서 케라스 토크나이저를 사용하면 빈도수 순으로 인덱스를 부여한다.\n",
    "  - 빈도수가 가장 높은 상위 `max_words` 개수 만큼의 단어를 사용한다."
   ]
  },
  {
   "cell_type": "markdown",
   "metadata": {
    "colab_type": "text",
    "id": "B5UltWGkon4l"
   },
   "source": [
    "<br>\n",
    "\n",
    "#### 7.3.13.2 `prepare_data()` : 전처리 수행 함수\n",
    "\n",
    "- 케라스 토크나이저로 전처리를 수행하는 함수인 `prepare_data()`를 생성한다.\n",
    "- 해당 함수는 케라스 토크나이저를 통해 단어 토큰화를 수행한다.\n",
    "- 그런 다음 `texts_to_matrix()`를 사용하여 훈련 데이터와 테스트 데이터를 4가지 모드(`'binary'`, `'count'`, `'tfidf'`, `'freq'`) 중 사용자가 정한 모드로 변환한다."
   ]
  },
  {
   "cell_type": "code",
   "execution_count": null,
   "metadata": {
    "colab": {},
    "colab_type": "code",
    "id": "VyjwdJ_UpF4r"
   },
   "outputs": [],
   "source": [
    "def prepare_data(train_data, test_data, mode):\n",
    "    \n",
    "    t = Tokenizer(num_words = max_words)\n",
    "    t.fit_on_texts(train_data)\n",
    "    \n",
    "    X_train = t.texts_to_matrix(train_data, mode=mode)\n",
    "    X_test = t.texts_to_matrix(test_data, mode=mode)\n",
    "\n",
    "    return X_train, X_test, t.index_word"
   ]
  },
  {
   "cell_type": "markdown",
   "metadata": {
    "colab_type": "text",
    "id": "wJA66iVipxrU"
   },
   "source": [
    "<br>\n",
    "\n",
    "- 메일 본문에 대해서는 `'binary'` 모드로 변환"
   ]
  },
  {
   "cell_type": "code",
   "execution_count": null,
   "metadata": {
    "colab": {},
    "colab_type": "code",
    "id": "9MkymCwNp3ke"
   },
   "outputs": [],
   "source": [
    "X_train, X_test, index_to_word = prepare_data(train_email, test_email, 'binary')"
   ]
  },
  {
   "cell_type": "markdown",
   "metadata": {
    "colab_type": "text",
    "id": "fUsDq213qBZz"
   },
   "source": [
    "<br>\n",
    "\n",
    "- 훈련 데이터와 테스트 데이터의 레이블은 원-핫 인코딩을 수행"
   ]
  },
  {
   "cell_type": "code",
   "execution_count": null,
   "metadata": {
    "colab": {},
    "colab_type": "code",
    "id": "K7fyH5suqIqn"
   },
   "outputs": [],
   "source": [
    "y_train = to_categorical(train_label, num_classes)\n",
    "y_test = to_categorical(test_label, num_classes)"
   ]
  },
  {
   "cell_type": "markdown",
   "metadata": {
    "colab_type": "text",
    "id": "VC7O9HUWqRVF"
   },
   "source": [
    "<br>\n",
    "\n",
    "- 훈련 샘플 크기 확인"
   ]
  },
  {
   "cell_type": "code",
   "execution_count": 65,
   "metadata": {
    "colab": {
     "base_uri": "https://localhost:8080/",
     "height": 53
    },
    "colab_type": "code",
    "id": "_Ak9Uv9UqYqH",
    "outputId": "0d5c3bdf-c987-4157-f83c-6831888085ae"
   },
   "outputs": [
    {
     "name": "stdout",
     "output_type": "stream",
     "text": [
      "훈련 샘플 본문의 크기 : (11314, 10000)\n",
      "훈련 샘플 레이블의 크기 : (11314, 20)\n"
     ]
    }
   ],
   "source": [
    "print('훈련 샘플 본문의 크기 : {}'.format(X_train.shape))\n",
    "print('훈련 샘플 레이블의 크기 : {}'.format(y_train.shape))"
   ]
  },
  {
   "cell_type": "markdown",
   "metadata": {
    "colab_type": "text",
    "id": "Gn_qDiqbqhYe"
   },
   "source": [
    "<br>\n",
    "\n",
    "- 테스트 샘플 크기 확인"
   ]
  },
  {
   "cell_type": "code",
   "execution_count": 66,
   "metadata": {
    "colab": {
     "base_uri": "https://localhost:8080/",
     "height": 53
    },
    "colab_type": "code",
    "id": "fSsZQWVuqoKm",
    "outputId": "ee97bb81-63da-4255-9689-4432fa64f203"
   },
   "outputs": [
    {
     "name": "stdout",
     "output_type": "stream",
     "text": [
      "테스트 샘플 본문의 크기 : (7532, 10000)\n",
      "테스트 샘플 레이블의 크기 : (7532, 20)\n"
     ]
    }
   ],
   "source": [
    "print('테스트 샘플 본문의 크기 : {}'.format(X_test.shape))\n",
    "print('테스트 샘플 레이블의 크기 : {}'.format(y_test.shape))"
   ]
  },
  {
   "cell_type": "markdown",
   "metadata": {
    "colab_type": "text",
    "id": "diVhQG1PqsdX"
   },
   "source": [
    "- 훈련 데이터와 테스트 데이터 모두 메일 본문의 크기가 `샘플의 수 x 10,000` 행렬로 변환됐다.\n",
    "- 열의 개수가 10,000인 것 $\\rightarrow$ `prepare_data` 함수 내부에서 Tokenizer의 `num_words`의 인자로 `max_words`를 지정했기 때문"
   ]
  },
  {
   "cell_type": "markdown",
   "metadata": {
    "colab_type": "text",
    "id": "n0AhP3kyrImk"
   },
   "source": [
    "<br>\n",
    "\n",
    "- 단어의 정수 인덱스는 1부터 시작한다.\n",
    "- 하지만 행렬의 인덱스는 0부터 시작하여 0번 인덱스는 사용되지 않으므로 실제로 행렬에는 빈도수 기준 상위 9,999개의 단어가  표현된 셈이다."
   ]
  },
  {
   "cell_type": "markdown",
   "metadata": {
    "colab_type": "text",
    "id": "pQrQo5hErV57"
   },
   "source": [
    "- 빈도수 상위 1번 단어와 9,999번 단어를 확인해보자."
   ]
  },
  {
   "cell_type": "code",
   "execution_count": 67,
   "metadata": {
    "colab": {
     "base_uri": "https://localhost:8080/",
     "height": 53
    },
    "colab_type": "code",
    "id": "0KIRSCsbrZNR",
    "outputId": "f289055f-1c7e-4245-eaf4-1dd353e0d89f"
   },
   "outputs": [
    {
     "name": "stdout",
     "output_type": "stream",
     "text": [
      "빈도수 상위 1번 단어 : the\n",
      "빈도수 상위 9999번 단어 : mic\n"
     ]
    }
   ],
   "source": [
    "print('빈도수 상위 1번 단어 : {}'.format(index_to_word[1]))\n",
    "print('빈도수 상위 9999번 단어 : {}'.format(index_to_word[9999]))"
   ]
  },
  {
   "cell_type": "markdown",
   "metadata": {
    "colab_type": "text",
    "id": "uYF0uQfPriA8"
   },
   "source": [
    "<br>\n",
    "\n",
    "## 7.4 다층 퍼셉트론(Multi Layer Perceptron, MLP)을 사용하여 텍스트 분류하기"
   ]
  },
  {
   "cell_type": "markdown",
   "metadata": {
    "colab_type": "text",
    "id": "QLCCqpItrtA-"
   },
   "source": [
    "### 7.4.1 모델 설계에 필요한 도구 임포트"
   ]
  },
  {
   "cell_type": "code",
   "execution_count": null,
   "metadata": {
    "colab": {},
    "colab_type": "code",
    "id": "xdI3hZWOry6E"
   },
   "outputs": [],
   "source": [
    "from tensorflow.keras.models import Sequential\n",
    "from tensorflow.keras.layers import Dense, Dropout"
   ]
  },
  {
   "cell_type": "markdown",
   "metadata": {
    "colab_type": "text",
    "id": "6HqWX3wPr7Bm"
   },
   "source": [
    "<br>\n",
    "\n",
    "### 7.4.2 다층 퍼셉트론 설계\n",
    "\n",
    "- 모델 설계를 `fit_and_evaluate`라는 함수 내에 정의\n",
    "- 모델을 함수 내에 정의한 이유 : 이번 실습에서는 입력값을 바꿔가면서 모델을 여러 번 호출하기 위함"
   ]
  },
  {
   "cell_type": "code",
   "execution_count": null,
   "metadata": {
    "colab": {},
    "colab_type": "code",
    "id": "XMVNnRyLr-cF"
   },
   "outputs": [],
   "source": [
    "def fit_and_evaluate(X_train, y_train, X_test, y_test):\n",
    "\n",
    "    model = Sequential()\n",
    "    model.add(Dense(256, input_shape=(max_words, ), activation='relu'))\n",
    "    model.add(Dropout(0.5))\n",
    "    model.add(Dense(128, activation='relu'))\n",
    "    model.add(Dropout(0.5))\n",
    "    model.add(Dense(num_classes, activation='softmax'))\n",
    "\n",
    "    model.compile(loss='categorical_crossentropy', optimizer='adam', metrics=['accuracy'])\n",
    "    model.fit(X_train, y_train, batch_size=128, epochs=5, verbose=1, validation_split=0.1)\n",
    "    score = model.evaluate(X_test, y_test, batch_size=128, verbose=0)\n",
    "\n",
    "    return score[1]"
   ]
  },
  {
   "cell_type": "markdown",
   "metadata": {
    "colab_type": "text",
    "id": "iW5OXdgws5cN"
   },
   "source": [
    "<br>\n",
    "\n",
    "### 7.4.3 모델 아키텍쳐\n",
    "\n",
    "$\\quad$ ![](https://wikidocs.net/images/page/49071/multilayerperceptron.PNG)\n",
    "\n",
    "- 위의 그림은 현재 설계한 신경망의 구조를 보여준다.\n",
    "- 현재 설계한 다층 퍼셉트론은 총 4개의 층을 가지고 있다.\n",
    "  - `max_words`의 크기를 가진 입력층\n",
    "  - 256개의 뉴런을 가진 첫 번째 은닉층\n",
    "  - 128개의 뉴런을 가진 두 번째 은닉층\n",
    "  - `num_classes`의 크기를 가진 출력층\n",
    "- 또한 이번에 설계한 다층 퍼셉트론은 은닉층이 2개이므로 깊은 신경망(Deep Neural Network, DNN)이다."
   ]
  },
  {
   "cell_type": "markdown",
   "metadata": {
    "colab_type": "text",
    "id": "60l0Y7bptcGz"
   },
   "source": [
    "<br>\n",
    "\n",
    "### 7.4.4 드롭아웃\n",
    "\n",
    "- 위 모델에서는 과적합을 막기 위해서 두 번의 드롭아웃(Dropout)을 적용했다."
   ]
  },
  {
   "cell_type": "markdown",
   "metadata": {
    "colab_type": "text",
    "id": "muCTWVPutv56"
   },
   "source": [
    "<br>\n",
    "\n",
    "### 7.4.5 다중 클래스 분류 문제\n",
    "\n",
    "- 이 문제는 다중 클래스 분류 문제이다. (여러 개의 선택지 중에서 하나의 선택지를 고르는 문제)\n",
    "- 이 경우 20개의 주제 중에서 모델은 자신이 정답이라고 생각하는 1개의 주제를 예측해야 한다.\n",
    "- 다중 클래스 분류 문제이므로\n",
    "  - 출력층의 활성화 함수 : 소프트맥스 함수 사용\n",
    "  - 손실 함수 : 크로스 엔트로피(`categorical_crossentropy`) 함수 사용"
   ]
  },
  {
   "cell_type": "markdown",
   "metadata": {
    "colab_type": "text",
    "id": "mXWIRw5Dt-3Y"
   },
   "source": [
    "<br>\n",
    "\n",
    "### 7.4.6 모델 훈련\n",
    "\n",
    "- 앞서 배운 `texts_to_matrix()`의 4개 모드에 대해서 전부 모델의 결과를 확인해보자."
   ]
  },
  {
   "cell_type": "code",
   "execution_count": 70,
   "metadata": {
    "colab": {
     "base_uri": "https://localhost:8080/",
     "height": 881
    },
    "colab_type": "code",
    "id": "9XUmV3UyuG_U",
    "outputId": "8ad2c6f9-8d28-4f55-acb6-e999a25dc319"
   },
   "outputs": [
    {
     "name": "stdout",
     "output_type": "stream",
     "text": [
      "Train on 10182 samples, validate on 1132 samples\n",
      "Epoch 1/5\n",
      "10182/10182 [==============================] - 5s 451us/sample - loss: 2.2659 - accuracy: 0.3434 - val_loss: 0.9198 - val_accuracy: 0.8313\n",
      "Epoch 2/5\n",
      "10182/10182 [==============================] - 4s 360us/sample - loss: 0.8543 - accuracy: 0.7653 - val_loss: 0.4608 - val_accuracy: 0.8878\n",
      "Epoch 3/5\n",
      "10182/10182 [==============================] - 4s 369us/sample - loss: 0.4331 - accuracy: 0.8865 - val_loss: 0.3568 - val_accuracy: 0.9002\n",
      "Epoch 4/5\n",
      "10182/10182 [==============================] - 4s 360us/sample - loss: 0.2613 - accuracy: 0.9357 - val_loss: 0.3301 - val_accuracy: 0.9081\n",
      "Epoch 5/5\n",
      "10182/10182 [==============================] - 4s 357us/sample - loss: 0.1742 - accuracy: 0.9557 - val_loss: 0.2992 - val_accuracy: 0.9152\n",
      "binary 모드의 테스트 정확도 :  0.824615\n",
      "Train on 10182 samples, validate on 1132 samples\n",
      "Epoch 1/5\n",
      "10182/10182 [==============================] - 4s 415us/sample - loss: 2.8851 - accuracy: 0.2195 - val_loss: 1.7879 - val_accuracy: 0.7120\n",
      "Epoch 2/5\n",
      "10182/10182 [==============================] - 4s 367us/sample - loss: 1.5564 - accuracy: 0.5960 - val_loss: 0.7700 - val_accuracy: 0.8489\n",
      "Epoch 3/5\n",
      "10182/10182 [==============================] - 4s 364us/sample - loss: 0.8452 - accuracy: 0.7839 - val_loss: 0.5156 - val_accuracy: 0.8772\n",
      "Epoch 4/5\n",
      "10182/10182 [==============================] - 4s 369us/sample - loss: 0.5322 - accuracy: 0.8666 - val_loss: 0.4525 - val_accuracy: 0.8878\n",
      "Epoch 5/5\n",
      "10182/10182 [==============================] - 4s 366us/sample - loss: 0.4143 - accuracy: 0.9093 - val_loss: 0.3930 - val_accuracy: 0.9002\n",
      "count 모드의 테스트 정확도 :  0.8212958\n",
      "Train on 10182 samples, validate on 1132 samples\n",
      "Epoch 1/5\n",
      "10182/10182 [==============================] - 4s 411us/sample - loss: 2.2007 - accuracy: 0.3629 - val_loss: 0.7730 - val_accuracy: 0.8525\n",
      "Epoch 2/5\n",
      "10182/10182 [==============================] - 4s 358us/sample - loss: 0.8209 - accuracy: 0.7817 - val_loss: 0.4096 - val_accuracy: 0.8958\n",
      "Epoch 3/5\n",
      "10182/10182 [==============================] - 4s 367us/sample - loss: 0.4395 - accuracy: 0.8874 - val_loss: 0.3404 - val_accuracy: 0.9064\n",
      "Epoch 4/5\n",
      "10182/10182 [==============================] - 4s 361us/sample - loss: 0.2910 - accuracy: 0.9262 - val_loss: 0.3078 - val_accuracy: 0.9231\n",
      "Epoch 5/5\n",
      "10182/10182 [==============================] - 4s 364us/sample - loss: 0.1946 - accuracy: 0.9519 - val_loss: 0.3154 - val_accuracy: 0.9214\n",
      "tfidf 모드의 테스트 정확도 :  0.8293946\n",
      "Train on 10182 samples, validate on 1132 samples\n",
      "Epoch 1/5\n",
      "10182/10182 [==============================] - 5s 468us/sample - loss: 2.9802 - accuracy: 0.0852 - val_loss: 2.9334 - val_accuracy: 0.2500\n",
      "Epoch 2/5\n",
      "10182/10182 [==============================] - 4s 409us/sample - loss: 2.7334 - accuracy: 0.1880 - val_loss: 2.4151 - val_accuracy: 0.3339\n",
      "Epoch 3/5\n",
      "10182/10182 [==============================] - 4s 422us/sample - loss: 2.2188 - accuracy: 0.3051 - val_loss: 1.9231 - val_accuracy: 0.5097\n",
      "Epoch 4/5\n",
      "10182/10182 [==============================] - 4s 417us/sample - loss: 1.7909 - accuracy: 0.4398 - val_loss: 1.5256 - val_accuracy: 0.6219\n",
      "Epoch 5/5\n",
      "10182/10182 [==============================] - 4s 420us/sample - loss: 1.4409 - accuracy: 0.5559 - val_loss: 1.2283 - val_accuracy: 0.6943\n",
      "freq 모드의 테스트 정확도 :  0.65799254\n"
     ]
    }
   ],
   "source": [
    "modes = ['binary', 'count', 'tfidf', 'freq']\n",
    "\n",
    "for mode in modes:\n",
    "\n",
    "    X_train, X_test, _ = prepare_data(train_email, test_email, mode)\n",
    "\n",
    "    score = fit_and_evaluate(X_train, y_train, X_test, y_test)\n",
    "\n",
    "    print(mode + ' 모드의 테스트 정확도 : ', score)\n"
   ]
  },
  {
   "cell_type": "markdown",
   "metadata": {
    "colab_type": "text",
    "id": "rOaNl8smucmW"
   },
   "source": [
    "```\n",
    "binary 모드의 테스트 정확도 :  0.824615\n",
    "count 모드의 테스트 정확도 :  0.8212958\n",
    "tfidf 모드의 테스트 정확도 :  0.8293946\n",
    "freq 모드의 테스트 정확도 :  0.65799254\n",
    "```"
   ]
  },
  {
   "cell_type": "markdown",
   "metadata": {
    "colab_type": "text",
    "id": "IOpC-1taykOz"
   },
   "source": [
    "- 대체적으로 82% ~ 83%의 비슷한 정확도를 보임\n",
    "- `'freq'` 모드에서만 정확도가 65%가 나왔다.\n",
    "- 아무래도 `'freq'` 모드는 이번 문제를 풀기 위한 적절한 전처리 방법이 아니였던 것 같다."
   ]
  }
 ],
 "metadata": {
  "colab": {
   "collapsed_sections": [],
   "name": "Ch08_v07_Text-Classification-with-MLP.ipynb",
   "provenance": [],
   "toc_visible": true
  },
  "kernelspec": {
   "display_name": "Python 3",
   "language": "python",
   "name": "python3"
  },
  "language_info": {
   "codemirror_mode": {
    "name": "ipython",
    "version": 3
   },
   "file_extension": ".py",
   "mimetype": "text/x-python",
   "name": "python",
   "nbconvert_exporter": "python",
   "pygments_lexer": "ipython3",
   "version": "3.6.9"
  }
 },
 "nbformat": 4,
 "nbformat_minor": 4
}
