{
  "nbformat": 4,
  "nbformat_minor": 0,
  "metadata": {
    "colab": {
      "name": "Ch08_v07_Text-Classification-with-MLP.ipynb",
      "provenance": [],
      "collapsed_sections": []
    },
    "kernelspec": {
      "name": "python3",
      "display_name": "Python 3"
    }
  },
  "cells": [
    {
      "cell_type": "markdown",
      "metadata": {
        "id": "xr4HIhOsdwX4",
        "colab_type": "text"
      },
      "source": [
        "# Ch08. 딥 러닝(Deep Learning) 개요"
      ]
    },
    {
      "cell_type": "markdown",
      "metadata": {
        "id": "IbBSZR3md4rY",
        "colab_type": "text"
      },
      "source": [
        "# v07. 다층 퍼셉트론(Multi Layer Perceptron, MLP)으로 텍스트 분류하기"
      ]
    },
    {
      "cell_type": "markdown",
      "metadata": {
        "id": "KzX5dCuxeABX",
        "colab_type": "text"
      },
      "source": [
        "## 7.1 다층 퍼셉트론(Multi Layer Perceptron, MLP)\n",
        "\n",
        "- 단층 퍼셉트론의 형태에서 은닉층이 1개 이상 추가된 신경망을 **다층 퍼셉트론(MLP)**이라고 한다.\n",
        "- 다층 퍼셉트론은 **피드 포워드 신경망(Feed Forward Neural Network, FFNN)**의 가장 기본적인 형태이다.  \n",
        "(피드 포워드 신경망 : 입력층에서 출력층으로 오직 한 방향으로만 연산 방향이 정해져 있는 신경망)"
      ]
    },
    {
      "cell_type": "markdown",
      "metadata": {
        "id": "THv8yl7Xewsy",
        "colab_type": "text"
      },
      "source": [
        "- 뒤에서는 다음 2가지의 새로운 개념들을 사용하여 자연어 처리 실습을 한다.\n",
        "  - 순환 신경망(RNN)\n",
        "  - 분산 표현(distributed representation)\n",
        "- 이번 챕터에서는 다음 두 가지 개념 없이 지금까지 배운 개념만으로도 자연어 처리를 할 수 있다는 것을 보여준다."
      ]
    },
    {
      "cell_type": "markdown",
      "metadata": {
        "id": "_nThX082fKZR",
        "colab_type": "text"
      },
      "source": [
        "<br>\n",
        "\n",
        "## 7.2 케라스의 `texts_to_matrix()` 이해하기\n",
        "\n",
        "- MLP로 텍스트 분류를 수행하기 전에 이번에 사용할 도구인 케라스의 `Tokenizer`의 `texts_to_matrix()`를 이해해보자."
      ]
    },
    {
      "cell_type": "markdown",
      "metadata": {
        "id": "h4Dx0ncIfN5A",
        "colab_type": "text"
      },
      "source": [
        "<br>\n",
        "\n",
        "### 7.2.1 라이브러리 임포트"
      ]
    },
    {
      "cell_type": "code",
      "metadata": {
        "id": "q3FfFbCCfodj",
        "colab_type": "code",
        "colab": {
          "base_uri": "https://localhost:8080/",
          "height": 53
        },
        "outputId": "105f879c-8e82-41f3-ee25-f1d81eda7260"
      },
      "source": [
        "%tensorflow_version 2.x\n",
        "\n",
        "import tensorflow as tf\n",
        "tf.__version__"
      ],
      "execution_count": 1,
      "outputs": [
        {
          "output_type": "stream",
          "text": [
            "TensorFlow 2.x selected.\n"
          ],
          "name": "stdout"
        },
        {
          "output_type": "execute_result",
          "data": {
            "text/plain": [
              "'2.1.0'"
            ]
          },
          "metadata": {
            "tags": []
          },
          "execution_count": 1
        }
      ]
    },
    {
      "cell_type": "code",
      "metadata": {
        "id": "AstBaYF3fqvB",
        "colab_type": "code",
        "colab": {}
      },
      "source": [
        "import numpy as np\n",
        "from tensorflow.keras.preprocessing.text import Tokenizer"
      ],
      "execution_count": 0,
      "outputs": []
    },
    {
      "cell_type": "markdown",
      "metadata": {
        "id": "L6opfaLVfw_4",
        "colab_type": "text"
      },
      "source": [
        "<br>\n",
        "\n",
        "### 7.2.2 텍스트 데이터\n",
        "\n",
        "- 여기에서 사용할 텍스트 데이터는 다음 네 문장이다."
      ]
    },
    {
      "cell_type": "code",
      "metadata": {
        "id": "enES0eZ_f5To",
        "colab_type": "code",
        "colab": {}
      },
      "source": [
        "texts = ['먹고 싶은 사과',\n",
        "         '먹고 싶은 바나나',\n",
        "         '길고 노란 바나나 바나나',\n",
        "         '저는 과일이 좋아요']"
      ],
      "execution_count": 0,
      "outputs": []
    },
    {
      "cell_type": "markdown",
      "metadata": {
        "id": "Fg7zbBZegC-X",
        "colab_type": "text"
      },
      "source": [
        "<br>\n",
        "\n",
        "### 7.2.3 정수 인코딩\n",
        "\n",
        "- 위의 텍스트 데이터에 대해서 정수 인코딩을 수행한다.\n",
        "- `Tokenizer().fit_on_texts()`를 이용해 텍스트 데이터를 단어들로 분리한 뒤, 각 단어에 정수 인덱스를 부여한다."
      ]
    },
    {
      "cell_type": "code",
      "metadata": {
        "id": "jZLiSjSDgUlo",
        "colab_type": "code",
        "colab": {
          "base_uri": "https://localhost:8080/",
          "height": 35
        },
        "outputId": "70414bc3-29df-400b-e61b-b39e2c5baeac"
      },
      "source": [
        "t = Tokenizer()\n",
        "t.fit_on_texts(texts)\n",
        "print(t.word_index)"
      ],
      "execution_count": 4,
      "outputs": [
        {
          "output_type": "stream",
          "text": [
            "{'바나나': 1, '먹고': 2, '싶은': 3, '사과': 4, '길고': 5, '노란': 6, '저는': 7, '과일이': 8, '좋아요': 9}\n"
          ],
          "name": "stdout"
        }
      ]
    },
    {
      "cell_type": "markdown",
      "metadata": {
        "id": "8Pf7mbcQgaDo",
        "colab_type": "text"
      },
      "source": [
        "- 각 단어에 숫자 1부터 시작하는 정수 인덱스가 부여됐다."
      ]
    },
    {
      "cell_type": "markdown",
      "metadata": {
        "id": "ri2asvicghrP",
        "colab_type": "text"
      },
      "source": [
        "<br>\n",
        "\n",
        "### 7.2.4 `texts_to_matrix()` 사용\n",
        "\n",
        "- 이 도구는 입력된 텍스트 데이터로부터 행렬(matrix)을 만드는 도구이다.\n",
        "- `texts_to_matrix()`는 다음 4가지의 모드를 지원한다.\n",
        "  - `mode='binary'`\n",
        "  - `mode='count'`\n",
        "  - `mode='freq'`\n",
        "  - `mode='tfidf'`"
      ]
    },
    {
      "cell_type": "markdown",
      "metadata": {
        "id": "5kOtohEAg009",
        "colab_type": "text"
      },
      "source": [
        "<br>\n",
        "\n",
        "#### 7.2.4.1 `texts_to_matrix(mode='count')`\n",
        "\n",
        "- `'count'` 모드를 사용하면 앞서 배운 **문서 단어 행렬(Document-Term Matrix, DTM)**을 생성한다.\n",
        "- DTM에서의 인덱스는 앞서 확인한 `word_index`의 결과이다."
      ]
    },
    {
      "cell_type": "code",
      "metadata": {
        "id": "8vkuBI_Kg8EV",
        "colab_type": "code",
        "colab": {
          "base_uri": "https://localhost:8080/",
          "height": 89
        },
        "outputId": "ce7b8477-e273-4c5e-f2b6-b2753b61ecba"
      },
      "source": [
        "print(t.texts_to_matrix(texts, mode='count'))"
      ],
      "execution_count": 5,
      "outputs": [
        {
          "output_type": "stream",
          "text": [
            "[[0. 0. 1. 1. 1. 0. 0. 0. 0. 0.]\n",
            " [0. 1. 1. 1. 0. 0. 0. 0. 0. 0.]\n",
            " [0. 2. 0. 0. 0. 1. 1. 0. 0. 0.]\n",
            " [0. 0. 0. 0. 0. 0. 0. 1. 1. 1.]]\n"
          ],
          "name": "stdout"
        }
      ]
    },
    {
      "cell_type": "markdown",
      "metadata": {
        "id": "VUM9v0jghK58",
        "colab_type": "text"
      },
      "source": [
        "**주의할 점**\n",
        "\n",
        "- 각 단어에 부여되는 인덱스는 1부터 시작하는 반면, 완성되는 행렬의 인덱스는 0부터 시작한다.\n",
        "- 실제로 단어의 개수는 9개였지만, \n",
        "  - 완성된 행렬의 열의 개수는 10개\n",
        "  - 첫 번째 열은 모든 행에서 값이 0  \n",
        "  (인덱스 0에는 그 어떤 단어도 할당되지 않았기 때문)"
      ]
    },
    {
      "cell_type": "markdown",
      "metadata": {
        "id": "LBgfapa-hkWc",
        "colab_type": "text"
      },
      "source": [
        "**네 번째 행**\n",
        "\n",
        "- 네 번째 행은 테스트 데이터에서 네 번째 문장을 의미한다.\n",
        "- 네번째 행은 8번째 열, 9번째 열, 10번째 열에서 1의 값을 가진다.\n",
        "- 이는 7번 단어, 8번 단어, 9번 단어가 네번째 문장에서 1개씩 존재함을 의미한다.\n",
        "- 위에서 정수 인코딩 된 결과를 보면 7번 단어는 '저는', 8번 단어는 '과일이', 9번 단어는 '좋아요'이다."
      ]
    },
    {
      "cell_type": "markdown",
      "metadata": {
        "id": "7lEqsenzh8Jc",
        "colab_type": "text"
      },
      "source": [
        "**세 번째 행**\n",
        "\n",
        "- 세 번째 행의 첫 번째 열의 값은 2이다.\n",
        "- 이는 세 번째 문장에서 1번 인덱스를 가진 바나나가 두 번 등장했기 때문이다."
      ]
    },
    {
      "cell_type": "markdown",
      "metadata": {
        "id": "OgWFuX_1iFDL",
        "colab_type": "text"
      },
      "source": [
        "**단어 순서 정보**\n",
        "\n",
        "- DTM은 bag of words를 기반으로 하므로 **단어의 순서 정보는 보존되지 않는다.**\n",
        "- 사실 더 구체적으로 4개의 모든 모드에서 단어 순서 정보는 보존되지 않는다."
      ]
    },
    {
      "cell_type": "markdown",
      "metadata": {
        "id": "76XGA7voiVRj",
        "colab_type": "text"
      },
      "source": [
        "<br>\n",
        "\n",
        "#### 7.2.4.2 `texts_to_matrix(mode='binary')`"
      ]
    },
    {
      "cell_type": "code",
      "metadata": {
        "id": "N-0oipb2iavD",
        "colab_type": "code",
        "colab": {
          "base_uri": "https://localhost:8080/",
          "height": 89
        },
        "outputId": "5bd22078-076a-4766-9d2b-7d6eb4e1c4f8"
      },
      "source": [
        "print(t.texts_to_matrix(texts, mode='binary'))"
      ],
      "execution_count": 6,
      "outputs": [
        {
          "output_type": "stream",
          "text": [
            "[[0. 0. 1. 1. 1. 0. 0. 0. 0. 0.]\n",
            " [0. 1. 1. 1. 0. 0. 0. 0. 0. 0.]\n",
            " [0. 1. 0. 0. 0. 1. 1. 0. 0. 0.]\n",
            " [0. 0. 0. 0. 0. 0. 0. 1. 1. 1.]]\n"
          ],
          "name": "stdout"
        }
      ]
    },
    {
      "cell_type": "markdown",
      "metadata": {
        "id": "qUz7sn7HieUE",
        "colab_type": "text"
      },
      "source": [
        "- DTM과 결과가 매우 유사해보인다.\n",
        "- 다만 세 번째 행의 두 번째 열의 값이 DTM에서는 2였는데 여기서는 1로 바뀌었다.\n",
        "- 그 이유는 `'binary'` 모드는 해당 단어가 존재하는 지만 관심을 가지고 해당 단어가 몇 개 였는 지는 무시하기 때문이다.\n",
        "- 해당 단어가 존재하면 1, 단어가 존재하지 않으면 0의 값을 가진다.\n",
        "- 즉, **단어의 존재 유무로만 행렬을 표현**한다."
      ]
    },
    {
      "cell_type": "markdown",
      "metadata": {
        "id": "RGRFxEACjlTi",
        "colab_type": "text"
      },
      "source": [
        "<br>\n",
        "\n",
        "#### 7.2.4.3 `texts_to_matrix(mode='tfidf')`"
      ]
    },
    {
      "cell_type": "code",
      "metadata": {
        "id": "1DPSNtJJjnmZ",
        "colab_type": "code",
        "colab": {
          "base_uri": "https://localhost:8080/",
          "height": 89
        },
        "outputId": "c5137e02-25a0-47da-dfd5-d2ee2bf2ba80"
      },
      "source": [
        "print(t.texts_to_matrix(texts, mode='tfidf').round(2))"
      ],
      "execution_count": 7,
      "outputs": [
        {
          "output_type": "stream",
          "text": [
            "[[0.   0.   0.85 0.85 1.1  0.   0.   0.   0.   0.  ]\n",
            " [0.   0.85 0.85 0.85 0.   0.   0.   0.   0.   0.  ]\n",
            " [0.   1.43 0.   0.   0.   1.1  1.1  0.   0.   0.  ]\n",
            " [0.   0.   0.   0.   0.   0.   0.   1.1  1.1  1.1 ]]\n"
          ],
          "name": "stdout"
        }
      ]
    },
    {
      "cell_type": "markdown",
      "metadata": {
        "id": "5p7EjHyqjxzJ",
        "colab_type": "text"
      },
      "source": [
        "- `'tfidf'` 모드는 말 그대로 TF-IDF 행렬을 만든다.\n",
        "- 다만, TF-IDF 챕터에서 배운 기본식이나 사이킷런의 `TfidfVectorizer`에서 사용하는 식과는 차이가 있다.\n",
        "  - 앞서 배운 기본식에서의 TF : 각 문서에서의 각 단어의 빈도\n",
        "  - `'tfidf'` 모드에서의 TF : 각 문서에서의 각 단어의 빈도에 자연 로그를 씌우고 1을 더한 값으로 정의\n",
        "  - `'tfidf'` 모드에서의 IDF : 기본식에서 로그는 자연 로그를 사용, 로그 안의 분수에 1을 추가로 더함"
      ]
    },
    {
      "cell_type": "markdown",
      "metadata": {
        "id": "LKm-e_fdkUq1",
        "colab_type": "text"
      },
      "source": [
        "<br>\n",
        "\n",
        "#### 7.2.4.4 `texts_to_matrix(mode='freq')`"
      ]
    },
    {
      "cell_type": "code",
      "metadata": {
        "id": "eULoP3Glk2Nn",
        "colab_type": "code",
        "colab": {
          "base_uri": "https://localhost:8080/",
          "height": 89
        },
        "outputId": "c000906a-360a-447b-f33a-a3428eea5525"
      },
      "source": [
        "print(t.texts_to_matrix(texts, mode='freq').round(2))"
      ],
      "execution_count": 8,
      "outputs": [
        {
          "output_type": "stream",
          "text": [
            "[[0.   0.   0.33 0.33 0.33 0.   0.   0.   0.   0.  ]\n",
            " [0.   0.33 0.33 0.33 0.   0.   0.   0.   0.   0.  ]\n",
            " [0.   0.5  0.   0.   0.   0.25 0.25 0.   0.   0.  ]\n",
            " [0.   0.   0.   0.   0.   0.   0.   0.33 0.33 0.33]]\n"
          ],
          "name": "stdout"
        }
      ]
    },
    {
      "cell_type": "markdown",
      "metadata": {
        "id": "ymy_x9QLk6gH",
        "colab_type": "text"
      },
      "source": [
        "- `'freq'` 모드는 각 문서에서의 각 단어의 등장 횟수를 분자로, 각 문서의 크기(각 문서에서 등장한 모든 단어의 개수의 총합)를 분모로 하는 표현 방법이다.\n",
        "\n",
        "$\n",
        "\\qquad\n",
        "\\frac{\\text{해당 문서에서 각 단어의 등장 횟수}}{\\text{해당 문서에 등장한 모든 단어의 개수의 총합}}\n",
        "$"
      ]
    },
    {
      "cell_type": "markdown",
      "metadata": {
        "id": "c24GWBS2lVdH",
        "colab_type": "text"
      },
      "source": [
        "**세 번째 문장**\n",
        "\n",
        "> 길고 노란 바나나 바나나\n",
        "\n",
        "- 문서의 크기 : 4\n",
        "- '바나나' : 2회 등장 $\\rightarrow$ 2 / 4 = 0.5\n",
        "- '길고' : 1회 등장 $\\rightarrow$ 1 / 4 = 0.25\n",
        "- '노란' : 1회 등장 $\\rightarrow$ 1 / 4 = 0.25"
      ]
    },
    {
      "cell_type": "markdown",
      "metadata": {
        "id": "zWMZ6GUal8Z-",
        "colab_type": "text"
      },
      "source": [
        "<br>\n",
        "\n",
        "## 7.3 20개 뉴스 그룹(Twenty Newsgroups) 데이터에 대한 이해"
      ]
    },
    {
      "cell_type": "markdown",
      "metadata": {
        "id": "cfAmC27vmAtd",
        "colab_type": "text"
      },
      "source": [
        "### 7.3.1 필요 라이브러리 임포트"
      ]
    },
    {
      "cell_type": "code",
      "metadata": {
        "id": "rUCuCGUhmHZ4",
        "colab_type": "code",
        "colab": {}
      },
      "source": [
        "import pandas as pd\n",
        "from sklearn.datasets import fetch_20newsgroups\n",
        "\n",
        "%matplotlib inline\n",
        "import matplotlib.pyplot as plt\n",
        "\n",
        "from tensorflow.keras.preprocessing.text import Tokenizer\n",
        "from tensorflow.keras.utils import to_categorical"
      ],
      "execution_count": 0,
      "outputs": []
    },
    {
      "cell_type": "markdown",
      "metadata": {
        "id": "XkAZrJ5xmV4F",
        "colab_type": "text"
      },
      "source": [
        "<br>\n",
        "\n",
        "### 7.3.2 데이터셋\n",
        "\n",
        "- 사이킷런에서는 20개의 다른 주제를 가진 18,846개의 뉴스 그룹 이메일 데이터를 제공한다. (LSA 챕터와 동일한 데이터)"
      ]
    },
    {
      "cell_type": "code",
      "metadata": {
        "id": "H0P-OZwFmeq0",
        "colab_type": "code",
        "colab": {
          "base_uri": "https://localhost:8080/",
          "height": 53
        },
        "outputId": "fee9929d-4ad9-4032-c053-0ddefa94a8c0"
      },
      "source": [
        "newsdata = fetch_20newsgroups(subset='train') # 훈련 데이터만 리턴"
      ],
      "execution_count": 10,
      "outputs": [
        {
          "output_type": "stream",
          "text": [
            "Downloading 20news dataset. This may take a few minutes.\n",
            "Downloading dataset from https://ndownloader.figshare.com/files/5975967 (14 MB)\n"
          ],
          "name": "stderr"
        }
      ]
    },
    {
      "cell_type": "markdown",
      "metadata": {
        "id": "757LVp2vmzk_",
        "colab_type": "text"
      },
      "source": [
        "- `subset='all'` : 전체 데이터인 18,846개의 샘플 다운로드\n",
        "- `subset='train'` : 훈련 데이터 다운로드\n",
        "- `subset='test'` : 테스트 데이터 다운로드"
      ]
    },
    {
      "cell_type": "markdown",
      "metadata": {
        "id": "0FruOt-cm9Iv",
        "colab_type": "text"
      },
      "source": [
        "<br>\n",
        "\n",
        "### 7.3.3 데이터 속성 확인\n",
        "\n",
        "- `newsdata.keys()`를 출력하면 해당 데이터의 속성을 확인할 수 있다."
      ]
    },
    {
      "cell_type": "code",
      "metadata": {
        "id": "R_BXPjqVnFx7",
        "colab_type": "code",
        "colab": {
          "base_uri": "https://localhost:8080/",
          "height": 35
        },
        "outputId": "86b4c3b3-86a3-4c36-9ae9-750eb0b06d55"
      },
      "source": [
        "print(newsdata.keys())"
      ],
      "execution_count": 11,
      "outputs": [
        {
          "output_type": "stream",
          "text": [
            "dict_keys(['data', 'filenames', 'target_names', 'target', 'DESCR'])\n"
          ],
          "name": "stdout"
        }
      ]
    },
    {
      "cell_type": "markdown",
      "metadata": {
        "id": "jW8wp0ntnHC8",
        "colab_type": "text"
      },
      "source": [
        "- `data` : 이메일 본문\n",
        "- `target` : 메일이 어떤 주제인 지 기재된 숫자 레이블"
      ]
    },
    {
      "cell_type": "markdown",
      "metadata": {
        "id": "xSd3nIZgnOCt",
        "colab_type": "text"
      },
      "source": [
        "<br>\n",
        "\n",
        "### 7.3.4 훈련용 샘플의 개수 확인"
      ]
    },
    {
      "cell_type": "code",
      "metadata": {
        "id": "tTjWjEwTnSe-",
        "colab_type": "code",
        "colab": {
          "base_uri": "https://localhost:8080/",
          "height": 35
        },
        "outputId": "d511f301-9049-4b32-a250-79541bccaf37"
      },
      "source": [
        "print(\"훈련용 샘플의 개수 : {}\".format(len(newsdata.data)))"
      ],
      "execution_count": 12,
      "outputs": [
        {
          "output_type": "stream",
          "text": [
            "훈련용 샘플의 개수 : 11314\n"
          ],
          "name": "stdout"
        }
      ]
    },
    {
      "cell_type": "markdown",
      "metadata": {
        "id": "B1GxrGAznamq",
        "colab_type": "text"
      },
      "source": [
        "<br>\n",
        "\n",
        "### 7.3.5 20개의 주제 확인\n",
        "\n",
        "- `target_names`에는 20개의 주제의 이름을 담고 있다."
      ]
    },
    {
      "cell_type": "code",
      "metadata": {
        "id": "l2dj0-NKniPZ",
        "colab_type": "code",
        "colab": {
          "base_uri": "https://localhost:8080/",
          "height": 35
        },
        "outputId": "489b79bf-1a07-4235-ae12-e222809f2ac0"
      },
      "source": [
        "print('총 주제의 개수 : {}'.format(len(newsdata.target_names)))"
      ],
      "execution_count": 13,
      "outputs": [
        {
          "output_type": "stream",
          "text": [
            "총 주제의 개수 : 20\n"
          ],
          "name": "stdout"
        }
      ]
    },
    {
      "cell_type": "code",
      "metadata": {
        "id": "B6GUgO-mnmyp",
        "colab_type": "code",
        "colab": {
          "base_uri": "https://localhost:8080/",
          "height": 55
        },
        "outputId": "c1146b2c-a646-4a70-c28e-b2eee5f1bd61"
      },
      "source": [
        "print(newsdata.target_names)"
      ],
      "execution_count": 14,
      "outputs": [
        {
          "output_type": "stream",
          "text": [
            "['alt.atheism', 'comp.graphics', 'comp.os.ms-windows.misc', 'comp.sys.ibm.pc.hardware', 'comp.sys.mac.hardware', 'comp.windows.x', 'misc.forsale', 'rec.autos', 'rec.motorcycles', 'rec.sport.baseball', 'rec.sport.hockey', 'sci.crypt', 'sci.electronics', 'sci.med', 'sci.space', 'soc.religion.christian', 'talk.politics.guns', 'talk.politics.mideast', 'talk.politics.misc', 'talk.religion.misc']\n"
          ],
          "name": "stdout"
        }
      ]
    },
    {
      "cell_type": "code",
      "metadata": {
        "id": "owtsr5fanpZh",
        "colab_type": "code",
        "colab": {}
      },
      "source": [
        ""
      ],
      "execution_count": 0,
      "outputs": []
    }
  ]
}