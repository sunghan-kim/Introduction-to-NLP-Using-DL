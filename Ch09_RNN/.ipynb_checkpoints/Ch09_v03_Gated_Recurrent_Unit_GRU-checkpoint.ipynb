{
 "cells": [
  {
   "cell_type": "markdown",
   "metadata": {
    "colab_type": "text",
    "id": "0Bjx10jkUbhS"
   },
   "source": [
    "# Ch09. 순환 신경망 (Recurrent Neural Network)"
   ]
  },
  {
   "cell_type": "markdown",
   "metadata": {
    "colab_type": "text",
    "id": "OnWgkI8yUkV5"
   },
   "source": [
    "# v03. 게이트 순환 유닛 (Gated Recurrent Unit, GRU)"
   ]
  },
  {
   "cell_type": "markdown",
   "metadata": {
    "colab_type": "text",
    "id": "orfsa8s7UngJ"
   },
   "source": [
    "- GRU(Gated Recurrent Unit)는 2014년 뉴욕대학교 조경현 교수님이 집필한 논문에서 제안되었다.\n",
    "- GRU는 LSTM의 장기 의존성 문제에 대한 해결책을 유지하면서, 은닉 상태를 업데이트하는 계산을 줄였다.\n",
    "- 다시 말해서, GRU는 성능은 LSTM과 유사하면서 복잡했던 LSTM의 구조를 간단화 시켰다."
   ]
  },
  {
   "cell_type": "markdown",
   "metadata": {
    "colab_type": "text",
    "id": "oWsN4vYfY1mV"
   },
   "source": [
    "<br>\n",
    "\n",
    "## 3.1 GRU (Gated Recurrent Unit)\n",
    "\n",
    "- LSTM에서는 출력, 입력, 삭제 게이트라는 3개의 게이트가 존재했다.\n",
    "- 반면, GRU에서는 다음 2개의 게이트만 존재한다.\n",
    "  - 업데이트 게이트\n",
    "  - 리셋 게이트\n",
    "- GRU는 LSTM보다 학습 속도가 빠르다고 알려져 있지만 여러 평가에서 GRU는 LSTM과 비슷한 성능을 보인다고 알려져 있다."
   ]
  },
  {
   "cell_type": "markdown",
   "metadata": {
    "colab_type": "text",
    "id": "cPlG7BSraTNf"
   },
   "source": [
    "$\\quad$ ![](https://wikidocs.net/images/page/22889/GRU.PNG)"
   ]
  },
  {
   "cell_type": "markdown",
   "metadata": {
    "colab_type": "text",
    "id": "7YtCbUQuaXMW"
   },
   "source": [
    "- 반드시 LSTM 대신 GRU를 사용하는 것이 좋지는 않다.\n",
    "- GRU와 LSTM 중 어떤 것이 모델의 성능면에서 더 낫다고 단정지어 말할 수 없다.\n",
    "- 기존에 LSTM을 사용하면서 최적의 하이퍼파라미터를 찾아낸 상황이라면 굳이 GRU로 바꿔서 사용할 필요는 없다.\n",
    "- 사실 아직까지는 GRU보다 LSTM이 좀 더 많이 사용되는 편이고, 또한 일부 논문에서는 여전히 LSTM이 GRU보다 더 좋은 성능을 보였다고 주장한다."
   ]
  },
  {
   "cell_type": "markdown",
   "metadata": {
    "colab_type": "text",
    "id": "DqNK8_hVarad"
   },
   "source": [
    "<br>\n",
    "\n",
    "## 3.2 케라스에서의 GRU\n",
    "\n",
    "- 케라스에서는 역시 GRU에 대한 구현을 지원한다.\n",
    "- 사용 방법은 `SimpleRNN`이나 `LSTM`과 같다.\n",
    "\n",
    "```python\n",
    "# 실제 GRU 은닉층을 추가하는 코드\n",
    "model.add(GRU(hidden_size, input_shape=(timesteps, input_dim)))\n",
    "```"
   ]
  }
 ],
 "metadata": {
  "colab": {
   "collapsed_sections": [],
   "name": "Ch09_v03_Gated-Recurrent-Unit-GRU.ipynb",
   "provenance": []
  },
  "kernelspec": {
   "display_name": "Python 3",
   "language": "python",
   "name": "python3"
  },
  "language_info": {
   "name": ""
  }
 },
 "nbformat": 4,
 "nbformat_minor": 4
}
