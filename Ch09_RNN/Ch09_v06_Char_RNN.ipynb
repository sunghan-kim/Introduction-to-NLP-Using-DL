{
 "cells": [
  {
   "cell_type": "markdown",
   "metadata": {
    "colab_type": "text",
    "id": "riKteHZihfsZ"
   },
   "source": [
    "# Ch09. 순환 신경망 (Recurrent Neural Network)"
   ]
  },
  {
   "cell_type": "markdown",
   "metadata": {
    "colab_type": "text",
    "id": "SdNJHdsDhlp0"
   },
   "source": [
    "# v06. 글자 단위 RNN (Char RNN)\n",
    "\n",
    "- 지금까지 배운 RNN은 전부 입력과 출력의 단위가 **단어 벡터**였다.\n",
    "- 하지만 입출력의 단위를 단어 레벨(word-level)에서 글자 레벨(character-level)로 변경하여 RNN을 구현할 수 있다.\n",
    "- 어려운 내용이 아니라 입, 출력의 단위를 단어에서 글자로 바꿨을 뿐이다.\n",
    "\n",
    "$\\quad$ ![](https://wikidocs.net/images/page/48649/char_rnn1.PNG)\n",
    "\n",
    "- 이번 챕터에서는 케라스를 사용하여 글자 단위 RNN(Char RNN)을 구현해본다."
   ]
  },
  {
   "cell_type": "markdown",
   "metadata": {
    "colab_type": "text",
    "id": "s7UYqy5niCQE"
   },
   "source": [
    "<br>\n",
    "\n",
    "## 6.1 글자 단위 RNN 언어 모델 (Char RNNLM)\n",
    "\n",
    "- 이전 시점의 예측 글자를 다음 시점의 입력으로 사용하는 글자 단위 RNN 언어 모델을 구현해보자.\n",
    "- 앞서 배운 단어 단위 RNN 언어 모델과 다른 점 : 단어 단위가 아니라 글자 단위를 입, 출력으로 사용  \n",
    "$\\rightarrow$ 임베딩층(embedding layer)을 사용하지 않는다.\n",
    "- 여기서는 언어 모델의 훈련 과정과 테스트 과정의 차이를 이해하는 데 초점을 둔다."
   ]
  },
  {
   "cell_type": "markdown",
   "metadata": {
    "colab_type": "text",
    "id": "SeaK-50HiGMz"
   },
   "source": [
    "<br>\n",
    "\n",
    "### 6.1.1 고전 소설 데이터셋\n",
    "\n",
    "- [다운로드 링크](http://www.gutenberg.org/files/11/11-0.txt)\n",
    "\n",
    "- 고전 소설들은 저작권에 보호받지 않으므로 무료로 쉽게 다운받을 수 있는 좋은 훈련 데이터이다.\n",
    "- 위의 링크에서 '이상한 나라의 앨리스(Alice's Adventures in Wonderland)'라는 소설을 다운로드한다.\n",
    "- 우선 파일을 불러오고 간단한 전처리를 수행한다."
   ]
  },
  {
   "cell_type": "markdown",
   "metadata": {
    "colab_type": "text",
    "id": "4LFyxVimlrPT"
   },
   "source": [
    "<br>\n",
    "\n",
    "### 6.1.2 데이터에 대한 이해와 전처리"
   ]
  },
  {
   "cell_type": "markdown",
   "metadata": {
    "colab_type": "text",
    "id": "aLH-HhkumlJf"
   },
   "source": [
    "#### 6.1.2.1 필요 라이브러리 임포트"
   ]
  },
  {
   "cell_type": "code",
   "execution_count": 71,
   "metadata": {
    "colab": {
     "base_uri": "https://localhost:8080/",
     "height": 35
    },
    "colab_type": "code",
    "id": "tuTm_SW6l2Vk",
    "outputId": "bad084af-5fa2-4b91-acd6-89f721ebc226"
   },
   "outputs": [
    {
     "data": {
      "text/plain": [
       "'2.1.0'"
      ]
     },
     "execution_count": 71,
     "metadata": {
      "tags": []
     },
     "output_type": "execute_result"
    }
   ],
   "source": [
    "%tensorflow_version 2.x\n",
    "\n",
    "import tensorflow as tf\n",
    "tf.__version__"
   ]
  },
  {
   "cell_type": "code",
   "execution_count": null,
   "metadata": {
    "colab": {},
    "colab_type": "code",
    "id": "pq55kKdLl9Ba"
   },
   "outputs": [],
   "source": [
    "import numpy as np\n",
    "from tensorflow.keras.utils import to_categorical"
   ]
  },
  {
   "cell_type": "markdown",
   "metadata": {
    "colab_type": "text",
    "id": "R3Tr7zjdmoD6"
   },
   "source": [
    "<br>\n",
    "\n",
    "#### 6.1.2.2 데이터셋 불러오기"
   ]
  },
  {
   "cell_type": "code",
   "execution_count": null,
   "metadata": {
    "colab": {},
    "colab_type": "code",
    "id": "bllRPfkZmE-U"
   },
   "outputs": [],
   "source": [
    "f = open('11-0.txt', 'rb')\n",
    "lines = []\n",
    "\n",
    "for line in f:\n",
    "    line = line.strip() # strip() : \\r, \\n 제거\n",
    "    line = line.lower()\n",
    "    line = line.decode('ascii', 'ignore') # \\xe2\\x80\\x99 등과 같은 바이트 열 제거\n",
    "    if len(line) > 0:\n",
    "        lines.append(line)\n",
    "\n",
    "f.close()"
   ]
  },
  {
   "cell_type": "code",
   "execution_count": 74,
   "metadata": {
    "colab": {
     "base_uri": "https://localhost:8080/",
     "height": 107
    },
    "colab_type": "code",
    "id": "mwOHBWTvmbXk",
    "outputId": "76df3039-f340-44ea-a131-348e7d5d5dad"
   },
   "outputs": [
    {
     "data": {
      "text/plain": [
       "['the project gutenberg ebook of alices adventures in wonderland, by lewis carroll',\n",
       " 'this ebook is for the use of anyone anywhere at no cost and with',\n",
       " 'almost no restrictions whatsoever.  you may copy it, give it away or',\n",
       " 're-use it under the terms of the project gutenberg license included',\n",
       " 'with this ebook or online at www.gutenberg.org']"
      ]
     },
     "execution_count": 74,
     "metadata": {
      "tags": []
     },
     "output_type": "execute_result"
    }
   ],
   "source": [
    "lines[:5]"
   ]
  },
  {
   "cell_type": "markdown",
   "metadata": {
    "colab_type": "text",
    "id": "ib2i9hEumdJg"
   },
   "source": [
    "<br>\n",
    "\n",
    "#### 6.1.2.3 문자열 통합\n",
    "\n",
    "- 각 원소는 문자열로 구성되어 있다.\n",
    "- 특별히 의미있게 문장 토큰화가 된 상태는 아니다.\n",
    "- 이를 하나의 문자열로 통합하자."
   ]
  },
  {
   "cell_type": "code",
   "execution_count": 75,
   "metadata": {
    "colab": {
     "base_uri": "https://localhost:8080/",
     "height": 35
    },
    "colab_type": "code",
    "id": "PKaqmjbrmzC8",
    "outputId": "52ba5b6e-7a89-4ee7-8984-6f4b64f33e63"
   },
   "outputs": [
    {
     "name": "stdout",
     "output_type": "stream",
     "text": [
      "문자열의 길이 또는 총 글자의 개수 : 159612\n"
     ]
    }
   ],
   "source": [
    "text = ' '.join(lines)\n",
    "print('문자열의 길이 또는 총 글자의 개수 : %d' % len(text))"
   ]
  },
  {
   "cell_type": "code",
   "execution_count": 76,
   "metadata": {
    "colab": {
     "base_uri": "https://localhost:8080/",
     "height": 55
    },
    "colab_type": "code",
    "id": "KegsEN20m5i5",
    "outputId": "c733c7fc-b6ea-4e30-e432-89cfc7e5598c"
   },
   "outputs": [
    {
     "name": "stdout",
     "output_type": "stream",
     "text": [
      "the project gutenberg ebook of alices adventures in wonderland, by lewis carroll this ebook is for the use of anyone anywhere at no cost and with almost no restrictions whatsoever.  you may copy it, g\n"
     ]
    }
   ],
   "source": [
    "print(text[:200])"
   ]
  },
  {
   "cell_type": "markdown",
   "metadata": {
    "colab_type": "text",
    "id": "IFlyYa7Vm8iA"
   },
   "source": [
    "<br>\n",
    "\n",
    "#### 6.1.2.4 글자 집합 생성\n",
    "\n",
    "- 이 문자열은 어떤 글자들로 구성되어져 있을까?\n",
    "- 이제 이 문자열로부터 글자 집합을 만든다.\n",
    "- 기존에는 중복을 제거한 단어들의 모음인 단어 집합(vocabulary)을 만들었으나, 이번에 만들 집합은 단어 집합이 아니라 글자 집합이다."
   ]
  },
  {
   "cell_type": "code",
   "execution_count": 77,
   "metadata": {
    "colab": {
     "base_uri": "https://localhost:8080/",
     "height": 35
    },
    "colab_type": "code",
    "id": "-aqzcKoVnRQb",
    "outputId": "d69d2eb7-67d6-4987-9573-4a1e4f33e00b"
   },
   "outputs": [
    {
     "name": "stdout",
     "output_type": "stream",
     "text": [
      "글자 집합의 크기 : 57\n"
     ]
    }
   ],
   "source": [
    "char_vocab = sorted(list(set(text)))\n",
    "vocab_size = len(char_vocab)\n",
    "\n",
    "print('글자 집합의 크기 : {}'.format(vocab_size))"
   ]
  },
  {
   "cell_type": "markdown",
   "metadata": {
    "colab_type": "text",
    "id": "-lIEPNE-nZHE"
   },
   "source": [
    "- 영어가 훈련 데이터일 때 대부분의 글자 집합의 크기가 단어 집합을 사용했을 경우보다 집합의 크기가 현저히 작다는 특징이 있다.\n",
    "- 아무리 훈련 코퍼스에 수십만 개 이상의 많은 영어 단어가 존재한다고 하더라도, 영어 단어를 표현하기 위해 글자 집합에 포함되는 글자는 26개의 알파벳뿐이기 때문이다.\n",
    "- 만약 훈련 데이터의 알파벳이 대, 소문자가 구분된 상태라고 하더라도 모든 영어 단어는 52개의 알파벳으로 표현 가능하다."
   ]
  },
  {
   "cell_type": "markdown",
   "metadata": {
    "colab_type": "text",
    "id": "nxmDQVvBntpS"
   },
   "source": [
    "<br>\n",
    "\n",
    "#### 6.1.2.5 글자 집합 인덱스 부여 : `char_to_index`\n",
    "\n",
    "- 어떤 방대한 양의 텍스트라도 집합의 크기를 적게 가져갈 수 있다는 것은 구현과 테스트를 굉장히 쉽게 할 수 있다는 이점을 가진다.\n",
    "- 그러므로 RNN의 동작 매커니즘 이해를 위한 토이 프로젝트로 굉장히 많이 사용된다.\n",
    "- 글자 집합에 인덱스를 부여하고 전부 출력해보자."
   ]
  },
  {
   "cell_type": "code",
   "execution_count": 78,
   "metadata": {
    "colab": {
     "base_uri": "https://localhost:8080/",
     "height": 55
    },
    "colab_type": "code",
    "id": "gumMekjpn-EJ",
    "outputId": "de8c48bb-e7c5-4848-8192-272ca05bcf8d"
   },
   "outputs": [
    {
     "name": "stdout",
     "output_type": "stream",
     "text": [
      "{' ': 0, '!': 1, '\"': 2, '#': 3, '$': 4, '%': 5, \"'\": 6, '(': 7, ')': 8, '*': 9, ',': 10, '-': 11, '.': 12, '/': 13, '0': 14, '1': 15, '2': 16, '3': 17, '4': 18, '5': 19, '6': 20, '7': 21, '8': 22, '9': 23, ':': 24, ';': 25, '?': 26, '@': 27, '[': 28, ']': 29, '_': 30, 'a': 31, 'b': 32, 'c': 33, 'd': 34, 'e': 35, 'f': 36, 'g': 37, 'h': 38, 'i': 39, 'j': 40, 'k': 41, 'l': 42, 'm': 43, 'n': 44, 'o': 45, 'p': 46, 'q': 47, 'r': 48, 's': 49, 't': 50, 'u': 51, 'v': 52, 'w': 53, 'x': 54, 'y': 55, 'z': 56}\n"
     ]
    }
   ],
   "source": [
    "char_to_index = dict((c, i) for i, c in enumerate(char_vocab))\n",
    "print(char_to_index)"
   ]
  },
  {
   "cell_type": "markdown",
   "metadata": {
    "colab_type": "text",
    "id": "JLrKFxMuoFDV"
   },
   "source": [
    "- 인덱스 0부터 28까지는 공백을 포함한 각종 구두점, 특수 문자가 존재한다.\n",
    "- 인덱스 29부터 54까지는 a부터 z까지 총 26개의 알파벳 소문자가 글자 집합에 포함되어져 있다."
   ]
  },
  {
   "cell_type": "markdown",
   "metadata": {
    "colab_type": "text",
    "id": "rFWX8bjXoKoA"
   },
   "source": [
    "<br>\n",
    "\n",
    "#### 6.1.2.6 `index_to_char`\n",
    "\n",
    "- 이제 반대로 인덱스로부터 글자를 리턴하는 `index_to_char`를 만든다."
   ]
  },
  {
   "cell_type": "code",
   "execution_count": 79,
   "metadata": {
    "colab": {
     "base_uri": "https://localhost:8080/",
     "height": 55
    },
    "colab_type": "code",
    "id": "_OqQsVFgog_b",
    "outputId": "f3e9f92f-f28b-416a-cd10-cf300193c4f5"
   },
   "outputs": [
    {
     "name": "stdout",
     "output_type": "stream",
     "text": [
      "{0: ' ', 1: '!', 2: '\"', 3: '#', 4: '$', 5: '%', 6: \"'\", 7: '(', 8: ')', 9: '*', 10: ',', 11: '-', 12: '.', 13: '/', 14: '0', 15: '1', 16: '2', 17: '3', 18: '4', 19: '5', 20: '6', 21: '7', 22: '8', 23: '9', 24: ':', 25: ';', 26: '?', 27: '@', 28: '[', 29: ']', 30: '_', 31: 'a', 32: 'b', 33: 'c', 34: 'd', 35: 'e', 36: 'f', 37: 'g', 38: 'h', 39: 'i', 40: 'j', 41: 'k', 42: 'l', 43: 'm', 44: 'n', 45: 'o', 46: 'p', 47: 'q', 48: 'r', 49: 's', 50: 't', 51: 'u', 52: 'v', 53: 'w', 54: 'x', 55: 'y', 56: 'z'}\n"
     ]
    }
   ],
   "source": [
    "index_to_char = {}\n",
    "\n",
    "for key, value in char_to_index.items():\n",
    "    index_to_char[value] = key\n",
    "\n",
    "print(index_to_char)"
   ]
  },
  {
   "cell_type": "markdown",
   "metadata": {
    "colab_type": "text",
    "id": "ygV7P5e7otYS"
   },
   "source": [
    "<br>\n",
    "\n",
    "#### 6.1.2.7 훈련 데이터 구성\n",
    "\n",
    "- 훈련 데이터 구성을 위한 간소화된 예를 들어보자.\n",
    "- 훈련 데이터에 \"apple\"이라는 시퀀스가 있고, 입력 시퀀스의 길이, 즉 샘플의 길이를 4라고 한다면 입력 시퀀스와 예측해야 하는 출력 시퀀스는 다음과 같이 구성된다.\n",
    "\n",
    "```python\n",
    "# Example) 샘플의 길이가 4라면 4개의 입력 글자 시퀀스로부터 4개의 출력 글자 시퀀스를 예측. 즉, RNN의 time step은 4번\n",
    "appl -> pple\n",
    "# appl은 train_X(입력 시퀀스)에 저장\n",
    "# pple는 train_y(예측해야하는 시퀀스)에 저장\n",
    "```"
   ]
  },
  {
   "cell_type": "markdown",
   "metadata": {
    "colab_type": "text",
    "id": "JLGmS6pzo7US"
   },
   "source": [
    "<br>\n",
    "\n",
    "#### 6.1.2.8 문자열을 문장 샘플로 분리\n",
    "\n",
    "- 이제 15만 8천의 길이를 가진 `text` 문자열로부터 다수의 문장 샘플들로 분리한다.\n",
    "- 분리하는 방법\n",
    "  - 문장 샘플의 길이를 정한다.\n",
    "  - 해당 길이만큼 문자열 전체를 전부 등분한다."
   ]
  },
  {
   "cell_type": "code",
   "execution_count": 80,
   "metadata": {
    "colab": {
     "base_uri": "https://localhost:8080/",
     "height": 35
    },
    "colab_type": "code",
    "id": "tiKbf0kFpRER",
    "outputId": "a2345fce-5791-43a1-e247-09692456c701"
   },
   "outputs": [
    {
     "name": "stdout",
     "output_type": "stream",
     "text": [
      "문장 샘플의 수 : 2660\n"
     ]
    }
   ],
   "source": [
    "seq_length = 60 # 문장의 길이\n",
    "\n",
    "n_samples = int(np.floor((len(text) - 1) / seq_length)) # 문자열을 60등분한다. 그러면 즉 총 샘플의 개수\n",
    "print('문장 샘플의 수 : {}'.format(n_samples))"
   ]
  },
  {
   "cell_type": "markdown",
   "metadata": {
    "colab_type": "text",
    "id": "eJc1iNSsqx1a"
   },
   "source": [
    "- 만약 문장의 길이를 60으로 한다면 15만 8천을 60으로 나눈 수가 샘플의 수가 된다.\n",
    "- 여기서는 총 샘플의 수가 2660개 이다."
   ]
  },
  {
   "cell_type": "code",
   "execution_count": null,
   "metadata": {
    "colab": {},
    "colab_type": "code",
    "id": "JgV0w8IBq5wf"
   },
   "outputs": [],
   "source": [
    "train_X = []\n",
    "train_y = []\n",
    "\n",
    "for i in range(n_samples):\n",
    "\n",
    "    # 0:60 -> 60:120 -> 120:180로 loop를 돌면서 문장 샘플을 1개씩 가져온다.\n",
    "    X_sample = text[i * seq_length: (i+1) * seq_length]\n",
    "\n",
    "    # 하나의 문장 샘플에 대해서 정수 인코딩\n",
    "    X_encoded = [char_to_index[c] for c in X_sample]\n",
    "\n",
    "    train_X.append(X_encoded)\n",
    "\n",
    "    # 오른쪽으로 1칸 쉬프트한다.\n",
    "    y_sample = text[i * seq_length + 1: (i+1) * seq_length + 1]\n",
    "    y_encoded = [char_to_index[c] for c in y_sample]\n",
    "\n",
    "    train_y.append(y_encoded)"
   ]
  },
  {
   "cell_type": "code",
   "execution_count": 82,
   "metadata": {
    "colab": {
     "base_uri": "https://localhost:8080/",
     "height": 55
    },
    "colab_type": "code",
    "id": "Ls9kAGo6svYW",
    "outputId": "56265c4e-5604-4208-e188-4d6f07873ac6"
   },
   "outputs": [
    {
     "name": "stdout",
     "output_type": "stream",
     "text": [
      "[50, 38, 35, 0, 46, 48, 45, 40, 35, 33, 50, 0, 37, 51, 50, 35, 44, 32, 35, 48, 37, 0, 35, 32, 45, 45, 41, 0, 45, 36, 0, 31, 42, 39, 33, 35, 49, 0, 31, 34, 52, 35, 44, 50, 51, 48, 35, 49, 0, 39, 44, 0, 53, 45, 44, 34, 35, 48, 42, 31]\n"
     ]
    }
   ],
   "source": [
    "print(train_X[0])"
   ]
  },
  {
   "cell_type": "code",
   "execution_count": 83,
   "metadata": {
    "colab": {
     "base_uri": "https://localhost:8080/",
     "height": 55
    },
    "colab_type": "code",
    "id": "SWu6Arxxs1Md",
    "outputId": "cb81534a-58d9-48e2-8648-bb447d51eed9"
   },
   "outputs": [
    {
     "name": "stdout",
     "output_type": "stream",
     "text": [
      "[38, 35, 0, 46, 48, 45, 40, 35, 33, 50, 0, 37, 51, 50, 35, 44, 32, 35, 48, 37, 0, 35, 32, 45, 45, 41, 0, 45, 36, 0, 31, 42, 39, 33, 35, 49, 0, 31, 34, 52, 35, 44, 50, 51, 48, 35, 49, 0, 39, 44, 0, 53, 45, 44, 34, 35, 48, 42, 31, 44]\n"
     ]
    }
   ],
   "source": [
    "print(train_y[0])"
   ]
  },
  {
   "cell_type": "markdown",
   "metadata": {
    "colab_type": "text",
    "id": "bOEy9RH1s_N3"
   },
   "source": [
    "- `train_y[0]`은 `train_X[0]`에서 오른쪽 한 칸 쉬프트된 문장임을 알 수 있다."
   ]
  },
  {
   "cell_type": "code",
   "execution_count": 84,
   "metadata": {
    "colab": {
     "base_uri": "https://localhost:8080/",
     "height": 55
    },
    "colab_type": "code",
    "id": "Vs_O_LNLtICG",
    "outputId": "cad593dd-c45c-4a8e-ec6e-4b895fee1246"
   },
   "outputs": [
    {
     "name": "stdout",
     "output_type": "stream",
     "text": [
      "[44, 34, 10, 0, 32, 55, 0, 42, 35, 53, 39, 49, 0, 33, 31, 48, 48, 45, 42, 42, 0, 50, 38, 39, 49, 0, 35, 32, 45, 45, 41, 0, 39, 49, 0, 36, 45, 48, 0, 50, 38, 35, 0, 51, 49, 35, 0, 45, 36, 0, 31, 44, 55, 45, 44, 35, 0, 31, 44, 55]\n"
     ]
    }
   ],
   "source": [
    "print(train_X[1])"
   ]
  },
  {
   "cell_type": "code",
   "execution_count": 85,
   "metadata": {
    "colab": {
     "base_uri": "https://localhost:8080/",
     "height": 55
    },
    "colab_type": "code",
    "id": "vMFuAeENtKE-",
    "outputId": "8f176742-346b-4b0f-db74-b117f114dd25"
   },
   "outputs": [
    {
     "name": "stdout",
     "output_type": "stream",
     "text": [
      "[34, 10, 0, 32, 55, 0, 42, 35, 53, 39, 49, 0, 33, 31, 48, 48, 45, 42, 42, 0, 50, 38, 39, 49, 0, 35, 32, 45, 45, 41, 0, 39, 49, 0, 36, 45, 48, 0, 50, 38, 35, 0, 51, 49, 35, 0, 45, 36, 0, 31, 44, 55, 45, 44, 35, 0, 31, 44, 55, 53]\n"
     ]
    }
   ],
   "source": [
    "print(train_y[1])"
   ]
  },
  {
   "cell_type": "markdown",
   "metadata": {
    "colab_type": "text",
    "id": "muqcGeVbtLOd"
   },
   "source": [
    "- 마찬가지로 `train_y[1]`은 `train_X[1]`에서 오른쪽으로 쉬프트된 문장임을 알 수 있다."
   ]
  },
  {
   "cell_type": "markdown",
   "metadata": {
    "colab_type": "text",
    "id": "DAIcFjCetRqI"
   },
   "source": [
    "<br>\n",
    "\n",
    "#### 6.1.2.9 원-핫 인코딩\n",
    "\n",
    "- 이제 `train_X`와 `train_y`에 대해서 원-핫 인코딩을 수행한다.\n",
    "- 글자 단위 RNN 에서는 입력 시퀀스에 대해서 워드 임베딩을 하지 않는다.\n",
    "- 다시 말해 임베딩층(embedding layer)을 사용하지 않을 것이므로, 입력 시퀀스인 `train_X`에 대해서도 원-핫 인코딩을 한다."
   ]
  },
  {
   "cell_type": "code",
   "execution_count": null,
   "metadata": {
    "colab": {},
    "colab_type": "code",
    "id": "ySHG16Pmtfyf"
   },
   "outputs": [],
   "source": [
    "train_X = to_categorical(train_X)\n",
    "train_y = to_categorical(train_y)"
   ]
  },
  {
   "cell_type": "code",
   "execution_count": 87,
   "metadata": {
    "colab": {
     "base_uri": "https://localhost:8080/",
     "height": 53
    },
    "colab_type": "code",
    "id": "3AaCWuzQtlVs",
    "outputId": "c4d20205-0888-4e63-c50d-d06562872e68"
   },
   "outputs": [
    {
     "name": "stdout",
     "output_type": "stream",
     "text": [
      "train_X의 크기 (shape) : (2660, 60, 57)\n",
      "train_y의 크기 (shape) : (2660, 60, 57)\n"
     ]
    }
   ],
   "source": [
    "print('train_X의 크기 (shape) : {}'.format(train_X.shape))\n",
    "print('train_y의 크기 (shape) : {}'.format(train_y.shape))"
   ]
  },
  {
   "cell_type": "markdown",
   "metadata": {
    "colab_type": "text",
    "id": "Q3JxqzxVtsf1"
   },
   "source": [
    "- `train_X`와 `train_y`의 크기는 `2,660 x 60 x 57` 이다.\n",
    "  - 샘플의 수(No. of samples) : 2,660개\n",
    "  - 입력 시퀀스의 길이(input_length) : 60\n",
    "  - 각 벡터의 차원(input_dim) : 57\n",
    "    - 원-핫 벡터의 차원은 글자 집합의 크기인 57이어야 하므로 원-핫 인코딩이 수행되었음을 알 수 있다.\n",
    "\n",
    "$\\quad$ ![](https://wikidocs.net/images/page/22886/rnn_image6between7.PNG)\n"
   ]
  },
  {
   "cell_type": "markdown",
   "metadata": {
    "colab_type": "text",
    "id": "q2ovz8dGuXZ-"
   },
   "source": [
    "<br>\n",
    "\n",
    "### 6.1.3 모델 설계하기"
   ]
  },
  {
   "cell_type": "markdown",
   "metadata": {
    "colab_type": "text",
    "id": "jrOWTtgcud97"
   },
   "source": [
    "#### 6.1.3.1 필요 라이브러리 임포트"
   ]
  },
  {
   "cell_type": "code",
   "execution_count": null,
   "metadata": {
    "colab": {},
    "colab_type": "code",
    "id": "NWW38cOxugpo"
   },
   "outputs": [],
   "source": [
    "from tensorflow.keras.models import Sequential\n",
    "from tensorflow.keras.layers import Dense, LSTM, TimeDistributed"
   ]
  },
  {
   "cell_type": "markdown",
   "metadata": {
    "colab_type": "text",
    "id": "2xdLKkL2uoBv"
   },
   "source": [
    "<br>\n",
    "\n",
    "#### 6.1.3.2 모델 설계"
   ]
  },
  {
   "cell_type": "code",
   "execution_count": null,
   "metadata": {
    "colab": {},
    "colab_type": "code",
    "id": "rhu6V7j7ur_o"
   },
   "outputs": [],
   "source": [
    "model = Sequential()\n",
    "\n",
    "model.add(LSTM(256, input_shape=(None, train_X.shape[2]), return_sequences=True))\n",
    "model.add(LSTM(256, return_sequences=True))\n",
    "model.add(TimeDistributed(Dense(vocab_size, activation='softmax')))"
   ]
  },
  {
   "cell_type": "markdown",
   "metadata": {
    "colab_type": "text",
    "id": "U15KO7b1u97_"
   },
   "source": [
    "<br>\n",
    "\n",
    "#### 6.1.3.3 모델 컴파일 및 학습"
   ]
  },
  {
   "cell_type": "code",
   "execution_count": null,
   "metadata": {
    "colab": {},
    "colab_type": "code",
    "id": "RVPXLBlPvBxx"
   },
   "outputs": [],
   "source": [
    "model.compile(loss='categorical_crossentropy', optimizer='adam', metrics=['accuracy'])\n",
    "model.fit(train_X, train_y, epochs=80, verbose=2)"
   ]
  },
  {
   "cell_type": "markdown",
   "metadata": {
    "colab_type": "text",
    "id": "1iqlDi5z8S4w"
   },
   "source": [
    "```python\n",
    "Train on 2660 samples\n",
    "Epoch 1/80\n",
    "2660/2660 - 43s - loss: 3.0784 - accuracy: 0.1818\n",
    "Epoch 2/80\n",
    "2660/2660 - 40s - loss: 2.7360 - accuracy: 0.2478\n",
    "Epoch 3/80\n",
    "2660/2660 - 41s - loss: 2.3754 - accuracy: 0.3330\n",
    "\n",
    "...\n",
    "\n",
    "Epoch 78/80\n",
    "2660/2660 - 41s - loss: 0.1846 - accuracy: 0.9553\n",
    "Epoch 79/80\n",
    "2660/2660 - 41s - loss: 0.2002 - accuracy: 0.9491\n",
    "Epoch 80/80\n",
    "2660/2660 - 41s - loss: 0.1977 - accuracy: 0.9491\n",
    "<tensorflow.python.keras.callbacks.History at 0x7f09119ee438>\n",
    "```"
   ]
  },
  {
   "cell_type": "markdown",
   "metadata": {
    "colab_type": "text",
    "id": "zn182ftZvLPJ"
   },
   "source": [
    "<br>\n",
    "\n",
    "#### 6.1.3.4 문장 생성 함수"
   ]
  },
  {
   "cell_type": "code",
   "execution_count": null,
   "metadata": {
    "colab": {},
    "colab_type": "code",
    "id": "0EUyWWg085aO"
   },
   "outputs": [],
   "source": [
    "import warnings\n",
    "warnings.filterwarnings('ignore')"
   ]
  },
  {
   "cell_type": "code",
   "execution_count": null,
   "metadata": {
    "colab": {},
    "colab_type": "code",
    "id": "TVr7mNJxvSAF"
   },
   "outputs": [],
   "source": [
    "def sentence_generation(model, length):\n",
    "\n",
    "    # 글자에 대한 랜덤 인덱스 생성\n",
    "    ix = [np.random.randint(vocab_size)]\n",
    "\n",
    "    # 랜덤 인덱스로부터 글자 생성\n",
    "    y_char = [index_to_char[ix[-1]]]\n",
    "\n",
    "    print(ix[-1], '번 글자', y_char[-1], '로 예측을 시작!')\n",
    "\n",
    "    # (1, length, 55) 크기의 X 생성. 즉, LSTM의 입력 시퀀스 생성\n",
    "    X = np.zeros((1, length, vocab_size))\n",
    "\n",
    "    for i in range(length):\n",
    "\n",
    "        # X[0][i][예측한 글자의 인덱스] = 1. 즉, 예측 글자를 다음 입력 시퀀스에 추가\n",
    "        X[0][i][ix[-1]] = 1 \n",
    "        \n",
    "        print(index_to_char[ix[-1]], end=\"\")\n",
    "\n",
    "        ix = np.argmax(model.predict(X[:, :i+1, :])[0], 1)\n",
    "        y_char.append(index_to_char[ix[-1]])\n",
    "\n",
    "    return ('').join(y_char)"
   ]
  },
  {
   "cell_type": "code",
   "execution_count": null,
   "metadata": {
    "colab": {},
    "colab_type": "code",
    "id": "oHOL4dRNwPwV"
   },
   "outputs": [],
   "source": [
    "sentence_generation(model, 100)"
   ]
  },
  {
   "cell_type": "markdown",
   "metadata": {
    "colab_type": "text",
    "id": "lFCLuy5wU6H4"
   },
   "source": [
    "```\n",
    "8 번 글자 ) 로 예측을 시작!\n",
    "') and repeat _tis the voice of the sligglows to the choos: that very soon ladge again, down on her ha'\n",
    "```"
   ]
  },
  {
   "cell_type": "markdown",
   "metadata": {
    "colab_type": "text",
    "id": "2aehdhG3wT_Y"
   },
   "source": [
    "<br>\n",
    "\n",
    "## 6.2 글자 단위 RNN(Char RNN)으로 텍스트 생성하기\n",
    "\n",
    "- 이번에는 다 대 일(many-to-one) 구조의 RNN을 글자 단위로 학습시키고, 텍스트를 생성해보자."
   ]
  },
  {
   "cell_type": "markdown",
   "metadata": {
    "colab_type": "text",
    "id": "Swtk-N38wYNX"
   },
   "source": [
    "<br>\n",
    "\n",
    "### 6.2.1 데이터에 대한 이해와 전처리"
   ]
  },
  {
   "cell_type": "markdown",
   "metadata": {
    "colab_type": "text",
    "id": "NPb6wxW5yhli"
   },
   "source": [
    "#### 6.2.1.1 필요 라이브러리 임포트"
   ]
  },
  {
   "cell_type": "code",
   "execution_count": null,
   "metadata": {
    "colab": {},
    "colab_type": "code",
    "id": "9RJJpnrbykc9"
   },
   "outputs": [],
   "source": [
    "import numpy as np\n",
    "from tensorflow.keras.utils import to_categorical"
   ]
  },
  {
   "cell_type": "markdown",
   "metadata": {
    "colab_type": "text",
    "id": "pTXFwgN26Gwo"
   },
   "source": [
    "<br>\n",
    "\n",
    "#### 6.2.1.2 훈련 데이터\n",
    "\n",
    "- 다음과 같이 임의로 만든 엉터리 노래 가사가 있다."
   ]
  },
  {
   "cell_type": "code",
   "execution_count": null,
   "metadata": {
    "colab": {},
    "colab_type": "code",
    "id": "pcHcJQeo6Ngf"
   },
   "outputs": [],
   "source": [
    "text='''\n",
    "I get on with life as a programmer,\n",
    "I like to contemplate beer.\n",
    "But when I start to daydream,\n",
    "My mind turns straight to wine.\n",
    "\n",
    "Do I love wine more than beer?\n",
    "\n",
    "I like to use words about beer.\n",
    "But when I stop my talking,\n",
    "My mind turns straight to wine.\n",
    "\n",
    "I hate bugs and errors.\n",
    "But I just think back to wine,\n",
    "And I'm happy once again.\n",
    "\n",
    "I like to hang out with programming and deep learning.\n",
    "But when left alone,\n",
    "My mind turns straight to wine.\n",
    "'''"
   ]
  },
  {
   "cell_type": "markdown",
   "metadata": {
    "colab_type": "text",
    "id": "fmOLGC0Z6PZX"
   },
   "source": [
    "<br>\n",
    "\n",
    "#### 6.2.1.3 하나의 문자열로 저장\n",
    "\n",
    "- 우선 위의 텍스트에 존재하는 단락 구분을 없애고 하나의 문자열로 재저장한다."
   ]
  },
  {
   "cell_type": "code",
   "execution_count": 96,
   "metadata": {
    "colab": {
     "base_uri": "https://localhost:8080/",
     "height": 55
    },
    "colab_type": "code",
    "id": "7MAYRHrw6ZsJ",
    "outputId": "c9341e81-ddc9-4581-c93a-b16dcfd630ac"
   },
   "outputs": [
    {
     "name": "stdout",
     "output_type": "stream",
     "text": [
      "I get on with life as a programmer, I like to contemplate beer. But when I start to daydream, My mind turns straight to wine. Do I love wine more than beer? I like to use words about beer. But when I stop my talking, My mind turns straight to wine. I hate bugs and errors. But I just think back to wine, And I'm happy once again. I like to hang out with programming and deep learning. But when left alone, My mind turns straight to wine.\n"
     ]
    }
   ],
   "source": [
    "tokens = text.split() # \\n 제거\n",
    "text = ' '.join(tokens)\n",
    "print(text)"
   ]
  },
  {
   "cell_type": "markdown",
   "metadata": {
    "colab_type": "text",
    "id": "s7tNisO36gXu"
   },
   "source": [
    "- 단락 구분이 없어지고 하나의 문자열로 재저장된 것을 확인할 수 있다."
   ]
  },
  {
   "cell_type": "markdown",
   "metadata": {
    "colab_type": "text",
    "id": "14eR-aCp6kke"
   },
   "source": [
    "<br>\n",
    "\n",
    "#### 6.2.1.4 글자 집합 생성\n",
    "\n",
    "- 이제 이로부터 글자 집합을 만들어보자."
   ]
  },
  {
   "cell_type": "code",
   "execution_count": 97,
   "metadata": {
    "colab": {
     "base_uri": "https://localhost:8080/",
     "height": 55
    },
    "colab_type": "code",
    "id": "NejDAtj86qxF",
    "outputId": "9677830e-c89f-4c6a-ffa7-90a10ef166e6"
   },
   "outputs": [
    {
     "name": "stdout",
     "output_type": "stream",
     "text": [
      "[' ', \"'\", ',', '.', '?', 'A', 'B', 'D', 'I', 'M', 'a', 'b', 'c', 'd', 'e', 'f', 'g', 'h', 'i', 'j', 'k', 'l', 'm', 'n', 'o', 'p', 'r', 's', 't', 'u', 'v', 'w', 'y']\n"
     ]
    }
   ],
   "source": [
    "char_vocab = sorted(list(set(text)))\n",
    "print(char_vocab)"
   ]
  },
  {
   "cell_type": "markdown",
   "metadata": {
    "colab_type": "text",
    "id": "dCBVWzOH6x5g"
   },
   "source": [
    "- 기존의 단어 단위 집합이 아니라 알파벳 또는 구두점 등의 단위의 집합인 글자 집합이 생성됐다."
   ]
  },
  {
   "cell_type": "code",
   "execution_count": 98,
   "metadata": {
    "colab": {
     "base_uri": "https://localhost:8080/",
     "height": 35
    },
    "colab_type": "code",
    "id": "AnrCl8C_65kg",
    "outputId": "4f52de88-bbb9-4961-bbfa-c3ec3b12918b"
   },
   "outputs": [
    {
     "name": "stdout",
     "output_type": "stream",
     "text": [
      "글자 집합의 크기 : 33\n"
     ]
    }
   ],
   "source": [
    "vocab_size = len(char_vocab)\n",
    "print('글자 집합의 크기 : {}'.format(vocab_size))"
   ]
  },
  {
   "cell_type": "markdown",
   "metadata": {
    "colab_type": "text",
    "id": "ftqBKszM6_kb"
   },
   "source": [
    "<br>\n",
    "\n",
    "#### 6.2.1.5 글자에 정수 인덱스 부여"
   ]
  },
  {
   "cell_type": "code",
   "execution_count": 99,
   "metadata": {
    "colab": {
     "base_uri": "https://localhost:8080/",
     "height": 55
    },
    "colab_type": "code",
    "id": "cPeau1ND7Dul",
    "outputId": "57a8a752-46f6-4c45-df50-aadc8e4b62cb"
   },
   "outputs": [
    {
     "name": "stdout",
     "output_type": "stream",
     "text": [
      "{' ': 0, \"'\": 1, ',': 2, '.': 3, '?': 4, 'A': 5, 'B': 6, 'D': 7, 'I': 8, 'M': 9, 'a': 10, 'b': 11, 'c': 12, 'd': 13, 'e': 14, 'f': 15, 'g': 16, 'h': 17, 'i': 18, 'j': 19, 'k': 20, 'l': 21, 'm': 22, 'n': 23, 'o': 24, 'p': 25, 'r': 26, 's': 27, 't': 28, 'u': 29, 'v': 30, 'w': 31, 'y': 32}\n"
     ]
    }
   ],
   "source": [
    "char_to_index = dict((c, i) for i, c in enumerate(char_vocab))\n",
    "print(char_to_index)"
   ]
  },
  {
   "cell_type": "markdown",
   "metadata": {
    "colab_type": "text",
    "id": "9EaB_qmD7PXn"
   },
   "source": [
    "- 이번 실습의 글자 집합의 경우, 훈련 데이터에 등장한 알파벳의 대, 소문자를 구분하고 구두점과 공백을 포함시켰다."
   ]
  },
  {
   "cell_type": "markdown",
   "metadata": {
    "colab_type": "text",
    "id": "MocVCsjW7VE2"
   },
   "source": [
    "<br>\n",
    "\n",
    "#### 6.2.1.6 문장 샘플 생성\n",
    "\n",
    "- 이제 훈련에 사용할 문장 샘플들을 만들어보자.\n",
    "- 여기서는 RNN을 이용한 생성한 텍스트 챕터와 유사하게 데이터를 구성한다.\n",
    "- 다만, 단위가 글자 단위라는 점이 다르다.\n",
    "- 예를 들어, 훈련 데이터에 \"student\"라는 단어가 있고, 입력 시퀀스의 길이를 5라고 한다.  \n",
    "$\\rightarrow$ 입력 시퀀스와 예측해야 하는 글자는 다음과 같이 구성된다.\n",
    "\n",
    "```python\n",
    "# Example) 5개의 입력 글자 시퀀스로부터 다음 글자 시퀀스를 예측. 즉, RNN의 time step은 5번\n",
    "stude -> n\n",
    "tuden -> t\n",
    "```"
   ]
  },
  {
   "cell_type": "markdown",
   "metadata": {
    "colab_type": "text",
    "id": "wlACvPgj72XY"
   },
   "source": [
    "- 여기서는 입력 시퀀스의 길이, 즉 모든 샘플들의 길이가 10이 되도록 데이터를 구성한다.\n",
    "- 예측 대상이 되는 글자도 필요하므로 우선 길이가 11이 되도록 데이터를 구성한다."
   ]
  },
  {
   "cell_type": "code",
   "execution_count": 100,
   "metadata": {
    "colab": {
     "base_uri": "https://localhost:8080/",
     "height": 35
    },
    "colab_type": "code",
    "id": "diqzt-Kp792A",
    "outputId": "d4b3fef4-ebfe-4784-c498-20677ef8a74c"
   },
   "outputs": [
    {
     "name": "stdout",
     "output_type": "stream",
     "text": [
      "총 훈련 샘플의 수 : 426\n"
     ]
    }
   ],
   "source": [
    "length = 11\n",
    "sequences = []\n",
    "\n",
    "for i in range(length, len(text)):\n",
    "    seq = text[i-length:i] # 길이 11의 문자열을 지속적으로 만든다.\n",
    "    sequences.append(seq)\n",
    "\n",
    "print('총 훈련 샘플의 수 : %d' % (len(sequences)))"
   ]
  },
  {
   "cell_type": "code",
   "execution_count": 101,
   "metadata": {
    "colab": {
     "base_uri": "https://localhost:8080/",
     "height": 197
    },
    "colab_type": "code",
    "id": "5JK5BsZ_9GR2",
    "outputId": "839eeabb-fff0-4641-9359-1f680e3e11aa"
   },
   "outputs": [
    {
     "data": {
      "text/plain": [
       "['I get on wi',\n",
       " ' get on wit',\n",
       " 'get on with',\n",
       " 'et on with ',\n",
       " 't on with l',\n",
       " ' on with li',\n",
       " 'on with lif',\n",
       " 'n with life',\n",
       " ' with life ',\n",
       " 'with life a']"
      ]
     },
     "execution_count": 101,
     "metadata": {
      "tags": []
     },
     "output_type": "execute_result"
    }
   ],
   "source": [
    "sequences[:10]"
   ]
  },
  {
   "cell_type": "markdown",
   "metadata": {
    "colab_type": "text",
    "id": "LJuXnUVB9IpT"
   },
   "source": [
    "- 첫 번째 문장이었던 \"I get on with life as a programmer\"가 10개의 샘플로 분리된 것을 확인할 수 있다.\n",
    "- 다른 문장들에 대해서도 `sequences`에 모두 저장되어 있다."
   ]
  },
  {
   "cell_type": "markdown",
   "metadata": {
    "colab_type": "text",
    "id": "-oOjCZTw9U80"
   },
   "source": [
    "<br>\n",
    "\n",
    "#### 6.2.1.7 전체 데이터 정수 인코딩\n",
    "\n",
    "- 이제 앞서 만든 `char_to_index`를 사용하여 전체 데이터에 대해서 정수 인코딩을 수행한다."
   ]
  },
  {
   "cell_type": "code",
   "execution_count": null,
   "metadata": {
    "colab": {},
    "colab_type": "code",
    "id": "XyGc14IV9b5o"
   },
   "outputs": [],
   "source": [
    "X = []\n",
    "\n",
    "for line in sequences:\n",
    "    temp_X = [char_to_index[char] for char in line]\n",
    "    X.append(temp_X)"
   ]
  },
  {
   "cell_type": "code",
   "execution_count": 103,
   "metadata": {
    "colab": {
     "base_uri": "https://localhost:8080/",
     "height": 107
    },
    "colab_type": "code",
    "id": "1R9-qGwG9fpE",
    "outputId": "51f9e571-f0da-4819-da10-20cf7981ca5b"
   },
   "outputs": [
    {
     "name": "stdout",
     "output_type": "stream",
     "text": [
      "[8, 0, 16, 14, 28, 0, 24, 23, 0, 31, 18]\n",
      "[0, 16, 14, 28, 0, 24, 23, 0, 31, 18, 28]\n",
      "[16, 14, 28, 0, 24, 23, 0, 31, 18, 28, 17]\n",
      "[14, 28, 0, 24, 23, 0, 31, 18, 28, 17, 0]\n",
      "[28, 0, 24, 23, 0, 31, 18, 28, 17, 0, 21]\n"
     ]
    }
   ],
   "source": [
    "for line in X[:5]:\n",
    "    print(line)"
   ]
  },
  {
   "cell_type": "markdown",
   "metadata": {
    "colab_type": "text",
    "id": "0qwvArn59xd-"
   },
   "source": [
    "<br>\n",
    "\n",
    "#### 6.2.1.8 예측 대상 글자 분리\n",
    "\n",
    "- 이제 예측 대상인 글자를 분리시켜주는 작업을 한다.\n",
    "- 모든 샘플 문장에 대해서 맨 마지막 글자를 분리시켜준다."
   ]
  },
  {
   "cell_type": "code",
   "execution_count": null,
   "metadata": {
    "colab": {},
    "colab_type": "code",
    "id": "j3T08IbF97q_"
   },
   "outputs": [],
   "source": [
    "sequences = np.array(X)\n",
    "\n",
    "X = sequences[:, :-1]\n",
    "y = sequences[:, -1]"
   ]
  },
  {
   "cell_type": "code",
   "execution_count": 105,
   "metadata": {
    "colab": {
     "base_uri": "https://localhost:8080/",
     "height": 107
    },
    "colab_type": "code",
    "id": "0DsWLxbb-A9s",
    "outputId": "d3c3f597-b49a-453e-c2b0-01c8fe908382"
   },
   "outputs": [
    {
     "name": "stdout",
     "output_type": "stream",
     "text": [
      "[ 8  0 16 14 28  0 24 23  0 31]\n",
      "[ 0 16 14 28  0 24 23  0 31 18]\n",
      "[16 14 28  0 24 23  0 31 18 28]\n",
      "[14 28  0 24 23  0 31 18 28 17]\n",
      "[28  0 24 23  0 31 18 28 17  0]\n"
     ]
    }
   ],
   "source": [
    "for line in X[:5]:\n",
    "    print(line)"
   ]
  },
  {
   "cell_type": "code",
   "execution_count": 106,
   "metadata": {
    "colab": {
     "base_uri": "https://localhost:8080/",
     "height": 35
    },
    "colab_type": "code",
    "id": "6HIFnsta-Db8",
    "outputId": "7ea05f78-bb9f-478b-81d6-37b70b0601f3"
   },
   "outputs": [
    {
     "name": "stdout",
     "output_type": "stream",
     "text": [
      "[18 28 17  0 21]\n"
     ]
    }
   ],
   "source": [
    "print(y[:5])"
   ]
  },
  {
   "cell_type": "markdown",
   "metadata": {
    "colab_type": "text",
    "id": "TntSZDXq-IgV"
   },
   "source": [
    "- 앞서 출력한 5개의 샘플에서 각각 맨 뒤의 글자였던 `[18 28 17  0 21]`이 별도로 분리되어 `y`에 저장되었다."
   ]
  },
  {
   "cell_type": "markdown",
   "metadata": {
    "colab_type": "text",
    "id": "fmRJZiKP-Rez"
   },
   "source": [
    "<br>\n",
    "\n",
    "#### 6.2.1.9 원-핫 인코딩\n",
    "\n",
    "- 이제 `X`와 `y`에 대해서 원-핫 인코딩을 수행한다."
   ]
  },
  {
   "cell_type": "code",
   "execution_count": null,
   "metadata": {
    "colab": {},
    "colab_type": "code",
    "id": "7_Lzu0LU-WbD"
   },
   "outputs": [],
   "source": [
    "sequences = [to_categorical(x, num_classes=vocab_size) for x in X]\n",
    "X = np.array(sequences)\n",
    "y = to_categorical(y, num_classes=vocab_size)"
   ]
  },
  {
   "cell_type": "code",
   "execution_count": 108,
   "metadata": {
    "colab": {
     "base_uri": "https://localhost:8080/",
     "height": 35
    },
    "colab_type": "code",
    "id": "6pa3bPGo-j32",
    "outputId": "13b19f32-5038-46d7-91af-a63eaea8f0cd"
   },
   "outputs": [
    {
     "name": "stdout",
     "output_type": "stream",
     "text": [
      "(426, 10, 33)\n"
     ]
    }
   ],
   "source": [
    "print(X.shape)"
   ]
  },
  {
   "cell_type": "markdown",
   "metadata": {
    "colab_type": "text",
    "id": "HNezAiqt-lJE"
   },
   "source": [
    "- 현재 `X`의 크기는 `426 x 10 x 33` 이다.\n",
    "  - 426 : 샘플의 수 (No. of samples)\n",
    "  - 10 : 입력 시퀀스의 길이 (`input_length`)\n",
    "  - 33 : 각 벡터의 차원(`input_dim`), 원-핫 벡터의 차원은 글자 집합의 크기인 33이어야 한다.\n",
    "  \n",
    "$\\quad$ ![](https://wikidocs.net/images/page/22886/rnn_image6between7.PNG)"
   ]
  },
  {
   "cell_type": "markdown",
   "metadata": {
    "colab_type": "text",
    "id": "yX3jis-a-7gA"
   },
   "source": [
    "<br>\n",
    "\n",
    "### 6.2.2 모델 설계하기"
   ]
  },
  {
   "cell_type": "markdown",
   "metadata": {
    "colab_type": "text",
    "id": "eqdUTgDj--7v"
   },
   "source": [
    "#### 6.2.2.1 필요 라이브러리 임포트"
   ]
  },
  {
   "cell_type": "code",
   "execution_count": null,
   "metadata": {
    "colab": {},
    "colab_type": "code",
    "id": "_IE7TZBC_BE2"
   },
   "outputs": [],
   "source": [
    "from tensorflow.keras.models import Sequential\n",
    "from tensorflow.keras.layers import Dense, LSTM\n",
    "from tensorflow.keras.preprocessing.sequence import pad_sequences"
   ]
  },
  {
   "cell_type": "markdown",
   "metadata": {
    "colab_type": "text",
    "id": "Bdq9nDyl_NMc"
   },
   "source": [
    "<br>\n",
    "\n",
    "#### 6.2.2.2 모델 설계\n",
    "\n",
    "- LSTM을 사용\n",
    "- 은닉 상태의 크기 : 80\n",
    "- 출력층에 단어 집합의 크기만큼의 뉴런을 배치하여 모델을 설계한다.\n",
    "- 출력층의 활성화 함수 : 소프트맥스 함수"
   ]
  },
  {
   "cell_type": "code",
   "execution_count": null,
   "metadata": {
    "colab": {},
    "colab_type": "code",
    "id": "1G4FdDh__Ui0"
   },
   "outputs": [],
   "source": [
    "model = Sequential()\n",
    "\n",
    "model.add(LSTM(80, input_shape=(X.shape[1], X.shape[2]))) # X.shape[1] : 10, X.shape[2] : 33\n",
    "model.add(Dense(vocab_size, activation='softmax'))"
   ]
  },
  {
   "cell_type": "markdown",
   "metadata": {
    "colab_type": "text",
    "id": "ACG40Aon_oxs"
   },
   "source": [
    "<br>\n",
    "\n",
    "#### 6.2.2.3 모델 컴파일 및 훈련\n",
    "\n",
    "- 손실 함수 : 크로스 엔트로피 함수\n",
    "- 총 100번의 에포크 수행"
   ]
  },
  {
   "cell_type": "code",
   "execution_count": null,
   "metadata": {
    "colab": {},
    "colab_type": "code",
    "id": "8b21G50d_1F_"
   },
   "outputs": [],
   "source": [
    "model.compile(loss='categorical_crossentropy', optimizer='adam', metrics=['accuracy'])\n",
    "model.fit(X, y, epochs=100, verbose=2)"
   ]
  },
  {
   "cell_type": "markdown",
   "metadata": {
    "colab_type": "text",
    "id": "KvJaccmTUo8I"
   },
   "source": [
    "```python\n",
    "Train on 426 samples\n",
    "Epoch 1/100\n",
    "426/426 - 1s - loss: 3.4670 - accuracy: 0.1432\n",
    "Epoch 2/100\n",
    "426/426 - 0s - loss: 3.3343 - accuracy: 0.1972\n",
    "Epoch 3/100\n",
    "426/426 - 0s - loss: 3.0707 - accuracy: 0.1972\n",
    "\n",
    "...\n",
    "\n",
    "Epoch 98/100\n",
    "426/426 - 0s - loss: 0.1532 - accuracy: 0.9812\n",
    "Epoch 99/100\n",
    "426/426 - 0s - loss: 0.1513 - accuracy: 0.9789\n",
    "Epoch 100/100\n",
    "426/426 - 0s - loss: 0.1458 - accuracy: 0.9812\n",
    "<tensorflow.python.keras.callbacks.History at 0x7f0894cc6860>\n",
    "```"
   ]
  },
  {
   "cell_type": "markdown",
   "metadata": {
    "colab_type": "text",
    "id": "J4LVzX_RADRl"
   },
   "source": [
    "<br>\n",
    "\n",
    "#### 6.2.2.4 문장 생성 함수\n",
    "\n",
    "- 문장을 생성하는 함수 `sentence_generation`을 만들어서 문장을 생성해보자."
   ]
  },
  {
   "cell_type": "code",
   "execution_count": null,
   "metadata": {
    "colab": {},
    "colab_type": "code",
    "id": "ba4nafVeALCl"
   },
   "outputs": [],
   "source": [
    "def sentence_generation(model, char_to_index, seq_length, seed_text, n):\n",
    "    # model : 모델\n",
    "    # char_to_index : 인덱스 정보\n",
    "    # seq_length ; 문장 길이\n",
    "    # seed_text : 초기 시퀀스\n",
    "    # n : 반복 횟수\n",
    "\n",
    "    init_text = seed_text # 문장 생성에 사용할 초기 시퀀스\n",
    "    sentence = ''\n",
    "\n",
    "    for _ in range(n):\n",
    "\n",
    "        # 현재 시퀀스에 대한 정수 인코딩\n",
    "        encoded = [char_to_index[char] for char in seed_text]\n",
    "\n",
    "        # 데이터에 대한 패딩\n",
    "        encoded = pad_sequences([encoded], maxlen=seq_length, padding='pre')\n",
    "\n",
    "        encoded = to_categorical(encoded, num_classes=len(char_to_index))\n",
    "\n",
    "        # 입력한 X(현재 시퀀스)에 대해서 y를 예측하고 y(예측한 글자)를 result에 저장\n",
    "        result = model.predict_classes(encoded, verbose=0)\n",
    "\n",
    "        for char, index in char_to_index.items():\n",
    "            if index == result: # 만약 예측한 글자와 인덱스가 동일한 글자가 있다면\n",
    "                break # 해당 글자가 예측 글자이므로 break\n",
    "\n",
    "        seed_text = seed_text + char # 현재 시퀀스 + 예측 글자를 현재 시퀀스로 변경\n",
    "        sentence = sentence + char # 예측 글자를 문장에 저장\n",
    "\n",
    "        # for문이므로 이 작업을 다시 반복\n",
    "\n",
    "    sentence = init_text + sentence\n",
    "\n",
    "    return sentence"
   ]
  },
  {
   "cell_type": "code",
   "execution_count": 113,
   "metadata": {
    "colab": {
     "base_uri": "https://localhost:8080/",
     "height": 35
    },
    "colab_type": "code",
    "id": "I7ia59SNBgS9",
    "outputId": "b69959e2-8c64-4e81-90b7-052f920aba0e"
   },
   "outputs": [
    {
     "name": "stdout",
     "output_type": "stream",
     "text": [
      "I get on with life as a programmer, I like to use words about beer. But when I stap my tra\n"
     ]
    }
   ],
   "source": [
    "print(sentence_generation(model, char_to_index, 10, 'I get on w', 80))"
   ]
  },
  {
   "cell_type": "markdown",
   "metadata": {
    "colab_type": "text",
    "id": "ggAvVa0CBnrp"
   },
   "source": [
    "- 두 개의 문장이 출력되었는데 훈련 데이터에서는 연속적으로 나온 적이 없는 두 문장임에도 모델이 임의로 잘 생성해낸 것 같다."
   ]
  }
 ],
 "metadata": {
  "colab": {
   "collapsed_sections": [],
   "name": "Ch09_v06_Char-RNN.ipynb",
   "provenance": [],
   "toc_visible": true
  },
  "kernelspec": {
   "display_name": "Python 3",
   "language": "python",
   "name": "python3"
  },
  "language_info": {
   "codemirror_mode": {
    "name": "ipython",
    "version": 3
   },
   "file_extension": ".py",
   "mimetype": "text/x-python",
   "name": "python",
   "nbconvert_exporter": "python",
   "pygments_lexer": "ipython3",
   "version": "3.6.9"
  }
 },
 "nbformat": 4,
 "nbformat_minor": 4
}
