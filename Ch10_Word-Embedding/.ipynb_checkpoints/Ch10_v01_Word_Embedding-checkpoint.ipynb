{
 "cells": [
  {
   "cell_type": "markdown",
   "metadata": {
    "colab_type": "text",
    "id": "zAr-v7AoB2BG"
   },
   "source": [
    "# Ch10. 워드 임베딩 (Word Embedding)"
   ]
  },
  {
   "cell_type": "markdown",
   "metadata": {
    "colab_type": "text",
    "id": "0xv_fKWYCZAS"
   },
   "source": [
    "# v01. 워드 임베딩 (Word Embedding)\n",
    "\n",
    "- 워드 임베딩(Word Embedding)은 **단어를 벡터로 표현하는 것**을 말한다.\n",
    "- 워드 임베딩은 단어를 밀집 표현으로 변환하는 방법을 말한다.\n",
    "- 이번 챕터에서는 희소 표현, 밀집 표현, 그리고 워드 임베딩에 대한 개념을 이해한다."
   ]
  },
  {
   "cell_type": "markdown",
   "metadata": {
    "colab_type": "text",
    "id": "feClgjXRCgSa"
   },
   "source": [
    "<br>\n",
    "\n",
    "## 1.1 희소 표현 (Sparse Representation)"
   ]
  },
  {
   "cell_type": "markdown",
   "metadata": {
    "colab_type": "text",
    "id": "dR5NQuNXC0qE"
   },
   "source": [
    "### 1.1.1 희소 표현이란?\n",
    "\n",
    "- 앞서 원-핫 인코딩을 통해서 나온 원-핫 벡터들은 표현하고자 하는 단어의 인덱스값만 1이고, 나머지 인덱스에는 전부 0으로 표현되는 벡터 표현 방법이었다.\n",
    "- 이렇게 벡터 또는 행렬(matrix)의 값이 대부분이 0으로 표현되는 방법을 **희소 표현(sparse representation)**이라고 한다.\n",
    "- 그러니까 원-핫 벡터는 희소 벡터(sparse vector)이다."
   ]
  },
  {
   "cell_type": "markdown",
   "metadata": {
    "colab_type": "text",
    "id": "TPSPJO2UC8Qk"
   },
   "source": [
    "<br>\n",
    "\n",
    "### 1.1.2 희소 표현의 문제점\n",
    "\n",
    "- 희소 벡터의 문제점은 단어의 개수가 늘어나면 벡터의 차원이 한없이 커진다는 점이다.\n",
    "- 원-핫 벡터로 표현할 때는 갖고 있는 코퍼스에 단어가 10,000개였다면 벡터의 차원은 10,000이어야만 했다.\n",
    "- 심지어 그 중에서 단어의 인덱스에 해당되는 부분만 1이고 나머지는 0의 값을 가져야만 했다.\n",
    "- 단어 집합이 클수록 고차원의 벡터가 된다."
   ]
  },
  {
   "cell_type": "markdown",
   "metadata": {
    "colab_type": "text",
    "id": "zsy48Lm1DOjJ"
   },
   "source": [
    "- 예를 들어 단어가 10,000개 있고 강아지란 단어의 인덱스가 5였다면 원-핫 벡터는 다음과 같이 표현된다.\n",
    "\n",
    "> Ex) 강아지 = `[ 0 0 0 0 1 0 0 0 0 ... 중략 ... 0]` # 이 때 1 뒤의 9의 수는 9995개\n",
    "\n",
    "- 이러한 벡터 표현은 공간적 낭비를 불러일으킨다.\n",
    "- 공간적 낭비를 일으키는 것은 원-핫 벡터뿐만은 아니다.\n",
    "- 희소 표현의 일종인 DTM과 같은 경우에도 특정 문서에 여러 단어가 다수 등장하였으나, 다른 많은 문서에서는 해당 특정 문서에 등장했던 단어들이 전부 등장하지 않는다면 역시나 행렬의 많은 값이 0이 되면서 공간적 낭비를 일으킨다.\n",
    "- 뿐만 아니라, 원-핫 벡터는 단어의 의미를 담지 못한다는 단점이 있다."
   ]
  },
  {
   "cell_type": "markdown",
   "metadata": {
    "colab_type": "text",
    "id": "_33fv7sfDzW6"
   },
   "source": [
    "<br>\n",
    "\n",
    "## 1.2 밀집 표현 (Dense Representation)\n",
    "\n",
    "- 희소 표현과 반대되는 표현인 **밀집 표현(dense representation)**이 있다.\n",
    "- 밀집 표현은 벡터의 차원을 단어 집합의 크기로 상정하지 않는다.\n",
    "- 사용자가 설정한 값으로 모든 단어의 벡터 표현의 차원을 맞춘다.\n",
    "- 또한, 이 과정에서 더 이상 0과 1만 가진 값이 아니라 실수값을 가지게 된다."
   ]
  },
  {
   "cell_type": "markdown",
   "metadata": {
    "colab_type": "text",
    "id": "-DwpqHU2D9Pn"
   },
   "source": [
    "- 다시 희소 표현의 예를 가져와 보자.\n",
    "\n",
    "> Ex) 강아지 = `[ 0 0 0 0 1 0 0 0 0 ... 중략 ... 0]` # 이 때 1 뒤의 9의 수는 9995개, 차원은 10,000\n",
    "\n",
    "- 예를 들어 10,000개의 단어가 있을 때 강아지란 단어를 표현하기 위해서는 위와 같은 표현을 사용했다.\n",
    "- 하지만 밀집 표현을 사용하고, 사용자가 밀집 표현의 차원을 128로 설정한다면, 모든 단어의 벡터 표현의 차원은 128로 바뀌면서 모든 값이 실수가 된다.\n",
    "\n",
    "> Ex) 강아지 = `[0.2 1.8 1.1 -2.1 1.1 2.8 ... 중략 ...]` # 이 벡터의 차원은 128\n",
    "\n",
    "- 이 경우 벡터의 차원이 조밀해졌다고 하여 밀집 벡터(dense vector)라고 한다."
   ]
  },
  {
   "cell_type": "markdown",
   "metadata": {
    "colab_type": "text",
    "id": "ciYL1jA7EYtE"
   },
   "source": [
    "<br>\n",
    "\n",
    "## 1.3 워드 임베딩 (Word Embedding)\n",
    "\n",
    "- 단어를 밀집 벡터(dense vector)의 형태로 표현하는 방법\n",
    "- 이 밀집 벡터를 워드 임베딩 과정을 통해 나온 결과라고 하여 **임베딩 벡터(embedding vector)**라고도 한다."
   ]
  },
  {
   "cell_type": "markdown",
   "metadata": {
    "colab_type": "text",
    "id": "dUfWBMXbEnka"
   },
   "source": [
    "<br>\n",
    "\n",
    "### 1.3.1 워드 임베딩 방법론\n",
    "\n",
    "- LSA, Word2Vec, FastText, Glove 등이 있다."
   ]
  },
  {
   "cell_type": "markdown",
   "metadata": {
    "colab_type": "text",
    "id": "zVaqS0zHE82x"
   },
   "source": [
    "<br>\n",
    "\n",
    "### 1.3.2 케라스의 `Embedding()`\n",
    "\n",
    "- 케라스에서 제공하는 도구인 `Embedding()`는 앞서 언급한 방법들을 사용하지는 않지만, 단어를 랜덤한 값을 가지는 밀집 벡터로 변환한 뒤에, 인공 신경망의 가중치를 학습하는 것과 같은 방식으로 단어 벡터를 학습하는 방법을 사용한다."
   ]
  },
  {
   "cell_type": "markdown",
   "metadata": {
    "colab_type": "text",
    "id": "GcXbbsXEFAsZ"
   },
   "source": [
    "<br>\n",
    "\n",
    "### 1.3.3 원-핫 벡터 vs 임베딩 벡터\n",
    "\n",
    "| -         | 원-핫 벡터               | 임베딩 벡터              |\n",
    "| :-------- | :----------------------- | :----------------------- |\n",
    "| 차원      | 고차원(단어 집합의 크기) | 저차원                   |\n",
    "| 다른 표현 | 희소 벡터의 일종         | 밀집 벡터의 일종         |\n",
    "| 표현 방법 | 수동                     | 훈련 데이터로부터 학습함 |\n",
    "| 값의 타입 | 1과 0                    | 실수                     |"
   ]
  },
  {
   "cell_type": "markdown",
   "metadata": {
    "colab_type": "text",
    "id": "rNKI1dQGFUFx"
   },
   "source": [
    "<br>\n",
    "\n",
    "### 1.3.4 `Embedding()` vs Word2Vec, Glove 등의 방법\n",
    "\n",
    "- `Embedding()`을 사용하는 것과 Word2Vec, Glove 등의 방법을 사용하는 것에 대한 비교는 **사전 훈련된 워드 임베딩 챕터**에서 다룬다."
   ]
  },
  {
   "cell_type": "markdown",
   "metadata": {
    "colab_type": "text",
    "id": "jHOs49ISFh_A"
   },
   "source": [
    "<br>\n",
    "\n",
    "## 1.4 참고 자료\n",
    "\n",
    "- [https://colah.github.io/posts/2014-07-NLP-RNNs-Representations/](https://colah.github.io/posts/2014-07-NLP-RNNs-Representations/)\n",
    "- [https://www.kakaobrain.com/blog/6](https://www.kakaobrain.com/blog/6)"
   ]
  }
 ],
 "metadata": {
  "colab": {
   "collapsed_sections": [],
   "name": "Ch10_v01_Word-Embedding.ipynb",
   "provenance": []
  },
  "kernelspec": {
   "display_name": "Python 3",
   "language": "python",
   "name": "python3"
  },
  "language_info": {
   "codemirror_mode": {
    "name": "ipython",
    "version": 3
   },
   "file_extension": ".py",
   "mimetype": "text/x-python",
   "name": "python",
   "nbconvert_exporter": "python",
   "pygments_lexer": "ipython3",
   "version": "3.6.9"
  }
 },
 "nbformat": 4,
 "nbformat_minor": 4
}
