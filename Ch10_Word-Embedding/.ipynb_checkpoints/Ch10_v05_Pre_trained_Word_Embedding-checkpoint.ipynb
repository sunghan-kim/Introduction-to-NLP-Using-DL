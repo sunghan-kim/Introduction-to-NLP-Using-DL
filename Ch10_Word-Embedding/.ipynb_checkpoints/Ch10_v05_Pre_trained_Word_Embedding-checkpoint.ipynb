{
 "cells": [
  {
   "cell_type": "markdown",
   "metadata": {
    "colab_type": "text",
    "id": "MInW092J8tIC"
   },
   "source": [
    "# Ch10. 워드 임베딩 (Word Embedding)"
   ]
  },
  {
   "cell_type": "markdown",
   "metadata": {
    "colab_type": "text",
    "id": "Gp7DxrEN80Aa"
   },
   "source": [
    "# v05. 사전 훈련된 워드 임베딩 (Pre-trained Word Embedding)"
   ]
  },
  {
   "cell_type": "markdown",
   "metadata": {
    "colab_type": "text",
    "id": "LzeQbuy-Vdte"
   },
   "source": [
    "- 이번 챕터에서는 **케라스의 임베딩 층(embedding layer)**과 **사전 훈련된 워드 임베딩(pre-trained word embedding)**을 가져와서 사용하는 것을 비교한다.\n",
    "- 자연어 처리를 구현하려고 할 때 갖고 있는 훈련 데이터의 단어들을 임베딩 층(embedding layer)을 구현하여 임베딩 벡터로 학습하는 경우가 있다.\n",
    "- 케라스에서는 이를 `Embedding()`이라는 도구를 사용하여 구현한다."
   ]
  },
  {
   "cell_type": "markdown",
   "metadata": {
    "colab_type": "text",
    "id": "W0q-Fr_IVzR1"
   },
   "source": [
    "- 그런데 위키피디아 등과 같은 방대한 코퍼스를 가지고 Word2Vec, FastText, GloVe 등을 통해서 이미 미리 훈련된 임베딩 벡터를 불러오는 방법을 사용하는 경우도 있다.\n",
    "- 이는 현재 갖고 있는 훈련 데이터를 임베딩 층으로 처음부터 학습을 하는 방법과는 대조된다."
   ]
  },
  {
   "cell_type": "markdown",
   "metadata": {
    "colab_type": "text",
    "id": "nkuhtddPWn2z"
   },
   "source": [
    "<br>\n",
    "\n",
    "## 5.1 케라스 임베딩 층 (Keras Embedding layer)\n",
    "\n",
    "- 케라스는 훈련 데이터의 단어들에 대해 워드 임베딩을 수행하는 도구 `Embedding()`을 제공한다.\n",
    "- `Embedding()`은 인공 신경망 구조 관점에서 임베딩 층(embedding layer)을 구현한다."
   ]
  },
  {
   "cell_type": "markdown",
   "metadata": {
    "colab_type": "text",
    "id": "jm_au1MOW0f7"
   },
   "source": [
    "<br>\n",
    "\n",
    "### 5.1.1 임베딩 층은 룩업 테이블이다.\n",
    "\n",
    "- 임베딩 층의 입력으로 사용하기 위해서 입력 시퀀스의 각 단어들은 모두 정수 인코딩이 되어야 한다.\n",
    "\n",
    "$\n",
    "\\qquad\n",
    "\\text{어떤 단어} \\; \\rightarrow \\; \n",
    "\\text{단어에 부여된 고유한 정수값} \\; \\rightarrow \\; \n",
    "\\text{임베딩 층 통과} \\; \\rightarrow \\; \n",
    "\\text{밀집 벡터}\n",
    "$"
   ]
  },
  {
   "cell_type": "markdown",
   "metadata": {
    "colab_type": "text",
    "id": "2iftPq86W3Fi"
   },
   "source": [
    "- 임베딩 층은 입력 정수에 대해 밀집 벡터(dense vector)로 맵핑한다.\n",
    "- 이 밀집 벡터는 인공 신경망의 학습 과정에서 가중치가 학습되는 것과 같은 방식으로 훈련된다.\n",
    "- 훈련 과정에서 단어는 모델이 풀고자하는 작업에 맞는 값으로 업데이트된다.\n",
    "- 그리고 이 밀집 벡터를 임베딩 벡터라고 부른다."
   ]
  },
  {
   "cell_type": "markdown",
   "metadata": {
    "colab_type": "text",
    "id": "AvdBbCH7Z0qb"
   },
   "source": [
    "- 정수를 밀집 벡터 또는 임베딩 벡터로 맵핑한다는 것은 어떤 의미일까?\n",
    "- 특정 단어와 맵핑되는 정수를 인덱스로 가지는 테이블로부터 임베딩 벡터 값을 가져오는 룩업 테이블이라고 볼 수 있다.\n",
    "- 그리고 이 테이블은 단어 집합의 크기만큼의 행을 가지므로 모든 단어는 고유한 임베딩 벡터를 가진다.\n",
    "\n",
    "$\\qquad$ ![](https://wikidocs.net/images/page/33793/lookup_table.PNG)\n",
    "\n",
    "- 위의 그림은 단어 \"great\"이 정수 인코딩된 후 테이블로부터 해당 인덱스에 위치한 임베딩 벡터를 꺼내오는 모습을 보여준다.\n",
    "- 위의 그림에서는 임베딩 벡터의 차원이 4로 설정되어 있다.\n",
    "- 그리고 단어 \"great\"은 정수 인코딩 과정에서 1,918의 정수로 인코딩되었다.\n",
    "- 그에 따라 단어 집합의 크기 만큼의 행을 가지는 테이블에서 인덱스 1,918번에 위치한 행을 단어 \"great\"의 임베딩 벡터로 사용한다.\n",
    "- 이 임베딩 벡터는 모델의 입력이 되고, 역전파 과정에서 단어 \"great\"의 임베딩 벡터값이 학습된다."
   ]
  },
  {
   "cell_type": "markdown",
   "metadata": {
    "colab_type": "text",
    "id": "tBQNoGMgbUrw"
   },
   "source": [
    "- 룩업 테이블의 개념을 이론적으로 우선 접하고, 처음 케라스를 배울 때 어떤 분들은 임베딩 층의 원-핫 벡터가 아니어도 동작한다는 점에 헷갈려 한다.\n",
    "- 케라스는 단어를 정수 인덱스로 바꾸고, 원-핫 벡터로 한 번 더 바꾸고 나서 임베딩 층의 입력으로 사용하는 것이 아니다.\n",
    "- 단어를 정수 인덱스로만 바꾼 채로 임베딩 층의 입력으로 사용해도 룩업 테이블된 결과인 임베딩 벡터를 리턴한다."
   ]
  },
  {
   "cell_type": "markdown",
   "metadata": {
    "colab_type": "text",
    "id": "a2k4RM8rngsV"
   },
   "source": [
    "- 케라스의 임베딩 층 구현 코드는 다음과 같다.\n",
    "\n",
    "```python\n",
    "# 아래의 각 인자는 저자가 임의로 선정한 숫자들이며 의미 있는 선정 기준이 아님\n",
    "v = Embedding(20000, 128, input_length=500)\n",
    "# vocab_size = 20000\n",
    "# output_dim = 128\n",
    "# input_length = 500\n",
    "```\n",
    "\n",
    "- 임베딩 층은 다음과 같은 세 개의 인자를 받는다.\n",
    "  1. `vocab_size` : 텍스트 데이터의 전체 단어 집합의 크기이다.\n",
    "  2. `output_dim` : 워드 임베딩 후의 임베딩 벡터의 차원이다.\n",
    "  3. `input_length` : 입력 시퀀스의 길이이다. 만약 갖고 있는 각 샘플의 길이가 500개의 단어로 구성되어 있다면 이 값은 500이 된다."
   ]
  },
  {
   "cell_type": "markdown",
   "metadata": {
    "colab_type": "text",
    "id": "9CK5JFlanwEF"
   },
   "source": [
    "- `Embedding()`은 `(number of samples, input_length)`인 2D 정수 텐서를 입력받는다.\n",
    "- 이 때 각 sample은 정수 인코딩된 결과로, 정수의 시퀀스이다."
   ]
  },
  {
   "cell_type": "markdown",
   "metadata": {
    "colab_type": "text",
    "id": "DWlNkbkgoUiN"
   },
   "source": [
    "- `Embedding()`은 워드 임베딩 작업을 수행하고 `(number of samples, input_length, embeddingi word dimentionality)`인 3D 실수 텐서를 리턴한다."
   ]
  },
  {
   "cell_type": "markdown",
   "metadata": {
    "colab_type": "text",
    "id": "s-HcCtApod8c"
   },
   "source": [
    "<br>\n",
    "\n",
    "### 5.1.2 임베딩 층 사용하기\n",
    "\n",
    "- RNN 챕터에서 이미 사용한 바 있지만, 임베딩 층을 복습해보자.\n",
    "- 문장의 긍, 부정을 판단하는 감성 분류 모델을 만들어 보자."
   ]
  },
  {
   "cell_type": "markdown",
   "metadata": {
    "colab_type": "text",
    "id": "G1fIf_9Dpmpc"
   },
   "source": [
    "<br>\n",
    "\n",
    "#### 5.1.2.1 필요 라이브러리 임포트"
   ]
  },
  {
   "cell_type": "code",
   "execution_count": null,
   "metadata": {
    "colab": {},
    "colab_type": "code",
    "id": "yROqaytoonZ3"
   },
   "outputs": [],
   "source": [
    "from tensorflow.keras.preprocessing.text import Tokenizer\n",
    "from tensorflow.keras.preprocessing.sequence import pad_sequences\n",
    "import numpy as np"
   ]
  },
  {
   "cell_type": "markdown",
   "metadata": {
    "colab_type": "text",
    "id": "4zP66-yLo0ki"
   },
   "source": [
    "<br>\n",
    "\n",
    "#### 5.1.2.2 데이터 생성\n",
    "\n",
    "- 문장과 레이블 데이터를 생성한다.\n",
    "- 긍정인 문장은 레이블 1, 부정인 문장은 레이블이 0이다."
   ]
  },
  {
   "cell_type": "code",
   "execution_count": null,
   "metadata": {
    "colab": {},
    "colab_type": "code",
    "id": "TBbKboHcovvg"
   },
   "outputs": [],
   "source": [
    "sentences = ['nice great best amazing', 'stop lies', 'pitiful nerd', 'excellent work', 'supreme quality', 'bad', 'highly respectable']\n",
    "y_train = [1, 0, 0, 1, 1, 0, 1]"
   ]
  },
  {
   "cell_type": "markdown",
   "metadata": {
    "colab_type": "text",
    "id": "exDqHsNyo6lO"
   },
   "source": [
    "<br>\n",
    "\n",
    "#### 5.1.2.3 토큰화 수행\n",
    "\n",
    "- 케라스의 `Tokenizer()`를 사용하여 토큰화를 진행한다."
   ]
  },
  {
   "cell_type": "code",
   "execution_count": 13,
   "metadata": {
    "colab": {
     "base_uri": "https://localhost:8080/",
     "height": 35
    },
    "colab_type": "code",
    "id": "2Y_z3z3apAFF",
    "outputId": "9e84bce9-623e-43d5-e64e-841f9a26a6f1"
   },
   "outputs": [
    {
     "name": "stdout",
     "output_type": "stream",
     "text": [
      "16\n"
     ]
    }
   ],
   "source": [
    "t = Tokenizer()\n",
    "t.fit_on_texts(sentences)\n",
    "vocab_size = len(t.word_index) + 1\n",
    "\n",
    "print(vocab_size)"
   ]
  },
  {
   "cell_type": "markdown",
   "metadata": {
    "colab_type": "text",
    "id": "B7REeSH1pH6F"
   },
   "source": [
    "<br>\n",
    "\n",
    "#### 5.1.2.4 정수 인코딩 수행\n",
    "\n",
    "- 각 문장에 대해서 정수 인코딩을 수행한다."
   ]
  },
  {
   "cell_type": "code",
   "execution_count": 14,
   "metadata": {
    "colab": {
     "base_uri": "https://localhost:8080/",
     "height": 35
    },
    "colab_type": "code",
    "id": "JqP5EPX1pMa8",
    "outputId": "a6ccbaf9-c7ec-4bd1-cfb7-3f45ec77ab3b"
   },
   "outputs": [
    {
     "name": "stdout",
     "output_type": "stream",
     "text": [
      "[[1, 2, 3, 4], [5, 6], [7, 8], [9, 10], [11, 12], [13], [14, 15]]\n"
     ]
    }
   ],
   "source": [
    "X_encoded = t.texts_to_sequences(sentences)\n",
    "print(X_encoded)"
   ]
  },
  {
   "cell_type": "markdown",
   "metadata": {
    "colab_type": "text",
    "id": "qAaCmD0apSPG"
   },
   "source": [
    "<br>\n",
    "\n",
    "#### 5.1.2.5 패딩\n",
    "\n",
    "- 문장 중에서 가장 길이가 긴 문장의 길이는 4이다."
   ]
  },
  {
   "cell_type": "code",
   "execution_count": 15,
   "metadata": {
    "colab": {
     "base_uri": "https://localhost:8080/",
     "height": 35
    },
    "colab_type": "code",
    "id": "8Fc7EVJIpWp9",
    "outputId": "15a468e9-0a76-407d-e278-094d1eb1c806"
   },
   "outputs": [
    {
     "name": "stdout",
     "output_type": "stream",
     "text": [
      "4\n"
     ]
    }
   ],
   "source": [
    "max_len = max(len(l) for l in X_encoded)\n",
    "print(max_len)"
   ]
  },
  {
   "cell_type": "markdown",
   "metadata": {
    "colab_type": "text",
    "id": "wI1If7iLpaPF"
   },
   "source": [
    "<br>\n",
    "\n",
    "- 모든 문장을 패딩하여 길이를 4로 만들어 준다."
   ]
  },
  {
   "cell_type": "code",
   "execution_count": 16,
   "metadata": {
    "colab": {
     "base_uri": "https://localhost:8080/",
     "height": 143
    },
    "colab_type": "code",
    "id": "CKIZn_K-p1q4",
    "outputId": "9569e270-f731-4dee-f34c-4246b106ab3a"
   },
   "outputs": [
    {
     "name": "stdout",
     "output_type": "stream",
     "text": [
      "[[ 1  2  3  4]\n",
      " [ 5  6  0  0]\n",
      " [ 7  8  0  0]\n",
      " [ 9 10  0  0]\n",
      " [11 12  0  0]\n",
      " [13  0  0  0]\n",
      " [14 15  0  0]]\n"
     ]
    }
   ],
   "source": [
    "X_train = pad_sequences(X_encoded, maxlen=max_len, padding='post')\n",
    "y_train = np.array(y_train)\n",
    "\n",
    "print(X_train)"
   ]
  },
  {
   "cell_type": "markdown",
   "metadata": {
    "colab_type": "text",
    "id": "RYEQq4RCp_Gh"
   },
   "source": [
    "<br>\n",
    "\n",
    "#### 5.1.2.6 모델 설계\n",
    "\n",
    "- 출력층에 1개의 뉴런에 활성화 함수로는 시그모이드 함수를 사용하여 이진 분류를 수행한다."
   ]
  },
  {
   "cell_type": "code",
   "execution_count": null,
   "metadata": {
    "colab": {},
    "colab_type": "code",
    "id": "7Xv07wNVqDrN"
   },
   "outputs": [],
   "source": [
    "from tensorflow.keras.models import Sequential\n",
    "from tensorflow.keras.layers import Dense, Embedding, Flatten\n",
    "\n",
    "model = Sequential()\n",
    "model.add(Embedding(vocab_size, 4, input_length=max_len)) # 모든 임베딩 벡터는 4차원이다.\n",
    "model.add(Flatten()) # Dense의 입력으로 넣기 위함\n",
    "model.add(Dense(1, activation='sigmoid'))"
   ]
  },
  {
   "cell_type": "markdown",
   "metadata": {
    "colab_type": "text",
    "id": "1JygjtSrqfcW"
   },
   "source": [
    "<br>\n",
    "\n",
    "#### 5.1.2.7 모델 훈련 및 평가\n",
    "\n",
    "- 테스트 데이터에 대한 정확도가 아니며 훈련 데이터도 양이 적어서 정확도에 의미는 없다.\n",
    "- 하지만 여기서 말하고자 하는 점은 현재 각 단어들의 임베딩 벡터들의 값은 학습 과정에서 다른 가중치들과 함께 학습된 값이다."
   ]
  },
  {
   "cell_type": "code",
   "execution_count": null,
   "metadata": {
    "colab": {},
    "colab_type": "code",
    "id": "Q9g30NUqqtyO"
   },
   "outputs": [],
   "source": [
    "model.compile(optimizer='adam', loss='binary_crossentropy', metrics=['acc'])\n",
    "model.fit(X_train, y_train, epochs=100, verbose=2)"
   ]
  },
  {
   "cell_type": "markdown",
   "metadata": {
    "colab_type": "text",
    "id": "dbqveFTqq2k4"
   },
   "source": [
    "```\n",
    "Epoch 1/100\n",
    "1/1 - 0s - loss: 0.7002 - acc: 0.4286\n",
    "Epoch 2/100\n",
    "1/1 - 0s - loss: 0.6987 - acc: 0.5714\n",
    "Epoch 3/100\n",
    "1/1 - 0s - loss: 0.6971 - acc: 0.5714\n",
    "\n",
    "...중략...\n",
    "\n",
    "Epoch 98/100\n",
    "1/1 - 0s - loss: 0.5297 - acc: 1.0000\n",
    "Epoch 99/100\n",
    "1/1 - 0s - loss: 0.5276 - acc: 1.0000\n",
    "Epoch 100/100\n",
    "1/1 - 0s - loss: 0.5255 - acc: 1.0000\n",
    "<tensorflow.python.keras.callbacks.History at 0x7f0db02e5c18>\n",
    "```"
   ]
  },
  {
   "cell_type": "markdown",
   "metadata": {
    "colab_type": "text",
    "id": "48UBCJ-Qq-KV"
   },
   "source": [
    "<br>\n",
    "\n",
    "## 5.2 사전 훈련된 워드 임베딩(Pre-Trained Word Embedding) 사용하기\n",
    "\n",
    "- 임베딩 벡터를 얻기 위해서 케라스의 `Embedding()`을 사용하기도 하지만, 때로는 이미 훈련되어져 있는 워드 임베딩을 불러서 이를 임베딩 벡터로 사용하기도 한다.\n",
    "- 훈련 데이터가 적은 상황이라면 모델에 케라스의 `Embedding()`을 사용하는 것보다 다른 텍스트 데이터로 사전 훈련되어 있는 임베딩 벡터를 불러오는 것이 나은 선택일 수 있다."
   ]
  },
  {
   "cell_type": "markdown",
   "metadata": {
    "colab_type": "text",
    "id": "4ehoz-u5Gl9c"
   },
   "source": [
    "- 훈련 데이터가 적다면 케라스의 `Embedding()`으로 해당 문제에 충분히 특화된 임베딩 벡터를 만들어내는 것이 쉽지 않다.\n",
    "- 차라리 해당 문제에 특화된 임베딩 벡터를 만드는 것이 어렵다면, 해당 문제에 특화된 것은 아니지만 보다 일반적이고 보다 많은 훈련 데이터로 이미 Word2Vec이나 GloVe 등으로 학습되어져 있는 임베딩 벡터들을 사용하는 것이 성능의 개선을 가져올 수 있다."
   ]
  },
  {
   "cell_type": "markdown",
   "metadata": {
    "colab_type": "text",
    "id": "gcVZPrxTG5f7"
   },
   "source": [
    "- 사전 훈련된 GloVe와 Word2Vec 임베딩을 사용해서 모델을 훈련시키는 실습을 진행해보자.\n",
    "- [GloVe 다운로드 링크](http://nlp.stanford.edu/data/glove.6B.zip)\n",
    "- [Word2Vec 다운로드 링크](https://drive.google.com/file/d/0B7XkCwpI5KDYNlNUTTlSS21pQmM)"
   ]
  },
  {
   "cell_type": "markdown",
   "metadata": {
    "colab_type": "text",
    "id": "3dsFpVOyHJKZ"
   },
   "source": [
    "- 훈련 데이터는 앞서 사용했던 데이터에 동일한 전처리가 수행된 상태라고 가정한다."
   ]
  },
  {
   "cell_type": "code",
   "execution_count": 19,
   "metadata": {
    "colab": {
     "base_uri": "https://localhost:8080/",
     "height": 143
    },
    "colab_type": "code",
    "id": "oRvLAEiRHxVZ",
    "outputId": "b0187086-3c4e-48d0-e195-ac9eec871df4"
   },
   "outputs": [
    {
     "name": "stdout",
     "output_type": "stream",
     "text": [
      "[[ 1  2  3  4]\n",
      " [ 5  6  0  0]\n",
      " [ 7  8  0  0]\n",
      " [ 9 10  0  0]\n",
      " [11 12  0  0]\n",
      " [13  0  0  0]\n",
      " [14 15  0  0]]\n"
     ]
    }
   ],
   "source": [
    "print(X_train)"
   ]
  },
  {
   "cell_type": "code",
   "execution_count": 20,
   "metadata": {
    "colab": {
     "base_uri": "https://localhost:8080/",
     "height": 35
    },
    "colab_type": "code",
    "id": "cDtMg_6HHyXK",
    "outputId": "932a09ec-8fb3-4488-942e-e6063294d2da"
   },
   "outputs": [
    {
     "name": "stdout",
     "output_type": "stream",
     "text": [
      "[1 0 0 1 1 0 1]\n"
     ]
    }
   ],
   "source": [
    "print(y_train)"
   ]
  },
  {
   "cell_type": "markdown",
   "metadata": {
    "colab_type": "text",
    "id": "J1arYrFzH0Mp"
   },
   "source": [
    "<br>\n",
    "\n",
    "### 5.2.1 사전 훈련된 GloVe 사용하기\n",
    "\n",
    "- 이제 임베딩 층을 설계하기 위한 과정부터 달라진다.\n",
    "- 우선 다운로드 받은 파일인 `glove.6B.zip`의 압축을 풀면 그 안에 4개의 파일이 있다.\n",
    "- 여기서 사용할 파일은 `glove.6B.100d.txt` 파일이다.\n",
    "- 해당 파일은 하나의 줄 당 101개의 값을 가지는 리스트를 갖고 있다.\n",
    "- 두 개의 줄만 읽어보자."
   ]
  },
  {
   "cell_type": "code",
   "execution_count": 22,
   "metadata": {
    "colab": {
     "base_uri": "https://localhost:8080/",
     "height": 109
    },
    "colab_type": "code",
    "id": "VLTDJ_YqMjT4",
    "outputId": "c8cfc01d-bc9d-4716-9320-ca4d6d8628d0"
   },
   "outputs": [
    {
     "name": "stdout",
     "output_type": "stream",
     "text": [
      "['the', '-0.038194', '-0.24487', '0.72812', '-0.39961', '0.083172', '0.043953', '-0.39141', '0.3344', '-0.57545', '0.087459', '0.28787', '-0.06731', '0.30906', '-0.26384', '-0.13231', '-0.20757', '0.33395', '-0.33848', '-0.31743', '-0.48336', '0.1464', '-0.37304', '0.34577', '0.052041', '0.44946', '-0.46971', '0.02628', '-0.54155', '-0.15518', '-0.14107', '-0.039722', '0.28277', '0.14393', '0.23464', '-0.31021', '0.086173', '0.20397', '0.52624', '0.17164', '-0.082378', '-0.71787', '-0.41531', '0.20335', '-0.12763', '0.41367', '0.55187', '0.57908', '-0.33477', '-0.36559', '-0.54857', '-0.062892', '0.26584', '0.30205', '0.99775', '-0.80481', '-3.0243', '0.01254', '-0.36942', '2.2167', '0.72201', '-0.24978', '0.92136', '0.034514', '0.46745', '1.1079', '-0.19358', '-0.074575', '0.23353', '-0.052062', '-0.22044', '0.057162', '-0.15806', '-0.30798', '-0.41625', '0.37972', '0.15006', '-0.53212', '-0.2055', '-1.2526', '0.071624', '0.70565', '0.49744', '-0.42063', '0.26148', '-1.538', '-0.30223', '-0.073438', '-0.28312', '0.37104', '-0.25217', '0.016215', '-0.017099', '-0.38984', '0.87424', '-0.72569', '-0.51058', '-0.52028', '-0.1459', '0.8278', '0.27062']\n",
      "the\n",
      "[',', '-0.10767', '0.11053', '0.59812', '-0.54361', '0.67396', '0.10663', '0.038867', '0.35481', '0.06351', '-0.094189', '0.15786', '-0.81665', '0.14172', '0.21939', '0.58505', '-0.52158', '0.22783', '-0.16642', '-0.68228', '0.3587', '0.42568', '0.19021', '0.91963', '0.57555', '0.46185', '0.42363', '-0.095399', '-0.42749', '-0.16567', '-0.056842', '-0.29595', '0.26037', '-0.26606', '-0.070404', '-0.27662', '0.15821', '0.69825', '0.43081', '0.27952', '-0.45437', '-0.33801', '-0.58184', '0.22364', '-0.5778', '-0.26862', '-0.20425', '0.56394', '-0.58524', '-0.14365', '-0.64218', '0.0054697', '-0.35248', '0.16162', '1.1796', '-0.47674', '-2.7553', '-0.1321', '-0.047729', '1.0655', '1.1034', '-0.2208', '0.18669', '0.13177', '0.15117', '0.7131', '-0.35215', '0.91348', '0.61783', '0.70992', '0.23955', '-0.14571', '-0.37859', '-0.045959', '-0.47368', '0.2385', '0.20536', '-0.18996', '0.32507', '-1.1112', '-0.36341', '0.98679', '-0.084776', '-0.54008', '0.11726', '-1.0194', '-0.24424', '0.12771', '0.013884', '0.080374', '-0.35414', '0.34951', '-0.7226', '0.37549', '0.4441', '-0.99059', '0.61214', '-0.35111', '-0.83155', '0.45293', '0.082577']\n",
      ",\n"
     ]
    }
   ],
   "source": [
    "n = 0\n",
    "f = open('glove.6B.100d.txt', encoding='utf8')\n",
    "\n",
    "for line in f:\n",
    "    word_vector = line.split() # 각 줄을 읽어와서 word_vector에 저장\n",
    "    print(word_vector) # 각 줄을 출력\n",
    "    word = word_vector[0] # word_vector에서 첫 번째 값만 저장\n",
    "    print(word) # word_vector의 첫 번째 값만 출력\n",
    "    n = n+1\n",
    "    if n==2:\n",
    "        break\n",
    "\n",
    "f.close()"
   ]
  },
  {
   "cell_type": "code",
   "execution_count": 23,
   "metadata": {
    "colab": {
     "base_uri": "https://localhost:8080/",
     "height": 53
    },
    "colab_type": "code",
    "id": "BsIosLfemntK",
    "outputId": "f50fa648-7809-4673-b1af-8838f30bc0d8"
   },
   "outputs": [
    {
     "name": "stdout",
     "output_type": "stream",
     "text": [
      "<class 'list'>\n",
      "101\n"
     ]
    }
   ],
   "source": [
    "print(type(word_vector))\n",
    "print(len(word_vector))"
   ]
  },
  {
   "cell_type": "markdown",
   "metadata": {
    "colab_type": "text",
    "id": "w1u2Dkynn7YJ"
   },
   "source": [
    "- 101개의 값 중에서 첫 번째 값은 임베딩 벡터가 의미하는 단어를 의미한다.\n",
    "- 두 번째부터 마지막 값은 해당 단어의 임베딩 벡터의 100개의 차원에서의 각 값을 의미한다.\n",
    "- 즉, `glove.6B.100d.txt`는 수많은 단어에 대해서 100개의 차원을 가지는 임베딩 벡터로 제공하고 있다.\n",
    "- 위의 출력 결과는 단어 'the'에 대해서 100개의 차원을 가지는 임베딩 벡터와 단어 ','에 대해서 100개의 차원을 가지는 임베딩 벡터를 보여준다."
   ]
  },
  {
   "cell_type": "markdown",
   "metadata": {
    "colab_type": "text",
    "id": "9v-8dtctpKgo"
   },
   "source": [
    "<br>\n",
    "\n",
    "- 그러면 이제 `glove.6B.100d.txt`에 있는 모든 임베딩 벡터들을 불러와보자.\n",
    "- 형식은 키(key)와 값(value)의 쌍(pair)를 가지는 파이썬의 사전형 구조를 사용한다."
   ]
  },
  {
   "cell_type": "code",
   "execution_count": 24,
   "metadata": {
    "colab": {
     "base_uri": "https://localhost:8080/",
     "height": 35
    },
    "colab_type": "code",
    "id": "h3OPunWZpqjd",
    "outputId": "ae9534d5-4727-412b-a158-a7c0f8288a41"
   },
   "outputs": [
    {
     "name": "stdout",
     "output_type": "stream",
     "text": [
      "400000개의 Embedding vector가 있습니다.\n"
     ]
    }
   ],
   "source": [
    "import numpy as np\n",
    "\n",
    "embedding_dict = dict()\n",
    "\n",
    "f = open('glove.6B.100d.txt', encoding='utf8')\n",
    "\n",
    "for line in f:\n",
    "    word_vector = line.split()\n",
    "    word = word_vector[0]\n",
    "    word_vector_arr = np.asarray(word_vector[1:], dtype='float32') # 100개의 값을 가지는 array로 변환\n",
    "    embedding_dict[word] = word_vector_arr\n",
    "\n",
    "f.close()\n",
    "\n",
    "print('%s개의 Embedding vector가 있습니다.' % len(embedding_dict))"
   ]
  },
  {
   "cell_type": "markdown",
   "metadata": {
    "colab_type": "text",
    "id": "qoWkyUumqNWf"
   },
   "source": [
    "<br>\n",
    "\n",
    "- 임의의 단어 'respectable'에 대해서 임베딩 벡터를 출력해보자."
   ]
  },
  {
   "cell_type": "code",
   "execution_count": 25,
   "metadata": {
    "colab": {
     "base_uri": "https://localhost:8080/",
     "height": 341
    },
    "colab_type": "code",
    "id": "pTZNiXTFqbV8",
    "outputId": "15d8f278-f5f7-4941-f96d-f940d5f97762"
   },
   "outputs": [
    {
     "name": "stdout",
     "output_type": "stream",
     "text": [
      "[-0.049773   0.19903    0.10585    0.1391    -0.32395    0.44053\n",
      "  0.3947    -0.22805   -0.25793    0.49768    0.15384   -0.08831\n",
      "  0.0782    -0.8299    -0.037788   0.16772   -0.45197   -0.17085\n",
      "  0.74756    0.98256    0.81872    0.28507    0.16178   -0.48626\n",
      " -0.006265  -0.92469   -0.30625   -0.067318  -0.046762  -0.76291\n",
      " -0.0025264 -0.018795   0.12882   -0.52457    0.3586     0.43119\n",
      " -0.89477   -0.057421  -0.53724    0.25587    0.55195    0.44698\n",
      " -0.24252    0.29946    0.25776   -0.8717     0.68426   -0.05688\n",
      " -0.1848    -0.59352   -0.11227   -0.57692   -0.013593   0.18488\n",
      " -0.32507   -0.90171    0.17672    0.075601   0.54896   -0.21488\n",
      " -0.54018   -0.45882   -0.79536    0.26331    0.18879   -0.16363\n",
      "  0.3975     0.1099     0.1164    -0.083499   0.50159    0.35802\n",
      "  0.25677    0.088546   0.42108    0.28674   -0.71285   -0.82915\n",
      "  0.15297   -0.82712    0.022112   1.067     -0.31776    0.1211\n",
      " -0.069755  -0.61327    0.27308   -0.42638   -0.085084  -0.17694\n",
      " -0.0090944  0.1109     0.62543   -0.23682   -0.44928   -0.3667\n",
      " -0.21616   -0.19187   -0.032502   0.38025  ]\n",
      "100\n"
     ]
    }
   ],
   "source": [
    "print(embedding_dict['respectable'])\n",
    "print(len(embedding_dict['respectable']))"
   ]
  },
  {
   "cell_type": "markdown",
   "metadata": {
    "colab_type": "text",
    "id": "wTC8oW5fqgNE"
   },
   "source": [
    "- 벡터값이 출력되며 길이는 100인 것을 확인할 수 있다."
   ]
  },
  {
   "cell_type": "markdown",
   "metadata": {
    "colab_type": "text",
    "id": "nOz6kyZcqj_D"
   },
   "source": [
    "<br>\n",
    "\n",
    "- 이제 훈련 데이터의 단어 집합의 모든 단어에 대해서 사전 훈련된 GloVe의 임베딩 벡터들을 맵핑한다."
   ]
  },
  {
   "cell_type": "code",
   "execution_count": 26,
   "metadata": {
    "colab": {
     "base_uri": "https://localhost:8080/",
     "height": 35
    },
    "colab_type": "code",
    "id": "E9qt-ncYqyFD",
    "outputId": "c69fec94-6e49-480a-8017-50df3a8d3b3b"
   },
   "outputs": [
    {
     "data": {
      "text/plain": [
       "(16, 100)"
      ]
     },
     "execution_count": 26,
     "metadata": {
      "tags": []
     },
     "output_type": "execute_result"
    }
   ],
   "source": [
    "# 단어 집합의 크기의 행과 100개의 열을 가지는 행렬 생성. 값은 전부 0으로 채워진다.\n",
    "embedding_matrix = np.zeros((vocab_size, 100))\n",
    "np.shape(embedding_matrix)"
   ]
  },
  {
   "cell_type": "code",
   "execution_count": 27,
   "metadata": {
    "colab": {
     "base_uri": "https://localhost:8080/",
     "height": 55
    },
    "colab_type": "code",
    "id": "pbidQY7Iq-lj",
    "outputId": "b6d19e74-cfae-4ecc-f836-a92abe205531"
   },
   "outputs": [
    {
     "name": "stdout",
     "output_type": "stream",
     "text": [
      "dict_items([('nice', 1), ('great', 2), ('best', 3), ('amazing', 4), ('stop', 5), ('lies', 6), ('pitiful', 7), ('nerd', 8), ('excellent', 9), ('work', 10), ('supreme', 11), ('quality', 12), ('bad', 13), ('highly', 14), ('respectable', 15)])\n"
     ]
    }
   ],
   "source": [
    "print(t.word_index.items())"
   ]
  },
  {
   "cell_type": "code",
   "execution_count": null,
   "metadata": {
    "colab": {},
    "colab_type": "code",
    "id": "PxVDR7-9rBFy"
   },
   "outputs": [],
   "source": [
    "for word, i in t.word_index.items(): # 훈련 데이터의 단어 집합에서 단어를 1개씩 꺼내온다.\n",
    "    temp = embedding_dict.get(word) # 단어(key)에 해당되는 임베딩 벡터의 100개의 값(value)를 임시 변수에 저장\n",
    "    if temp is not None:\n",
    "        embedding_matrix[i] = temp # 임시 변수의 값을 단어와 맵핑되는 인덱스의 행에 삽입"
   ]
  },
  {
   "cell_type": "markdown",
   "metadata": {
    "colab_type": "text",
    "id": "MtWy2mHzrV5F"
   },
   "source": [
    "<br>\n",
    "\n",
    "- 이제 이를 이용하여 임베딩 층(embedding layer)를 만들어보자."
   ]
  },
  {
   "cell_type": "code",
   "execution_count": null,
   "metadata": {
    "colab": {},
    "colab_type": "code",
    "id": "53rFjGGsrc8J"
   },
   "outputs": [],
   "source": [
    "from tensorflow.keras.models import Sequential\n",
    "from tensorflow.keras.layers import Dense, Embedding, Flatten\n",
    "\n",
    "model = Sequential()\n",
    "e = Embedding(vocab_size, 100, weights=[embedding_matrix], input_length=max_len, trainable=False)"
   ]
  },
  {
   "cell_type": "markdown",
   "metadata": {
    "colab_type": "text",
    "id": "lqmf3bgRru9E"
   },
   "source": [
    "- 현재 실습에서 사전 훈련된 워드 임베딩을 100차원의 값인 것으로 사용하고 있기 때문에 임베딩 층의 `output_dim`의 인자값으로 100을 주어야 한다."
   ]
  },
  {
   "cell_type": "markdown",
   "metadata": {
    "colab_type": "text",
    "id": "6-ZqorJXsAxD"
   },
   "source": [
    "- 그리고 사전 훈련된 워드 임베딩을 그대로 사용할 것이므로, 별도로 더 이상 훈련을 하지 않는다는 옵션을 준다.\n",
    "- 이는 `trainable=False`로 선택할 수 있다."
   ]
  },
  {
   "cell_type": "code",
   "execution_count": null,
   "metadata": {
    "colab": {},
    "colab_type": "code",
    "id": "MbvnqvQAsFot"
   },
   "outputs": [],
   "source": [
    "model.add(e)\n",
    "model.add(Flatten())\n",
    "model.add(Dense(1, activation='sigmoid'))\n",
    "model.compile(optimizer='adam', loss='binary_crossentropy', metrics=['acc'])\n",
    "model.fit(X_train, y_train, epochs=100, verbose=2)"
   ]
  },
  {
   "cell_type": "markdown",
   "metadata": {
    "colab_type": "text",
    "id": "9efGbryEsBTw"
   },
   "source": [
    "```\n",
    "Epoch 1/100\n",
    "1/1 - 0s - loss: 0.7460 - acc: 0.2857\n",
    "Epoch 2/100\n",
    "1/1 - 0s - loss: 0.7270 - acc: 0.2857\n",
    "Epoch 3/100\n",
    "1/1 - 0s - loss: 0.7086 - acc: 0.2857\n",
    "\n",
    "...\n",
    "\n",
    "Epoch 98/100\n",
    "1/1 - 0s - loss: 0.1155 - acc: 1.0000\n",
    "Epoch 99/100\n",
    "1/1 - 0s - loss: 0.1140 - acc: 1.0000\n",
    "Epoch 100/100\n",
    "1/1 - 0s - loss: 0.1126 - acc: 1.0000\n",
    "<tensorflow.python.keras.callbacks.History at 0x7f244d3e75c0>\n",
    "```"
   ]
  },
  {
   "cell_type": "markdown",
   "metadata": {
    "colab_type": "text",
    "id": "kzyaCiU1saUv"
   },
   "source": [
    "<br>\n",
    "\n",
    "- 사전 훈련된 GloVe 임베딩에 대한 예제는 아래의 케라스 블로그 링크에도 기재되어 있다.\n",
    "  - [링크](https://blog.keras.io/using-pre-trained-word-embeddings-in-a-keras-model.html)"
   ]
  },
  {
   "cell_type": "markdown",
   "metadata": {
    "colab_type": "text",
    "id": "dAXyuKoosi72"
   },
   "source": [
    "<br>\n",
    "\n",
    "### 5.2.2 사전 훈련된 Word2Vec 사용하기"
   ]
  },
  {
   "cell_type": "code",
   "execution_count": null,
   "metadata": {
    "colab": {},
    "colab_type": "code",
    "id": "Vpsqv5WbspXC"
   },
   "outputs": [],
   "source": [
    "import numpy as np\n",
    "import gensim"
   ]
  },
  {
   "cell_type": "code",
   "execution_count": 33,
   "metadata": {
    "colab": {
     "base_uri": "https://localhost:8080/",
     "height": 215
    },
    "colab_type": "code",
    "id": "HNDZEFVMs3_X",
    "outputId": "59590ab0-1bb4-4496-fc1a-96f39a6584fc"
   },
   "outputs": [
    {
     "name": "stdout",
     "output_type": "stream",
     "text": [
      "--2020-03-31 03:48:59--  https://s3.amazonaws.com/dl4j-distribution/GoogleNews-vectors-negative300.bin.gz\n",
      "Resolving s3.amazonaws.com (s3.amazonaws.com)... 52.217.40.46\n",
      "Connecting to s3.amazonaws.com (s3.amazonaws.com)|52.217.40.46|:443... connected.\n",
      "HTTP request sent, awaiting response... 200 OK\n",
      "Length: 1647046227 (1.5G) [application/x-gzip]\n",
      "Saving to: ‘GoogleNews-vectors-negative300.bin.gz’\n",
      "\n",
      "GoogleNews-vectors- 100%[===================>]   1.53G  63.6MB/s    in 24s     \n",
      "\n",
      "2020-03-31 03:49:23 (66.0 MB/s) - ‘GoogleNews-vectors-negative300.bin.gz’ saved [1647046227/1647046227]\n",
      "\n"
     ]
    }
   ],
   "source": [
    "# 현재 위치에 구글의 사전 훈련된 Word2Vec을 다운로드\n",
    "!wget \"https://s3.amazonaws.com/dl4j-distribution/GoogleNews-vectors-negative300.bin.gz\""
   ]
  },
  {
   "cell_type": "code",
   "execution_count": 34,
   "metadata": {
    "colab": {
     "base_uri": "https://localhost:8080/",
     "height": 73
    },
    "colab_type": "code",
    "id": "bBuQ9-oftFn2",
    "outputId": "7d2ebbb8-e4b5-45fa-c86f-6a2e1cb019a9"
   },
   "outputs": [
    {
     "name": "stderr",
     "output_type": "stream",
     "text": [
      "/usr/local/lib/python3.6/dist-packages/smart_open/smart_open_lib.py:410: UserWarning: This function is deprecated, use smart_open.open instead. See the migration notes for details: https://github.com/RaRe-Technologies/smart_open/blob/master/README.rst#migrating-to-the-new-open-function\n",
      "  'See the migration notes for details: %s' % _MIGRATION_NOTES_URL\n"
     ]
    }
   ],
   "source": [
    "# 구글의 사전 훈련된 Word2Vec 모델을 로드한다.\n",
    "word2vec_model = gensim.models.KeyedVectors.load_word2vec_format('GoogleNews-vectors-negative300.bin.gz',\n",
    "                                                                 binary=True)"
   ]
  },
  {
   "cell_type": "code",
   "execution_count": 35,
   "metadata": {
    "colab": {
     "base_uri": "https://localhost:8080/",
     "height": 35
    },
    "colab_type": "code",
    "id": "f0ZG3iejtetv",
    "outputId": "31438048-f35a-4199-8401-da5c40d9fda1"
   },
   "outputs": [
    {
     "name": "stdout",
     "output_type": "stream",
     "text": [
      "(3000000, 300)\n"
     ]
    }
   ],
   "source": [
    "print(word2vec_model.vectors.shape) # 모델의 크기 확인 "
   ]
  },
  {
   "cell_type": "markdown",
   "metadata": {
    "colab_type": "text",
    "id": "kCmSOJobyD3v"
   },
   "source": [
    "- 300의 차원을 가진 Word2Vec 벡터가 3,000,000개 있다."
   ]
  },
  {
   "cell_type": "markdown",
   "metadata": {
    "colab_type": "text",
    "id": "TxseLYJjyJQ7"
   },
   "source": [
    "<br>\n",
    "\n",
    "- 모든 값이 0으로 채워진 임베딩 행렬을 만들어준다.\n",
    "- 이번 문제의 단어는 총 16개이므로, 16 x 300의 크기를 가진 행렬을 만든다."
   ]
  },
  {
   "cell_type": "code",
   "execution_count": 36,
   "metadata": {
    "colab": {
     "base_uri": "https://localhost:8080/",
     "height": 35
    },
    "colab_type": "code",
    "id": "RbqJCB0pyTzy",
    "outputId": "073ebe38-1f9d-4982-a8d7-a33f21a3dd08"
   },
   "outputs": [
    {
     "data": {
      "text/plain": [
       "(16, 300)"
      ]
     },
     "execution_count": 36,
     "metadata": {
      "tags": []
     },
     "output_type": "execute_result"
    }
   ],
   "source": [
    "embedding_matrix = np.zeros((vocab_size, 300))\n",
    "np.shape(embedding_matrix)"
   ]
  },
  {
   "cell_type": "markdown",
   "metadata": {
    "colab_type": "text",
    "id": "z0e26vQoyYw2"
   },
   "source": [
    "<br>\n",
    "\n",
    "- `word2vec_model`에서 특정 단어를 입력하면 해당 단어의 임베딩 벡터를 리턴받을 것이다.\n",
    "- 만약 `word2vec_model`에 특정 단어의 임베딩 벡터가 없다면 `None`을 리턴하도록 한다."
   ]
  },
  {
   "cell_type": "code",
   "execution_count": null,
   "metadata": {
    "colab": {},
    "colab_type": "code",
    "id": "8-8F1rFcywIJ"
   },
   "outputs": [],
   "source": [
    "def get_vector(word):\n",
    "    if word in word2vec_model:\n",
    "        return word2vec_model[word]\n",
    "    else:\n",
    "        return None"
   ]
  },
  {
   "cell_type": "markdown",
   "metadata": {
    "colab_type": "text",
    "id": "VmUtSA_ay15i"
   },
   "source": [
    "<br>\n",
    "\n",
    "- 단어 집합으로부터 단어를 1개씩 호출하여 `word2vec_model`에 해당 단어의 임베딩 벡터값이 존재하는 지 확인한다.\n",
    "- 만약 `None`이 아니라면 존재한다는 의미이므로 임베딩 행렬에 해당 단어의 인덱스 위치의 행에 임베딩 벡터의 값을 저장한다."
   ]
  },
  {
   "cell_type": "code",
   "execution_count": null,
   "metadata": {
    "colab": {},
    "colab_type": "code",
    "id": "sfnFqBO4zSKA"
   },
   "outputs": [],
   "source": [
    "for word, i in t.word_index.items():\n",
    "    temp = get_vector(word)\n",
    "    if temp is not None:\n",
    "        embedding_matrix[i] = temp"
   ]
  },
  {
   "cell_type": "markdown",
   "metadata": {
    "colab_type": "text",
    "id": "0TeBUcAVzY8B"
   },
   "source": [
    "- 이렇게 되면 현재 풀고자하는 문제의 16개의 단어와 맵핑되는 임베딩 행렬이 완성된다."
   ]
  },
  {
   "cell_type": "markdown",
   "metadata": {
    "colab_type": "text",
    "id": "2DbgkF0izeH_"
   },
   "source": [
    "<br>\n",
    "\n",
    "- 제대로 맵핑이 됐는 지 확인해보자.\n",
    "- 기존 `word2vec_model`에 저장되어 있던 단어 'nice'의 임베딩 벡터값을 확인해보자."
   ]
  },
  {
   "cell_type": "code",
   "execution_count": null,
   "metadata": {
    "colab": {},
    "colab_type": "code",
    "id": "RBKEtp0mznXn"
   },
   "outputs": [],
   "source": [
    "print(word2vec_model['nice'])"
   ]
  },
  {
   "cell_type": "markdown",
   "metadata": {
    "colab_type": "text",
    "id": "TRiY-Kptzpaw"
   },
   "source": [
    "```\n",
    "[ 0.15820312  0.10595703 -0.18945312  0.38671875  0.08349609 -0.26757812\n",
    "  0.08349609  0.11328125 -0.10400391  0.17871094 -0.12353516 -0.22265625\n",
    "    ....\n",
    " -0.16894531 -0.08642578 -0.08544922  0.18945312 -0.14648438  0.13476562\n",
    " -0.04077148  0.03271484  0.08935547 -0.26757812  0.00836182 -0.21386719]\n",
    "```"
   ]
  },
  {
   "cell_type": "markdown",
   "metadata": {
    "colab_type": "text",
    "id": "h_B2MMSTzt9_"
   },
   "source": [
    "- 이 단어 'nice'는 현재 단어 집합에서 몇 번 인덱스를 가지는 지 확인해보자."
   ]
  },
  {
   "cell_type": "code",
   "execution_count": 40,
   "metadata": {
    "colab": {
     "base_uri": "https://localhost:8080/",
     "height": 35
    },
    "colab_type": "code",
    "id": "T-7QNH00zzhH",
    "outputId": "01349ab3-09b1-4174-d3c8-5eb6851473fe"
   },
   "outputs": [
    {
     "name": "stdout",
     "output_type": "stream",
     "text": [
      "단어 nice의 정수 인덱스 :  1\n"
     ]
    }
   ],
   "source": [
    "print('단어 nice의 정수 인덱스 : ', t.word_index['nice'])"
   ]
  },
  {
   "cell_type": "markdown",
   "metadata": {
    "colab_type": "text",
    "id": "lO9bxzWdz2dP"
   },
   "source": [
    "- 1의 값을 가지므로 `embedding_matrix`의 1번 인덱스에는 단어 'nice'의 임베딩 벡터값이 있어야 한다."
   ]
  },
  {
   "cell_type": "code",
   "execution_count": null,
   "metadata": {
    "colab": {},
    "colab_type": "code",
    "id": "5wMV3hX3z8h2"
   },
   "outputs": [],
   "source": [
    "print(embedding_matrix[1])"
   ]
  },
  {
   "cell_type": "markdown",
   "metadata": {
    "colab_type": "text",
    "id": "tXQi0oIkz-IO"
   },
   "source": [
    "```\n",
    "[ 0.15820312  0.10595703 -0.18945312  0.38671875  0.08349609 -0.26757812\n",
    "  0.08349609  0.11328125 -0.10400391  0.17871094 -0.12353516 -0.22265625\n",
    "        ...\n",
    " -0.16894531 -0.08642578 -0.08544922  0.18945312 -0.14648438  0.13476562\n",
    " -0.04077148  0.03271484  0.08935547 -0.26757812  0.00836182 -0.21386719]\n",
    " ```"
   ]
  },
  {
   "cell_type": "markdown",
   "metadata": {
    "colab_type": "text",
    "id": "HnyQx0_n0Bx2"
   },
   "source": [
    "- 값이 `word2vec_model`에서 확인했던 것과 동일한 것을 확인할 수 있다."
   ]
  },
  {
   "cell_type": "markdown",
   "metadata": {
    "colab_type": "text",
    "id": "GFd-K8cC0Ib2"
   },
   "source": [
    "<br>\n",
    "\n",
    "- 이제 `Embedding`에 사전 훈련된 `embedding_matrix`를 입력으로 넣어주고 모델을 학습시켜 보자."
   ]
  },
  {
   "cell_type": "code",
   "execution_count": null,
   "metadata": {
    "colab": {},
    "colab_type": "code",
    "id": "DQra4YWS0Nlm"
   },
   "outputs": [],
   "source": [
    "from tensorflow.keras.models import Sequential\n",
    "from tensorflow.keras.layers import Dense, Embedding, Flatten\n",
    "\n",
    "model = Sequential()\n",
    "e = Embedding(vocab_size, 300, weights=[embedding_matrix], input_length=max_len, trainable=False)\n",
    "model.add(e)\n",
    "model.add(Flatten())\n",
    "model.add(Dense(1, activation='sigmoid'))\n",
    "model.compile(optimizer='adam', loss='binary_crossentropy', metrics=['acc'])\n",
    "model.fit(X_train, y_train, epochs=100, verbose=2)"
   ]
  },
  {
   "cell_type": "markdown",
   "metadata": {
    "colab_type": "text",
    "id": "pcm1JvbO0quQ"
   },
   "source": [
    "```\n",
    "Epoch 1/100\n",
    "1/1 - 0s - loss: 0.6413 - acc: 0.7143\n",
    "Epoch 2/100\n",
    "1/1 - 0s - loss: 0.6246 - acc: 0.7143\n",
    "Epoch 3/100\n",
    "1/1 - 0s - loss: 0.6084 - acc: 0.8571\n",
    "...\n",
    "Epoch 98/100\n",
    "1/1 - 0s - loss: 0.1075 - acc: 1.0000\n",
    "Epoch 99/100\n",
    "1/1 - 0s - loss: 0.1062 - acc: 1.0000\n",
    "Epoch 100/100\n",
    "1/1 - 0s - loss: 0.1049 - acc: 1.0000\n",
    "<tensorflow.python.keras.callbacks.History at 0x7f241538ab38>\n",
    "```"
   ]
  }
 ],
 "metadata": {
  "colab": {
   "collapsed_sections": [],
   "name": "Ch10_v05_Pre-trained-Word-Embedding.ipynb",
   "provenance": []
  },
  "kernelspec": {
   "display_name": "Python 3",
   "language": "python",
   "name": "python3"
  },
  "language_info": {
   "codemirror_mode": {
    "name": "ipython",
    "version": 3
   },
   "file_extension": ".py",
   "mimetype": "text/x-python",
   "name": "python",
   "nbconvert_exporter": "python",
   "pygments_lexer": "ipython3",
   "version": "3.6.9"
  }
 },
 "nbformat": 4,
 "nbformat_minor": 4
}
