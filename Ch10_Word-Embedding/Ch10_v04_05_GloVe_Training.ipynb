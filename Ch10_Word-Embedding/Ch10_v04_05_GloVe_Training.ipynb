{
 "cells": [
  {
   "cell_type": "markdown",
   "metadata": {
    "colab_type": "text",
    "id": "Y-r_OrSDTLg5"
   },
   "source": [
    "# Ch10. 워드 임베딩 (Word Embedding)"
   ]
  },
  {
   "cell_type": "markdown",
   "metadata": {
    "colab_type": "text",
    "id": "LU4COv76TXBb"
   },
   "source": [
    "# v04. 글로브 (GloVe)"
   ]
  },
  {
   "cell_type": "markdown",
   "metadata": {
    "colab_type": "text",
    "id": "hbsT4WfUTck3"
   },
   "source": [
    "## 4.5 GloVe 훈련시키기"
   ]
  },
  {
   "cell_type": "code",
   "execution_count": 1,
   "metadata": {
    "colab": {
     "base_uri": "https://localhost:8080/",
     "height": 35
    },
    "colab_type": "code",
    "id": "sESwjs_zTiZ-",
    "outputId": "5b39d80f-c16e-4add-cbf8-56f7bdbf71b0"
   },
   "outputs": [
    {
     "data": {
      "text/plain": [
       "'2.2.0-rc1'"
      ]
     },
     "execution_count": 1,
     "metadata": {
      "tags": []
     },
     "output_type": "execute_result"
    }
   ],
   "source": [
    "%tensorflow_version 2.x\n",
    "\n",
    "import tensorflow as tf\n",
    "tf.__version__"
   ]
  },
  {
   "cell_type": "markdown",
   "metadata": {
    "colab_type": "text",
    "id": "Cd3IJyj1TwO0"
   },
   "source": [
    "<br>\n",
    "\n",
    "### 4.5.1 GloVe 설치\n",
    "\n",
    "- GloVe 패키지 설치"
   ]
  },
  {
   "cell_type": "code",
   "execution_count": null,
   "metadata": {
    "colab": {},
    "colab_type": "code",
    "id": "xsv_i1myTzs2"
   },
   "outputs": [],
   "source": [
    "!pip install glove_python"
   ]
  },
  {
   "cell_type": "markdown",
   "metadata": {
    "colab_type": "text",
    "id": "Gmg9MltlT5cn"
   },
   "source": [
    "<br>\n",
    "\n",
    "### 4.5.2 훈련 데이터\n",
    "\n",
    "- GloVe의 입력이 되는 훈련 데이터는 '영어와 한국어 Word2Vec 학습하기' 챕터에서 사용한 영어 데이터를 재사용한다.\n",
    "- 모든 동일한 전처리를 마치고 이전과 동일하게 `result`에 결과가 저장되어 있다고 가정한다."
   ]
  },
  {
   "cell_type": "code",
   "execution_count": null,
   "metadata": {
    "colab": {},
    "colab_type": "code",
    "id": "CyLcmbTIUQ7N"
   },
   "outputs": [],
   "source": [
    "import warnings\n",
    "warnings.filterwarnings('ignore')"
   ]
  },
  {
   "cell_type": "code",
   "execution_count": null,
   "metadata": {
    "colab": {},
    "colab_type": "code",
    "id": "1TySq6nbUbHG"
   },
   "outputs": [],
   "source": [
    "import re\n",
    "from lxml import etree\n",
    "import urllib.request\n",
    "import zipfile\n",
    "from nltk.tokenize import word_tokenize, sent_tokenize"
   ]
  },
  {
   "cell_type": "code",
   "execution_count": null,
   "metadata": {
    "colab": {},
    "colab_type": "code",
    "id": "rxdxovoMUick"
   },
   "outputs": [],
   "source": [
    "urllib.request.urlretrieve(\"https://wit3.fbk.eu/get.php?path=XML_releases/xml/ted_en-20160408.zip&filename=ted_en-20160408.zip\", filename=\"ted_en-20160408.zip\")\n",
    "\n",
    "# 데이터 다운로드\n",
    "with zipfile.ZipFile('ted_en-20160408.zip', 'r') as z:\n",
    "    target_text = etree.parse(z.open('ted_en-20160408.xml', 'r'))\n",
    "\n",
    "    # xml 파일로부터 <content>와 </content> 사이의 내용만 가져온다.\n",
    "    parse_text = '\\n'.join(target_text.xpath('//content/text()'))"
   ]
  },
  {
   "cell_type": "code",
   "execution_count": 7,
   "metadata": {
    "colab": {
     "base_uri": "https://localhost:8080/",
     "height": 55
    },
    "colab_type": "code",
    "id": "pEttEazSUljv",
    "outputId": "9ed2f7d6-b1e7-41e5-f889-50c621d97b13"
   },
   "outputs": [
    {
     "data": {
      "text/plain": [
       "\"Here are two reasons companies fail: they only do more of the same, or they only do what's new.\\nTo me the real, real solution to quality growth is figuring out the balance between two activities: expl\""
      ]
     },
     "execution_count": 7,
     "metadata": {
      "tags": []
     },
     "output_type": "execute_result"
    }
   ],
   "source": [
    "# 정규 표현식의 sub 모듈을 통해 content 중간에 등장하는 (Audio), (Laughter) 등의 배경음 부분을 제거\n",
    "# 해당 코드는 괄호로 구성된 내용을 제거\n",
    "content_text = re.sub(r'\\([^)]*\\)', '', parse_text)\n",
    "\n",
    "content_text[:200]"
   ]
  },
  {
   "cell_type": "code",
   "execution_count": 8,
   "metadata": {
    "colab": {
     "base_uri": "https://localhost:8080/",
     "height": 71
    },
    "colab_type": "code",
    "id": "IQgaHGM4UpcV",
    "outputId": "0f602913-29e4-4f7a-f413-e2a817ae7fe8"
   },
   "outputs": [
    {
     "name": "stdout",
     "output_type": "stream",
     "text": [
      "[nltk_data] Downloading package punkt to /root/nltk_data...\n",
      "[nltk_data]   Unzipping tokenizers/punkt.zip.\n"
     ]
    },
    {
     "data": {
      "text/plain": [
       "True"
      ]
     },
     "execution_count": 8,
     "metadata": {
      "tags": []
     },
     "output_type": "execute_result"
    }
   ],
   "source": [
    "import nltk\n",
    "nltk.download('punkt')"
   ]
  },
  {
   "cell_type": "code",
   "execution_count": 9,
   "metadata": {
    "colab": {
     "base_uri": "https://localhost:8080/",
     "height": 73
    },
    "colab_type": "code",
    "id": "Ct4_m2gAUslG",
    "outputId": "25e1f8f0-24a8-41cd-ca87-126c0d75758e"
   },
   "outputs": [
    {
     "data": {
      "text/plain": [
       "[\"Here are two reasons companies fail: they only do more of the same, or they only do what's new.\",\n",
       " 'To me the real, real solution to quality growth is figuring out the balance between two activities: exploration and exploitation.']"
      ]
     },
     "execution_count": 9,
     "metadata": {
      "tags": []
     },
     "output_type": "execute_result"
    }
   ],
   "source": [
    "# 입력 코퍼스에 대해서 NLTK를 이용하여 문장 토큰화를 수행\n",
    "sent_text = sent_tokenize(content_text)\n",
    "\n",
    "sent_text[:2]"
   ]
  },
  {
   "cell_type": "code",
   "execution_count": 10,
   "metadata": {
    "colab": {
     "base_uri": "https://localhost:8080/",
     "height": 73
    },
    "colab_type": "code",
    "id": "bc8wAnQAUvU_",
    "outputId": "d1e53511-2680-4979-e941-9cf6b7bf59d8"
   },
   "outputs": [
    {
     "data": {
      "text/plain": [
       "['here are two reasons companies fail they only do more of the same or they only do what s new ',\n",
       " 'to me the real real solution to quality growth is figuring out the balance between two activities exploration and exploitation ']"
      ]
     },
     "execution_count": 10,
     "metadata": {
      "tags": []
     },
     "output_type": "execute_result"
    }
   ],
   "source": [
    "# 각 문장에 대해서 구두점을 제거하고, 대문자를 소문자로 변환\n",
    "normalized_text = []\n",
    "for string in sent_text:\n",
    "    tokens = re.sub(r\"[^a-z0-9]+\", \" \", string.lower())\n",
    "    normalized_text.append(tokens)\n",
    "\n",
    "normalized_text[:2]"
   ]
  },
  {
   "cell_type": "code",
   "execution_count": null,
   "metadata": {
    "colab": {},
    "colab_type": "code",
    "id": "9uJ8kxb3UydX"
   },
   "outputs": [],
   "source": [
    "# 각 문장에 대해서 NLTK를 이용해 단어 토큰화 수행\n",
    "result = [word_tokenize(sentence) for sentence in normalized_text]"
   ]
  },
  {
   "cell_type": "code",
   "execution_count": 12,
   "metadata": {
    "colab": {
     "base_uri": "https://localhost:8080/",
     "height": 35
    },
    "colab_type": "code",
    "id": "wBUZi5pbU1IM",
    "outputId": "ead285c1-2856-4226-f094-5113cbcd2701"
   },
   "outputs": [
    {
     "name": "stdout",
     "output_type": "stream",
     "text": [
      "총 샘플의 개수 : 273424\n"
     ]
    }
   ],
   "source": [
    "print('총 샘플의 개수 : {}'.format(len(result)))"
   ]
  },
  {
   "cell_type": "code",
   "execution_count": 13,
   "metadata": {
    "colab": {
     "base_uri": "https://localhost:8080/",
     "height": 91
    },
    "colab_type": "code",
    "id": "icRN3cE5VSnG",
    "outputId": "8bb8936c-7b5c-4521-cf27-841a37a348dd"
   },
   "outputs": [
    {
     "name": "stdout",
     "output_type": "stream",
     "text": [
      "['here', 'are', 'two', 'reasons', 'companies', 'fail', 'they', 'only', 'do', 'more', 'of', 'the', 'same', 'or', 'they', 'only', 'do', 'what', 's', 'new']\n",
      "['to', 'me', 'the', 'real', 'real', 'solution', 'to', 'quality', 'growth', 'is', 'figuring', 'out', 'the', 'balance', 'between', 'two', 'activities', 'exploration', 'and', 'exploitation']\n",
      "['both', 'are', 'necessary', 'but', 'it', 'can', 'be', 'too', 'much', 'of', 'a', 'good', 'thing']\n"
     ]
    }
   ],
   "source": [
    "# 샘플 3개만 출력\n",
    "for line in result[:3]:\n",
    "    print(line)"
   ]
  },
  {
   "cell_type": "markdown",
   "metadata": {
    "colab_type": "text",
    "id": "nITvlxtxU-ko"
   },
   "source": [
    "<br>\n",
    "\n",
    "### 4.5.3 훈련"
   ]
  },
  {
   "cell_type": "code",
   "execution_count": 14,
   "metadata": {
    "colab": {
     "base_uri": "https://localhost:8080/",
     "height": 395
    },
    "colab_type": "code",
    "id": "a3wqpZMrVED7",
    "outputId": "8bd974b6-fe40-4905-a466-1ce92d5eeff4"
   },
   "outputs": [
    {
     "name": "stdout",
     "output_type": "stream",
     "text": [
      "Performing 20 training epochs with 4 threads\n",
      "Epoch 0\n",
      "Epoch 1\n",
      "Epoch 2\n",
      "Epoch 3\n",
      "Epoch 4\n",
      "Epoch 5\n",
      "Epoch 6\n",
      "Epoch 7\n",
      "Epoch 8\n",
      "Epoch 9\n",
      "Epoch 10\n",
      "Epoch 11\n",
      "Epoch 12\n",
      "Epoch 13\n",
      "Epoch 14\n",
      "Epoch 15\n",
      "Epoch 16\n",
      "Epoch 17\n",
      "Epoch 18\n",
      "Epoch 19\n"
     ]
    }
   ],
   "source": [
    "from glove import Corpus, Glove\n",
    "\n",
    "corpus = Corpus()\n",
    "\n",
    "# 훈련 데이터로부터 GloVe에서 사용할 동시 등장 행렬 생성\n",
    "corpus.fit(result, window=5)\n",
    "\n",
    "# 학습에 이용할 쓰레드의 개수 4 (no_threads=4)\n",
    "# 에포크 20 (epochs=20)\n",
    "glove = Glove(no_components=100, learning_rate=0.05)\n",
    "glove.fit(corpus.matrix, epochs=20, no_threads=4, verbose=True)\n",
    "glove.add_dictionary(corpus.dictionary)"
   ]
  },
  {
   "cell_type": "markdown",
   "metadata": {
    "colab_type": "text",
    "id": "qIzNUj-qVs5L"
   },
   "source": [
    "<br>\n",
    "\n",
    "### 4.5.4 `glove.most_similar()`\n",
    "\n",
    "- `glove.most_similar()`는 입력 단어와 가장 유사한 단어들의 리스트를 출력한다."
   ]
  },
  {
   "cell_type": "code",
   "execution_count": 15,
   "metadata": {
    "colab": {
     "base_uri": "https://localhost:8080/",
     "height": 55
    },
    "colab_type": "code",
    "id": "52WDRL6WV3TK",
    "outputId": "267b8702-88c1-4504-dc93-8f9b370b4b2e"
   },
   "outputs": [
    {
     "name": "stdout",
     "output_type": "stream",
     "text": [
      "[('woman', 0.9656968877121709), ('guy', 0.8923934313809874), ('girl', 0.8749832695592937), ('young', 0.8376841373272359)]\n"
     ]
    }
   ],
   "source": [
    "# \"man\"\n",
    "model_result1 = glove.most_similar(\"man\")\n",
    "print(model_result1)"
   ]
  },
  {
   "cell_type": "code",
   "execution_count": 16,
   "metadata": {
    "colab": {
     "base_uri": "https://localhost:8080/",
     "height": 55
    },
    "colab_type": "code",
    "id": "LOXJifGQWK4x",
    "outputId": "982b4d14-72e3-4e04-dd46-33640c8d7af6"
   },
   "outputs": [
    {
     "name": "stdout",
     "output_type": "stream",
     "text": [
      "[('girl', 0.9462837151558987), ('woman', 0.848592139278506), ('kid', 0.8288868910342776), ('man', 0.8287990390041283)]\n"
     ]
    }
   ],
   "source": [
    "# \"boy\"\n",
    "model_result2 = glove.most_similar(\"boy\")\n",
    "print(model_result2)"
   ]
  },
  {
   "cell_type": "code",
   "execution_count": 17,
   "metadata": {
    "colab": {
     "base_uri": "https://localhost:8080/",
     "height": 55
    },
    "colab_type": "code",
    "id": "dBB_p8VRWRIp",
    "outputId": "3dd2d0e9-3ec9-475a-f525-4a1e158c8ccc"
   },
   "outputs": [
    {
     "name": "stdout",
     "output_type": "stream",
     "text": [
      "[('harvard', 0.886769949567571), ('mit', 0.8491405049409272), ('stanford', 0.836196635356568), ('cambridge', 0.8324910126415979)]\n"
     ]
    }
   ],
   "source": [
    "# \"university\"\n",
    "model_result3 = glove.most_similar(\"university\")\n",
    "print(model_result3)"
   ]
  },
  {
   "cell_type": "code",
   "execution_count": 18,
   "metadata": {
    "colab": {
     "base_uri": "https://localhost:8080/",
     "height": 55
    },
    "colab_type": "code",
    "id": "-0UdC-DUWX1m",
    "outputId": "32cbd53d-435e-49b6-9d89-bc01a4f39a28"
   },
   "outputs": [
    {
     "name": "stdout",
     "output_type": "stream",
     "text": [
      "[('clean', 0.8419920899161488), ('fresh', 0.8382582571650625), ('air', 0.8347967096095402), ('electricity', 0.8096120117700837)]\n"
     ]
    }
   ],
   "source": [
    "# \"water\"\n",
    "model_result4 = glove.most_similar(\"water\")\n",
    "print(model_result4)"
   ]
  },
  {
   "cell_type": "code",
   "execution_count": 19,
   "metadata": {
    "colab": {
     "base_uri": "https://localhost:8080/",
     "height": 55
    },
    "colab_type": "code",
    "id": "o5b2Y_HtWfd0",
    "outputId": "5d856935-fa1b-467e-d8d0-ddf4a7d87853"
   },
   "outputs": [
    {
     "name": "stdout",
     "output_type": "stream",
     "text": [
      "[('chemistry', 0.8898927495028395), ('economics', 0.881057540215464), ('beauty', 0.8733432303405607), ('mathematics', 0.866095510956594)]\n"
     ]
    }
   ],
   "source": [
    "# \"physics\"\n",
    "model_result5 = glove.most_similar(\"physics\")\n",
    "print(model_result5)"
   ]
  },
  {
   "cell_type": "code",
   "execution_count": 20,
   "metadata": {
    "colab": {
     "base_uri": "https://localhost:8080/",
     "height": 55
    },
    "colab_type": "code",
    "id": "I4C_t4yZWnKn",
    "outputId": "87ef1d2b-4acc-4d4e-f700-b338dd2a7337"
   },
   "outputs": [
    {
     "name": "stdout",
     "output_type": "stream",
     "text": [
      "[('nerve', 0.8369865000720708), ('tissue', 0.8288942483958321), ('channel', 0.7617123128191436), ('skeletal', 0.7602536387613167)]\n"
     ]
    }
   ],
   "source": [
    "# \"muscle\"\n",
    "model_result6 = glove.most_similar(\"muscle\")\n",
    "print(model_result6)"
   ]
  },
  {
   "cell_type": "code",
   "execution_count": 21,
   "metadata": {
    "colab": {
     "base_uri": "https://localhost:8080/",
     "height": 55
    },
    "colab_type": "code",
    "id": "WqEjJcusWtsF",
    "outputId": "95bb3fda-3cc4-429b-9792-2087ec40c9cf"
   },
   "outputs": [
    {
     "name": "stdout",
     "output_type": "stream",
     "text": [
      "[('water', 0.8419920899161488), ('fresh', 0.8416432408847341), ('heat', 0.8092694145045692), ('wind', 0.8022735591670345)]\n"
     ]
    }
   ],
   "source": [
    "# \"clean\"\n",
    "model_result7 = glove.most_similar(\"clean\")\n",
    "print(model_result7)"
   ]
  }
 ],
 "metadata": {
  "colab": {
   "collapsed_sections": [],
   "name": "Ch10_v04_05_GloVe-Training.ipynb",
   "provenance": []
  },
  "kernelspec": {
   "display_name": "Python 3",
   "language": "python",
   "name": "python3"
  },
  "language_info": {
   "codemirror_mode": {
    "name": "ipython",
    "version": 3
   },
   "file_extension": ".py",
   "mimetype": "text/x-python",
   "name": "python",
   "nbconvert_exporter": "python",
   "pygments_lexer": "ipython3",
   "version": "3.6.9"
  }
 },
 "nbformat": 4,
 "nbformat_minor": 4
}
