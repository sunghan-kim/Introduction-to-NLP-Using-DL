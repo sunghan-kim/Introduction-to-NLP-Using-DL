{
 "cells": [
  {
   "cell_type": "markdown",
   "metadata": {
    "colab_type": "text",
    "id": "oqoE13E9yB9r"
   },
   "source": [
    "# Ch10. 워드 임베딩 (Word Embedding)"
   ]
  },
  {
   "cell_type": "markdown",
   "metadata": {
    "colab_type": "text",
    "id": "xwG-HEqRyH5y"
   },
   "source": [
    "# v04. 글로브 (GloVe)"
   ]
  },
  {
   "cell_type": "markdown",
   "metadata": {
    "colab_type": "text",
    "id": "h1KO3yINyO5h"
   },
   "source": [
    "- 글로브(Global Vectors for Word Representation, GloVe)는 카운트 기반과 예측 기반을 모두 사용하는 방법론이다.\n",
    "- 2014년에 미국 스탠포드대학에서 개발한 단어 임베딩 방법론이다.\n",
    "- 앞서 학습하였던 기존의 카운트 기반의 LSA(Latent Semantic Analysis)와 예측 기반의 Word2Vec의 단점을 지적하며 이를 보완한다는 목적으로 나왔다.\n",
    "- 실제로도 Word2Vec 만큼 뛰어난 성능을 보여준다.\n",
    "- 현재까지의 연구에 따르면 단정적으로 Word2Vec와 GloVe 중에서 어떤 것이 더 뛰어나다고 말할 수는 없고, 이 두 가지 전부를 사용해보고 성능이 더 좋은 것을 사용하는 것이 바람직하다."
   ]
  },
  {
   "cell_type": "markdown",
   "metadata": {
    "colab_type": "text",
    "id": "xlKQ7gTmzAws"
   },
   "source": [
    "<br>\n",
    "\n",
    "## 4.1 기존 방법론에 대한 비판\n",
    "\n",
    "- 기존의 방법론을 복습해보자."
   ]
  },
  {
   "cell_type": "markdown",
   "metadata": {
    "colab_type": "text",
    "id": "VhBytTi0zPvW"
   },
   "source": [
    "<br>\n",
    "\n",
    "### 4.1.1 LSA\n",
    "\n",
    "- LSA는 DTM이나 TF-IDF 행렬과 같이 각 문서에서의 각 단어의 빈도 수를 카운트한 행렬이라는 전체적인 통계 정보를 입력으로 받아 차원을 축소(Truncated SVD)하여 잠재된 의미를 끌어내는 방법론이다."
   ]
  },
  {
   "cell_type": "markdown",
   "metadata": {
    "colab_type": "text",
    "id": "f2ZwnH9YzdRm"
   },
   "source": [
    "<br>\n",
    "\n",
    "### 4.1.2 Word2Vec\n",
    "\n",
    "- 반면, Word2Vec는 실제값과 예측값에 대한 오차를 손실 함수를 통해 줄여나가며 학습하는 예측 기반의 방법론이다."
   ]
  },
  {
   "cell_type": "markdown",
   "metadata": {
    "colab_type": "text",
    "id": "CPYAWpPJzon_"
   },
   "source": [
    "<br>\n",
    "\n",
    "### 4.1.3 각각의 방법론의 장단점\n",
    "\n",
    "- 서로 다른 방법을 사용하는 이 두 방법론은 각각 장, 단점이 있다."
   ]
  },
  {
   "cell_type": "markdown",
   "metadata": {
    "colab_type": "text",
    "id": "Igb_mohLzxdH"
   },
   "source": [
    "- LSA\n",
    "  - (장점) : 카운트 기반으로 코퍼스의 전체적인 통계 정보를 고려한다.\n",
    "  - (단점) : 왕 : 남자 = 여왕 : ?(정답은 여자)와 같은 단어 의미의 유추 작업(Analogy task)에는 성능이 떨어진다."
   ]
  },
  {
   "cell_type": "markdown",
   "metadata": {
    "colab_type": "text",
    "id": "XkWO1Whh0Ag-"
   },
   "source": [
    "- Word2Vec\n",
    "  - (장점) : 예측 기반으로 단어 간 유추 작업에는 LSA보다 뛰어나다.\n",
    "  - (단점) : 임베딩 벡터가 윈도우 크기 내에서만 주변 단어를 고려하기 때문에 코퍼스의 전체적인 통계 정보를 반영하지 못한다."
   ]
  },
  {
   "cell_type": "markdown",
   "metadata": {
    "colab_type": "text",
    "id": "qtHCEYfm0IVg"
   },
   "source": [
    "<br>\n",
    "\n",
    "### 4.1.4 GloVe\n",
    "\n",
    "- GloVe는 이러한 기존 방법론들의 각각의 한계를 지적하며, LSA의 메커니즘이었던 카운트 기반의 방법과 Word2Vec의 메커니즘이었던 예측 기반의 방법론 두 가지를 모두 사용한다."
   ]
  },
  {
   "cell_type": "code",
   "execution_count": null,
   "metadata": {
    "colab": {},
    "colab_type": "code",
    "id": "xxC57RVS0i7v"
   },
   "outputs": [],
   "source": []
  }
 ],
 "metadata": {
  "colab": {
   "collapsed_sections": [],
   "name": "Ch10_v04_GloVe.ipynb",
   "provenance": []
  },
  "kernelspec": {
   "display_name": "Python 3",
   "language": "python",
   "name": "python3"
  },
  "language_info": {
   "codemirror_mode": {
    "name": "ipython",
    "version": 3
   },
   "file_extension": ".py",
   "mimetype": "text/x-python",
   "name": "python",
   "nbconvert_exporter": "python",
   "pygments_lexer": "ipython3",
   "version": "3.6.9"
  }
 },
 "nbformat": 4,
 "nbformat_minor": 4
}
