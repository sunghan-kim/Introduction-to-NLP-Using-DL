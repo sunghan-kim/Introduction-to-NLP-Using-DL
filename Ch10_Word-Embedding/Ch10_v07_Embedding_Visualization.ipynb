{
 "cells": [
  {
   "cell_type": "markdown",
   "metadata": {
    "colab_type": "text",
    "id": "LlZ4e_aqYIg3"
   },
   "source": [
    "# Ch10. 워드 임베딩 (Word Embedding)"
   ]
  },
  {
   "cell_type": "markdown",
   "metadata": {
    "colab_type": "text",
    "id": "w4OiszDHYNze"
   },
   "source": [
    "# v07. 임베딩 벡터의 시각화 (Embedding Visualization)"
   ]
  },
  {
   "cell_type": "markdown",
   "metadata": {
    "colab_type": "text",
    "id": "GBhnWsgAYRR-"
   },
   "source": [
    "- 구글은 임베딩 프로젝터(embedding projector)라는 데이터 시각화 도구를 지원한다.\n",
    "- 이번 챕터에서는 임베딩 프로젝터를 사용하여 학습한 임베딩 벡터들을 시각화해본다.\n",
    "- [임베딩 프로젝터 논문](https://arxiv.org/pdf/1611.05469v1.pdf)"
   ]
  },
  {
   "cell_type": "markdown",
   "metadata": {
    "colab_type": "text",
    "id": "ZgDztHFQbSmA"
   },
   "source": [
    "<br>\n",
    "\n",
    "## 7.1 워드 임베딩 모델로부터 2개의 tsv 파일 생성하기\n",
    "\n",
    "- 이번 실습에서는 학습한 임베딩 벡터들을 시각화해보자.\n",
    "- 꼭 Word2Vec 등으로 학습해야 하는 방법이 정해져 있지는 않고, GloVe 등 다른 방법으로 훈련되어 있어도 상관없다.\n",
    "- 시각화를 위해서는 이미 모델을 학습하고, 파일로 저장되어져 있어야 한다.\n",
    "- 모델이 저장되어져 있다면 아래 커맨드를 통해 시각화에 필요한 파일들을 생성할 수 있다.\n",
    "\n",
    "```\n",
    "!python -m gensim.scripts.word2vec2tensor --input 모델이름 --output 모델이름\n",
    "```\n",
    "\n",
    "- 여기서는 편의를 위해 이전 챕터에서 학습하고 저장하는 실습까지 진행했던 영어 Word2Vec 모델인 `eng_w2v`를 재사용한다.\n",
    "- `eng_w2v`라는 Word2Vec 모델이 이미 존재한다는 가정 하에 주피터 노트북에서 아래 커맨드를 수행한다."
   ]
  },
  {
   "cell_type": "code",
   "execution_count": 1,
   "metadata": {
    "colab": {
     "base_uri": "https://localhost:8080/",
     "height": 183
    },
    "colab_type": "code",
    "id": "PtMNiF7Nb8fO",
    "outputId": "2f06620f-aed5-40fb-dbbb-437bfaa5f8f0"
   },
   "outputs": [
    {
     "name": "stdout",
     "output_type": "stream",
     "text": [
      "2020-04-01 06:36:06,729 - word2vec2tensor - INFO - running /usr/local/lib/python3.6/dist-packages/gensim/scripts/word2vec2tensor.py --input eng_w2v --output eng_w2v\n",
      "2020-04-01 06:36:06,730 - utils_any2vec - INFO - loading projection weights from eng_w2v\n",
      "/usr/local/lib/python3.6/dist-packages/smart_open/smart_open_lib.py:410: UserWarning: This function is deprecated, use smart_open.open instead. See the migration notes for details: https://github.com/RaRe-Technologies/smart_open/blob/master/README.rst#migrating-to-the-new-open-function\n",
      "  'See the migration notes for details: %s' % _MIGRATION_NOTES_URL\n",
      "2020-04-01 06:36:08,870 - utils_any2vec - INFO - loaded (21613, 100) matrix from eng_w2v\n",
      "2020-04-01 06:36:10,774 - word2vec2tensor - INFO - 2D tensor file saved to eng_w2v_tensor.tsv\n",
      "2020-04-01 06:36:10,775 - word2vec2tensor - INFO - Tensor metadata file saved to eng_w2v_metadata.tsv\n",
      "2020-04-01 06:36:10,778 - word2vec2tensor - INFO - finished running word2vec2tensor.py\n"
     ]
    }
   ],
   "source": [
    "!python -m gensim.scripts.word2vec2tensor --input eng_w2v --output eng_w2v"
   ]
  },
  {
   "cell_type": "markdown",
   "metadata": {
    "colab_type": "text",
    "id": "i3Byvn7odD6v"
   },
   "source": [
    "- 커맨드를 수행하면 주피터 노트북이 시작되는 경로에 기존에 있던 `eng_w2v` 외에도 두 개의 파일이 생긴다.\n",
    "\n",
    "$\\qquad$ ![](https://wikidocs.net/images/page/50704/eng_w2v.PNG)\n",
    "\n",
    "- 새로 생긴 `eng_w2v_metadata.tsv`와 `eng_w2v_tensor.tsv` 이 두 개 파일이 임베딩 벡터 시각화를 위해 사용할 파일이다.\n",
    "- 만약 `eng_w2v` 모델 파일이 아니라 다른 모델 파일 이름으로 실습을 진행하고 있다면, `모델 이름_metadata.tsv`와 `모델 이름_tensor.tsv`라는 파일이 생성될 것이다."
   ]
  },
  {
   "cell_type": "markdown",
   "metadata": {
    "colab_type": "text",
    "id": "aam4OEDcdK57"
   },
   "source": [
    "<br>\n",
    "\n",
    "## 7.2 임베딩 프로젝터를 사용하여 시각화하기\n",
    "\n",
    "- 이제 구글의 임베딩 프로젝터를 사용해서 워드 임베딩 모델을 시각화해보자.\n",
    "- 아래 링크에 접속한다.\n",
    "  - [링크](https://projector.tensorflow.org/)"
   ]
  },
  {
   "cell_type": "markdown",
   "metadata": {
    "colab_type": "text",
    "id": "qykOOvpedu4C"
   },
   "source": [
    "- 사이트에 접속해서 좌측 상단을 보면 Load라는 버튼이 있다.\n",
    "\n",
    "$\\qquad$ ![](https://wikidocs.net/images/page/50704/embedding_projector.PNG)"
   ]
  },
  {
   "cell_type": "markdown",
   "metadata": {
    "colab_type": "text",
    "id": "bhfjAdPfeAw5"
   },
   "source": [
    "\n",
    "- Load라는 버튼을 누르면 아래와 같은 창이 뜨는 데 총 두 개의 Choose file 버튼이 있다.\n",
    "\n",
    "$\\qquad$ ![](https://wikidocs.net/images/page/50704/embedding_projector2.PNG)"
   ]
  },
  {
   "cell_type": "markdown",
   "metadata": {
    "colab_type": "text",
    "id": "ma1PTPgQeBqB"
   },
   "source": [
    "- 위에 있는 Choose file 버튼을 누르고 `eng_w2v_tensor.tsv` 파일을 업로드 하고, 아래에 있는 Choose file 버튼을 누르고 `eng_w2v_metadata.tsv` 파일을 업로드한다.\n",
    "- 두 파일을 업로드하면 임베딩 프로젝터에 학습했던 워드 임베딩 모델이 시각화된다.\n",
    "\n",
    "$\\qquad$ ![](https://wikidocs.net/images/page/50704/man.PNG)"
   ]
  },
  {
   "cell_type": "markdown",
   "metadata": {
    "colab_type": "text",
    "id": "h2RBqAPQeR5v"
   },
   "source": [
    "- 그 후에는 임베딩 프로젝터의 다양한 기능을 사용할 수 있다.\n",
    "  - 예를 들어 임베딩 프로젝터는 복잡한 데이터를 차원을 축소하여 시각화 할 수 있도록 도와주는 PCA, t-SNE 등을 제공한다.\n",
    "  - 여기서는 자세한 기능에 대한 설명은 생략한다.  \n",
    "\n",
    "\n",
    "- 위의 그림은 'man' 이라는 단어를 선택하고, 코사인 유사도를 기준으로 가장 유사한 상위 10개 벡터들을 표시해봤다."
   ]
  }
 ],
 "metadata": {
  "colab": {
   "collapsed_sections": [],
   "name": "Ch10_v07_Embedding-Visualization.ipynb",
   "provenance": []
  },
  "kernelspec": {
   "display_name": "Python 3",
   "language": "python",
   "name": "python3"
  },
  "language_info": {
   "codemirror_mode": {
    "name": "ipython",
    "version": 3
   },
   "file_extension": ".py",
   "mimetype": "text/x-python",
   "name": "python",
   "nbconvert_exporter": "python",
   "pygments_lexer": "ipython3",
   "version": "3.6.9"
  }
 },
 "nbformat": 4,
 "nbformat_minor": 4
}
