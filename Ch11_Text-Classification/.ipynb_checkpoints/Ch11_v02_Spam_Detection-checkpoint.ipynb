{
 "cells": [
  {
   "cell_type": "markdown",
   "metadata": {
    "colab_type": "text",
    "id": "EcvZuONptahh"
   },
   "source": [
    "# Ch11. 텍스트 분류 (Text Classification)"
   ]
  },
  {
   "cell_type": "markdown",
   "metadata": {
    "colab_type": "text",
    "id": "gDH8PQ-9vDa5"
   },
   "source": [
    "# v02. 스팸 메일 분류하기 (Spam Detection)\n",
    "\n",
    "- 이번 챕터에서는 캐글에서 제공하는 정상 메일과 스팸 메일이 섞여져 있는 스팸 메일 데이터를 가지고 데이터에 대한 전처리를 진행하고 바닐라 RNN(Vanilla RNN)을 이용한 스팸 메일 분류기를 구현한다."
   ]
  },
  {
   "cell_type": "markdown",
   "metadata": {
    "colab_type": "text",
    "id": "-mkHK2s7vP7Z"
   },
   "source": [
    "<br>\n",
    "\n",
    "## 2.1 스팸 메일 데이터에 대한 이해\n",
    "\n",
    "- [다운로드 링크](https://www.kaggle.com/uciml/sms-spam-collection-dataset)"
   ]
  },
  {
   "cell_type": "code",
   "execution_count": null,
   "metadata": {
    "colab": {},
    "colab_type": "code",
    "id": "bxx84AravWOp"
   },
   "outputs": [],
   "source": [
    "import numpy as np\n",
    "import pandas as pd\n",
    "%matplotlib inline\n",
    "import matplotlib.pyplot as plt\n",
    "from tensorflow.keras.preprocessing.text import Tokenizer\n",
    "from tensorflow.keras.preprocessing.sequence import pad_sequences"
   ]
  },
  {
   "cell_type": "code",
   "execution_count": null,
   "metadata": {
    "colab": {},
    "colab_type": "code",
    "id": "e8UHY07uv9Fc"
   },
   "outputs": [],
   "source": [
    "data = pd.read_csv(\"spam.csv\", encoding=\"latin1\")"
   ]
  },
  {
   "cell_type": "code",
   "execution_count": 5,
   "metadata": {
    "colab": {
     "base_uri": "https://localhost:8080/",
     "height": 35
    },
    "colab_type": "code",
    "id": "pEdDM8QtwAS4",
    "outputId": "4ee66801-1307-4bd8-f638-ac649844331e"
   },
   "outputs": [
    {
     "name": "stdout",
     "output_type": "stream",
     "text": [
      "총 샘플의 수 :  5572\n"
     ]
    }
   ],
   "source": [
    "# 총 샘플의 수 확인\n",
    "print('총 샘플의 수 : ', len(data))"
   ]
  },
  {
   "cell_type": "code",
   "execution_count": 6,
   "metadata": {
    "colab": {
     "base_uri": "https://localhost:8080/",
     "height": 203
    },
    "colab_type": "code",
    "id": "QH3nrwF_wE7I",
    "outputId": "b448f5aa-edfc-49d1-bf30-1b6fbabdc510"
   },
   "outputs": [
    {
     "data": {
      "text/html": [
       "<div>\n",
       "<style scoped>\n",
       "    .dataframe tbody tr th:only-of-type {\n",
       "        vertical-align: middle;\n",
       "    }\n",
       "\n",
       "    .dataframe tbody tr th {\n",
       "        vertical-align: top;\n",
       "    }\n",
       "\n",
       "    .dataframe thead th {\n",
       "        text-align: right;\n",
       "    }\n",
       "</style>\n",
       "<table border=\"1\" class=\"dataframe\">\n",
       "  <thead>\n",
       "    <tr style=\"text-align: right;\">\n",
       "      <th></th>\n",
       "      <th>v1</th>\n",
       "      <th>v2</th>\n",
       "      <th>Unnamed: 2</th>\n",
       "      <th>Unnamed: 3</th>\n",
       "      <th>Unnamed: 4</th>\n",
       "    </tr>\n",
       "  </thead>\n",
       "  <tbody>\n",
       "    <tr>\n",
       "      <th>0</th>\n",
       "      <td>ham</td>\n",
       "      <td>Go until jurong point, crazy.. Available only ...</td>\n",
       "      <td>NaN</td>\n",
       "      <td>NaN</td>\n",
       "      <td>NaN</td>\n",
       "    </tr>\n",
       "    <tr>\n",
       "      <th>1</th>\n",
       "      <td>ham</td>\n",
       "      <td>Ok lar... Joking wif u oni...</td>\n",
       "      <td>NaN</td>\n",
       "      <td>NaN</td>\n",
       "      <td>NaN</td>\n",
       "    </tr>\n",
       "    <tr>\n",
       "      <th>2</th>\n",
       "      <td>spam</td>\n",
       "      <td>Free entry in 2 a wkly comp to win FA Cup fina...</td>\n",
       "      <td>NaN</td>\n",
       "      <td>NaN</td>\n",
       "      <td>NaN</td>\n",
       "    </tr>\n",
       "    <tr>\n",
       "      <th>3</th>\n",
       "      <td>ham</td>\n",
       "      <td>U dun say so early hor... U c already then say...</td>\n",
       "      <td>NaN</td>\n",
       "      <td>NaN</td>\n",
       "      <td>NaN</td>\n",
       "    </tr>\n",
       "    <tr>\n",
       "      <th>4</th>\n",
       "      <td>ham</td>\n",
       "      <td>Nah I don't think he goes to usf, he lives aro...</td>\n",
       "      <td>NaN</td>\n",
       "      <td>NaN</td>\n",
       "      <td>NaN</td>\n",
       "    </tr>\n",
       "  </tbody>\n",
       "</table>\n",
       "</div>"
      ],
      "text/plain": [
       "     v1  ... Unnamed: 4\n",
       "0   ham  ...        NaN\n",
       "1   ham  ...        NaN\n",
       "2  spam  ...        NaN\n",
       "3   ham  ...        NaN\n",
       "4   ham  ...        NaN\n",
       "\n",
       "[5 rows x 5 columns]"
      ]
     },
     "execution_count": 6,
     "metadata": {
      "tags": []
     },
     "output_type": "execute_result"
    }
   ],
   "source": [
    "# 상위 5개 샘플 출력\n",
    "data[:5]"
   ]
  },
  {
   "cell_type": "markdown",
   "metadata": {
    "colab_type": "text",
    "id": "KBjpmmN4wLa4"
   },
   "source": [
    "<br>\n",
    "\n",
    "### 2.1.1 데이터셋 구성 확인\n",
    "\n",
    "- 이 데이터에는 총 5개의 열이 있다.\n",
    "- 여기서 `Unnamed`라는 이름의 3개의 열은 텍스트 분류를 할 때 불필요한 열이다.\n",
    "- `v1`열은 해당 메일이 스팸인지 아닌지를 나타내는 레이블에 해당되는 열이다.\n",
    "  - `ham`은 정상 메일을 의미\n",
    "  - `spam`은 스팸 메일을 의미  \n",
    "\n",
    "\n",
    "- `v2`열은 메일의 본문을 담고있다."
   ]
  },
  {
   "cell_type": "markdown",
   "metadata": {
    "colab_type": "text",
    "id": "ChXQkHtKwaGG"
   },
   "source": [
    "<br>\n",
    "\n",
    "### 2.1.2 불필요한 열 제거 및 레이블 정수 인코딩\n",
    "\n",
    "- 레이블과 메일 내용이 담긴 `v1`열과 `v2`열만 필요하므로, `Unnamed: 2`, `Unnamed: 3`, `Unnamed: 4` 열은 삭제한다.\n",
    "- 또한, `v1`열에 있는 `ham`과 `spam` 레이블을 각각 숫자 `0`과 `1`로 바꾼다."
   ]
  },
  {
   "cell_type": "code",
   "execution_count": null,
   "metadata": {
    "colab": {},
    "colab_type": "code",
    "id": "MLw4uXK0w5mS"
   },
   "outputs": [],
   "source": [
    "del data['Unnamed: 2']\n",
    "del data['Unnamed: 3']\n",
    "del data['Unnamed: 4']\n",
    "\n",
    "data['v1'] = data['v1'].replace(['ham','spam'], [0, 1])"
   ]
  },
  {
   "cell_type": "code",
   "execution_count": 8,
   "metadata": {
    "colab": {
     "base_uri": "https://localhost:8080/",
     "height": 203
    },
    "colab_type": "code",
    "id": "96pf_uqUxC4V",
    "outputId": "fad263e3-de16-428d-b428-a6dac7fd4613"
   },
   "outputs": [
    {
     "data": {
      "text/html": [
       "<div>\n",
       "<style scoped>\n",
       "    .dataframe tbody tr th:only-of-type {\n",
       "        vertical-align: middle;\n",
       "    }\n",
       "\n",
       "    .dataframe tbody tr th {\n",
       "        vertical-align: top;\n",
       "    }\n",
       "\n",
       "    .dataframe thead th {\n",
       "        text-align: right;\n",
       "    }\n",
       "</style>\n",
       "<table border=\"1\" class=\"dataframe\">\n",
       "  <thead>\n",
       "    <tr style=\"text-align: right;\">\n",
       "      <th></th>\n",
       "      <th>v1</th>\n",
       "      <th>v2</th>\n",
       "    </tr>\n",
       "  </thead>\n",
       "  <tbody>\n",
       "    <tr>\n",
       "      <th>0</th>\n",
       "      <td>0</td>\n",
       "      <td>Go until jurong point, crazy.. Available only ...</td>\n",
       "    </tr>\n",
       "    <tr>\n",
       "      <th>1</th>\n",
       "      <td>0</td>\n",
       "      <td>Ok lar... Joking wif u oni...</td>\n",
       "    </tr>\n",
       "    <tr>\n",
       "      <th>2</th>\n",
       "      <td>1</td>\n",
       "      <td>Free entry in 2 a wkly comp to win FA Cup fina...</td>\n",
       "    </tr>\n",
       "    <tr>\n",
       "      <th>3</th>\n",
       "      <td>0</td>\n",
       "      <td>U dun say so early hor... U c already then say...</td>\n",
       "    </tr>\n",
       "    <tr>\n",
       "      <th>4</th>\n",
       "      <td>0</td>\n",
       "      <td>Nah I don't think he goes to usf, he lives aro...</td>\n",
       "    </tr>\n",
       "  </tbody>\n",
       "</table>\n",
       "</div>"
      ],
      "text/plain": [
       "   v1                                                 v2\n",
       "0   0  Go until jurong point, crazy.. Available only ...\n",
       "1   0                      Ok lar... Joking wif u oni...\n",
       "2   1  Free entry in 2 a wkly comp to win FA Cup fina...\n",
       "3   0  U dun say so early hor... U c already then say...\n",
       "4   0  Nah I don't think he goes to usf, he lives aro..."
      ]
     },
     "execution_count": 8,
     "metadata": {
      "tags": []
     },
     "output_type": "execute_result"
    }
   ],
   "source": [
    "data[:5]"
   ]
  },
  {
   "cell_type": "markdown",
   "metadata": {
    "colab_type": "text",
    "id": "4mHp4FyMxDj2"
   },
   "source": [
    "- 불필요한 열이 제거되고, v1열의 값이 숫자로 변환된 것을 확인할 수 있다."
   ]
  },
  {
   "cell_type": "markdown",
   "metadata": {
    "colab_type": "text",
    "id": "253BlAqvxHMd"
   },
   "source": [
    "<br>\n",
    "\n",
    "### 2.1.3 데이터셋 열 타입 확인\n",
    "\n",
    "- 해당 `data`의 정보를 확인해보자."
   ]
  },
  {
   "cell_type": "code",
   "execution_count": 9,
   "metadata": {
    "colab": {
     "base_uri": "https://localhost:8080/",
     "height": 179
    },
    "colab_type": "code",
    "id": "6n3ITGc6xJY1",
    "outputId": "ec4dd6bf-9ca3-4716-99f6-9f784ecea00f"
   },
   "outputs": [
    {
     "name": "stdout",
     "output_type": "stream",
     "text": [
      "<class 'pandas.core.frame.DataFrame'>\n",
      "RangeIndex: 5572 entries, 0 to 5571\n",
      "Data columns (total 2 columns):\n",
      " #   Column  Non-Null Count  Dtype \n",
      "---  ------  --------------  ----- \n",
      " 0   v1      5572 non-null   int64 \n",
      " 1   v2      5572 non-null   object\n",
      "dtypes: int64(1), object(1)\n",
      "memory usage: 87.2+ KB\n"
     ]
    }
   ],
   "source": [
    "data.info()"
   ]
  },
  {
   "cell_type": "markdown",
   "metadata": {
    "colab_type": "text",
    "id": "-3uRsSbZxLKF"
   },
   "source": [
    "- `v1`열은 정수형, `v2`열은 문자열 데이터를 갖고있다."
   ]
  },
  {
   "cell_type": "markdown",
   "metadata": {
    "colab_type": "text",
    "id": "J_OnMUPWxROG"
   },
   "source": [
    "<br>\n",
    "\n",
    "### 2.1.4 결측값 확인\n",
    "\n",
    "- 혹시 Null 값을 가진 샘플이 있는 지 확인해보자."
   ]
  },
  {
   "cell_type": "code",
   "execution_count": 10,
   "metadata": {
    "colab": {
     "base_uri": "https://localhost:8080/",
     "height": 35
    },
    "colab_type": "code",
    "id": "gcNx9S46xUFF",
    "outputId": "14a18cb8-1250-439b-d7fb-6824cbed9460"
   },
   "outputs": [
    {
     "data": {
      "text/plain": [
       "False"
      ]
     },
     "execution_count": 10,
     "metadata": {
      "tags": []
     },
     "output_type": "execute_result"
    }
   ],
   "source": [
    "data.isnull().values.any()"
   ]
  },
  {
   "cell_type": "markdown",
   "metadata": {
    "colab_type": "text",
    "id": "-lScC9xHxWwl"
   },
   "source": [
    "- `False`는 별도의 Null 값은 없음을 의미한다.\n",
    "- 초기 데이터에 `Unnamed: 2`, `Unnamed: 3`, `Unnamed: 4`열에는 NaN이 있었는데 해당 상태에서 수행하는 `isnull().values.any()`는 `True`를 리턴한다."
   ]
  },
  {
   "cell_type": "markdown",
   "metadata": {
    "colab_type": "text",
    "id": "56HEbrN-xhs1"
   },
   "source": [
    "<br>\n",
    "\n",
    "### 2.1.5 중복 데이터 확인 및 제거\n",
    "\n",
    "- Null 값이 없다면 혹시 데이터에 중복이 있지는 않은 지 확인해보자."
   ]
  },
  {
   "cell_type": "code",
   "execution_count": 11,
   "metadata": {
    "colab": {
     "base_uri": "https://localhost:8080/",
     "height": 35
    },
    "colab_type": "code",
    "id": "Eqg7T5Wmxijt",
    "outputId": "bb2db438-3f35-41fb-ea5d-d3e97e047285"
   },
   "outputs": [
    {
     "data": {
      "text/plain": [
       "5169"
      ]
     },
     "execution_count": 11,
     "metadata": {
      "tags": []
     },
     "output_type": "execute_result"
    }
   ],
   "source": [
    "data['v2'].nunique()"
   ]
  },
  {
   "cell_type": "markdown",
   "metadata": {
    "colab_type": "text",
    "id": "44pKBOHqyQXa"
   },
   "source": [
    "- 총 5,572개의 샘플이 존재하는 데 `v2`열에서 중복을 제거한 샘플의 개수가 5,169개라는 것은 403개의 중복 샘플이 존재한다는 의미이다."
   ]
  },
  {
   "cell_type": "code",
   "execution_count": 12,
   "metadata": {
    "colab": {
     "base_uri": "https://localhost:8080/",
     "height": 35
    },
    "colab_type": "code",
    "id": "kUisl9nUyBV9",
    "outputId": "9652584f-7e57-4560-84ce-3aad1726cc00"
   },
   "outputs": [
    {
     "data": {
      "text/plain": [
       "2"
      ]
     },
     "execution_count": 12,
     "metadata": {
      "tags": []
     },
     "output_type": "execute_result"
    }
   ],
   "source": [
    "data['v1'].nunique()"
   ]
  },
  {
   "cell_type": "markdown",
   "metadata": {
    "colab_type": "text",
    "id": "oPMRr-S7yDbE"
   },
   "source": [
    "- `v1`열은 0 또는 1의 값만을 가지므로 2가 출력되었다."
   ]
  },
  {
   "cell_type": "markdown",
   "metadata": {
    "colab_type": "text",
    "id": "hWvSiGu4yW7L"
   },
   "source": [
    "<br>\n",
    "\n",
    "- 중복 샘플을 제거해보자."
   ]
  },
  {
   "cell_type": "code",
   "execution_count": null,
   "metadata": {
    "colab": {},
    "colab_type": "code",
    "id": "l84-08RayaQT"
   },
   "outputs": [],
   "source": [
    "# v2 열에서 중복인 내용이 있다면 중복 제거\n",
    "data.drop_duplicates(subset=['v2'], inplace=True)"
   ]
  },
  {
   "cell_type": "code",
   "execution_count": 14,
   "metadata": {
    "colab": {
     "base_uri": "https://localhost:8080/",
     "height": 35
    },
    "colab_type": "code",
    "id": "ELE-51G1yiS0",
    "outputId": "5fe9b5d5-8c54-4eca-e609-bda6fffd39bf"
   },
   "outputs": [
    {
     "name": "stdout",
     "output_type": "stream",
     "text": [
      "총 샘플의 수 :  5169\n"
     ]
    }
   ],
   "source": [
    "print('총 샘플의 수 : ', len(data))"
   ]
  },
  {
   "cell_type": "markdown",
   "metadata": {
    "colab_type": "text",
    "id": "13YqBWG4ykyj"
   },
   "source": [
    "- 총 샘플의 수가 5,572개에서 5,169개로 줄었다."
   ]
  },
  {
   "cell_type": "markdown",
   "metadata": {
    "colab_type": "text",
    "id": "QxHjnN1zypXb"
   },
   "source": [
    "<br>\n",
    "\n",
    "### 2.1.6 레이블 값의 분포 시각화\n",
    "\n",
    "- 이제 스팸 메일 유무를 의미하는 레이블 값의 분포를 시각화해보자."
   ]
  },
  {
   "cell_type": "code",
   "execution_count": 15,
   "metadata": {
    "colab": {
     "base_uri": "https://localhost:8080/",
     "height": 262
    },
    "colab_type": "code",
    "id": "gMQSfs3dyvDq",
    "outputId": "0a642670-82c2-4d8e-a171-d6fdfa46c0ed"
   },
   "outputs": [
    {
     "data": {
      "image/png": "[encoded data removed]",
      "text/plain": [
       "<Figure size 432x288 with 1 Axes>"
      ]
     },
     "metadata": {
      "tags": []
     },
     "output_type": "display_data"
    }
   ],
   "source": [
    "data['v1'].value_counts().plot(kind='bar')\n",
    "plt.show()"
   ]
  },
  {
   "cell_type": "markdown",
   "metadata": {
    "colab_type": "text",
    "id": "XTINHLXcyzab"
   },
   "source": [
    "- 레이블이 대부분 0에 편중되어 있다.\n",
    "- 이는 스팸 메일 데이터의 대부분의 메일이 정상 메일임을 의미한다."
   ]
  },
  {
   "cell_type": "markdown",
   "metadata": {
    "colab_type": "text",
    "id": "nTEA58eFy_aC"
   },
   "source": [
    "- 수치로 이를 확인해보자."
   ]
  },
  {
   "cell_type": "code",
   "execution_count": 16,
   "metadata": {
    "colab": {
     "base_uri": "https://localhost:8080/",
     "height": 71
    },
    "colab_type": "code",
    "id": "nlD5WwHazDLC",
    "outputId": "a097545e-f90f-47be-f80a-c8f7f8d27ab1"
   },
   "outputs": [
    {
     "name": "stdout",
     "output_type": "stream",
     "text": [
      "   v1  count\n",
      "0   0   4516\n",
      "1   1    653\n"
     ]
    }
   ],
   "source": [
    "print(data.groupby('v1').size().reset_index(name='count'))"
   ]
  },
  {
   "cell_type": "markdown",
   "metadata": {
    "colab_type": "text",
    "id": "3Qc5qurwzG9i"
   },
   "source": [
    "- 레이블 0은 총 4,516개가 존재하고 1은 653개가 존재한다."
   ]
  },
  {
   "cell_type": "markdown",
   "metadata": {
    "colab_type": "text",
    "id": "r0YMY9hfzO4C"
   },
   "source": [
    "<br>\n",
    "\n",
    "### 2.1.7 X와 y 분리\n",
    "\n",
    "- 이제 X와 y를 분리한다.\n",
    "- `v2`열을 X, `v1`열을 y로 저장한다."
   ]
  },
  {
   "cell_type": "code",
   "execution_count": 17,
   "metadata": {
    "colab": {
     "base_uri": "https://localhost:8080/",
     "height": 53
    },
    "colab_type": "code",
    "id": "t1coYVrczVMa",
    "outputId": "0761edd0-5f38-4cbe-b8a0-d456f3a67831"
   },
   "outputs": [
    {
     "name": "stdout",
     "output_type": "stream",
     "text": [
      "메일 본문의 개수 : 5169\n",
      "레이블의 개수 : 5169\n"
     ]
    }
   ],
   "source": [
    "X_data = data['v2']\n",
    "y_data = data['v1']\n",
    "\n",
    "print('메일 본문의 개수 : {}'.format(len(X_data)))\n",
    "print('레이블의 개수 : {}'.format(len(y_data)))"
   ]
  },
  {
   "cell_type": "markdown",
   "metadata": {
    "colab_type": "text",
    "id": "OX8mg6hczfwc"
   },
   "source": [
    "- 이제 메일의 본문은 `X_data`에 각 메일의 본문에 대한 `1`과 `0`의 값을 가진 레이블은 `y_data`에 저장하였다.\n",
    "- 개수는 둘 다 5,169개이다."
   ]
  },
  {
   "cell_type": "markdown",
   "metadata": {
    "colab_type": "text",
    "id": "o9XK-OSaznoB"
   },
   "source": [
    "<br>\n",
    "\n",
    "### 2.1.8 토큰화 및 정수 인코딩\n",
    "\n",
    "- 이제 케라스 토크나이저를 통해 토큰화와 정수 인코딩 과정을 수행해보자."
   ]
  },
  {
   "cell_type": "code",
   "execution_count": null,
   "metadata": {
    "colab": {},
    "colab_type": "code",
    "id": "M5KQr-DezznZ"
   },
   "outputs": [],
   "source": [
    "tokenizer = Tokenizer()\n",
    "tokenizer.fit_on_texts(X_data) # 5169개의 행을 가진 X의 각 행에 토큰화를 수행\n",
    "sequences = tokenizer.texts_to_sequences(X_data) # 단어를 숫자값, 인덱스로 변환하여 저장"
   ]
  },
  {
   "cell_type": "markdown",
   "metadata": {
    "colab_type": "text",
    "id": "Ilzg3icq0OXp"
   },
   "source": [
    "- `sequences`에는 `X_data`의 단어들이 각 단어에 맵핑되는 정수로 인코딩되어 저장되었다."
   ]
  },
  {
   "cell_type": "markdown",
   "metadata": {
    "colab_type": "text",
    "id": "fjUZt53SL-Ql"
   },
   "source": [
    "- 5,169개의 메일이 있으나, 5개의 메일만 출력해서 확인해보겠습니다."
   ]
  },
  {
   "cell_type": "code",
   "execution_count": 19,
   "metadata": {
    "colab": {
     "base_uri": "https://localhost:8080/",
     "height": 55
    },
    "colab_type": "code",
    "id": "LAIBx7ns0BAK",
    "outputId": "9972d631-0aa4-4398-b6c9-e1f9bbf20a03"
   },
   "outputs": [
    {
     "name": "stdout",
     "output_type": "stream",
     "text": [
      "[[47, 433, 4013, 780, 705, 662, 64, 8, 1202, 94, 121, 434, 1203, 142, 2712, 1204, 68, 57, 4014, 137], [49, 306, 1364, 435, 6, 1767], [53, 537, 8, 20, 4, 1016, 934, 2, 220, 2713, 1365, 706, 2714, 2715, 267, 2716, 70, 2713, 2, 2717, 2, 359, 537, 604, 1205, 82, 436, 185, 707, 437, 4015], [6, 226, 152, 23, 347, 2718, 6, 138, 145, 56, 152], [935, 1, 97, 96, 69, 453, 2, 877, 69, 1768, 198, 105, 438]]\n"
     ]
    }
   ],
   "source": [
    "print(sequences[:5])"
   ]
  },
  {
   "cell_type": "markdown",
   "metadata": {
    "colab_type": "text",
    "id": "Gn7kXfTv0DCA"
   },
   "source": [
    "- 각 메일에는 단어가 아니라 단어에 대한 인덱스가 부여된 것을 확인할 수 있다."
   ]
  },
  {
   "cell_type": "markdown",
   "metadata": {
    "colab_type": "text",
    "id": "Ruo9p-dyNByq"
   },
   "source": [
    "- 각 정수가 어떤 단어에 부여되었는 지 확인해보자."
   ]
  },
  {
   "cell_type": "code",
   "execution_count": null,
   "metadata": {
    "colab": {},
    "colab_type": "code",
    "id": "3d4vSbC_NEmj"
   },
   "outputs": [],
   "source": [
    "word_to_index = tokenizer.word_index\n",
    "print(word_to_index)"
   ]
  },
  {
   "cell_type": "markdown",
   "metadata": {
    "colab_type": "text",
    "id": "Y20C5_AhNMTD"
   },
   "source": [
    "```\n",
    "{'i': 1, 'to': 2, 'you': 3, 'a': 4, 'the': 5, 'u': 6, 'and': 7, 'in': 8, 'is': 9, 'me': 10, 'my': 11, 'for': 12, 'your': 13, 'it': 14, 'of': 15, 'call': 16, 'have': 17, 'on': 18, '2': 19, 'that': 20, 'now': 21, 'are': 22, 'so': 23, 'but': 24, 'not': 25, 'or': 26, 'do': 27, 'can': 28, 'at': 29, \"i'm\": 30, 'get': 31, 'be': 32, 'will': 33, 'if': 34, 'ur': 35, 'with': 36, 'just': 37, 'no': 38, 'we': 39, 'this': 40, 'gt': 41, '4': 42, 'lt': 43, 'up': 44, 'when': 45, 'ok': 46, 'free': 47, 'from': 48, 'how': 49, 'go': 50, 'all': 51, 'out': 52, - 이하 생략}\n",
    "```\n",
    "\n",
    "- `X_data`에 존재하는 모든 단어와 부여된 인덱스를 리턴한다.\n",
    "- 위에서 부여된 각 정수는 각 단어의 빈도수가 높을 수록 낮은 정수가 부여됐다.\n",
    "- 다시 말해, 단어 `i`는 현재 전체 훈련 데이터에서 빈도수가 가장 높은 단어이다."
   ]
  },
  {
   "cell_type": "markdown",
   "metadata": {
    "colab_type": "text",
    "id": "DZGCbsy_NSdC"
   },
   "source": [
    "<br>\n",
    "\n",
    "### 2.1.9 각 단어의 등장 빈도수 확인\n",
    "\n",
    "- 각 단어에 대한 등장 빈도수는 `tokenizer.word_counts().items()`를 출력해서 확인할 수 있다."
   ]
  },
  {
   "cell_type": "code",
   "execution_count": null,
   "metadata": {
    "colab": {},
    "colab_type": "code",
    "id": "NSEoDDAIfenR"
   },
   "outputs": [],
   "source": [
    "tokenizer.word_counts.items()"
   ]
  },
  {
   "cell_type": "markdown",
   "metadata": {
    "colab_type": "text",
    "id": "BBychp8Ifiyj"
   },
   "source": [
    "```\n",
    "odict_items([('go', 271), ('until', 27), ('jurong', 1), ('point', 13), ('crazy', 15), ('available', 16), ('only', 199), ('in', 826), ('bugis', 7), 이하 생략])\n",
    "```"
   ]
  },
  {
   "cell_type": "markdown",
   "metadata": {
    "colab_type": "text",
    "id": "IhgR4N8-ft0E"
   },
   "source": [
    "- 이를 응용하여 빈도수가 낮은 단어들이 훈련 데이터에서 얼만큼의 비중을 차지하는 지 확인해볼 수 있다.\n",
    "- 등장 빈도수가 1회 밖에 되지 않는 단어들이 전체 단어 집합에서 얼만큼의 비율을 차지하며, 전체 훈련 데이터에서 등장 빈도로 얼만큼의 비율을 차지하는 지 확인해보자."
   ]
  },
  {
   "cell_type": "code",
   "execution_count": 22,
   "metadata": {
    "colab": {
     "base_uri": "https://localhost:8080/",
     "height": 71
    },
    "colab_type": "code",
    "id": "RC33r5-PglfW",
    "outputId": "7cbba5d5-4cc6-4175-b2ae-d9692cefe62f"
   },
   "outputs": [
    {
     "name": "stdout",
     "output_type": "stream",
     "text": [
      "등장 빈도가 1번 이하인 희귀 단어의 수 : 4908\n",
      "단어 집합(vocabulary)에서 희귀 단어의 비율 :  55.02242152466368\n",
      "전체 등장 빈도에서 희귀 단어 등장 빈도 비율 :  6.082538108811501\n"
     ]
    }
   ],
   "source": [
    "threshold = 2\n",
    "total_cnt = len(word_to_index) # 단어의 수\n",
    "rare_cnt = 0 # 등장 빈도수가 threshold보다 작은 단어의 개수를 카운트\n",
    "total_freq = 0 # 훈련 데이터의 전체 단어 빈도수 총합\n",
    "rare_freq = 0 # 등장 빈돗수가 threshold보다 작은 단어의 등장 빈도수의 총합\n",
    "\n",
    "# 단어와 빈도수의 쌍(pair)을 key와 value로 받는다.\n",
    "for key, value in tokenizer.word_counts.items():\n",
    "    total_freq = total_freq + value\n",
    "    \n",
    "    if (value < threshold): # 단어의 등장 빈도수가 threshold보다 작으면\n",
    "        rare_cnt = rare_cnt + 1\n",
    "        rare_freq = rare_freq + value\n",
    "\n",
    "print('등장 빈도가 %s번 이하인 희귀 단어의 수 : %s' %(threshold - 1, rare_cnt))\n",
    "print('단어 집합(vocabulary)에서 희귀 단어의 비율 : ', (rare_cnt / total_cnt) * 100)\n",
    "print('전체 등장 빈도에서 희귀 단어 등장 빈도 비율 : ', (rare_freq / total_freq) * 100)"
   ]
  },
  {
   "cell_type": "markdown",
   "metadata": {
    "colab_type": "text",
    "id": "0OEVwPWLh1Kl"
   },
   "source": [
    "- 등장 빈도가 `threshold` 값인 2회 미만. 즉, 1회 밖에 되지 않는 단어들은 단어 집합에서 무려 절반 이상을 차지한다.\n",
    "- 하지만, 실제로 훈련 데이터에서 등장 빈도로 차지하는 비중은 상대적으로 적은 수치인 6%밖에 되지 않는다.\n",
    "- 만약, 이러한 분석을 통해 등장 빈도가 지나치게 낮은 단어들은 자연어 처리에서 제외하고 싶다면 케라스 토크나이저 선언 시에 단어 집합의 크기를 제한할 수 있다. (정수 인코딩 챕터 참고)\n",
    "- 가령, 아래의 코드로 등장 빈도가 1회인 단어들을 제외할 수 있을 것이다.\n",
    "\n",
    "```python\n",
    "tokenizer = Tokenizer(num_words = total_cnt - rare_cnt + 1)\n",
    "```\n",
    "\n",
    "- 하지만 이번 실습에서는 별도로 단어 집합의 크기를 제한하지는 않는다."
   ]
  },
  {
   "cell_type": "markdown",
   "metadata": {
    "colab_type": "text",
    "id": "T9FcOhOysVGZ"
   },
   "source": [
    "<br>\n",
    "\n",
    "### 2.1.10 단어 집합의 크기\n",
    "\n",
    "- 이제 단어 집합의 크기를 `vocab_size`에 저장한다.\n",
    "- 주의할 점은 패딩을 위한 토큰인 0번 단어를 고려하여 +1을 해서 저장해주어야 한다는 점이다."
   ]
  },
  {
   "cell_type": "code",
   "execution_count": 23,
   "metadata": {
    "colab": {
     "base_uri": "https://localhost:8080/",
     "height": 35
    },
    "colab_type": "code",
    "id": "fq2za3mxsidQ",
    "outputId": "000c4ab4-48db-45e0-a0df-24cba6241e1c"
   },
   "outputs": [
    {
     "name": "stdout",
     "output_type": "stream",
     "text": [
      "단어 집합의 크기 : 8921\n"
     ]
    }
   ],
   "source": [
    "vocab_size = len(word_to_index) + 1\n",
    "print('단어 집합의 크기 : {}'.format((vocab_size)))"
   ]
  },
  {
   "cell_type": "markdown",
   "metadata": {
    "colab_type": "text",
    "id": "Tr9ozoAKs8MS"
   },
   "source": [
    "- 단어 집합의 크기는 8,921이다."
   ]
  },
  {
   "cell_type": "markdown",
   "metadata": {
    "colab_type": "text",
    "id": "R7n2hg6cs_DI"
   },
   "source": [
    "<br>\n",
    "\n",
    "### 2.1.11 훈련 데이터와 테스트 데이터 분리 비율 확인\n",
    "\n",
    "- 이제 훈련 데이터와 테스트 데이터의 분리 비율을 정해보자.\n",
    "- 여기서는 8:2로 한다."
   ]
  },
  {
   "cell_type": "code",
   "execution_count": 24,
   "metadata": {
    "colab": {
     "base_uri": "https://localhost:8080/",
     "height": 53
    },
    "colab_type": "code",
    "id": "CErQLDCVtGTy",
    "outputId": "a30c6290-212b-478d-e996-553a4ee150b9"
   },
   "outputs": [
    {
     "name": "stdout",
     "output_type": "stream",
     "text": [
      "훈련 데이터의 개수 :  4135\n",
      "테스트 데이터의 개수 :  1034\n"
     ]
    }
   ],
   "source": [
    "n_of_train = int(len(sequences) * 0.8)\n",
    "n_of_test = int(len(sequences) - n_of_train)\n",
    "print('훈련 데이터의 개수 : ', n_of_train)\n",
    "print('테스트 데이터의 개수 : ', n_of_test)"
   ]
  },
  {
   "cell_type": "markdown",
   "metadata": {
    "colab_type": "text",
    "id": "_n3ENMjmtbor"
   },
   "source": [
    "- 앞서 확인하였는 데 전체 메일의 개수는 5,169개이다.\n",
    "- 이제 전체 메일 데이터에서 일부는 테스트 데이터로 분리해야 한다.\n",
    "- 전체 데이터의 80%를 훈련용 데이터로, 20%를 테스트 데이터로 사용하고자 한다.\n",
    "- 숫자를 계산해봤을 때 훈련 데이터는 4,135개, 테스트 데이터는 1,034개를 쓰도록 한다.\n",
    "- 아직은 단순히 숫자를 계산만해본 것이고, 실제로 데이터를 나누지는 않는다."
   ]
  },
  {
   "cell_type": "markdown",
   "metadata": {
    "colab_type": "text",
    "id": "t9YXftZNtzuB"
   },
   "source": [
    "<br>\n",
    "\n",
    "### 2.1.12 메일 데이터 길이 분포 확인\n",
    "\n",
    "- 직관적으로 변수를 기억하기 위해 `X_data`에 대해서 정수 인코딩된 결과인 `sequences`를 `X_data`로 변경하고, 전체 데이터에서 가장 길이가 긴 메일과 전체 메일 데이터의 길이 분포를 알아보도록 하자."
   ]
  },
  {
   "cell_type": "code",
   "execution_count": 25,
   "metadata": {
    "colab": {
     "base_uri": "https://localhost:8080/",
     "height": 53
    },
    "colab_type": "code",
    "id": "OQToP3AFxlaQ",
    "outputId": "25ad06bf-04c3-4bca-86e5-2e3209f9c472"
   },
   "outputs": [
    {
     "name": "stdout",
     "output_type": "stream",
     "text": [
      "메일의 최대 길이 : 189\n",
      "메일의 평균 길이 : 15\n"
     ]
    }
   ],
   "source": [
    "X_data = sequences\n",
    "\n",
    "print('메일의 최대 길이 : %d' % max(len(l) for l in X_data))\n",
    "print('메일의 평균 길이 : %d' % (sum(map(len, X_data)) / len(X_data)))"
   ]
  },
  {
   "cell_type": "code",
   "execution_count": 26,
   "metadata": {
    "colab": {
     "base_uri": "https://localhost:8080/",
     "height": 279
    },
    "colab_type": "code",
    "id": "Aa0PWSYQx6yE",
    "outputId": "e5480c57-8fbd-4fc7-ff4d-161b6938e1ad"
   },
   "outputs": [
    {
     "data": {
      "image/png": "[encoded data removed]",
      "text/plain": [
       "<Figure size 432x288 with 1 Axes>"
      ]
     },
     "metadata": {
      "tags": []
     },
     "output_type": "display_data"
    }
   ],
   "source": [
    "plt.hist([len(s) for s in X_data], bins=50)\n",
    "plt.xlabel('length of samples')\n",
    "plt.ylabel('number of samples')\n",
    "plt.show()"
   ]
  },
  {
   "cell_type": "markdown",
   "metadata": {
    "colab_type": "text",
    "id": "jOI7AJyeyJtU"
   },
   "source": [
    "- 가장 긴 메일의 길이는 189이며, 전체 데이터의 길이 분포는 대체적으로 약 50이하의 길이를 가지는 것을 볼 수 있다."
   ]
  },
  {
   "cell_type": "markdown",
   "metadata": {
    "colab_type": "text",
    "id": "ZmoloeLRyRJZ"
   },
   "source": [
    "<br>\n",
    "\n",
    "### 2.1.13 데이터 패딩"
   ]
  },
  {
   "cell_type": "code",
   "execution_count": 27,
   "metadata": {
    "colab": {
     "base_uri": "https://localhost:8080/",
     "height": 35
    },
    "colab_type": "code",
    "id": "7uDcQaN-yXb0",
    "outputId": "67ba4838-0b7b-450c-f351-4eed614a3d5f"
   },
   "outputs": [
    {
     "name": "stdout",
     "output_type": "stream",
     "text": [
      "훈련 데이터의 크기 (shape) :  (5169, 189)\n"
     ]
    }
   ],
   "source": [
    "max_len = 189\n",
    "\n",
    "# 전체 데이터셋의 길이는 max_len으로 맞춘다.\n",
    "data = pad_sequences(X_data, maxlen=max_len)\n",
    "print('훈련 데이터의 크기 (shape) : ', data.shape)"
   ]
  },
  {
   "cell_type": "markdown",
   "metadata": {
    "colab_type": "text",
    "id": "Funi4-KgzEFl"
   },
   "source": [
    "- `pad_sequences()`의 `maxlen`에는 가장 긴 메일의 길이였던 189이라는 숫자를 넣었다.\n",
    "- 이는 5,169개의 `X_data`의 길이를 전부189로 바꾼다.\n",
    "- 189보다 길이가 짧은 메일 샘플은 전부 숫자 0이 패딩되어 189의 길이를 가지게 된다."
   ]
  },
  {
   "cell_type": "markdown",
   "metadata": {
    "colab_type": "text",
    "id": "EoOSLBeHzWOS"
   },
   "source": [
    "- 이제 `X_data` 데이터는 5,169 x 189 의 크기를 갖게 된다.\n",
    "- 헷갈리지 말아야 할 것은 아직 `X_train`과 `X_test`를 분리하지 않았다는 것이다."
   ]
  },
  {
   "cell_type": "markdown",
   "metadata": {
    "colab_type": "text",
    "id": "poa6aFgHzlaL"
   },
   "source": [
    "<br>\n",
    "\n",
    "### 2.1.14 훈련 데이터와 테스트 데이터 분리\n",
    "\n",
    "- 2 챕터의 데이터의 분리 챕터에서 배웠던 방법 중 하나로 훈련 데이터와 테스트 데이터를 분리해보자."
   ]
  },
  {
   "cell_type": "code",
   "execution_count": null,
   "metadata": {
    "colab": {},
    "colab_type": "code",
    "id": "yE4KBF7gzs0Q"
   },
   "outputs": [],
   "source": [
    "X_test = data[n_of_train:] #X_data 데이터 중에서 뒤의 1034개의 데이터만 저장\n",
    "y_test = np.array(y_data[n_of_train:]) #y_data 데이터 중에서 뒤의 1034개의 데이터만 저장\n",
    "X_train = data[:n_of_train] #X_data 데이터 중에서 앞의 4135개의 데이터만 저장\n",
    "y_train = np.array(y_data[:n_of_train]) #y_data 데이터 중에서 앞의 4135개의 데이터만 저장"
   ]
  },
  {
   "cell_type": "markdown",
   "metadata": {
    "colab_type": "text",
    "id": "XgvfvZRQz0da"
   },
   "source": [
    "<br>\n",
    "\n",
    "## 2.2 RNN으로 스팸 메일 분류하기\n",
    "\n",
    "- 이제 바닐라 RNN을 이용하여 스팸 메일 분류기를 만들어보도록 하자."
   ]
  },
  {
   "cell_type": "code",
   "execution_count": null,
   "metadata": {
    "colab": {},
    "colab_type": "code",
    "id": "6chP2js5z9-h"
   },
   "outputs": [],
   "source": [
    "from tensorflow.keras.models import Sequential\n",
    "from tensorflow.keras.layers import SimpleRNN, Embedding, Dense"
   ]
  },
  {
   "cell_type": "markdown",
   "metadata": {
    "colab_type": "text",
    "id": "fpQXvwDL0lOh"
   },
   "source": [
    "<br>\n",
    "\n",
    "### 2.2.1 모델 훈련\n",
    "\n",
    "- `Embedding()`은 두 개의 인자를 받는다.\n",
    "  - 단어 집합의 크기, 임베딩 벡터의 차원이다."
   ]
  },
  {
   "cell_type": "markdown",
   "metadata": {
    "colab_type": "text",
    "id": "4CQvptZR0tB4"
   },
   "source": [
    "- 이진 분류 문제이므로 마지막 출력층에는 1개의 뉴런과 활성화 함수로 시그모이드 함수를 사용한다.\n",
    "- 손실 함수로는 `binary_crossentropy`를 사용한다."
   ]
  },
  {
   "cell_type": "markdown",
   "metadata": {
    "colab_type": "text",
    "id": "JpZ6vOQ80034"
   },
   "source": [
    "- `validation_split=0.2`을 주어서 훈련 데이터의 20%를 검증 데이터로 나누고, 검증 데이터를 보면서 훈련이 제대로 되고 있는 지 확인해본다.\n",
    "- 검증 데이터는 기계가 훈련 데이터에 과적합 되고 있지는 않은 지 확인하기 위한 용도로 사용된다.\n",
    "- 총 4번 학습한다. (`epochs=4`)"
   ]
  },
  {
   "cell_type": "code",
   "execution_count": 30,
   "metadata": {
    "colab": {
     "base_uri": "https://localhost:8080/",
     "height": 161
    },
    "colab_type": "code",
    "id": "wRi58E9J0HiB",
    "outputId": "cf4469d0-accc-42bb-a935-ce3a7efdb366"
   },
   "outputs": [
    {
     "name": "stdout",
     "output_type": "stream",
     "text": [
      "Epoch 1/4\n",
      "52/52 [==============================] - 2s 46ms/step - loss: 0.3894 - acc: 0.8685 - val_loss: 0.3324 - val_acc: 0.8730\n",
      "Epoch 2/4\n",
      "52/52 [==============================] - 2s 42ms/step - loss: 0.1523 - acc: 0.9559 - val_loss: 0.1057 - val_acc: 0.9722\n",
      "Epoch 3/4\n",
      "52/52 [==============================] - 2s 42ms/step - loss: 0.0608 - acc: 0.9840 - val_loss: 0.0840 - val_acc: 0.9698\n",
      "Epoch 4/4\n",
      "52/52 [==============================] - 2s 42ms/step - loss: 0.0331 - acc: 0.9918 - val_loss: 0.0554 - val_acc: 0.9831\n"
     ]
    }
   ],
   "source": [
    "model = Sequential()\n",
    "model.add(Embedding(vocab_size, 32)) # 임베딩 벡터의 차원은 32\n",
    "model.add(SimpleRNN(32)) # RNN 셀의 hidden_size는 32\n",
    "model.add(Dense(1, activation='sigmoid'))\n",
    "\n",
    "model.compile(optimizer='rmsprop', loss='binary_crossentropy', metrics=['acc'])\n",
    "history = model.fit(X_train, y_train, epochs=4, batch_size=64, validation_split=0.2)"
   ]
  },
  {
   "cell_type": "markdown",
   "metadata": {
    "colab_type": "text",
    "id": "6V0rzUqo0jgd"
   },
   "source": [
    "<br>\n",
    "\n",
    "### 2.2.2 모델 평가\n",
    "\n",
    "- 이제 테스트 데이터에 대해서 정확도를 확인해보자."
   ]
  },
  {
   "cell_type": "code",
   "execution_count": 31,
   "metadata": {
    "colab": {
     "base_uri": "https://localhost:8080/",
     "height": 71
    },
    "colab_type": "code",
    "id": "cevVOzfS1M2p",
    "outputId": "39c971a1-45c8-460b-9cc4-2a2e4609d571"
   },
   "outputs": [
    {
     "name": "stdout",
     "output_type": "stream",
     "text": [
      "33/33 [==============================] - 0s 9ms/step - loss: 0.0506 - acc: 0.9845\n",
      "\n",
      " 테스트 정확도 : 0.9845\n"
     ]
    }
   ],
   "source": [
    "print('\\n 테스트 정확도 : %.4f' % (model.evaluate(X_test, y_test)[1]))"
   ]
  },
  {
   "cell_type": "markdown",
   "metadata": {
    "colab_type": "text",
    "id": "mm5N9iq01S4C"
   },
   "source": [
    "<br>\n",
    "\n",
    "### 2.2.3 훈련 데이터와 검증 데이터의 손실(loss) 시각화\n",
    "\n",
    "- 이번 실습에서는 훈련 데이터와 검증 데이터에 대해서 같이 정확도를 확인하면서  훈련하였으므로, 이를 비교하여 그래프로 시각화해보자."
   ]
  },
  {
   "cell_type": "code",
   "execution_count": 32,
   "metadata": {
    "colab": {
     "base_uri": "https://localhost:8080/",
     "height": 295
    },
    "colab_type": "code",
    "id": "dKQBt27R1iM0",
    "outputId": "8d1ec65e-e230-406e-8a7f-6600f09a616c"
   },
   "outputs": [
    {
     "data": {
      "image/png": "[encoded data removed]",
      "text/plain": [
       "<Figure size 432x288 with 1 Axes>"
      ]
     },
     "metadata": {
      "tags": []
     },
     "output_type": "display_data"
    }
   ],
   "source": [
    "epochs = range(1, len(history.history['acc']) + 1)\n",
    "\n",
    "plt.plot(epochs, history.history['loss'])\n",
    "plt.plot(epochs, history.history['val_loss'])\n",
    "plt.title('model loss')\n",
    "plt.ylabel('loss')\n",
    "plt.xlabel('epoch')\n",
    "plt.legend(['train', 'val'], loc='upper left')\n",
    "plt.show()"
   ]
  },
  {
   "cell_type": "markdown",
   "metadata": {
    "colab_type": "text",
    "id": "SzOLVRsh2YTV"
   },
   "source": [
    "- 이번 실습 데이터는 데이터의 양이 적어 과적합이 빠르게 시작된다.\n",
    "- 그러므로 검증 데이터에 대한 오차가 증가하기 시작하는 시점의 바로 직전인 에포트 3 ~ 4 정도가 적당하다.\n",
    "- 이 데이터는 에포크 5를 넘어가기 시작하면 검증 데이터의 오차가 증가하는 경향이 있다."
   ]
  }
 ],
 "metadata": {
  "colab": {
   "collapsed_sections": [],
   "name": "Ch11_v02_Spam-Detection.ipynb",
   "provenance": [],
   "toc_visible": true
  },
  "kernelspec": {
   "display_name": "Python 3",
   "language": "python",
   "name": "python3"
  },
  "language_info": {
   "codemirror_mode": {
    "name": "ipython",
    "version": 3
   },
   "file_extension": ".py",
   "mimetype": "text/x-python",
   "name": "python",
   "nbconvert_exporter": "python",
   "pygments_lexer": "ipython3",
   "version": "3.6.9"
  }
 },
 "nbformat": 4,
 "nbformat_minor": 4
}
