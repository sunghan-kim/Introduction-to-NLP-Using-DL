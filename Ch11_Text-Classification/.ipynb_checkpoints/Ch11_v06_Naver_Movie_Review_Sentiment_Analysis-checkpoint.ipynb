{
 "cells": [
  {
   "cell_type": "markdown",
   "metadata": {
    "colab_type": "text",
    "id": "8Sh2MNQnZ9Ts"
   },
   "source": [
    "# Ch11. 텍스트 분류 (Text Classification)"
   ]
  },
  {
   "cell_type": "markdown",
   "metadata": {
    "colab_type": "text",
    "id": "1xdoGimhaFJv"
   },
   "source": [
    "# v06. 네이버 영화 리뷰 감성 분류하기 (Naver Movie Review Sentiment Analysis)"
   ]
  },
  {
   "cell_type": "markdown",
   "metadata": {
    "colab_type": "text",
    "id": "XVwDeS2GaKvW"
   },
   "source": [
    "- 이번 챕터에서는 영어 데이터가 아닌 한국어/한글 데이터에 대해서 텍스트 분류를 수행해보자.\n",
    "- 방법 자체는 영어 데이터에 대한 텍스트 분류와 크게 달라지지는 않았다.\n",
    "- 다만 다른 점이 있다면 한국어 데이터는 토큰화(tokenization)를 할 때 형태소 분석기를 사용한다는 점이 다르다.\n",
    "- 그 이유에 대해서는 2챕터의 토큰화 챕터를 참고하면 된다."
   ]
  },
  {
   "cell_type": "markdown",
   "metadata": {
    "colab_type": "text",
    "id": "3_GUlb8ibxtr"
   },
   "source": [
    "- 이번에 사용할 데이터는 네이버 영화 리뷰 데이터이다.\n",
    "- 총 200,000개 리뷰로 구성된 데이터로 (앞서 실습한 IMDB 리뷰 데이터와 마찬가지로) 영화 리뷰에 대한 텍스트와 해당 리뷰가 긍정인 경우 1을 부정인 경우 0으로 표시한 레이블로 구성되어져 있다."
   ]
  },
  {
   "cell_type": "markdown",
   "metadata": {
    "colab_type": "text",
    "id": "btLXwqaJb9hS"
   },
   "source": [
    "- 깃허브로부터 해당 데이터를 다운로드 받아 감성 분류를 수행하는 모델을 만들어보자."
   ]
  },
  {
   "cell_type": "markdown",
   "metadata": {
    "colab_type": "text",
    "id": "kK1SYjrecB0S"
   },
   "source": [
    "<br>\n",
    "\n",
    "## 6.1 네이버 영화 리뷰 데이터에 대한 이해와 전처리\n",
    "\n",
    "- [다운로드 링크](https://github.com/e9t/nsmc/)"
   ]
  },
  {
   "cell_type": "code",
   "execution_count": null,
   "metadata": {
    "colab": {},
    "colab_type": "code",
    "id": "D8BwsVDackNg"
   },
   "outputs": [],
   "source": [
    "!pip install konlpy"
   ]
  },
  {
   "cell_type": "code",
   "execution_count": null,
   "metadata": {
    "colab": {},
    "colab_type": "code",
    "id": "MD4M2ZszcJKa"
   },
   "outputs": [],
   "source": [
    "import pandas as pd\n",
    "import urllib.request\n",
    "%matplotlib inline\n",
    "import matplotlib.pyplot as plt\n",
    "import re\n",
    "from konlpy.tag import Okt\n",
    "from tensorflow.keras.preprocessing.text import Tokenizer\n",
    "import numpy as np\n",
    "from tensorflow.keras.preprocessing.sequence import pad_sequences"
   ]
  },
  {
   "cell_type": "markdown",
   "metadata": {
    "colab_type": "text",
    "id": "HA_EwWfRcguC"
   },
   "source": [
    "<br>\n",
    "\n",
    "### 6.1.1 데이터 로드하기"
   ]
  },
  {
   "cell_type": "markdown",
   "metadata": {
    "colab_type": "text",
    "id": "EVeH5hI_ZtuS"
   },
   "source": [
    "#### 6.1.1.1 데이터셋 로드\n",
    "\n",
    "- 위의 링크로부터 훈련 데이터에 해당하는 `ratings_train.txt`와 테스트 데이터에 해당하는 `ratings_test.txt`를 다운로드한다."
   ]
  },
  {
   "cell_type": "code",
   "execution_count": 3,
   "metadata": {
    "colab": {
     "base_uri": "https://localhost:8080/",
     "height": 35
    },
    "colab_type": "code",
    "id": "QpNLZbKucxvq",
    "outputId": "d0d92c65-b818-4a73-9d26-0c9112bf2125"
   },
   "outputs": [
    {
     "data": {
      "text/plain": [
       "('ratings_test.txt', <http.client.HTTPMessage at 0x7fa2c8736748>)"
      ]
     },
     "execution_count": 3,
     "metadata": {
      "tags": []
     },
     "output_type": "execute_result"
    }
   ],
   "source": [
    "urllib.request.urlretrieve(\"https://raw.githubusercontent.com/e9t/nsmc/master/ratings_train.txt\",\n",
    "                           filename=\"ratings_train.txt\")\n",
    "urllib.request.urlretrieve(\"https://raw.githubusercontent.com/e9t/nsmc/master/ratings_test.txt\",\n",
    "                           filename=\"ratings_test.txt\")"
   ]
  },
  {
   "cell_type": "markdown",
   "metadata": {
    "colab_type": "text",
    "id": "5drxXDeIdAt4"
   },
   "source": [
    "<br>\n",
    "\n",
    "- 또한 Pandas를 이용하여 훈련 데이터는 `train_data`에 테스트 데이터는 `test_data`에 저장한다."
   ]
  },
  {
   "cell_type": "code",
   "execution_count": null,
   "metadata": {
    "colab": {},
    "colab_type": "code",
    "id": "s3W3AE52dJGw"
   },
   "outputs": [],
   "source": [
    "train_data = pd.read_table('ratings_train.txt')\n",
    "test_data = pd.read_table('ratings_test.txt')"
   ]
  },
  {
   "cell_type": "markdown",
   "metadata": {
    "colab_type": "text",
    "id": "Mo1X-oxzdPB5"
   },
   "source": [
    "<br>\n",
    "\n",
    "#### 6.1.1.2 훈련용 데이터셋 크기 확인\n",
    "\n",
    "- `train_data`에 존재하는 영화 리뷰의 개수를 확인해보자."
   ]
  },
  {
   "cell_type": "code",
   "execution_count": 5,
   "metadata": {
    "colab": {
     "base_uri": "https://localhost:8080/",
     "height": 35
    },
    "colab_type": "code",
    "id": "kl9XgLZcSHBg",
    "outputId": "dd2ca02b-fed5-4e8d-85a7-640a9b2b21e6"
   },
   "outputs": [
    {
     "name": "stdout",
     "output_type": "stream",
     "text": [
      "훈련용 리뷰 개수 :  150000\n"
     ]
    }
   ],
   "source": [
    "print('훈련용 리뷰 개수 : ', len(train_data))"
   ]
  },
  {
   "cell_type": "markdown",
   "metadata": {
    "colab_type": "text",
    "id": "dRz1xZq2SKYA"
   },
   "source": [
    "- `train_data`는 총 150,000개의 리뷰가 존재한다."
   ]
  },
  {
   "cell_type": "markdown",
   "metadata": {
    "colab_type": "text",
    "id": "nHjQXEkCSO2w"
   },
   "source": [
    "<br>\n",
    "\n",
    "#### 6.1.1.3 훈련용 데이터셋 구성 확인\n",
    "\n",
    "- `train_data`는 어떤 형태인 지 상위 5개만 출력해보자."
   ]
  },
  {
   "cell_type": "code",
   "execution_count": 6,
   "metadata": {
    "colab": {
     "base_uri": "https://localhost:8080/",
     "height": 204
    },
    "colab_type": "code",
    "id": "NGmIbhewSW93",
    "outputId": "b6bfffcb-51b5-4ce1-c79e-0ebed503b622"
   },
   "outputs": [
    {
     "data": {
      "text/html": [
       "<div>\n",
       "<style scoped>\n",
       "    .dataframe tbody tr th:only-of-type {\n",
       "        vertical-align: middle;\n",
       "    }\n",
       "\n",
       "    .dataframe tbody tr th {\n",
       "        vertical-align: top;\n",
       "    }\n",
       "\n",
       "    .dataframe thead th {\n",
       "        text-align: right;\n",
       "    }\n",
       "</style>\n",
       "<table border=\"1\" class=\"dataframe\">\n",
       "  <thead>\n",
       "    <tr style=\"text-align: right;\">\n",
       "      <th></th>\n",
       "      <th>id</th>\n",
       "      <th>document</th>\n",
       "      <th>label</th>\n",
       "    </tr>\n",
       "  </thead>\n",
       "  <tbody>\n",
       "    <tr>\n",
       "      <th>0</th>\n",
       "      <td>9976970</td>\n",
       "      <td>아 더빙.. 진짜 짜증나네요 목소리</td>\n",
       "      <td>0</td>\n",
       "    </tr>\n",
       "    <tr>\n",
       "      <th>1</th>\n",
       "      <td>3819312</td>\n",
       "      <td>흠...포스터보고 초딩영화줄....오버연기조차 가볍지 않구나</td>\n",
       "      <td>1</td>\n",
       "    </tr>\n",
       "    <tr>\n",
       "      <th>2</th>\n",
       "      <td>10265843</td>\n",
       "      <td>너무재밓었다그래서보는것을추천한다</td>\n",
       "      <td>0</td>\n",
       "    </tr>\n",
       "    <tr>\n",
       "      <th>3</th>\n",
       "      <td>9045019</td>\n",
       "      <td>교도소 이야기구먼 ..솔직히 재미는 없다..평점 조정</td>\n",
       "      <td>0</td>\n",
       "    </tr>\n",
       "    <tr>\n",
       "      <th>4</th>\n",
       "      <td>6483659</td>\n",
       "      <td>사이몬페그의 익살스런 연기가 돋보였던 영화!스파이더맨에서 늙어보이기만 했던 커스틴 ...</td>\n",
       "      <td>1</td>\n",
       "    </tr>\n",
       "  </tbody>\n",
       "</table>\n",
       "</div>"
      ],
      "text/plain": [
       "         id                                           document  label\n",
       "0   9976970                                아 더빙.. 진짜 짜증나네요 목소리      0\n",
       "1   3819312                  흠...포스터보고 초딩영화줄....오버연기조차 가볍지 않구나      1\n",
       "2  10265843                                  너무재밓었다그래서보는것을추천한다      0\n",
       "3   9045019                      교도소 이야기구먼 ..솔직히 재미는 없다..평점 조정      0\n",
       "4   6483659  사이몬페그의 익살스런 연기가 돋보였던 영화!스파이더맨에서 늙어보이기만 했던 커스틴 ...      1"
      ]
     },
     "execution_count": 6,
     "metadata": {
      "tags": []
     },
     "output_type": "execute_result"
    }
   ],
   "source": [
    "train_data[:5]"
   ]
  },
  {
   "cell_type": "markdown",
   "metadata": {
    "colab_type": "text",
    "id": "KBqbW1rBSXtP"
   },
   "source": [
    "- 상위 5개의 샘플만 출력해봤는데, 해당 데이터는 `id`, `document`, `label` 총 3개의 열로 구성되어져 있다.\n",
    "- `id`는 감성 분류를 수행하는데 도움이 되지 않으므로 앞으로 무시한다.\n",
    "- 결국 이 모델은 리뷰 내용을 담고 있는 `document`와 해당 리뷰가 긍정(`1`), 부정(`0`)인지를 나타내는 `label` 두 개의 열을 학습하는 모델이 될 것이다."
   ]
  },
  {
   "cell_type": "markdown",
   "metadata": {
    "colab_type": "text",
    "id": "i_u-7VISSy9O"
   },
   "source": [
    "- 여기서 한국어 데이터와 영어 데이터의 차이를 확인할 수 있다.\n",
    "- 예를 들어, 인덱스 2에 해당하는 세번째 샘플은 띄어쓰기를 하지 않아도 글을 쉽게 이해할 수 있는 한국어의 특성으로 인해 띄어쓰기가 전혀 되어 있지 않다."
   ]
  },
  {
   "cell_type": "markdown",
   "metadata": {
    "colab_type": "text",
    "id": "Wp-Tr8cVTA2e"
   },
   "source": [
    "<br>\n",
    "\n",
    "#### 6.1.1.4 테스트용 데이터셋 크기 확인\n",
    "\n",
    "- 이제 `test_data`의 개수와 상위 5개 샘플을 확인해보자."
   ]
  },
  {
   "cell_type": "code",
   "execution_count": 7,
   "metadata": {
    "colab": {
     "base_uri": "https://localhost:8080/",
     "height": 35
    },
    "colab_type": "code",
    "id": "glAvq-CxTEMe",
    "outputId": "c8ab6504-bd90-4664-e96a-ecdc885884ce"
   },
   "outputs": [
    {
     "name": "stdout",
     "output_type": "stream",
     "text": [
      "테스트용 리뷰 개수 :  50000\n"
     ]
    }
   ],
   "source": [
    "print('테스트용 리뷰 개수 : ', len(test_data))"
   ]
  },
  {
   "cell_type": "markdown",
   "metadata": {
    "colab_type": "text",
    "id": "aaxwqz42THUb"
   },
   "source": [
    "- `test_data`는 총 50,000개의 영화 리뷰가 존재한다."
   ]
  },
  {
   "cell_type": "markdown",
   "metadata": {
    "colab_type": "text",
    "id": "FKzwZwJPaA_S"
   },
   "source": [
    "<br>\n",
    "\n",
    "#### 6.1.1.5 테스트용 데이터셋 구성 확인"
   ]
  },
  {
   "cell_type": "code",
   "execution_count": 8,
   "metadata": {
    "colab": {
     "base_uri": "https://localhost:8080/",
     "height": 204
    },
    "colab_type": "code",
    "id": "OhYgAXTtTMGl",
    "outputId": "dc990d4f-0f9b-4ea1-a6c9-ac6fec6408c8"
   },
   "outputs": [
    {
     "data": {
      "text/html": [
       "<div>\n",
       "<style scoped>\n",
       "    .dataframe tbody tr th:only-of-type {\n",
       "        vertical-align: middle;\n",
       "    }\n",
       "\n",
       "    .dataframe tbody tr th {\n",
       "        vertical-align: top;\n",
       "    }\n",
       "\n",
       "    .dataframe thead th {\n",
       "        text-align: right;\n",
       "    }\n",
       "</style>\n",
       "<table border=\"1\" class=\"dataframe\">\n",
       "  <thead>\n",
       "    <tr style=\"text-align: right;\">\n",
       "      <th></th>\n",
       "      <th>id</th>\n",
       "      <th>document</th>\n",
       "      <th>label</th>\n",
       "    </tr>\n",
       "  </thead>\n",
       "  <tbody>\n",
       "    <tr>\n",
       "      <th>0</th>\n",
       "      <td>6270596</td>\n",
       "      <td>굳 ㅋ</td>\n",
       "      <td>1</td>\n",
       "    </tr>\n",
       "    <tr>\n",
       "      <th>1</th>\n",
       "      <td>9274899</td>\n",
       "      <td>GDNTOPCLASSINTHECLUB</td>\n",
       "      <td>0</td>\n",
       "    </tr>\n",
       "    <tr>\n",
       "      <th>2</th>\n",
       "      <td>8544678</td>\n",
       "      <td>뭐야 이 평점들은.... 나쁘진 않지만 10점 짜리는 더더욱 아니잖아</td>\n",
       "      <td>0</td>\n",
       "    </tr>\n",
       "    <tr>\n",
       "      <th>3</th>\n",
       "      <td>6825595</td>\n",
       "      <td>지루하지는 않은데 완전 막장임... 돈주고 보기에는....</td>\n",
       "      <td>0</td>\n",
       "    </tr>\n",
       "    <tr>\n",
       "      <th>4</th>\n",
       "      <td>6723715</td>\n",
       "      <td>3D만 아니었어도 별 다섯 개 줬을텐데.. 왜 3D로 나와서 제 심기를 불편하게 하죠??</td>\n",
       "      <td>0</td>\n",
       "    </tr>\n",
       "  </tbody>\n",
       "</table>\n",
       "</div>"
      ],
      "text/plain": [
       "        id                                           document  label\n",
       "0  6270596                                                굳 ㅋ      1\n",
       "1  9274899                               GDNTOPCLASSINTHECLUB      0\n",
       "2  8544678             뭐야 이 평점들은.... 나쁘진 않지만 10점 짜리는 더더욱 아니잖아      0\n",
       "3  6825595                   지루하지는 않은데 완전 막장임... 돈주고 보기에는....      0\n",
       "4  6723715  3D만 아니었어도 별 다섯 개 줬을텐데.. 왜 3D로 나와서 제 심기를 불편하게 하죠??      0"
      ]
     },
     "execution_count": 8,
     "metadata": {
      "tags": []
     },
     "output_type": "execute_result"
    }
   ],
   "source": [
    "test_data[:5]"
   ]
  },
  {
   "cell_type": "markdown",
   "metadata": {
    "colab_type": "text",
    "id": "0l55xiHzTOsm"
   },
   "source": [
    "- `test_data`도 `train_data`와 동일한 형식으로 `id`, `document`, `label` 3개의 열로 구성되어 있다.\n",
    "- `train_data`에 대한 전처리 과정을 정하고 나면, `test_data`에도 동일한 전처리 과정을 적용하면 될 것 같다."
   ]
  },
  {
   "cell_type": "markdown",
   "metadata": {
    "colab_type": "text",
    "id": "SqIuMIbTTaG1"
   },
   "source": [
    "<br>\n",
    "\n",
    "### 6.1.2 데이터 정제하기\n",
    "\n",
    "- 다시 `train_data`로 돌아가보자."
   ]
  },
  {
   "cell_type": "markdown",
   "metadata": {
    "colab_type": "text",
    "id": "xSCE3OmcTfQH"
   },
   "source": [
    "<br>\n",
    "\n",
    "#### 6.1.2.1 중복 데이터 확인 및 제거\n",
    "\n",
    "- 먼저 `train_data`에 중복된 데이터가 있는 지 확인해보자."
   ]
  },
  {
   "cell_type": "code",
   "execution_count": 9,
   "metadata": {
    "colab": {
     "base_uri": "https://localhost:8080/",
     "height": 35
    },
    "colab_type": "code",
    "id": "m2fy9oWkTlZH",
    "outputId": "61eea311-5c72-403e-cba9-1979e1f34fc4"
   },
   "outputs": [
    {
     "data": {
      "text/plain": [
       "(146182, 2)"
      ]
     },
     "execution_count": 9,
     "metadata": {
      "tags": []
     },
     "output_type": "execute_result"
    }
   ],
   "source": [
    "train_data['document'].nunique(), train_data['label'].nunique()"
   ]
  },
  {
   "cell_type": "markdown",
   "metadata": {
    "colab_type": "text",
    "id": "oJIoIL76UMrV"
   },
   "source": [
    "- 총 150,000개의 샘플이 존재하는 데 `document`열에서 중복을 제거한 샘플의 수가 146,182개라는 것은 약 4,000개의 중복 샘플이 존재한다는 의미이다.\n",
    "- `label` 열은 0 또는 1의 값만을 가지므로 2가 출력되었다."
   ]
  },
  {
   "cell_type": "markdown",
   "metadata": {
    "colab_type": "text",
    "id": "VVPWdgf2UbJU"
   },
   "source": [
    "- 중복 샘플을 제거해보자."
   ]
  },
  {
   "cell_type": "code",
   "execution_count": null,
   "metadata": {
    "colab": {},
    "colab_type": "code",
    "id": "YhXeuAXYUcgj"
   },
   "outputs": [],
   "source": [
    "train_data.drop_duplicates(subset=['document'], inplace=True)"
   ]
  },
  {
   "cell_type": "markdown",
   "metadata": {
    "colab_type": "text",
    "id": "AcZ4a2uUUg30"
   },
   "source": [
    "- 정말 중복 샘플이 제거되었는 지 전체 샘플 수를 확인해보자."
   ]
  },
  {
   "cell_type": "code",
   "execution_count": 11,
   "metadata": {
    "colab": {
     "base_uri": "https://localhost:8080/",
     "height": 35
    },
    "colab_type": "code",
    "id": "OAlx2_WAZik6",
    "outputId": "479a88db-1e6e-4a08-89c5-3386ad014a70"
   },
   "outputs": [
    {
     "name": "stdout",
     "output_type": "stream",
     "text": [
      "총 샘플의 수 :  146183\n"
     ]
    }
   ],
   "source": [
    "print('총 샘플의 수 : ', len(train_data))"
   ]
  },
  {
   "cell_type": "markdown",
   "metadata": {
    "colab_type": "text",
    "id": "AF6mZv7jZk9b"
   },
   "source": [
    "- 중복 샘플이 제거되었다."
   ]
  },
  {
   "cell_type": "markdown",
   "metadata": {
    "colab_type": "text",
    "id": "v225MqOdZpra"
   },
   "source": [
    "<br>\n",
    "\n",
    "#### 6.1.2.2 레이블 값의 분포 확인\n",
    "\n",
    "- `train_data`에서 해당 리뷰의 긍, 부정 유무가 기재되어 있는 레이블(label)값의 분포를 확인해보자."
   ]
  },
  {
   "cell_type": "code",
   "execution_count": 12,
   "metadata": {
    "colab": {
     "base_uri": "https://localhost:8080/",
     "height": 280
    },
    "colab_type": "code",
    "id": "0GXOOezGaU-g",
    "outputId": "b4d281a0-232e-4e2f-e521-1410eb176216"
   },
   "outputs": [
    {
     "data": {
      "text/plain": [
       "<matplotlib.axes._subplots.AxesSubplot at 0x7fa240389240>"
      ]
     },
     "execution_count": 12,
     "metadata": {
      "tags": []
     },
     "output_type": "execute_result"
    },
    {
     "data": {
      "image/png": "[encoded data removed]",
      "text/plain": [
       "<Figure size 432x288 with 1 Axes>"
      ]
     },
     "metadata": {
      "tags": []
     },
     "output_type": "display_data"
    }
   ],
   "source": [
    "train_data['label'].value_counts().plot(kind='bar')"
   ]
  },
  {
   "cell_type": "markdown",
   "metadata": {
    "colab_type": "text",
    "id": "NZyBTZw1aZJJ"
   },
   "source": [
    "- 약 146,000개의 영화 리뷰 샘플이 존재하는 데 그래프 상으로 긍정과 부정 둘 다 약 72,000개의 샘플이 존재하여 레이블의 분포가 균일한 것처럼 보인다."
   ]
  },
  {
   "cell_type": "markdown",
   "metadata": {
    "colab_type": "text",
    "id": "8nQ_vzOrajjo"
   },
   "source": [
    "- 정확하게 몇 개인 지 확인하고 싶다면 아래의 코드를 수행하면 된다."
   ]
  },
  {
   "cell_type": "code",
   "execution_count": 13,
   "metadata": {
    "colab": {
     "base_uri": "https://localhost:8080/",
     "height": 71
    },
    "colab_type": "code",
    "id": "xGhxdfZYamog",
    "outputId": "fa53946d-743e-4327-f533-798855ad7f48"
   },
   "outputs": [
    {
     "name": "stdout",
     "output_type": "stream",
     "text": [
      "   label  count\n",
      "0      0  73342\n",
      "1      1  72841\n"
     ]
    }
   ],
   "source": [
    "print(train_data.groupby('label').size().reset_index(name='count'))"
   ]
  },
  {
   "cell_type": "markdown",
   "metadata": {
    "colab_type": "text",
    "id": "n4U2nAQaaq8B"
   },
   "source": [
    "- 레이블이 0인 리뷰가 근소하게 많다."
   ]
  },
  {
   "cell_type": "markdown",
   "metadata": {
    "colab_type": "text",
    "id": "cWE-PND9avFo"
   },
   "source": [
    "<br>\n",
    "\n",
    "#### 6.1.2.3 결측값 확인 및 제거\n",
    "\n",
    "- 리뷰 중에 Null 값을 가진 샘플이 있는 지는 Pandas의 `isnull().values.any()`로 확인해보자."
   ]
  },
  {
   "cell_type": "code",
   "execution_count": 14,
   "metadata": {
    "colab": {
     "base_uri": "https://localhost:8080/",
     "height": 35
    },
    "colab_type": "code",
    "id": "Qqmq7cgjax86",
    "outputId": "44bc9be0-a08f-4ce3-f65b-7a3a73c0e18d"
   },
   "outputs": [
    {
     "name": "stdout",
     "output_type": "stream",
     "text": [
      "True\n"
     ]
    }
   ],
   "source": [
    "print(train_data.isnull().values.any())"
   ]
  },
  {
   "cell_type": "markdown",
   "metadata": {
    "colab_type": "text",
    "id": "v28wTTkWa7mw"
   },
   "source": [
    "- `True`가 나왔다면 데이터 중에 Null 값을 가진 샘플이 존재한다는 의미이다."
   ]
  },
  {
   "cell_type": "markdown",
   "metadata": {
    "colab_type": "text",
    "id": "lUxvRU8tbD3f"
   },
   "source": [
    "- 어떤 열에 존재하는 지 확인해보자."
   ]
  },
  {
   "cell_type": "code",
   "execution_count": 15,
   "metadata": {
    "colab": {
     "base_uri": "https://localhost:8080/",
     "height": 89
    },
    "colab_type": "code",
    "id": "QsuNgtyTckgl",
    "outputId": "877bcd02-e98b-4757-f6cb-7a5d83da23d6"
   },
   "outputs": [
    {
     "name": "stdout",
     "output_type": "stream",
     "text": [
      "id          0\n",
      "document    1\n",
      "label       0\n",
      "dtype: int64\n"
     ]
    }
   ],
   "source": [
    "print(train_data.isnull().sum())"
   ]
  },
  {
   "cell_type": "markdown",
   "metadata": {
    "colab_type": "text",
    "id": "FDTQN-PWcmbl"
   },
   "source": [
    "- 리뷰가 적혀있는 `document` 열에서 Null 값을 가진 샘플이 총 1개가 존재한다고 한다.\n",
    "- 그렇다면 `document` 열에서 Null 값이 존재한다는 것을 조건으로 Null 값을 가진 샘플이 어느 인덱스의 위치에 존재하는 지 한번 출력해보자."
   ]
  },
  {
   "cell_type": "code",
   "execution_count": 16,
   "metadata": {
    "colab": {
     "base_uri": "https://localhost:8080/",
     "height": 80
    },
    "colab_type": "code",
    "id": "-5Gw4KSOc0-c",
    "outputId": "7a833651-d4f9-48e5-ed80-4c97cab45a91"
   },
   "outputs": [
    {
     "data": {
      "text/html": [
       "<div>\n",
       "<style scoped>\n",
       "    .dataframe tbody tr th:only-of-type {\n",
       "        vertical-align: middle;\n",
       "    }\n",
       "\n",
       "    .dataframe tbody tr th {\n",
       "        vertical-align: top;\n",
       "    }\n",
       "\n",
       "    .dataframe thead th {\n",
       "        text-align: right;\n",
       "    }\n",
       "</style>\n",
       "<table border=\"1\" class=\"dataframe\">\n",
       "  <thead>\n",
       "    <tr style=\"text-align: right;\">\n",
       "      <th></th>\n",
       "      <th>id</th>\n",
       "      <th>document</th>\n",
       "      <th>label</th>\n",
       "    </tr>\n",
       "  </thead>\n",
       "  <tbody>\n",
       "    <tr>\n",
       "      <th>25857</th>\n",
       "      <td>2172111</td>\n",
       "      <td>NaN</td>\n",
       "      <td>1</td>\n",
       "    </tr>\n",
       "  </tbody>\n",
       "</table>\n",
       "</div>"
      ],
      "text/plain": [
       "            id document  label\n",
       "25857  2172111      NaN      1"
      ]
     },
     "execution_count": 16,
     "metadata": {
      "tags": []
     },
     "output_type": "execute_result"
    }
   ],
   "source": [
    "train_data.loc[train_data.document.isnull()]"
   ]
  },
  {
   "cell_type": "markdown",
   "metadata": {
    "colab_type": "text",
    "id": "Xd9Gwt83c4ot"
   },
   "source": [
    "- Null 값을 가진 샘플을 제거해보자."
   ]
  },
  {
   "cell_type": "code",
   "execution_count": 17,
   "metadata": {
    "colab": {
     "base_uri": "https://localhost:8080/",
     "height": 35
    },
    "colab_type": "code",
    "id": "1iyUw-cJc8Yk",
    "outputId": "e559cbd2-0f1a-419f-b2fb-fd72be62fe6e"
   },
   "outputs": [
    {
     "name": "stdout",
     "output_type": "stream",
     "text": [
      "False\n"
     ]
    }
   ],
   "source": [
    "train_data = train_data.dropna(how = 'any')\n",
    "print(train_data.isnull().values.any())"
   ]
  },
  {
   "cell_type": "markdown",
   "metadata": {
    "colab_type": "text",
    "id": "k8NvpdD8dClk"
   },
   "source": [
    "- Null 값을 가진 샘플이 제거되었다."
   ]
  },
  {
   "cell_type": "markdown",
   "metadata": {
    "colab_type": "text",
    "id": "AcZT0aARdFek"
   },
   "source": [
    "- 다시 샘플의 개수를 출력하여 1개의 샘플이 제거되었는 지 확인해보자."
   ]
  },
  {
   "cell_type": "code",
   "execution_count": 18,
   "metadata": {
    "colab": {
     "base_uri": "https://localhost:8080/",
     "height": 35
    },
    "colab_type": "code",
    "id": "oePLrg9bmXsW",
    "outputId": "a43cfac9-4d26-46be-a910-ba8a9400f8d1"
   },
   "outputs": [
    {
     "name": "stdout",
     "output_type": "stream",
     "text": [
      "146182\n"
     ]
    }
   ],
   "source": [
    "print(len(train_data))"
   ]
  },
  {
   "cell_type": "markdown",
   "metadata": {
    "colab_type": "text",
    "id": "KKHbokWlmZi0"
   },
   "source": [
    "<br>\n",
    "\n",
    "####6.1.2.4 정규 표현식 활용 데이터 전처리\n",
    "\n",
    "- 이제 데이터의 전처리를 수행해보자.\n",
    "- 위의 `train_data`와 `test_data`에서 온점(.)이나 물음표(?)와 같은 각종 특수문자가 사용된 것을 확인했다.\n",
    "- `train_data`로부터 한글만 남기고 제거하기 위해서 정규 표현식을 사용해보자."
   ]
  },
  {
   "cell_type": "markdown",
   "metadata": {
    "colab_type": "text",
    "id": "KGpiV1Bfmsqa"
   },
   "source": [
    "- 우선 한글이 아니라 영어의 경우를 상기해보자.\n",
    "- 영어의 알파벳들을 나타내는 정규 표현식은 `[a-zA-Z]`이다.\n",
    "- 이 정규 표현식은 영어의 소문자와 대문자들을 모두 포함하고 있는 정규 표현식이다.\n",
    "- 이를 응용하면 영어에 속하지 않는 구두점이나 특수 문자를 제거할 수 있다.\n",
    "- 예를 들어 알파벳과 공백을 제외하고 모두 제거하는 전처리를 수행하는 예제는 다음과 같다."
   ]
  },
  {
   "cell_type": "code",
   "execution_count": 19,
   "metadata": {
    "colab": {
     "base_uri": "https://localhost:8080/",
     "height": 35
    },
    "colab_type": "code",
    "id": "I-4AS2ZNAMHQ",
    "outputId": "aedb115c-0847-4636-cdc6-9107a20ce98f"
   },
   "outputs": [
    {
     "data": {
      "text/plain": [
       "'do you expect people to read the FAQ etc and actually accept hard atheism'"
      ]
     },
     "execution_count": 19,
     "metadata": {
      "tags": []
     },
     "output_type": "execute_result"
    }
   ],
   "source": [
    "text = 'do!!! you expect... people~ to~ read~ the FAQ, etc. and actually accept hard~! atheism?@@'\n",
    "\n",
    "re.sub(r'[^a-zA-Z ]', '', text)"
   ]
  },
  {
   "cell_type": "markdown",
   "metadata": {
    "colab_type": "text",
    "id": "Y0KcwoHdAQ3_"
   },
   "source": [
    "<br>\n",
    "\n",
    "- 위와 같은 원리를 한국어 데이터에 적용하고 싶다면, 우선 한글을 범위 지정할 수 있는 정규 표현식을 찾아내면 된다.\n",
    "- 우선 자음과 모음의 대한 범위를 지정해보자.\n",
    "- 일반적으로 자음의 범위는 `ㄱ ~ ㅎ`, 모음의 범위는 `ㅏ ~ ㅣ`와 같이 지정할 수 있다.\n",
    "- 해당 범위 내에 어떤 자음과 모음이 속하는 지 알고 싶다면 [해당 링크](https://www.unicode.org/charts/PDF/U3130.pdf)를 참고하면 된다.\n",
    "  - `ㄱ ~ ㅎ` : `3131` ~ `314E`\n",
    "  - `ㅏ ~ ㅣ` : `314F` ~ `3163`"
   ]
  },
  {
   "cell_type": "markdown",
   "metadata": {
    "colab_type": "text",
    "id": "kCNADWqOA1yM"
   },
   "source": [
    "- 또한 완성형 한글의 범위는 `가 ~ 힣`과 같이 사용한다.\n",
    "- 해당 범위 내에 포함된 음절들은 [해당 링크](https://www.unicode.org/charts/PDF/UAC00.pdf)에서 확인할 수 있다."
   ]
  },
  {
   "cell_type": "markdown",
   "metadata": {
    "colab_type": "text",
    "id": "w2WCGLh2A_Pi"
   },
   "source": [
    "<br>\n",
    "\n",
    "- 위의 범위 지정을 모두 반영하여 `train_data`에 한글과 공백을 제외하고 모두 제거하는 정규 표현식을 수행해보자."
   ]
  },
  {
   "cell_type": "code",
   "execution_count": 20,
   "metadata": {
    "colab": {
     "base_uri": "https://localhost:8080/",
     "height": 204
    },
    "colab_type": "code",
    "id": "C9xboxbjBI-a",
    "outputId": "f9ffb0c9-142e-4df3-97be-8777850b535f"
   },
   "outputs": [
    {
     "data": {
      "text/html": [
       "<div>\n",
       "<style scoped>\n",
       "    .dataframe tbody tr th:only-of-type {\n",
       "        vertical-align: middle;\n",
       "    }\n",
       "\n",
       "    .dataframe tbody tr th {\n",
       "        vertical-align: top;\n",
       "    }\n",
       "\n",
       "    .dataframe thead th {\n",
       "        text-align: right;\n",
       "    }\n",
       "</style>\n",
       "<table border=\"1\" class=\"dataframe\">\n",
       "  <thead>\n",
       "    <tr style=\"text-align: right;\">\n",
       "      <th></th>\n",
       "      <th>id</th>\n",
       "      <th>document</th>\n",
       "      <th>label</th>\n",
       "    </tr>\n",
       "  </thead>\n",
       "  <tbody>\n",
       "    <tr>\n",
       "      <th>0</th>\n",
       "      <td>9976970</td>\n",
       "      <td>아 더빙.. 진짜 짜증나네요 목소리</td>\n",
       "      <td>0</td>\n",
       "    </tr>\n",
       "    <tr>\n",
       "      <th>1</th>\n",
       "      <td>3819312</td>\n",
       "      <td>흠...포스터보고 초딩영화줄....오버연기조차 가볍지 않구나</td>\n",
       "      <td>1</td>\n",
       "    </tr>\n",
       "    <tr>\n",
       "      <th>2</th>\n",
       "      <td>10265843</td>\n",
       "      <td>너무재밓었다그래서보는것을추천한다</td>\n",
       "      <td>0</td>\n",
       "    </tr>\n",
       "    <tr>\n",
       "      <th>3</th>\n",
       "      <td>9045019</td>\n",
       "      <td>교도소 이야기구먼 ..솔직히 재미는 없다..평점 조정</td>\n",
       "      <td>0</td>\n",
       "    </tr>\n",
       "    <tr>\n",
       "      <th>4</th>\n",
       "      <td>6483659</td>\n",
       "      <td>사이몬페그의 익살스런 연기가 돋보였던 영화!스파이더맨에서 늙어보이기만 했던 커스틴 ...</td>\n",
       "      <td>1</td>\n",
       "    </tr>\n",
       "  </tbody>\n",
       "</table>\n",
       "</div>"
      ],
      "text/plain": [
       "         id                                           document  label\n",
       "0   9976970                                아 더빙.. 진짜 짜증나네요 목소리      0\n",
       "1   3819312                  흠...포스터보고 초딩영화줄....오버연기조차 가볍지 않구나      1\n",
       "2  10265843                                  너무재밓었다그래서보는것을추천한다      0\n",
       "3   9045019                      교도소 이야기구먼 ..솔직히 재미는 없다..평점 조정      0\n",
       "4   6483659  사이몬페그의 익살스런 연기가 돋보였던 영화!스파이더맨에서 늙어보이기만 했던 커스틴 ...      1"
      ]
     },
     "execution_count": 20,
     "metadata": {
      "tags": []
     },
     "output_type": "execute_result"
    }
   ],
   "source": [
    "train_data[:5]"
   ]
  },
  {
   "cell_type": "code",
   "execution_count": null,
   "metadata": {
    "colab": {},
    "colab_type": "code",
    "id": "eHmXHkRkBJ3r"
   },
   "outputs": [],
   "source": [
    "# 한글과 공백을 제외하고 모두 제거\n",
    "train_data['document'] = train_data['document'].str.replace(\"[^ㄱ-ㅎㅏ-ㅣ가-힣 ]\", \"\")"
   ]
  },
  {
   "cell_type": "code",
   "execution_count": 22,
   "metadata": {
    "colab": {
     "base_uri": "https://localhost:8080/",
     "height": 204
    },
    "colab_type": "code",
    "id": "ScihYdZRBX9d",
    "outputId": "308d72ae-bbf8-40f9-bb16-faa8c915698a"
   },
   "outputs": [
    {
     "data": {
      "text/html": [
       "<div>\n",
       "<style scoped>\n",
       "    .dataframe tbody tr th:only-of-type {\n",
       "        vertical-align: middle;\n",
       "    }\n",
       "\n",
       "    .dataframe tbody tr th {\n",
       "        vertical-align: top;\n",
       "    }\n",
       "\n",
       "    .dataframe thead th {\n",
       "        text-align: right;\n",
       "    }\n",
       "</style>\n",
       "<table border=\"1\" class=\"dataframe\">\n",
       "  <thead>\n",
       "    <tr style=\"text-align: right;\">\n",
       "      <th></th>\n",
       "      <th>id</th>\n",
       "      <th>document</th>\n",
       "      <th>label</th>\n",
       "    </tr>\n",
       "  </thead>\n",
       "  <tbody>\n",
       "    <tr>\n",
       "      <th>0</th>\n",
       "      <td>9976970</td>\n",
       "      <td>아 더빙 진짜 짜증나네요 목소리</td>\n",
       "      <td>0</td>\n",
       "    </tr>\n",
       "    <tr>\n",
       "      <th>1</th>\n",
       "      <td>3819312</td>\n",
       "      <td>흠포스터보고 초딩영화줄오버연기조차 가볍지 않구나</td>\n",
       "      <td>1</td>\n",
       "    </tr>\n",
       "    <tr>\n",
       "      <th>2</th>\n",
       "      <td>10265843</td>\n",
       "      <td>너무재밓었다그래서보는것을추천한다</td>\n",
       "      <td>0</td>\n",
       "    </tr>\n",
       "    <tr>\n",
       "      <th>3</th>\n",
       "      <td>9045019</td>\n",
       "      <td>교도소 이야기구먼 솔직히 재미는 없다평점 조정</td>\n",
       "      <td>0</td>\n",
       "    </tr>\n",
       "    <tr>\n",
       "      <th>4</th>\n",
       "      <td>6483659</td>\n",
       "      <td>사이몬페그의 익살스런 연기가 돋보였던 영화스파이더맨에서 늙어보이기만 했던 커스틴 던...</td>\n",
       "      <td>1</td>\n",
       "    </tr>\n",
       "  </tbody>\n",
       "</table>\n",
       "</div>"
      ],
      "text/plain": [
       "         id                                           document  label\n",
       "0   9976970                                  아 더빙 진짜 짜증나네요 목소리      0\n",
       "1   3819312                         흠포스터보고 초딩영화줄오버연기조차 가볍지 않구나      1\n",
       "2  10265843                                  너무재밓었다그래서보는것을추천한다      0\n",
       "3   9045019                          교도소 이야기구먼 솔직히 재미는 없다평점 조정      0\n",
       "4   6483659  사이몬페그의 익살스런 연기가 돋보였던 영화스파이더맨에서 늙어보이기만 했던 커스틴 던...      1"
      ]
     },
     "execution_count": 22,
     "metadata": {
      "tags": []
     },
     "output_type": "execute_result"
    }
   ],
   "source": [
    "train_data[:5]"
   ]
  },
  {
   "cell_type": "markdown",
   "metadata": {
    "colab_type": "text",
    "id": "LlQsOGHJBZR6"
   },
   "source": [
    "- 상위 5개의 샘플을 다시 출력해보았는데, 정규 표현식을 수행하자 기존의 공백. 즉, 띄어쓰기는 유지되면서 온점과 같은 구두점 등은 제거되었다.\n",
    "- 그런데 사실 네이버 영화 리뷰는 굳이 한글이 아니라 영어, 숫자, 특수문자로도 리뷰를 업로드할 수 있다.\n",
    "- 다시 말해 기존에 한글이 없는 리뷰였다면 이제 더 이상 아무런 값도 없는 빈(empty)값이 되었을 것이다."
   ]
  },
  {
   "cell_type": "markdown",
   "metadata": {
    "colab_type": "text",
    "id": "hqZrFv8dB2Dg"
   },
   "source": [
    "- `train_data`에 빈 값을 가진 행이 있다면 Null 값으로 변경하도록 하고, 다시 한번 Null 값이 존재하는 지 확인해보자."
   ]
  },
  {
   "cell_type": "code",
   "execution_count": 23,
   "metadata": {
    "colab": {
     "base_uri": "https://localhost:8080/",
     "height": 35
    },
    "colab_type": "code",
    "id": "crighg-JB7-g",
    "outputId": "e0691a28-53a1-4cf4-c16b-63b5efa23484"
   },
   "outputs": [
    {
     "name": "stdout",
     "output_type": "stream",
     "text": [
      "391\n"
     ]
    }
   ],
   "source": [
    "train_data['document'].replace('', np.nan, inplace=True)\n",
    "print(train_data['document'].isnull().sum())"
   ]
  },
  {
   "cell_type": "markdown",
   "metadata": {
    "colab_type": "text",
    "id": "-SvjnxfICDga"
   },
   "source": [
    "- Null 값이 391개나 새로 생겼다."
   ]
  },
  {
   "cell_type": "markdown",
   "metadata": {
    "colab_type": "text",
    "id": "aUXGDEVQCIJY"
   },
   "source": [
    "- Null 값이 있는 행을 5개만 출력해보자."
   ]
  },
  {
   "cell_type": "code",
   "execution_count": 24,
   "metadata": {
    "colab": {
     "base_uri": "https://localhost:8080/",
     "height": 204
    },
    "colab_type": "code",
    "id": "rH2SPzhmCKYI",
    "outputId": "7ad893a3-006e-4b0a-9ee1-a7ba1d39f2b0"
   },
   "outputs": [
    {
     "data": {
      "text/html": [
       "<div>\n",
       "<style scoped>\n",
       "    .dataframe tbody tr th:only-of-type {\n",
       "        vertical-align: middle;\n",
       "    }\n",
       "\n",
       "    .dataframe tbody tr th {\n",
       "        vertical-align: top;\n",
       "    }\n",
       "\n",
       "    .dataframe thead th {\n",
       "        text-align: right;\n",
       "    }\n",
       "</style>\n",
       "<table border=\"1\" class=\"dataframe\">\n",
       "  <thead>\n",
       "    <tr style=\"text-align: right;\">\n",
       "      <th></th>\n",
       "      <th>id</th>\n",
       "      <th>document</th>\n",
       "      <th>label</th>\n",
       "    </tr>\n",
       "  </thead>\n",
       "  <tbody>\n",
       "    <tr>\n",
       "      <th>584</th>\n",
       "      <td>7117896</td>\n",
       "      <td>NaN</td>\n",
       "      <td>0</td>\n",
       "    </tr>\n",
       "    <tr>\n",
       "      <th>593</th>\n",
       "      <td>6478189</td>\n",
       "      <td>NaN</td>\n",
       "      <td>0</td>\n",
       "    </tr>\n",
       "    <tr>\n",
       "      <th>638</th>\n",
       "      <td>9364602</td>\n",
       "      <td>NaN</td>\n",
       "      <td>0</td>\n",
       "    </tr>\n",
       "    <tr>\n",
       "      <th>668</th>\n",
       "      <td>1600635</td>\n",
       "      <td>NaN</td>\n",
       "      <td>0</td>\n",
       "    </tr>\n",
       "    <tr>\n",
       "      <th>1559</th>\n",
       "      <td>6918082</td>\n",
       "      <td>NaN</td>\n",
       "      <td>1</td>\n",
       "    </tr>\n",
       "  </tbody>\n",
       "</table>\n",
       "</div>"
      ],
      "text/plain": [
       "           id document  label\n",
       "584   7117896      NaN      0\n",
       "593   6478189      NaN      0\n",
       "638   9364602      NaN      0\n",
       "668   1600635      NaN      0\n",
       "1559  6918082      NaN      1"
      ]
     },
     "execution_count": 24,
     "metadata": {
      "tags": []
     },
     "output_type": "execute_result"
    }
   ],
   "source": [
    "train_data.loc[train_data['document'].isnull()][:5]"
   ]
  },
  {
   "cell_type": "markdown",
   "metadata": {
    "colab_type": "text",
    "id": "maEHz8IKCOZR"
   },
   "source": [
    "- Null 샘플들은 레이블이 긍정일 수도 있고, 부정일 수도 있다.\n",
    "- 사실 아무런 의미도 없는 데이터므로 제거해준다."
   ]
  },
  {
   "cell_type": "code",
   "execution_count": 25,
   "metadata": {
    "colab": {
     "base_uri": "https://localhost:8080/",
     "height": 35
    },
    "colab_type": "code",
    "id": "s4RjZR7iCVdw",
    "outputId": "786f7659-eeb1-470d-beba-94c6002ce773"
   },
   "outputs": [
    {
     "name": "stdout",
     "output_type": "stream",
     "text": [
      "145791\n"
     ]
    }
   ],
   "source": [
    "train_data = train_data.dropna(how = 'any')\n",
    "print(len(train_data))"
   ]
  },
  {
   "cell_type": "markdown",
   "metadata": {
    "colab_type": "text",
    "id": "DNl_Lie4CZg_"
   },
   "source": [
    "- 샘플 개수가 또 다시 줄어서 이제 145,791개가 남았다."
   ]
  },
  {
   "cell_type": "markdown",
   "metadata": {
    "colab_type": "text",
    "id": "4LX6qvhVChMn"
   },
   "source": [
    "<br>\n",
    "\n",
    "#### 6.1.2.5 테스트 데이터 전처리\n",
    "\n",
    "- 테스트 데이터에 지금까지 진행했던 전처리 과정들을 동일하게 진행한다."
   ]
  },
  {
   "cell_type": "code",
   "execution_count": 26,
   "metadata": {
    "colab": {
     "base_uri": "https://localhost:8080/",
     "height": 35
    },
    "colab_type": "code",
    "id": "BZPQ6NFaCs5z",
    "outputId": "3db48a3b-4fee-4ed3-bf51-988fcddda564"
   },
   "outputs": [
    {
     "name": "stdout",
     "output_type": "stream",
     "text": [
      "전처리 후 테스트용 샘플의 개수 :  48995\n"
     ]
    }
   ],
   "source": [
    "# document 열에서 중복인 내용이 있다면 중복 제거\n",
    "test_data.drop_duplicates(subset=['document'], inplace=True)\n",
    "\n",
    "# 정규 표현식 수행\n",
    "test_data['document'] = test_data['document'].str.replace(\"[^ㄱ-ㅎㅏ-ㅣ가-힣 ]\", \"\")\n",
    "\n",
    "# 공백은 Null 값으로 변경\n",
    "test_data['document'].replace('', np.nan, inplace=True)\n",
    "\n",
    "# Null 값 제거\n",
    "test_data = test_data.dropna(how='any')\n",
    "\n",
    "print('전처리 후 테스트용 샘플의 개수 : ', len(test_data))"
   ]
  },
  {
   "cell_type": "markdown",
   "metadata": {
    "colab_type": "text",
    "id": "PALgZjbYDHRJ"
   },
   "source": [
    "<br>\n",
    "\n",
    "### 6.1.3 토큰화\n",
    "\n",
    "- 이제 토큰화를 해보자."
   ]
  },
  {
   "cell_type": "markdown",
   "metadata": {
    "colab_type": "text",
    "id": "kxWKWjacDevA"
   },
   "source": [
    "<br>\n",
    "\n",
    "#### 6.1.3.1 불용어 정의\n",
    "\n",
    "- 토큰화 과정에서 불용어를 제거한다.\n",
    "- 불용어는 정의하기 나름이지만, 한국어의 조사, 접속사 등의 보편적인 불용어를 사용할 수 있다.\n",
    "- 하지만 결국 풀고자 하는 문제의 데이터를 지속적으로 검토하면서 계속해서 추가하는 경우 또한 많다.\n",
    "- 실제 현업인 상황이라면 일반적으로 아래의 불용어보다 더 많은 불용어를 사용하기도 한다."
   ]
  },
  {
   "cell_type": "code",
   "execution_count": null,
   "metadata": {
    "colab": {},
    "colab_type": "code",
    "id": "N-VjimyFDbWJ"
   },
   "outputs": [],
   "source": [
    "stopwords = ['의','가','이','은','들','는','좀','잘','걍','과','도','를','으로','자','에','와','한','하다']"
   ]
  },
  {
   "cell_type": "markdown",
   "metadata": {
    "colab_type": "text",
    "id": "yM4ffLfCDhe2"
   },
   "source": [
    "- 여기서는 위 정도로만 불용어를 정의한다."
   ]
  },
  {
   "cell_type": "markdown",
   "metadata": {
    "colab_type": "text",
    "id": "QjITPWA3DmW9"
   },
   "source": [
    "<br>\n",
    "\n",
    "#### 6.1.3.2 형태소 분석기 `Okt`\n",
    "\n",
    "- 토큰화를 위한 형태소 분석기는 KoNLPy의 `Okt`를 사용한다.\n",
    "- 잠시 `Okt`를 복습해보자."
   ]
  },
  {
   "cell_type": "code",
   "execution_count": 28,
   "metadata": {
    "colab": {
     "base_uri": "https://localhost:8080/",
     "height": 35
    },
    "colab_type": "code",
    "id": "X2BPxCU-DwXl",
    "outputId": "f862ce38-405c-4d6a-f9ac-7695e81ba3dc"
   },
   "outputs": [
    {
     "data": {
      "text/plain": [
       "['오다', '이렇다', '것', '도', '영화', '라고', '차라리', '뮤직비디오', '를', '만들다', '게', '나다', '뻔']"
      ]
     },
     "execution_count": 28,
     "metadata": {
      "tags": []
     },
     "output_type": "execute_result"
    }
   ],
   "source": [
    "okt = Okt()\n",
    "okt.morphs('와 이런 것도 영화라고 차라리 뮤직비디오를 만드는 게 나을 뻔',\n",
    "           stem=True)"
   ]
  },
  {
   "cell_type": "markdown",
   "metadata": {
    "colab_type": "text",
    "id": "DpqW-e84D1-2"
   },
   "source": [
    "- `Okt`는 위와 같이 KoNLPy에서 제공하는 형태소 분석기이다.\n",
    "- 한국어를 토큰화할 때는 영어처럼 띄어쓰기 기준으로 토큰화를 하는 것이 아니라, 주로 형태소 분석기를 사용한다.\n",
    "- `stem=True`를 사용하면 일정 수준의 정규화를 수행해준다.\n",
    "  - 예를 들어 위의 예제의 결과를 보면 '이런'이 '이렇다'로 변환됨\n",
    "  - '만드는'이 '만들다'로 변환됨"
   ]
  },
  {
   "cell_type": "markdown",
   "metadata": {
    "colab_type": "text",
    "id": "pNShjUdhERV9"
   },
   "source": [
    "<br>\n",
    "\n",
    "#### 6.1.3.3 토큰화 및 불용어 제거\n",
    "\n",
    "- 이제 `train_data`에 형태소 분석기를 사용하여 토큰화를 하면서 불용어를 제거하여 `X_train`에 저장한다."
   ]
  },
  {
   "cell_type": "code",
   "execution_count": null,
   "metadata": {
    "colab": {},
    "colab_type": "code",
    "id": "sQzMvRZWEuGS"
   },
   "outputs": [],
   "source": [
    "X_train = []\n",
    "\n",
    "for sentence in train_data['document']:\n",
    "    temp_X = []\n",
    "    temp_X = okt.morphs(sentence, stem=True) # 토큰화\n",
    "    temp_X = [word for word in temp_X if not word in stopwords] # 불용어 제거\n",
    "    X_train.append(temp_X)"
   ]
  },
  {
   "cell_type": "code",
   "execution_count": 30,
   "metadata": {
    "colab": {
     "base_uri": "https://localhost:8080/",
     "height": 55
    },
    "colab_type": "code",
    "id": "QSXYzkEuGPdk",
    "outputId": "263449b4-68d9-406d-9d7f-738268f19741"
   },
   "outputs": [
    {
     "name": "stdout",
     "output_type": "stream",
     "text": [
      "[['아', '더빙', '진짜', '짜증나다', '목소리'], ['흠', '포스터', '보고', '초딩', '영화', '줄', '오버', '연기', '조차', '가볍다', '않다'], ['너', '무재', '밓었', '다그', '래서', '보다', '추천', '다']]\n"
     ]
    }
   ],
   "source": [
    "print(X_train[:3])"
   ]
  },
  {
   "cell_type": "markdown",
   "metadata": {
    "colab_type": "text",
    "id": "s_Bv2_ruGWNo"
   },
   "source": [
    "<br>\n",
    "\n",
    "#### 6.1.3.4 테스트 데이터 토큰화 및 불용어 제거"
   ]
  },
  {
   "cell_type": "code",
   "execution_count": null,
   "metadata": {
    "colab": {},
    "colab_type": "code",
    "id": "2OgLTVwwGZNz"
   },
   "outputs": [],
   "source": [
    "X_test = []\n",
    "\n",
    "for sentence in test_data['document']:\n",
    "    temp_X = []\n",
    "    temp_X = okt.morphs(sentence, stem=True)\n",
    "    temp_X = [word for word in temp_X if not word in stopwords]\n",
    "    X_test.append(temp_X)"
   ]
  },
  {
   "cell_type": "code",
   "execution_count": 32,
   "metadata": {
    "colab": {
     "base_uri": "https://localhost:8080/",
     "height": 55
    },
    "colab_type": "code",
    "id": "hpX8P59YI_kL",
    "outputId": "aac2e859-1fdd-4799-9371-173e627349a3"
   },
   "outputs": [
    {
     "name": "stdout",
     "output_type": "stream",
     "text": [
      "[['굳다', 'ㅋ'], ['뭐', '야', '평점', '나쁘다', '않다', '점', '짜다', '리', '더', '더욱', '아니다'], ['지루하다', '않다', '완전', '막장', '임', '돈', '주다', '보기', '에는']]\n"
     ]
    }
   ],
   "source": [
    "print(X_test[:3])"
   ]
  },
  {
   "cell_type": "markdown",
   "metadata": {
    "colab_type": "text",
    "id": "qBGZe2nBGqky"
   },
   "source": [
    "<br>\n",
    "\n",
    "### 6.1.4 정수 인코딩"
   ]
  }
 ],
 "metadata": {
  "accelerator": "GPU",
  "colab": {
   "collapsed_sections": [],
   "name": "Ch11_v06_Naver-Movie-Review-Sentiment-Analysis.ipynb",
   "provenance": []
  },
  "kernelspec": {
   "display_name": "Python 3",
   "language": "python",
   "name": "python3"
  },
  "language_info": {
   "codemirror_mode": {
    "name": "ipython",
    "version": 3
   },
   "file_extension": ".py",
   "mimetype": "text/x-python",
   "name": "python",
   "nbconvert_exporter": "python",
   "pygments_lexer": "ipython3",
   "version": "3.6.9"
  }
 },
 "nbformat": 4,
 "nbformat_minor": 4
}
