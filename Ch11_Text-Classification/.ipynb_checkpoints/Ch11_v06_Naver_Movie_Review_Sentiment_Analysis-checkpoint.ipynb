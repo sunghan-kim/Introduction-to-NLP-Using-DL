{
 "cells": [
  {
   "cell_type": "markdown",
   "metadata": {
    "colab_type": "text",
    "id": "8Sh2MNQnZ9Ts"
   },
   "source": [
    "# Ch11. 텍스트 분류 (Text Classification)"
   ]
  },
  {
   "cell_type": "markdown",
   "metadata": {
    "colab_type": "text",
    "id": "1xdoGimhaFJv"
   },
   "source": [
    "# v06. 네이버 영화 리뷰 감성 분류하기 (Naver Movie Review Sentiment Analysis)"
   ]
  },
  {
   "cell_type": "markdown",
   "metadata": {
    "colab_type": "text",
    "id": "XVwDeS2GaKvW"
   },
   "source": [
    "- 이번 챕터에서는 영어 데이터가 아닌 한국어/한글 데이터에 대해서 텍스트 분류를 수행해보자.\n",
    "- 방법 자체는 영어 데이터에 대한 텍스트 분류와 크게 달라지지는 않았다.\n",
    "- 다만 다른 점이 있다면 한국어 데이터는 토큰화(tokenization)를 할 때 형태소 분석기를 사용한다는 점이 다르다.\n",
    "- 그 이유에 대해서는 2챕터의 토큰화 챕터를 참고하면 된다."
   ]
  },
  {
   "cell_type": "markdown",
   "metadata": {
    "colab_type": "text",
    "id": "3_GUlb8ibxtr"
   },
   "source": [
    "- 이번에 사용할 데이터는 네이버 영화 리뷰 데이터이다.\n",
    "- 총 200,000개 리뷰로 구성된 데이터로 (앞서 실습한 IMDB 리뷰 데이터와 마찬가지로) 영화 리뷰에 대한 텍스트와 해당 리뷰가 긍정인 경우 1을 부정인 경우 0으로 표시한 레이블로 구성되어져 있다."
   ]
  },
  {
   "cell_type": "markdown",
   "metadata": {
    "colab_type": "text",
    "id": "btLXwqaJb9hS"
   },
   "source": [
    "- 깃허브로부터 해당 데이터를 다운로드 받아 감성 분류를 수행하는 모델을 만들어보자."
   ]
  },
  {
   "cell_type": "markdown",
   "metadata": {
    "colab_type": "text",
    "id": "kK1SYjrecB0S"
   },
   "source": [
    "<br>\n",
    "\n",
    "## 6.1 네이버 영화 리뷰 데이터에 대한 이해와 전처리\n",
    "\n",
    "- [다운로드 링크](https://github.com/e9t/nsmc/)"
   ]
  },
  {
   "cell_type": "code",
   "execution_count": null,
   "metadata": {
    "colab": {},
    "colab_type": "code",
    "id": "D8BwsVDackNg"
   },
   "outputs": [],
   "source": [
    "!pip install konlpy"
   ]
  },
  {
   "cell_type": "code",
   "execution_count": null,
   "metadata": {
    "colab": {},
    "colab_type": "code",
    "id": "MD4M2ZszcJKa"
   },
   "outputs": [],
   "source": [
    "import pandas as pd\n",
    "import urllib.request\n",
    "%matplotlib inline\n",
    "import matplotlib.pyplot as plt\n",
    "import re\n",
    "from konlpy.tag import Okt\n",
    "from tensorflow.keras.preprocessing.text import Tokenizer\n",
    "import numpy as np\n",
    "from tensorflow.keras.preprocessing.sequence import pad_sequences"
   ]
  },
  {
   "cell_type": "markdown",
   "metadata": {
    "colab_type": "text",
    "id": "HA_EwWfRcguC"
   },
   "source": [
    "<br>\n",
    "\n",
    "### 6.1.1 데이터 로드하기"
   ]
  },
  {
   "cell_type": "markdown",
   "metadata": {
    "colab_type": "text",
    "id": "EVeH5hI_ZtuS"
   },
   "source": [
    "#### 6.1.1.1 데이터셋 로드\n",
    "\n",
    "- 위의 링크로부터 훈련 데이터에 해당하는 `ratings_train.txt`와 테스트 데이터에 해당하는 `ratings_test.txt`를 다운로드한다."
   ]
  },
  {
   "cell_type": "code",
   "execution_count": 3,
   "metadata": {
    "colab": {
     "base_uri": "https://localhost:8080/",
     "height": 35
    },
    "colab_type": "code",
    "id": "QpNLZbKucxvq",
    "outputId": "1144b664-ab55-4b7d-e047-1ed2ed998d53"
   },
   "outputs": [
    {
     "data": {
      "text/plain": [
       "('ratings_test.txt', <http.client.HTTPMessage at 0x7f713da6d6a0>)"
      ]
     },
     "execution_count": 3,
     "metadata": {
      "tags": []
     },
     "output_type": "execute_result"
    }
   ],
   "source": [
    "urllib.request.urlretrieve(\"https://raw.githubusercontent.com/e9t/nsmc/master/ratings_train.txt\",\n",
    "                           filename=\"ratings_train.txt\")\n",
    "urllib.request.urlretrieve(\"https://raw.githubusercontent.com/e9t/nsmc/master/ratings_test.txt\",\n",
    "                           filename=\"ratings_test.txt\")"
   ]
  },
  {
   "cell_type": "markdown",
   "metadata": {
    "colab_type": "text",
    "id": "5drxXDeIdAt4"
   },
   "source": [
    "<br>\n",
    "\n",
    "- 또한 Pandas를 이용하여 훈련 데이터는 `train_data`에 테스트 데이터는 `test_data`에 저장한다."
   ]
  },
  {
   "cell_type": "code",
   "execution_count": null,
   "metadata": {
    "colab": {},
    "colab_type": "code",
    "id": "s3W3AE52dJGw"
   },
   "outputs": [],
   "source": [
    "train_data = pd.read_table('ratings_train.txt')\n",
    "test_data = pd.read_table('ratings_test.txt')"
   ]
  },
  {
   "cell_type": "markdown",
   "metadata": {
    "colab_type": "text",
    "id": "Mo1X-oxzdPB5"
   },
   "source": [
    "<br>\n",
    "\n",
    "#### 6.1.1.2 훈련용 데이터셋 크기 확인\n",
    "\n",
    "- `train_data`에 존재하는 영화 리뷰의 개수를 확인해보자."
   ]
  },
  {
   "cell_type": "code",
   "execution_count": 5,
   "metadata": {
    "colab": {
     "base_uri": "https://localhost:8080/",
     "height": 35
    },
    "colab_type": "code",
    "id": "kl9XgLZcSHBg",
    "outputId": "d6bd5582-f3f5-4118-f29d-a5fac7afaab3"
   },
   "outputs": [
    {
     "name": "stdout",
     "output_type": "stream",
     "text": [
      "훈련용 리뷰 개수 :  150000\n"
     ]
    }
   ],
   "source": [
    "print('훈련용 리뷰 개수 : ', len(train_data))"
   ]
  },
  {
   "cell_type": "markdown",
   "metadata": {
    "colab_type": "text",
    "id": "dRz1xZq2SKYA"
   },
   "source": [
    "- `train_data`는 총 150,000개의 리뷰가 존재한다."
   ]
  },
  {
   "cell_type": "markdown",
   "metadata": {
    "colab_type": "text",
    "id": "nHjQXEkCSO2w"
   },
   "source": [
    "<br>\n",
    "\n",
    "#### 6.1.1.3 훈련용 데이터셋 구성 확인\n",
    "\n",
    "- `train_data`는 어떤 형태인 지 상위 5개만 출력해보자."
   ]
  },
  {
   "cell_type": "code",
   "execution_count": 6,
   "metadata": {
    "colab": {
     "base_uri": "https://localhost:8080/",
     "height": 204
    },
    "colab_type": "code",
    "id": "NGmIbhewSW93",
    "outputId": "3403aaaa-583c-4751-a309-2ad91911434e"
   },
   "outputs": [
    {
     "data": {
      "text/html": [
       "<div>\n",
       "<style scoped>\n",
       "    .dataframe tbody tr th:only-of-type {\n",
       "        vertical-align: middle;\n",
       "    }\n",
       "\n",
       "    .dataframe tbody tr th {\n",
       "        vertical-align: top;\n",
       "    }\n",
       "\n",
       "    .dataframe thead th {\n",
       "        text-align: right;\n",
       "    }\n",
       "</style>\n",
       "<table border=\"1\" class=\"dataframe\">\n",
       "  <thead>\n",
       "    <tr style=\"text-align: right;\">\n",
       "      <th></th>\n",
       "      <th>id</th>\n",
       "      <th>document</th>\n",
       "      <th>label</th>\n",
       "    </tr>\n",
       "  </thead>\n",
       "  <tbody>\n",
       "    <tr>\n",
       "      <th>0</th>\n",
       "      <td>9976970</td>\n",
       "      <td>아 더빙.. 진짜 짜증나네요 목소리</td>\n",
       "      <td>0</td>\n",
       "    </tr>\n",
       "    <tr>\n",
       "      <th>1</th>\n",
       "      <td>3819312</td>\n",
       "      <td>흠...포스터보고 초딩영화줄....오버연기조차 가볍지 않구나</td>\n",
       "      <td>1</td>\n",
       "    </tr>\n",
       "    <tr>\n",
       "      <th>2</th>\n",
       "      <td>10265843</td>\n",
       "      <td>너무재밓었다그래서보는것을추천한다</td>\n",
       "      <td>0</td>\n",
       "    </tr>\n",
       "    <tr>\n",
       "      <th>3</th>\n",
       "      <td>9045019</td>\n",
       "      <td>교도소 이야기구먼 ..솔직히 재미는 없다..평점 조정</td>\n",
       "      <td>0</td>\n",
       "    </tr>\n",
       "    <tr>\n",
       "      <th>4</th>\n",
       "      <td>6483659</td>\n",
       "      <td>사이몬페그의 익살스런 연기가 돋보였던 영화!스파이더맨에서 늙어보이기만 했던 커스틴 ...</td>\n",
       "      <td>1</td>\n",
       "    </tr>\n",
       "  </tbody>\n",
       "</table>\n",
       "</div>"
      ],
      "text/plain": [
       "         id                                           document  label\n",
       "0   9976970                                아 더빙.. 진짜 짜증나네요 목소리      0\n",
       "1   3819312                  흠...포스터보고 초딩영화줄....오버연기조차 가볍지 않구나      1\n",
       "2  10265843                                  너무재밓었다그래서보는것을추천한다      0\n",
       "3   9045019                      교도소 이야기구먼 ..솔직히 재미는 없다..평점 조정      0\n",
       "4   6483659  사이몬페그의 익살스런 연기가 돋보였던 영화!스파이더맨에서 늙어보이기만 했던 커스틴 ...      1"
      ]
     },
     "execution_count": 6,
     "metadata": {
      "tags": []
     },
     "output_type": "execute_result"
    }
   ],
   "source": [
    "train_data[:5]"
   ]
  },
  {
   "cell_type": "markdown",
   "metadata": {
    "colab_type": "text",
    "id": "KBqbW1rBSXtP"
   },
   "source": [
    "- 상위 5개의 샘플만 출력해봤는데, 해당 데이터는 `id`, `document`, `label` 총 3개의 열로 구성되어져 있다.\n",
    "- `id`는 감성 분류를 수행하는데 도움이 되지 않으므로 앞으로 무시한다.\n",
    "- 결국 이 모델은 리뷰 내용을 담고 있는 `document`와 해당 리뷰가 긍정(`1`), 부정(`0`)인지를 나타내는 `label` 두 개의 열을 학습하는 모델이 될 것이다."
   ]
  },
  {
   "cell_type": "markdown",
   "metadata": {
    "colab_type": "text",
    "id": "i_u-7VISSy9O"
   },
   "source": [
    "- 여기서 한국어 데이터와 영어 데이터의 차이를 확인할 수 있다.\n",
    "- 예를 들어, 인덱스 2에 해당하는 세번째 샘플은 띄어쓰기를 하지 않아도 글을 쉽게 이해할 수 있는 한국어의 특성으로 인해 띄어쓰기가 전혀 되어 있지 않다."
   ]
  },
  {
   "cell_type": "markdown",
   "metadata": {
    "colab_type": "text",
    "id": "Wp-Tr8cVTA2e"
   },
   "source": [
    "<br>\n",
    "\n",
    "#### 6.1.1.4 테스트용 데이터셋 크기 확인\n",
    "\n",
    "- 이제 `test_data`의 개수와 상위 5개 샘플을 확인해보자."
   ]
  },
  {
   "cell_type": "code",
   "execution_count": 7,
   "metadata": {
    "colab": {
     "base_uri": "https://localhost:8080/",
     "height": 35
    },
    "colab_type": "code",
    "id": "glAvq-CxTEMe",
    "outputId": "719146ff-6c51-4fd5-c776-073e380dd0b3"
   },
   "outputs": [
    {
     "name": "stdout",
     "output_type": "stream",
     "text": [
      "테스트용 리뷰 개수 :  50000\n"
     ]
    }
   ],
   "source": [
    "print('테스트용 리뷰 개수 : ', len(test_data))"
   ]
  },
  {
   "cell_type": "markdown",
   "metadata": {
    "colab_type": "text",
    "id": "aaxwqz42THUb"
   },
   "source": [
    "- `test_data`는 총 50,000개의 영화 리뷰가 존재한다."
   ]
  },
  {
   "cell_type": "markdown",
   "metadata": {
    "colab_type": "text",
    "id": "FKzwZwJPaA_S"
   },
   "source": [
    "<br>\n",
    "\n",
    "#### 6.1.1.5 테스트용 데이터셋 구성 확인"
   ]
  },
  {
   "cell_type": "code",
   "execution_count": 8,
   "metadata": {
    "colab": {
     "base_uri": "https://localhost:8080/",
     "height": 204
    },
    "colab_type": "code",
    "id": "OhYgAXTtTMGl",
    "outputId": "5ae0b59c-2475-4e2c-b5ff-76ea9b84a9ff"
   },
   "outputs": [
    {
     "data": {
      "text/html": [
       "<div>\n",
       "<style scoped>\n",
       "    .dataframe tbody tr th:only-of-type {\n",
       "        vertical-align: middle;\n",
       "    }\n",
       "\n",
       "    .dataframe tbody tr th {\n",
       "        vertical-align: top;\n",
       "    }\n",
       "\n",
       "    .dataframe thead th {\n",
       "        text-align: right;\n",
       "    }\n",
       "</style>\n",
       "<table border=\"1\" class=\"dataframe\">\n",
       "  <thead>\n",
       "    <tr style=\"text-align: right;\">\n",
       "      <th></th>\n",
       "      <th>id</th>\n",
       "      <th>document</th>\n",
       "      <th>label</th>\n",
       "    </tr>\n",
       "  </thead>\n",
       "  <tbody>\n",
       "    <tr>\n",
       "      <th>0</th>\n",
       "      <td>6270596</td>\n",
       "      <td>굳 ㅋ</td>\n",
       "      <td>1</td>\n",
       "    </tr>\n",
       "    <tr>\n",
       "      <th>1</th>\n",
       "      <td>9274899</td>\n",
       "      <td>GDNTOPCLASSINTHECLUB</td>\n",
       "      <td>0</td>\n",
       "    </tr>\n",
       "    <tr>\n",
       "      <th>2</th>\n",
       "      <td>8544678</td>\n",
       "      <td>뭐야 이 평점들은.... 나쁘진 않지만 10점 짜리는 더더욱 아니잖아</td>\n",
       "      <td>0</td>\n",
       "    </tr>\n",
       "    <tr>\n",
       "      <th>3</th>\n",
       "      <td>6825595</td>\n",
       "      <td>지루하지는 않은데 완전 막장임... 돈주고 보기에는....</td>\n",
       "      <td>0</td>\n",
       "    </tr>\n",
       "    <tr>\n",
       "      <th>4</th>\n",
       "      <td>6723715</td>\n",
       "      <td>3D만 아니었어도 별 다섯 개 줬을텐데.. 왜 3D로 나와서 제 심기를 불편하게 하죠??</td>\n",
       "      <td>0</td>\n",
       "    </tr>\n",
       "  </tbody>\n",
       "</table>\n",
       "</div>"
      ],
      "text/plain": [
       "        id                                           document  label\n",
       "0  6270596                                                굳 ㅋ      1\n",
       "1  9274899                               GDNTOPCLASSINTHECLUB      0\n",
       "2  8544678             뭐야 이 평점들은.... 나쁘진 않지만 10점 짜리는 더더욱 아니잖아      0\n",
       "3  6825595                   지루하지는 않은데 완전 막장임... 돈주고 보기에는....      0\n",
       "4  6723715  3D만 아니었어도 별 다섯 개 줬을텐데.. 왜 3D로 나와서 제 심기를 불편하게 하죠??      0"
      ]
     },
     "execution_count": 8,
     "metadata": {
      "tags": []
     },
     "output_type": "execute_result"
    }
   ],
   "source": [
    "test_data[:5]"
   ]
  },
  {
   "cell_type": "markdown",
   "metadata": {
    "colab_type": "text",
    "id": "0l55xiHzTOsm"
   },
   "source": [
    "- `test_data`도 `train_data`와 동일한 형식으로 `id`, `document`, `label` 3개의 열로 구성되어 있다.\n",
    "- `train_data`에 대한 전처리 과정을 정하고 나면, `test_data`에도 동일한 전처리 과정을 적용하면 될 것 같다."
   ]
  },
  {
   "cell_type": "markdown",
   "metadata": {
    "colab_type": "text",
    "id": "SqIuMIbTTaG1"
   },
   "source": [
    "<br>\n",
    "\n",
    "### 6.1.2 데이터 정제하기\n",
    "\n",
    "- 다시 `train_data`로 돌아가보자."
   ]
  },
  {
   "cell_type": "markdown",
   "metadata": {
    "colab_type": "text",
    "id": "xSCE3OmcTfQH"
   },
   "source": [
    "<br>\n",
    "\n",
    "#### 6.1.2.1 중복 데이터 확인 및 제거\n",
    "\n",
    "- 먼저 `train_data`에 중복된 데이터가 있는 지 확인해보자."
   ]
  },
  {
   "cell_type": "code",
   "execution_count": 9,
   "metadata": {
    "colab": {
     "base_uri": "https://localhost:8080/",
     "height": 35
    },
    "colab_type": "code",
    "id": "m2fy9oWkTlZH",
    "outputId": "de6dca06-42c2-40cd-b679-ae9adb0a5205"
   },
   "outputs": [
    {
     "data": {
      "text/plain": [
       "(146182, 2)"
      ]
     },
     "execution_count": 9,
     "metadata": {
      "tags": []
     },
     "output_type": "execute_result"
    }
   ],
   "source": [
    "train_data['document'].nunique(), train_data['label'].nunique()"
   ]
  },
  {
   "cell_type": "markdown",
   "metadata": {
    "colab_type": "text",
    "id": "oJIoIL76UMrV"
   },
   "source": [
    "- 총 150,000개의 샘플이 존재하는 데 `document`열에서 중복을 제거한 샘플의 수가 146,182개라는 것은 약 4,000개의 중복 샘플이 존재한다는 의미이다.\n",
    "- `label` 열은 0 또는 1의 값만을 가지므로 2가 출력되었다."
   ]
  },
  {
   "cell_type": "markdown",
   "metadata": {
    "colab_type": "text",
    "id": "VVPWdgf2UbJU"
   },
   "source": [
    "- 중복 샘플을 제거해보자."
   ]
  },
  {
   "cell_type": "code",
   "execution_count": null,
   "metadata": {
    "colab": {},
    "colab_type": "code",
    "id": "YhXeuAXYUcgj"
   },
   "outputs": [],
   "source": [
    "train_data.drop_duplicates(subset=['document'], inplace=True)"
   ]
  },
  {
   "cell_type": "markdown",
   "metadata": {
    "colab_type": "text",
    "id": "AcZ4a2uUUg30"
   },
   "source": [
    "- 정말 중복 샘플이 제거되었는 지 전체 샘플 수를 확인해보자."
   ]
  },
  {
   "cell_type": "code",
   "execution_count": 11,
   "metadata": {
    "colab": {
     "base_uri": "https://localhost:8080/",
     "height": 35
    },
    "colab_type": "code",
    "id": "OAlx2_WAZik6",
    "outputId": "e6af7ad2-d83b-414f-d8e0-e323e593ef70"
   },
   "outputs": [
    {
     "name": "stdout",
     "output_type": "stream",
     "text": [
      "총 샘플의 수 :  146183\n"
     ]
    }
   ],
   "source": [
    "print('총 샘플의 수 : ', len(train_data))"
   ]
  },
  {
   "cell_type": "markdown",
   "metadata": {
    "colab_type": "text",
    "id": "AF6mZv7jZk9b"
   },
   "source": [
    "- 중복 샘플이 제거되었다."
   ]
  },
  {
   "cell_type": "markdown",
   "metadata": {
    "colab_type": "text",
    "id": "v225MqOdZpra"
   },
   "source": [
    "<br>\n",
    "\n",
    "#### 6.1.2.2 레이블 값의 분포 확인\n",
    "\n",
    "- `train_data`에서 해당 리뷰의 긍, 부정 유무가 기재되어 있는 레이블(label)값의 분포를 확인해보자."
   ]
  },
  {
   "cell_type": "code",
   "execution_count": 12,
   "metadata": {
    "colab": {
     "base_uri": "https://localhost:8080/",
     "height": 280
    },
    "colab_type": "code",
    "id": "0GXOOezGaU-g",
    "outputId": "8ce97aaa-a274-4e82-e82e-91123aea56a9"
   },
   "outputs": [
    {
     "data": {
      "text/plain": [
       "<matplotlib.axes._subplots.AxesSubplot at 0x7f70b572c780>"
      ]
     },
     "execution_count": 12,
     "metadata": {
      "tags": []
     },
     "output_type": "execute_result"
    },
    {
     "data": {
      "image/png": "[encoded data removed]",
      "text/plain": [
       "<Figure size 432x288 with 1 Axes>"
      ]
     },
     "metadata": {
      "tags": []
     },
     "output_type": "display_data"
    }
   ],
   "source": [
    "train_data['label'].value_counts().plot(kind='bar')"
   ]
  },
  {
   "cell_type": "markdown",
   "metadata": {
    "colab_type": "text",
    "id": "NZyBTZw1aZJJ"
   },
   "source": [
    "- 약 146,000개의 영화 리뷰 샘플이 존재하는 데 그래프 상으로 긍정과 부정 둘 다 약 72,000개의 샘플이 존재하여 레이블의 분포가 균일한 것처럼 보인다."
   ]
  },
  {
   "cell_type": "markdown",
   "metadata": {
    "colab_type": "text",
    "id": "8nQ_vzOrajjo"
   },
   "source": [
    "- 정확하게 몇 개인 지 확인하고 싶다면 아래의 코드를 수행하면 된다."
   ]
  },
  {
   "cell_type": "code",
   "execution_count": 13,
   "metadata": {
    "colab": {
     "base_uri": "https://localhost:8080/",
     "height": 71
    },
    "colab_type": "code",
    "id": "xGhxdfZYamog",
    "outputId": "6d8c5e62-1418-40d3-ed5b-a5eb0e5b71ee"
   },
   "outputs": [
    {
     "name": "stdout",
     "output_type": "stream",
     "text": [
      "   label  count\n",
      "0      0  73342\n",
      "1      1  72841\n"
     ]
    }
   ],
   "source": [
    "print(train_data.groupby('label').size().reset_index(name='count'))"
   ]
  },
  {
   "cell_type": "markdown",
   "metadata": {
    "colab_type": "text",
    "id": "n4U2nAQaaq8B"
   },
   "source": [
    "- 레이블이 0인 리뷰가 근소하게 많다."
   ]
  },
  {
   "cell_type": "markdown",
   "metadata": {
    "colab_type": "text",
    "id": "cWE-PND9avFo"
   },
   "source": [
    "<br>\n",
    "\n",
    "#### 6.1.2.3 결측값 확인 및 제거\n",
    "\n",
    "- 리뷰 중에 Null 값을 가진 샘플이 있는 지는 Pandas의 `isnull().values.any()`로 확인해보자."
   ]
  },
  {
   "cell_type": "code",
   "execution_count": 14,
   "metadata": {
    "colab": {
     "base_uri": "https://localhost:8080/",
     "height": 35
    },
    "colab_type": "code",
    "id": "Qqmq7cgjax86",
    "outputId": "561c4a6a-73bb-487d-a560-154d4c9bec3d"
   },
   "outputs": [
    {
     "name": "stdout",
     "output_type": "stream",
     "text": [
      "True\n"
     ]
    }
   ],
   "source": [
    "print(train_data.isnull().values.any())"
   ]
  },
  {
   "cell_type": "markdown",
   "metadata": {
    "colab_type": "text",
    "id": "v28wTTkWa7mw"
   },
   "source": [
    "- `True`가 나왔다면 데이터 중에 Null 값을 가진 샘플이 존재한다는 의미이다."
   ]
  },
  {
   "cell_type": "markdown",
   "metadata": {
    "colab_type": "text",
    "id": "lUxvRU8tbD3f"
   },
   "source": [
    "- 어떤 열에 존재하는 지 확인해보자."
   ]
  },
  {
   "cell_type": "code",
   "execution_count": 15,
   "metadata": {
    "colab": {
     "base_uri": "https://localhost:8080/",
     "height": 89
    },
    "colab_type": "code",
    "id": "QsuNgtyTckgl",
    "outputId": "9b7aef88-c83f-4b6b-88f8-3cf574eb455f"
   },
   "outputs": [
    {
     "name": "stdout",
     "output_type": "stream",
     "text": [
      "id          0\n",
      "document    1\n",
      "label       0\n",
      "dtype: int64\n"
     ]
    }
   ],
   "source": [
    "print(train_data.isnull().sum())"
   ]
  },
  {
   "cell_type": "markdown",
   "metadata": {
    "colab_type": "text",
    "id": "FDTQN-PWcmbl"
   },
   "source": [
    "- 리뷰가 적혀있는 `document` 열에서 Null 값을 가진 샘플이 총 1개가 존재한다고 한다.\n",
    "- 그렇다면 `document` 열에서 Null 값이 존재한다는 것을 조건으로 Null 값을 가진 샘플이 어느 인덱스의 위치에 존재하는 지 한번 출력해보자."
   ]
  },
  {
   "cell_type": "code",
   "execution_count": 16,
   "metadata": {
    "colab": {
     "base_uri": "https://localhost:8080/",
     "height": 80
    },
    "colab_type": "code",
    "id": "-5Gw4KSOc0-c",
    "outputId": "9d1c6f44-8aae-4695-b1d6-41cfbf57fdbf"
   },
   "outputs": [
    {
     "data": {
      "text/html": [
       "<div>\n",
       "<style scoped>\n",
       "    .dataframe tbody tr th:only-of-type {\n",
       "        vertical-align: middle;\n",
       "    }\n",
       "\n",
       "    .dataframe tbody tr th {\n",
       "        vertical-align: top;\n",
       "    }\n",
       "\n",
       "    .dataframe thead th {\n",
       "        text-align: right;\n",
       "    }\n",
       "</style>\n",
       "<table border=\"1\" class=\"dataframe\">\n",
       "  <thead>\n",
       "    <tr style=\"text-align: right;\">\n",
       "      <th></th>\n",
       "      <th>id</th>\n",
       "      <th>document</th>\n",
       "      <th>label</th>\n",
       "    </tr>\n",
       "  </thead>\n",
       "  <tbody>\n",
       "    <tr>\n",
       "      <th>25857</th>\n",
       "      <td>2172111</td>\n",
       "      <td>NaN</td>\n",
       "      <td>1</td>\n",
       "    </tr>\n",
       "  </tbody>\n",
       "</table>\n",
       "</div>"
      ],
      "text/plain": [
       "            id document  label\n",
       "25857  2172111      NaN      1"
      ]
     },
     "execution_count": 16,
     "metadata": {
      "tags": []
     },
     "output_type": "execute_result"
    }
   ],
   "source": [
    "train_data.loc[train_data.document.isnull()]"
   ]
  },
  {
   "cell_type": "markdown",
   "metadata": {
    "colab_type": "text",
    "id": "Xd9Gwt83c4ot"
   },
   "source": [
    "- Null 값을 가진 샘플을 제거해보자."
   ]
  },
  {
   "cell_type": "code",
   "execution_count": 17,
   "metadata": {
    "colab": {
     "base_uri": "https://localhost:8080/",
     "height": 35
    },
    "colab_type": "code",
    "id": "1iyUw-cJc8Yk",
    "outputId": "66c44581-eff1-4955-cd15-f241b9e645c3"
   },
   "outputs": [
    {
     "name": "stdout",
     "output_type": "stream",
     "text": [
      "False\n"
     ]
    }
   ],
   "source": [
    "train_data = train_data.dropna(how = 'any')\n",
    "print(train_data.isnull().values.any())"
   ]
  },
  {
   "cell_type": "markdown",
   "metadata": {
    "colab_type": "text",
    "id": "k8NvpdD8dClk"
   },
   "source": [
    "- Null 값을 가진 샘플이 제거되었다."
   ]
  },
  {
   "cell_type": "markdown",
   "metadata": {
    "colab_type": "text",
    "id": "AcZT0aARdFek"
   },
   "source": [
    "- 다시 샘플의 개수를 출력하여 1개의 샘플이 제거되었는 지 확인해보자."
   ]
  },
  {
   "cell_type": "code",
   "execution_count": 18,
   "metadata": {
    "colab": {
     "base_uri": "https://localhost:8080/",
     "height": 35
    },
    "colab_type": "code",
    "id": "oePLrg9bmXsW",
    "outputId": "13a586a4-19d6-4389-ebc2-e282d2e794c5"
   },
   "outputs": [
    {
     "name": "stdout",
     "output_type": "stream",
     "text": [
      "146182\n"
     ]
    }
   ],
   "source": [
    "print(len(train_data))"
   ]
  },
  {
   "cell_type": "markdown",
   "metadata": {
    "colab_type": "text",
    "id": "KKHbokWlmZi0"
   },
   "source": [
    "<br>\n",
    "\n",
    "#### 6.1.2.4 정규 표현식 활용 데이터 전처리\n",
    "\n",
    "- 이제 데이터의 전처리를 수행해보자.\n",
    "- 위의 `train_data`와 `test_data`에서 온점(.)이나 물음표(?)와 같은 각종 특수문자가 사용된 것을 확인했다.\n",
    "- `train_data`로부터 한글만 남기고 제거하기 위해서 정규 표현식을 사용해보자."
   ]
  },
  {
   "cell_type": "markdown",
   "metadata": {
    "colab_type": "text",
    "id": "KGpiV1Bfmsqa"
   },
   "source": [
    "- 우선 한글이 아니라 영어의 경우를 상기해보자.\n",
    "- 영어의 알파벳들을 나타내는 정규 표현식은 `[a-zA-Z]`이다.\n",
    "- 이 정규 표현식은 영어의 소문자와 대문자들을 모두 포함하고 있는 정규 표현식이다.\n",
    "- 이를 응용하면 영어에 속하지 않는 구두점이나 특수 문자를 제거할 수 있다.\n",
    "- 예를 들어 알파벳과 공백을 제외하고 모두 제거하는 전처리를 수행하는 예제는 다음과 같다."
   ]
  },
  {
   "cell_type": "code",
   "execution_count": 19,
   "metadata": {
    "colab": {
     "base_uri": "https://localhost:8080/",
     "height": 35
    },
    "colab_type": "code",
    "id": "I-4AS2ZNAMHQ",
    "outputId": "37257efe-544d-44ad-9ec6-6d3bee0e9ed6"
   },
   "outputs": [
    {
     "data": {
      "text/plain": [
       "'do you expect people to read the FAQ etc and actually accept hard atheism'"
      ]
     },
     "execution_count": 19,
     "metadata": {
      "tags": []
     },
     "output_type": "execute_result"
    }
   ],
   "source": [
    "text = 'do!!! you expect... people~ to~ read~ the FAQ, etc. and actually accept hard~! atheism?@@'\n",
    "\n",
    "re.sub(r'[^a-zA-Z ]', '', text)"
   ]
  },
  {
   "cell_type": "markdown",
   "metadata": {
    "colab_type": "text",
    "id": "Y0KcwoHdAQ3_"
   },
   "source": [
    "<br>\n",
    "\n",
    "- 위와 같은 원리를 한국어 데이터에 적용하고 싶다면, 우선 한글을 범위 지정할 수 있는 정규 표현식을 찾아내면 된다.\n",
    "- 우선 자음과 모음의 대한 범위를 지정해보자.\n",
    "- 일반적으로 자음의 범위는 `ㄱ ~ ㅎ`, 모음의 범위는 `ㅏ ~ ㅣ`와 같이 지정할 수 있다.\n",
    "- 해당 범위 내에 어떤 자음과 모음이 속하는 지 알고 싶다면 [해당 링크](https://www.unicode.org/charts/PDF/U3130.pdf)를 참고하면 된다.\n",
    "  - `ㄱ ~ ㅎ` : `3131` ~ `314E`\n",
    "  - `ㅏ ~ ㅣ` : `314F` ~ `3163`"
   ]
  },
  {
   "cell_type": "markdown",
   "metadata": {
    "colab_type": "text",
    "id": "kCNADWqOA1yM"
   },
   "source": [
    "- 또한 완성형 한글의 범위는 `가 ~ 힣`과 같이 사용한다.\n",
    "- 해당 범위 내에 포함된 음절들은 [해당 링크](https://www.unicode.org/charts/PDF/UAC00.pdf)에서 확인할 수 있다."
   ]
  },
  {
   "cell_type": "markdown",
   "metadata": {
    "colab_type": "text",
    "id": "w2WCGLh2A_Pi"
   },
   "source": [
    "<br>\n",
    "\n",
    "- 위의 범위 지정을 모두 반영하여 `train_data`에 한글과 공백을 제외하고 모두 제거하는 정규 표현식을 수행해보자."
   ]
  },
  {
   "cell_type": "code",
   "execution_count": 20,
   "metadata": {
    "colab": {
     "base_uri": "https://localhost:8080/",
     "height": 204
    },
    "colab_type": "code",
    "id": "C9xboxbjBI-a",
    "outputId": "09bd032b-e146-43d0-d925-e251dab27fef"
   },
   "outputs": [
    {
     "data": {
      "text/html": [
       "<div>\n",
       "<style scoped>\n",
       "    .dataframe tbody tr th:only-of-type {\n",
       "        vertical-align: middle;\n",
       "    }\n",
       "\n",
       "    .dataframe tbody tr th {\n",
       "        vertical-align: top;\n",
       "    }\n",
       "\n",
       "    .dataframe thead th {\n",
       "        text-align: right;\n",
       "    }\n",
       "</style>\n",
       "<table border=\"1\" class=\"dataframe\">\n",
       "  <thead>\n",
       "    <tr style=\"text-align: right;\">\n",
       "      <th></th>\n",
       "      <th>id</th>\n",
       "      <th>document</th>\n",
       "      <th>label</th>\n",
       "    </tr>\n",
       "  </thead>\n",
       "  <tbody>\n",
       "    <tr>\n",
       "      <th>0</th>\n",
       "      <td>9976970</td>\n",
       "      <td>아 더빙.. 진짜 짜증나네요 목소리</td>\n",
       "      <td>0</td>\n",
       "    </tr>\n",
       "    <tr>\n",
       "      <th>1</th>\n",
       "      <td>3819312</td>\n",
       "      <td>흠...포스터보고 초딩영화줄....오버연기조차 가볍지 않구나</td>\n",
       "      <td>1</td>\n",
       "    </tr>\n",
       "    <tr>\n",
       "      <th>2</th>\n",
       "      <td>10265843</td>\n",
       "      <td>너무재밓었다그래서보는것을추천한다</td>\n",
       "      <td>0</td>\n",
       "    </tr>\n",
       "    <tr>\n",
       "      <th>3</th>\n",
       "      <td>9045019</td>\n",
       "      <td>교도소 이야기구먼 ..솔직히 재미는 없다..평점 조정</td>\n",
       "      <td>0</td>\n",
       "    </tr>\n",
       "    <tr>\n",
       "      <th>4</th>\n",
       "      <td>6483659</td>\n",
       "      <td>사이몬페그의 익살스런 연기가 돋보였던 영화!스파이더맨에서 늙어보이기만 했던 커스틴 ...</td>\n",
       "      <td>1</td>\n",
       "    </tr>\n",
       "  </tbody>\n",
       "</table>\n",
       "</div>"
      ],
      "text/plain": [
       "         id                                           document  label\n",
       "0   9976970                                아 더빙.. 진짜 짜증나네요 목소리      0\n",
       "1   3819312                  흠...포스터보고 초딩영화줄....오버연기조차 가볍지 않구나      1\n",
       "2  10265843                                  너무재밓었다그래서보는것을추천한다      0\n",
       "3   9045019                      교도소 이야기구먼 ..솔직히 재미는 없다..평점 조정      0\n",
       "4   6483659  사이몬페그의 익살스런 연기가 돋보였던 영화!스파이더맨에서 늙어보이기만 했던 커스틴 ...      1"
      ]
     },
     "execution_count": 20,
     "metadata": {
      "tags": []
     },
     "output_type": "execute_result"
    }
   ],
   "source": [
    "train_data[:5]"
   ]
  },
  {
   "cell_type": "code",
   "execution_count": null,
   "metadata": {
    "colab": {},
    "colab_type": "code",
    "id": "eHmXHkRkBJ3r"
   },
   "outputs": [],
   "source": [
    "# 한글과 공백을 제외하고 모두 제거\n",
    "train_data['document'] = train_data['document'].str.replace(\"[^ㄱ-ㅎㅏ-ㅣ가-힣 ]\", \"\")"
   ]
  },
  {
   "cell_type": "code",
   "execution_count": 22,
   "metadata": {
    "colab": {
     "base_uri": "https://localhost:8080/",
     "height": 204
    },
    "colab_type": "code",
    "id": "ScihYdZRBX9d",
    "outputId": "63e63a41-8d77-4371-f830-c4559367c0eb"
   },
   "outputs": [
    {
     "data": {
      "text/html": [
       "<div>\n",
       "<style scoped>\n",
       "    .dataframe tbody tr th:only-of-type {\n",
       "        vertical-align: middle;\n",
       "    }\n",
       "\n",
       "    .dataframe tbody tr th {\n",
       "        vertical-align: top;\n",
       "    }\n",
       "\n",
       "    .dataframe thead th {\n",
       "        text-align: right;\n",
       "    }\n",
       "</style>\n",
       "<table border=\"1\" class=\"dataframe\">\n",
       "  <thead>\n",
       "    <tr style=\"text-align: right;\">\n",
       "      <th></th>\n",
       "      <th>id</th>\n",
       "      <th>document</th>\n",
       "      <th>label</th>\n",
       "    </tr>\n",
       "  </thead>\n",
       "  <tbody>\n",
       "    <tr>\n",
       "      <th>0</th>\n",
       "      <td>9976970</td>\n",
       "      <td>아 더빙 진짜 짜증나네요 목소리</td>\n",
       "      <td>0</td>\n",
       "    </tr>\n",
       "    <tr>\n",
       "      <th>1</th>\n",
       "      <td>3819312</td>\n",
       "      <td>흠포스터보고 초딩영화줄오버연기조차 가볍지 않구나</td>\n",
       "      <td>1</td>\n",
       "    </tr>\n",
       "    <tr>\n",
       "      <th>2</th>\n",
       "      <td>10265843</td>\n",
       "      <td>너무재밓었다그래서보는것을추천한다</td>\n",
       "      <td>0</td>\n",
       "    </tr>\n",
       "    <tr>\n",
       "      <th>3</th>\n",
       "      <td>9045019</td>\n",
       "      <td>교도소 이야기구먼 솔직히 재미는 없다평점 조정</td>\n",
       "      <td>0</td>\n",
       "    </tr>\n",
       "    <tr>\n",
       "      <th>4</th>\n",
       "      <td>6483659</td>\n",
       "      <td>사이몬페그의 익살스런 연기가 돋보였던 영화스파이더맨에서 늙어보이기만 했던 커스틴 던...</td>\n",
       "      <td>1</td>\n",
       "    </tr>\n",
       "  </tbody>\n",
       "</table>\n",
       "</div>"
      ],
      "text/plain": [
       "         id                                           document  label\n",
       "0   9976970                                  아 더빙 진짜 짜증나네요 목소리      0\n",
       "1   3819312                         흠포스터보고 초딩영화줄오버연기조차 가볍지 않구나      1\n",
       "2  10265843                                  너무재밓었다그래서보는것을추천한다      0\n",
       "3   9045019                          교도소 이야기구먼 솔직히 재미는 없다평점 조정      0\n",
       "4   6483659  사이몬페그의 익살스런 연기가 돋보였던 영화스파이더맨에서 늙어보이기만 했던 커스틴 던...      1"
      ]
     },
     "execution_count": 22,
     "metadata": {
      "tags": []
     },
     "output_type": "execute_result"
    }
   ],
   "source": [
    "train_data[:5]"
   ]
  },
  {
   "cell_type": "markdown",
   "metadata": {
    "colab_type": "text",
    "id": "LlQsOGHJBZR6"
   },
   "source": [
    "- 상위 5개의 샘플을 다시 출력해보았는데, 정규 표현식을 수행하자 기존의 공백. 즉, 띄어쓰기는 유지되면서 온점과 같은 구두점 등은 제거되었다.\n",
    "- 그런데 사실 네이버 영화 리뷰는 굳이 한글이 아니라 영어, 숫자, 특수문자로도 리뷰를 업로드할 수 있다.\n",
    "- 다시 말해 기존에 한글이 없는 리뷰였다면 이제 더 이상 아무런 값도 없는 빈(empty)값이 되었을 것이다."
   ]
  },
  {
   "cell_type": "markdown",
   "metadata": {
    "colab_type": "text",
    "id": "hqZrFv8dB2Dg"
   },
   "source": [
    "- `train_data`에 빈 값을 가진 행이 있다면 Null 값으로 변경하도록 하고, 다시 한번 Null 값이 존재하는 지 확인해보자."
   ]
  },
  {
   "cell_type": "code",
   "execution_count": 23,
   "metadata": {
    "colab": {
     "base_uri": "https://localhost:8080/",
     "height": 35
    },
    "colab_type": "code",
    "id": "crighg-JB7-g",
    "outputId": "dfc15c2d-53ab-4579-d9e7-650c4b3eaf92"
   },
   "outputs": [
    {
     "name": "stdout",
     "output_type": "stream",
     "text": [
      "391\n"
     ]
    }
   ],
   "source": [
    "train_data['document'].replace('', np.nan, inplace=True)\n",
    "print(train_data['document'].isnull().sum())"
   ]
  },
  {
   "cell_type": "markdown",
   "metadata": {
    "colab_type": "text",
    "id": "-SvjnxfICDga"
   },
   "source": [
    "- Null 값이 391개나 새로 생겼다."
   ]
  },
  {
   "cell_type": "markdown",
   "metadata": {
    "colab_type": "text",
    "id": "aUXGDEVQCIJY"
   },
   "source": [
    "- Null 값이 있는 행을 5개만 출력해보자."
   ]
  },
  {
   "cell_type": "code",
   "execution_count": 24,
   "metadata": {
    "colab": {
     "base_uri": "https://localhost:8080/",
     "height": 204
    },
    "colab_type": "code",
    "id": "rH2SPzhmCKYI",
    "outputId": "8c835969-3998-4e10-b80b-15ffcf2d745d"
   },
   "outputs": [
    {
     "data": {
      "text/html": [
       "<div>\n",
       "<style scoped>\n",
       "    .dataframe tbody tr th:only-of-type {\n",
       "        vertical-align: middle;\n",
       "    }\n",
       "\n",
       "    .dataframe tbody tr th {\n",
       "        vertical-align: top;\n",
       "    }\n",
       "\n",
       "    .dataframe thead th {\n",
       "        text-align: right;\n",
       "    }\n",
       "</style>\n",
       "<table border=\"1\" class=\"dataframe\">\n",
       "  <thead>\n",
       "    <tr style=\"text-align: right;\">\n",
       "      <th></th>\n",
       "      <th>id</th>\n",
       "      <th>document</th>\n",
       "      <th>label</th>\n",
       "    </tr>\n",
       "  </thead>\n",
       "  <tbody>\n",
       "    <tr>\n",
       "      <th>584</th>\n",
       "      <td>7117896</td>\n",
       "      <td>NaN</td>\n",
       "      <td>0</td>\n",
       "    </tr>\n",
       "    <tr>\n",
       "      <th>593</th>\n",
       "      <td>6478189</td>\n",
       "      <td>NaN</td>\n",
       "      <td>0</td>\n",
       "    </tr>\n",
       "    <tr>\n",
       "      <th>638</th>\n",
       "      <td>9364602</td>\n",
       "      <td>NaN</td>\n",
       "      <td>0</td>\n",
       "    </tr>\n",
       "    <tr>\n",
       "      <th>668</th>\n",
       "      <td>1600635</td>\n",
       "      <td>NaN</td>\n",
       "      <td>0</td>\n",
       "    </tr>\n",
       "    <tr>\n",
       "      <th>1559</th>\n",
       "      <td>6918082</td>\n",
       "      <td>NaN</td>\n",
       "      <td>1</td>\n",
       "    </tr>\n",
       "  </tbody>\n",
       "</table>\n",
       "</div>"
      ],
      "text/plain": [
       "           id document  label\n",
       "584   7117896      NaN      0\n",
       "593   6478189      NaN      0\n",
       "638   9364602      NaN      0\n",
       "668   1600635      NaN      0\n",
       "1559  6918082      NaN      1"
      ]
     },
     "execution_count": 24,
     "metadata": {
      "tags": []
     },
     "output_type": "execute_result"
    }
   ],
   "source": [
    "train_data.loc[train_data['document'].isnull()][:5]"
   ]
  },
  {
   "cell_type": "markdown",
   "metadata": {
    "colab_type": "text",
    "id": "maEHz8IKCOZR"
   },
   "source": [
    "- Null 샘플들은 레이블이 긍정일 수도 있고, 부정일 수도 있다.\n",
    "- 사실 아무런 의미도 없는 데이터므로 제거해준다."
   ]
  },
  {
   "cell_type": "code",
   "execution_count": 25,
   "metadata": {
    "colab": {
     "base_uri": "https://localhost:8080/",
     "height": 35
    },
    "colab_type": "code",
    "id": "s4RjZR7iCVdw",
    "outputId": "bcdaca94-1783-4153-935f-152159deb0ba"
   },
   "outputs": [
    {
     "name": "stdout",
     "output_type": "stream",
     "text": [
      "145791\n"
     ]
    }
   ],
   "source": [
    "train_data = train_data.dropna(how = 'any')\n",
    "print(len(train_data))"
   ]
  },
  {
   "cell_type": "markdown",
   "metadata": {
    "colab_type": "text",
    "id": "DNl_Lie4CZg_"
   },
   "source": [
    "- 샘플 개수가 또 다시 줄어서 이제 145,791개가 남았다."
   ]
  },
  {
   "cell_type": "markdown",
   "metadata": {
    "colab_type": "text",
    "id": "4LX6qvhVChMn"
   },
   "source": [
    "<br>\n",
    "\n",
    "#### 6.1.2.5 테스트 데이터 전처리\n",
    "\n",
    "- 테스트 데이터에 지금까지 진행했던 전처리 과정들을 동일하게 진행한다."
   ]
  },
  {
   "cell_type": "code",
   "execution_count": 26,
   "metadata": {
    "colab": {
     "base_uri": "https://localhost:8080/",
     "height": 35
    },
    "colab_type": "code",
    "id": "BZPQ6NFaCs5z",
    "outputId": "7967fa16-e999-478d-84cf-f6e89782378a"
   },
   "outputs": [
    {
     "name": "stdout",
     "output_type": "stream",
     "text": [
      "전처리 후 테스트용 샘플의 개수 :  48995\n"
     ]
    }
   ],
   "source": [
    "# document 열에서 중복인 내용이 있다면 중복 제거\n",
    "test_data.drop_duplicates(subset=['document'], inplace=True)\n",
    "\n",
    "# 정규 표현식 수행\n",
    "test_data['document'] = test_data['document'].str.replace(\"[^ㄱ-ㅎㅏ-ㅣ가-힣 ]\", \"\")\n",
    "\n",
    "# 공백은 Null 값으로 변경\n",
    "test_data['document'].replace('', np.nan, inplace=True)\n",
    "\n",
    "# Null 값 제거\n",
    "test_data = test_data.dropna(how='any')\n",
    "\n",
    "print('전처리 후 테스트용 샘플의 개수 : ', len(test_data))"
   ]
  },
  {
   "cell_type": "markdown",
   "metadata": {
    "colab_type": "text",
    "id": "PALgZjbYDHRJ"
   },
   "source": [
    "<br>\n",
    "\n",
    "### 6.1.3 토큰화\n",
    "\n",
    "- 이제 토큰화를 해보자."
   ]
  },
  {
   "cell_type": "markdown",
   "metadata": {
    "colab_type": "text",
    "id": "kxWKWjacDevA"
   },
   "source": [
    "<br>\n",
    "\n",
    "#### 6.1.3.1 불용어 정의\n",
    "\n",
    "- 토큰화 과정에서 불용어를 제거한다.\n",
    "- 불용어는 정의하기 나름이지만, 한국어의 조사, 접속사 등의 보편적인 불용어를 사용할 수 있다.\n",
    "- 하지만 결국 풀고자 하는 문제의 데이터를 지속적으로 검토하면서 계속해서 추가하는 경우 또한 많다.\n",
    "- 실제 현업인 상황이라면 일반적으로 아래의 불용어보다 더 많은 불용어를 사용하기도 한다."
   ]
  },
  {
   "cell_type": "code",
   "execution_count": null,
   "metadata": {
    "colab": {},
    "colab_type": "code",
    "id": "N-VjimyFDbWJ"
   },
   "outputs": [],
   "source": [
    "stopwords = ['의','가','이','은','들','는','좀','잘','걍','과','도','를','으로','자','에','와','한','하다']"
   ]
  },
  {
   "cell_type": "markdown",
   "metadata": {
    "colab_type": "text",
    "id": "yM4ffLfCDhe2"
   },
   "source": [
    "- 여기서는 위 정도로만 불용어를 정의한다."
   ]
  },
  {
   "cell_type": "markdown",
   "metadata": {
    "colab_type": "text",
    "id": "QjITPWA3DmW9"
   },
   "source": [
    "<br>\n",
    "\n",
    "#### 6.1.3.2 형태소 분석기 `Okt`\n",
    "\n",
    "- 토큰화를 위한 형태소 분석기는 KoNLPy의 `Okt`를 사용한다.\n",
    "- 잠시 `Okt`를 복습해보자."
   ]
  },
  {
   "cell_type": "code",
   "execution_count": 28,
   "metadata": {
    "colab": {
     "base_uri": "https://localhost:8080/",
     "height": 35
    },
    "colab_type": "code",
    "id": "X2BPxCU-DwXl",
    "outputId": "b040adb4-1057-4988-fe3b-588241aeb7c0"
   },
   "outputs": [
    {
     "data": {
      "text/plain": [
       "['오다', '이렇다', '것', '도', '영화', '라고', '차라리', '뮤직비디오', '를', '만들다', '게', '나다', '뻔']"
      ]
     },
     "execution_count": 28,
     "metadata": {
      "tags": []
     },
     "output_type": "execute_result"
    }
   ],
   "source": [
    "okt = Okt()\n",
    "okt.morphs('와 이런 것도 영화라고 차라리 뮤직비디오를 만드는 게 나을 뻔',\n",
    "           stem=True)"
   ]
  },
  {
   "cell_type": "markdown",
   "metadata": {
    "colab_type": "text",
    "id": "DpqW-e84D1-2"
   },
   "source": [
    "- `Okt`는 위와 같이 KoNLPy에서 제공하는 형태소 분석기이다.\n",
    "- 한국어를 토큰화할 때는 영어처럼 띄어쓰기 기준으로 토큰화를 하는 것이 아니라, 주로 형태소 분석기를 사용한다.\n",
    "- `stem=True`를 사용하면 일정 수준의 정규화를 수행해준다.\n",
    "  - 예를 들어 위의 예제의 결과를 보면 '이런'이 '이렇다'로 변환됨\n",
    "  - '만드는'이 '만들다'로 변환됨"
   ]
  },
  {
   "cell_type": "markdown",
   "metadata": {
    "colab_type": "text",
    "id": "pNShjUdhERV9"
   },
   "source": [
    "<br>\n",
    "\n",
    "#### 6.1.3.3 토큰화 및 불용어 제거\n",
    "\n",
    "- 이제 `train_data`에 형태소 분석기를 사용하여 토큰화를 하면서 불용어를 제거하여 `X_train`에 저장한다."
   ]
  },
  {
   "cell_type": "code",
   "execution_count": null,
   "metadata": {
    "colab": {},
    "colab_type": "code",
    "id": "sQzMvRZWEuGS"
   },
   "outputs": [],
   "source": [
    "X_train = []\n",
    "\n",
    "for sentence in train_data['document']:\n",
    "    temp_X = []\n",
    "    temp_X = okt.morphs(sentence, stem=True) # 토큰화\n",
    "    temp_X = [word for word in temp_X if not word in stopwords] # 불용어 제거\n",
    "    X_train.append(temp_X)"
   ]
  },
  {
   "cell_type": "code",
   "execution_count": 30,
   "metadata": {
    "colab": {
     "base_uri": "https://localhost:8080/",
     "height": 35
    },
    "colab_type": "code",
    "id": "QSXYzkEuGPdk",
    "outputId": "7e4542d4-86d2-4951-c2bd-4dfe686c5a63"
   },
   "outputs": [
    {
     "name": "stdout",
     "output_type": "stream",
     "text": [
      "[['아', '더빙', '진짜', '짜증나다', '목소리'], ['흠', '포스터', '보고', '초딩', '영화', '줄', '오버', '연기', '조차', '가볍다', '않다'], ['너', '무재', '밓었', '다그', '래서', '보다', '추천', '다']]\n"
     ]
    }
   ],
   "source": [
    "print(X_train[:3])"
   ]
  },
  {
   "cell_type": "markdown",
   "metadata": {
    "colab_type": "text",
    "id": "s_Bv2_ruGWNo"
   },
   "source": [
    "<br>\n",
    "\n",
    "#### 6.1.3.4 테스트 데이터 토큰화 및 불용어 제거"
   ]
  },
  {
   "cell_type": "code",
   "execution_count": null,
   "metadata": {
    "colab": {},
    "colab_type": "code",
    "id": "2OgLTVwwGZNz"
   },
   "outputs": [],
   "source": [
    "X_test = []\n",
    "\n",
    "for sentence in test_data['document']:\n",
    "    temp_X = []\n",
    "    temp_X = okt.morphs(sentence, stem=True)\n",
    "    temp_X = [word for word in temp_X if not word in stopwords]\n",
    "    X_test.append(temp_X)"
   ]
  },
  {
   "cell_type": "code",
   "execution_count": 32,
   "metadata": {
    "colab": {
     "base_uri": "https://localhost:8080/",
     "height": 35
    },
    "colab_type": "code",
    "id": "hpX8P59YI_kL",
    "outputId": "3728a6e7-408b-4fe1-97e0-674dfcb4a599"
   },
   "outputs": [
    {
     "name": "stdout",
     "output_type": "stream",
     "text": [
      "[['굳다', 'ㅋ'], ['뭐', '야', '평점', '나쁘다', '않다', '점', '짜다', '리', '더', '더욱', '아니다'], ['지루하다', '않다', '완전', '막장', '임', '돈', '주다', '보기', '에는']]\n"
     ]
    }
   ],
   "source": [
    "print(X_test[:3])"
   ]
  },
  {
   "cell_type": "markdown",
   "metadata": {
    "colab_type": "text",
    "id": "qBGZe2nBGqky"
   },
   "source": [
    "<br>\n",
    "\n",
    "### 6.1.4 정수 인코딩\n",
    "\n",
    "- 이제 기계가 텍스트를 숫자로 처리할 수 있도록 훈련 데이터와 테스트 데이터에 정수 인코딩을 해야 한다."
   ]
  },
  {
   "cell_type": "markdown",
   "metadata": {
    "colab_type": "text",
    "id": "CCXSUwK3ybkL"
   },
   "source": [
    "<br>\n",
    "\n",
    "#### 6.1.4.1 단어 집합(vocabulary) 생성\n",
    "\n",
    "- 우선 훈련 데이터에 대해서 단어 집합(vocabulary)을 만들어보자."
   ]
  },
  {
   "cell_type": "code",
   "execution_count": null,
   "metadata": {
    "colab": {},
    "colab_type": "code",
    "id": "Kxq6qHv1yiDx"
   },
   "outputs": [],
   "source": [
    "tokenizer = Tokenizer()\n",
    "tokenizer.fit_on_texts(X_train)"
   ]
  },
  {
   "cell_type": "markdown",
   "metadata": {
    "colab_type": "text",
    "id": "HWanzBIBym12"
   },
   "source": [
    "- 이제 단어 집합이 생성되는 동시에 각 단어에 고유한 정수가 부여되었다.\n",
    "- 이는 `tokenizer.word_index`를 출력하여 확인 가능하다."
   ]
  },
  {
   "cell_type": "code",
   "execution_count": null,
   "metadata": {
    "colab": {},
    "colab_type": "code",
    "id": "C8HZLQM5yupZ"
   },
   "outputs": [],
   "source": [
    "print(tokenizer.word_index)"
   ]
  },
  {
   "cell_type": "markdown",
   "metadata": {
    "colab_type": "text",
    "id": "hcayYhgAAorf"
   },
   "source": [
    "```\n",
    "{'영화': 1, '보다': 2, '을': 3, '없다': 4, '이다': 5, '있다': 6, '좋다': 7, '너무': 8, '다': 9, '정말': 10, '되다': 11, '재밌다': 12, '적': 13, '만': 14, '같다': 15, '진짜': 16, '로': 17, '아니다': 18, '않다': 19, '점': 20, '에서': 21, '만들다': 22, '나오다': 23, '연기': 24, '것': 25, '평점': 26, '내': 27, '최고': 28, '그': 29, '나': 30, '안': 31, '인': 32, '스토리': 33, '생각': 34, '못': 35, '왜': 36, '드라마': 37, '게': 38, '감동': 39, '사람': 40, '보고': 41, '이렇다': 42, '말': 43, '고': 44, '아깝다': 45, '더': 46, '배우': 47, '때': 48, 'ㅋㅋ': 49, '아': 50, '감독': 51, '거': 52, '그냥': 53, '재미있다': 54, '요': 55, '재미': 56, '시간': 57, '내용': 58, '뭐': 59, '까지': 60,\n",
    "\n",
    "... 중략 ...\n",
    "\n",
    "'ㅋㅋㅋㅋㅋㅋㅋㅋㅋㅋㅋㅋㅋㅋㅋㅋㅋㅋㅋㅋㅋㅋㅋㅋㅋㅋㅋㅋㅋㅋㅋㅋㅋㅋㅋㅋㅋㅋㅋㅋ': 43714, '격해': 43715, '버스광고': 43716, '모꼬': 43717, '핫팩': 43718, '보슬영화': 43719, '성조기': 43720, '짅자': 43721, '호서': 43722, '쨔응태욱': 43723, '쥐기삘': 43724, '하묘': 43725, '비창': 43726, '재밓쳫': 43727, '컾컾': 43728, '헬맷': 43729, '싸움개': 43730, '빅엿빅엿': 43731, '조르쥬': 43732, '내몬': 43733, '강비': 43734, '협심증': 43735, '역광': 43736, '비젼': 43737, '흉노족': 43738, '마루이': 43739, '머싰따능': 43740, '노형욱': 43741, '윤영삼': 43742, '초코': 43743, '대병소장': 43744, '신해혁명': 43745, '차이니즈': 43746, '차후': 43747, 'ㅍㄹㄱ': 43748, '섹귀들': 43749, '찎었': 43750, '디케이드': 43751, '수간': 43752}\n",
    "```"
   ]
  },
  {
   "cell_type": "markdown",
   "metadata": {
    "colab_type": "text",
    "id": "qALPw-7oyw8s"
   },
   "source": [
    "<br>\n",
    "\n",
    "#### 6.1.4.2 단어별 빈도수 확인\n",
    "\n",
    "- 단어가 43,000개가 넘게 존재한다.\n",
    "- 각 정수는 전체 훈련 데이터에서 등장 빈도수가 높은 순서대로 부여되었기 때문에, 높은 정수가 부여된 단어들은 등장 빈도수가 매우 낮다는 것을 의미한다.\n",
    "- 여기서는 빈도수가 낮은 단어들은 자연어 처리에서 배제하고자 한다.\n",
    "- 등장 빈도수가 3회 미만인 단어들이 이 데이터에서 얼만큼의 비중을 차지하는 지 확인해보자."
   ]
  },
  {
   "cell_type": "code",
   "execution_count": 35,
   "metadata": {
    "colab": {
     "base_uri": "https://localhost:8080/",
     "height": 89
    },
    "colab_type": "code",
    "id": "TaVxWKTnzMFl",
    "outputId": "6287d3be-cc79-4d73-b5f4-555d40022fbe"
   },
   "outputs": [
    {
     "name": "stdout",
     "output_type": "stream",
     "text": [
      "단어 집합(vocabulary)의 크기 :  43752\n",
      "등장 빈도가 2번 이하인 희귀 단어의 수 : 24337\n",
      "단어 집합에서 희귀 단어의 비율 :  55.62488571950996\n",
      "전체 등장 빈도에서 희귀 단어 등장 빈도 비율 :  1.8715872104872904\n"
     ]
    }
   ],
   "source": [
    "threshold = 3\n",
    "\n",
    "total_cnt = len(tokenizer.word_index)\n",
    "rare_cnt = 0 # 등장 빈도수가 threshold보다 작은 단어의 개수 카운트\n",
    "\n",
    "total_freq = 0 # 훈련 데이터의 전체 단어 빈도수 총 합\n",
    "rare_freq = 0 # 등장 빈도수가 threshold보다 작은 단어의 등장 빈도수의 총 합\n",
    "\n",
    "# 단어와 빈도수의 쌍(pair)을 key와 value로 받는다.\n",
    "for key, value in tokenizer.word_counts.items():\n",
    "    total_freq = total_freq + value\n",
    "\n",
    "    # 단어의 등장 빈도수가 threshold보다 작으면\n",
    "    if (value < threshold):\n",
    "        rare_cnt = rare_cnt + 1\n",
    "        rare_freq = rare_freq + value\n",
    "\n",
    "print('단어 집합(vocabulary)의 크기 : ', total_cnt)\n",
    "print('등장 빈도가 %s번 이하인 희귀 단어의 수 : %s' % (threshold - 1, rare_cnt))\n",
    "\n",
    "print('단어 집합에서 희귀 단어의 비율 : ', (rare_cnt / total_cnt) * 100)\n",
    "print('전체 등장 빈도에서 희귀 단어 등장 빈도 비율 : ', (rare_freq / total_freq) * 100)"
   ]
  },
  {
   "cell_type": "markdown",
   "metadata": {
    "colab_type": "text",
    "id": "4BXW2Pbj0JNj"
   },
   "source": [
    "- 등장 빈도가 `threshold` 값인 3회 미만, 즉 2회 이하인 단어들은 단어 집합에서 무려 절반 이상을 차지한다.\n",
    "- 하지만, 실제로 훈련 데이터에서 등장 빈도로 차지하는 비중은 상대적으로 매우 적은 수치인 1.87% 밖에 되지 않는다.\n",
    "- 아무래도 등장 빈도가 2회 이하인 단어들은 자연어 처리에서 별로 중요하지 않을 듯 하다.\n",
    "- 그래서 이 단어들은 정수 인코딩 과정에서 배제시키도록 한다."
   ]
  },
  {
   "cell_type": "markdown",
   "metadata": {
    "colab_type": "text",
    "id": "EpHLPaBL0fLP"
   },
   "source": [
    "<br>\n",
    "\n",
    "#### 6.1.4.3 등장 빈도수가 적은 단어 제거\n",
    "\n",
    "- 등장 빈도수가 2 이하인 단어들의 수를 제외한 단어의 개수를 단어 집합의 최대 크기로 제한한다."
   ]
  },
  {
   "cell_type": "code",
   "execution_count": 36,
   "metadata": {
    "colab": {
     "base_uri": "https://localhost:8080/",
     "height": 35
    },
    "colab_type": "code",
    "id": "co1doqvM0pee",
    "outputId": "ec67abe8-8d75-4fc0-ef76-e289cbf70dfe"
   },
   "outputs": [
    {
     "name": "stdout",
     "output_type": "stream",
     "text": [
      "단어 집합의 크기 :  19416\n"
     ]
    }
   ],
   "source": [
    "# 전체 단어 개수 중 빈도수가 2 이하인 단어 개수는 제거.\n",
    "# 0번 패딩 토큰을 고려하여 +1\n",
    "vocab_size = total_cnt - rare_cnt + 1\n",
    "print('단어 집합의 크기 : ', vocab_size)"
   ]
  },
  {
   "cell_type": "markdown",
   "metadata": {
    "colab_type": "text",
    "id": "_6JQ8Dli1FHY"
   },
   "source": [
    "- 이제 단어 집합의 크기는 19,416개이다."
   ]
  },
  {
   "cell_type": "markdown",
   "metadata": {
    "colab_type": "text",
    "id": "ST_xMlcQ1L7l"
   },
   "source": [
    "<br>\n",
    "\n",
    "#### 6.1.4.4 텍스트 시퀀스를 숫자 시퀀스로 변환 (정수 인코딩)\n",
    "\n",
    "- 위의 단어 집합의 크기를 케라스 토크나이저의 인자로 넘겨주면, 케라스 토크나이저는 텍스트 시퀀스를 숫자 시퀀스로 변환하는 정수 인코딩 과정에서 이보다 큰 숫자가 부여된 단어들은 아예 빼버린다."
   ]
  },
  {
   "cell_type": "code",
   "execution_count": null,
   "metadata": {
    "colab": {},
    "colab_type": "code",
    "id": "Omw32EDg1eSO"
   },
   "outputs": [],
   "source": [
    "tokenizer = Tokenizer(vocab_size)\n",
    "tokenizer.fit_on_texts(X_train)\n",
    "\n",
    "X_train = tokenizer.texts_to_sequences(X_train)\n",
    "X_test = tokenizer.texts_to_sequences(X_test)"
   ]
  },
  {
   "cell_type": "markdown",
   "metadata": {
    "colab_type": "text",
    "id": "E-dq-Uvs1oQz"
   },
   "source": [
    "<br>\n",
    "\n",
    "- 정수 인코딩이 진행되었는 지 확인하고자 `X_train`에 대해서 상위 3개의 샘플만 출력한다."
   ]
  },
  {
   "cell_type": "code",
   "execution_count": 38,
   "metadata": {
    "colab": {
     "base_uri": "https://localhost:8080/",
     "height": 35
    },
    "colab_type": "code",
    "id": "PkB2kR7Z1u_b",
    "outputId": "3dd5860b-fd46-413a-af0e-4de0c9d705d4"
   },
   "outputs": [
    {
     "name": "stdout",
     "output_type": "stream",
     "text": [
      "[[50, 454, 16, 260, 659], [933, 457, 41, 602, 1, 214, 1449, 24, 961, 675, 19], [386, 2444, 2315, 5671, 2, 222, 9]]\n"
     ]
    }
   ],
   "source": [
    "print(X_train[:3])"
   ]
  },
  {
   "cell_type": "markdown",
   "metadata": {
    "colab_type": "text",
    "id": "L3_z7JZa1wg7"
   },
   "source": [
    "- 각 샘플 내의 단어들은 각 단어에 대한 정수로 변환된 것을 확인할 수 있다.\n",
    "- 굳이 확인하지는 않겠지만, 이제 단어의 개수는 19,416개로 제한되었으므로 0번 단어 ~ 19,415번 단어까지만 사용한다.  \n",
    "(0번 단어는 패딩을 위한 토큰이다.)\n",
    "- 다시 말해 19,416 이상의 숫자는 더 이상 훈련 데이터에 존재하지 않는다."
   ]
  },
  {
   "cell_type": "markdown",
   "metadata": {
    "colab_type": "text",
    "id": "0AWNrncH2EF_"
   },
   "source": [
    "<br>\n",
    "\n",
    "#### 6.1.4.5 레이블 데이터 저장\n",
    "\n",
    "- 이제 `train_data`와 `test_data`에서 `y_train`과 `y_test`를 별도로 저장해준다."
   ]
  },
  {
   "cell_type": "code",
   "execution_count": null,
   "metadata": {
    "colab": {},
    "colab_type": "code",
    "id": "W2q3EsnZ2M86"
   },
   "outputs": [],
   "source": [
    "y_train = np.array(train_data['label'])\n",
    "y_test = np.array(test_data['label'])"
   ]
  },
  {
   "cell_type": "markdown",
   "metadata": {
    "colab_type": "text",
    "id": "w5gEqoBT2WDb"
   },
   "source": [
    "<br>\n",
    "\n",
    "### 6.1.5 빈 샘플(empty samples) 제거\n",
    "\n",
    "- 전체 데이터에서 빈도수가 낮은 단어가 삭제되었다는 것은 빈도수가 낮은 단어만으로 구성되었던 샘플들은 이제 빈(empty) 샘플이 되었다는 것을 의미한다.\n",
    "- 빈 샘플들은 어떤 레이블이 붙어있던 의미가 없으므로 빈 샘플들을 제거해주는 작업을 진행한다."
   ]
  },
  {
   "cell_type": "markdown",
   "metadata": {
    "colab_type": "text",
    "id": "txEr7Wtb2s2L"
   },
   "source": [
    "<br>\n",
    "\n",
    "#### 6.1.5.1 길이가 0인 데이터 확인\n",
    "\n",
    "- 각 샘플들의 길이를 확인해서 길이가 0인 샘플들의 인덱스를 받아온다."
   ]
  },
  {
   "cell_type": "code",
   "execution_count": null,
   "metadata": {
    "colab": {},
    "colab_type": "code",
    "id": "ZAuhg8lK20lp"
   },
   "outputs": [],
   "source": [
    "drop_train = [index for index, sentence in enumerate(X_train) if len(sentence) < 1]\n",
    "drop_test = [index for index, sentence in enumerate(X_test) if len(sentence) < 1]"
   ]
  },
  {
   "cell_type": "markdown",
   "metadata": {
    "colab_type": "text",
    "id": "8ohgEQ7E3CKC"
   },
   "source": [
    "- 이제 `drop_train`에는 `X_train`으로부터 얻은 빈 샘플들의 인덱스가 저장되어져 있고, `drop_test`에는 `X_test`로부터 얻은 빈 샘플들의 인덱스가 저장되어져 있다."
   ]
  },
  {
   "cell_type": "markdown",
   "metadata": {
    "colab_type": "text",
    "id": "y9Ejdy4e3QqR"
   },
   "source": [
    "<br>\n",
    "\n",
    "#### 6.1.5.2 훈련용 데이터의 빈 샘플 제거"
   ]
  },
  {
   "cell_type": "code",
   "execution_count": 41,
   "metadata": {
    "colab": {
     "base_uri": "https://localhost:8080/",
     "height": 53
    },
    "colab_type": "code",
    "id": "lYdYUtao3VEM",
    "outputId": "298a2979-fc91-4b4a-b7f8-5c15429b4bfb"
   },
   "outputs": [
    {
     "name": "stdout",
     "output_type": "stream",
     "text": [
      "145162\n",
      "145162\n"
     ]
    }
   ],
   "source": [
    "# 빈 샘플들을 제거\n",
    "X_train = np.delete(X_train, drop_train, axis=0)\n",
    "y_train = np.delete(y_train, drop_train, axis=0)\n",
    "\n",
    "print(len(X_train))\n",
    "print(len(y_train))"
   ]
  },
  {
   "cell_type": "markdown",
   "metadata": {
    "colab_type": "text",
    "id": "hwJ8oSFi3mKD"
   },
   "source": [
    "- 샘플 갯수가 145,791개에서 145,162개로 줄어들었다."
   ]
  },
  {
   "cell_type": "markdown",
   "metadata": {
    "colab_type": "text",
    "id": "F9RaCzQM3q6A"
   },
   "source": [
    "<br>\n",
    "\n",
    "#### 6.1.5.3 테스트용 데이터의 빈 샘플 제거"
   ]
  },
  {
   "cell_type": "code",
   "execution_count": 42,
   "metadata": {
    "colab": {
     "base_uri": "https://localhost:8080/",
     "height": 53
    },
    "colab_type": "code",
    "id": "-swMGck_3x9L",
    "outputId": "0bfcd88a-bc1d-4ced-8d9e-ef37019b9baa"
   },
   "outputs": [
    {
     "name": "stdout",
     "output_type": "stream",
     "text": [
      "48745\n",
      "48745\n"
     ]
    }
   ],
   "source": [
    "X_test = np.delete(X_test, drop_test, axis=0)\n",
    "y_test = np.delete(y_test, drop_test, axis=0)\n",
    "\n",
    "print(len(X_test))\n",
    "print(len(y_test))"
   ]
  },
  {
   "cell_type": "markdown",
   "metadata": {
    "colab_type": "text",
    "id": "u-YAIsiB35PY"
   },
   "source": [
    "<br>\n",
    "\n",
    "### 6.1.6 패딩\n",
    "\n",
    "- 이제 서로 다른 길이의 샘플들의 길이를 동일하게 맞춰주는 패딩 작업을 진행해보자."
   ]
  },
  {
   "cell_type": "markdown",
   "metadata": {
    "colab_type": "text",
    "id": "IsYPlJLk4b32"
   },
   "source": [
    "<br>\n",
    "\n",
    "#### 6.1.6.1 데이터의 길이 분포 확인\n",
    "\n",
    "- 전체 데이터에서 가장 길이가 긴 리뷰와 전체 데이터의 길이 분포를 알아보자."
   ]
  },
  {
   "cell_type": "code",
   "execution_count": 43,
   "metadata": {
    "colab": {
     "base_uri": "https://localhost:8080/",
     "height": 53
    },
    "colab_type": "code",
    "id": "Frbwfz1d4hY-",
    "outputId": "042a9690-6a4a-4cc9-a57d-404211df539b"
   },
   "outputs": [
    {
     "name": "stdout",
     "output_type": "stream",
     "text": [
      "리뷰의 최대 길이 :  69\n",
      "리뷰의 평균 길이 :  10.812485361182679\n"
     ]
    }
   ],
   "source": [
    "print('리뷰의 최대 길이 : ', max(len(l) for l in X_train))\n",
    "print('리뷰의 평균 길이 : ', sum(map(len, X_train)) / len(X_train))"
   ]
  },
  {
   "cell_type": "code",
   "execution_count": 44,
   "metadata": {
    "colab": {
     "base_uri": "https://localhost:8080/",
     "height": 279
    },
    "colab_type": "code",
    "id": "MO-fTImI4wHI",
    "outputId": "9c5c702a-cc8e-4eb6-dec2-80e5d3589a15"
   },
   "outputs": [
    {
     "data": {
      "image/png": "[encoded data removed]",
      "text/plain": [
       "<Figure size 432x288 with 1 Axes>"
      ]
     },
     "metadata": {
      "tags": []
     },
     "output_type": "display_data"
    }
   ],
   "source": [
    "plt.hist([len(s) for s in X_train], bins=50)\n",
    "plt.xlabel('length of samples')\n",
    "plt.ylabel('number of samples')\n",
    "plt.show()"
   ]
  },
  {
   "cell_type": "markdown",
   "metadata": {
    "colab_type": "text",
    "id": "5E2JMDEg45me"
   },
   "source": [
    "- 가장 긴 리뷰의 길이는 69이다.\n",
    "- 그래프를 봤을 때 전체 데이터의 길이 분포는 대체적으로 약 10 내외의 길이를 가지는 것을 볼 수 있다.\n",
    "- 모델이 처리할 수 있도록 `X_train`과 `X_test`의 모든 샘플의 길이를 특정 길이로 동일하게 맞춰줄 필요 가 있다."
   ]
  },
  {
   "cell_type": "markdown",
   "metadata": {
    "colab_type": "text",
    "id": "FSfiLidw5tle"
   },
   "source": [
    "<br>\n",
    "\n",
    "#### 6.1.6.2 특정 길이 이하의 샘플의 비율 확인\n",
    "\n",
    "- 특정 길이 변수를 `max_len`으로 정한다.\n",
    "- 대부분의 리뷰가 내용이 잘리지 않도록 할 수 있는 최적의 `max_len`의 값을 몇일까?\n",
    "- 전체 샘플 중 길이가 `max_len` 이하인 샘플의 비율이 몇 %인 지 확인하는 함수를 만든다."
   ]
  },
  {
   "cell_type": "code",
   "execution_count": null,
   "metadata": {
    "colab": {},
    "colab_type": "code",
    "id": "VR-0rHo_6E59"
   },
   "outputs": [],
   "source": [
    "def below_threshold_len(max_len, nested_list):\n",
    "    cnt = 0\n",
    "    for s in nested_list:\n",
    "        if (len(s) <= max_len):\n",
    "            cnt = cnt + 1\n",
    "\n",
    "    print('전체 샘플 중 길이가 %s 이하인 샘플의 비율 : %s'\n",
    "          % (max_len, (cnt / len(nested_list)) * 100))"
   ]
  },
  {
   "cell_type": "markdown",
   "metadata": {
    "colab_type": "text",
    "id": "j0Rncc6p6cCF"
   },
   "source": [
    "<br>\n",
    "\n",
    "- 위의 분포 그래프로 봤을 때, `max_len = 30`이 적당할 것 같다.\n",
    "- 이 값이 얼마나 많은 리뷰 길이를 커버하는 지 확인해보자."
   ]
  },
  {
   "cell_type": "code",
   "execution_count": 47,
   "metadata": {
    "colab": {
     "base_uri": "https://localhost:8080/",
     "height": 35
    },
    "colab_type": "code",
    "id": "Up3cjdF86mIf",
    "outputId": "950606f1-efd4-41c7-edab-a4b95fd2adfa"
   },
   "outputs": [
    {
     "name": "stdout",
     "output_type": "stream",
     "text": [
      "전체 샘플 중 길이가 30 이하인 샘플의 비율 : 94.31944999380003\n"
     ]
    }
   ],
   "source": [
    "max_len = 30\n",
    "below_threshold_len(max_len, X_train)"
   ]
  },
  {
   "cell_type": "markdown",
   "metadata": {
    "colab_type": "text",
    "id": "N0HcOD7F6pbW"
   },
   "source": [
    "- 전체 훈련 데이터 중 약 94.32%의 리뷰가 30이하의 길이를 가지는 것을 확인했다."
   ]
  },
  {
   "cell_type": "markdown",
   "metadata": {
    "colab_type": "text",
    "id": "sK5_VQ_461kC"
   },
   "source": [
    "<br>\n",
    "\n",
    "#### 6.1.6.3 샘플 길이 맞추기\n",
    "\n",
    "- 모든 샘플의 길이를 30으로 맞춰보자."
   ]
  },
  {
   "cell_type": "code",
   "execution_count": null,
   "metadata": {
    "colab": {},
    "colab_type": "code",
    "id": "Wykq3PUy68PJ"
   },
   "outputs": [],
   "source": [
    "X_train = pad_sequences(X_train, maxlen=max_len)\n",
    "X_test = pad_sequences(X_test, maxlen=max_len)"
   ]
  },
  {
   "cell_type": "markdown",
   "metadata": {
    "colab_type": "text",
    "id": "OcZvKqpv7C6y"
   },
   "source": [
    "<br>\n",
    "\n",
    "## 6.2 LSTM으로 네이버 영화 리뷰 감성 분류하기"
   ]
  },
  {
   "cell_type": "markdown",
   "metadata": {
    "colab_type": "text",
    "id": "b3v9rV8u7KGs"
   },
   "source": [
    "### 6.2.1 필요한 도구들 가져오기"
   ]
  },
  {
   "cell_type": "code",
   "execution_count": null,
   "metadata": {
    "colab": {},
    "colab_type": "code",
    "id": "poEkUbng7NBl"
   },
   "outputs": [],
   "source": [
    "from tensorflow.keras.layers import Embedding, Dense, LSTM\n",
    "from tensorflow.keras.models import Sequential\n",
    "from tensorflow.keras.models import load_model\n",
    "from tensorflow.keras.callbacks import EarlyStopping, ModelCheckpoint"
   ]
  },
  {
   "cell_type": "markdown",
   "metadata": {
    "colab_type": "text",
    "id": "G7GRYvNh7a19"
   },
   "source": [
    "<br>\n",
    "\n",
    "### 6.2.2 모델 구성\n",
    "\n",
    "- 임베딩 벡터의 차원은 `100`으로 한다.\n",
    "- 리뷰 분류를 위해서 `LSTM`을 사용한다."
   ]
  },
  {
   "cell_type": "code",
   "execution_count": null,
   "metadata": {
    "colab": {},
    "colab_type": "code",
    "id": "8JUpqnvd7inZ"
   },
   "outputs": [],
   "source": [
    "model = Sequential()\n",
    "model.add(Embedding(vocab_size, 100))\n",
    "model.add(LSTM(128))\n",
    "model.add(Dense(1, activation='sigmoid'))"
   ]
  },
  {
   "cell_type": "markdown",
   "metadata": {
    "colab_type": "text",
    "id": "IHYIS0HD7vmc"
   },
   "source": [
    "<br>\n",
    "\n",
    "### 6.2.3 콜백(Callback) 구성\n",
    "\n",
    "- 검증 데이터 손실(`val_loss`)이 증가하면, 과적합 징후이다.\n",
    "- 그러므로 검증 데이터 손실이 4회 증가하면 학습을 조기 종료(Early Stopping)한다."
   ]
  },
  {
   "cell_type": "markdown",
   "metadata": {
    "colab_type": "text",
    "id": "DTYbC0QP77Zz"
   },
   "source": [
    "- 또한, `ModelCheckpoint`를 사용하여 검증 데이터의 정확도(`val_acc`)가 이전보다 좋아 질 경우에만 모델을 저장한다."
   ]
  },
  {
   "cell_type": "code",
   "execution_count": null,
   "metadata": {
    "colab": {},
    "colab_type": "code",
    "id": "DxDGXr8r8Bfg"
   },
   "outputs": [],
   "source": [
    "es = EarlyStopping(monitor='val_loss', mode='min', verbose=1, patience=4)\n",
    "mc = ModelCheckpoint('best_model.h5', monitor='val_acc', mode='max', verbose=1, save_best_only=True)"
   ]
  },
  {
   "cell_type": "markdown",
   "metadata": {
    "colab_type": "text",
    "id": "qen6INB18TOA"
   },
   "source": [
    "<br>\n",
    "\n",
    "### 6.2.4 컴파일 및 훈련\n",
    "\n",
    "- 에포크는 총 15번을 수행한다.\n",
    "- 또한 훈련 데이터 중 20%를 검증 데이터로 사용하면서 정확도를 확인한다."
   ]
  },
  {
   "cell_type": "code",
   "execution_count": 52,
   "metadata": {
    "colab": {
     "base_uri": "https://localhost:8080/",
     "height": 539
    },
    "colab_type": "code",
    "id": "XbJ97KHc8bYf",
    "outputId": "1354c01b-4b87-4b93-8ffa-da87d9c56132"
   },
   "outputs": [
    {
     "name": "stdout",
     "output_type": "stream",
     "text": [
      "Epoch 1/15\n",
      "1933/1936 [============================>.] - ETA: 0s - loss: 0.3880 - acc: 0.8243\n",
      "Epoch 00001: val_acc improved from -inf to 0.84614, saving model to best_model.h5\n",
      "1936/1936 [==============================] - 27s 14ms/step - loss: 0.3880 - acc: 0.8244 - val_loss: 0.3505 - val_acc: 0.8461\n",
      "Epoch 2/15\n",
      "1935/1936 [============================>.] - ETA: 0s - loss: 0.3274 - acc: 0.8576\n",
      "Epoch 00002: val_acc improved from 0.84614 to 0.85613, saving model to best_model.h5\n",
      "1936/1936 [==============================] - 27s 14ms/step - loss: 0.3274 - acc: 0.8576 - val_loss: 0.3338 - val_acc: 0.8561\n",
      "Epoch 3/15\n",
      "1936/1936 [==============================] - ETA: 0s - loss: 0.3024 - acc: 0.8722\n",
      "Epoch 00003: val_acc improved from 0.85613 to 0.85892, saving model to best_model.h5\n",
      "1936/1936 [==============================] - 27s 14ms/step - loss: 0.3024 - acc: 0.8722 - val_loss: 0.3272 - val_acc: 0.8589\n",
      "Epoch 4/15\n",
      "1934/1936 [============================>.] - ETA: 0s - loss: 0.2846 - acc: 0.8816\n",
      "Epoch 00004: val_acc improved from 0.85892 to 0.85909, saving model to best_model.h5\n",
      "1936/1936 [==============================] - 27s 14ms/step - loss: 0.2846 - acc: 0.8816 - val_loss: 0.3277 - val_acc: 0.8591\n",
      "Epoch 5/15\n",
      "1935/1936 [============================>.] - ETA: 0s - loss: 0.2687 - acc: 0.8898\n",
      "Epoch 00005: val_acc did not improve from 0.85909\n",
      "1936/1936 [==============================] - 27s 14ms/step - loss: 0.2688 - acc: 0.8898 - val_loss: 0.3309 - val_acc: 0.8562\n",
      "Epoch 6/15\n",
      "1933/1936 [============================>.] - ETA: 0s - loss: 0.2535 - acc: 0.8974\n",
      "Epoch 00006: val_acc did not improve from 0.85909\n",
      "1936/1936 [==============================] - 25s 13ms/step - loss: 0.2533 - acc: 0.8975 - val_loss: 0.3318 - val_acc: 0.8586\n",
      "Epoch 7/15\n",
      "1935/1936 [============================>.] - ETA: 0s - loss: 0.2388 - acc: 0.9045\n",
      "Epoch 00007: val_acc did not improve from 0.85909\n",
      "1936/1936 [==============================] - 26s 13ms/step - loss: 0.2389 - acc: 0.9045 - val_loss: 0.3367 - val_acc: 0.8578\n",
      "Epoch 00007: early stopping\n"
     ]
    }
   ],
   "source": [
    "model.compile(optimizer='rmsprop', loss='binary_crossentropy', metrics=['acc'])\n",
    "history = model.fit(X_train, y_train,\n",
    "                    epochs=15, callbacks=[es, mc], batch_size=60,\n",
    "                    validation_split=0.2)"
   ]
  },
  {
   "cell_type": "markdown",
   "metadata": {
    "colab_type": "text",
    "id": "I0ZvOJ978rFK"
   },
   "source": [
    "- 조기 종료 조건에 따라서 7번 째 에포크에서 훈련이 멈춘다."
   ]
  },
  {
   "cell_type": "markdown",
   "metadata": {
    "colab_type": "text",
    "id": "P51Q64D-_maL"
   },
   "source": [
    "<br>\n",
    "\n",
    "### 6.2.5 평가\n",
    "\n",
    "- 훈련이 다 되었다면 이제 테스트 데이터에 대해서 정확도를 측정할 차례이다.\n",
    "- 훈련 과정에서 검증 데이터의 정확도가 가장 높았을 때 저장된 모델인 `best_model.h5`를 로드한다."
   ]
  },
  {
   "cell_type": "code",
   "execution_count": 53,
   "metadata": {
    "colab": {
     "base_uri": "https://localhost:8080/",
     "height": 89
    },
    "colab_type": "code",
    "id": "dM9_KQyQ_xwb",
    "outputId": "23847e1f-882f-4d9a-aef8-b6aacb1d1ed7"
   },
   "outputs": [
    {
     "name": "stdout",
     "output_type": "stream",
     "text": [
      "WARNING:tensorflow:Error in loading the saved optimizer state. As a result, your model is starting with a freshly initialized optimizer.\n",
      "1524/1524 [==============================] - 6s 4ms/step - loss: 0.3343 - acc: 0.8567\n",
      "\n",
      " 테스트 정확도 : 0.8567\n"
     ]
    }
   ],
   "source": [
    "loaded_model = load_model('best_model.h5')\n",
    "print('\\n 테스트 정확도 : %.4f' % (loaded_model.evaluate(X_test, y_test)[1]))"
   ]
  }
 ],
 "metadata": {
  "accelerator": "GPU",
  "colab": {
   "collapsed_sections": [],
   "name": "Ch11_v06_Naver-Movie-Review-Sentiment-Analysis.ipynb",
   "provenance": []
  },
  "kernelspec": {
   "display_name": "Python 3",
   "language": "python",
   "name": "python3"
  },
  "language_info": {
   "codemirror_mode": {
    "name": "ipython",
    "version": 3
   },
   "file_extension": ".py",
   "mimetype": "text/x-python",
   "name": "python",
   "nbconvert_exporter": "python",
   "pygments_lexer": "ipython3",
   "version": "3.6.9"
  }
 },
 "nbformat": 4,
 "nbformat_minor": 4
}
