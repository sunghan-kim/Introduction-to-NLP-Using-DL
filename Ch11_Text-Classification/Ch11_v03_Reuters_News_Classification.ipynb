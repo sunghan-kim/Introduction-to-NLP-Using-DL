{
 "cells": [
  {
   "cell_type": "markdown",
   "metadata": {
    "colab_type": "text",
    "id": "slIQMcLXcqFI"
   },
   "source": [
    "# Ch11. 텍스트 분류 (Text Classification)"
   ]
  },
  {
   "cell_type": "markdown",
   "metadata": {
    "colab_type": "text",
    "id": "lreztYRic3ZE"
   },
   "source": [
    "# v03. 로이터 뉴스 분류하기 (Reuters News Classification)"
   ]
  },
  {
   "cell_type": "markdown",
   "metadata": {
    "colab_type": "text",
    "id": "QyOyLWFQc82F"
   },
   "source": [
    "- 이번 챕터에서는 케라스에서 제공하는 로이터 뉴스 데이터를 LSTM을 이용하여 텍스트 분류를 진행해보도록 한다.\n",
    "- 로이터 뉴스 기사 데이터는 총 11,258개의 뉴스 기사가 46개의 뉴스 카테고리로 분류되는 뉴스 기사 데이터이다.\n",
    "- 우선 데이터가 어떻게 구성되어 있는 지에 대해서 알아보고, 실습을 진행한다."
   ]
  },
  {
   "cell_type": "markdown",
   "metadata": {
    "colab_type": "text",
    "id": "31xv3Sk1dNn-"
   },
   "source": [
    "<br>\n",
    "\n",
    "## 3.1 로이터 뉴스 데이터에 대한 이해"
   ]
  },
  {
   "cell_type": "code",
   "execution_count": 1,
   "metadata": {
    "colab": {
     "base_uri": "https://localhost:8080/",
     "height": 73
    },
    "colab_type": "code",
    "id": "zFkbOgdGdP2o",
    "outputId": "fa679093-d125-4507-ca50-f67d1abc5d7d"
   },
   "outputs": [
    {
     "name": "stderr",
     "output_type": "stream",
     "text": [
      "/usr/local/lib/python3.6/dist-packages/statsmodels/tools/_testing.py:19: FutureWarning: pandas.util.testing is deprecated. Use the functions in the public API at pandas.testing instead.\n",
      "  import pandas.util.testing as tm\n"
     ]
    }
   ],
   "source": [
    "from tensorflow.keras.datasets import reuters\n",
    "%matplotlib inline\n",
    "import matplotlib.pyplot as plt\n",
    "import numpy as np\n",
    "import seaborn as sns"
   ]
  },
  {
   "cell_type": "markdown",
   "metadata": {
    "colab_type": "text",
    "id": "ncsL4KpydZlE"
   },
   "source": [
    "<br>\n",
    "\n",
    "### 3.1.1 데이터셋 분리\n",
    "\n",
    "- 케라스 데이터셋으로부터 로이터 뉴스 기사 데이터를 다운로드하고, 뉴스 기사 데이터를 훈련용과 테스트용으로 나눈다."
   ]
  },
  {
   "cell_type": "code",
   "execution_count": 2,
   "metadata": {
    "colab": {
     "base_uri": "https://localhost:8080/",
     "height": 53
    },
    "colab_type": "code",
    "id": "qs-G84AKdjuX",
    "outputId": "6d080062-46ab-4967-910f-6d728388433e"
   },
   "outputs": [
    {
     "name": "stdout",
     "output_type": "stream",
     "text": [
      "Downloading data from https://storage.googleapis.com/tensorflow/tf-keras-datasets/reuters.npz\n",
      "2113536/2110848 [==============================] - 0s 0us/step\n"
     ]
    }
   ],
   "source": [
    "(X_train, y_train), (X_test, y_test) = reuters.load_data(num_words=None, test_split=0.2)"
   ]
  },
  {
   "cell_type": "markdown",
   "metadata": {
    "colab_type": "text",
    "id": "7UPTnKeed5fv"
   },
   "source": [
    "- 위에서 `num_words`는 이 데이터에서 등장 빈도 순위로 몇 번째에 해당하는 단어까지만 사용할 것인지를 조절한다.\n",
    "- 예를 들어서 `100`이란 값을 넣으면, 등장 빈도 순위가 1~100에 해당하는 단어만 사용하게 된다.\n",
    "- 모든 단어를 사용하고자 한다면 `None`으로 설정한다.\n",
    "- 아래에서 훈련 데이터를 출력할 때 출력되는 정수들을 보면 이해할 수 있다."
   ]
  },
  {
   "cell_type": "markdown",
   "metadata": {
    "colab_type": "text",
    "id": "Ol5Uxf_leOUd"
   },
   "source": [
    "- `test_split`은 전체 뉴스 기사 데이터 중 테스트용 뉴스 기사로 몇 퍼센트를 사용할 것인지를 의미한다.\n",
    "- 이번 실습에서는 전체 뉴스 기사 중 20%를 테스트용 뉴스 기사로 사용할 것이므로, `0.2`로 설정한다."
   ]
  },
  {
   "cell_type": "code",
   "execution_count": 3,
   "metadata": {
    "colab": {
     "base_uri": "https://localhost:8080/",
     "height": 53
    },
    "colab_type": "code",
    "id": "P95chxhreZsW",
    "outputId": "cb304ac4-44ff-4b46-c23a-0c23b7991ced"
   },
   "outputs": [
    {
     "name": "stdout",
     "output_type": "stream",
     "text": [
      "훈련용 뉴스 기사 : 8982\n",
      "테스트용 뉴스 기사 : 2246\n"
     ]
    }
   ],
   "source": [
    "print('훈련용 뉴스 기사 : {}'.format(len(X_train)))\n",
    "print('테스트용 뉴스 기사 : {}'.format(len(X_test)))"
   ]
  },
  {
   "cell_type": "markdown",
   "metadata": {
    "colab_type": "text",
    "id": "jzNQA9d_ewl7"
   },
   "source": [
    "<br>\n",
    "\n",
    "- `y_train`는 0부터 시작하는 숫자들로 카테고리 라벨을 부여한다.\n",
    "- 그러므로 가장 큰 수에 +1을 하여 출력하면 카테고리가 총 몇 개인지를 알 수 있다."
   ]
  },
  {
   "cell_type": "code",
   "execution_count": 4,
   "metadata": {
    "colab": {
     "base_uri": "https://localhost:8080/",
     "height": 35
    },
    "colab_type": "code",
    "id": "g20UQmAHekx5",
    "outputId": "19641eaf-8813-4ae2-cd67-1f42b694258c"
   },
   "outputs": [
    {
     "name": "stdout",
     "output_type": "stream",
     "text": [
      "카테고리 : 46\n"
     ]
    }
   ],
   "source": [
    "num_classes = max(y_train) + 1\n",
    "print('카테고리 : {}'.format(num_classes))"
   ]
  },
  {
   "cell_type": "markdown",
   "metadata": {
    "colab_type": "text",
    "id": "W1EDk3m3etzs"
   },
   "source": [
    "<br>\n",
    "\n",
    "### 3.1.2 데이터 구성 확인\n",
    "\n",
    "- 훈련용 뉴스 기사 데이터의 구성을 확인하기 위해 첫 번째 뉴스 기사를 출력해보자."
   ]
  },
  {
   "cell_type": "code",
   "execution_count": 6,
   "metadata": {
    "colab": {
     "base_uri": "https://localhost:8080/",
     "height": 55
    },
    "colab_type": "code",
    "id": "UChMMoHOfBrA",
    "outputId": "97a4c472-39d8-4b1a-d1c1-3019aea14daf"
   },
   "outputs": [
    {
     "name": "stdout",
     "output_type": "stream",
     "text": [
      "[1, 27595, 28842, 8, 43, 10, 447, 5, 25, 207, 270, 5, 3095, 111, 16, 369, 186, 90, 67, 7, 89, 5, 19, 102, 6, 19, 124, 15, 90, 67, 84, 22, 482, 26, 7, 48, 4, 49, 8, 864, 39, 209, 154, 6, 151, 6, 83, 11, 15, 22, 155, 11, 15, 7, 48, 9, 4579, 1005, 504, 6, 258, 6, 272, 11, 15, 22, 134, 44, 11, 15, 16, 8, 197, 1245, 90, 67, 52, 29, 209, 30, 32, 132, 6, 109, 15, 17, 12]\n"
     ]
    }
   ],
   "source": [
    "print(X_train[0]) # 첫 번째 훈련용 뉴스 기사"
   ]
  },
  {
   "cell_type": "markdown",
   "metadata": {
    "colab_type": "text",
    "id": "nX15t3S1gBwP"
   },
   "source": [
    "- 위와 같이 훈련용 뉴스 기사 데이터인 `X_train` 중 첫 번째 뉴스 기사인 `X_train[0]`에는 정수의 나열이 저장되어 있다.\n",
    "- 텍스트가 아니라서 의아할 수 있는데, 현재 이 데이터는 **토큰화와 정수 인코딩(각 단어를 정수로 변환)이 끝난 상태**이다."
   ]
  },
  {
   "cell_type": "markdown",
   "metadata": {
    "colab_type": "text",
    "id": "YskqiSnggBmg"
   },
   "source": [
    "- 이 데이터는 단어들이 몇 번 등장하는 지의 빈도에 따라서 인덱스를 부여했다.\n",
    "- `1` 이라는 숫자는 이 단어가 이 데이터에서 등장 빈도가 1등이라는 뜻이다.\n",
    "- `27,595` 라는 숫자는 이 단어가 데이터에서 27,595번 째로 빈도수가 높은 단어라는 뜻이다.\n",
    "- 즉, 실제로는 빈도가 굉장히 낮은 단어라는 뜻이다."
   ]
  },
  {
   "cell_type": "markdown",
   "metadata": {
    "colab_type": "text",
    "id": "HLtm_rd3gBbK"
   },
   "source": [
    "- 앞서 `num_words`에다가 `None`을 부여했는 데, 만약 `num_words`에 `1,000`을 넣었다면 빈도수 순위가 1,000 이하의 단어만 가져온다는 의미이므로 데이터에서 1,000을 넘는 정수는 나오지 않는다."
   ]
  },
  {
   "cell_type": "code",
   "execution_count": 7,
   "metadata": {
    "colab": {
     "base_uri": "https://localhost:8080/",
     "height": 35
    },
    "colab_type": "code",
    "id": "p86aQ6g9fGen",
    "outputId": "0da0405b-3749-402b-dee4-2f2917fef943"
   },
   "outputs": [
    {
     "name": "stdout",
     "output_type": "stream",
     "text": [
      "3\n"
     ]
    }
   ],
   "source": [
    "print(y_train[0]) # 첫 번째 훈련용 뉴스 기사의 레이블"
   ]
  },
  {
   "cell_type": "markdown",
   "metadata": {
    "colab_type": "text",
    "id": "Om__e4sTfLOf"
   },
   "source": [
    "- 뉴스 기사들의 레이블들을 의미하는 `y_train`에서 첫 번째 뉴스 기사의 레이블인 `y_train[0]`에는 3이라는 값이 들어 있다.\n",
    "- 이 숫자는 첫 번째 훈련용 뉴스 기사가 46개의 카테고리 중 3에 해당하는 카테고리임을 의미한다."
   ]
  },
  {
   "cell_type": "markdown",
   "metadata": {
    "colab_type": "text",
    "id": "YqQTrraxfdj_"
   },
   "source": [
    "<br>\n",
    "\n",
    "- 방금 확인한 `X_train[0]`과 `y_train[0]`은 8,982개의 훈련용 뉴스 기사 중 첫 번째 뉴스 기사의 본문과 레이블만 확인한 것이다."
   ]
  },
  {
   "cell_type": "markdown",
   "metadata": {
    "colab_type": "text",
    "id": "Tvi4UkrCfxdG"
   },
   "source": [
    "<br>\n",
    "\n",
    "### 3.1.3 훈련용 뉴스 기사의 길이 확인\n",
    "\n",
    "- 이번에는 8,982개의 훈련용 뉴스 기사의 길이가 대체적으로 어떤 크기를 가지는 지 확인해보자."
   ]
  },
  {
   "cell_type": "code",
   "execution_count": 8,
   "metadata": {
    "colab": {
     "base_uri": "https://localhost:8080/",
     "height": 53
    },
    "colab_type": "code",
    "id": "8hASVPTQf-MW",
    "outputId": "56b2f4d3-2aaa-42e9-f567-815ad86394b0"
   },
   "outputs": [
    {
     "name": "stdout",
     "output_type": "stream",
     "text": [
      "뉴스 기사의 최대 길이 : 2376\n",
      "뉴스 기사의 평균 길이 : 145.5398574927633\n"
     ]
    }
   ],
   "source": [
    "print('뉴스 기사의 최대 길이 : {}'.format(max(len(l) for l in X_train)))\n",
    "print('뉴스 기사의 평균 길이 : {}'.format(sum(map(len, X_train)) / len(X_train)))"
   ]
  },
  {
   "cell_type": "code",
   "execution_count": 9,
   "metadata": {
    "colab": {
     "base_uri": "https://localhost:8080/",
     "height": 279
    },
    "colab_type": "code",
    "id": "luSP57qug2fZ",
    "outputId": "2278875a-ef98-4b36-8fe8-b0c544befa71"
   },
   "outputs": [
    {
     "data": {
      "image/png": "[encoded data removed]",
      "text/plain": [
       "<Figure size 432x288 with 1 Axes>"
      ]
     },
     "metadata": {
      "tags": []
     },
     "output_type": "display_data"
    }
   ],
   "source": [
    "plt.hist([len(s) for s in X_train], bins=50)\n",
    "plt.xlabel('length of samples')\n",
    "plt.ylabel('number of samples')\n",
    "plt.show()"
   ]
  },
  {
   "cell_type": "markdown",
   "metadata": {
    "colab_type": "text",
    "id": "9NcTYzWwhAN5"
   },
   "source": [
    "- 각 뉴스의 길이는 다르며, 대체적으로 대부분의 뉴스가 100~200 사이의 길이를 가지는 것을 알 수 있다."
   ]
  },
  {
   "cell_type": "markdown",
   "metadata": {
    "colab_type": "text",
    "id": "M8c7YuXphHaH"
   },
   "source": [
    "<br>\n",
    "\n",
    "### 3.1.4 레이블 값 분포 확인\n",
    "\n",
    "- 이제 각 뉴스가 어떤 종류의 뉴스에 속하는 지 기재되어 있는 레이블 값의 분포를 살펴보자."
   ]
  },
  {
   "cell_type": "code",
   "execution_count": 13,
   "metadata": {
    "colab": {
     "base_uri": "https://localhost:8080/",
     "height": 320
    },
    "colab_type": "code",
    "id": "JjY04H0qhOPB",
    "outputId": "854fe7fb-4b89-4bdd-8757-b78e444dc544"
   },
   "outputs": [
    {
     "data": {
      "image/png": "[encoded data removed]",
      "text/plain": [
       "<Figure size 864x360 with 1 Axes>"
      ]
     },
     "metadata": {
      "tags": []
     },
     "output_type": "display_data"
    }
   ],
   "source": [
    "fig, axe = plt.subplots(ncols=1)\n",
    "fig.set_size_inches(12, 5)\n",
    "sns.countplot(y_train)\n",
    "plt.show()"
   ]
  },
  {
   "cell_type": "markdown",
   "metadata": {
    "colab_type": "text",
    "id": "r0pg9s5srgoS"
   },
   "source": [
    "- 3, 4가 가장 많은 레이블을 차지하는 것을 확인할 수 있다."
   ]
  },
  {
   "cell_type": "markdown",
   "metadata": {
    "colab_type": "text",
    "id": "ut5sbA9Tr8kE"
   },
   "source": [
    "<br>\n",
    "\n",
    "- 각 레이블에 대한 정확한 개수를 확인해보자."
   ]
  },
  {
   "cell_type": "code",
   "execution_count": 14,
   "metadata": {
    "colab": {
     "base_uri": "https://localhost:8080/",
     "height": 179
    },
    "colab_type": "code",
    "id": "gPjmHesQr_Mm",
    "outputId": "5298cff5-683e-4c0a-9532-e3b08493d75f"
   },
   "outputs": [
    {
     "name": "stdout",
     "output_type": "stream",
     "text": [
      "각 레이블에 대한 빈도수 :\n",
      "[[   0    1    2    3    4    5    6    7    8    9   10   11   12   13\n",
      "    14   15   16   17   18   19   20   21   22   23   24   25   26   27\n",
      "    28   29   30   31   32   33   34   35   36   37   38   39   40   41\n",
      "    42   43   44   45]\n",
      " [  55  432   74 3159 1949   17   48   16  139  101  124  390   49  172\n",
      "    26   20  444   39   66  549  269  100   15   41   62   92   24   15\n",
      "    48   19   45   39   32   11   50   10   49   19   19   24   36   30\n",
      "    13   21   12   18]]\n"
     ]
    }
   ],
   "source": [
    "unique_elements, counts_elements = np.unique(y_train, return_counts=True)\n",
    "\n",
    "print('각 레이블에 대한 빈도수 :')\n",
    "print(np.asarray((unique_elements, counts_elements)))"
   ]
  },
  {
   "cell_type": "code",
   "execution_count": 15,
   "metadata": {
    "colab": {
     "base_uri": "https://localhost:8080/",
     "height": 55
    },
    "colab_type": "code",
    "id": "wZFiXRqOsOVB",
    "outputId": "fe376f16-508a-4659-b411-d4859b8f0e85"
   },
   "outputs": [
    {
     "name": "stdout",
     "output_type": "stream",
     "text": [
      "{0: 55, 1: 432, 2: 74, 3: 3159, 4: 1949, 5: 17, 6: 48, 7: 16, 8: 139, 9: 101, 10: 124, 11: 390, 12: 49, 13: 172, 14: 26, 15: 20, 16: 444, 17: 39, 18: 66, 19: 549, 20: 269, 21: 100, 22: 15, 23: 41, 24: 62, 25: 92, 26: 24, 27: 15, 28: 48, 29: 19, 30: 45, 31: 39, 32: 32, 33: 11, 34: 50, 35: 10, 36: 49, 37: 19, 38: 19, 39: 24, 40: 36, 41: 30, 42: 13, 43: 21, 44: 12, 45: 18}\n"
     ]
    }
   ],
   "source": [
    "# 위의 출력결과를 병렬로 출력\n",
    "label_cnt = dict(zip(unique_elements, counts_elements))\n",
    "print(label_cnt)"
   ]
  },
  {
   "cell_type": "markdown",
   "metadata": {
    "colab_type": "text",
    "id": "g6_mWrZjsW5a"
   },
   "source": [
    "- 3번 레이블은 총 3,159개가 존재하고 4번 레이블은 총 1,949개가 존재하는 것을 확인할 수 있다."
   ]
  },
  {
   "cell_type": "markdown",
   "metadata": {
    "colab_type": "text",
    "id": "4_I4StCyslSI"
   },
   "source": [
    "<br>\n",
    "\n",
    "### 3.1.5 정수들이 의미하는 단어들\n",
    "\n",
    "- `X_train`에 들어 있는 숫자들이 각자 어떤 단어들을 나타내고 있는 지 확인해보자."
   ]
  },
  {
   "cell_type": "code",
   "execution_count": null,
   "metadata": {
    "colab": {},
    "colab_type": "code",
    "id": "ALOCkuw1syUp"
   },
   "outputs": [],
   "source": [
    "word_to_index = reuters.get_word_index()\n",
    "print(word_to_index)"
   ]
  },
  {
   "cell_type": "markdown",
   "metadata": {
    "colab_type": "text",
    "id": "m-TryiDLs372"
   },
   "source": [
    "```\n",
    "{'mdbl': 10996, 'fawc': 16260, 'degussa': 12089, 'woods': 8803, 'hanging': 13796, 'localized': 20672, 'sation': 20673, 'chanthaburi': 20675, 'refunding': 10997, 'hermann': 8804, 'passsengers': 20676, 'stipulate': 20677, 'heublein': 8352, 'screaming': 20713, 'tcby': 16261, 'four': 185, 'grains': 1642, 'broiler': 20680, 'wooden': 12090, 'wednesday': 1220, 'highveld': 13797, 'duffour': 7593, '0053': 20681, 'elections': 3914, '270': 2563, '271': 3551, '272': 5113, '273': 3552, '274': 3400, 'rudman': 7975, '276': 3401, '277': 3478, '278': 3632, '279': 4309, 'dormancy': 9381, - 이하 생략 -}\n",
    "```"
   ]
  },
  {
   "cell_type": "markdown",
   "metadata": {
    "colab_type": "text",
    "id": "k4lOQ1E0s9yu"
   },
   "source": [
    "- 어떤 단어에 어떤 인덱스가 부여되었는 지를 알 수 있다.\n",
    "- 하지만 이렇게 보는 것은 불편하다.\n",
    "- 좀 더 쉽게 확인하기 위해서 인덱스로부터 단어를 바로 알 수 있도록 해보자."
   ]
  },
  {
   "cell_type": "code",
   "execution_count": null,
   "metadata": {
    "colab": {},
    "colab_type": "code",
    "id": "BVugQY8UtIBv"
   },
   "outputs": [],
   "source": [
    "index_to_word = {}\n",
    "\n",
    "for key, value in word_to_index.items():\n",
    "    index_to_word[value] = key"
   ]
  },
  {
   "cell_type": "markdown",
   "metadata": {
    "colab_type": "text",
    "id": "6zItn3MJtPqe"
   },
   "source": [
    "- 이제 `index_to_word[]`에다가 인덱스를 입력하면 단어를 확인할 수 있다.\n",
    "- `28842`란 인덱스를 가진 단어는 무엇일까?"
   ]
  },
  {
   "cell_type": "code",
   "execution_count": 18,
   "metadata": {
    "colab": {
     "base_uri": "https://localhost:8080/",
     "height": 35
    },
    "colab_type": "code",
    "id": "EVRaMcBmtX-H",
    "outputId": "b33459bc-14c0-4bf8-9d90-747d65024ae5"
   },
   "outputs": [
    {
     "name": "stdout",
     "output_type": "stream",
     "text": [
      "빈도수 상위 28842번 단어 : nondiscriminatory\n"
     ]
    }
   ],
   "source": [
    "print('빈도수 상위 28842번 단어 : {}'.format(index_to_word[28842]))"
   ]
  },
  {
   "cell_type": "markdown",
   "metadata": {
    "colab_type": "text",
    "id": "x_DTyhVctf_p"
   },
   "source": [
    "- \"nondiscriminatory\"는 잘 쓰이지 않는 단어라서 등장 빈도 순위로 따지면 28,842등이라는 뜻이다."
   ]
  },
  {
   "cell_type": "markdown",
   "metadata": {
    "colab_type": "text",
    "id": "8Lab-aWOto4H"
   },
   "source": [
    "<br>\n",
    "\n",
    "- 1번 단어는 무엇일까?"
   ]
  },
  {
   "cell_type": "code",
   "execution_count": 19,
   "metadata": {
    "colab": {
     "base_uri": "https://localhost:8080/",
     "height": 35
    },
    "colab_type": "code",
    "id": "ISIaMu1vtrst",
    "outputId": "a86813c6-e792-4d2d-e588-c8c76568b985"
   },
   "outputs": [
    {
     "name": "stdout",
     "output_type": "stream",
     "text": [
      "빈도수 상위 1번 단어 : the\n"
     ]
    }
   ],
   "source": [
    "print('빈도수 상위 1번 단어 : {}'.format(index_to_word[1]))"
   ]
  },
  {
   "cell_type": "markdown",
   "metadata": {
    "colab_type": "text",
    "id": "Q_1uDrwftw63"
   },
   "source": [
    "- 보통 불용어로 분류되는 \"the\"가 이 데이터에서도 어김없이 등장 빈도수로 1위를 차지했다."
   ]
  },
  {
   "cell_type": "markdown",
   "metadata": {
    "colab_type": "text",
    "id": "zTr88j2Yt6l3"
   },
   "source": [
    "<br>\n",
    "\n",
    "### 3.1.6 첫 번째 뉴스 기사 복원\n",
    "\n",
    "- 이제 `index_to_word`를 이용해서 첫 번째 훈련용 뉴스 기사인 `X_train[0]`가 어떤 단어들로 구성되어 있는 지를 복원해보자.\n",
    "- 이는 `X_train[0]`에 있는 모든 단어들을 하나씩 불러와서 `index_to_word`의 입력으로 넣고 이를 계속해서 저장하면 된다.\n",
    "- 아래는 복원된 결과를 보여준다. (물론 정수 인코딩을 수행하기 전에도 어느 정도 전처리가 된 상태라서 제대로된 문장이 나오지는 않는다.)"
   ]
  },
  {
   "cell_type": "code",
   "execution_count": 20,
   "metadata": {
    "colab": {
     "base_uri": "https://localhost:8080/",
     "height": 55
    },
    "colab_type": "code",
    "id": "tBxEzPGVuTtZ",
    "outputId": "aab6c1b7-6f80-4db9-92ab-a09b3d39afd4"
   },
   "outputs": [
    {
     "name": "stdout",
     "output_type": "stream",
     "text": [
      "the wattie nondiscriminatory mln loss for plc said at only ended said commonwealth could 1 traders now april 0 a after said from 1985 and from foreign 000 april 0 prices its account year a but in this mln home an states earlier and rise and revs vs 000 its 16 vs 000 a but 3 psbr oils several and shareholders and dividend vs 000 its all 4 vs 000 1 mln agreed largely april 0 are 2 states will billion total and against 000 pct dlrs\n"
     ]
    }
   ],
   "source": [
    "print(' '.join([index_to_word[X] for X in X_train[0]]))"
   ]
  },
  {
   "cell_type": "markdown",
   "metadata": {
    "colab_type": "text",
    "id": "Iz_YAEfruYPv"
   },
   "source": [
    "<br>\n",
    "\n",
    "## 3.2 LSTM으로 로이터 뉴스 분류하기"
   ]
  },
  {
   "cell_type": "markdown",
   "metadata": {
    "colab_type": "text",
    "id": "n--Vmul2ueFQ"
   },
   "source": [
    "### 3.2.1 필요 라이브러리 임포트\n",
    "\n",
    "- 텍스트 분류 작업을 위해 필요한 도구들을 가져온다."
   ]
  },
  {
   "cell_type": "code",
   "execution_count": null,
   "metadata": {
    "colab": {},
    "colab_type": "code",
    "id": "zDPGhcdGujRB"
   },
   "outputs": [],
   "source": [
    "from tensorflow.keras.datasets import reuters\n",
    "from tensorflow.keras.models import Sequential\n",
    "from tensorflow.keras.layers import Dense, LSTM, Embedding\n",
    "from tensorflow.keras.preprocessing.sequence import pad_sequences\n",
    "from tensorflow.keras.utils import to_categorical\n",
    "from tensorflow.keras.callbacks import EarlyStopping, ModelCheckpoint\n",
    "from tensorflow.keras.models import load_model"
   ]
  },
  {
   "cell_type": "markdown",
   "metadata": {
    "colab_type": "text",
    "id": "ixZT4Kv4u9mi"
   },
   "source": [
    "<br>\n",
    "\n",
    "### 3.2.2 학습에 사용할 데이터셋 추출\n",
    "\n",
    "- 학습에서는 등장 빈도 순서가 가장 많은 상위 1~1,000번 째인 단어들만 사용한다."
   ]
  },
  {
   "cell_type": "code",
   "execution_count": null,
   "metadata": {
    "colab": {},
    "colab_type": "code",
    "id": "81HmeWHTvGO3"
   },
   "outputs": [],
   "source": [
    "(X_train, y_train), (X_test, y_test) = reuters.load_data(num_words=1000, test_split=0.2)"
   ]
  },
  {
   "cell_type": "markdown",
   "metadata": {
    "colab_type": "text",
    "id": "Sd-m6SOfvNYr"
   },
   "source": [
    "<br>\n",
    "\n",
    "### 3.2.3 뉴스 기사의 길이 맞추기 (패딩)\n",
    "\n",
    "- 훈련용 뉴스 기사 데이터와 테스트용 뉴스 기사 데이터에 있는 각각의 뉴스의 길이는 서로 다르다.\n",
    "- 즉, 각 기사는 단어의 수가 제각각이다.\n",
    "- 모델의 입력으로 사용하고자 모든 뉴스 기사의 길이를 동일하게 맞춘다.\n",
    "- `pad_sequences()`를 사용하여 `maxlen`의 값으로 `100`을 준다.\n",
    "- 이는 모든 뉴스 기사의 길이, 즉 단어 수를 100으로 일치시킨다는 뜻이다."
   ]
  },
  {
   "cell_type": "code",
   "execution_count": null,
   "metadata": {
    "colab": {},
    "colab_type": "code",
    "id": "2LBfPdkWvlNJ"
   },
   "outputs": [],
   "source": [
    "max_len = 100\n",
    "X_train = pad_sequences(X_train, maxlen=max_len) # 훈련용 뉴스 기사 패딩\n",
    "X_test = pad_sequences(X_test, maxlen=max_len) # 테스트용 뉴스 기사 패딩"
   ]
  },
  {
   "cell_type": "markdown",
   "metadata": {
    "colab_type": "text",
    "id": "_QHR06pFvw7g"
   },
   "source": [
    "- 뉴스 기사에는 분명히 단어의 수가 100개가 넘는 경우도 있을 것이고, 100개가 안되는 경우도 있을 것이다.\n",
    "- 그렇기 때문에 단어의 개수가 100개보다 많으면 100개만 선택하고 나머지는 제거하며, 100개보다 부족한 경우에는 부족한 부분이 0으로 패딩된다."
   ]
  },
  {
   "cell_type": "markdown",
   "metadata": {
    "colab_type": "text",
    "id": "4kRw_rUPv8zJ"
   },
   "source": [
    "<br>\n",
    "\n",
    "### 3.2.4 레이블 원-핫 인코딩\n",
    "\n",
    "- 이제 훈련용, 테스트용 뉴스 기사 데이터의 레이블에 원-핫 인코딩을 한다."
   ]
  },
  {
   "cell_type": "code",
   "execution_count": null,
   "metadata": {
    "colab": {},
    "colab_type": "code",
    "id": "kY76e1STwCyq"
   },
   "outputs": [],
   "source": [
    "y_train = to_categorical(y_train) # 훈련용 뉴스 기사 레이블의 원-핫 인코딩\n",
    "y_test = to_categorical(y_test) # 테스트용 뉴스 기사 레이블의 원-핫 인코딩"
   ]
  },
  {
   "cell_type": "markdown",
   "metadata": {
    "colab_type": "text",
    "id": "0c65M4hmw2fY"
   },
   "source": [
    "<br>\n",
    "\n",
    "### 3.2.5 모델 구성"
   ]
  },
  {
   "cell_type": "markdown",
   "metadata": {
    "colab_type": "text",
    "id": "RwTdtJikwK2E"
   },
   "source": [
    "#### 3.2.5.1 임베딩 층\n",
    "\n",
    "- 우선 `Embedding()`을 사용하여 임베딩 층(embedding layer)을 만들어야 한다.\n",
    "- `Embedding()`은 최소 두 개의 인자를 받는다.\n",
    "  - 첫 번째 인자 : 단어 집합의 크기\n",
    "  - 두 번째 인자 : 임베딩 벡터의 차원  \n",
    "\n",
    "- 결과적으로 아래 코드에서 `Embedding()`은 120의 차원을 가지는 임베딩 벡터를 1,000개 생성하는 역할을 한다."
   ]
  },
  {
   "cell_type": "markdown",
   "metadata": {
    "colab_type": "text",
    "id": "DFH9VumMwppZ"
   },
   "source": [
    "<br>\n",
    "\n",
    "#### 3.2.5.2 LSTM 층\n",
    "\n",
    "- 그 후에 샘플들을 `LSTM`에 넣는다.\n",
    "- `LSTM`의 인자는 메모리 셀의 은닉 상태의 크기(`hidden_size`)이다."
   ]
  },
  {
   "cell_type": "markdown",
   "metadata": {
    "colab_type": "text",
    "id": "brCS-G2Iw6gH"
   },
   "source": [
    "<br>\n",
    "\n",
    "#### 3.2.5.3 출력층\n",
    "\n",
    "- 46개의 카테고리를 분류해야 하므로, 출력층에서는 46개의 뉴런을 사용한다.\n",
    "- 또한 출력층의 활성화 함수로 소프트맥스 함수를 사용한다. (소프트맥스 함수는 각 입력에 대해서 46개의 확률 분포를 만들어낸다.)"
   ]
  },
  {
   "cell_type": "code",
   "execution_count": null,
   "metadata": {
    "colab": {},
    "colab_type": "code",
    "id": "Uoru_3-8xIf5"
   },
   "outputs": [],
   "source": [
    "model = Sequential()\n",
    "model.add(Embedding(1000, 120))\n",
    "model.add(LSTM(120))\n",
    "model.add(Dense(46, activation='softmax'))"
   ]
  },
  {
   "cell_type": "markdown",
   "metadata": {
    "colab_type": "text",
    "id": "e81YCSUrzcmM"
   },
   "source": [
    "<br>\n",
    "\n",
    "### 3.2.6 콜백(Callbacks) 설정"
   ]
  },
  {
   "cell_type": "markdown",
   "metadata": {
    "colab_type": "text",
    "id": "JrluCnMSxYFP"
   },
   "source": [
    "#### 3.2.6.1 학습 조기 종료(Early Stopping) 설정\n",
    "\n",
    "- 검증 데이터 손실(`val_loss`)이 증가한다는 것은 과적합 징후이다.\n",
    "- 그러므로 검증 데이터 손실이 4회 증가하면 학습을 **조기 종료(Early Stopping)**한다."
   ]
  },
  {
   "cell_type": "code",
   "execution_count": null,
   "metadata": {
    "colab": {},
    "colab_type": "code",
    "id": "Uwt5qlwOx9-g"
   },
   "outputs": [],
   "source": [
    "es = EarlyStopping(monitor='val_loss', mode='min', verbose=1, patience=4)"
   ]
  },
  {
   "cell_type": "markdown",
   "metadata": {
    "colab_type": "text",
    "id": "0QjH5Ou2xtpA"
   },
   "source": [
    "<br>\n",
    "\n",
    "#### 3.2.6.2 모델 저장 체크 포인트 설정\n",
    "\n",
    "- 또한, `ModelCheckpoint`를 사용하여 검증 데이터의 정확도(`val_acc`)가 이전보다 좋아질 경우에만 모델을 저장한다."
   ]
  },
  {
   "cell_type": "code",
   "execution_count": null,
   "metadata": {
    "colab": {},
    "colab_type": "code",
    "id": "lNq20NDux1r_"
   },
   "outputs": [],
   "source": [
    "mc = ModelCheckpoint('best_model.h5', monitor='val_acc', mode='max', verbose=1, save_best_only=True)"
   ]
  },
  {
   "cell_type": "markdown",
   "metadata": {
    "colab_type": "text",
    "id": "n0N39HoOygR-"
   },
   "source": [
    "<br>\n",
    "\n",
    "### 3.2.7 모델 컴파일\n",
    "\n",
    "- 이 경우 다중 클래스 분류(Multi-Class Classification) 문제이다.\n",
    "- 그러므로 손실 함수로는 `categorical_crossentropy`를 사용한다.\n",
    "- `categorical_crossentropy`는 모델의 예측값과 실제값에 대해서 두 확률 분포 사이의 거리를 최소화하도록 훈련한다."
   ]
  },
  {
   "cell_type": "code",
   "execution_count": null,
   "metadata": {
    "colab": {},
    "colab_type": "code",
    "id": "ZVFBzj9vyzkQ"
   },
   "outputs": [],
   "source": [
    "model.compile(loss='categorical_crossentropy', optimizer='adam', metrics=['acc'])"
   ]
  },
  {
   "cell_type": "markdown",
   "metadata": {
    "colab_type": "text",
    "id": "Zzacerigy6UC"
   },
   "source": [
    "<br>\n",
    "\n",
    "### 3.2.8 모델 학습\n",
    "\n",
    "- `validation_data`로 `X_test`와 `y_test`를 사용한다.\n",
    "- `val_loss`가 줄어들다가 증가하는 상황이 오면 과적합(overfitting)으로 판단하기 위함이다."
   ]
  },
  {
   "cell_type": "code",
   "execution_count": 29,
   "metadata": {
    "colab": {
     "base_uri": "https://localhost:8080/",
     "height": 1000
    },
    "colab_type": "code",
    "id": "0_xkhH_UzHI4",
    "outputId": "90d5cab5-6548-40d8-9257-e4c68a62e8e5"
   },
   "outputs": [
    {
     "name": "stdout",
     "output_type": "stream",
     "text": [
      "Epoch 1/30\n",
      "71/71 [==============================] - ETA: 0s - loss: 2.6393 - acc: 0.3334\n",
      "Epoch 00001: val_acc improved from -inf to 0.46705, saving model to best_model.h5\n",
      "71/71 [==============================] - 26s 360ms/step - loss: 2.6393 - acc: 0.3334 - val_loss: 2.2866 - val_acc: 0.4671\n",
      "Epoch 2/30\n",
      "71/71 [==============================] - ETA: 0s - loss: 2.0551 - acc: 0.4715\n",
      "Epoch 00002: val_acc improved from 0.46705 to 0.49332, saving model to best_model.h5\n",
      "71/71 [==============================] - 25s 357ms/step - loss: 2.0551 - acc: 0.4715 - val_loss: 1.9487 - val_acc: 0.4933\n",
      "Epoch 3/30\n",
      "71/71 [==============================] - ETA: 0s - loss: 1.8274 - acc: 0.5275\n",
      "Epoch 00003: val_acc improved from 0.49332 to 0.53963, saving model to best_model.h5\n",
      "71/71 [==============================] - 26s 360ms/step - loss: 1.8274 - acc: 0.5275 - val_loss: 1.7810 - val_acc: 0.5396\n",
      "Epoch 4/30\n",
      "71/71 [==============================] - ETA: 0s - loss: 1.7155 - acc: 0.5507\n",
      "Epoch 00004: val_acc improved from 0.53963 to 0.55387, saving model to best_model.h5\n",
      "71/71 [==============================] - 25s 359ms/step - loss: 1.7155 - acc: 0.5507 - val_loss: 1.7210 - val_acc: 0.5539\n",
      "Epoch 5/30\n",
      "71/71 [==============================] - ETA: 0s - loss: 1.6472 - acc: 0.5776\n",
      "Epoch 00005: val_acc improved from 0.55387 to 0.57881, saving model to best_model.h5\n",
      "71/71 [==============================] - 26s 367ms/step - loss: 1.6472 - acc: 0.5776 - val_loss: 1.7003 - val_acc: 0.5788\n",
      "Epoch 6/30\n",
      "71/71 [==============================] - ETA: 0s - loss: 1.6037 - acc: 0.5905\n",
      "Epoch 00006: val_acc improved from 0.57881 to 0.59261, saving model to best_model.h5\n",
      "71/71 [==============================] - 26s 362ms/step - loss: 1.6037 - acc: 0.5905 - val_loss: 1.6284 - val_acc: 0.5926\n",
      "Epoch 7/30\n",
      "71/71 [==============================] - ETA: 0s - loss: 1.6247 - acc: 0.5921\n",
      "Epoch 00007: val_acc improved from 0.59261 to 0.59929, saving model to best_model.h5\n",
      "71/71 [==============================] - 25s 357ms/step - loss: 1.6247 - acc: 0.5921 - val_loss: 1.6596 - val_acc: 0.5993\n",
      "Epoch 8/30\n",
      "71/71 [==============================] - ETA: 0s - loss: 1.4979 - acc: 0.6246\n",
      "Epoch 00008: val_acc improved from 0.59929 to 0.60864, saving model to best_model.h5\n",
      "71/71 [==============================] - 25s 356ms/step - loss: 1.4979 - acc: 0.6246 - val_loss: 1.5796 - val_acc: 0.6086\n",
      "Epoch 9/30\n",
      "71/71 [==============================] - ETA: 0s - loss: 1.4086 - acc: 0.6422\n",
      "Epoch 00009: val_acc did not improve from 0.60864\n",
      "71/71 [==============================] - 25s 353ms/step - loss: 1.4086 - acc: 0.6422 - val_loss: 1.5596 - val_acc: 0.5846\n",
      "Epoch 10/30\n",
      "71/71 [==============================] - ETA: 0s - loss: 1.3547 - acc: 0.6569\n",
      "Epoch 00010: val_acc improved from 0.60864 to 0.64114, saving model to best_model.h5\n",
      "71/71 [==============================] - 25s 354ms/step - loss: 1.3547 - acc: 0.6569 - val_loss: 1.4582 - val_acc: 0.6411\n",
      "Epoch 11/30\n",
      "71/71 [==============================] - ETA: 0s - loss: 1.2558 - acc: 0.6769\n",
      "Epoch 00011: val_acc improved from 0.64114 to 0.65450, saving model to best_model.h5\n",
      "71/71 [==============================] - 26s 361ms/step - loss: 1.2558 - acc: 0.6769 - val_loss: 1.3728 - val_acc: 0.6545\n",
      "Epoch 12/30\n",
      "71/71 [==============================] - ETA: 0s - loss: 1.1972 - acc: 0.6946\n",
      "Epoch 00012: val_acc improved from 0.65450 to 0.66162, saving model to best_model.h5\n",
      "71/71 [==============================] - 26s 360ms/step - loss: 1.1972 - acc: 0.6946 - val_loss: 1.3498 - val_acc: 0.6616\n",
      "Epoch 13/30\n",
      "71/71 [==============================] - ETA: 0s - loss: 1.1293 - acc: 0.7096\n",
      "Epoch 00013: val_acc improved from 0.66162 to 0.67275, saving model to best_model.h5\n",
      "71/71 [==============================] - 26s 360ms/step - loss: 1.1293 - acc: 0.7096 - val_loss: 1.3283 - val_acc: 0.6728\n",
      "Epoch 14/30\n",
      "71/71 [==============================] - ETA: 0s - loss: 1.0790 - acc: 0.7238\n",
      "Epoch 00014: val_acc did not improve from 0.67275\n",
      "71/71 [==============================] - 26s 360ms/step - loss: 1.0790 - acc: 0.7238 - val_loss: 1.2873 - val_acc: 0.6705\n",
      "Epoch 15/30\n",
      "71/71 [==============================] - ETA: 0s - loss: 1.0420 - acc: 0.7357\n",
      "Epoch 00015: val_acc improved from 0.67275 to 0.67988, saving model to best_model.h5\n",
      "71/71 [==============================] - 26s 362ms/step - loss: 1.0420 - acc: 0.7357 - val_loss: 1.2879 - val_acc: 0.6799\n",
      "Epoch 16/30\n",
      "71/71 [==============================] - ETA: 0s - loss: 0.9855 - acc: 0.7443\n",
      "Epoch 00016: val_acc improved from 0.67988 to 0.68967, saving model to best_model.h5\n",
      "71/71 [==============================] - 26s 362ms/step - loss: 0.9855 - acc: 0.7443 - val_loss: 1.2501 - val_acc: 0.6897\n",
      "Epoch 17/30\n",
      "71/71 [==============================] - ETA: 0s - loss: 0.9315 - acc: 0.7656\n",
      "Epoch 00017: val_acc did not improve from 0.68967\n",
      "71/71 [==============================] - 26s 373ms/step - loss: 0.9315 - acc: 0.7656 - val_loss: 1.2563 - val_acc: 0.6870\n",
      "Epoch 18/30\n",
      "71/71 [==============================] - ETA: 0s - loss: 0.8924 - acc: 0.7742\n",
      "Epoch 00018: val_acc did not improve from 0.68967\n",
      "71/71 [==============================] - 26s 361ms/step - loss: 0.8924 - acc: 0.7742 - val_loss: 1.2693 - val_acc: 0.6879\n",
      "Epoch 19/30\n",
      "71/71 [==============================] - ETA: 0s - loss: 0.8700 - acc: 0.7801\n",
      "Epoch 00019: val_acc improved from 0.68967 to 0.70169, saving model to best_model.h5\n",
      "71/71 [==============================] - 26s 360ms/step - loss: 0.8700 - acc: 0.7801 - val_loss: 1.2447 - val_acc: 0.7017\n",
      "Epoch 20/30\n",
      "71/71 [==============================] - ETA: 0s - loss: 0.8204 - acc: 0.7919\n",
      "Epoch 00020: val_acc did not improve from 0.70169\n",
      "71/71 [==============================] - 25s 359ms/step - loss: 0.8204 - acc: 0.7919 - val_loss: 1.2510 - val_acc: 0.6937\n",
      "Epoch 21/30\n",
      "71/71 [==============================] - ETA: 0s - loss: 0.7884 - acc: 0.8026\n",
      "Epoch 00021: val_acc improved from 0.70169 to 0.70882, saving model to best_model.h5\n",
      "71/71 [==============================] - 25s 359ms/step - loss: 0.7884 - acc: 0.8026 - val_loss: 1.2239 - val_acc: 0.7088\n",
      "Epoch 22/30\n",
      "71/71 [==============================] - ETA: 0s - loss: 0.7527 - acc: 0.8120\n",
      "Epoch 00022: val_acc did not improve from 0.70882\n",
      "71/71 [==============================] - 26s 360ms/step - loss: 0.7527 - acc: 0.8120 - val_loss: 1.2751 - val_acc: 0.6986\n",
      "Epoch 23/30\n",
      "71/71 [==============================] - ETA: 0s - loss: 0.7244 - acc: 0.8160\n",
      "Epoch 00023: val_acc did not improve from 0.70882\n",
      "71/71 [==============================] - 25s 358ms/step - loss: 0.7244 - acc: 0.8160 - val_loss: 1.3174 - val_acc: 0.7004\n",
      "Epoch 24/30\n",
      "71/71 [==============================] - ETA: 0s - loss: 0.7221 - acc: 0.8216\n",
      "Epoch 00024: val_acc improved from 0.70882 to 0.71015, saving model to best_model.h5\n",
      "71/71 [==============================] - 26s 361ms/step - loss: 0.7221 - acc: 0.8216 - val_loss: 1.2636 - val_acc: 0.7102\n",
      "Epoch 25/30\n",
      "71/71 [==============================] - ETA: 0s - loss: 0.6728 - acc: 0.8348\n",
      "Epoch 00025: val_acc did not improve from 0.71015\n",
      "71/71 [==============================] - 26s 364ms/step - loss: 0.6728 - acc: 0.8348 - val_loss: 1.3007 - val_acc: 0.7039\n",
      "Epoch 00025: early stopping\n"
     ]
    }
   ],
   "source": [
    "history = model.fit(X_train, y_train,\n",
    "                    batch_size=128, epochs=30,\n",
    "                    callbacks=[es, mc], validation_data=(X_test, y_test))"
   ]
  },
  {
   "cell_type": "markdown",
   "metadata": {
    "colab_type": "text",
    "id": "F-uGhM96z9Vv"
   },
   "source": [
    "- 25번 째 에포크에서 훈련이 조기 종료되었다."
   ]
  },
  {
   "cell_type": "markdown",
   "metadata": {
    "colab_type": "text",
    "id": "j5_r3WKO0F2P"
   },
   "source": [
    "<br>\n",
    "\n",
    "### 3.2.9 모델 성능 평가\n",
    "\n",
    "- 이제 테스트 데이터에 대해서 정확도를 측정할 차례이다.\n",
    "- 훈련 과정에서 검증 데이터가 가장 높았을 때 저장된 모델인 `best_model.h5`를 로드하고, 성능을 평가한다."
   ]
  },
  {
   "cell_type": "code",
   "execution_count": 30,
   "metadata": {
    "colab": {
     "base_uri": "https://localhost:8080/",
     "height": 89
    },
    "colab_type": "code",
    "id": "3ldKes6n0USk",
    "outputId": "e0fc50e9-a256-469e-b1dc-1d8f7136a26d"
   },
   "outputs": [
    {
     "name": "stdout",
     "output_type": "stream",
     "text": [
      "WARNING:tensorflow:Error in loading the saved optimizer state. As a result, your model is starting with a freshly initialized optimizer.\n",
      "71/71 [==============================] - 2s 29ms/step - loss: 1.2637 - acc: 0.7102\n",
      "\n",
      " 테스트 정확도 : 0.7102\n"
     ]
    }
   ],
   "source": [
    "loaded_model = load_model('best_model.h5')\n",
    "print('\\n 테스트 정확도 : %.4f' % (loaded_model.evaluate(X_test, y_test)[1]))"
   ]
  },
  {
   "cell_type": "markdown",
   "metadata": {
    "colab_type": "text",
    "id": "XjKJBYgz4Qm6"
   },
   "source": [
    "- 테스트 데이터에 대한 정확도는 71.02%이다."
   ]
  },
  {
   "cell_type": "markdown",
   "metadata": {
    "colab_type": "text",
    "id": "mGLKOnKE47MB"
   },
   "source": [
    "<br>\n",
    "\n",
    "### 3.2.10 검증 데이터와 테스트 데이터\n",
    "\n",
    "- 케라스의 `model.fit(validation_data)`는 실제 기계가 데이터를 훈련하지는 않고 에포크마다 정확도와 loss를 출력하여 과적합을 판단하기 위한 용도로만 사용된다.\n",
    "- 그래서 `validation_data`에서 이미 `X_test`, `y_test`를 사용했지만 기계는 아직 이 데이터로 학습한 적이 없는 상태이다.\n",
    "- 그래서 모델이 학습하지 않은 데이터인 `X_test`, `y_test`를 테스트 데이터로서 성능 평가 용도로 `model.evaluate()`에서도 다시 사용했다.\n",
    "- 이번 모델은 검증 데이터와 테스트 데이터가 동일한 셈이다.\n",
    "- 사실 데이터가 충분하다면, 검증 데이터와 테스트 데이터는 다르게 사용하는 것이 좋다."
   ]
  },
  {
   "cell_type": "markdown",
   "metadata": {
    "colab_type": "text",
    "id": "5PPtRxhf4-wP"
   },
   "source": [
    "- `validation_data`에 테스트 데이터인 `X_test`와 `y_test`를 사용했으므로, 결국 가장 높았던 `val_acc`가 `model.evaluate()`로 얻는 테스트 데이터에 대한 정확도와 동일하다.\n",
    "- 이는 앞서 스팸 메일 분류하기 실습에서 `validation_data` 대신 `validation_split=0.2`를 사용하여 검증 데이터와 테스트 데이터를 다른 데이터를 사용했을 때와는 다른 결과이다."
   ]
  },
  {
   "cell_type": "markdown",
   "metadata": {
    "colab_type": "text",
    "id": "sGyXtpXW5Y6a"
   },
   "source": [
    "<br>\n",
    "\n",
    "### 3.2.11 손실 시각화\n",
    "\n",
    "- 에포크마다 변화하는 훈련 데이터와 검증 데이터(테스트 데이터)의 손실을 시각화해보자."
   ]
  },
  {
   "cell_type": "code",
   "execution_count": 31,
   "metadata": {
    "colab": {
     "base_uri": "https://localhost:8080/",
     "height": 295
    },
    "colab_type": "code",
    "id": "rn-8Tmmg5i3_",
    "outputId": "4185349d-139f-4327-af33-5be5a5abfcb0"
   },
   "outputs": [
    {
     "data": {
      "image/png": "[encoded data removed]",
      "text/plain": [
       "<Figure size 432x288 with 1 Axes>"
      ]
     },
     "metadata": {
      "tags": []
     },
     "output_type": "display_data"
    }
   ],
   "source": [
    "epochs = range(1, len(history.history['acc']) + 1)\n",
    "\n",
    "plt.plot(epochs, history.history['loss'])\n",
    "plt.plot(epochs, history.history['val_loss'])\n",
    "\n",
    "plt.title('model loss')\n",
    "plt.ylabel('loss')\n",
    "plt.xlabel('epoch')\n",
    "plt.legend(['train', 'test'], loc='upper left')\n",
    "\n",
    "plt.show()"
   ]
  },
  {
   "cell_type": "markdown",
   "metadata": {
    "colab_type": "text",
    "id": "3DByU5Pb56SE"
   },
   "source": [
    "- 전체적으로는 검증 데이터의 손실이 줄어드는 경향이 있지만 뒤로 갈수록 점차 검증 데이터의 손실이 증가하려고 하는 경향이 보인다.\n",
    "- 이는 과적합의 신호일 수 있다."
   ]
  }
 ],
 "metadata": {
  "colab": {
   "collapsed_sections": [],
   "name": "Ch11_v03_Reuters-News-Classification.ipynb",
   "provenance": [],
   "toc_visible": true
  },
  "kernelspec": {
   "display_name": "Python 3",
   "language": "python",
   "name": "python3"
  },
  "language_info": {
   "codemirror_mode": {
    "name": "ipython",
    "version": 3
   },
   "file_extension": ".py",
   "mimetype": "text/x-python",
   "name": "python",
   "nbconvert_exporter": "python",
   "pygments_lexer": "ipython3",
   "version": "3.6.9"
  }
 },
 "nbformat": 4,
 "nbformat_minor": 4
}
