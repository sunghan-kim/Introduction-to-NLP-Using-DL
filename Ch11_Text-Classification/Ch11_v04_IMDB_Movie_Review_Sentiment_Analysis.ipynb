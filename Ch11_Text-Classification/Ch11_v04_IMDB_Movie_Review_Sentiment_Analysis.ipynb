{
 "cells": [
  {
   "cell_type": "markdown",
   "metadata": {
    "colab_type": "text",
    "id": "ffxgFmtAlNff"
   },
   "source": [
    "# Ch11. 텍스트 분류 (Text Classification)"
   ]
  },
  {
   "cell_type": "markdown",
   "metadata": {
    "colab_type": "text",
    "id": "GtTmxUUNlV10"
   },
   "source": [
    "# v04. IMDB 리뷰 감성 분류하기 (IMDB Movie Review Sentiment Analysis)"
   ]
  },
  {
   "cell_type": "markdown",
   "metadata": {
    "colab_type": "text",
    "id": "53SkCURKlde1"
   },
   "source": [
    "- 머신 러닝에서 텍스트 분류, 그 중에서도 특히 감성 분류를 연습하기 위해 자주 사용하는 데이터가 있다.\n",
    "- 바로 영화 사이트 IMDB의 리뷰 데이터이다.\n",
    "- 이 데이터는 리뷰에 대한 텍스트와 해당 리뷰가 긍정인 경우 1을 부정인 경우 0으로 표시한 레이블로 구성된 데이터이다."
   ]
  },
  {
   "cell_type": "markdown",
   "metadata": {
    "colab_type": "text",
    "id": "meCvMu5Tl5CU"
   },
   "source": [
    "- 스탠포드 대학교에서 2011년에 낸 논문에서 이 데이터를 소개하였다.\n",
    "- 당시 논문에서는 이 데이터를 훈련 데이터와 테스트 데이터를 50:50 비율로 분할하여 88.89%의 정확도를 얻었다고 소개하고 있다.\n",
    "- [논문 링크](http://ai.stanford.edu/~amaas/papers/wvSent_acl2011.pdf)"
   ]
  },
  {
   "cell_type": "markdown",
   "metadata": {
    "colab_type": "text",
    "id": "kCdq4zsGmF_M"
   },
   "source": [
    "- 케라스에서는 해당 IMDB 영화 리뷰 데이터를 `imdb.load_data()` 함수를 통해 다운로드 할 수 있도록 지원하고 있다.\n",
    "- 케라스로부터 해당 데이터를 다운로드 받아 감성 분류를 수행하는 모델을 만들어보자."
   ]
  },
  {
   "cell_type": "markdown",
   "metadata": {
    "colab_type": "text",
    "id": "2hHEUgMvmTxS"
   },
   "source": [
    "<br>\n",
    "\n",
    "## 4.1 IMDB 리뷰 데이터에 대한 이해"
   ]
  },
  {
   "cell_type": "markdown",
   "metadata": {
    "colab_type": "text",
    "id": "Hs_tUQBHma0K"
   },
   "source": [
    "### 4.1.1 필요 라이브러리 임포트"
   ]
  },
  {
   "cell_type": "code",
   "execution_count": null,
   "metadata": {
    "colab": {},
    "colab_type": "code",
    "id": "nzydCDV7mgvz"
   },
   "outputs": [],
   "source": [
    "from tensorflow.keras.datasets import imdb\n",
    "%matplotlib inline\n",
    "import matplotlib.pyplot as plt\n",
    "import numpy as np"
   ]
  },
  {
   "cell_type": "markdown",
   "metadata": {
    "colab_type": "text",
    "id": "GmD6kbQUmpx7"
   },
   "source": [
    "<br>\n",
    "\n",
    "### 4.1.2 데이터 불러오기\n",
    "\n",
    "- 영화 리뷰 데이터를 갖고오자.\n",
    "- 케라스에서 제공하는 IMDB 리뷰 데이터는 앞서 배운 로이터 뉴스 데이터에서 훈련 데이터와 테스트 데이터를 우리가 직접 비율을 조절했던 것과는 달리 이미 훈련 데이터와 테스트 데이터를 50:50 비율로 구분해서 제공한다.\n",
    "- 로이터 뉴스 데이터에서 사용했던 `test_split`과 같은 데이터의 비율을 조절하는 파라미터는 `imdb.load_data`에서는 지원하지 않는다."
   ]
  },
  {
   "cell_type": "code",
   "execution_count": 2,
   "metadata": {
    "colab": {
     "base_uri": "https://localhost:8080/",
     "height": 53
    },
    "colab_type": "code",
    "id": "v48XNpLQn9vH",
    "outputId": "8121a734-d600-48a6-9de8-a3be0cb7cf2f"
   },
   "outputs": [
    {
     "name": "stdout",
     "output_type": "stream",
     "text": [
      "Downloading data from https://storage.googleapis.com/tensorflow/tf-keras-datasets/imdb.npz\n",
      "17465344/17464789 [==============================] - 0s 0us/step\n"
     ]
    }
   ],
   "source": [
    "# 영화 리뷰는 X_train에, 감성 정보는 y_train에 저장된다.\n",
    "# 테스트용 리뷰는 X_test에, 테스트용 리뷰의 감성 정보는 y_test에 저장된다.\n",
    "(X_train, y_train), (X_test, y_test) = imdb.load_data()\n",
    "# (X_train, y_train), (X_test, y_test) = imdb.load_data(num_words=10000)"
   ]
  },
  {
   "cell_type": "markdown",
   "metadata": {
    "colab_type": "text",
    "id": "LA5YJgHQoPjp"
   },
   "source": [
    "- `imdb.data_load()`의 파라미터로 `num_words`를 사용하면 이 데이터에서 등장 빈도 순위로 몇 번째에 해당하는 단어까지를 사용할 것인지를 의미한다.\n",
    "- 예를 들어서 `10000`을 넣으면, 등장 빈도 순위가 1~10,000에 해당하는 단어만 사용하게 된다.\n",
    "- 즉, 단어 집합의 크기는 10,000이 된다.\n",
    "- 지금은 별도로 제한하지 않는다."
   ]
  },
  {
   "cell_type": "markdown",
   "metadata": {
    "colab_type": "text",
    "id": "4ump16n9oiuP"
   },
   "source": [
    "<br>\n",
    "\n",
    "### 4.1.3 데이터 개수 확인"
   ]
  },
  {
   "cell_type": "code",
   "execution_count": 3,
   "metadata": {
    "colab": {
     "base_uri": "https://localhost:8080/",
     "height": 53
    },
    "colab_type": "code",
    "id": "V2wi4tz5onyJ",
    "outputId": "999e54b0-e678-416f-c826-3b20748c7e83"
   },
   "outputs": [
    {
     "name": "stdout",
     "output_type": "stream",
     "text": [
      "훈련용 리뷰 개수 : 25000\n",
      "테스트용 리뷰 개수 : 25000\n"
     ]
    }
   ],
   "source": [
    "print('훈련용 리뷰 개수 : {}'.format(len(X_train)))\n",
    "print('테스트용 리뷰 개수 : {}'.format(len(X_test )))"
   ]
  },
  {
   "cell_type": "code",
   "execution_count": 4,
   "metadata": {
    "colab": {
     "base_uri": "https://localhost:8080/",
     "height": 35
    },
    "colab_type": "code",
    "id": "RnmAeHslfIwx",
    "outputId": "18a25a35-4543-4b2a-bcf1-2527fdbead23"
   },
   "outputs": [
    {
     "name": "stdout",
     "output_type": "stream",
     "text": [
      "카테고리 : 2\n"
     ]
    }
   ],
   "source": [
    "num_classes = max(y_train) + 1\n",
    "print('카테고리 : {}'.format(num_classes))"
   ]
  },
  {
   "cell_type": "markdown",
   "metadata": {
    "colab_type": "text",
    "id": "LcLLNIa5fOYD"
   },
   "source": [
    "- `y_train`는 0부터 시작해서 레이블을 부여한다.\n",
    "- 그러므로 `y_train`에 들어 있는 가장 큰 수에 +1을 하여 출력하면 카테고리가 총 몇 개인 지를 알 수 있다."
   ]
  },
  {
   "cell_type": "markdown",
   "metadata": {
    "colab_type": "text",
    "id": "9YqGNi1_grto"
   },
   "source": [
    "- 훈련용 리뷰는 25,000개, 테스트용 리뷰는 25,000개, 카테고리는 2개이다."
   ]
  },
  {
   "cell_type": "markdown",
   "metadata": {
    "colab_type": "text",
    "id": "vapSRu4cgxKo"
   },
   "source": [
    "<br>\n",
    "\n",
    "### 4.1.4 훈련 데이터의 구성 확인\n",
    "\n",
    "- 훈련 데이터가 어떻게 구성되어 있는 지를 확인하기 위해 첫 번째 훈련용 리뷰를 출력해보자.\n",
    "- 다시 말해, 25,000개의 영화 리뷰 중 첫 번째 리뷰 텍스트와 그 리뷰에 대한 레이블을 출력해보는 것이다."
   ]
  },
  {
   "cell_type": "code",
   "execution_count": 5,
   "metadata": {
    "colab": {
     "base_uri": "https://localhost:8080/",
     "height": 55
    },
    "colab_type": "code",
    "id": "voHBvtd1hB7g",
    "outputId": "148eb513-6713-4f73-e331-72dff7241986"
   },
   "outputs": [
    {
     "name": "stdout",
     "output_type": "stream",
     "text": [
      "[1, 14, 22, 16, 43, 530, 973, 1622, 1385, 65, 458, 4468, 66, 3941, 4, 173, 36, 256, 5, 25, 100, 43, 838, 112, 50, 670, 22665, 9, 35, 480, 284, 5, 150, 4, 172, 112, 167, 21631, 336, 385, 39, 4, 172, 4536, 1111, 17, 546, 38, 13, 447, 4, 192, 50, 16, 6, 147, 2025, 19, 14, 22, 4, 1920, 4613, 469, 4, 22, 71, 87, 12, 16, 43, 530, 38, 76, 15, 13, 1247, 4, 22, 17, 515, 17, 12, 16, 626, 18, 19193, 5, 62, 386, 12, 8, 316, 8, 106, 5, 4, 2223, 5244, 16, 480, 66, 3785, 33, 4, 130, 12, 16, 38, 619, 5, 25, 124, 51, 36, 135, 48, 25, 1415, 33, 6, 22, 12, 215, 28, 77, 52, 5, 14, 407, 16, 82, 10311, 8, 4, 107, 117, 5952, 15, 256, 4, 31050, 7, 3766, 5, 723, 36, 71, 43, 530, 476, 26, 400, 317, 46, 7, 4, 12118, 1029, 13, 104, 88, 4, 381, 15, 297, 98, 32, 2071, 56, 26, 141, 6, 194, 7486, 18, 4, 226, 22, 21, 134, 476, 26, 480, 5, 144, 30, 5535, 18, 51, 36, 28, 224, 92, 25, 104, 4, 226, 65, 16, 38, 1334, 88, 12, 16, 283, 5, 16, 4472, 113, 103, 32, 15, 16, 5345, 19, 178, 32]\n"
     ]
    }
   ],
   "source": [
    "print(X_train[0])"
   ]
  },
  {
   "cell_type": "markdown",
   "metadata": {
    "colab_type": "text",
    "id": "TQUJdHy1kqTY"
   },
   "source": [
    "- 첫 번째 훈련용 리뷰(`X_train[0]`, `y_train[0]`)에서 리뷰 본문에 해당하는 `X_train[0]`에는 숫자들이 들어 있다.\n",
    "- 이 데이터는 토큰화와 정수 인코딩이라는 텍스트 전처리가 끝난 상태이다."
   ]
  },
  {
   "cell_type": "markdown",
   "metadata": {
    "colab_type": "text",
    "id": "LyaQyhI5kr6E"
   },
   "source": [
    "- IMDB 리뷰 데이터는 전체 데이터에서 각 단어들의 등장 빈도에 따라서 인덱스를 부여했다.\n",
    "  - `1`이라는 숫자는 이 단어가 이 데이터에서 등장 빈도가 1등이라는 뜻이다.\n",
    "  - `973`이라는 숫자는 이 단어가 데이터에서 973번 째로 빈도수가 높은 단어라는 뜻이다.  \n",
    "\n",
    "\n",
    "- 그리고 위에서 단어 집합의 크기를 제한하지 않았기 때문에 22,665와 같은 큰 숫자도 보인다."
   ]
  },
  {
   "cell_type": "code",
   "execution_count": 6,
   "metadata": {
    "colab": {
     "base_uri": "https://localhost:8080/",
     "height": 35
    },
    "colab_type": "code",
    "id": "S3olBXtehDih",
    "outputId": "bf74f74a-034c-41d4-86a4-b4081f2a3404"
   },
   "outputs": [
    {
     "name": "stdout",
     "output_type": "stream",
     "text": [
      "1\n"
     ]
    }
   ],
   "source": [
    "print(y_train[0])"
   ]
  },
  {
   "cell_type": "markdown",
   "metadata": {
    "colab_type": "text",
    "id": "TWEamGqMhLrA"
   },
   "source": [
    "- 첫 번째 훈련용 리뷰의 레이블에 해당하는 `y_train[0]`의 값은 1이다.\n",
    "- 이 값은 첫 번째 훈련 데이터가 2개의 카테고리 중 1에 해당하는 카테고리임을 의미한다.\n",
    "- 이 예제의 경우 감성 정보로서 0 또는 1의 값을 가진다.\n",
    "- 이 경우에는 긍정을 의미하는 1의 값을 가진다."
   ]
  },
  {
   "cell_type": "markdown",
   "metadata": {
    "colab_type": "text",
    "id": "DBoXTpbqhdXf"
   },
   "source": [
    "<br>\n",
    "\n",
    "### 4.1.5 리뷰의 길이 분포 시각화\n",
    "\n",
    "- 25,000개의 훈련용 리뷰의 각 길이는 전부 다르다.\n",
    "- 리뷰의 길이 분포를 그래프로 시각화해보자."
   ]
  },
  {
   "cell_type": "code",
   "execution_count": 7,
   "metadata": {
    "colab": {
     "base_uri": "https://localhost:8080/",
     "height": 53
    },
    "colab_type": "code",
    "id": "TTBeNVdWhkh_",
    "outputId": "8e942366-3a0a-4be8-d16a-7fa6a7a692b4"
   },
   "outputs": [
    {
     "name": "stdout",
     "output_type": "stream",
     "text": [
      "리뷰의 최대 길이 : 2494\n",
      "리뷰의 평균 길이 : 238.71364\n"
     ]
    }
   ],
   "source": [
    "len_result = [len(s) for s in X_train]\n",
    "\n",
    "print('리뷰의 최대 길이 : {}'.format(np.max(len_result)))\n",
    "print('리뷰의 평균 길이 : {}'.format(np.mean(len_result)))"
   ]
  },
  {
   "cell_type": "code",
   "execution_count": 8,
   "metadata": {
    "colab": {
     "base_uri": "https://localhost:8080/",
     "height": 265
    },
    "colab_type": "code",
    "id": "3z2HzRYsX_-i",
    "outputId": "6976e21b-09f3-41b0-9bc6-8d831b7a9747"
   },
   "outputs": [
    {
     "data": {
      "image/png": "[encoded data removed]",
      "text/plain": [
       "<Figure size 432x288 with 2 Axes>"
      ]
     },
     "metadata": {
      "tags": []
     },
     "output_type": "display_data"
    }
   ],
   "source": [
    "plt.subplot(1,2,1)\n",
    "plt.boxplot(len_result)\n",
    "\n",
    "plt.subplot(1,2,2)\n",
    "plt.hist(len_result, bins=50)\n",
    "\n",
    "plt.show()"
   ]
  },
  {
   "cell_type": "markdown",
   "metadata": {
    "colab_type": "text",
    "id": "sbEuL-DsYCPP"
   },
   "source": [
    "- 대체적으로 1,000이하의 길이를 가진다.\n",
    "- 100 ~ 500 길이를 가진 데이터가 많다.\n",
    "- 반면, 가장 긴 길이를 가진 데이터는 길이가 2,000이 넘는 것도 확인할 수 있다."
   ]
  },
  {
   "cell_type": "markdown",
   "metadata": {
    "colab_type": "text",
    "id": "v1UZp0SzYUJ9"
   },
   "source": [
    "<br>\n",
    "\n",
    "### 4.1.6 레이블의 분포 확인"
   ]
  },
  {
   "cell_type": "code",
   "execution_count": 9,
   "metadata": {
    "colab": {
     "base_uri": "https://localhost:8080/",
     "height": 71
    },
    "colab_type": "code",
    "id": "0LB9XBywYXHh",
    "outputId": "a7d5a8b7-2336-4a3c-d1e5-da44348977d8"
   },
   "outputs": [
    {
     "name": "stdout",
     "output_type": "stream",
     "text": [
      "각 레이블에 대한 빈도수 :\n",
      "[[    0     1]\n",
      " [12500 12500]]\n"
     ]
    }
   ],
   "source": [
    "unique_elements, counts_elements = np.unique(y_train, return_counts=True)\n",
    "\n",
    "print(\"각 레이블에 대한 빈도수 :\")\n",
    "print(np.asarray((unique_elements, counts_elements)))"
   ]
  },
  {
   "cell_type": "markdown",
   "metadata": {
    "colab_type": "text",
    "id": "G2D0SZ3tYiE3"
   },
   "source": [
    "- 25,000개의 리뷰가 존재하는 데 두 레이블 0과 1은 각각 12,500개로 균등한 분포를 가지고 있다."
   ]
  },
  {
   "cell_type": "markdown",
   "metadata": {
    "colab_type": "text",
    "id": "eLRgMNx-Yo27"
   },
   "source": [
    "<br>\n",
    "\n",
    "### 4.1.7 단어 확인\n",
    "\n",
    "- `X_train`에 들어 있는 숫자들이 각각 어떤 단어들을 나타내고 있는 지 확인해보자."
   ]
  },
  {
   "cell_type": "code",
   "execution_count": 10,
   "metadata": {
    "colab": {
     "base_uri": "https://localhost:8080/",
     "height": 53
    },
    "colab_type": "code",
    "id": "So4GbZOtaOd7",
    "outputId": "b5e62116-89b2-4a8f-9f6f-9503f245e245"
   },
   "outputs": [
    {
     "name": "stdout",
     "output_type": "stream",
     "text": [
      "Downloading data from https://storage.googleapis.com/tensorflow/tf-keras-datasets/imdb_word_index.json\n",
      "1646592/1641221 [==============================] - 0s 0us/step\n"
     ]
    }
   ],
   "source": [
    "word_to_index = imdb.get_word_index()\n",
    "index_to_word = {}\n",
    "\n",
    "for key, value in word_to_index.items():\n",
    "    index_to_word[value] = key"
   ]
  },
  {
   "cell_type": "code",
   "execution_count": 11,
   "metadata": {
    "colab": {
     "base_uri": "https://localhost:8080/",
     "height": 35
    },
    "colab_type": "code",
    "id": "26dD0NEHaW1M",
    "outputId": "387a5767-3012-4e0d-af92-60b9a2f8a164"
   },
   "outputs": [
    {
     "name": "stdout",
     "output_type": "stream",
     "text": [
      "빈도수 상위 1번 단어 : the\n"
     ]
    }
   ],
   "source": [
    "print('빈도수 상위 1번 단어 : {}'.format(index_to_word[1]))"
   ]
  },
  {
   "cell_type": "code",
   "execution_count": 12,
   "metadata": {
    "colab": {
     "base_uri": "https://localhost:8080/",
     "height": 35
    },
    "colab_type": "code",
    "id": "EgS9MpKWabhD",
    "outputId": "be27a9ff-5a66-4c5f-805e-2c6ab5a9e267"
   },
   "outputs": [
    {
     "name": "stdout",
     "output_type": "stream",
     "text": [
      "빈도수 상위 3941번 단어 : journalist\n"
     ]
    }
   ],
   "source": [
    "print('빈도수 상위 3941번 단어 : {}'.format(index_to_word[3941]))"
   ]
  },
  {
   "cell_type": "markdown",
   "metadata": {
    "colab_type": "text",
    "id": "1GfRC9-uaiLa"
   },
   "source": [
    "- 이 데이터에서 빈도가 가장 높은 단어는 the이고, 빈도가 3941번째로 높은 단어는 journalist이다."
   ]
  },
  {
   "cell_type": "markdown",
   "metadata": {
    "colab_type": "text",
    "id": "UAybTXJjalqq"
   },
   "source": [
    "<br>\n",
    "\n",
    "### 4.1.8 첫 번째 리뷰 문장 확인\n",
    "\n",
    "- 첫 번째 훈련용 리뷰의 `X_train[0]`이 인덱스로 바뀌기 전에 어떤 단어들이었는 지 확인해보자.\n",
    "- 인덱스로 바꾸기 전에도 어느 정도 전처리가 된 상태라서 제대로된 문장이 나오지는 않는다."
   ]
  },
  {
   "cell_type": "code",
   "execution_count": 13,
   "metadata": {
    "colab": {
     "base_uri": "https://localhost:8080/",
     "height": 55
    },
    "colab_type": "code",
    "id": "o8TiDG43ayiS",
    "outputId": "7b442b83-1710-4793-b382-4cbc950e1ce2"
   },
   "outputs": [
    {
     "name": "stdout",
     "output_type": "stream",
     "text": [
      "the as you with out themselves powerful lets loves their becomes reaching had journalist of lot from anyone to have after out atmosphere never more room titillate it so heart shows to years of every never going villaronga help moments or of every chest visual movie except her was several of enough more with is now current film as you of mine potentially unfortunately of you than him that with out themselves her get for was camp of you movie sometimes movie that with scary but pratfalls to story wonderful that in seeing in character to of 70s musicians with heart had shadows they of here that with her serious to have does when from why what have critics they is you that isn't one will very to as itself with other tricky in of seen over landed for anyone of gilmore's br show's to whether from than out themselves history he name half some br of 'n odd was two most of mean for 1 any an boat she he should is thought frog but of script you not while history he heart to real at barrel but when from one bit then have two of script their with her nobody most that with wasn't to with armed acting watch an for with heartfelt film want an\n"
     ]
    }
   ],
   "source": [
    "print(' '.join([index_to_word[X] for X in X_train[0]]))"
   ]
  },
  {
   "cell_type": "markdown",
   "metadata": {
    "colab_type": "text",
    "id": "al6Ir4G_a-WK"
   },
   "source": [
    "<br>\n",
    "\n",
    "## 4.2 LSTM으로 IMDB 리뷰 감성 분류하기"
   ]
  },
  {
   "cell_type": "markdown",
   "metadata": {
    "colab_type": "text",
    "id": "YJoD6V8AbDSl"
   },
   "source": [
    "### 4.2.1 필요 패키지 임포트"
   ]
  },
  {
   "cell_type": "code",
   "execution_count": null,
   "metadata": {
    "colab": {},
    "colab_type": "code",
    "id": "k8Kkdszipxs4"
   },
   "outputs": [],
   "source": [
    "from tensorflow.keras.datasets import imdb\n",
    "from tensorflow.keras.preprocessing.sequence import pad_sequences\n",
    "from tensorflow.keras.models import Sequential\n",
    "from tensorflow.keras.layers import Dense, LSTM, Embedding\n",
    "from tensorflow.keras.callbacks import EarlyStopping, ModelCheckpoint\n",
    "from tensorflow.keras.models import load_model"
   ]
  },
  {
   "cell_type": "markdown",
   "metadata": {
    "colab_type": "text",
    "id": "bYLDAUXaqIlq"
   },
   "source": [
    "<br>\n",
    "\n",
    "### 4.2.2 데이터셋 불러오기\n",
    "\n",
    "- 훈련 데이터는 빈도 순위로 1 ~ 5,000인 단어들만 갖고 온다.\n",
    "- 다시 말해 단어 집합의 크기를 5,000으로 제한한다."
   ]
  },
  {
   "cell_type": "code",
   "execution_count": null,
   "metadata": {
    "colab": {},
    "colab_type": "code",
    "id": "gjuBwrpdqYOm"
   },
   "outputs": [],
   "source": [
    "(X_train, y_train), (X_test, y_test) = imdb.load_data(num_words=5000)"
   ]
  },
  {
   "cell_type": "markdown",
   "metadata": {
    "colab_type": "text",
    "id": "ZqsVT6CaqeQ9"
   },
   "source": [
    "<br>\n",
    "\n",
    "### 4.2.3 리뷰 문장의 길이 맞추기 (패딩)\n",
    "\n",
    "- 리뷰 최대 길이는 500으로 제한한다."
   ]
  },
  {
   "cell_type": "code",
   "execution_count": null,
   "metadata": {
    "colab": {},
    "colab_type": "code",
    "id": "gNZRHkYxqizN"
   },
   "outputs": [],
   "source": [
    "max_len = 500\n",
    "\n",
    "X_train = pad_sequences(X_train, maxlen=max_len)\n",
    "X_test = pad_sequences(X_test, maxlen=max_len)"
   ]
  },
  {
   "cell_type": "markdown",
   "metadata": {
    "colab_type": "text",
    "id": "3EfA5IuWqqPV"
   },
   "source": [
    "- 각 리뷰는 문장의 길이가 다르기 때문에, 모델이 처리할 수 있도록 길이를 동일하게 해주어야 한다.\n",
    "- 이때 사용하는 것이 `pad_sequences()`이다.\n",
    "- 길이는 `max_len`에 넣는 값으로 정해진다.\n",
    "- 훈련 데이터가 정한 길이를 초과하면 초과분을 삭제하고, 부족하면 0으로 채운다."
   ]
  },
  {
   "cell_type": "markdown",
   "metadata": {
    "colab_type": "text",
    "id": "ziTysi4nrtbj"
   },
   "source": [
    "<br>\n",
    "\n",
    "### 4.2.4 모델 구성\n",
    "\n",
    "- `Embedding()`은 두 개의 인자를 받는다.\n",
    "  - 첫번째 인자 : 단어 집합의 크기\n",
    "  - 두번째 인자 : 임베딩 후의 벡터 크기  \n",
    "\n",
    "\n",
    "- 여기서는 120을 선택했다.\n",
    "- 즉, 입력 데이터에서 모든 단어는 120 차원을 가진 임베딩 벡터로 표현된다."
   ]
  },
  {
   "cell_type": "markdown",
   "metadata": {
    "colab_type": "text",
    "id": "ee2SMc34w2xy"
   },
   "source": [
    "- 이진 분류이므로 출력층은 뉴런 하나와 활성화 함수로 시그모이드 함수를 사용한다."
   ]
  },
  {
   "cell_type": "code",
   "execution_count": null,
   "metadata": {
    "colab": {},
    "colab_type": "code",
    "id": "Hf19nf0pwO16"
   },
   "outputs": [],
   "source": [
    "model = Sequential()\n",
    "model.add(Embedding(5000, 120))\n",
    "model.add(LSTM(120))\n",
    "model.add(Dense(1, activation='sigmoid'))"
   ]
  },
  {
   "cell_type": "markdown",
   "metadata": {
    "colab_type": "text",
    "id": "JO8iuHtewb0u"
   },
   "source": [
    "<br>\n",
    "\n",
    "### 4.2.5 콜백(Callbacks) 설정\n",
    "\n",
    "- 검증 데이터의 손실(loss)이 증가하면, 과적합 징후이므로 검증 데이터 손실이 4회 증가하면 학습을 중단하는 조기 종료(`EarlyStopping`)를 사용한다.\n",
    "- 또한, `ModelCheckpoint`를 사용하여 검증 데이터의 정확도가 이전보다 좋아질 경우에만 모델을 저장하도록 한다."
   ]
  },
  {
   "cell_type": "code",
   "execution_count": null,
   "metadata": {
    "colab": {},
    "colab_type": "code",
    "id": "iM1NVrHAwoCM"
   },
   "outputs": [],
   "source": [
    "es = EarlyStopping(monitor='val_loss', mode='min', verbose=1, patience=4)\n",
    "mc = ModelCheckpoint('best_model.h5', monitor='val_acc', mode='max', verbose=1, save_best_only=True)"
   ]
  },
  {
   "cell_type": "markdown",
   "metadata": {
    "colab_type": "text",
    "id": "InJSOZgRw1g7"
   },
   "source": [
    "<br>\n",
    "\n",
    "### 4.2.6 모델 컴파일 및 훈련\n",
    "\n",
    "- 긍정인지 부정인지에 대한 이진 판별값이 출력이 되기 때문에 손실 함수는 `binary_crossentropy`를 사용한다.\n",
    "- 최적화 함수는 `adam`을 사용한다.\n",
    "- 또한, 에포크마다 정확도를 구하기 위해 `accuracy`를 추가한다.\n",
    "- 에포크는 총 10회를 수행한다."
   ]
  },
  {
   "cell_type": "code",
   "execution_count": 19,
   "metadata": {
    "colab": {
     "base_uri": "https://localhost:8080/",
     "height": 629
    },
    "colab_type": "code",
    "id": "4FsltokJxPJA",
    "outputId": "77ee12df-2176-4201-c887-796721f378ff"
   },
   "outputs": [
    {
     "name": "stdout",
     "output_type": "stream",
     "text": [
      "Epoch 1/10\n",
      "391/391 [==============================] - ETA: 0s - loss: 0.4674 - acc: 0.7768\n",
      "Epoch 00001: val_acc improved from -inf to 0.85156, saving model to best_model.h5\n",
      "391/391 [==============================] - 555s 1s/step - loss: 0.4674 - acc: 0.7768 - val_loss: 0.3468 - val_acc: 0.8516\n",
      "Epoch 2/10\n",
      "391/391 [==============================] - ETA: 0s - loss: 0.3135 - acc: 0.8726\n",
      "Epoch 00002: val_acc improved from 0.85156 to 0.86696, saving model to best_model.h5\n",
      "391/391 [==============================] - 552s 1s/step - loss: 0.3135 - acc: 0.8726 - val_loss: 0.3219 - val_acc: 0.8670\n",
      "Epoch 3/10\n",
      "391/391 [==============================] - ETA: 0s - loss: 0.2398 - acc: 0.9072\n",
      "Epoch 00003: val_acc did not improve from 0.86696\n",
      "391/391 [==============================] - 548s 1s/step - loss: 0.2398 - acc: 0.9072 - val_loss: 0.3763 - val_acc: 0.8348\n",
      "Epoch 4/10\n",
      "391/391 [==============================] - ETA: 0s - loss: 0.2119 - acc: 0.9185\n",
      "Epoch 00004: val_acc improved from 0.86696 to 0.87828, saving model to best_model.h5\n",
      "391/391 [==============================] - 545s 1s/step - loss: 0.2119 - acc: 0.9185 - val_loss: 0.3103 - val_acc: 0.8783\n",
      "Epoch 5/10\n",
      "391/391 [==============================] - ETA: 0s - loss: 0.2396 - acc: 0.9004\n",
      "Epoch 00005: val_acc did not improve from 0.87828\n",
      "391/391 [==============================] - 549s 1s/step - loss: 0.2396 - acc: 0.9004 - val_loss: 0.3328 - val_acc: 0.8736\n",
      "Epoch 6/10\n",
      "391/391 [==============================] - ETA: 0s - loss: 0.1832 - acc: 0.9301\n",
      "Epoch 00006: val_acc did not improve from 0.87828\n",
      "391/391 [==============================] - 552s 1s/step - loss: 0.1832 - acc: 0.9301 - val_loss: 0.3676 - val_acc: 0.8560\n",
      "Epoch 7/10\n",
      "391/391 [==============================] - ETA: 0s - loss: 0.1634 - acc: 0.9389\n",
      "Epoch 00007: val_acc did not improve from 0.87828\n",
      "391/391 [==============================] - 557s 1s/step - loss: 0.1634 - acc: 0.9389 - val_loss: 0.3697 - val_acc: 0.8590\n",
      "Epoch 8/10\n",
      "391/391 [==============================] - ETA: 0s - loss: 0.1292 - acc: 0.9527\n",
      "Epoch 00008: val_acc did not improve from 0.87828\n",
      "391/391 [==============================] - 553s 1s/step - loss: 0.1292 - acc: 0.9527 - val_loss: 0.4105 - val_acc: 0.8532\n",
      "Epoch 00008: early stopping\n"
     ]
    },
    {
     "data": {
      "text/plain": [
       "<tensorflow.python.keras.callbacks.History at 0x7f6f9adf86a0>"
      ]
     },
     "execution_count": 19,
     "metadata": {
      "tags": []
     },
     "output_type": "execute_result"
    }
   ],
   "source": [
    "model.compile(loss='binary_crossentropy', optimizer='adam', metrics=['acc'])\n",
    "model.fit(X_train, y_train, validation_data=(X_test, y_test), \n",
    "          epochs=10, batch_size=64,\n",
    "          callbacks=[es, mc])"
   ]
  },
  {
   "cell_type": "markdown",
   "metadata": {
    "colab_type": "text",
    "id": "kKLmLFHSxgUc"
   },
   "source": [
    "- 에포크 8회에서 조기 종료되었다."
   ]
  },
  {
   "cell_type": "markdown",
   "metadata": {
    "colab_type": "text",
    "id": "4WC8mWGLxmEw"
   },
   "source": [
    "<br>\n",
    "\n",
    "### 4.2.7 정확도 측정\n",
    "\n",
    "- 훈련이 다 되었다면 이제 테스트 데이터에 대해서 정확도를 측정할 차례이다.\n",
    "- 훈련 과정에서 검증 데이터가 가장 높았을 때 저장된 모델인 `best_model.h5`를 로드한다."
   ]
  },
  {
   "cell_type": "markdown",
   "metadata": {
    "colab_type": "text",
    "id": "il17OpwRxx7o"
   },
   "source": [
    "- 앞서 \"로이터 뉴스 분류하기\" 챕터에서 언급했듯이 `validation_data`에 테스트 데이터인 `X_test`와 `y_test`를 사용할 경우에는 가장 높았던 `val_acc`가 결국 테스트 데이터의 정확도이다."
   ]
  },
  {
   "cell_type": "code",
   "execution_count": 21,
   "metadata": {
    "colab": {
     "base_uri": "https://localhost:8080/",
     "height": 89
    },
    "colab_type": "code",
    "id": "-agJCTymyAK4",
    "outputId": "6ddeaf81-e7b4-43ed-b2f8-e7eea8970798"
   },
   "outputs": [
    {
     "name": "stdout",
     "output_type": "stream",
     "text": [
      "WARNING:tensorflow:Error in loading the saved optimizer state. As a result, your model is starting with a freshly initialized optimizer.\n",
      "782/782 [==============================] - 107s 136ms/step - loss: 0.3104 - acc: 0.8783\n",
      "\n",
      " 테스트 정확도 : 0.8783\n"
     ]
    }
   ],
   "source": [
    "loaded_model = load_model('best_model.h5')\n",
    "print('\\n 테스트 정확도 : %.4f' % (loaded_model.evaluate(X_test, y_test)[1]))"
   ]
  }
 ],
 "metadata": {
  "colab": {
   "collapsed_sections": [],
   "name": "Ch11_v04_IMDB-Movie-Review-Sentiment-Analysis.ipynb",
   "provenance": [],
   "toc_visible": true
  },
  "kernelspec": {
   "display_name": "Python 3",
   "language": "python",
   "name": "python3"
  },
  "language_info": {
   "codemirror_mode": {
    "name": "ipython",
    "version": 3
   },
   "file_extension": ".py",
   "mimetype": "text/x-python",
   "name": "python",
   "nbconvert_exporter": "python",
   "pygments_lexer": "ipython3",
   "version": "3.6.9"
  }
 },
 "nbformat": 4,
 "nbformat_minor": 4
}
