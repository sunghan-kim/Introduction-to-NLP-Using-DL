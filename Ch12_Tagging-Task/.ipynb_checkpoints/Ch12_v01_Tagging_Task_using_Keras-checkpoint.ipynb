{
 "cells": [
  {
   "cell_type": "markdown",
   "metadata": {
    "colab_type": "text",
    "id": "trST8X-BBMAB"
   },
   "source": [
    "# Ch12. 태깅 작업 (Tagging Task)"
   ]
  },
  {
   "cell_type": "markdown",
   "metadata": {
    "colab_type": "text",
    "id": "LmBFMCrJBSgF"
   },
   "source": [
    "# v01. 케라스를 이용한 태깅 작업 개요 (Tagging Task using Keras)"
   ]
  },
  {
   "cell_type": "markdown",
   "metadata": {
    "colab_type": "text",
    "id": "rzMXTPlxGPWC"
   },
   "source": [
    "- 태깅이란 각 단어가 어떤 유형에 속해있는 지를 알아내는 방법이다.\n",
    "- 이러한 단어 태깅 작업은 대표적으로 크게 두 가지가 있다.\n",
    "\n",
    "1. **개체명 인식 (Named Entity Recognition)**\n",
    "  - 각 단어의 유형이 사람, 장소, 단체 등 어떤 유형인 지 알아내는 작업\n",
    "2. **품사 태깅 (Part-of-Speech Tagging)**\n",
    "  - 각 단어의 품사가 명사, 동사, 형용사 인지를 알아내는 작업"
   ]
  },
  {
   "cell_type": "markdown",
   "metadata": {
    "colab_type": "text",
    "id": "2MmT09ojBhEl"
   },
   "source": [
    "- 이번 챕터에서는 케라스(Keras)로 인공 신경망을 이용하여 태깅 작업을 하는 모델을 만든다.\n",
    "- 개체명 인식기와 품사 태거를 만드는 데, 이러한 두 작업의 공통점은 다음과 같다.\n",
    "  - RNN의 다-대-다(Many-to-Many) 작업\n",
    "  - 앞, 뒤 시점의 입력을 모두 참고하는 양방향 RNN(Bidirectional RNN)을 사용"
   ]
  },
  {
   "cell_type": "markdown",
   "metadata": {
    "colab_type": "text",
    "id": "bhl6XQqEHHYV"
   },
   "source": [
    "- 두 개이ㅡ 실습 챕터를 진행하기 전에 전체적으로 실습이 어떻게 진행되는 지 정리해보도록 한다.\n",
    "- \"텍스트 분류 개요\" 챕터와 겹치는 부분에 대해서는 요약하여 설명하므로, 이해가 되지 않는 부분이 있다면 해당 챕터를 참고하면 된다."
   ]
  },
  {
   "cell_type": "markdown",
   "metadata": {
    "colab_type": "text",
    "id": "4bb1JllFHU6T"
   },
   "source": [
    "<br>\n",
    "\n",
    "## 1.1 훈련 데이터에 대한 이해\n",
    "\n",
    "- 태깅 작업은 앞서 배운 텍스트 분류 작업과 동일하게 지도 학습(Supervised Learning)에 속한다.\n",
    "- 이 챕터에서는 태깅을 해야 하는 단어 데이터를 `X`, 레이블에 해당되는 태깅 정보 데이터는 `y`라고 이름을 붙였다.\n",
    "- `X`에 대한 훈련 데이터는 `X_train`, 테스트 데이터는 `X_test`라고 명명한다.\n",
    "- `y`에 대한 훈련 데이터는 `y_train`, 테스트 데이터는 `y_test`라고 명명한다."
   ]
  },
  {
   "cell_type": "markdown",
   "metadata": {
    "colab_type": "text",
    "id": "hfmOpgRLJ0Dh"
   },
   "source": [
    "- 이번 챕터에서 `X`와 `y` 데이터의 쌍(pair)은 병렬 구조를 가진다는 특징을 가진다.\n",
    "- `X`와 `y`의 각 데이터의 길이는 같다.\n",
    "- 예를 들어 품사 태깅 작업을 한다고 가정해보자.\n",
    "- 그리고 `X_train`와 `y_train`의 데이터 중 4개의 데이터만 확인해본다고 가정해보자.\n",
    "- 이 때 데이터는 다음과 같은 구조를 가진다.\n",
    "\n",
    "| -    | `X_train`                                                    | `y_train`                                                | 길이 |\n",
    "| :--- | :----------------------------------------------------------- | :------------------------------------------------------- | :--- |\n",
    "| 0    | `['EU', 'rejects', 'German', 'call', 'to', 'boycott', 'British', 'lamb']` | `['B-ORG', 'O', 'B-MISC', 'O', 'O', 'O', 'B-MISC', 'O']` | 8    |\n",
    "| 1    | `['peter', 'blackburn']`                                     | `['B-PER', 'I-PER']`                                     | 2    |\n",
    "| 2    | `['brussels', '1996-08-22' ]`                                | `['B-LOC', 'O']`                                         | 2    |\n",
    "| 3    | `['The', 'European', 'Commission']`                          | `['O', 'B-ORG', 'I-ORG']`                                | 3    |"
   ]
  },
  {
   "cell_type": "markdown",
   "metadata": {
    "colab_type": "text",
    "id": "PNgD-dbRNyRw"
   },
   "source": [
    "- 가령, `X_train[3]`의 `'The'`와 `y_train[3]`의 `'O'`는 하나의 쌍(pair)이다.\n",
    "- 또한, `X_train[3]`의 `'European'`과 `y_train[3]`의 `'B_ORG'`는 쌍의 관계를 가진다.\n",
    "- `X_train[3]`의 `'Commision'`과 `y_train[3]`의 `'I-ORG'`는 쌍의 관계를 가진다."
   ]
  },
  {
   "cell_type": "markdown",
   "metadata": {
    "colab_type": "text",
    "id": "z5mYUAzbOKKg"
   },
   "source": [
    "- 이렇게 병렬 관계를 가지는 각 데이터는 정수 인코딩 과정을 거친 후, 모든 데이터의 길이를 동일하게 맞춰주기 위한 패딩(Padding) 작업을 거친다."
   ]
  },
  {
   "cell_type": "markdown",
   "metadata": {
    "colab_type": "text",
    "id": "zObsnakQOV2O"
   },
   "source": [
    "<br>\n",
    "\n",
    "## 1.2 시퀀스 레이블링 (Sequence Labeling)\n",
    "\n",
    "- 위와 같이 입력 시퀀스 X = [$x_1$, $x_2$, $x_3$, $\\cdots$, $x_n$]에 대하여 레이블 시퀀스 y = [$y_1$, $y_2$, $y_3$, $\\cdots$, $y_n$]를 각각 부여하는 작업을 **시퀀스 레이블링 작업(Sequence Labeling Task)**이라고 한다.\n",
    "- 태깅 작업은 대표적인 시퀀스 레이블링 작업이다."
   ]
  },
  {
   "cell_type": "markdown",
   "metadata": {
    "colab_type": "text",
    "id": "hf7OL6iOROI0"
   },
   "source": [
    "<br>\n",
    "\n",
    "## 1.3 양방향 LSTM (Bidirectional LSTM)\n",
    "\n",
    "```python\n",
    "model.add(Bidirectional(LSTM(hidden_size, return_sequences=True)))\n",
    "```\n",
    "\n",
    "- 이번 챕터에서도 바닐라 RNN이 아니라 성능이 개선된 RNN인 LSTM을 사용한다.\n",
    "- 텍스트 분류 챕터에서는 단방향 LSTM을 사용했지만, 이번 챕터에서는 양방향 LSTM을 사용한다.\n",
    "- 이전 시점의 단어 정보 뿐만 아니라, 다음 시점의 단어 정보도 참고하기 위함이다.\n",
    "- 양방향은 기존의 단방향 `LSTM()`을 `Bidirectional()` 안에 넣으면 된다."
   ]
  },
  {
   "cell_type": "markdown",
   "metadata": {
    "colab_type": "text",
    "id": "Q5AJASG0Rr16"
   },
   "source": [
    "- 인자 정보는 단방향 LSTM을 사용할 때와 동일하다.\n",
    "- 즉, 인자값을 하나를 줄 경우에는 이는 `hidden_size`를 의미하며, 결과적으로 `output_dim`이 된다."
   ]
  },
  {
   "cell_type": "markdown",
   "metadata": {
    "colab_type": "text",
    "id": "YVrDtN3CR0Vw"
   },
   "source": [
    "<br>\n",
    "\n",
    "## 1.4 RNN의 다-대-다(Many-to-Many) 문제\n",
    "\n",
    "$\\quad$ ![](https://wikidocs.net/images/page/24873/many_to_one.PNG)\n",
    "\n",
    "- RNN의 은닉층은 모든 시점에 대해서 은닉 상태값을 출력하거나, 마지막 시점에 대해서만 은닉 상태값을 출력할 수 있다.\n",
    "- 이는 인자로 `return_sequences=True`를 넣을 것인 지, 넣지 않을 것인 지로 설정할 수 있다.\n",
    "- 태깅 작업의 경우에는 다-대-다(Many-to-Many) 문제로 `return_sequences=True`를 설정하여 출력층에 모든 은닉 상태값을 보낸다."
   ]
  },
  {
   "cell_type": "markdown",
   "metadata": {
    "colab_type": "text",
    "id": "th7VMWh-ScJf"
   },
   "source": [
    "<br>\n",
    "\n",
    "- 이제 RNN이 어떻게 설계되는 지 확인해보자.\n",
    "- 예를 들어서 위에서 설명한 데이터 중 첫 번째 데이터에 해당되는 `X_train[0]`을 가지고 4번의 시점(time steps)까지 RNN을 진행하였을 때의 그림은 다음과 같다.\n",
    "\n",
    "$\\qquad$ ![](https://wikidocs.net/images/page/33805/forwardrnn_ver2.PNG)"
   ]
  },
  {
   "cell_type": "markdown",
   "metadata": {
    "colab_type": "text",
    "id": "R7NxViRLSs7a"
   },
   "source": [
    "<br>\n",
    "\n",
    "- 하지만 이번 실습에서는 양방향 RNN을 사용할 것이므로 아래의 그림과 같다.\n",
    "\n",
    "$\\qquad$ ![](https://wikidocs.net/images/page/33805/bidirectionalrnn_ver2.PNG)"
   ]
  }
 ],
 "metadata": {
  "colab": {
   "collapsed_sections": [],
   "name": "Ch12_v01_Tagging-Task-using-Keras.ipynb",
   "provenance": []
  },
  "kernelspec": {
   "display_name": "Python 3",
   "language": "python",
   "name": "python3"
  },
  "language_info": {
   "codemirror_mode": {
    "name": "ipython",
    "version": 3
   },
   "file_extension": ".py",
   "mimetype": "text/x-python",
   "name": "python",
   "nbconvert_exporter": "python",
   "pygments_lexer": "ipython3",
   "version": "3.6.9"
  }
 },
 "nbformat": 4,
 "nbformat_minor": 4
}
