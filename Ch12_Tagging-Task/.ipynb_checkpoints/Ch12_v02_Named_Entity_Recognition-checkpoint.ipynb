{
 "cells": [
  {
   "cell_type": "markdown",
   "metadata": {
    "colab_type": "text",
    "id": "VL96IfSLLuGz"
   },
   "source": [
    "# Ch12. 태깅 작업 (Tagging Task)"
   ]
  },
  {
   "cell_type": "markdown",
   "metadata": {
    "colab_type": "text",
    "id": "RU4xbRpqLu25"
   },
   "source": [
    "# v02. 개체명 인식 (Named Entity Recognition)"
   ]
  },
  {
   "cell_type": "markdown",
   "metadata": {
    "colab_type": "text",
    "id": "zYUa-xAmL42U"
   },
   "source": [
    "- 이번 챕터에서는 코퍼스로부터 각 개체(entity)의 유형을 인식하는 개체명 인식(Named Entity Recognition)에 대해서 배운다.\n",
    "- 개체명 인식을 사용하면 코퍼스로부터 어떤 단어가 사람, 장소, 조직 등을 의미하는 단어인 지를 찾을 수 있다."
   ]
  },
  {
   "cell_type": "markdown",
   "metadata": {
    "colab_type": "text",
    "id": "4mq7sjF_MJFX"
   },
   "source": [
    "<br>\n",
    "\n",
    "## 2.1 개체명 인식(Named Entity Recognition)이란?\n",
    "\n",
    "- 개체명 인식(Named Entity Recognition)이란 말 그대로 이름을 가진 개체(named entity)를 인식하겠다는 것을 의미한다.\n",
    "- 좀 더 쉽게 설명하면, 어떤 이름을 의미하는 단어를 보고는 그 단어가 어떤 유형인지를 인식하는 것을 말한다."
   ]
  },
  {
   "cell_type": "markdown",
   "metadata": {
    "colab_type": "text",
    "id": "r9hEmT0QMOhX"
   },
   "source": [
    "- 예를 들어, **도연이는 2018년에 골드만삭스에 입사했다.** 라는 문장이 있을 때, 사람(person), 조직(organization), 시간(time)에 대해 개체명 인식을 수행하는 모델이라면 다음과 같은 결과를 보여준다.\n",
    "\n",
    "```\n",
    "도연 - 사람\n",
    "2018년 - 시간\n",
    "골드만삭스 - 조직\n",
    "```"
   ]
  },
  {
   "cell_type": "markdown",
   "metadata": {
    "colab_type": "text",
    "id": "icV4iR18JcFI"
   },
   "source": [
    "- 여기서는 우선 개체명 인식의 정의부터 이해하기 위해 중간 과정을 생략했지만 개체명 인식 모델이 개체명을 인식하기 위해서는 보통 전처리 과정이 필요하다.\n",
    "- 문장 그대로 입력으로 넣어도 내부적으로 전처리까지 다 끝내고 개체명을 보여주는 모델이 있을 수도 있다.\n",
    "- 또한 많은 개체명 모델이 토큰화와 품사 태깅(POS Tagging, Part-Of-Speech Tagging) 전처리를 끝내고 난 상태를 입력으로 요구하기도 한다."
   ]
  },
  {
   "cell_type": "markdown",
   "metadata": {
    "colab_type": "text",
    "id": "gy5tI6A-J-Bx"
   },
   "source": [
    "- 예제를 통해 개체명 인식을 이해해보도록 하자."
   ]
  },
  {
   "cell_type": "markdown",
   "metadata": {
    "colab_type": "text",
    "id": "rjEVfShkKA4G"
   },
   "source": [
    "<br>\n",
    "\n",
    "## 2.2 NLTK를 이용한 개체명 인식 (Named Entity Recognition using NLTK)\n",
    "\n",
    "- NLTK에서는 개체명 인식기(NER chunker)를 지원하고 있다.\n",
    "- 그러므로 별도 개체명 인식기를 구현할 필요없이 NLTK를 사용해서 개체명 인식을 수행할 수 있다.\n",
    "- 만약 아래의 실습에서 `nltk.download('maxent_ne_chunker')`, `nltk.download('words')` 등의 설치를 요구하는 에러 문구가 뜬다면, 지시하는 대로 설치하면 된다."
   ]
  },
  {
   "cell_type": "code",
   "execution_count": null,
   "metadata": {
    "colab": {},
    "colab_type": "code",
    "id": "YwTwApm1KI8e"
   },
   "outputs": [],
   "source": [
    "from nltk import word_tokenize, pos_tag, ne_chunk"
   ]
  },
  {
   "cell_type": "code",
   "execution_count": 2,
   "metadata": {
    "colab": {
     "base_uri": "https://localhost:8080/",
     "height": 71
    },
    "colab_type": "code",
    "id": "9vGT3V-MEHDl",
    "outputId": "a5d4a1f2-36bf-4dbd-96d4-f61d8a331613"
   },
   "outputs": [
    {
     "name": "stdout",
     "output_type": "stream",
     "text": [
      "[nltk_data] Downloading package punkt to /root/nltk_data...\n",
      "[nltk_data]   Unzipping tokenizers/punkt.zip.\n"
     ]
    },
    {
     "data": {
      "text/plain": [
       "True"
      ]
     },
     "execution_count": 2,
     "metadata": {
      "tags": []
     },
     "output_type": "execute_result"
    }
   ],
   "source": [
    "import nltk\n",
    "nltk.download('punkt')"
   ]
  },
  {
   "cell_type": "code",
   "execution_count": 3,
   "metadata": {
    "colab": {
     "base_uri": "https://localhost:8080/",
     "height": 35
    },
    "colab_type": "code",
    "id": "E2WucDhJD20E",
    "outputId": "d9cdadca-f230-435c-d221-136d32b9f612"
   },
   "outputs": [
    {
     "data": {
      "text/plain": [
       "['James', 'is', 'working', 'at', 'Disney', 'in', 'London']"
      ]
     },
     "execution_count": 3,
     "metadata": {
      "tags": []
     },
     "output_type": "execute_result"
    }
   ],
   "source": [
    "sentence = \"James is working at Disney in London\"\n",
    "wt = word_tokenize(sentence)\n",
    "wt"
   ]
  },
  {
   "cell_type": "code",
   "execution_count": 4,
   "metadata": {
    "colab": {
     "base_uri": "https://localhost:8080/",
     "height": 89
    },
    "colab_type": "code",
    "id": "Didt_nK9EQHT",
    "outputId": "c52b22d8-206e-4687-9684-a76c1962d505"
   },
   "outputs": [
    {
     "name": "stdout",
     "output_type": "stream",
     "text": [
      "[nltk_data] Downloading package averaged_perceptron_tagger to\n",
      "[nltk_data]     /root/nltk_data...\n",
      "[nltk_data]   Unzipping taggers/averaged_perceptron_tagger.zip.\n"
     ]
    },
    {
     "data": {
      "text/plain": [
       "True"
      ]
     },
     "execution_count": 4,
     "metadata": {
      "tags": []
     },
     "output_type": "execute_result"
    }
   ],
   "source": [
    "import nltk\n",
    "nltk.download('averaged_perceptron_tagger')"
   ]
  },
  {
   "cell_type": "code",
   "execution_count": 5,
   "metadata": {
    "colab": {
     "base_uri": "https://localhost:8080/",
     "height": 143
    },
    "colab_type": "code",
    "id": "LgWeY5cEEDS3",
    "outputId": "9d12a8e0-8564-4355-e61e-d9697cb4832b"
   },
   "outputs": [
    {
     "data": {
      "text/plain": [
       "[('James', 'NNP'),\n",
       " ('is', 'VBZ'),\n",
       " ('working', 'VBG'),\n",
       " ('at', 'IN'),\n",
       " ('Disney', 'NNP'),\n",
       " ('in', 'IN'),\n",
       " ('London', 'NNP')]"
      ]
     },
     "execution_count": 5,
     "metadata": {
      "tags": []
     },
     "output_type": "execute_result"
    }
   ],
   "source": [
    "sentence = pos_tag(wt)\n",
    "sentence"
   ]
  },
  {
   "cell_type": "code",
   "execution_count": 6,
   "metadata": {
    "colab": {
     "base_uri": "https://localhost:8080/",
     "height": 125
    },
    "colab_type": "code",
    "id": "cN9PwmqxEZRA",
    "outputId": "1bac7e63-99c5-4fbb-bc34-668683747002"
   },
   "outputs": [
    {
     "name": "stdout",
     "output_type": "stream",
     "text": [
      "[nltk_data] Downloading package maxent_ne_chunker to\n",
      "[nltk_data]     /root/nltk_data...\n",
      "[nltk_data]   Unzipping chunkers/maxent_ne_chunker.zip.\n",
      "[nltk_data] Downloading package words to /root/nltk_data...\n",
      "[nltk_data]   Unzipping corpora/words.zip.\n"
     ]
    },
    {
     "data": {
      "text/plain": [
       "True"
      ]
     },
     "execution_count": 6,
     "metadata": {
      "tags": []
     },
     "output_type": "execute_result"
    }
   ],
   "source": [
    "import nltk\n",
    "nltk.download('maxent_ne_chunker')\n",
    "nltk.download('words')"
   ]
  },
  {
   "cell_type": "code",
   "execution_count": 7,
   "metadata": {
    "colab": {
     "base_uri": "https://localhost:8080/",
     "height": 161
    },
    "colab_type": "code",
    "id": "terBmCczEN_j",
    "outputId": "26407372-11f7-4488-da87-56ebc5014d5d"
   },
   "outputs": [
    {
     "name": "stdout",
     "output_type": "stream",
     "text": [
      "(S\n",
      "  (PERSON James/NNP)\n",
      "  is/VBZ\n",
      "  working/VBG\n",
      "  at/IN\n",
      "  (ORGANIZATION Disney/NNP)\n",
      "  in/IN\n",
      "  (GPE London/NNP))\n"
     ]
    }
   ],
   "source": [
    "sentence = ne_chunk(sentence)\n",
    "print(sentence)"
   ]
  },
  {
   "cell_type": "markdown",
   "metadata": {
    "colab_type": "text",
    "id": "iDgpP0u7Gco1"
   },
   "source": [
    "- `ne_chunk`는 개체명을 태깅하기 위해서 앞서 품사 태깅(pos_tag)이 수행되어야 한다.\n",
    "- 위의 결과에서 \"James\"는 PERSON(사람), \"Disney\"는 조직(ORGANIZATION), \"London\"은 위치(GPE)라고 정상적으로 개체명 인식이 수행된 것을 볼 수 있다."
   ]
  }
 ],
 "metadata": {
  "colab": {
   "collapsed_sections": [],
   "name": "Ch12_v02_Named-Entity-Recognition.ipynb",
   "provenance": [],
   "toc_visible": true
  },
  "kernelspec": {
   "display_name": "Python 3",
   "language": "python",
   "name": "python3"
  },
  "language_info": {
   "codemirror_mode": {
    "name": "ipython",
    "version": 3
   },
   "file_extension": ".py",
   "mimetype": "text/x-python",
   "name": "python",
   "nbconvert_exporter": "python",
   "pygments_lexer": "ipython3",
   "version": "3.6.9"
  }
 },
 "nbformat": 4,
 "nbformat_minor": 4
}
