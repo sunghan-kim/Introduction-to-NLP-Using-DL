{
 "cells": [
  {
   "cell_type": "markdown",
   "metadata": {
    "colab_type": "text",
    "id": "4JZeAc4SNkSa"
   },
   "source": [
    "# Ch12. 태깅 작업 (Tagging Task)"
   ]
  },
  {
   "cell_type": "markdown",
   "metadata": {
    "colab_type": "text",
    "id": "pOXeXiItOeRF"
   },
   "source": [
    "# v03. 양방향 LSTM을 이용한 개체명 인식 (Named Entity Recognition using Bi-LSTM)"
   ]
  },
  {
   "cell_type": "markdown",
   "metadata": {
    "colab_type": "text",
    "id": "xoLBSryYOkjM"
   },
   "source": [
    "- 개체명 인식은 챗봇 등에서 필요로 하는 주요 전처리 작업이지만, 그 자체로도 까다로운 작업이다.\n",
    "- 도메인 또는 목적에 특화되도록 개체명 인식을 정확하게 하는 방법 중 하나는 기존에 공개된 개체명 인식기를 사용하는 것이 아니라, 직접 목적에 맞는 데이터를 준비하여 기계를 훈련시켜 모델을 만드는 방법이다.\n",
    "- 여기서는 양방향 LSTM을 이용해서 개체명 인식기를 만들어보자."
   ]
  },
  {
   "cell_type": "markdown",
   "metadata": {
    "colab_type": "text",
    "id": "FQcrtkLsnHkR"
   },
   "source": [
    "<br>\n",
    "\n",
    "## 3.1 BIO 표현\n",
    "\n",
    "- 개체명 인식에서 코퍼스로부터 개체명을 인식하기 위한 방법으로 여러 방법이 있다.\n",
    "- 여기서는 가장 보편적인 방법 중 하나인 **IOB(또는 BIO) 방법**을 소개한다.\n",
    "  - B : Begin의 약자, 개체명이 시작되는 부분\n",
    "  - I : Inside의 약자, 개체명의 내부 부분\n",
    "  - O : Outside의 약자, 개체명이 아닌 부분"
   ]
  },
  {
   "cell_type": "markdown",
   "metadata": {
    "colab_type": "text",
    "id": "R3kmMN91neUR"
   },
   "source": [
    "- 예를 들어, 영화에 대한 코퍼스 중에서 영화 제목에 대한 개체명을 뽑아내고 싶다고 가정하자.\n",
    "\n",
    "```\n",
    "해 B\n",
    "리 I\n",
    "포 I\n",
    "터 I\n",
    "보 O\n",
    "러 O\n",
    "가 O\n",
    "자 O\n",
    "```\n",
    "\n",
    "- 다음과 같이 영화 제목에 대해서만 개체명을 인식한다.\n",
    "- 영화 제목이 시작되는 글자인 '해'에서는 B가 사용되었다.\n",
    "- 그리고 영화 제목이 끝나는 순간까지 I가 사용된다.\n",
    "- 그리고 영화 제목이 아닌 부분에서만 O가 사용된다.\n",
    "- 이처럼 B와 I는 개체명을 위해 사용되고, O는 개체명이 아니라는 의미를 갖게 된다."
   ]
  },
  {
   "cell_type": "markdown",
   "metadata": {
    "colab_type": "text",
    "id": "ek6FXuXNnmO2"
   },
   "source": [
    "<br>\n",
    "\n",
    "- 물론 개체명 인식이라는 것은 보통 한 종류의 개체에 대해서만 언급하는 것이 아니라, 여러 종류의 개체가 있을 수 있다.\n",
    "- 예를 들어 영화에 대한 대화에서는 여화 제목에 대한 개체명과 극장에 대한 개체명이 있을 수 있다.\n",
    "- 그럴 때는 각 개체가 어떤 종류인지도 함께 태깅될 것이다.\n",
    "\n",
    "```\n",
    "해 B-movie\n",
    "리 I-movie\n",
    "포 I-movie\n",
    "터 I-movie\n",
    "보 O\n",
    "러 O\n",
    "메 B-theater\n",
    "가 I-theater\n",
    "박 I-theater\n",
    "스 I-theater\n",
    "가 O\n",
    "자 O\n",
    "```"
   ]
  },
  {
   "cell_type": "markdown",
   "metadata": {
    "colab_type": "text",
    "id": "oChkci9JoGhV"
   },
   "source": [
    "<br>\n",
    "\n",
    "## 3.2 개체명 인식 데이터 이해하기\n",
    "\n",
    "- 이제 실습을 통해 양방향 LSTM을 이용한 개체명 인식에 대해서 더 자세히 알아보도록 하자.\n",
    "- `CONLL2003`은 개체명 인식을 위한 전통적인 영어 데이터 셋이다.\n",
    "- 해당 데이터를 가지고 훈련하여 개체명 인식 모델을 만들어보자.\n",
    "- [다운로드 링크](https://raw.githubusercontent.com/Franck-Dernoncourt/NeuroNER/master/neuroner/data/conll2003/en/train.txt)"
   ]
  },
  {
   "cell_type": "markdown",
   "metadata": {
    "colab_type": "text",
    "id": "E5RE2K35oZCU"
   },
   "source": [
    "<br>\n",
    "\n",
    "- 해당 데이터의 앞 부분을 일부 살펴보자.\n",
    "\n",
    "```\n",
    "EU NNP B-NP B-ORG\n",
    "rejects VBZ B-VP O\n",
    "German JJ B-NP B-MISC\n",
    "call NN I-NP O\n",
    "to TO B-VP O\n",
    "boycott VB I-VP O\n",
    "British JJ B-NP B-MISC\n",
    "lamb NN I-NP O\n",
    ". . O O\n",
    "\n",
    "Peter NNP B-NP B-PER\n",
    "Blackburn NNP I-NP I-PER\n",
    "```"
   ]
  },
  {
   "cell_type": "markdown",
   "metadata": {
    "colab_type": "text",
    "id": "Yfhy1qQro6Ju"
   },
   "source": [
    "- 해당 데이터의 양식은 `[단어] [품사 태깅] [청크 태깅] [개체명 태깅]`의 형식으로 되어 있다."
   ]
  },
  {
   "cell_type": "markdown",
   "metadata": {
    "colab_type": "text",
    "id": "zkIuT73no_Aj"
   },
   "source": [
    "<br>\n",
    "\n",
    "### 3.2.1 품사 태깅\n",
    "\n",
    "- 품사 태깅이 의미하는 바는 [해당 링크](https://www.ling.upenn.edu/courses/Fall_2003/ling001/penn_treebank_pos.html)에서 자세하게 확인할 수 있다.\n",
    "- 예를 들어서 `EU` 옆에 붙어있는 `NNP`는 **고유 명사 단수형**을 의미한다.\n",
    "- `rejects` 옆에 있는 `VBZ`는 **3인칭 단수 동사 현재형**을 의미한다."
   ]
  },
  {
   "cell_type": "markdown",
   "metadata": {
    "colab_type": "text",
    "id": "pBQFhqAMpVV1"
   },
   "source": [
    "<br>\n",
    "\n",
    "### 3.2.2 개체명 태깅\n",
    "\n",
    "- `LOC` : location\n",
    "- `ORG` : organization\n",
    "- `PER` : person\n",
    "- `MISC` : miscellaneous"
   ]
  },
  {
   "cell_type": "markdown",
   "metadata": {
    "colab_type": "text",
    "id": "AG87q8f7tRg8"
   },
   "source": [
    "- 해당 데이터는 BIO 표현 방법을 사용하고 있기 때문에, 개체명의 시작 부분이면서 Organization을 의미하는 `German`에는 `B-ORG`라는 개체명 태깅이 붙는다.\n",
    "- 다만, `German` 그 자체로 개체명 하나이기 때문에 거기서 개체명 인식은 종료되면서 뒤에 `I`가 별도로 붙는 단어가 나오지는 않았다.\n",
    "- 이에 `German` 뒤에 오는 `call`은 개체명이 아니기 때문에 `O`가 태깅이 된다."
   ]
  },
  {
   "cell_type": "markdown",
   "metadata": {
    "colab_type": "text",
    "id": "LEbm9sUBt1d1"
   },
   "source": [
    "<br>\n",
    "\n",
    "### 3.2.3 문장의 시작과 종료 구분\n",
    "\n",
    "- 또 하나 기억해두어야 할 것은 9번째 줄인 `.. O O` 다음에 11번째 줄 `Peter`가 나오는 부분 사이에 10번째 줄은 공란으로 되어 있다.\n",
    "- 이는 9번째 줄에서 문장이 끝나고 11번째 줄에서 새로운 문장이 시작됨을 의미한다."
   ]
  },
  {
   "cell_type": "markdown",
   "metadata": {
    "colab_type": "text",
    "id": "Sjfc7WtauLvq"
   },
   "source": [
    "<br>\n",
    "\n",
    "### 3.2.4 이어진 단어 개체명 태깅\n",
    "\n",
    "- 그 다음 문장이 시작되는 11번째 줄에서는 개체명이 하나의 단어로 끝나지 않았을 때, 어떻게 다음 단어로 개체명 인식이 이어지는 지를 보여준다.\n",
    "- `Peter`는 개체명이 시작되면서 person에 해당되기 때문에 `B-PER`이라는 개체명 태깅이 붙는다.\n",
    "- 그리고 아직 개체명에 대한 인식은 끝나지 않았기 때문에 뒤에 붙는 `Balckburn`에서는 `I`가 나오면서 `I-PER`이 개체명 태깅으로 붙게 된다.\n",
    "- 즉, `Peter Blackburn`이 person에 속하는 하나의 개체명이다."
   ]
  },
  {
   "cell_type": "markdown",
   "metadata": {
    "colab_type": "text",
    "id": "v9lhT1_Vu1zC"
   },
   "source": [
    "<br>\n",
    "\n",
    "## 3.3 데이터 전처리하기\n",
    "\n",
    "- 이번에는 양방향 LSTM을 이용해서 개체명 인식 태깅을 하는 모델을 만들어보자."
   ]
  },
  {
   "cell_type": "markdown",
   "metadata": {
    "colab_type": "text",
    "id": "3laY4YdawDk-"
   },
   "source": [
    "<br>\n",
    "\n",
    "### 3.3.1 필요 패키지 불러오기"
   ]
  },
  {
   "cell_type": "code",
   "execution_count": null,
   "metadata": {
    "colab": {},
    "colab_type": "code",
    "id": "m5gtD_EPu4R0"
   },
   "outputs": [],
   "source": [
    "import re\n",
    "%matplotlib inline\n",
    "import matplotlib.pyplot as plt\n",
    "\n",
    "from tensorflow.keras.preprocessing.text import Tokenizer\n",
    "from tensorflow.keras.preprocessing.sequence import pad_sequences\n",
    "from tensorflow.keras.utils import to_categorical\n",
    "from sklearn.model_selection import train_test_split\n",
    "import numpy as np"
   ]
  },
  {
   "cell_type": "markdown",
   "metadata": {
    "colab_type": "text",
    "id": "kwgmbdW_vUZs"
   },
   "source": [
    "<br>\n",
    "\n",
    "### 3.3.2 개체명 인식 데이터 불러오기 및 전처리 수행\n",
    "\n",
    "- 위에서 설명한 개체명 인식 데이터를 읽어 전처리를 수행한다."
   ]
  },
  {
   "cell_type": "code",
   "execution_count": null,
   "metadata": {
    "colab": {},
    "colab_type": "code",
    "id": "Tj_w4MpDvbLQ"
   },
   "outputs": [],
   "source": [
    "f = open('train.txt', 'r')\n",
    "tagged_sentences = []\n",
    "sentence = []\n",
    "\n",
    "for line in f:\n",
    "    if len(line) == 0 or line.startswith('-DOCSTART') or line[0] == \"\\n\":\n",
    "        if len(sentence) > 0:\n",
    "            tagged_sentences.append(sentence)\n",
    "            sentence = []\n",
    "\n",
    "        continue\n",
    "\n",
    "    splits = line.split(' ') # 공백을 기준으로 속성을 구분\n",
    "    splits[-1] = re.sub(r'\\n', '', splits[-1]) # 줄바꿈 표시 \\n 제거\n",
    "    word = splits[0].lower() # 단어들은 소문자로 바꿔서 저장\n",
    "    sentence.append([word, splits[-1]]) # 단어와 개체명 태깅만 기록"
   ]
  },
  {
   "cell_type": "markdown",
   "metadata": {
    "colab_type": "text",
    "id": "63LhWEv9v-NU"
   },
   "source": [
    "<br>\n",
    "\n",
    "### 3.3.3 전체 샘플 개수 확인"
   ]
  },
  {
   "cell_type": "code",
   "execution_count": 4,
   "metadata": {
    "colab": {
     "base_uri": "https://localhost:8080/",
     "height": 35
    },
    "colab_type": "code",
    "id": "i3JcjH5MwSJI",
    "outputId": "8928ad3e-3840-4712-b5ce-7adcd3acb18d"
   },
   "outputs": [
    {
     "name": "stdout",
     "output_type": "stream",
     "text": [
      "전체 샘플 개수 :  14041\n"
     ]
    }
   ],
   "source": [
    "print('전체 샘플 개수 : ', len(tagged_sentences))"
   ]
  },
  {
   "cell_type": "markdown",
   "metadata": {
    "colab_type": "text",
    "id": "Lvp7ZDoPwU9Y"
   },
   "source": [
    "<br>\n",
    "\n",
    "### 3.3.4 첫 번째 샘플 확인"
   ]
  },
  {
   "cell_type": "code",
   "execution_count": 5,
   "metadata": {
    "colab": {
     "base_uri": "https://localhost:8080/",
     "height": 55
    },
    "colab_type": "code",
    "id": "8GApFWhMwYQp",
    "outputId": "2631dde7-4f2e-4065-8796-813581727b8a"
   },
   "outputs": [
    {
     "name": "stdout",
     "output_type": "stream",
     "text": [
      "[['eu', 'B-ORG'], ['rejects', 'O'], ['german', 'B-MISC'], ['call', 'O'], ['to', 'O'], ['boycott', 'O'], ['british', 'B-MISC'], ['lamb', 'O'], ['.', 'O']]\n"
     ]
    }
   ],
   "source": [
    "print(tagged_sentences[0])"
   ]
  },
  {
   "cell_type": "markdown",
   "metadata": {
    "colab_type": "text",
    "id": "cDOpwBlHwZ7G"
   },
   "source": [
    "- 전처리가 수행된 첫 번째 샘플이 출력된 것을 볼 수 있다.\n",
    "- 이러한 샘플이 총 14,041개가 있다."
   ]
  },
  {
   "cell_type": "markdown",
   "metadata": {
    "colab_type": "text",
    "id": "FH5vxvE-wqRI"
   },
   "source": [
    "<br>\n",
    "\n",
    "### 3.3.5 단어와 태깅 정보 분리\n",
    "\n",
    "- 그런데 훈련을 시키려면 훈련 데이터에서 단어에 해당되는 부분과 개체명 태깅 정보에 해당되는 부분을 분리시켜야 한다.\n",
    "- 즉, `[('eu', 'B-ORG'), ('rejects', 'O')]`와 같은 문장 샘플이 있다면 `eu`와 `rejects`는 같이 저장(단어)하고, `B-ORG`와 `O`를 같이 저장(태깅 정보)할 필요가 있습니다."
   ]
  },
  {
   "cell_type": "markdown",
   "metadata": {
    "colab_type": "text",
    "id": "ZacIkv7tw2VG"
   },
   "source": [
    "- 이런 경우 파이썬 함수 중에서 `zip()` 함수가 유용한 역할을 한다.\n",
    "- `zip()` 함수는 동일한 개수를 가지는 시퀀스 자료형에서 각 순서에 등장하는 원소들끼리 묶어주는 역할을 한다.  \n",
    "(2챕터의 데이터의 분리 챕터 참고)"
   ]
  },
  {
   "cell_type": "code",
   "execution_count": null,
   "metadata": {
    "colab": {},
    "colab_type": "code",
    "id": "kTkjCxdKxBHt"
   },
   "outputs": [],
   "source": [
    "sentences, ner_tags = [], []\n",
    "\n",
    "for tagged_sentence in tagged_sentences: # 14,041개의 문장 샘플을 1개씩 불러온다.\n",
    "    # 각 샘플에서 단어들은 sentence에 개체명 태깅 정보들은 tag_info에 저장\n",
    "    sentence, tag_info = zip(*tagged_sentence)\n",
    "\n",
    "    # 각 샘플에서 단어 정보만 저장\n",
    "    sentences.append(list(sentence))\n",
    "\n",
    "    # 각 샘플에서 개체명 태깅 정보만 저장\n",
    "    ner_tags.append(list(tag_info))"
   ]
  },
  {
   "cell_type": "markdown",
   "metadata": {
    "colab_type": "text",
    "id": "enFXdlM92lSN"
   },
   "source": [
    "<br>\n",
    "\n",
    "- 임의로 첫 번째 문장 샘플을 출력해보자."
   ]
  },
  {
   "cell_type": "code",
   "execution_count": 7,
   "metadata": {
    "colab": {
     "base_uri": "https://localhost:8080/",
     "height": 53
    },
    "colab_type": "code",
    "id": "4q3BnUO92sCP",
    "outputId": "0ce48a59-b2a7-4c56-ce6e-54ad4d96e9c2"
   },
   "outputs": [
    {
     "name": "stdout",
     "output_type": "stream",
     "text": [
      "['eu', 'rejects', 'german', 'call', 'to', 'boycott', 'british', 'lamb', '.']\n",
      "['B-ORG', 'O', 'B-MISC', 'O', 'O', 'O', 'B-MISC', 'O', 'O']\n"
     ]
    }
   ],
   "source": [
    "print(sentences[0])\n",
    "print(ner_tags[0])"
   ]
  },
  {
   "cell_type": "markdown",
   "metadata": {
    "colab_type": "text",
    "id": "wBayINDz2v5n"
   },
   "source": [
    "- 첫 번째 샘플에 대해서 \n",
    "  - 단어에 대해서만 `sentences[0]`에 저장됨\n",
    "  - 개체명에 대해서만 `ner_tags[0]`에 저장됨"
   ]
  },
  {
   "cell_type": "markdown",
   "metadata": {
    "colab_type": "text",
    "id": "mHecBamD27Wh"
   },
   "source": [
    "- `sentences`는 예측을 위한 `X`에 해당된다.\n",
    "- `ner_tags`는 예측 대상인 `y`에 해당된다."
   ]
  },
  {
   "cell_type": "markdown",
   "metadata": {
    "colab_type": "text",
    "id": "Qw3hYGw13Dxe"
   },
   "source": [
    "<br>\n",
    "\n",
    "- 다른 샘플들에 대해서도 처리가 되었는 지 확인하기 위해 임의로 13번 째 샘플에 대해서도 확인해보자."
   ]
  },
  {
   "cell_type": "code",
   "execution_count": 8,
   "metadata": {
    "colab": {
     "base_uri": "https://localhost:8080/",
     "height": 53
    },
    "colab_type": "code",
    "id": "TKB4Elj33Kwl",
    "outputId": "7b4d1ad1-9637-49b4-c7ac-45602add096e"
   },
   "outputs": [
    {
     "name": "stdout",
     "output_type": "stream",
     "text": [
      "['only', 'france', 'and', 'britain', 'backed', 'fischler', \"'s\", 'proposal', '.']\n",
      "['O', 'B-LOC', 'O', 'B-LOC', 'O', 'B-PER', 'O', 'O', 'O']\n"
     ]
    }
   ],
   "source": [
    "print(sentences[12])\n",
    "print(ner_tags[12])"
   ]
  },
  {
   "cell_type": "markdown",
   "metadata": {
    "colab_type": "text",
    "id": "UN30e6cp3OLu"
   },
   "source": [
    "<br>\n",
    "\n",
    "### 3.3.6 샘플의 길이 분포 확인\n",
    "\n",
    "- 13번 째 샘플은 첫 번째 샘플과 길이가 다른 것을 볼 수 있다.\n",
    "- 사실 14,041개의 문장 샘플의 길이는 전부 제각각이다.\n",
    "- 전체 데이터의 길이 분포를 확인해보자."
   ]
  },
  {
   "cell_type": "code",
   "execution_count": 9,
   "metadata": {
    "colab": {
     "base_uri": "https://localhost:8080/",
     "height": 53
    },
    "colab_type": "code",
    "id": "Y3v2U0B13fIF",
    "outputId": "9bd1905c-4617-4209-d02a-192ab44377dd"
   },
   "outputs": [
    {
     "name": "stdout",
     "output_type": "stream",
     "text": [
      "샘플의 최대 길이 : 113\n",
      "샘플의 평균 길이 : 14.501887\n"
     ]
    }
   ],
   "source": [
    "print('샘플의 최대 길이 : %d' % max(len(l) for l in sentences))\n",
    "print('샘플의 평균 길이 : %f' % (sum(map(len, sentences)) / len(sentences)))"
   ]
  },
  {
   "cell_type": "code",
   "execution_count": 10,
   "metadata": {
    "colab": {
     "base_uri": "https://localhost:8080/",
     "height": 279
    },
    "colab_type": "code",
    "id": "NcBBugW_3rXN",
    "outputId": "8d76f88a-5016-40fc-911e-7ddf828f0d09"
   },
   "outputs": [
    {
     "data": {
      "image/png": "[encoded data removed]",
      "text/plain": [
       "<Figure size 432x288 with 1 Axes>"
      ]
     },
     "metadata": {
      "needs_background": "light",
      "tags": []
     },
     "output_type": "display_data"
    }
   ],
   "source": [
    "plt.hist([len(s) for s in sentences], bins=50)\n",
    "plt.xlabel('length of samples')\n",
    "plt.ylabel('number of samples')\n",
    "plt.show()"
   ]
  },
  {
   "cell_type": "markdown",
   "metadata": {
    "colab_type": "text",
    "id": "ww9vJJx13zaF"
   },
   "source": [
    "- 위의 그래프는 샘플들의 길이가 대체적으로 0~40의 길이를 가진다.\n",
    "- 특히 0~20의 길이를 가진 샘플이 상당한 비율을 차지하는 것을 보여준다.\n",
    "- 길이가 가장 긴 샘플의 길이는 113이다."
   ]
  },
  {
   "cell_type": "markdown",
   "metadata": {
    "colab_type": "text",
    "id": "3NH80p6j36vs"
   },
   "source": [
    "<br>\n",
    "\n",
    "### 3.3.7 토큰화\n",
    "\n",
    "- 이제 케라스 토크나이저를 통해서 토큰화와 정수 인코딩을 진행한다.\n",
    "- 이번에는 문장 데이터에 있는 모든 단어를 사용하지 않고 높은 빈도수를 가진 상위 약 4,000개의 단어만을 사용한다."
   ]
  },
  {
   "cell_type": "markdown",
   "metadata": {
    "colab_type": "text",
    "id": "deS7Gfh54fYK"
   },
   "source": [
    "- 문장 데이터에 대해서는 `src_tokenizer`를 사용한다.\n",
    "- 레이블에 해당되는 개체명 태깅 정보에 대해서는 `tar_tokenizer`를 사용한다."
   ]
  },
  {
   "cell_type": "code",
   "execution_count": null,
   "metadata": {
    "colab": {},
    "colab_type": "code",
    "id": "2WEc2sT43-wH"
   },
   "outputs": [],
   "source": [
    "max_words = 4000\n",
    "src_tokenizer = Tokenizer(num_words=max_words, oov_token='OOV')\n",
    "src_tokenizer.fit_on_texts(sentences)\n",
    "\n",
    "tar_tokenizer = Tokenizer()\n",
    "tar_tokenizer.fit_on_texts(ner_tags)"
   ]
  },
  {
   "cell_type": "code",
   "execution_count": 12,
   "metadata": {
    "colab": {
     "base_uri": "https://localhost:8080/",
     "height": 53
    },
    "colab_type": "code",
    "id": "r4JAda9k4XKu",
    "outputId": "abc54262-63b4-4827-bb28-81135c582f47"
   },
   "outputs": [
    {
     "name": "stdout",
     "output_type": "stream",
     "text": [
      "단어 집합의 크기 : 4000\n",
      "개체명 태깅 정보 집합의 크기 : 10\n"
     ]
    }
   ],
   "source": [
    "vocab_size = max_words\n",
    "tag_size = len(tar_tokenizer.word_index) + 1\n",
    "\n",
    "print('단어 집합의 크기 : {}'.format(vocab_size))\n",
    "print('개체명 태깅 정보 집합의 크기 : {}'.format(tag_size))"
   ]
  },
  {
   "cell_type": "markdown",
   "metadata": {
    "colab_type": "text",
    "id": "UZLV_qKM4tsj"
   },
   "source": [
    "<br>\n",
    "\n",
    "### 3.3.8 정수 인코딩\n",
    "\n",
    "- 문장 데이터에 대해서 정수 인코딩이 수행된 결과는 `X_train`에 저장한다.\n",
    "- 개체명 태깅 데이터에 대해서 정수 인코딩이 수행된 결과는 `y_train`에 저장한다."
   ]
  },
  {
   "cell_type": "code",
   "execution_count": null,
   "metadata": {
    "colab": {},
    "colab_type": "code",
    "id": "GxR27B9R5BcS"
   },
   "outputs": [],
   "source": [
    "X_train = src_tokenizer.texts_to_sequences(sentences)\n",
    "y_train = tar_tokenizer.texts_to_sequences(ner_tags)"
   ]
  },
  {
   "cell_type": "markdown",
   "metadata": {
    "colab_type": "text",
    "id": "UZe-teeE5IIT"
   },
   "source": [
    "<br>\n",
    "\n",
    "- 정수 인코딩이 되었는 지 확인을 위해 임의로 첫 번째 데이터를 출력해보자."
   ]
  },
  {
   "cell_type": "code",
   "execution_count": 14,
   "metadata": {
    "colab": {
     "base_uri": "https://localhost:8080/",
     "height": 53
    },
    "colab_type": "code",
    "id": "7uKmaXTK5OXq",
    "outputId": "3ee0cab2-d390-45b5-b4c4-5835cc87f271"
   },
   "outputs": [
    {
     "name": "stdout",
     "output_type": "stream",
     "text": [
      "[989, 1, 205, 629, 7, 3939, 216, 1, 3]\n",
      "[4, 1, 7, 1, 1, 1, 7, 1, 1]\n"
     ]
    }
   ],
   "source": [
    "print(X_train[0])\n",
    "print(y_train[0])"
   ]
  },
  {
   "cell_type": "markdown",
   "metadata": {
    "colab_type": "text",
    "id": "Mf-OaHhk5Qa6"
   },
   "source": [
    "<br>\n",
    "\n",
    "### 3.3.9 디코딩\n",
    "\n",
    "- 현재 문장 데이터에 대해서는 일부 단어가 `'OOV'`로 대체된 상황이다.\n",
    "- 이를 확인하기 위해 다시 디코딩(정수에서 다시 텍스트 데이터로 변환) 작업을 해보자."
   ]
  },
  {
   "cell_type": "markdown",
   "metadata": {
    "colab_type": "text",
    "id": "q30kL29G5pH5"
   },
   "source": [
    "- 이를 위해 인덱스로부터 단어를 리턴하는 `index_to_word`를 만든다."
   ]
  },
  {
   "cell_type": "code",
   "execution_count": null,
   "metadata": {
    "colab": {},
    "colab_type": "code",
    "id": "mgEewBvA5f2Z"
   },
   "outputs": [],
   "source": [
    "index_to_word = src_tokenizer.index_word\n",
    "index_to_ner = tar_tokenizer.index_word"
   ]
  },
  {
   "cell_type": "markdown",
   "metadata": {
    "colab_type": "text",
    "id": "Oi0SL4j65l-i"
   },
   "source": [
    "<br>\n",
    "\n",
    "- 정수 인코딩 된 첫 번째 문장을 다시 디코딩해보자."
   ]
  },
  {
   "cell_type": "code",
   "execution_count": 18,
   "metadata": {
    "colab": {
     "base_uri": "https://localhost:8080/",
     "height": 107
    },
    "colab_type": "code",
    "id": "dSWyETXV5tx5",
    "outputId": "67224545-d9b3-45f2-82df-b5583e12d2f2"
   },
   "outputs": [
    {
     "name": "stdout",
     "output_type": "stream",
     "text": [
      "기존 문장 : \n",
      "['eu', 'rejects', 'german', 'call', 'to', 'boycott', 'british', 'lamb', '.'] \n",
      "\n",
      "빈도수가 낮은 단어가 OOV 처리된 문장 : \n",
      "['eu', 'OOV', 'german', 'call', 'to', 'boycott', 'british', 'OOV', '.']\n"
     ]
    }
   ],
   "source": [
    "decoded = []\n",
    "\n",
    "for index in X_train[0]: # 첫 번째 샘플 안의 인덱스들에 대해서\n",
    "    decoded.append(index_to_word[index]) # 다시 단어로 변환\n",
    "\n",
    "print('기존 문장 : \\n{}'.format(sentences[0]), '\\n')\n",
    "print('빈도수가 낮은 단어가 OOV 처리된 문장 : \\n{}'.format(decoded))"
   ]
  },
  {
   "cell_type": "code",
   "execution_count": null,
   "metadata": {
    "colab": {},
    "colab_type": "code",
    "id": "XnP6EoUE6CD0"
   },
   "outputs": [],
   "source": []
  }
 ],
 "metadata": {
  "colab": {
   "collapsed_sections": [],
   "name": "Ch12_v03_Named-Entity-Recognition-using-Bi-LSTM.ipynb",
   "provenance": []
  },
  "kernelspec": {
   "display_name": "Python 3",
   "language": "python",
   "name": "python3"
  },
  "language_info": {
   "codemirror_mode": {
    "name": "ipython",
    "version": 3
   },
   "file_extension": ".py",
   "mimetype": "text/x-python",
   "name": "python",
   "nbconvert_exporter": "python",
   "pygments_lexer": "ipython3",
   "version": "3.6.9"
  }
 },
 "nbformat": 4,
 "nbformat_minor": 4
}
