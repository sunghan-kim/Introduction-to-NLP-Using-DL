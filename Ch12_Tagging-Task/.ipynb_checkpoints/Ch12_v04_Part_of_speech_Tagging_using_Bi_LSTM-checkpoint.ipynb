{
 "cells": [
  {
   "cell_type": "markdown",
   "metadata": {
    "colab_type": "text",
    "id": "KRYXNX-Cjm0c"
   },
   "source": [
    "# Ch12. 태깅 작업 (Tagging Task)"
   ]
  },
  {
   "cell_type": "markdown",
   "metadata": {
    "colab_type": "text",
    "id": "TUbpbn77ju2H"
   },
   "source": [
    "# v04. 양방향 LSTM을 이용한 품사 태깅 (part-of-speech Tagging using Bi-LSTM)"
   ]
  },
  {
   "cell_type": "markdown",
   "metadata": {
    "colab_type": "text",
    "id": "i9dD6nT6qDaE"
   },
   "source": [
    "- 품사 태깅에 대해서는 이미 2챕터의 토큰화 챕터에서 배운 바 있다.\n",
    "- 그 당시에는 NLTK와 KoNLPy를 이용해서 이미 기존에 있는 모델로 품사 태깅을 수행했다.\n",
    "- 여기서는 직접 양방향 LSTM을 이용한 품사 태깅을 수행하는 모델을 만들어본다."
   ]
  },
  {
   "cell_type": "markdown",
   "metadata": {
    "colab_type": "text",
    "id": "bHEmZ4yTqQKZ"
   },
   "source": [
    "<br>\n",
    "\n",
    "## 4.1 품사 태깅 데이터에 대한 이해와 전처리\n",
    "\n",
    "- 이번에는 양방향 LSTM을 이용해서 품사 태깅을 하는 모델을 만들어보자."
   ]
  },
  {
   "cell_type": "markdown",
   "metadata": {
    "colab_type": "text",
    "id": "3L_TRvQYqS_d"
   },
   "source": [
    "<br>\n",
    "\n",
    "### 4.1.1 필요 패키지 불러오기"
   ]
  },
  {
   "cell_type": "code",
   "execution_count": null,
   "metadata": {
    "colab": {},
    "colab_type": "code",
    "id": "ypmGkmFFqbtH"
   },
   "outputs": [],
   "source": [
    "import nltk\n",
    "import numpy as np\n",
    "%matplotlib inline\n",
    "import matplotlib.pyplot as plt\n",
    "from tensorflow.keras.preprocessing.text import Tokenizer\n",
    "from tensorflow.keras.preprocessing.sequence import pad_sequences\n",
    "from tensorflow.keras.utils import to_categorical\n",
    "from sklearn.model_selection import train_test_split"
   ]
  },
  {
   "cell_type": "markdown",
   "metadata": {
    "colab_type": "text",
    "id": "NjJwOR3uqtoI"
   },
   "source": [
    "<br>\n",
    "\n",
    "### 4.1.2 토큰화와 품사 태깅 전처리가 수행된 문장 데이터\n",
    "\n",
    "- NLTK를 이용하면 영어 코퍼스에 토큰화와 품사 태깅 전처리를 진행한 문장 데이터를 받아올 수 있다.\n",
    "- 여기서는 해당 데이터를 훈련시켜 품사 태깅을 수행하는 모델을 만들어볼 것이다."
   ]
  },
  {
   "cell_type": "markdown",
   "metadata": {
    "colab_type": "text",
    "id": "jmPacs17rAK3"
   },
   "source": [
    "- 우선 전체 문장 샘플의 개수를 확인해보자."
   ]
  },
  {
   "cell_type": "code",
   "execution_count": 2,
   "metadata": {
    "colab": {
     "base_uri": "https://localhost:8080/",
     "height": 71
    },
    "colab_type": "code",
    "id": "SlSS1kYhrd-U",
    "outputId": "6cd3611a-2669-460b-df1b-ead673d307b7"
   },
   "outputs": [
    {
     "name": "stdout",
     "output_type": "stream",
     "text": [
      "[nltk_data] Downloading package treebank to /root/nltk_data...\n",
      "[nltk_data]   Unzipping corpora/treebank.zip.\n"
     ]
    },
    {
     "data": {
      "text/plain": [
       "True"
      ]
     },
     "execution_count": 2,
     "metadata": {
      "tags": []
     },
     "output_type": "execute_result"
    }
   ],
   "source": [
    "import nltk\n",
    "nltk.download('treebank')"
   ]
  },
  {
   "cell_type": "code",
   "execution_count": 3,
   "metadata": {
    "colab": {
     "base_uri": "https://localhost:8080/",
     "height": 35
    },
    "colab_type": "code",
    "id": "uREvs-QurCUn",
    "outputId": "e92d918a-258b-4ba3-f3f3-435f7cbbe510"
   },
   "outputs": [
    {
     "name": "stdout",
     "output_type": "stream",
     "text": [
      "품사 태깅이 된 문장 개수 :  3914\n"
     ]
    }
   ],
   "source": [
    "# 토큰화에 품사 태깅이 된 데이터 받아오기\n",
    "tagged_sentences = nltk.corpus.treebank.tagged_sents()\n",
    "\n",
    "# 문장 샘플의 개수 출력\n",
    "print(\"품사 태깅이 된 문장 개수 : \", len(tagged_sentences))"
   ]
  },
  {
   "cell_type": "markdown",
   "metadata": {
    "colab_type": "text",
    "id": "yRWQQ1PxrcFS"
   },
   "source": [
    "<br>\n",
    "\n",
    "- 이 중 첫 번째 샘플만 출력해보자."
   ]
  },
  {
   "cell_type": "code",
   "execution_count": 4,
   "metadata": {
    "colab": {
     "base_uri": "https://localhost:8080/",
     "height": 55
    },
    "colab_type": "code",
    "id": "1TWfqdRerloO",
    "outputId": "5745cbad-ae30-486e-ee46-01904a53728a"
   },
   "outputs": [
    {
     "name": "stdout",
     "output_type": "stream",
     "text": [
      "[('Pierre', 'NNP'), ('Vinken', 'NNP'), (',', ','), ('61', 'CD'), ('years', 'NNS'), ('old', 'JJ'), (',', ','), ('will', 'MD'), ('join', 'VB'), ('the', 'DT'), ('board', 'NN'), ('as', 'IN'), ('a', 'DT'), ('nonexecutive', 'JJ'), ('director', 'NN'), ('Nov.', 'NNP'), ('29', 'CD'), ('.', '.')]\n"
     ]
    }
   ],
   "source": [
    "print(tagged_sentences[0])"
   ]
  },
  {
   "cell_type": "markdown",
   "metadata": {
    "colab_type": "text",
    "id": "Sr4kdj8Jrm4-"
   },
   "source": [
    "- 품사 태깅 전처리가 수행된 첫 번째 문장이 출력된 것을 볼 수 있다.\n",
    "- 이러한 문장 샘플이 총 3,914개가 있다."
   ]
  },
  {
   "cell_type": "markdown",
   "metadata": {
    "colab_type": "text",
    "id": "ozDqYa0fruZu"
   },
   "source": [
    "<br>\n",
    "\n",
    "### 4.1.3 단어와 품사 태깅 정보 분리\n",
    "\n",
    "- 훈련을 시키려면 훈련 데이터에서 단어에 해당되는 부분과 품사 태깅 정보에 해당되는 부분을 분리시켜야 한다.\n",
    "- 즉, `[('Pierre', 'NNP'), ('Vinken', 'NNP')]`와 같은 문장 샘플이 있다면 `Pierre`과 `Vinken`을 같이 저장하고, `NNP`와 `NNP`를 같이 저장할 필요가 있다."
   ]
  },
  {
   "cell_type": "markdown",
   "metadata": {
    "colab_type": "text",
    "id": "YfV3pV9vr_jl"
   },
   "source": [
    "- 이런 경우 파이썬 함수 중에서 `zip()` 함수가 유용한 역할을 한다.\n",
    "- `zip()` 함수는 동일한 개수를 가지는 시퀀스 자료형에서 각 순서에 등장하는 원소들끼리 묶어주는 역할을 한다.  \n",
    "(2챕터의 데이터의 분리 챕터 참고)"
   ]
  },
  {
   "cell_type": "code",
   "execution_count": null,
   "metadata": {
    "colab": {},
    "colab_type": "code",
    "id": "fTRWFgBUshwk"
   },
   "outputs": [],
   "source": [
    "sentences, pos_tags = [], []\n",
    "\n",
    "for tagged_sentence in tagged_sentences: # 3,914개의 문장 샘플을 1개씩 불러온다.\n",
    "\n",
    "    # 각 샘플에서 단어들은 sentence에 품사 태깅 정보들은 tag_info에 저장한다.\n",
    "    sentence, tag_info = zip(*tagged_sentence)\n",
    "\n",
    "    # 각 샘플에서 단어 정보만 저장\n",
    "    sentences.append(list(sentence))\n",
    "\n",
    "    # 각 샘플에서 품사 태깅 정보만 저장\n",
    "    pos_tags.append(list(tag_info))"
   ]
  },
  {
   "cell_type": "markdown",
   "metadata": {
    "colab_type": "text",
    "id": "xHpc_ribtKyQ"
   },
   "source": [
    "- 각 문장에 샘플에 대해서는 단어는 `sentences`에 저장되고 태깅 정보는 `pos_tags`에 저장했다."
   ]
  },
  {
   "cell_type": "markdown",
   "metadata": {
    "colab_type": "text",
    "id": "kKQSTihFtYlq"
   },
   "source": [
    "<br>\n",
    "\n",
    "- 임의로 첫 번째 문장 샘플을 출력해보자."
   ]
  },
  {
   "cell_type": "code",
   "execution_count": 6,
   "metadata": {
    "colab": {
     "base_uri": "https://localhost:8080/",
     "height": 73
    },
    "colab_type": "code",
    "id": "itlPj2MQtbry",
    "outputId": "c2d7b9b4-88ba-41a6-8333-5f18d69bb45f"
   },
   "outputs": [
    {
     "name": "stdout",
     "output_type": "stream",
     "text": [
      "['Pierre', 'Vinken', ',', '61', 'years', 'old', ',', 'will', 'join', 'the', 'board', 'as', 'a', 'nonexecutive', 'director', 'Nov.', '29', '.']\n",
      "['NNP', 'NNP', ',', 'CD', 'NNS', 'JJ', ',', 'MD', 'VB', 'DT', 'NN', 'IN', 'DT', 'JJ', 'NN', 'NNP', 'CD', '.']\n"
     ]
    }
   ],
   "source": [
    "print(sentences[0])\n",
    "print(pos_tags[0])"
   ]
  },
  {
   "cell_type": "markdown",
   "metadata": {
    "colab_type": "text",
    "id": "213bs3txthrD"
   },
   "source": [
    "- 첫 번째 샘플에 대해서 단어에 대해서만 `sentences[0]`에, 또한 품사에 대해서만 `pos_tags[0]`에 저장된 것을 볼 수 있다.\n",
    "- `sentences`는 예측을 위한 `X`에 해당된다.\n",
    "- `pos_tags`는 예측 대상인 `y`에 해당된다."
   ]
  },
  {
   "cell_type": "markdown",
   "metadata": {
    "colab_type": "text",
    "id": "AZuQvbT9t8tK"
   },
   "source": [
    "<br>\n",
    "\n",
    "- 다른 샘플들에 대해서도 처리가 되었는 지 확인하기 위해 임의로 아홉번 째 샘플에 대해서도 확인해보자."
   ]
  },
  {
   "cell_type": "code",
   "execution_count": 7,
   "metadata": {
    "colab": {
     "base_uri": "https://localhost:8080/",
     "height": 73
    },
    "colab_type": "code",
    "id": "bjFp_G2suDdZ",
    "outputId": "fef9093a-c2a1-4bcb-ee60-68dcd4defdf7"
   },
   "outputs": [
    {
     "name": "stdout",
     "output_type": "stream",
     "text": [
      "['We', \"'re\", 'talking', 'about', 'years', 'ago', 'before', 'anyone', 'heard', 'of', 'asbestos', 'having', 'any', 'questionable', 'properties', '.']\n",
      "['PRP', 'VBP', 'VBG', 'IN', 'NNS', 'IN', 'IN', 'NN', 'VBD', 'IN', 'NN', 'VBG', 'DT', 'JJ', 'NNS', '.']\n"
     ]
    }
   ],
   "source": [
    "print(sentences[8])\n",
    "print(pos_tags[8])"
   ]
  },
  {
   "cell_type": "markdown",
   "metadata": {
    "colab_type": "text",
    "id": "1DsmdNP5uGr6"
   },
   "source": [
    "- 단어에 대해서만 `sentences[8]`에, 또한 품사에 대해서만 `pos_tags[8]`에 저장된 것을 확인할 수 있다."
   ]
  },
  {
   "cell_type": "markdown",
   "metadata": {
    "colab_type": "text",
    "id": "r29nsDhnunBQ"
   },
   "source": [
    "<br>\n",
    "\n",
    "### 4.1.4 데이터의 길이 분포 확인\n",
    "\n",
    "- 첫 번째 샘플과 아홉번 째 샘플의 길이가 다른 것을 볼 수 있다.\n",
    "- 사실 3,914개의 문장 샘플의 길이는 전부 제각각이다.\n",
    "- 전체 데이터의 길이 분포를 확인해보자."
   ]
  },
  {
   "cell_type": "code",
   "execution_count": 8,
   "metadata": {
    "colab": {
     "base_uri": "https://localhost:8080/",
     "height": 53
    },
    "colab_type": "code",
    "id": "UxbQFZXfvy2g",
    "outputId": "995c86df-977c-404e-d8f8-4cd558f92fb5"
   },
   "outputs": [
    {
     "name": "stdout",
     "output_type": "stream",
     "text": [
      "샘플의 최대 길이 : 271\n",
      "샘플의 평균 길이 : 25.722024\n"
     ]
    }
   ],
   "source": [
    "print('샘플의 최대 길이 : %d' % max(len(l) for l in sentences))\n",
    "print('샘플의 평균 길이 : %f' % (sum(map(len, sentences))/len(sentences)))"
   ]
  },
  {
   "cell_type": "code",
   "execution_count": 9,
   "metadata": {
    "colab": {
     "base_uri": "https://localhost:8080/",
     "height": 283
    },
    "colab_type": "code",
    "id": "jugILumIv-R-",
    "outputId": "f07e84c3-3b64-4344-fcc0-b88b74ee7b14"
   },
   "outputs": [
    {
     "data": {
      "image/png": "[encoded data removed]",
      "text/plain": [
       "<Figure size 432x288 with 1 Axes>"
      ]
     },
     "metadata": {
      "needs_background": "light",
      "tags": []
     },
     "output_type": "display_data"
    }
   ],
   "source": [
    "plt.hist([len(s) for s in sentences], bins=50)\n",
    "plt.xlabel('length of samples')\n",
    "plt.ylabel('number of samples')\n",
    "plt.show()"
   ]
  },
  {
   "cell_type": "markdown",
   "metadata": {
    "colab_type": "text",
    "id": "krk7aTotwIeF"
   },
   "source": [
    "- 위의 그래프는 대부분의 샘플의 길이가 150 이내이며, 대부분 0~50의 길이를 가지는 것을 보여준다.\n",
    "- 이제 케라스 토크나이저를 통해서 정수 인코딩을 진행한다."
   ]
  },
  {
   "cell_type": "markdown",
   "metadata": {
    "colab_type": "text",
    "id": "XOENbrAnwbf8"
   },
   "source": [
    "<br>\n",
    "\n",
    "### 4.1.5 토큰화\n",
    "\n",
    "- 우선 케라스 토크나이저를 다음과 같이 함수로 구현한다."
   ]
  },
  {
   "cell_type": "code",
   "execution_count": null,
   "metadata": {
    "colab": {},
    "colab_type": "code",
    "id": "tCSiv_liwgRr"
   },
   "outputs": [],
   "source": [
    "def tokenize(samples):\n",
    "    tokenizer = Tokenizer()\n",
    "    tokenizer.fit_on_texts(samples)\n",
    "    return tokenizer"
   ]
  },
  {
   "cell_type": "markdown",
   "metadata": {
    "colab_type": "text",
    "id": "2ACcClVQwmIs"
   },
   "source": [
    "<br>\n",
    "\n",
    "- 문장 데이터에 대해서는 `src_tokenizer`를, 레이블에 해당되는 품사 태깅 정보에 대해서는 `tar_tokenizer`를 사용한다."
   ]
  },
  {
   "cell_type": "code",
   "execution_count": null,
   "metadata": {
    "colab": {},
    "colab_type": "code",
    "id": "QAniDCGVwtRk"
   },
   "outputs": [],
   "source": [
    "src_tokenizer = tokenize(sentences)\n",
    "tar_tokenizer = tokenize(pos_tags)"
   ]
  },
  {
   "cell_type": "markdown",
   "metadata": {
    "colab_type": "text",
    "id": "D32-CWDfw2f0"
   },
   "source": [
    "<br>\n",
    "\n",
    "- 단어 집합과 품사 태깅 정보 집합의 크기를 확인해보자."
   ]
  },
  {
   "cell_type": "code",
   "execution_count": 12,
   "metadata": {
    "colab": {
     "base_uri": "https://localhost:8080/",
     "height": 53
    },
    "colab_type": "code",
    "id": "nn0BkXkQw6vT",
    "outputId": "6a73c14c-d493-494c-941e-04c2087a92e5"
   },
   "outputs": [
    {
     "name": "stdout",
     "output_type": "stream",
     "text": [
      "단어 집합의 크기 : 11388\n",
      "태깅 정보 집합의 크기 : 47\n"
     ]
    }
   ],
   "source": [
    "vocab_size = len(src_tokenizer.word_index) + 1\n",
    "tag_size = len(tar_tokenizer.word_index) + 1\n",
    "\n",
    "print('단어 집합의 크기 : {}'.format(vocab_size))\n",
    "print('태깅 정보 집합의 크기 : {}'.format(tag_size))"
   ]
  },
  {
   "cell_type": "markdown",
   "metadata": {
    "colab_type": "text",
    "id": "XThIQiThxHJs"
   },
   "source": [
    "<br>\n",
    "\n",
    "### 4.1.6 정수 인코딩"
   ]
  },
  {
   "cell_type": "code",
   "execution_count": null,
   "metadata": {
    "colab": {},
    "colab_type": "code",
    "id": "yclWWuZDxMCt"
   },
   "outputs": [],
   "source": [
    "X_train = src_tokenizer.texts_to_sequences(sentences)\n",
    "y_train = tar_tokenizer.texts_to_sequences(pos_tags)"
   ]
  },
  {
   "cell_type": "markdown",
   "metadata": {
    "colab_type": "text",
    "id": "Rkb22LxIxWAS"
   },
   "source": [
    "- 문장 데이터에 대해서 정수 인코딩이 수행된 결과는 `X_train`에 저장되었다.\n",
    "- 품사 태깅 데이터에 대해서 정수 인코딩이 수행된 결과는 `y_train`에 저장되었다."
   ]
  },
  {
   "cell_type": "markdown",
   "metadata": {
    "colab_type": "text",
    "id": "3Gs3QgUqxhNS"
   },
   "source": [
    "<br>\n",
    "\n",
    "- 정수 인코딩이 되었는 지 확인을 위해 임의로 세 번째 데이터를 출력해보자."
   ]
  },
  {
   "cell_type": "code",
   "execution_count": 14,
   "metadata": {
    "colab": {
     "base_uri": "https://localhost:8080/",
     "height": 73
    },
    "colab_type": "code",
    "id": "X3FLn4gnxlYq",
    "outputId": "c716d564-f918-4aa8-f992-8d950bc85b80"
   },
   "outputs": [
    {
     "name": "stdout",
     "output_type": "stream",
     "text": [
      "[[5601, 3746, 1, 2024, 86, 331, 1, 46, 2405, 2, 131, 27, 6, 2025, 332, 459, 2026, 3], [31, 3746, 20, 177, 4, 5602, 2915, 1, 2, 2916, 637, 147, 3]]\n",
      "[[3, 3, 8, 10, 6, 7, 8, 21, 13, 4, 1, 2, 4, 7, 1, 3, 10, 9], [3, 3, 17, 1, 2, 3, 3, 8, 4, 3, 19, 1, 9]]\n"
     ]
    }
   ],
   "source": [
    "print(X_train[:2])\n",
    "print(y_train[:2])"
   ]
  },
  {
   "cell_type": "markdown",
   "metadata": {
    "colab_type": "text",
    "id": "4m4Go0iRxoV7"
   },
   "source": [
    "<br>\n",
    "\n",
    "### 4.1.7 패딩\n",
    "\n",
    "- 앞서 본 그래프에 따르면, 대부분의 샘플은 길이가 150 이내이다.\n",
    "- `X`에 해당되는 데이터 `X_train`의 샘플들과 `y`에 해당되는 데이터 `y_train` 샘플들의 모든 길이를 임의로 150 정도로 맞춰보자.\n",
    "- 이를 위해서 케라스의 `pad_sequences()`를 사용한다."
   ]
  },
  {
   "cell_type": "code",
   "execution_count": null,
   "metadata": {
    "colab": {},
    "colab_type": "code",
    "id": "nDfBMAfQx7Ap"
   },
   "outputs": [],
   "source": [
    "max_len = 150\n",
    "\n",
    "X_train = pad_sequences(X_train, padding='post', maxlen=max_len)\n",
    "y_train = pad_sequences(y_train, padding='post', maxlen=max_len)"
   ]
  },
  {
   "cell_type": "markdown",
   "metadata": {
    "colab_type": "text",
    "id": "b2Zz7iTayILJ"
   },
   "source": [
    "<br>\n",
    "\n",
    "### 4.1.8 훈련 데이터와 테스트 데이터 분리\n",
    "\n",
    "- 이제 훈련 데이터와 테스트 데이터를 8:2의 비율로 분리한다."
   ]
  },
  {
   "cell_type": "code",
   "execution_count": null,
   "metadata": {
    "colab": {},
    "colab_type": "code",
    "id": "ebeB6QVIyNij"
   },
   "outputs": [],
   "source": [
    "X_train, X_test, y_train, y_test = train_test_split(X_train, y_train,\n",
    "                                                    test_size=.2, random_state=777)"
   ]
  },
  {
   "cell_type": "markdown",
   "metadata": {
    "colab_type": "text",
    "id": "weEvrLCgyXxK"
   },
   "source": [
    "<br>\n",
    "\n",
    "### 4.1.9 레이블 데이터 원-핫 인코딩\n",
    "\n",
    "- 레이블에 해당하는 태깅 정보에 대해서 원-핫 인코딩을 수행한다."
   ]
  },
  {
   "cell_type": "code",
   "execution_count": null,
   "metadata": {
    "colab": {},
    "colab_type": "code",
    "id": "LOV9-DPpyduL"
   },
   "outputs": [],
   "source": [
    "y_train = to_categorical(y_train, num_classes=tag_size)\n",
    "y_test = to_categorical(y_test, num_classes=tag_size)"
   ]
  },
  {
   "cell_type": "markdown",
   "metadata": {
    "colab_type": "text",
    "id": "0lLQxmjFykkj"
   },
   "source": [
    "<br>\n",
    "\n",
    "### 4.1.10 각 데이터의 크기 확인"
   ]
  },
  {
   "cell_type": "code",
   "execution_count": 18,
   "metadata": {
    "colab": {
     "base_uri": "https://localhost:8080/",
     "height": 89
    },
    "colab_type": "code",
    "id": "ZSWvSop0yy9i",
    "outputId": "8a966543-6e64-4642-c6ac-e940431f3ef9"
   },
   "outputs": [
    {
     "name": "stdout",
     "output_type": "stream",
     "text": [
      "훈련 샘플 문장의 크기 : (3131, 150)\n",
      "훈련 샘플 레이블의 크기 : (3131, 150, 47)\n",
      "테스트 샘플 문장의 크기 : (783, 150)\n",
      "테스트 샘플 레이블의 크기 : (783, 150, 47)\n"
     ]
    }
   ],
   "source": [
    "print('훈련 샘플 문장의 크기 : {}'.format(X_train.shape))\n",
    "print('훈련 샘플 레이블의 크기 : {}'.format(y_train.shape))\n",
    "print('테스트 샘플 문장의 크기 : {}'.format(X_test.shape))\n",
    "print('테스트 샘플 레이블의 크기 : {}'.format(y_test.shape))"
   ]
  },
  {
   "cell_type": "markdown",
   "metadata": {
    "colab_type": "text",
    "id": "0b3k5dQfy0Gh"
   },
   "source": [
    "<br>\n",
    "\n",
    "## 4.2 양방향 LSTM(Bi-directional LSTM)으로 POS Tagger 만들기"
   ]
  },
  {
   "cell_type": "markdown",
   "metadata": {
    "colab_type": "text",
    "id": "d6YVt_nQy48S"
   },
   "source": [
    "### 4.2.1 필요 패키지 불러오기"
   ]
  },
  {
   "cell_type": "code",
   "execution_count": null,
   "metadata": {
    "colab": {},
    "colab_type": "code",
    "id": "vbCxB1SxC71g"
   },
   "outputs": [],
   "source": [
    "from tensorflow.keras.models import Sequential\n",
    "from tensorflow.keras.layers import Dense, Bidirectional, LSTM, Embedding, InputLayer, TimeDistributed\n",
    "from tensorflow.keras.optimizers import Adam"
   ]
  },
  {
   "cell_type": "markdown",
   "metadata": {
    "colab_type": "text",
    "id": "FI7h7PH5DKLW"
   },
   "source": [
    "<br>\n",
    "\n",
    "### 4.2.2 모델 구성"
   ]
  },
  {
   "cell_type": "code",
   "execution_count": null,
   "metadata": {
    "colab": {},
    "colab_type": "code",
    "id": "iwfDJBZzDNSQ"
   },
   "outputs": [],
   "source": [
    "model = Sequential()\n",
    "model.add(Embedding(vocab_size, 128, input_length=max_len, mask_zero=True))\n",
    "model.add(Bidirectional(LSTM(256, return_sequences=True)))\n",
    "model.add(TimeDistributed(Dense(tag_size, activation=('softmax'))))"
   ]
  },
  {
   "cell_type": "markdown",
   "metadata": {
    "colab_type": "text",
    "id": "FJfkKKTaDfug"
   },
   "source": [
    "<br>\n",
    "\n",
    "### 4.2.3 컴파일"
   ]
  },
  {
   "cell_type": "code",
   "execution_count": null,
   "metadata": {
    "colab": {},
    "colab_type": "code",
    "id": "AhkOTgc8Dhyg"
   },
   "outputs": [],
   "source": [
    "model.compile(loss='categorical_crossentropy', optimizer=Adam(0.001), metrics=['accuracy'])"
   ]
  },
  {
   "cell_type": "markdown",
   "metadata": {
    "colab_type": "text",
    "id": "CvsvyfEaDpXy"
   },
   "source": [
    "<br>\n",
    "\n",
    "### 4.2.4 훈련"
   ]
  },
  {
   "cell_type": "code",
   "execution_count": 22,
   "metadata": {
    "colab": {
     "base_uri": "https://localhost:8080/",
     "height": 271
    },
    "colab_type": "code",
    "id": "0Ekl4C3SDr8P",
    "outputId": "ceadb4a4-7d17-4166-d1ac-f6775b16bcd4"
   },
   "outputs": [
    {
     "name": "stdout",
     "output_type": "stream",
     "text": [
      "Epoch 1/6\n",
      "25/25 [==============================] - 3s 138ms/step - loss: 0.5733 - accuracy: 0.0582 - val_loss: 0.4946 - val_accuracy: 0.0344\n",
      "Epoch 2/6\n",
      "25/25 [==============================] - 1s 50ms/step - loss: 0.4912 - accuracy: 0.0392 - val_loss: 0.4491 - val_accuracy: 0.0574\n",
      "Epoch 3/6\n",
      "25/25 [==============================] - 1s 46ms/step - loss: 0.4060 - accuracy: 0.0739 - val_loss: 0.3184 - val_accuracy: 0.0881\n",
      "Epoch 4/6\n",
      "25/25 [==============================] - 1s 46ms/step - loss: 0.2575 - accuracy: 0.1051 - val_loss: 0.1885 - val_accuracy: 0.1250\n",
      "Epoch 5/6\n",
      "25/25 [==============================] - 1s 46ms/step - loss: 0.1356 - accuracy: 0.1411 - val_loss: 0.0992 - val_accuracy: 0.1473\n",
      "Epoch 6/6\n",
      "25/25 [==============================] - 1s 46ms/step - loss: 0.0686 - accuracy: 0.1567 - val_loss: 0.0649 - val_accuracy: 0.1540\n"
     ]
    },
    {
     "data": {
      "text/plain": [
       "<tensorflow.python.keras.callbacks.History at 0x7f6e9462acf8>"
      ]
     },
     "execution_count": 22,
     "metadata": {
      "tags": []
     },
     "output_type": "execute_result"
    }
   ],
   "source": [
    "model.fit(X_train, y_train, batch_size=128, epochs=6, validation_data=(X_test, y_test))"
   ]
  },
  {
   "cell_type": "markdown",
   "metadata": {
    "colab_type": "text",
    "id": "uAA8I5Y0DxyE"
   },
   "source": [
    "<br>\n",
    "\n",
    "### 4.2.5 평가"
   ]
  },
  {
   "cell_type": "code",
   "execution_count": 24,
   "metadata": {
    "colab": {
     "base_uri": "https://localhost:8080/",
     "height": 71
    },
    "colab_type": "code",
    "id": "m2c7CXMXD6eP",
    "outputId": "fc17bc96-086e-4ae5-8c8e-7266f7ce98d8"
   },
   "outputs": [
    {
     "name": "stdout",
     "output_type": "stream",
     "text": [
      "25/25 [==============================] - 0s 10ms/step - loss: 0.0662 - accuracy: 0.1540\n",
      "\n",
      " 테스트 정확도: 0.1540\n"
     ]
    }
   ],
   "source": [
    "print(\"\\n 테스트 정확도: %.4f\" % (model.evaluate(X_test, y_test)[1]))"
   ]
  },
  {
   "cell_type": "markdown",
   "metadata": {
    "colab_type": "text",
    "id": "OhphUr-SD_00"
   },
   "source": [
    "<br>\n",
    "\n",
    "### 4.2.6 특정 테스트 데이터 출력\n",
    "\n",
    "- 실제로 맞추고 있는 지를 특정 테스트 데이터를 주고 직접 출력해서 확인해보자.\n",
    "- 우선 인덱스로부터 단어와 품사 태깅 정보를 리턴하는 `index_to_word`와 `index_to_tag`를 만들고 이를 이용하여 실제값과 예측값을 출력한다."
   ]
  },
  {
   "cell_type": "code",
   "execution_count": null,
   "metadata": {
    "colab": {},
    "colab_type": "code",
    "id": "cgT0GMldEaoi"
   },
   "outputs": [],
   "source": [
    "index_to_word = src_tokenizer.index_word\n",
    "index_to_tag = tar_tokenizer.index_word"
   ]
  },
  {
   "cell_type": "code",
   "execution_count": 27,
   "metadata": {
    "colab": {
     "base_uri": "https://localhost:8080/",
     "height": 467
    },
    "colab_type": "code",
    "id": "tPW2nznqEi8C",
    "outputId": "ef29af27-a248-41d4-942f-f9ee4540e4b7"
   },
   "outputs": [
    {
     "name": "stdout",
     "output_type": "stream",
     "text": [
      "단어             |실제값  |예측값\n",
      "-----------------------------------\n",
      "in               : IN      IN\n",
      "addition         : NN      NN\n",
      ",                : ,       ,\n",
      "buick            : NNP     NNP\n",
      "is               : VBZ     VBZ\n",
      "a                : DT      DT\n",
      "relatively       : RB      RB\n",
      "respected        : VBN     VBN\n",
      "nameplate        : NN      NN\n",
      "among            : IN      IN\n",
      "american         : NNP     NNP\n",
      "express          : NNP     NNP\n",
      "card             : NN      NN\n",
      "holders          : NNS     NNS\n",
      ",                : ,       ,\n",
      "says             : VBZ     VBZ\n",
      "0                : -NONE-  -NONE-\n",
      "*t*-1            : -NONE-  -NONE-\n",
      "an               : DT      DT\n",
      "american         : NNP     NNP\n",
      "express          : NNP     NNP\n",
      "spokeswoman      : NN      NN\n",
      ".                : .       .\n"
     ]
    }
   ],
   "source": [
    "i = 10 # 확인하고 싶은 테스트용 샘플의 인덱스\n",
    "\n",
    "# 입력한 테스트용 샘플에 대해서 예측 y를 리턴\n",
    "y_predicted = model.predict(np.array([X_test[i]]))\n",
    "\n",
    "# 원-핫 인코딩을 다시 정수 인코딩으로 변경\n",
    "y_predicted = np.argmax(y_predicted, axis=-1)\n",
    "true = np.argmax(y_test[i], -1)\n",
    "\n",
    "print(\"{:15}|{:5}|{}\".format(\"단어\", \"실제값\", \"예측값\"))\n",
    "print(35 * \"-\")\n",
    "\n",
    "for w, t, pred in zip(X_test[i], true, y_predicted[0]):\n",
    "    if w != 0: # PAD값은 제외함.\n",
    "        print(\"{:17}: {:7} {}\".format(index_to_word[w], index_to_tag[t].upper(), index_to_tag[pred].upper()))"
   ]
  }
 ],
 "metadata": {
  "accelerator": "GPU",
  "colab": {
   "collapsed_sections": [],
   "name": "Ch12_v04_Part-of-speech-Tagging-using-Bi-LSTM.ipynb",
   "provenance": []
  },
  "kernelspec": {
   "display_name": "Python 3",
   "language": "python",
   "name": "python3"
  },
  "language_info": {
   "codemirror_mode": {
    "name": "ipython",
    "version": 3
   },
   "file_extension": ".py",
   "mimetype": "text/x-python",
   "name": "python",
   "nbconvert_exporter": "python",
   "pygments_lexer": "ipython3",
   "version": "3.6.9"
  }
 },
 "nbformat": 4,
 "nbformat_minor": 4
}
