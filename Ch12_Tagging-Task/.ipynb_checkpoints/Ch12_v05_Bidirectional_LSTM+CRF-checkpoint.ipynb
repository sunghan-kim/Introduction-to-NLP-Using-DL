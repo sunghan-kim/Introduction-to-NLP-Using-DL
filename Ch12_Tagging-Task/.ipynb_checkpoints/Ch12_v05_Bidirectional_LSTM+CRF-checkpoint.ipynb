{
 "cells": [
  {
   "cell_type": "markdown",
   "metadata": {
    "colab_type": "text",
    "id": "8N32l7L3FYAq"
   },
   "source": [
    "# Ch12. 태깅 작업 (Tagging Task)"
   ]
  },
  {
   "cell_type": "markdown",
   "metadata": {
    "colab_type": "text",
    "id": "vYbtYlmoFeex"
   },
   "source": [
    "# v05. 양방향 LSTM과 CRF (Bidirectional LSTM + CRF)"
   ]
  },
  {
   "cell_type": "markdown",
   "metadata": {
    "colab_type": "text",
    "id": "sl-9J0clFkwp"
   },
   "source": [
    "- 이번 챕터에서는 기존의 양방향 LSTM 모델에 CRF(Conditional Random Field)라는 새로운 층을 추가하여 보다 모델을 개선시킨 양방향 LSTM + CRF 모델을 사용하여 개체명 인식(Named Entity Recognition)을 수행한다.\n",
    "- [논문 1 링크](https://arxiv.org/pdf/1508.01991v1.pdf)\n",
    "- [논문 2 링크](https://arxiv.org/pdf/1603.01360.pdf)"
   ]
  },
  {
   "cell_type": "markdown",
   "metadata": {
    "colab_type": "text",
    "id": "eN9ZzzlUF4qw"
   },
   "source": [
    "<br>\n",
    "\n",
    "## 5.1 CRF (Conditional Random Field)\n",
    "\n",
    "- CRF는 Conditional Random Field의 약자이다.\n",
    "- 양방향 LSTM을 위해 탄생한 모델이 아니라 이전에 독자적으로 존재해왔던 모델이다.\n",
    "- 이를 양방향 LSTM 모델 위에 하나의 층으로 추가하여, 양방향 LSTM  + CRF 모델이 탄생했다.\n",
    "- 여기서는 CRF의 수식적 이해가 아니라 양방향 LSTM + CRF 모델의 직관에 대해서 이해한다."
   ]
  },
  {
   "cell_type": "markdown",
   "metadata": {
    "colab_type": "text",
    "id": "8EXLn_TnGKqf"
   },
   "source": [
    "<br>\n",
    "\n",
    "### 5.1.1 간단한 개체명 인식 작업의 예\n",
    "\n",
    "- CRF 층의 역할을 이해하기 위해서 간단한 개체명 인식 작업의 예를 들어보자.\n",
    "- 사람(Person), 조직(Organization) 두 가지만을 태깅하는 간단한 태깅 작업에 BIO 표현을 사용한다면 여기서 사용하는 태깅의 종류는 아래의 5가지이다.\n",
    "\n",
    "> `B-Per`, `I-Per`, `B-Org`, `I-Org`, `O`"
   ]
  },
  {
   "cell_type": "markdown",
   "metadata": {
    "colab_type": "text",
    "id": "G6mKH75yNpCJ"
   },
   "source": [
    "- 아래의 그림은 위의 태깅을 수행하는 기존의 양방향 LSTM 개체명 인식 모델의 예를 보여준다.\n",
    "\n",
    "$\\qquad$ ![](https://wikidocs.net/images/page/34156/bilstmcrf1.PNG)\n",
    "\n",
    "- 위 모델은 각 단어를 벡터로 입력받고, 모델의 출력층에서 활성화 함수를 통해 개체명을 예측한다.\n",
    "- 사실 입력 단어들과 실제 개체명이 무엇인지 모르는 상황이므로 이 모델이 정확하게 개체명을 예측했는 지는 위 그림만으로는 알 수 없다."
   ]
  },
  {
   "cell_type": "markdown",
   "metadata": {
    "colab_type": "text",
    "id": "OgfavsesN_FP"
   },
   "source": [
    "<br>\n",
    "\n",
    "- 또 다른 그림의 예를 보자.\n",
    "\n",
    "$\\qquad$ ![](https://wikidocs.net/images/page/34156/bilstmcrf2_%EC%88%98%EC%A0%95.PNG)\n",
    "\n",
    "- 위 모델은 명확히 틀린 예측을 포함하고 있다.\n",
    "- 입력 단어들과 실제값의 여부와 상관없이 이 사실을 알 수 있다.\n",
    "- BIO 표현에 따르면\n",
    "  - 첫 번째 단어의 레이블에서 I가 등장할 수 없다.\n",
    "  - `I-Per`은 반드시 `B-Per` 뒤에서만 등장할 수 있다.\n",
    "  - `I-Org`도 마찬가지로 `B-Org` 뒤에서만 등장할 수 있다.\n",
    "- 위 모델은 이런 BIO 표현 방법의 제약사항들을 모두 위반하고 있다."
   ]
  },
  {
   "cell_type": "markdown",
   "metadata": {
    "colab_type": "text",
    "id": "mzZ8hExVOBdP"
   },
   "source": [
    "<br>\n",
    "\n",
    "### 5.1.2 CRF 층 추가에 따른 이점\n",
    "\n",
    "- 여기서 양방향 LSTM 위에 CRF 층을 추가하여 얻을 수 있는 이점을 언급한다.\n",
    "- CRF 층을 추가하면 모델은 예측 개체명, 다시 말해 레이블 사이의 의존성을 고려할 수 있다."
   ]
  },
  {
   "cell_type": "markdown",
   "metadata": {
    "colab_type": "text",
    "id": "mb0jRdvuO8pH"
   },
   "source": [
    "- 아래의 그림은 양방향 LSTM + CRF 모델을 보여준다.\n",
    "\n",
    "$\\qquad$ ![](https://wikidocs.net/images/page/34156/bilstmcrf3.PNG)\n",
    "\n",
    "- 앞서 봤듯이, 기존에 CRF 층이 존재하지 않았던 양방향 LSTM 모델은 활성화 함수를 지난 시점에서 개체명을 결정했다.\n",
    "- 하지만, CRF 층을 추가한 모델에서는 활성화 함수의 결과들이 CRF 층의 입력으로 전달된다.\n",
    "- 예를 들어 $word_1$에 대한 BiLSTM 셀과 활성화 함수를 지난 출력값 `[0.7, 0.12, 0.08, 0.04, 0.06]`은 CRF 층의 입력이 된다.\n",
    "- 마찬가지로 모든 단어에 대한 활성화 함수를 지난 출력값은 CRF 층의 입력이 되고, CRF 층은 레이블 시퀀스에 대해서 가장 높은 점수를 가지는 시퀀스를 예측한다."
   ]
  },
  {
   "cell_type": "markdown",
   "metadata": {
    "colab_type": "text",
    "id": "HrbBG7O_O9G0"
   },
   "source": [
    "<br>\n",
    "\n",
    "### 5.1.3 CRF 층의 제약사항 학습\n",
    "\n",
    "- 이러한 구조에서 CRF 층은 점차적으로 훈련 데이터로부터 아래와 같은 제약사항 등을 학습하게 된다.\n",
    "  1. 문장의 첫 번째 단어에서는 `I`가 나오지 않는다.\n",
    "  2. `O-I` 패턴은 나오지 않는다.\n",
    "  3. `B-I-I` 패턴에서 개체명은 일관성을 유지한다. 예를 들어 `B-Per` 다음에 `I-Org`는 나오지 않는다.\n",
    "- 요약하면 양방향 LSTM은 입력 단어에 대한 양방향 문맥을 반영하며, CRF는 출력 레이블에 대한 양방향 문맥을 반영한다."
   ]
  },
  {
   "cell_type": "markdown",
   "metadata": {
    "colab_type": "text",
    "id": "4w-CWjFaQtAi"
   },
   "source": [
    "<br>\n",
    "\n",
    "## 5.2 실습을 진행하기 전에\n",
    "\n",
    "- CRF layer는 현재 텐서플로우 1.3 케라스 2.2.4에서 동작한다.\n",
    "- 그러므로 우선 버전을 맞춰줘야 한다.\n",
    "- 로컬 환경의 버전은 건드리지 않기 위해 구글 Colab에서 실습을 진행하는 것을 권장한다."
   ]
  },
  {
   "cell_type": "code",
   "execution_count": null,
   "metadata": {
    "colab": {},
    "colab_type": "code",
    "id": "yQb4iGFIDNRH"
   },
   "outputs": [],
   "source": [
    "!pip install tensorflow==1.3"
   ]
  },
  {
   "cell_type": "code",
   "execution_count": 2,
   "metadata": {
    "colab": {
     "base_uri": "https://localhost:8080/",
     "height": 35
    },
    "colab_type": "code",
    "id": "2LkcxAMWGozq",
    "outputId": "d35efddb-05ef-41a5-984a-f8b4b6cafbf3"
   },
   "outputs": [
    {
     "name": "stdout",
     "output_type": "stream",
     "text": [
      "TensorFlow 1.x selected.\n"
     ]
    }
   ],
   "source": [
    "%tensorflow_version 1.x"
   ]
  },
  {
   "cell_type": "code",
   "execution_count": 3,
   "metadata": {
    "colab": {
     "base_uri": "https://localhost:8080/",
     "height": 35
    },
    "colab_type": "code",
    "id": "4uPUMxVhG9wu",
    "outputId": "a47a7e57-735f-4989-ff83-39e5af16efcb"
   },
   "outputs": [
    {
     "data": {
      "text/plain": [
       "'1.15.2'"
      ]
     },
     "execution_count": 3,
     "metadata": {
      "tags": []
     },
     "output_type": "execute_result"
    }
   ],
   "source": [
    "import tensorflow as tf\n",
    "tf.__version__"
   ]
  },
  {
   "cell_type": "code",
   "execution_count": null,
   "metadata": {
    "colab": {},
    "colab_type": "code",
    "id": "2bUPMVQPQ42R"
   },
   "outputs": [],
   "source": [
    "!pip install keras==2.2.4"
   ]
  },
  {
   "cell_type": "markdown",
   "metadata": {
    "colab_type": "text",
    "id": "bkJj9A2gQ6WC"
   },
   "source": [
    "<br>\n",
    "\n",
    "- CRF를 사용하기 위해 `keras_contrib`를 설치해야 한다.\n",
    "- 아래의 명령을 수행하여 설치한다."
   ]
  },
  {
   "cell_type": "code",
   "execution_count": null,
   "metadata": {
    "colab": {},
    "colab_type": "code",
    "id": "v0aXbsb7RCpZ"
   },
   "outputs": [],
   "source": [
    "!pip install git+https://www.github.com/keras-team/keras-contrib.git"
   ]
  },
  {
   "cell_type": "markdown",
   "metadata": {
    "colab_type": "text",
    "id": "SLospr6SRELZ"
   },
   "source": [
    "<br>\n",
    "\n",
    "## 5.3 개체명 인식 데이터에 대한 이해와 전처리\n",
    "\n",
    "- 이번에는 양방향 LSTM과 CRF를 함께 사용하여 앞서 사용한 데이터 외에 다른 데이터를 사용하여 개체명 인식을 수행해보도록 한다.\n",
    "- 데이터는 [해당 링크](https://www.kaggle.com/abhinavwalia95/entity-annotated-corpus)에서 다운로드 가능하다."
   ]
  },
  {
   "cell_type": "markdown",
   "metadata": {
    "colab_type": "text",
    "id": "uPo8Wf1WRPWw"
   },
   "source": [
    "<br>\n",
    "\n",
    "### 5.3.1 필요 패키지 불러오기"
   ]
  },
  {
   "cell_type": "code",
   "execution_count": null,
   "metadata": {
    "colab": {},
    "colab_type": "code",
    "id": "djCOpNTsUABV"
   },
   "outputs": [],
   "source": [
    "import pandas as pd\n",
    "import numpy as np\n",
    "%matplotlib inline\n",
    "import matplotlib.pyplot as plt\n",
    "from tensorflow.keras.preprocessing.text import Tokenizer\n",
    "from tensorflow.keras.preprocessing.sequence import pad_sequences\n",
    "from sklearn.model_selection import train_test_split\n",
    "from tensorflow.keras.utils import to_categorical"
   ]
  },
  {
   "cell_type": "markdown",
   "metadata": {
    "colab_type": "text",
    "id": "1dGnX0BHUTVl"
   },
   "source": [
    "<br>\n",
    "\n",
    "### 5.3.2 데이터 불러오기"
   ]
  },
  {
   "cell_type": "code",
   "execution_count": null,
   "metadata": {
    "colab": {},
    "colab_type": "code",
    "id": "fzOVFj5QUVnF"
   },
   "outputs": [],
   "source": [
    "data = pd.read_csv(\"ner_dataset.csv\", encoding=\"latin1\")"
   ]
  },
  {
   "cell_type": "code",
   "execution_count": 8,
   "metadata": {
    "colab": {
     "base_uri": "https://localhost:8080/",
     "height": 204
    },
    "colab_type": "code",
    "id": "v7Mq1kDdUaLS",
    "outputId": "c68a50f0-a091-4a7c-87f1-ff304ce5ad5e"
   },
   "outputs": [
    {
     "data": {
      "text/html": [
       "<div>\n",
       "<style scoped>\n",
       "    .dataframe tbody tr th:only-of-type {\n",
       "        vertical-align: middle;\n",
       "    }\n",
       "\n",
       "    .dataframe tbody tr th {\n",
       "        vertical-align: top;\n",
       "    }\n",
       "\n",
       "    .dataframe thead th {\n",
       "        text-align: right;\n",
       "    }\n",
       "</style>\n",
       "<table border=\"1\" class=\"dataframe\">\n",
       "  <thead>\n",
       "    <tr style=\"text-align: right;\">\n",
       "      <th></th>\n",
       "      <th>Sentence #</th>\n",
       "      <th>Word</th>\n",
       "      <th>POS</th>\n",
       "      <th>Tag</th>\n",
       "    </tr>\n",
       "  </thead>\n",
       "  <tbody>\n",
       "    <tr>\n",
       "      <th>0</th>\n",
       "      <td>Sentence: 1</td>\n",
       "      <td>Thousands</td>\n",
       "      <td>NNS</td>\n",
       "      <td>O</td>\n",
       "    </tr>\n",
       "    <tr>\n",
       "      <th>1</th>\n",
       "      <td>NaN</td>\n",
       "      <td>of</td>\n",
       "      <td>IN</td>\n",
       "      <td>O</td>\n",
       "    </tr>\n",
       "    <tr>\n",
       "      <th>2</th>\n",
       "      <td>NaN</td>\n",
       "      <td>demonstrators</td>\n",
       "      <td>NNS</td>\n",
       "      <td>O</td>\n",
       "    </tr>\n",
       "    <tr>\n",
       "      <th>3</th>\n",
       "      <td>NaN</td>\n",
       "      <td>have</td>\n",
       "      <td>VBP</td>\n",
       "      <td>O</td>\n",
       "    </tr>\n",
       "    <tr>\n",
       "      <th>4</th>\n",
       "      <td>NaN</td>\n",
       "      <td>marched</td>\n",
       "      <td>VBN</td>\n",
       "      <td>O</td>\n",
       "    </tr>\n",
       "  </tbody>\n",
       "</table>\n",
       "</div>"
      ],
      "text/plain": [
       "    Sentence #           Word  POS Tag\n",
       "0  Sentence: 1      Thousands  NNS   O\n",
       "1          NaN             of   IN   O\n",
       "2          NaN  demonstrators  NNS   O\n",
       "3          NaN           have  VBP   O\n",
       "4          NaN        marched  VBN   O"
      ]
     },
     "execution_count": 8,
     "metadata": {
      "tags": []
     },
     "output_type": "execute_result"
    }
   ],
   "source": [
    "data[:5]"
   ]
  },
  {
   "cell_type": "markdown",
   "metadata": {
    "colab_type": "text",
    "id": "0CU-Zf7yUbTy"
   },
   "source": [
    "<br>\n",
    "\n",
    "### 5.3.3 데이터의 구성\n",
    "\n",
    "- 이번에 사용할 데이터는 앞서 사용한 데이터랑 양식이 조금 다르다.\n",
    "- 첫 번째 열은 다음과 같은 패턴을 가지고 있다.\n",
    "  - `Sentence: 1`가 있고, `Null` 값이 이어진다.\n",
    "  - 그러다가 다시 `Sentence: 2`가 나오고 다시 `Null` 값이 이어진다.\n",
    "  - 다시 `Sentence: 3`이 나오고 다시 `Null` 값이 이어진다.\n",
    "  - 위와 같은 규칙이 반복된다.\n",
    "- 그런데 사실 이는 하나의 문장을 여러 행으로 나눠 높은 것이다."
   ]
  },
  {
   "cell_type": "markdown",
   "metadata": {
    "colab_type": "text",
    "id": "CJ2tXJmdVWD5"
   },
   "source": [
    "- 숫자값은 `t`라고 하자.\n",
    "- 첫 번째 `Sentence: t`부터 `Null` 값이 나오다가 `Sentence: t+1`이 나오기 전까지의 모든 데이터는 원래 하나의 행, 즉 하나의 샘플이어야 한다.\n",
    "- `t` 번째 문장을 각 단어마다 각 하나의 행으로 나눠놓은 데이터이기 때문이다.\n",
    "- 이는 뒤에서 Pandas의 `fillna`를 통해 하나로 묶는 작업을 해준다."
   ]
  },
  {
   "cell_type": "markdown",
   "metadata": {
    "colab_type": "text",
    "id": "xJGVt3qTVu33"
   },
   "source": [
    "<br>\n",
    "\n",
    "### 5.3.4 데이터의 개수 확인\n",
    "\n",
    "- 현재 `data`의 행의 개수를 확인해보자."
   ]
  },
  {
   "cell_type": "code",
   "execution_count": 9,
   "metadata": {
    "colab": {
     "base_uri": "https://localhost:8080/",
     "height": 35
    },
    "colab_type": "code",
    "id": "qvCYheDFV5Cv",
    "outputId": "69b4b66c-4bc3-4001-c402-f096e9035eb5"
   },
   "outputs": [
    {
     "name": "stdout",
     "output_type": "stream",
     "text": [
      "데이터프레임 행의 개수 : 1048575\n"
     ]
    }
   ],
   "source": [
    "print('데이터프레임 행의 개수 : {}'.format(len(data)))"
   ]
  },
  {
   "cell_type": "markdown",
   "metadata": {
    "colab_type": "text",
    "id": "F_ntZkIMV8Yw"
   },
   "source": [
    "- 현재 `data`의 행의 개수는 1,048,575개이다.\n",
    "- 하지만 뒤에서 기존에 문장 1개였던 행들을 1개의 행으로 병합하는 작업을 해야하기 때문에 최종 샘플의 개수는 이보다 줄어들게 된다."
   ]
  },
  {
   "cell_type": "markdown",
   "metadata": {
    "colab_type": "text",
    "id": "CIKUHCbNWF-x"
   },
   "source": [
    "<br>\n",
    "\n",
    "### 5.3.5 결측값 확인"
   ]
  },
  {
   "cell_type": "code",
   "execution_count": 10,
   "metadata": {
    "colab": {
     "base_uri": "https://localhost:8080/",
     "height": 35
    },
    "colab_type": "code",
    "id": "QcSnUgblWSlG",
    "outputId": "e98a2de4-293a-4773-ebfe-79d9d32a991d"
   },
   "outputs": [
    {
     "name": "stdout",
     "output_type": "stream",
     "text": [
      "데이터에 Null 값이 있는 지 유무 : True\n"
     ]
    }
   ],
   "source": [
    "print('데이터에 Null 값이 있는 지 유무 : ' + str(data.isnull().values.any()))"
   ]
  },
  {
   "cell_type": "markdown",
   "metadata": {
    "colab_type": "text",
    "id": "aBWkNpNDWXQf"
   },
   "source": [
    "`Sentence #` 열에 Null 값들이 존재하고 있으므로 `isnull().values.any()`를 수행하였을 때 `True`가 나온다.\n",
    "\n",
    "<br>"
   ]
  },
  {
   "cell_type": "code",
   "execution_count": 11,
   "metadata": {
    "colab": {
     "base_uri": "https://localhost:8080/",
     "height": 143
    },
    "colab_type": "code",
    "id": "ZI_YjbmoWhqd",
    "outputId": "df7b11df-f3a3-4bc1-bf56-8da42b6d598a"
   },
   "outputs": [
    {
     "name": "stdout",
     "output_type": "stream",
     "text": [
      "어떤 열에 Null값이 있는지 출력\n",
      "==============================\n"
     ]
    },
    {
     "data": {
      "text/plain": [
       "Sentence #    1000616\n",
       "Word                0\n",
       "POS                 0\n",
       "Tag                 0\n",
       "dtype: int64"
      ]
     },
     "execution_count": 11,
     "metadata": {
      "tags": []
     },
     "output_type": "execute_result"
    }
   ],
   "source": [
    "print('어떤 열에 Null값이 있는지 출력')\n",
    "print('==============================')\n",
    "data.isnull().sum()"
   ]
  },
  {
   "cell_type": "markdown",
   "metadata": {
    "colab_type": "text",
    "id": "k-IeZEQwWl9F"
   },
   "source": [
    "- `isnull().sum()`을 수행하면 각 열마다의 Null 값의 개수를 보여준다.\n",
    "- 다른 열은 0개인데 오직 `Sentence #` 열에서만 1,000,616개가 나온 것을 볼 수 있다."
   ]
  },
  {
   "cell_type": "markdown",
   "metadata": {
    "colab_type": "text",
    "id": "ek9k39f3WykE"
   },
   "source": [
    "<br>\n",
    "\n",
    "### 5.3.6 중복 데이터 확인\n",
    "\n",
    "- 전체 데이터에서 중복을 허용하지 않고, 유일한 값의 개수를 셀 수 있는 `nunique()`를 사용해보자."
   ]
  },
  {
   "cell_type": "code",
   "execution_count": 12,
   "metadata": {
    "colab": {
     "base_uri": "https://localhost:8080/",
     "height": 71
    },
    "colab_type": "code",
    "id": "Wx2KssEGW_R8",
    "outputId": "a86a96c2-4e69-4806-f247-cf01803b02ee"
   },
   "outputs": [
    {
     "name": "stdout",
     "output_type": "stream",
     "text": [
      "sentence # 열의 중복을 제거한 값의 개수 : 47959\n",
      "Word 열의 중복을 제거한 값의 개수 : 35178\n",
      "Tag 열의 중복을 제거한 값의 개수 : 17\n"
     ]
    }
   ],
   "source": [
    "print('sentence # 열의 중복을 제거한 값의 개수 : {}'.format(data['Sentence #'].nunique()))\n",
    "print('Word 열의 중복을 제거한 값의 개수 : {}'.format(data['Word'].nunique()))\n",
    "print('Tag 열의 중복을 제거한 값의 개수 : {}'.format(data['Tag'].nunique()))"
   ]
  },
  {
   "cell_type": "markdown",
   "metadata": {
    "colab_type": "text",
    "id": "WsPuFaxoXOQ8"
   },
   "source": [
    "- 이 데이터에는 47,959개의 문장이 있으며 문장들은 35,178개의 단어를 가지고 17개 종류의 개체명 태깅을 가진다."
   ]
  },
  {
   "cell_type": "markdown",
   "metadata": {
    "colab_type": "text",
    "id": "M2BfFJuKcQOx"
   },
   "source": [
    "<br>\n",
    "\n",
    "### 5.3.7 개체명 태깅 개수 분포 확인\n",
    "\n",
    "- 17개의 개체명 태깅이 전체 데이터에서 몇 개가 있는 지, 개체명 태깅 개수의 분포를 확인해보도록 한다."
   ]
  },
  {
   "cell_type": "code",
   "execution_count": 13,
   "metadata": {
    "colab": {
     "base_uri": "https://localhost:8080/",
     "height": 377
    },
    "colab_type": "code",
    "id": "JKzZvEKucYAx",
    "outputId": "1ed4fde1-606c-4550-896b-4e0f18532cd6"
   },
   "outputs": [
    {
     "name": "stdout",
     "output_type": "stream",
     "text": [
      "Tag 열의 각각의 값의 개수 카운트\n",
      "================================\n",
      "      Tag   count\n",
      "0   B-art     402\n",
      "1   B-eve     308\n",
      "2   B-geo   37644\n",
      "3   B-gpe   15870\n",
      "4   B-nat     201\n",
      "5   B-org   20143\n",
      "6   B-per   16990\n",
      "7   B-tim   20333\n",
      "8   I-art     297\n",
      "9   I-eve     253\n",
      "10  I-geo    7414\n",
      "11  I-gpe     198\n",
      "12  I-nat      51\n",
      "13  I-org   16784\n",
      "14  I-per   17251\n",
      "15  I-tim    6528\n",
      "16      O  887908\n"
     ]
    }
   ],
   "source": [
    "print('Tag 열의 각각의 값의 개수 카운트')\n",
    "print('================================')\n",
    "print(data.groupby('Tag').size().reset_index(name='count'))"
   ]
  },
  {
   "cell_type": "markdown",
   "metadata": {
    "colab_type": "text",
    "id": "1h7ZwR-8ci1S"
   },
   "source": [
    "- BIO 표현 방법에서 아무런 태깅도 의미하지 않는 `O`가 887,908개로 가장 많은 개수를 차지함을 볼 수 있다."
   ]
  },
  {
   "cell_type": "markdown",
   "metadata": {
    "colab_type": "text",
    "id": "lx3105DWcssA"
   },
   "source": [
    "<br>\n",
    "\n",
    "### 5.3.8 결측값 제거\n",
    "\n",
    "- Pandas의 `method='ffill'`는 Null 값을 가진 행의 바로 앞 행의 값으로 Null 값을 채우는 작업을 수행한다.\n",
    "- 이렇게 하면 `t`번 째 문장에 속하면서 Null 값을 가진 샘플들은 전부 첫 번째 열에 `Sentence: t`의 값이 들어간다."
   ]
  },
  {
   "cell_type": "code",
   "execution_count": null,
   "metadata": {
    "colab": {},
    "colab_type": "code",
    "id": "oxVGSMaccwpD"
   },
   "outputs": [],
   "source": [
    "data = data.fillna(method='ffill')"
   ]
  },
  {
   "cell_type": "markdown",
   "metadata": {
    "colab_type": "text",
    "id": "Mg-vGH37c0xx"
   },
   "source": [
    "<br>\n",
    "\n",
    "- 이번에는 뒤의 5개의 샘플들을 출력해서 정상적으로 수행되었는 지 확인해보자."
   ]
  },
  {
   "cell_type": "code",
   "execution_count": 15,
   "metadata": {
    "colab": {
     "base_uri": "https://localhost:8080/",
     "height": 125
    },
    "colab_type": "code",
    "id": "MwwpYqj6dL0_",
    "outputId": "fabafa94-0934-4fdb-9ad2-406750bbfce4"
   },
   "outputs": [
    {
     "name": "stdout",
     "output_type": "stream",
     "text": [
      "              Sentence #       Word  POS Tag\n",
      "1048570  Sentence: 47959       they  PRP   O\n",
      "1048571  Sentence: 47959  responded  VBD   O\n",
      "1048572  Sentence: 47959         to   TO   O\n",
      "1048573  Sentence: 47959        the   DT   O\n",
      "1048574  Sentence: 47959     attack   NN   O\n"
     ]
    }
   ],
   "source": [
    "print(data.tail())"
   ]
  },
  {
   "cell_type": "markdown",
   "metadata": {
    "colab_type": "text",
    "id": "HBhCwNPhdPUw"
   },
   "source": [
    "- 뒤의 5개 샘플의 첫번째 열이 `Sentence: 47959`로 채워졌다.\n",
    "- 이는 47,959번째 문장임을 의미하며, Null 값을 가진 행들의 바로 앞 행의 `Sentence #` 열의 값이 `Sentence: 47959`이었음을 의미한다."
   ]
  },
  {
   "cell_type": "markdown",
   "metadata": {
    "colab_type": "text",
    "id": "4EAhtkN1dXKP"
   },
   "source": [
    "<br>\n",
    "\n",
    "- 전체 데이터에 Null 값이 존재하는지 확인해보자."
   ]
  },
  {
   "cell_type": "code",
   "execution_count": 16,
   "metadata": {
    "colab": {
     "base_uri": "https://localhost:8080/",
     "height": 35
    },
    "colab_type": "code",
    "id": "oT2vzXRKdZ0X",
    "outputId": "29f01b14-6b4b-40bc-a114-28fd425e302d"
   },
   "outputs": [
    {
     "name": "stdout",
     "output_type": "stream",
     "text": [
      "데이터에 Null 값이 있는 지 유무 : False\n"
     ]
    }
   ],
   "source": [
    "print('데이터에 Null 값이 있는 지 유무 : ' + str(data.isnull().values.any()))"
   ]
  },
  {
   "cell_type": "markdown",
   "metadata": {
    "colab_type": "text",
    "id": "c1RGljs3dfA5"
   },
   "source": [
    "<br>\n",
    "\n",
    "### 5.3.9 단어 소문자화\n",
    "\n",
    "- 모든 단어를 소문자화하여 단어의 개수르 줄여보자."
   ]
  },
  {
   "cell_type": "code",
   "execution_count": 17,
   "metadata": {
    "colab": {
     "base_uri": "https://localhost:8080/",
     "height": 35
    },
    "colab_type": "code",
    "id": "Vw1OuXl3dkk3",
    "outputId": "da66b0ec-f38c-46f4-bd87-9d07c30f6eed"
   },
   "outputs": [
    {
     "name": "stdout",
     "output_type": "stream",
     "text": [
      "Word 열의 중복을 제거한 값의 개수 : 31817\n"
     ]
    }
   ],
   "source": [
    "data['Word'] = data['Word'].str.lower()\n",
    "print('Word 열의 중복을 제거한 값의 개수 : {}'.format(data.Word.nunique()))"
   ]
  },
  {
   "cell_type": "markdown",
   "metadata": {
    "colab_type": "text",
    "id": "WnO5ynHYdva_"
   },
   "source": [
    "- 중복을 제거한 단어의 개수가 35,178개에서 31,817개로 감소하였다."
   ]
  },
  {
   "cell_type": "markdown",
   "metadata": {
    "colab_type": "text",
    "id": "tTArmayPd4vu"
   },
   "source": [
    "<br>\n",
    "\n",
    "- 정상적으로 소문자화가 되었는 지 앞의 샘플 5개만 출력해보자."
   ]
  },
  {
   "cell_type": "code",
   "execution_count": 18,
   "metadata": {
    "colab": {
     "base_uri": "https://localhost:8080/",
     "height": 125
    },
    "colab_type": "code",
    "id": "bYpKMCp9d9eO",
    "outputId": "715f5f5e-f267-4608-c465-a5b4ef9a6b10"
   },
   "outputs": [
    {
     "name": "stdout",
     "output_type": "stream",
     "text": [
      "    Sentence #           Word  POS Tag\n",
      "0  Sentence: 1      thousands  NNS   O\n",
      "1  Sentence: 1             of   IN   O\n",
      "2  Sentence: 1  demonstrators  NNS   O\n",
      "3  Sentence: 1           have  VBP   O\n",
      "4  Sentence: 1        marched  VBN   O\n"
     ]
    }
   ],
   "source": [
    "print(data[:5])"
   ]
  },
  {
   "cell_type": "markdown",
   "metadata": {
    "colab_type": "text",
    "id": "7Xrusddid-p3"
   },
   "source": [
    "<br>\n",
    "\n",
    "### 5.3.10 단어와 개체명 태깅 정보 묶어서 추출\n",
    "\n",
    "- 이제 하나의 문장에 등장한 단어와 개체명 태깅 정보끼리 쌍(pair)으로 묶는 작업을 수행한다."
   ]
  },
  {
   "cell_type": "code",
   "execution_count": 19,
   "metadata": {
    "colab": {
     "base_uri": "https://localhost:8080/",
     "height": 35
    },
    "colab_type": "code",
    "id": "jOWzz8gNeIwV",
    "outputId": "13f215ba-972a-4e5f-db46-afdccfa4cd93"
   },
   "outputs": [
    {
     "name": "stdout",
     "output_type": "stream",
     "text": [
      "전체 샘플 개수 : 47959\n"
     ]
    }
   ],
   "source": [
    "func = lambda temp: [(w, t) for w, t in zip(temp[\"Word\"].values.tolist(), temp[\"Tag\"].values.tolist())]\n",
    "\n",
    "tagged_sentences = [t for t in data.groupby(\"Sentence #\").apply(func)]\n",
    "\n",
    "print(\"전체 샘플 개수 : {}\".format(len(tagged_sentences)))"
   ]
  },
  {
   "cell_type": "markdown",
   "metadata": {
    "colab_type": "text",
    "id": "7h70-BG_egL5"
   },
   "source": [
    "- 1,000,616개의 행의 개수가 각 문장당 하나의 샘플로 묶이면서 47,959개의 샘플로 변환된 것을 확인할 수 있다."
   ]
  },
  {
   "cell_type": "markdown",
   "metadata": {
    "colab_type": "text",
    "id": "g5Y5wE4uet4M"
   },
   "source": [
    "<br>\n",
    "\n",
    "- 정상적으로 수행이 되었는 지 첫 번째 샘플에 대해서 출력을 해보자."
   ]
  },
  {
   "cell_type": "code",
   "execution_count": 20,
   "metadata": {
    "colab": {
     "base_uri": "https://localhost:8080/",
     "height": 55
    },
    "colab_type": "code",
    "id": "Vt23WBl2hAkc",
    "outputId": "7833e9a7-7b7c-4e6c-82ff-89306028a568"
   },
   "outputs": [
    {
     "name": "stdout",
     "output_type": "stream",
     "text": [
      "[('thousands', 'O'), ('of', 'O'), ('demonstrators', 'O'), ('have', 'O'), ('marched', 'O'), ('through', 'O'), ('london', 'B-geo'), ('to', 'O'), ('protest', 'O'), ('the', 'O'), ('war', 'O'), ('in', 'O'), ('iraq', 'B-geo'), ('and', 'O'), ('demand', 'O'), ('the', 'O'), ('withdrawal', 'O'), ('of', 'O'), ('british', 'B-gpe'), ('troops', 'O'), ('from', 'O'), ('that', 'O'), ('country', 'O'), ('.', 'O')]\n"
     ]
    }
   ],
   "source": [
    "print(tagged_sentences[0])"
   ]
  },
  {
   "cell_type": "markdown",
   "metadata": {
    "colab_type": "text",
    "id": "AA93GJLyhC8x"
   },
   "source": [
    "- 전처리가 수행된 첫번째 샘플이 출력된 것을 볼 수 있다.\n",
    "- 이러한 샘플이 총 47,959개가 있다."
   ]
  },
  {
   "cell_type": "markdown",
   "metadata": {
    "colab_type": "text",
    "id": "U-4VtBO7hwIf"
   },
   "source": [
    "<br>\n",
    "\n",
    "### 5.3.11 단어와 개체명 태깅 정보 분리\n",
    "\n",
    "- 훈련을 시키려면 훈련 데이터에서 단어에 해당되는 부분과 개체명 태깅 정보에 해당되는 부분을 분리시켜야 한다.\n",
    "- 즉, `[('thousands', 'O'), ('of', 'O')]`와 같은 문장 샘플이 있다면 `thousands`와 `of`는 같이 저장하고, `O`와 `O`를 같이 저장할 필요가 있다."
   ]
  },
  {
   "cell_type": "markdown",
   "metadata": {
    "colab_type": "text",
    "id": "iB4I7mdviFB2"
   },
   "source": [
    "- 이런 경우 파이썬 함수 중에서 `zip()`함수가 유용한 역할을 한다.\n",
    "- `zip()`함수는 동일한 개수를 가지는 시퀀스 자료형에서 각 순서에 등장하는 원소들끼리 묶어주는 역할을 한다.  \n",
    "(2챕터의 데이터의 분리 챕터 참고)"
   ]
  },
  {
   "cell_type": "code",
   "execution_count": null,
   "metadata": {
    "colab": {},
    "colab_type": "code",
    "id": "hTNMETOyiM6V"
   },
   "outputs": [],
   "source": [
    "sentences, ner_tags = [], []\n",
    "\n",
    "for tagged_sentence in tagged_sentences:\n",
    "    sentence, tag_info = zip(*tagged_sentence)\n",
    "    sentences.append(list(sentence))\n",
    "    ner_tags.append(list(tag_info))"
   ]
  },
  {
   "cell_type": "markdown",
   "metadata": {
    "colab_type": "text",
    "id": "7NvSc144idaY"
   },
   "source": [
    "<br>\n",
    "\n",
    "- 임의로 첫 번째 문장 샘플을 출력해보자."
   ]
  },
  {
   "cell_type": "code",
   "execution_count": 22,
   "metadata": {
    "colab": {
     "base_uri": "https://localhost:8080/",
     "height": 73
    },
    "colab_type": "code",
    "id": "WoaNh7N4ihvN",
    "outputId": "4ea16790-5767-4527-d777-660c206e41b0"
   },
   "outputs": [
    {
     "name": "stdout",
     "output_type": "stream",
     "text": [
      "['thousands', 'of', 'demonstrators', 'have', 'marched', 'through', 'london', 'to', 'protest', 'the', 'war', 'in', 'iraq', 'and', 'demand', 'the', 'withdrawal', 'of', 'british', 'troops', 'from', 'that', 'country', '.']\n",
      "['O', 'O', 'O', 'O', 'O', 'O', 'B-geo', 'O', 'O', 'O', 'O', 'O', 'B-geo', 'O', 'O', 'O', 'O', 'O', 'B-gpe', 'O', 'O', 'O', 'O', 'O']\n"
     ]
    }
   ],
   "source": [
    "print(sentences[0])\n",
    "print(ner_tags[0])"
   ]
  },
  {
   "cell_type": "markdown",
   "metadata": {
    "colab_type": "text",
    "id": "4jeTxU6xikYN"
   },
   "source": [
    "- `sentences`는 예측을 위한 `X`에 해당된다.\n",
    "- `ner_tags`는 예측 대상인 `y`에 해당된다."
   ]
  },
  {
   "cell_type": "markdown",
   "metadata": {
    "colab_type": "text",
    "id": "pXHx5m2CirxU"
   },
   "source": [
    "<br>\n",
    "\n",
    "- 다른 샘플들에 대해서도 처리가 되었는 지 확인하기 위해 임의로 99번 째 샘플에 대해서도 확인해보자."
   ]
  },
  {
   "cell_type": "code",
   "execution_count": 23,
   "metadata": {
    "colab": {
     "base_uri": "https://localhost:8080/",
     "height": 53
    },
    "colab_type": "code",
    "id": "wrSaiT_gixV0",
    "outputId": "c0a9da67-df29-4303-abdd-780259435750"
   },
   "outputs": [
    {
     "name": "stdout",
     "output_type": "stream",
     "text": [
      "['she', 'had', 'once', 'received', 'a', 'kidney', 'transplant', '.']\n",
      "['O', 'O', 'O', 'O', 'O', 'O', 'O', 'O']\n"
     ]
    }
   ],
   "source": [
    "print(sentences[98])\n",
    "print(ner_tags[98])"
   ]
  },
  {
   "cell_type": "markdown",
   "metadata": {
    "colab_type": "text",
    "id": "NI0-kpYuiyd0"
   },
   "source": [
    "<br>\n",
    "\n",
    "### 5.3.12 데이터의 길이 분포 확인\n",
    "\n",
    "- 첫 번째 샘플과 99번 째 샘플의 길이가 다른 것을 볼 수 있다.\n",
    "- 사실 47,959개의 문장 샘플의 길이는 전부 제각각이다.\n",
    "- 전체 데이터의 길이 분포를 확인해보자."
   ]
  },
  {
   "cell_type": "code",
   "execution_count": 24,
   "metadata": {
    "colab": {
     "base_uri": "https://localhost:8080/",
     "height": 53
    },
    "colab_type": "code",
    "id": "ny80DQjGjARj",
    "outputId": "dc294ffd-1706-4fd5-b687-adf6e1f04749"
   },
   "outputs": [
    {
     "name": "stdout",
     "output_type": "stream",
     "text": [
      "샘플의 최대 길이 : 104\n",
      "샘플의 평균 길이 : 21.863988\n"
     ]
    }
   ],
   "source": [
    "print('샘플의 최대 길이 : %d' % max(len(l) for l in sentences))\n",
    "print('샘플의 평균 길이 : %f' % (sum(map(len, sentences))/len(sentences)))"
   ]
  },
  {
   "cell_type": "code",
   "execution_count": 25,
   "metadata": {
    "colab": {
     "base_uri": "https://localhost:8080/",
     "height": 279
    },
    "colab_type": "code",
    "id": "QUYBu7gGjB0U",
    "outputId": "aab77a43-ffc6-4e33-ab6d-af10e523d9fc"
   },
   "outputs": [
    {
     "data": {
      "image/png": "[encoded data removed]",
      "text/plain": [
       "<Figure size 432x288 with 1 Axes>"
      ]
     },
     "metadata": {
      "needs_background": "light",
      "tags": []
     },
     "output_type": "display_data"
    }
   ],
   "source": [
    "plt.hist([len(s) for s in sentences], bins=50)\n",
    "plt.xlabel('length of samples')\n",
    "plt.ylabel('number of samples')\n",
    "plt.show()"
   ]
  },
  {
   "cell_type": "markdown",
   "metadata": {
    "colab_type": "text",
    "id": "kNimY26_jDNT"
   },
   "source": [
    "- 위의 그래프는 샘플들의 길이가 대체적으로 0~40의 길이를 가지는 것을 보여준다.\n",
    "- 길이가 가장 긴 샘플의 길이는 104이다."
   ]
  },
  {
   "cell_type": "markdown",
   "metadata": {
    "colab_type": "text",
    "id": "wiRgXiMXjHnz"
   },
   "source": [
    "<br>\n",
    "\n",
    "### 5.3.13 토크나이저 생성\n",
    "\n",
    "- 이제 케라스 토크나이저를 통해서 정수 인코딩을 진행한다.\n",
    "- 이번에는 문장 데이터에 있는 모든 단어를 사용한다."
   ]
  },
  {
   "cell_type": "code",
   "execution_count": null,
   "metadata": {
    "colab": {},
    "colab_type": "code",
    "id": "nKTLbTiojQ-r"
   },
   "outputs": [],
   "source": [
    "# 모든 단어를 사용하지만 인덱스 1에는 단어 'OOV'를 할당한다.\n",
    "src_tokenizer = Tokenizer(oov_token='OOV')\n",
    "src_tokenizer.fit_on_texts(sentences)\n",
    "\n",
    "# 태깅 정보들은 내부적으로 대문자를 유지한 채로 저장\n",
    "tar_tokenizer = Tokenizer(lower=False)\n",
    "tar_tokenizer.fit_on_texts(ner_tags)"
   ]
  },
  {
   "cell_type": "markdown",
   "metadata": {
    "colab_type": "text",
    "id": "s-Vsw1VxjjtR"
   },
   "source": [
    "- 문장 데이터에 대해서는 `src_tokenizer`를, 레이블에 해당되는 개체명 태깅 정보에 대해서는 `tar_tokenizer`를 사용한다."
   ]
  },
  {
   "cell_type": "markdown",
   "metadata": {
    "colab_type": "text",
    "id": "1koaMtYFjpoK"
   },
   "source": [
    "<br>\n",
    "\n",
    "### 5.3.14 단어 집합 및 개체명 태깅 정보 집합 크기 확인"
   ]
  },
  {
   "cell_type": "code",
   "execution_count": 27,
   "metadata": {
    "colab": {
     "base_uri": "https://localhost:8080/",
     "height": 53
    },
    "colab_type": "code",
    "id": "tleSuyLojvGl",
    "outputId": "8d3e0749-9e2f-4853-9875-c85a2897e25b"
   },
   "outputs": [
    {
     "name": "stdout",
     "output_type": "stream",
     "text": [
      "단어 집합의 크기 : 31819\n",
      "개체명 태깅 정보 집합의 크기 : 18\n"
     ]
    }
   ],
   "source": [
    "vocab_size = len(src_tokenizer.word_index) + 1\n",
    "tag_size = len(tar_tokenizer.word_index) + 1\n",
    "print('단어 집합의 크기 : {}'.format(vocab_size))\n",
    "print('개체명 태깅 정보 집합의 크기 : {}'.format(tag_size))"
   ]
  },
  {
   "cell_type": "markdown",
   "metadata": {
    "colab_type": "text",
    "id": "UCNTrHdejwtz"
   },
   "source": [
    "<br>\n",
    "\n",
    "### 5.3.15 `OOV`의 인덱스 확인\n",
    "\n",
    "- 앞서 `src_tokenizer`를 만들 때 `Tokenizer`의 인자로 `oov_token='OOV'`를 선택했다.\n",
    "- 이렇게 하면 인덱스 1에 단어 `'OOV'`가 할단된다."
   ]
  },
  {
   "cell_type": "code",
   "execution_count": 28,
   "metadata": {
    "colab": {
     "base_uri": "https://localhost:8080/",
     "height": 35
    },
    "colab_type": "code",
    "id": "7lr2LjV8kBeS",
    "outputId": "cc81edf5-41a9-4867-f1f8-3538b1673b24"
   },
   "outputs": [
    {
     "name": "stdout",
     "output_type": "stream",
     "text": [
      "단어 OOV의 인덱스 : 1\n"
     ]
    }
   ],
   "source": [
    "print('단어 OOV의 인덱스 : {}'.format(src_tokenizer.word_index['OOV']))"
   ]
  },
  {
   "cell_type": "markdown",
   "metadata": {
    "colab_type": "text",
    "id": "Fu795oP_kFdi"
   },
   "source": [
    "<br>\n",
    "\n",
    "### 5.3.16 정수 인코딩 수행"
   ]
  },
  {
   "cell_type": "code",
   "execution_count": null,
   "metadata": {
    "colab": {},
    "colab_type": "code",
    "id": "YIbBIrrikNk9"
   },
   "outputs": [],
   "source": [
    "X_train = src_tokenizer.texts_to_sequences(sentences)\n",
    "y_train = tar_tokenizer.texts_to_sequences(ner_tags)"
   ]
  },
  {
   "cell_type": "markdown",
   "metadata": {
    "colab_type": "text",
    "id": "CV-YpPYTkU4x"
   },
   "source": [
    "- 이제 문장 데이터에 대해서 정수 인코딩이 수행된 결과는 `X_train`, 개체명 태깅 데이터에 대해서 정수 인코딩이 수행된 결과는 `y_train`에 저장되었다."
   ]
  },
  {
   "cell_type": "markdown",
   "metadata": {
    "colab_type": "text",
    "id": "fviPzoFnkYy5"
   },
   "source": [
    "<br>\n",
    "\n",
    "- 정수 인코딩이 되었는 지 확인하기 위해 임의로 첫 번째 샘플을 출력해보자."
   ]
  },
  {
   "cell_type": "code",
   "execution_count": 30,
   "metadata": {
    "colab": {
     "base_uri": "https://localhost:8080/",
     "height": 53
    },
    "colab_type": "code",
    "id": "WA6JfHWSkc9x",
    "outputId": "b5fc13e8-e804-40eb-c5ff-73ae157948b7"
   },
   "outputs": [
    {
     "name": "stdout",
     "output_type": "stream",
     "text": [
      "[254, 6, 967, 16, 1795, 238, 468, 7, 523, 2, 129, 5, 61, 9, 571, 2, 833, 6, 186, 90, 22, 15, 56, 3]\n",
      "[1, 1, 1, 1, 1, 1, 2, 1, 1, 1, 1, 1, 2, 1, 1, 1, 1, 1, 8, 1, 1, 1, 1, 1]\n"
     ]
    }
   ],
   "source": [
    "print(X_train[0])\n",
    "print(y_train[0])"
   ]
  },
  {
   "cell_type": "markdown",
   "metadata": {
    "colab_type": "text",
    "id": "IpM6Vm28kelR"
   },
   "source": [
    "<br>\n",
    "\n",
    "### 5.3.17 `index_to_word`, `index_to_ner` 생성\n",
    "\n",
    "- 모델 훈련 후 결과 확인을 위해 인덱스로부터 단어를 리턴하는 `index_to_word`를 만든다.\n",
    "- 그와 동시에 뒤에서 사용할 `index_to_ner`도 만든다.\n",
    "- 이 때, 인덱스 `0`은 `'PAD'`란 단어를 할당해둔다."
   ]
  },
  {
   "cell_type": "code",
   "execution_count": null,
   "metadata": {
    "colab": {},
    "colab_type": "code",
    "id": "ovI_LPLfkziY"
   },
   "outputs": [],
   "source": [
    "index_to_word = src_tokenizer.index_word\n",
    "index_to_ner = tar_tokenizer.index_word"
   ]
  },
  {
   "cell_type": "code",
   "execution_count": null,
   "metadata": {
    "colab": {},
    "colab_type": "code",
    "id": "_nU0UwVxk95Q"
   },
   "outputs": [],
   "source": [
    "index_to_ner[0] = 'PAD'"
   ]
  },
  {
   "cell_type": "code",
   "execution_count": 33,
   "metadata": {
    "colab": {
     "base_uri": "https://localhost:8080/",
     "height": 55
    },
    "colab_type": "code",
    "id": "wAWyeu-Ok_I4",
    "outputId": "f033c64a-0cd5-4ab8-fd41-18e664fdce4d"
   },
   "outputs": [
    {
     "name": "stdout",
     "output_type": "stream",
     "text": [
      "{1: 'O', 2: 'B-geo', 3: 'B-tim', 4: 'B-org', 5: 'I-per', 6: 'B-per', 7: 'I-org', 8: 'B-gpe', 9: 'I-geo', 10: 'I-tim', 11: 'B-art', 12: 'B-eve', 13: 'I-art', 14: 'I-eve', 15: 'B-nat', 16: 'I-gpe', 17: 'I-nat', 0: 'PAD'}\n"
     ]
    }
   ],
   "source": [
    "print(index_to_ner)"
   ]
  },
  {
   "cell_type": "markdown",
   "metadata": {
    "colab_type": "text",
    "id": "BN1HAwtBlGuI"
   },
   "source": [
    "<br>\n",
    "\n",
    "### 5.3.18 디코딩 작업 테스트\n",
    "\n",
    "- `index_to_word`를 만들었으니 시험삼아 첫 번째 샘플에 대해서 다시 디코딩(정수에서 다시 텍스트 데이터로 변환) 작업을 해보자."
   ]
  },
  {
   "cell_type": "code",
   "execution_count": 34,
   "metadata": {
    "colab": {
     "base_uri": "https://localhost:8080/",
     "height": 73
    },
    "colab_type": "code",
    "id": "21k8MA6olRxP",
    "outputId": "31de9302-7e46-4a48-f9ee-3be0d8713059"
   },
   "outputs": [
    {
     "name": "stdout",
     "output_type": "stream",
     "text": [
      "기존의 문장 : ['thousands', 'of', 'demonstrators', 'have', 'marched', 'through', 'london', 'to', 'protest', 'the', 'war', 'in', 'iraq', 'and', 'demand', 'the', 'withdrawal', 'of', 'british', 'troops', 'from', 'that', 'country', '.']\n",
      "디코딩 문장 : ['thousands', 'of', 'demonstrators', 'have', 'marched', 'through', 'london', 'to', 'protest', 'the', 'war', 'in', 'iraq', 'and', 'demand', 'the', 'withdrawal', 'of', 'british', 'troops', 'from', 'that', 'country', '.']\n"
     ]
    }
   ],
   "source": [
    "decoded = []\n",
    "\n",
    "for index in X_train[0]:\n",
    "    decoded.append(index_to_word[index])\n",
    "\n",
    "print('기존의 문장 : {}'.format(sentences[0]))\n",
    "print('디코딩 문장 : {}'.format(decoded))"
   ]
  },
  {
   "cell_type": "markdown",
   "metadata": {
    "colab_type": "text",
    "id": "7euqYNIvlflS"
   },
   "source": [
    "<br>\n",
    "\n",
    "### 5.3.19 패딩\n",
    "\n",
    "- 이제 `X` 데이터와 `y` 데이터가 구성되었다.\n",
    "- 이제 패딩 작업을 진행해보자.\n",
    "- 앞서 확인했듯이 대부분의 데이터의 길이는 40~60에 분포되어져 있다.\n",
    "- 그러므로 가장 긴 샘플의 길이인 104가 아니라 70 정도로 `max_len`을 정해보자."
   ]
  },
  {
   "cell_type": "code",
   "execution_count": null,
   "metadata": {
    "colab": {},
    "colab_type": "code",
    "id": "4d6hxidQvHAi"
   },
   "outputs": [],
   "source": [
    "max_len = 70\n",
    "\n",
    "X_train = pad_sequences(X_train, padding='post', maxlen=max_len)\n",
    "y_train = pad_sequences(y_train, padding='post', maxlen=max_len)"
   ]
  },
  {
   "cell_type": "markdown",
   "metadata": {
    "colab_type": "text",
    "id": "fDi00pm9vTPT"
   },
   "source": [
    "<br>\n",
    "\n",
    "### 5.3.20 훈련 데이터와 테스트 데이터 분리\n",
    "\n",
    "- 이제 훈련 데이터와 테스트 데이터를 8:2의 비율로 분리한다."
   ]
  },
  {
   "cell_type": "code",
   "execution_count": null,
   "metadata": {
    "colab": {},
    "colab_type": "code",
    "id": "1kCw7__avbwL"
   },
   "outputs": [],
   "source": [
    "X_train, X_test, y_train, y_test = train_test_split(X_train, y_train,\n",
    "                                                    test_size=.2, random_state=777)"
   ]
  },
  {
   "cell_type": "markdown",
   "metadata": {
    "colab_type": "text",
    "id": "QLOg_CLXwoz9"
   },
   "source": [
    "<br>\n",
    "\n",
    "### 5.3.21 레이블 데이터 원-핫 인코딩\n",
    "\n",
    "- 레이블에 해당하는 태깅 정보에 대해서 원-핫 인코딩을 수행한다."
   ]
  },
  {
   "cell_type": "code",
   "execution_count": null,
   "metadata": {
    "colab": {},
    "colab_type": "code",
    "id": "2tmysfUcwue_"
   },
   "outputs": [],
   "source": [
    "y_train = to_categorical(y_train, num_classes=tag_size)\n",
    "y_test = to_categorical(y_test, num_classes=tag_size)"
   ]
  },
  {
   "cell_type": "markdown",
   "metadata": {
    "colab_type": "text",
    "id": "16R8-a2Qw7RA"
   },
   "source": [
    "<br>\n",
    "\n",
    "### 5.3.22 각 데이터의 크기 확인"
   ]
  },
  {
   "cell_type": "code",
   "execution_count": 38,
   "metadata": {
    "colab": {
     "base_uri": "https://localhost:8080/",
     "height": 89
    },
    "colab_type": "code",
    "id": "oZqXz6vZw90q",
    "outputId": "8902a283-ca9c-4e9a-fbb9-085f975cab9f"
   },
   "outputs": [
    {
     "name": "stdout",
     "output_type": "stream",
     "text": [
      "훈련 샘플 문장의 크기 : (38367, 70)\n",
      "훈련 샘플 레이블의 크기 : (38367, 70, 18)\n",
      "테스트 샘플 문장의 크기 : (9592, 70)\n",
      "테스트 샘플 레이블의 크기 : (9592, 70, 18)\n"
     ]
    }
   ],
   "source": [
    "print('훈련 샘플 문장의 크기 : {}'.format(X_train.shape))\n",
    "print('훈련 샘플 레이블의 크기 : {}'.format(y_train.shape))\n",
    "print('테스트 샘플 문장의 크기 : {}'.format(X_test.shape))\n",
    "print('테스트 샘플 레이블의 크기 : {}'.format(y_test.shape))"
   ]
  },
  {
   "cell_type": "markdown",
   "metadata": {
    "colab_type": "text",
    "id": "10YX89a3w_dv"
   },
   "source": [
    "<br>\n",
    "\n",
    "## 5.4 양방향 LSTM + CRF를 이용한 개체명 인식"
   ]
  },
  {
   "cell_type": "markdown",
   "metadata": {
    "colab_type": "text",
    "id": "ig9KqyaNxFvh"
   },
   "source": [
    "### 5.4.1 필요한 패키지 불러오기"
   ]
  },
  {
   "cell_type": "code",
   "execution_count": 39,
   "metadata": {
    "colab": {
     "base_uri": "https://localhost:8080/",
     "height": 35
    },
    "colab_type": "code",
    "id": "EcavWAgGxIkJ",
    "outputId": "764b2763-47a0-4042-8277-818112c67668"
   },
   "outputs": [
    {
     "name": "stderr",
     "output_type": "stream",
     "text": [
      "Using TensorFlow backend.\n"
     ]
    }
   ],
   "source": [
    "from keras.models import Sequential\n",
    "from keras.layers import LSTM, Embedding, Dense, TimeDistributed, Dropout, Bidirectional\n",
    "from keras.callbacks import ModelCheckpoint\n",
    "from keras_contrib.layers import CRF\n",
    "import warnings\n",
    "warnings.filterwarnings('ignore')"
   ]
  },
  {
   "cell_type": "markdown",
   "metadata": {
    "colab_type": "text",
    "id": "pFCH2bNWxVF_"
   },
   "source": [
    "<br>\n",
    "\n",
    "### 5.4.2 모델 구축\n",
    "\n",
    "- 모델에 양방향 LSTM을 사용하고, 모델의 출력층에 CRF 층을 배치한다."
   ]
  },
  {
   "cell_type": "code",
   "execution_count": null,
   "metadata": {
    "colab": {},
    "colab_type": "code",
    "id": "5Pc1KPQUCotE"
   },
   "outputs": [],
   "source": [
    "model = Sequential()\n",
    "model.add(Embedding(input_dim=vocab_size, output_dim=20, input_length=max_len, mask_zero=True))\n",
    "model.add(Bidirectional(LSTM(units=50, return_sequences=True, recurrent_dropout=0.1)))\n",
    "model.add(TimeDistributed(Dense(50, activation=\"relu\")))\n",
    "crf = CRF(tag_size)\n",
    "model.add(crf)"
   ]
  },
  {
   "cell_type": "code",
   "execution_count": null,
   "metadata": {
    "colab": {},
    "colab_type": "code",
    "id": "cL3bAM7N5vP1"
   },
   "outputs": [],
   "source": [
    "# 콜백 구성\n",
    "mc = ModelCheckpoint('Bi-LSTM-CRF_model.h5', monitor='val_acc', mode='max', verbose=1, save_best_only=True)"
   ]
  },
  {
   "cell_type": "markdown",
   "metadata": {
    "colab_type": "text",
    "id": "HIjRuxLGC_mV"
   },
   "source": [
    "<br>\n",
    "\n",
    "### 5.4.3 모델 훈련"
   ]
  },
  {
   "cell_type": "code",
   "execution_count": null,
   "metadata": {
    "colab": {},
    "colab_type": "code",
    "id": "nfjfd5d3IN6R"
   },
   "outputs": [],
   "source": [
    "model.compile(optimizer='rmsprop', loss=crf.loss_function, metrics=[crf.accuracy])\n",
    "history = model.fit(X_train, y_train, batch_size=32, epochs=5, \n",
    "                    callbacks=[mc],\n",
    "                    validation_split=0.1, verbose=1)"
   ]
  },
  {
   "cell_type": "markdown",
   "metadata": {
    "colab_type": "text",
    "id": "ymZzA_H8FRpJ"
   },
   "source": [
    "```\n",
    "Train on 34530 samples, validate on 3837 samples\n",
    "Epoch 1/5\n",
    "34530/34530 [==============================] - 429s 12ms/step - loss: 8.3713 - crf_viterbi_accuracy: 0.8905 - val_loss: 8.1732 - val_crf_viterbi_accuracy: 0.9309\n",
    "Epoch 2/5\n",
    "34530/34530 [==============================] - 419s 12ms/step - loss: 8.1335 - crf_viterbi_accuracy: 0.9459 - val_loss: 8.1106 - val_crf_viterbi_accuracy: 0.9459\n",
    "Epoch 3/5\n",
    "34530/34530 [==============================] - 417s 12ms/step - loss: 8.0980 - crf_viterbi_accuracy: 0.9556 - val_loss: 8.0960 - val_crf_viterbi_accuracy: 0.9499\n",
    "Epoch 4/5\n",
    "34530/34530 [==============================] - 417s 12ms/step - loss: 8.0829 - crf_viterbi_accuracy: 0.9603 - val_loss: 8.0815 - val_crf_viterbi_accuracy: 0.9560\n",
    "Epoch 5/5\n",
    "34530/34530 [==============================] - 414s 12ms/step - loss: 8.0745 - crf_viterbi_accuracy: 0.9632 - val_loss: 8.0765 - val_crf_viterbi_accuracy: 0.9564\n",
    "```"
   ]
  },
  {
   "cell_type": "markdown",
   "metadata": {
    "colab_type": "text",
    "id": "QaCDuMH5Iati"
   },
   "source": [
    "<br>\n",
    "\n",
    "### 5.4.4 정확도 측정\n",
    "\n",
    "- 이제 테스트 데이터에 대한 정확도를 측정한다."
   ]
  },
  {
   "cell_type": "code",
   "execution_count": 47,
   "metadata": {
    "colab": {
     "base_uri": "https://localhost:8080/",
     "height": 71
    },
    "colab_type": "code",
    "id": "6mZQcQuCIvZt",
    "outputId": "9fa382dd-667b-407e-946b-6fd25146c203"
   },
   "outputs": [
    {
     "name": "stdout",
     "output_type": "stream",
     "text": [
      "9592/9592 [==============================] - 51s 5ms/step\n",
      "\n",
      " 테스트 정확도 : 0.9577\n"
     ]
    }
   ],
   "source": [
    "print(\"\\n 테스트 정확도 : %.4f\" % (model.evaluate(X_test, y_test)[1]))"
   ]
  },
  {
   "cell_type": "markdown",
   "metadata": {
    "colab_type": "text",
    "id": "XqopyYNXI5u2"
   },
   "source": [
    "<br>\n",
    "\n",
    "### 5.4.5 실제값과 예측값 비교"
   ]
  },
  {
   "cell_type": "code",
   "execution_count": 44,
   "metadata": {
    "colab": {
     "base_uri": "https://localhost:8080/",
     "height": 395
    },
    "colab_type": "code",
    "id": "CCmZPEk5I-Ay",
    "outputId": "0f36da02-a861-4ad6-c9c7-e57e4418fddd"
   },
   "outputs": [
    {
     "name": "stdout",
     "output_type": "stream",
     "text": [
      "단어             |실제값  |예측값\n",
      "-----------------------------------\n",
      "the              : O       O\n",
      "statement        : O       O\n",
      "came             : O       O\n",
      "as               : O       O\n",
      "u.n.             : B-org   B-org\n",
      "secretary-general: I-org   I-org\n",
      "kofi             : B-per   B-per\n",
      "annan            : I-per   I-per\n",
      "met              : O       O\n",
      "with             : O       O\n",
      "officials        : O       O\n",
      "in               : O       O\n",
      "amman            : B-geo   B-geo\n",
      "to               : O       O\n",
      "discuss          : O       O\n",
      "wednesday        : B-tim   B-tim\n",
      "'s               : O       O\n",
      "attacks          : O       O\n",
      ".                : O       O\n"
     ]
    }
   ],
   "source": [
    "i = 13 # 확인하고 싶은 테스트용 샘플의 인덱스\n",
    "\n",
    "# 입력한 테스트용 샘플에 대해서 예측 y를 리턴\n",
    "y_predicted = model.predict(np.array([X_test[i]]))\n",
    "\n",
    "# 원-핫 인코딩을 다시 정수 인코딩으로 변경\n",
    "y_predicted = np.argmax(y_predicted, axis=-1)\n",
    "true = np.argmax(y_test[i], -1)\n",
    "\n",
    "print(\"{:15}|{:5}|{}\".format(\"단어\", \"실제값\", \"예측값\"))\n",
    "print(35 * \"-\")\n",
    "\n",
    "for w, t, pred in zip(X_test[i], true, y_predicted[0]):\n",
    "    if w != 0:\n",
    "        print(\"{:17}: {:7} {}\".format(index_to_word[w], index_to_ner[t], index_to_ner[pred]))"
   ]
  },
  {
   "cell_type": "markdown",
   "metadata": {
    "colab_type": "text",
    "id": "4iOjDTfSJtHe"
   },
   "source": [
    "<br>\n",
    "\n",
    "### 5.4.6 손실 그래프 시각화"
   ]
  },
  {
   "cell_type": "code",
   "execution_count": 45,
   "metadata": {
    "colab": {
     "base_uri": "https://localhost:8080/",
     "height": 295
    },
    "colab_type": "code",
    "id": "jBsC7pcnJw0H",
    "outputId": "77b575a4-248e-444e-c51b-4c693077dacb"
   },
   "outputs": [
    {
     "data": {
      "image/png": "[encoded data removed]",
      "text/plain": [
       "<Figure size 432x288 with 1 Axes>"
      ]
     },
     "metadata": {
      "needs_background": "light",
      "tags": []
     },
     "output_type": "display_data"
    }
   ],
   "source": [
    "epochs = range(1, len(history.history['val_loss']) + 1)\n",
    "plt.plot(epochs, history.history['loss'])\n",
    "plt.plot(epochs, history.history['val_loss'])\n",
    "plt.title('model loss')\n",
    "plt.ylabel('loss')\n",
    "plt.xlabel('epoch')\n",
    "plt.legend(['train', 'val'], loc='upper left')\n",
    "plt.show()"
   ]
  },
  {
   "cell_type": "markdown",
   "metadata": {
    "colab_type": "text",
    "id": "gtl_zobWKETm"
   },
   "source": [
    "<br>\n",
    "\n",
    "## 5.5 시퀀스 레이블링 평가하기\n",
    "\n",
    "- 시퀀스 레이블링 모델을 평가할 때는 한 가지 주의할 점이 있다.\n",
    "- 이런 모델의 경우에는 보통 큰 의미를 갖지 않는 레이블 정보가 존재한다.\n",
    "- 예를 들어 개체명 인식에서는 그 어떤 개체도 아니라는 의미의 `'O'`라는 태깅이 존재한다.\n",
    "- 그런데 이런 정보는 보통 대다수의 레이블을 차지하기 때문에 기존에 사용했던 정확도 평가 방법을 사용하는 것이 적절하지 않을 수 있다."
   ]
  },
  {
   "cell_type": "markdown",
   "metadata": {
    "colab_type": "text",
    "id": "eOOalopjGjQ0"
   },
   "source": [
    "<br>\n",
    "\n",
    "### 5.5.1 정확도 평가의 한계\n",
    "\n",
    "- 예를 들어 모델이 단 1개의 개체도 맞추지 못하고 전부 `'O'`로 예상했을 경우를 보자.\n",
    "- 우선 실제값은 바로 위에서 출력했던 값을 실제값으로 재사용한다.\n",
    "- 아래 코드에서는 `true`라는 변수에 저장했다.\n",
    "- 그리고 개체를 하나도 맞추지 못했다는 가정하에 정부 `'O'`로만 채워진 예측값 `predicted`를 생성한다."
   ]
  },
  {
   "cell_type": "code",
   "execution_count": 48,
   "metadata": {
    "colab": {
     "base_uri": "https://localhost:8080/",
     "height": 55
    },
    "colab_type": "code",
    "id": "r3CkJVg3IUcK",
    "outputId": "1f16eb8c-1d67-4e02-e1d9-7fc9935a72ee"
   },
   "outputs": [
    {
     "name": "stdout",
     "output_type": "stream",
     "text": [
      "['O', 'O', 'O', 'O', 'O', 'O', 'O', 'O', 'O', 'O', 'O', 'O', 'O', 'O', 'O', 'O', 'O', 'O', 'O', 'O', 'O', 'O', 'O', 'O', 'O', 'O', 'O', 'O', 'O', 'O', 'O', 'O', 'O', 'O', 'O', 'O', 'O', 'O', 'O']\n"
     ]
    }
   ],
   "source": [
    "# 실제값\n",
    "true=['B-PER', 'I-PER', 'O', 'O', 'B-MISC', \n",
    "      'O','O','O','O','O','O','O','O','O','O',\n",
    "      'B-PER','I-PER','O','O','O','O','O','O',\n",
    "      'B-MISC','I-MISC','I-MISC','O','O','O',\n",
    "      'O','O','O','B-PER','I-PER','O','O','O','O','O']\n",
    "\n",
    "# 실제값의 길이만큼 전부 'O'로 채워진 리스트 생성. 예측값으로 사용\n",
    "predicted = ['O'] * len(true)\n",
    "\n",
    "print(predicted)"
   ]
  },
  {
   "cell_type": "markdown",
   "metadata": {
    "colab_type": "text",
    "id": "yQf0DVWMImaA"
   },
   "source": [
    "- 실제로는 `PER`, `MISC`, `PER`, `MISC`, `PER`이라는 총 5개의 개체가 존재함에도 불구하고 예측값인 `predicted`는 단 1개의 개체도 맞추지 못한 상황을 시뮬레이션하는 것이다."
   ]
  },
  {
   "cell_type": "markdown",
   "metadata": {
    "colab_type": "text",
    "id": "3f6J7gyZIxUG"
   },
   "source": [
    "<br>\n",
    "\n",
    "- 이제 이에 대한 정확도를 계산해보자."
   ]
  },
  {
   "cell_type": "code",
   "execution_count": 49,
   "metadata": {
    "colab": {
     "base_uri": "https://localhost:8080/",
     "height": 35
    },
    "colab_type": "code",
    "id": "gy9Fh9DGJGWd",
    "outputId": "42596b97-ff96-4662-e616-6044ed21cae7"
   },
   "outputs": [
    {
     "name": "stdout",
     "output_type": "stream",
     "text": [
      "정확도 : 74.4%\n"
     ]
    }
   ],
   "source": [
    "hit = 0 # 정답 개수\n",
    "\n",
    "for t, p in zip(true, predicted):\n",
    "    if t == p:\n",
    "        hit += 1 # 정답인 경우에만 +1\n",
    "\n",
    "accuracy = hit/len(true)\n",
    "print('정확도 : {:.1%}'.format(accuracy))"
   ]
  },
  {
   "cell_type": "markdown",
   "metadata": {
    "colab_type": "text",
    "id": "9V1ePG19JTHJ"
   },
   "source": [
    "- 실제값에서도 대부분의 값이 `'O'`이기 때문에 그 어떤 개체도 찾지 못하였음에도 74%의 정확도를 얻었다.\n",
    "- 이는 정확도가 뻥튀기되어 모델의 성능을 오해할 수 있다는 문제가 있다."
   ]
  },
  {
   "cell_type": "markdown",
   "metadata": {
    "colab_type": "text",
    "id": "RkqK-NJWJjVs"
   },
   "source": [
    "<br>\n",
    "\n",
    "### 5.5.2 더 적절한 평가 방법\n",
    "\n",
    "- 그래서 여기서는 위와 같은 상황에서 더 적절한 평가 방법을 도입하고자 한다."
   ]
  },
  {
   "cell_type": "markdown",
   "metadata": {
    "colab_type": "text",
    "id": "_dal8Cr0JvkE"
   },
   "source": [
    "- 아래의 명령을 수행하여 파이썬 패키지 `seqeval`를 설치한다."
   ]
  },
  {
   "cell_type": "code",
   "execution_count": null,
   "metadata": {
    "colab": {},
    "colab_type": "code",
    "id": "4gEdYCYBJ0F8"
   },
   "outputs": [],
   "source": [
    "!pip install seqeval"
   ]
  },
  {
   "cell_type": "markdown",
   "metadata": {
    "colab_type": "text",
    "id": "r8Mt-DNyJ2NV"
   },
   "source": [
    "<br>\n",
    "\n",
    "- 앞서 \"머신 러닝 훑어보기\" 챕터에서 **정밀도(precision)**와 **재현율(recall)**을 배운 바 있다.\n",
    "- 개체명 인식 모델의 성능 측정을 위해 정밀도와 재현율 개념을 사용해보도록 하자."
   ]
  },
  {
   "cell_type": "markdown",
   "metadata": {
    "colab_type": "text",
    "id": "R_2qIosoKNuB"
   },
   "source": [
    "- 정밀도와 재현율을 개체명 인식 문제에 맞도록 해석해보면 다음과 같다."
   ]
  },
  {
   "cell_type": "markdown",
   "metadata": {
    "colab_type": "text",
    "id": "RqYDSehjK2fD"
   },
   "source": [
    "<br>\n",
    "\n",
    "#### 5.5.2.1 정밀도(precision)\n",
    "\n",
    "$\n",
    "\\qquad\n",
    "precision = \\frac{TP}{TP + FP} = \\text{특정 개체라고 예측한 경우 중에서 실제 특정 개체로 판명되어 예측이 일치한 비율}\n",
    "$"
   ]
  },
  {
   "cell_type": "markdown",
   "metadata": {
    "colab_type": "text",
    "id": "WDsBcWgBK8TJ"
   },
   "source": [
    "<br>\n",
    "\n",
    "#### 5.5.2.2 재현율(recall)\n",
    "\n",
    "$\n",
    "\\qquad\n",
    "recall = \\frac{TP}{TP + FN} = \\text{전체 특정 개체 중에서 실제 특정 개체라고 정답을 맞춘 비율}\n",
    "$"
   ]
  },
  {
   "cell_type": "markdown",
   "metadata": {
    "colab_type": "text",
    "id": "5KzP7TyRLDIZ"
   },
   "source": [
    "<br>\n",
    "\n",
    "#### 5.5.2.3 f1-score\n",
    "\n",
    "- 정밀도와 재현율로부터 조화 평균(harmonic mean)을 구한 것을 **f1-score**라고 한다.\n",
    "\n",
    "$\n",
    "\\qquad\n",
    "f1\\ score = 2 × \\frac{\\text{정밀도 × 재현률}}{\\text{정밀도 + 재현률}}\n",
    "$"
   ]
  },
  {
   "cell_type": "markdown",
   "metadata": {
    "colab_type": "text",
    "id": "eLvUC_YWLfde"
   },
   "source": [
    "<br>\n",
    "\n",
    "### 5.5.3 더 나은 평가 방법 사용\n",
    "\n",
    "- `predicted`의 성능을 평가하기 위해서 정밀도, 재현율, f1-score를 계산해보도록 하자."
   ]
  },
  {
   "cell_type": "code",
   "execution_count": 51,
   "metadata": {
    "colab": {
     "base_uri": "https://localhost:8080/",
     "height": 161
    },
    "colab_type": "code",
    "id": "C143mFbILn_g",
    "outputId": "197a0333-83af-4fa4-c989-e7b8565ee009"
   },
   "outputs": [
    {
     "name": "stdout",
     "output_type": "stream",
     "text": [
      "           precision    recall  f1-score   support\n",
      "\n",
      "      PER       0.00      0.00      0.00         3\n",
      "     MISC       0.00      0.00      0.00         2\n",
      "\n",
      "micro avg       0.00      0.00      0.00         5\n",
      "macro avg       0.00      0.00      0.00         5\n",
      "\n"
     ]
    }
   ],
   "source": [
    "from seqeval.metrics import precision_score, recall_score, f1_score, classification_report\n",
    "print(classification_report(true, predicted))"
   ]
  },
  {
   "cell_type": "markdown",
   "metadata": {
    "colab_type": "text",
    "id": "2eqqC_hMLzLY"
   },
   "source": [
    "- 이러한 측정 방법을 사용하면 `PER`과 `MISC` 두 특정 개체 중에서 실제 `predicted`가 맞춘 것은 단 1개도 없는 것을 확인할 수 있다."
   ]
  },
  {
   "cell_type": "markdown",
   "metadata": {
    "colab_type": "text",
    "id": "R7Jc1jM8L-a3"
   },
   "source": [
    "<br>\n",
    "\n",
    "- 이번에는 어느 정도는 정답을 맞추었다고 가정하고 예측값인 `predicted`를 수정하여 정밀도, 재현율, f1-score를 확인해보자."
   ]
  },
  {
   "cell_type": "code",
   "execution_count": 52,
   "metadata": {
    "colab": {
     "base_uri": "https://localhost:8080/",
     "height": 161
    },
    "colab_type": "code",
    "id": "w9xnr93qMOHG",
    "outputId": "5df5c4ec-160d-4a8a-d2fa-ff10ae8b013f"
   },
   "outputs": [
    {
     "name": "stdout",
     "output_type": "stream",
     "text": [
      "           precision    recall  f1-score   support\n",
      "\n",
      "      PER       1.00      0.67      0.80         3\n",
      "     MISC       1.00      0.50      0.67         2\n",
      "\n",
      "micro avg       1.00      0.60      0.75         5\n",
      "macro avg       1.00      0.60      0.75         5\n",
      "\n"
     ]
    }
   ],
   "source": [
    "true=['B-PER', 'I-PER', 'O', 'O', 'B-MISC', \n",
    "      'O','O','O','O','O','O','O','O','O','O',\n",
    "      'B-PER','I-PER','O','O','O','O','O','O',\n",
    "      'B-MISC','I-MISC','I-MISC','O','O','O',\n",
    "      'O','O','O','B-PER','I-PER','O','O','O','O','O']\n",
    "\n",
    "predicted=['B-PER', 'I-PER', 'O', 'O', 'B-MISC', \n",
    "           'O','O','O','O','O','O','O','O','O','O',\n",
    "           'B-PER','I-PER','O','O','O','O','O','O',\n",
    "           'O','O','O','O','O','O','O','O','O','O',\n",
    "           'O','O','O','O','O','O']\n",
    "\n",
    "print(classification_report(true, predicted))"
   ]
  },
  {
   "cell_type": "markdown",
   "metadata": {
    "colab_type": "text",
    "id": "7IOC0iviMfex"
   },
   "source": [
    "- 특정 개체로 예측한 경우에 대해서는 모두 제대로 예측을 하였으므로 정밀도는 1이 나온다.\n",
    "- 하지만 재현율에서는 \n",
    "  - `MISC`는 실제로는 4개임에도 2개만 맞추었으므로 0.5가 나온다.\n",
    "  - `PER`는 실제로는 3개임에도 2개만 맞추었으므로 0.67이 나온다."
   ]
  },
  {
   "cell_type": "markdown",
   "metadata": {
    "colab_type": "text",
    "id": "lgrPdqvCM4uu"
   },
   "source": [
    "<br>\n",
    "\n",
    "## 5.6 실제 모델에 대해서 f1 score 구하기\n",
    "\n",
    "- 이제 앞서 구현한 모델에 대해서 위에서 배운 f1-score를 적용해보자."
   ]
  },
  {
   "cell_type": "markdown",
   "metadata": {
    "colab_type": "text",
    "id": "U8tkkBCFRN-9"
   },
   "source": [
    "<br>\n",
    "\n",
    "### 5.6.1 숫자 시퀀스를 태깅 리스트로 변환\n",
    "\n",
    "- 이를 위해서는 모델이 리턴하는 예측값은 숫자로 구성되어져 있으므로, 이를 먼저 태깅이 나열되어 있는 리스트로 치환하는 작업이 필요하다.\n",
    "- 이를 위해서 `sequences_to_tag`(숫자 시퀀스로부터 태깅 정보로 치환)하는 함수를 만든다."
   ]
  },
  {
   "cell_type": "code",
   "execution_count": null,
   "metadata": {
    "colab": {},
    "colab_type": "code",
    "id": "g-_xTlbWRT8e"
   },
   "outputs": [],
   "source": [
    "def sequences_to_tag(sequences): # 예측값을 index_to_tag를 사용하여 태깅 정보로 변경하는 함수\n",
    "    result = []\n",
    "    for sequence in sequences: # 전체 시퀀스로부터 시퀀스를 하나씩 꺼낸다.\n",
    "        temp = []\n",
    "        for pred in sequence: # 시퀀스로부터 예측값을 하나씩 꺼낸다.\n",
    "\n",
    "            # 예를 들어 [0, 0, 1, 0, 0] 라면 1의 인덱스인 2를 리턴한다.\n",
    "            pred_index = np.argmax(pred) \n",
    "\n",
    "            # \"PAD\"는 \"O\"로 변경\n",
    "            temp.append(index_to_ner[pred_index].replace(\"PAD\", \"O\"))\n",
    "        \n",
    "        result.append(temp)\n",
    "    \n",
    "    return result"
   ]
  },
  {
   "cell_type": "code",
   "execution_count": null,
   "metadata": {
    "colab": {},
    "colab_type": "code",
    "id": "e-jbV73iSBnX"
   },
   "outputs": [],
   "source": [
    "y_predicted = model.predict(X_test)\n",
    "pred_tags = sequences_to_tag(y_predicted)\n",
    "test_tags = sequences_to_tag(y_test)"
   ]
  },
  {
   "cell_type": "code",
   "execution_count": 55,
   "metadata": {
    "colab": {
     "base_uri": "https://localhost:8080/",
     "height": 269
    },
    "colab_type": "code",
    "id": "zkxKRMKCSJKs",
    "outputId": "47cc35a8-f645-4ec8-c5f6-4be0d7dd45c2"
   },
   "outputs": [
    {
     "name": "stdout",
     "output_type": "stream",
     "text": [
      "           precision    recall  f1-score   support\n",
      "\n",
      "      org       0.68      0.51      0.58      4033\n",
      "      geo       0.81      0.87      0.84      7620\n",
      "      per       0.75      0.77      0.76      3545\n",
      "      tim       0.91      0.80      0.85      4067\n",
      "      gpe       0.97      0.93      0.95      3145\n",
      "      art       0.00      0.00      0.00        63\n",
      "      eve       0.00      0.00      0.00        52\n",
      "      nat       0.00      0.00      0.00        37\n",
      "\n",
      "micro avg       0.82      0.78      0.80     22562\n",
      "macro avg       0.81      0.78      0.79     22562\n",
      "\n"
     ]
    }
   ],
   "source": [
    "print(classification_report(test_tags, pred_tags))"
   ]
  },
  {
   "cell_type": "code",
   "execution_count": 57,
   "metadata": {
    "colab": {
     "base_uri": "https://localhost:8080/",
     "height": 35
    },
    "colab_type": "code",
    "id": "OISRLNZDSYjQ",
    "outputId": "67d76d6e-d25e-41ba-c45b-4a655edcdc73"
   },
   "outputs": [
    {
     "name": "stdout",
     "output_type": "stream",
     "text": [
      "F1-score: 79.9%\n"
     ]
    }
   ],
   "source": [
    "print(\"F1-score: {:.1%}\".format(f1_score(test_tags, pred_tags)))"
   ]
  },
  {
   "cell_type": "markdown",
   "metadata": {
    "colab_type": "text",
    "id": "rzdCagPoShOZ"
   },
   "source": [
    "<br>\n",
    "\n",
    "## 5.7 새로운 입력에 대해서 예측하기\n",
    "\n",
    "- 이제 임의로 만든 새로운 문장에 대해서 앞서 만든 개체명 인식 모델을 수행해보자."
   ]
  },
  {
   "cell_type": "markdown",
   "metadata": {
    "colab_type": "text",
    "id": "47TV4TazS2xl"
   },
   "source": [
    "<br>\n",
    "\n",
    "### 5.7.1 임의의 문장 생성"
   ]
  },
  {
   "cell_type": "code",
   "execution_count": 58,
   "metadata": {
    "colab": {
     "base_uri": "https://localhost:8080/",
     "height": 55
    },
    "colab_type": "code",
    "id": "lhkGMVtfStMI",
    "outputId": "c28b4e51-c458-4335-f6ce-b04897c2e339"
   },
   "outputs": [
    {
     "name": "stdout",
     "output_type": "stream",
     "text": [
      "['Hong', 'Gildong', 'starts', 'over', 'with', 'the', 'Justice', 'League', 'of', 'Joseon', 'at', 'the', 'country', 'of', 'Yul']\n"
     ]
    }
   ],
   "source": [
    "word_to_index = src_tokenizer.word_index\n",
    "\n",
    "new_sentence='Hong Gildong starts over with the Justice League of Joseon at the country of Yul'.split()\n",
    "print(new_sentence)"
   ]
  },
  {
   "cell_type": "markdown",
   "metadata": {
    "colab_type": "text",
    "id": "ezyMsK8bS0KI"
   },
   "source": [
    "- 임의로 만든 문장을 띄어쓰기 수준의 토큰화 상태로 `new_sentence`에 저장했다."
   ]
  },
  {
   "cell_type": "markdown",
   "metadata": {
    "colab_type": "text",
    "id": "Ywmp-d6YS_qO"
   },
   "source": [
    "<br>\n",
    "\n",
    "### 5.7.2 정수 인코딩"
   ]
  },
  {
   "cell_type": "code",
   "execution_count": 59,
   "metadata": {
    "colab": {
     "base_uri": "https://localhost:8080/",
     "height": 35
    },
    "colab_type": "code",
    "id": "b-eQ2CMDTCTB",
    "outputId": "63a2a270-3b51-4589-dd6d-51ab35149200"
   },
   "outputs": [
    {
     "name": "stdout",
     "output_type": "stream",
     "text": [
      "[1, 1, 4027, 80, 17, 2, 1, 1, 6, 1, 20, 2, 56, 6, 1]\n"
     ]
    }
   ],
   "source": [
    "new_X = []\n",
    "\n",
    "for w in new_sentence:\n",
    "    try:\n",
    "        new_X.append(word_to_index.get(w, 1))\n",
    "    except KeyError:\n",
    "        # 모델이 모르는 단어에 대해서는 'OOV'의 인덱스인 1로 인코딩\n",
    "        new_X.append(word_to_index['OOV'])\n",
    "\n",
    "print(new_X)"
   ]
  },
  {
   "cell_type": "markdown",
   "metadata": {
    "colab_type": "text",
    "id": "0eZvtD-JTSpn"
   },
   "source": [
    "- 정수 인코딩 과정에서 주요 단어들이 `OOV`로 치환되었다."
   ]
  },
  {
   "cell_type": "markdown",
   "metadata": {
    "colab_type": "text",
    "id": "8Ts0vSk6TW9e"
   },
   "source": [
    "<br>\n",
    "\n",
    "### 5.7.3 패딩\n",
    "\n",
    "- 임의로 만든 문장을 `max_len`의 길이로 패딩해준다."
   ]
  },
  {
   "cell_type": "code",
   "execution_count": null,
   "metadata": {
    "colab": {},
    "colab_type": "code",
    "id": "VTRKfI0dTcCv"
   },
   "outputs": [],
   "source": [
    "pad_new = pad_sequences([new_X], padding='post', value=0, maxlen=max_len)"
   ]
  },
  {
   "cell_type": "markdown",
   "metadata": {
    "colab_type": "text",
    "id": "Jj4pyufhTg8S"
   },
   "source": [
    "<br>\n",
    "\n",
    "### 5.7.4 예측"
   ]
  },
  {
   "cell_type": "code",
   "execution_count": 63,
   "metadata": {
    "colab": {
     "base_uri": "https://localhost:8080/",
     "height": 323
    },
    "colab_type": "code",
    "id": "l4vcC_duTjSS",
    "outputId": "bbf620c8-6e4c-4c94-83dc-c8412defd6ca"
   },
   "outputs": [
    {
     "name": "stdout",
     "output_type": "stream",
     "text": [
      "단어             ||예측값\n",
      "==============================\n",
      "Hong           : B-per\n",
      "Gildong        : I-per\n",
      "starts         : O    \n",
      "over           : O    \n",
      "with           : O    \n",
      "the            : O    \n",
      "Justice        : B-org\n",
      "League         : I-org\n",
      "of             : I-org\n",
      "Joseon         : I-org\n",
      "at             : O    \n",
      "the            : O    \n",
      "country        : O    \n",
      "of             : O    \n",
      "Yul            : B-geo\n"
     ]
    }
   ],
   "source": [
    "p = model.predict(np.array([pad_new[0]]))\n",
    "p = np.argmax(p, axis=-1)\n",
    "\n",
    "print(\"{:15}||{}\".format(\"단어\", \"예측값\"))\n",
    "print(30 * \"=\")\n",
    "\n",
    "for w, pred in zip(new_sentence, p[0]):\n",
    "    print(\"{:15}: {:5}\".format(w, index_to_ner[pred]))"
   ]
  },
  {
   "cell_type": "markdown",
   "metadata": {
    "colab_type": "text",
    "id": "Sv7pITB_T_4g"
   },
   "source": [
    "<br>\n",
    "\n",
    "## 5.8 CRF 참고 링크"
   ]
  },
  {
   "cell_type": "markdown",
   "metadata": {
    "colab_type": "text",
    "id": "o3QyLb14VT6M"
   },
   "source": [
    "### 5.8.1 CRF 사용 참고\n",
    "\n",
    "- [https://www.depends-on-the-definition.com/sequence-tagging-lstm-crf/](https://www.depends-on-the-definition.com/sequence-tagging-lstm-crf/)\n",
    "- [https://medium.com/@rohit.sharma_7010/a-complete-tutorial-for-named-entity-recognition-and-extraction-in-natural-language-processing-71322b6fb090](https://medium.com/@rohit.sharma_7010/a-complete-tutorial-for-named-entity-recognition-and-extraction-in-natural-language-processing-71322b6fb090)\n",
    "- [http://blog.shurain.net/2013/04/crf.html](http://blog.shurain.net/2013/04/crf.html)\n",
    "- [http://www.stokastik.in/bilstm-crf-sequence-tagging-for-e-commerce-attribute-extraction/](http://www.stokastik.in/bilstm-crf-sequence-tagging-for-e-commerce-attribute-extraction/)"
   ]
  },
  {
   "cell_type": "markdown",
   "metadata": {
    "colab_type": "text",
    "id": "ykJYYBoHVfMJ"
   },
   "source": [
    "<br>\n",
    "\n",
    "### 5.8.2 CRF 이론 참고\n",
    "\n",
    "- [https://createmomo.github.io/2017/09/12/CRF_Layer_on_the_Top_of_BiLSTM_1/](https://createmomo.github.io/2017/09/12/CRF_Layer_on_the_Top_of_BiLSTM_1/)"
   ]
  }
 ],
 "metadata": {
  "accelerator": "GPU",
  "colab": {
   "collapsed_sections": [],
   "name": "Ch12_v05_Bidirectional-LSTM+CRF.ipynb",
   "provenance": []
  },
  "kernelspec": {
   "display_name": "Python 3",
   "language": "python",
   "name": "python3"
  },
  "language_info": {
   "codemirror_mode": {
    "name": "ipython",
    "version": 3
   },
   "file_extension": ".py",
   "mimetype": "text/x-python",
   "name": "python",
   "nbconvert_exporter": "python",
   "pygments_lexer": "ipython3",
   "version": "3.6.9"
  }
 },
 "nbformat": 4,
 "nbformat_minor": 4
}
