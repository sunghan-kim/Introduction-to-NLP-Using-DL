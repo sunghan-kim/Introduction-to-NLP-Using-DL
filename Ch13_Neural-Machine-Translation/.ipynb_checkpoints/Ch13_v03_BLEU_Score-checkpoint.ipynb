{
 "cells": [
  {
   "cell_type": "markdown",
   "metadata": {
    "colab_type": "text",
    "id": "S6EHyvXc-WI-"
   },
   "source": [
    "# Ch13. 기계 번역 (Neural Machine Translation)"
   ]
  },
  {
   "cell_type": "markdown",
   "metadata": {
    "colab_type": "text",
    "id": "e6-I_eT9-e6z"
   },
   "source": [
    "# v03. BLEU Score (Bilingual Evaluation Understudy Score)"
   ]
  },
  {
   "cell_type": "markdown",
   "metadata": {
    "colab_type": "text",
    "id": "sOzix4Ft-kBX"
   },
   "source": [
    "- 앞서 언어 모델(Language Model)의 성능 측정을 위한 평가 방법(evaluation metric)으로 펄플렉서티(perplexity, PPL)를 소개한 바 있다.\n",
    "- 기계 번역기에도 PPL을 평가에 사용할 수 있지만, PPL은 번역의 성능을 직접적으로 반영하는 수치라 보기엔 어렵다."
   ]
  },
  {
   "cell_type": "markdown",
   "metadata": {
    "colab_type": "text",
    "id": "rlx3_mX9AIEL"
   },
   "source": [
    "- 자연어 처리에서는 그 외에도 수많은 평가 방법들이 존재한다.\n",
    "- 이번 챕터에서는 기계 번역의 성능이 얼마나 뛰어난 가를 측정하기 위해 사용되는 대표적인 방법인 BLEU(Bilingual Evaluation Understudy)에 대해서 배워본다.\n",
    "- 이하 BLEU라고 명명한다.\n",
    "- 이번 챕터에서는 BLEU의 개념에 대해서 이해하고, 가장 기본적인 BLEU를 구현해본다."
   ]
  },
  {
   "cell_type": "markdown",
   "metadata": {
    "colab_type": "text",
    "id": "gVtisQQSAcsV"
   },
   "source": [
    "- 이번 챕터는 논문 BLEU: a Method for Automatic Evaluation of Machine Translation를 참고로 하여 작성되었다."
   ]
  },
  {
   "cell_type": "markdown",
   "metadata": {
    "colab_type": "text",
    "id": "-FW0l9oNAiWy"
   },
   "source": [
    "- 또한 아래의 실습은 아래의 코드가 먼저 임포트되었다고 가정한다."
   ]
  },
  {
   "cell_type": "code",
   "execution_count": null,
   "metadata": {
    "colab": {},
    "colab_type": "code",
    "id": "Es5nmAeQAmrr"
   },
   "outputs": [],
   "source": [
    "from collections import Counter\n",
    "import numpy as np\n",
    "from nltk import ngrams"
   ]
  },
  {
   "cell_type": "markdown",
   "metadata": {
    "colab_type": "text",
    "id": "zUEKS0MfArdS"
   },
   "source": [
    "<br>\n",
    "\n",
    "## 3.1 BLEU (Bilingual Evaluation Understudy)\n",
    "\n",
    "- BLEU는 기계 번역 결과와 사람이 직접 번역한 결과가 얼마나 유사한 지 비교하여 번역에 대한 성능을 측정하는 방법이다.\n",
    "- 측정 기준은 n-gram에 기반한다.\n",
    "- n-gram의 정의는 \"n-gram 언어 모델\" 챕터를 참고하면 된다."
   ]
  },
  {
   "cell_type": "markdown",
   "metadata": {
    "colab_type": "text",
    "id": "-lZzas09BFaK"
   },
   "source": [
    "<br>\n",
    "\n",
    "- BLEU는 완벽한 방법이라고는 할 수는 없지만 몇 가지 이점을 가진다.\n",
    "  - 언어에 구애받지 않고 사용할 수 있다.\n",
    "  - 계산 속도가 빠르다.\n",
    "- BLEU는 PPL과는 달리 높을 수록 성능이 더 좋음을 의미한다.\n",
    "- BLEU를 이해하기 위해 기계 번역 성능 평가를 위한 몇 가지 직관적인 방법을 먼저 제시하고, 문제점을 보완해나가는 방식으로 설명한다."
   ]
  },
  {
   "cell_type": "markdown",
   "metadata": {
    "colab_type": "text",
    "id": "szOm1h2TBcb6"
   },
   "source": [
    "<br>\n",
    "\n",
    "### 3.1.1 유니그램 정밀도 (Unigram Precision)\n",
    "\n",
    "- 한국어-영어 번역기의 성능을 측정한다고 가정해보자.\n",
    "- 두 개의 기계 번역기가 존재하고 두 기계 번역기에 같은 한국어 문장을 입력하여 번역된 영어 문장의 성능을 측정하고자 한다.\n",
    "- 번역된 문장을 각각 Candidate1, 2라고 해보자.\n",
    "- 이 문장의 성능을 평가하기 위해서는 정답으로 비교되는 문장이 있어야 한다.\n",
    "- 세 명의 사람에게 한국어를 보고 영작해보라고 하여 세 개의 번역 문장을 만들어냈다.\n",
    "- 이 세 문장을 각각 Reference1, 2, 3이라고 해보자."
   ]
  },
  {
   "cell_type": "markdown",
   "metadata": {
    "colab_type": "text",
    "id": "0Ao_Nw1MB_76"
   },
   "source": [
    "**Example 1**\n",
    "\n",
    "- Candidate1 : It is a guide to action which ensures that the military always obeys the commands of the party.  \n",
    "- Candidate2 : It is to insure the troops forever hearing the activity guidebook that party direct.  \n",
    "- Reference1 : It is a guide to action that ensures that the military will forever heed Party commands.  \n",
    "- Reference2 : It is the guiding principle which guarantees the military forces always being under the command of the Party.  \n",
    "- Reference3 : It is the practical guide for the army always to heed the directions of the party."
   ]
  },
  {
   "cell_type": "markdown",
   "metadata": {
    "colab_type": "text",
    "id": "dVcq2ljqCV7y"
   },
   "source": [
    "- 편의상 Candidate를 Ca로, Reference를 Ref로 축약하여 부르겠다."
   ]
  },
  {
   "cell_type": "markdown",
   "metadata": {
    "colab_type": "text",
    "id": "Sx_ctOb-CdCK"
   },
   "source": [
    "<br>\n",
    "\n",
    "- 이제 Ca 1, 2를 Ref 1, 2, 3과 비교하여 성능을 측정하고자 한다.\n",
    "- 가장 직관적인 성능 평가 방법은 **Ref 1, 2, 3 중 어느 한 문장이라도 등장한 단어의 개수를 Ca에서 세는 것**이다.\n",
    "- 그리고 그 후에 Ca의 모든 단어 카운트의 합, 즉 Ca에서의 총 단어의 수로 나눠준다."
   ]
  },
  {
   "cell_type": "markdown",
   "metadata": {
    "colab_type": "text",
    "id": "7ehm_c_TCwWN"
   },
   "source": [
    "- 이러한 측정 방법을 **유니그램 정밀도(Unigram Precision)**라고 한다.\n",
    "- 이를 식으로 표현하면 다음과 같다.\n",
    "\n",
    "$\n",
    "\\qquad\n",
    "\\text{Unigram Precision} \n",
    "= \\frac{\\text{Ref들 중에서 존재하는 Ca의 단어의 수}}{\\text{Ca의 총 단어 수}} \n",
    "= \\frac{\\text{the number of Ca words(unigrams) which occur in any Ref}}{\\text{the total number of words in the Ca}}\n",
    "$"
   ]
  },
  {
   "cell_type": "markdown",
   "metadata": {
    "colab_type": "text",
    "id": "QqpMMW_gDvEq"
   },
   "source": [
    "- Ca1의 단어들은 얼추 훑어만봐도 Ref1, Ref2, Ref3에서 전반적으로 등장하는 반면, Ca2는 그렇지 않다.\n",
    "- 이는 Ca1이 Ca2보다 더 좋은 번역 문장임을 의미한다. (대소문자 구분은 없다고 가정)\n",
    "  - Ca1의 It is a guide to action은 Ref1에서 등장\n",
    "  - Ca1의 which는 Ref2에서 등장\n",
    "  - Ca1의 ensures that the militrary는 Ref1에서 등장\n",
    "  - Ca1의 always는 Ref2와 Ref3에서 등장\n",
    "  - Ca1의 commands는 Ref1에서 등장\n",
    "  - Ca1의 of the party는 Ref2에서 등장\n",
    "  - Ca1에 있는 단어 중 Ref1, Ref2, Ref3 어디에도 등장하지 않은 단어는 obeys뿐이다.\n",
    "- 반면 Ca2는 Ca1과 비교하여 상대적으로 Ref1, 2, 3에 등장한 단어들이 적다."
   ]
  },
  {
   "cell_type": "markdown",
   "metadata": {
    "colab_type": "text",
    "id": "-G7Xys9LHCOq"
   },
   "source": [
    "<br>\n",
    "\n",
    "- 위의 계산 방법에 따르면 Ca1과 Ca2의 유니그램 정밀도는 각각 아래와 같다.\n",
    "\n",
    "$\n",
    "\\qquad\n",
    "\\text{Ca1 Unigram Percision} = \\frac{17}{18}\n",
    "$\n",
    "\n",
    "$\n",
    "\\qquad\n",
    "\\text{Ca2 Unigram Percision} = \\frac{8}{14}\n",
    "$"
   ]
  },
  {
   "cell_type": "markdown",
   "metadata": {
    "colab_type": "text",
    "id": "M5_QvL3VIbXD"
   },
   "source": [
    "- 이제부터는 단어라는 표현보다는 유니그램이라는 용어로 설명한다.\n",
    "- 지금까지 설명한 유니그램 정밀도는 나름 의미있는 측정 방법으로 보이지만 사실 허술한 점이 있다.\n",
    "- 아래와 같이 새로운 예가 있다고 해보자."
   ]
  },
  {
   "cell_type": "markdown",
   "metadata": {
    "colab_type": "text",
    "id": "bHd0jrwPInwp"
   },
   "source": [
    "<br>\n",
    "\n",
    "### 3.1.2 보정된 유니그램 정밀도 (Modified Unigram Precision)\n",
    "\n",
    "**Example 2**\n",
    "\n",
    "- Candidate : the the the the the the the\n",
    "- Reference1 : the cat is on the mat\n",
    "- Reference2 : there is a cat on the mat"
   ]
  },
  {
   "cell_type": "markdown",
   "metadata": {
    "colab_type": "text",
    "id": "RNtiCnumI3SA"
   },
   "source": [
    "- 위의 Ca는 the만 7개가 등장한 터무니 없는 번역이다.\n",
    "- 하지만 이 번역은 앞서 배운 유니그램 정밀도에 따르면 $\\frac{7}{7} = 1$이라는 최고의 성능 평가를 받게 된다.\n",
    "- 이에 유니그램 정밀도를 다소 보정할 필요를 느낀다."
   ]
  },
  {
   "cell_type": "markdown",
   "metadata": {
    "colab_type": "text",
    "id": "f9OLmuNlJL7k"
   },
   "source": [
    "<br>\n",
    "\n",
    "- 이를 보정하기 위해서는 정밀도의 분자를 계산하기 위해 Ref와 매칭하며 카운트하는 과정에서 Ca의 유니그램이 이미 Ref에서 매칭된 적이 있었는 지를 고려해야 한다.\n",
    "\n",
    "$\n",
    "\\qquad\n",
    "\\text{Unigram Precision} = \\frac{\\text{Ref들과 Ca를 고려한 새로운 카운트 방법이 필요!}}{\\text{Ca의 총 유니그램 수}}\n",
    "$"
   ]
  },
  {
   "cell_type": "markdown",
   "metadata": {
    "colab_type": "text",
    "id": "vvgKXfEhJhbE"
   },
   "source": [
    "<br>\n",
    "\n",
    "- 정밀도의 분자를 계산하기 위한 각 유니그램의 카운트는 다음과 같이 수정한다.\n",
    "- 유니그램이 하나의 Ref에서 최대 몇 번 등장했는 지를 카운트한다.\n",
    "- 이 값을 maximum reference count를 줄인 의미에서 Max_Ref_Count라고 부른다.\n",
    "- Max_Ref_Count가 기존의 단순 카운트한 값보다 작은 경우에는 이 값을 최종 카운트 값으로 대체한다.\n",
    "- 정밀도의 분자 계산을 위한 새로운 카운트 방식을  식으로 표현하면 다음과 같다.\n",
    "\n",
    "$\n",
    "\\qquad\n",
    "Count_{clip} = min(Count, \\; Max\\_Ref\\_Count)\n",
    "$"
   ]
  },
  {
   "cell_type": "markdown",
   "metadata": {
    "colab_type": "text",
    "id": "k6YskOWYLSgt"
   },
   "source": [
    "- 위의 카운트를 사용하여 분자를 계산한 정밀도를 **보정된 유니그램 정밀도(Modified Unigram Precision)**라고 한다.\n",
    "\n",
    "$\n",
    "\\qquad\n",
    "\\text{Modified Unigram Precision} \n",
    "= \\frac{\\text{Ca의 각 유니그램에 대해 }Count_{clip} \\text{을 수행한 값의 총 합}}{\\text{Ca의 총 유니그램 수}}\n",
    "= \\frac{\\sum_{unigram \\in Candidate} Count_{clip} (unigram)}{\\sum_{unigram \\in Candidate} Count (unigram)}\n",
    "$\n",
    "\n",
    "- 분모의 경우에는 이전과 동일하게 Ca의 모든 유니그램에 대해서 각각 $Count$하고 모두 합한 값을 사용한다."
   ]
  },
  {
   "cell_type": "markdown",
   "metadata": {
    "colab_type": "text",
    "id": "aUDgAGVsMAq8"
   },
   "source": [
    "<br>\n",
    "\n",
    "- 보정된 유니그램 정밀도를 예제를 통해 이해해보자.\n",
    "- **Example 2**를 살펴보면\n",
    "  - the의 경우에는 Ref1에서 총 두 번 등장 $\\rightarrow$ the의 카운트는 2로 보정된다.\n",
    "  - Ca의 기존 유니그램 정밀도는 $\\frac{7}{7} = 1$이다.\n",
    "  - 보정된 유니그램 정밀도는 $\\frac{2}{7}$와 같이 변경된다."
   ]
  },
  {
   "cell_type": "markdown",
   "metadata": {
    "colab_type": "text",
    "id": "saxdM0F0MwU7"
   },
   "source": [
    "<br>\n",
    "\n",
    "- 다른 예로 **Example 1**에서의 Ca1의 보정된 유니그램 정밀도를 계산해보면 보정되기 이전과 동일하게 $\\frac{17}{18}$이지만 결과를 얻는 과정은 다르다.\n",
    "  - Ca1에서 the는 3번 등장하지만, Ref2와 Ref3에서 the가 4번 등장하므로 3이 4보다 작으므로 the는 3으로 카운트된다.\n",
    "  - the 외에 Ca1의 모든 유니그램은 전부 1개씩 등장하므로 보정 전과 동일하게 카운트하면 된다.\n",
    "  - 결과적으로 보정 이전의 정밀도와 동일하게 $\\frac{17}{18}$의 값을 가진다."
   ]
  },
  {
   "cell_type": "markdown",
   "metadata": {
    "colab_type": "text",
    "id": "cDC4AFfgNSTK"
   },
   "source": [
    "<br>\n",
    "\n",
    "### 3.1.3 보정된 유니그램 정밀도(Modified Unigram Precision) 구현하기\n",
    "\n",
    "- 이제 보정된 유니그램 정밀도를 파이썬 함수로 구현해보자.\n",
    "- 보정된 유니그램 정밀도를 구현하기 위해서는 다음 2가지 함수를 구현해야 한다.\n",
    "  1. $Count$ 함수\n",
    "    - 유니그램을 카운트\n",
    "    - 분모를 구하기 위해 사용\n",
    "  2. $Count_{clip}$ 함수\n",
    "    - 분자를 구하기 위해 사용\n",
    "- 이 두 가지 함수를 사용하면 보정된 유니그램 정밀도를 구할 수 있다."
   ]
  },
  {
   "cell_type": "markdown",
   "metadata": {
    "colab_type": "text",
    "id": "zV_lr6tOYkrQ"
   },
   "source": [
    "<br>\n",
    "\n",
    "#### 3.1.3.1 $Count$ 함수 구현\n",
    "\n",
    "- 우선 유니그램을 단순히 $Count$하는 함수를 `simple_count`라는 이름의 아래 함수로 구현한다."
   ]
  },
  {
   "cell_type": "code",
   "execution_count": null,
   "metadata": {
    "colab": {},
    "colab_type": "code",
    "id": "gZlvrVwQYqiW"
   },
   "outputs": [],
   "source": [
    "# 단순 카운트 함수\n",
    "def simple_count(tokens, n): # 토큰화된 candidate 문장, n-gram에서의 n, 이 두 가지를 인자로 받음\n",
    "    return Counter(ngrams(tokens, n)) # 문장에서 n-gram을 카운트"
   ]
  },
  {
   "cell_type": "markdown",
   "metadata": {
    "colab_type": "text",
    "id": "uubSpoqWY6sn"
   },
   "source": [
    "- 위 함수는 토큰화된 문장을 입력받아서 문장 내의 n-gram의 개수를 카운트하는 함수이다.\n",
    "- 구하고자 하는 것은 유니그램 정밀도이므로 카운트하고자 하는 n-gram의 단위를 결정하는 `simple_count` 함수의 두 번째 인자인 `n`의 값을 1로 하여 함수를 실행하면 된다."
   ]
  },
  {
   "cell_type": "markdown",
   "metadata": {
    "colab_type": "text",
    "id": "9IhTYdo23Dn7"
   },
   "source": [
    "<br>\n",
    "\n",
    "- **Example 1**의 Ca1를 가져와 함수가 어떤 결과를 출력하는 지 확인해보자."
   ]
  },
  {
   "cell_type": "code",
   "execution_count": 3,
   "metadata": {
    "colab": {
     "base_uri": "https://localhost:8080/",
     "height": 54
    },
    "colab_type": "code",
    "id": "JXmyk6mk3Jh7",
    "outputId": "8d93ac2e-39c8-4ae8-b89a-af07d68bfca9"
   },
   "outputs": [
    {
     "name": "stdout",
     "output_type": "stream",
     "text": [
      "Counter({('the',): 3, ('It',): 1, ('is',): 1, ('a',): 1, ('guide',): 1, ('to',): 1, ('action',): 1, ('which',): 1, ('ensures',): 1, ('that',): 1, ('military',): 1, ('always',): 1, ('obeys',): 1, ('commands',): 1, ('of',): 1, ('party.',): 1})\n"
     ]
    }
   ],
   "source": [
    "candidate = \"It is a guide to action which ensures that the military always obeys the commands of the party.\"\n",
    "\n",
    "# 단어 토큰화\n",
    "tokens = candidate.split()\n",
    "\n",
    "# 토큰화된 문장, 유니그램의 개수를 구하고자 한다면 n=1\n",
    "result = simple_count(tokens, 1)\n",
    "\n",
    "print(result)"
   ]
  },
  {
   "cell_type": "markdown",
   "metadata": {
    "colab_type": "text",
    "id": "o2Dqe9BT3gQL"
   },
   "source": [
    "- 위의 출력 결과는 모든 유니그램을 카운트한 결과를 보여준다.\n",
    "- 대부분의 유니그램이 1개씩 카운트되었으나 유니그램 `the`는 문장에서 3번 등장하였으므로 유일하게 3의 값을 가진다."
   ]
  },
  {
   "cell_type": "markdown",
   "metadata": {
    "colab_type": "text",
    "id": "_N3eAGX130Rp"
   },
   "source": [
    "<br>\n",
    "\n",
    "- 이번에는 **Example 2**의 Ca를 가지고 함수를 수행해보자."
   ]
  },
  {
   "cell_type": "code",
   "execution_count": 4,
   "metadata": {
    "colab": {
     "base_uri": "https://localhost:8080/",
     "height": 34
    },
    "colab_type": "code",
    "id": "NBZMAuwn37UB",
    "outputId": "0622a2a6-e8c1-41d1-d3b0-00e0161361ed"
   },
   "outputs": [
    {
     "name": "stdout",
     "output_type": "stream",
     "text": [
      "Counter({('the',): 7})\n"
     ]
    }
   ],
   "source": [
    "candidate = 'the the the the the the the'\n",
    "tokens = candidate.split()\n",
    "result = simple_count(tokens, 1)\n",
    "print(result)"
   ]
  },
  {
   "cell_type": "markdown",
   "metadata": {
    "colab_type": "text",
    "id": "F2I5NjQH4Foy"
   },
   "source": [
    "- `simple_count` 함수는 단순 카운트를 수행하므로 `the`에 대해서 7이라는 카운트 값을 리턴한다."
   ]
  },
  {
   "cell_type": "markdown",
   "metadata": {
    "colab_type": "text",
    "id": "i9V7aVEV4MZB"
   },
   "source": [
    "<br>\n",
    "\n",
    "\n",
    "#### 3.1.3.2 $Count_{clip}$ 함수 구현\n",
    "\n",
    "- 이번에는 $Count_{clip}$을 아래의 `count_clip` 이름을 가진 함수로 구현해보자."
   ]
  },
  {
   "cell_type": "code",
   "execution_count": null,
   "metadata": {
    "colab": {},
    "colab_type": "code",
    "id": "_dk8QN1a5rDh"
   },
   "outputs": [],
   "source": [
    "def count_clip(candidate, reference_list, n):\n",
    "\n",
    "    # Ca 문장에서 n-gram 카운트\n",
    "    cnt_ca = simple_count(candidate, n)\n",
    "    temp = dict()\n",
    "\n",
    "    for ref in reference_list: # 다수의 Ref 문장에 대해서 이하 반복\n",
    "        \n",
    "        # Ref 문장에서 n-gram 카운트\n",
    "        cnt_ref = simple_count(ref, n)\n",
    "\n",
    "        for n_gram in cnt_ref: # 모든 Ref에 대해서 비교하여 특정 n-gram이 하나의 Ref에 가장 많이 등장한 횟수 저장\n",
    "            if n_gram in temp:\n",
    "                temp[n_gram] = max(cnt_ref[n_gram], temp[n_gram]) # max_ref_count\n",
    "            else:\n",
    "                temp[n_gram] = cnt_ref[n_gram]\n",
    "\n",
    "    return {\n",
    "        # count_clip = min(count, max_ref_count)\n",
    "        # get은 찾고자 하는 n-gram이 없으면 0을 반환한다.\n",
    "        n_gram: min(cnt_ca.get(n_gram, 0), temp.get(n_gram, 0)) for n_gram in cnt_ca\n",
    "    }"
   ]
  },
  {
   "cell_type": "markdown",
   "metadata": {
    "colab_type": "text",
    "id": "ghhA2HHZ84VP"
   },
   "source": [
    "- `count_clip` 함수는 `candidate` 문장과 `reference` 문장들, 그리고 카운트 단위가 되는 n-gram에서의 `n`의 값, 이 세 가지 인자로 입력받아서 $Count_{clip}$을 수행한다.\n",
    "- 여기서는 유니그램 정밀도를 구현하고 있으므로 역시나 `n=1`로 하여 함수를 실행하면 된다."
   ]
  },
  {
   "cell_type": "markdown",
   "metadata": {
    "colab_type": "text",
    "id": "KJEt6UDE9lIQ"
   },
   "source": [
    "- 또한 `count_clip` 함수 내부에는 기존에 구현했던 `simple_count` 함수가 사용된 것을 확인할 수 있다.\n",
    "- $Count_{clip}$을 구하기 위해서는 $Max\\_Ref\\_Count$ 값과 비교하기 위해 $Count$값이 필요하기 때문이다."
   ]
  },
  {
   "cell_type": "markdown",
   "metadata": {
    "colab_type": "text",
    "id": "_-2WHolK-KcX"
   },
   "source": [
    "<br>\n",
    "\n",
    "- **Example 2**를 통해 함수가 정상 작동되는 지 확인해보자."
   ]
  },
  {
   "cell_type": "code",
   "execution_count": 6,
   "metadata": {
    "colab": {
     "base_uri": "https://localhost:8080/",
     "height": 34
    },
    "colab_type": "code",
    "id": "dyb9cZy4-Svf",
    "outputId": "f3fef00a-e456-4334-b77d-6441c3568754"
   },
   "outputs": [
    {
     "name": "stdout",
     "output_type": "stream",
     "text": [
      "{('the',): 2}\n"
     ]
    }
   ],
   "source": [
    "candidate = 'the the the the the the the'\n",
    "references = [\n",
    "    'the cat is on the mat',\n",
    "    'there is a cat on the mat'\n",
    "]\n",
    "\n",
    "result = count_clip(candidate.split(),\n",
    "                    list(map(lambda ref: ref.split(), references)),\n",
    "                    1)\n",
    "print(result)"
   ]
  },
  {
   "cell_type": "markdown",
   "metadata": {
    "colab_type": "text",
    "id": "sOu-Mfd4-gNX"
   },
   "source": [
    "- 동일한 예제 문장에 대해서 위의 `simple_count` 함수는 `the`가 7개로 카운트되었던 것과는 달리 이번에는 2개로 카운트되었다."
   ]
  },
  {
   "cell_type": "markdown",
   "metadata": {
    "colab_type": "text",
    "id": "XN1UDf2W-y5t"
   },
   "source": [
    "<br>\n",
    "\n",
    "#### 3.1.3.3 보정된 정밀도 연산 함수 구현\n",
    "\n",
    "- 이제 위의 두 함수를 사용하여 예제 문장에 대해서 보정된 정밀도를 연산하는 함수를 `modified_precision`란 이름의 함수로 구현해보자."
   ]
  },
  {
   "cell_type": "code",
   "execution_count": null,
   "metadata": {
    "colab": {},
    "colab_type": "code",
    "id": "Uazhn827HFPJ"
   },
   "outputs": [],
   "source": [
    "def modified_precision(candidate, reference_list, n):\n",
    "    clip = count_clip(candidate, reference_list, n)\n",
    "    total_clip = sum(clip.values()) # 분자\n",
    "\n",
    "    ct = simple_count(candidate, n)\n",
    "    total_ct = sum(ct.values()) # 분모\n",
    "\n",
    "    if total_ct == 0: # n-gram의 n이 커졌을 때 분모가 0이 되는 것을 방지\n",
    "        total_ct = 1\n",
    "    \n",
    "    return (total_clip / total_ct) # 보정된 정밀도\n",
    "    # count_clip의 합을 분자로 하고 단순 count의 합을 분모로 하면 보정된 정밀도"
   ]
  },
  {
   "cell_type": "code",
   "execution_count": 8,
   "metadata": {
    "colab": {
     "base_uri": "https://localhost:8080/",
     "height": 34
    },
    "colab_type": "code",
    "id": "TsaI5AjAHnLF",
    "outputId": "2bd63d9e-37b6-4609-fb57-ad86ca19c8a1"
   },
   "outputs": [
    {
     "name": "stdout",
     "output_type": "stream",
     "text": [
      "0.2857142857142857\n"
     ]
    }
   ],
   "source": [
    "result = modified_precision(candidate.split(),\n",
    "                            list(map(lambda ref: ref.split(), references)), \n",
    "                            1) # 유니그램이므로 n=1\n",
    "print(result)"
   ]
  },
  {
   "cell_type": "markdown",
   "metadata": {
    "colab_type": "text",
    "id": "fKk2EuYHHx8W"
   },
   "source": [
    "- 소수 값이 나오는 데 이는 $\\frac{2}{7}$의 값을 의미한다.\n",
    "- 이는 앞서 육안으로 계산했던 **Example 2**에서 Ca의 보정된 정밀도와 동일하다."
   ]
  },
  {
   "cell_type": "markdown",
   "metadata": {
    "colab_type": "text",
    "id": "oXPO_HqtIFWP"
   },
   "source": [
    "<br>\n",
    "\n",
    "#### 3.1.3.4 보정된 정밀도 사용\n",
    "\n",
    "- 지금까지 보정된 유니그램 정밀도에 대해서 설명하고, 직접 구현까지 해보았다.\n",
    "- 이베주터 설명에서 언급하는 '정밀도'는 기본적으로 **보정된 정밀도(Modified Precision)**라고 가정한다."
   ]
  },
  {
   "cell_type": "markdown",
   "metadata": {
    "colab_type": "text",
    "id": "vcjxRr7mIpeA"
   },
   "source": [
    "<br>\n",
    "\n",
    "#### 3.1.3.5 유니그램의 한계\n",
    "\n",
    "- 정밀도를 보정하므로서 Ca에서 발생하는 단어 중복에 대한 문제점은 해결되었다.\n",
    "- 하지만 유니그램 정밀도가 가지는 본질적인 문제점이 있기에 이제는 유니그램을 넘어 바이그램, 트라이그램 등과 같이 n-gram으로 확장해야 한다.\n",
    "- 문제점이 무엇인지 이해하고, 어떻게 n-gram으로 확장하는 지 학습해보자."
   ]
  },
  {
   "cell_type": "markdown",
   "metadata": {
    "colab_type": "text",
    "id": "eR4pkD4OIxR1"
   },
   "source": [
    "<br>\n",
    "\n",
    "### 3.1.4 순서를 고려하기 위해서 n-gram으로 확장하기"
   ]
  },
  {
   "cell_type": "markdown",
   "metadata": {
    "colab_type": "text",
    "id": "e3RIIO-5WuXG"
   },
   "source": [
    "#### 3.1.4.1 보정된 유니그램 정밀도의 한계\n",
    "\n",
    "- BoW 표현과 유사하게, 유니그램 정밀도와 같이 각 단어의 빈도수로 접근하는 방법은 결국 단어의 순서를 고려하지 않는다는 특징이 있다.\n",
    "- **Example 1**에 Ca3이라는 새로운 문장을 추가해보고 기존의 Ca1과 비교해보자."
   ]
  },
  {
   "cell_type": "markdown",
   "metadata": {
    "colab_type": "text",
    "id": "XjLqDgw2JFKU"
   },
   "source": [
    "<br>\n",
    "\n",
    "**Example 1**\n",
    "\n",
    "- Candidate1 : It is a guide to action which ensures that the military always obeys the commands of the party.\n",
    "- Candidate2 : It is to insure the troops forever hearing the activity guidebook that party direct.\n",
    "- **Candidate3 : the that military a is It guide ensures which to commands the of action obeys always party the.**\n",
    "- Reference1 : It is a guide to action that ensures that the military will forever heed Party commands.\n",
    "- Reference2 : It is the guiding principle which guarantees the military forces always being under the command of the Party.\n",
    "- Reference3 : It is the practical guide for the army always to heed the directions of the party."
   ]
  },
  {
   "cell_type": "markdown",
   "metadata": {
    "colab_type": "text",
    "id": "h_SXOyY1JSrc"
   },
   "source": [
    "- Ca3은 사실 Ca1에서 모든 유니그램의 순서를 랜덤으로 섞은 실제 영어 문법에 맞지 않은 문장이다.\n",
    "- 하지만 Ref 1, 2, 3과 비교하여 유니그램 정밀도를 적용하면 Ca1과 Ca3의 두 정밀도는 동일하다.\n",
    "- 유니그램 정밀도는 유니그램의 순서를 전혀 고려하지 않기 때문이다."
   ]
  },
  {
   "cell_type": "markdown",
   "metadata": {
    "colab_type": "text",
    "id": "OUzLgq4PROu6"
   },
   "source": [
    "<br>\n",
    "\n",
    "#### 3.1.4.2 보정된 n-gram 정밀도\n",
    "\n",
    "- 이를 위한 대안으로 개별적인 유니그램/단어로서 카운트하는 유니그램 정밀도에서 다음에 등장한 단어까지 함께 고려하여 카운트하도록 유니그램 외에도 Bigram, Trigram, 4-gram 단위 등으로 계산한 정밀도, 즉 n-gram을 이용한 정밀도를 도입하고자 한다.\n",
    "- 이들 각각은 카운트 단위를 2개, 3개, 4개로 보느냐의 차이로, 2-gram Percision, 3-gram Precision, 4-gram Precision이라고 하기도 한다.\n",
    "- 어떤 의미인 지 바이그램(Bigram) 단위로 카운트하여 **Example 1, 2**의 바이그램 정밀도(Bigram Precision)를 계산해보자."
   ]
  },
  {
   "cell_type": "markdown",
   "metadata": {
    "colab_type": "text",
    "id": "8XOvfHbaRhpb"
   },
   "source": [
    "<br>\n",
    "\n",
    "- 우선 좀 더 쉬운 **Example 2**부터 살펴보자."
   ]
  },
  {
   "cell_type": "markdown",
   "metadata": {
    "colab_type": "text",
    "id": "TF3k1yrkRmMA"
   },
   "source": [
    "**Example 2**\n",
    "\n",
    "- Candidate1 : the the the the the the the\n",
    "- Candidate2 : the cat the cat on the mat\n",
    "- Reference1 : the cat is on the mat\n",
    "- Reference2 : there is a cat on the mat"
   ]
  },
  {
   "cell_type": "markdown",
   "metadata": {
    "colab_type": "text",
    "id": "53BdV6dGRtO4"
   },
   "source": [
    "- 이해를 돕고자 **Example 2**에 Ca2를 새로 추가했다.\n",
    "- Ca2 바이그램의 $Count$와 $Count_{clip}$은 아래와 같다.\n",
    "\n",
    "| 바이그램           | the cat | cat the | cat on | on the | the mat | SUM   |\n",
    "| :----------------- | :------ | :------ | :----- | :----- | :------ | :---- |\n",
    "| $Count$         | 2       | 1       | 1      | 1      | 1       | **6** |\n",
    "| $Count_{clip}$ | 1       | 0       | 1      | 1      | 1       | **4** |"
   ]
  },
  {
   "cell_type": "code",
   "execution_count": 9,
   "metadata": {
    "colab": {
     "base_uri": "https://localhost:8080/",
     "height": 34
    },
    "colab_type": "code",
    "id": "Hbey0_ocT08l",
    "outputId": "5507f9e7-46ab-4177-89b3-05f98152bc20"
   },
   "outputs": [
    {
     "name": "stdout",
     "output_type": "stream",
     "text": [
      "Counter({('the', 'cat'): 2, ('cat', 'the'): 1, ('cat', 'on'): 1, ('on', 'the'): 1, ('the', 'mat'): 1})\n"
     ]
    }
   ],
   "source": [
    "candidate = \"the cat the cat on the mat\"\n",
    "\n",
    "tokens = candidate.split()\n",
    "result = simple_count(tokens, 2)\n",
    "print(result)"
   ]
  },
  {
   "cell_type": "code",
   "execution_count": 11,
   "metadata": {
    "colab": {
     "base_uri": "https://localhost:8080/",
     "height": 34
    },
    "colab_type": "code",
    "id": "7jsx_6RcUK2S",
    "outputId": "239eb0f7-a9a8-44ad-eeb5-ec741309ddb6"
   },
   "outputs": [
    {
     "name": "stdout",
     "output_type": "stream",
     "text": [
      "{('the', 'cat'): 1, ('cat', 'the'): 0, ('cat', 'on'): 1, ('on', 'the'): 1, ('the', 'mat'): 1}\n"
     ]
    }
   ],
   "source": [
    "candidate = \"the cat the cat on the mat\"\n",
    "references = [\n",
    "    'the cat is on the mat',\n",
    "    'there is a cat on the mat'\n",
    "]\n",
    "\n",
    "result = count_clip(candidate.split(),\n",
    "                    list(map(lambda ref: ref.split(), references)),\n",
    "                    2)\n",
    "print(result)"
   ]
  },
  {
   "cell_type": "markdown",
   "metadata": {
    "colab_type": "text",
    "id": "vfxTlVFVSA_8"
   },
   "source": [
    "- 결과적으로 Ca2의 바이그램 정밀도는 $\\frac{4}{6}$가 된다.\n",
    "- 반면, 당연하게도 Ca1의 바이그램 정밀도는 0이다."
   ]
  },
  {
   "cell_type": "markdown",
   "metadata": {
    "colab_type": "text",
    "id": "G8Z49hJ2SLz4"
   },
   "source": [
    "<br>\n",
    "\n",
    "- **Example 1**은 어떨까?"
   ]
  },
  {
   "cell_type": "code",
   "execution_count": null,
   "metadata": {
    "colab": {},
    "colab_type": "code",
    "id": "4BTDj6giUgFJ"
   },
   "outputs": [],
   "source": [
    "candidate1 = \"It is a guide to action which ensures that the military always obeys the commands of the party\"\n",
    "candidate2 = \"It is to insure the troops forever hearing the activity guidebook that party direct\"\n",
    "candidate3 = \"the that military a is It guide ensures which to commands the of action obeys always party the\"\n",
    "\n",
    "references = [\n",
    "    \"It is a guide to action that ensures that the military will forever heed Party commands\",\n",
    "    \"It is the guiding principle which guarantees the military forces always being under the command of the Party\",\n",
    "    \"It is the practical guide for the army always to heed the directions of the party\"\n",
    "]"
   ]
  },
  {
   "cell_type": "code",
   "execution_count": 23,
   "metadata": {
    "colab": {
     "base_uri": "https://localhost:8080/",
     "height": 70
    },
    "colab_type": "code",
    "id": "0IQNIDppU5qD",
    "outputId": "9856d5a9-b296-4f31-dd6d-225a0b3114c4"
   },
   "outputs": [
    {
     "name": "stdout",
     "output_type": "stream",
     "text": [
      "Ca1의 count : 17\n",
      "Ca2의 count : 13\n",
      "Ca3의 count : 17\n"
     ]
    }
   ],
   "source": [
    "count1 = simple_count(candidate1.split(), 2)\n",
    "count2 = simple_count(candidate2.split(), 2)\n",
    "count3 = simple_count(candidate3.split(), 2)\n",
    "\n",
    "total_count1 = sum(count1.values())\n",
    "total_count2 = sum(count2.values())\n",
    "total_count3 = sum(count3.values())\n",
    "\n",
    "print(\"Ca1의 count : {}\".format(total_count1))\n",
    "print(\"Ca2의 count : {}\".format(total_count2))\n",
    "print(\"Ca3의 count : {}\".format(total_count3))"
   ]
  },
  {
   "cell_type": "code",
   "execution_count": 24,
   "metadata": {
    "colab": {
     "base_uri": "https://localhost:8080/",
     "height": 70
    },
    "colab_type": "code",
    "id": "2UVTEACbWUiq",
    "outputId": "07d896d8-711f-411f-ac6f-c1dc55bea3cb"
   },
   "outputs": [
    {
     "name": "stdout",
     "output_type": "stream",
     "text": [
      "Ca1의 count_clip : 10\n",
      "Ca2의 count_clip : 1\n",
      "Ca3의 count_clip : 0\n"
     ]
    }
   ],
   "source": [
    "count_clip1 = count_clip(candidate1.split(), list(map(lambda ref: ref.split(), references)), 2)\n",
    "count_clip2 = count_clip(candidate2.split(), list(map(lambda ref: ref.split(), references)), 2)\n",
    "count_clip3 = count_clip(candidate3.split(), list(map(lambda ref: ref.split(), references)), 2)\n",
    "\n",
    "total_count_clip1 = sum(count_clip1.values())\n",
    "total_count_clip2 = sum(count_clip2.values())\n",
    "total_count_clip3 = sum(count_clip3.values())\n",
    "\n",
    "print(\"Ca1의 count_clip : {}\".format(total_count_clip1))\n",
    "print(\"Ca2의 count_clip : {}\".format(total_count_clip2))\n",
    "print(\"Ca3의 count_clip : {}\".format(total_count_clip3))"
   ]
  },
  {
   "cell_type": "code",
   "execution_count": 25,
   "metadata": {
    "colab": {
     "base_uri": "https://localhost:8080/",
     "height": 70
    },
    "colab_type": "code",
    "id": "oRU3nvzAV511",
    "outputId": "c1a3a63c-c922-45d5-f859-f020c833e40e"
   },
   "outputs": [
    {
     "name": "stdout",
     "output_type": "stream",
     "text": [
      "Ca1의 바이그램 정밀도 : 0.5882352941176471\n",
      "Ca2의 바이그램 정밀도 : 0.07692307692307693\n",
      "Ca3의 바이그램 정밀도 : 0.0\n"
     ]
    }
   ],
   "source": [
    "print(\"Ca1의 바이그램 정밀도 : {}\".format(total_count_clip1 / total_count1))\n",
    "print(\"Ca2의 바이그램 정밀도 : {}\".format(total_count_clip2 / total_count2))\n",
    "print(\"Ca3의 바이그램 정밀도 : {}\".format(total_count_clip3 / total_count3))"
   ]
  },
  {
   "cell_type": "markdown",
   "metadata": {
    "colab_type": "text",
    "id": "iZ40W1ZAUcat"
   },
   "source": [
    "- **Example 1**에서 Ca1의 바이그램 정밀도는 $\\frac{10}{17}$이며, Ca2의 바이그램 정밀도는 $\\frac{1}{13}$이다.\n",
    "- Ca1에서 단어의 순서를 뒤섞은 Ca3의 바이그램 정밀도는 $\\frac{0}{17} = 0$이다."
   ]
  },
  {
   "cell_type": "markdown",
   "metadata": {
    "colab_type": "text",
    "id": "WfKQLj1DUepf"
   },
   "source": [
    "<br>\n",
    "\n",
    "#### 3.1.4.3 보정된 n-gram 정밀도 식으로 정의\n",
    "\n",
    "- $p_n$에서 $n$은 n-gram에서의 $n$을 의미한다고 하자."
   ]
  },
  {
   "cell_type": "markdown",
   "metadata": {
    "colab_type": "text",
    "id": "Km8mPBEdXWh7"
   },
   "source": [
    "- 앞서 배운 보정된 유니그램 정밀도의 식은 다음과 같다.\n",
    "\n",
    "$\n",
    "\\qquad\n",
    "p_1 = \\frac{\\sum_{unigram \\; \\in \\; Candidate} Count_{clip} (unigram)}{\\sum_{unigram \\; \\in \\; Candidate} Count (unigram)}\n",
    "$\n",
    "\n",
    "- 유니그램 정밀도에서는 $n$이 1이므로 $p_1$로 표현했다."
   ]
  },
  {
   "cell_type": "markdown",
   "metadata": {
    "colab_type": "text",
    "id": "C0Q3zL7oXm85"
   },
   "source": [
    "<br>\n",
    "\n",
    "- 이를 n-gram으로 일반화하면 아래와 같다.\n",
    "\n",
    "$\n",
    "\\qquad\n",
    "p_n = \\frac{\\sum_{n-gram \\; \\in \\; Candidate} Count_{clip} (n-gram)}{\\sum_{n-gram \\; \\in \\; Candidate} Count (n-gram)}\n",
    "$\n",
    "\n",
    "- 일반화된 식에서 $p_n$으로 표현한 것을 볼 수 있다."
   ]
  },
  {
   "cell_type": "markdown",
   "metadata": {
    "colab_type": "text",
    "id": "OP_Y3ATMYBvA"
   },
   "source": [
    "<br>\n",
    "\n",
    "- 여기서는 보정된 바이그램 정밀도 $p_2$, 보정된 트라이그램 정밀도 $p_3$ 등에 대한 파이썬 실습은 생략한다.\n",
    "- 사실 $p_n$을 계산하기 위한 함수를 별도로 다시 구현할 필요는 없다.\n",
    "- 앞서 구현한 함수 `simple_count`, `count_clip`, `modified_precision`은 모두 n-gram의 n을 함수의 인자로 받으므로, n을 1 대신 다른 값을 넣어서 실습해보면 바이그램, 트라이그램 등에 대해서도 보정된 정밀도를 구할 수 있다."
   ]
  },
  {
   "cell_type": "markdown",
   "metadata": {
    "colab_type": "text",
    "id": "eu7073ySYbna"
   },
   "source": [
    "<br>\n",
    "\n",
    "#### 3.1.4.4 BLEU 식 정의\n",
    "\n",
    "- n-gram 정밀도 식을 이해했다면 BLEU의 최종 식까지 다 왔다.\n",
    "- BLEU는 보정된 정밀도 $p_1, \\; p_2, \\; \\dots, \\; p_n$를 모두 조합하여 사용한다.\n",
    "- 이를 모두 조합한 BLEU의 식은 아래와 같다.\n",
    "\n",
    "$\n",
    "\\qquad\n",
    "BLEU = exp \\left( \\sum_{n=1}^N w_n \\; log \\; p_n \\right)\n",
    "$\n",
    "\n",
    "- $p_n$\n",
    "  - 각 gram의 보정된 정밀도\n",
    "- $N$\n",
    "  - n-gram에서 $n$의 최대 숫자\n",
    "  - 보통은 4의 값을 가진다.\n",
    "  - $N$이 4라는 것은 $p_1, \\; p_2, \\; p_3, \\; p_4$를 사용한다는 것을 의미한다.\n",
    "- $w_n$\n",
    "  - 각 gram의 보정된 정밀도에 서로 다른 가중치를 줄 수 있다.\n",
    "  - 이 가중치의 합은 1로 한다.\n",
    "  - 예를 들어 $N$이 4라고 하였을 때, $p_1, \\; p_2, \\; p_3, \\; p_4$에 대해서 동일한 가중치를 주고자한다면 모두 0.25를 적용할 수 있다."
   ]
  },
  {
   "cell_type": "markdown",
   "metadata": {
    "colab_type": "text",
    "id": "C8_-4eKoZpPR"
   },
   "source": [
    "- 이제 BLEU의 최종식에 거의 다 도달했다.\n",
    "- 즉, 여전히 위의 BLEU식에도 문제점이 존재한다."
   ]
  },
  {
   "cell_type": "markdown",
   "metadata": {
    "colab_type": "text",
    "id": "hzcGRwzhZvmT"
   },
   "source": [
    "<br>\n",
    "\n",
    "### 3.1.5 짧은 문장 길이에 대한 패널티 (Brevity Penalty)\n",
    "\n",
    "- n-gram으로 단어의 순서를 고려한다고 하더라고 여전히 남아 있는 문제가 있다.\n",
    "- 바로 Ca의 길이에 BLEU의 점수가 과한 영향을 받을 수 있다는 점이다."
   ]
  },
  {
   "cell_type": "markdown",
   "metadata": {
    "colab_type": "text",
    "id": "MRHWwlOZZ8_8"
   },
   "source": [
    "<br>\n",
    "\n",
    "#### 3.1.5.1 브레버티 패널티 (Brevity Penalty)\n",
    "\n",
    "- 기존 **Example 1**에 다음의 Ca를 추가한다고 해보자."
   ]
  },
  {
   "cell_type": "markdown",
   "metadata": {
    "colab_type": "text",
    "id": "P6aIl_DJaAx_"
   },
   "source": [
    "**Example 1**\n",
    "\n",
    "- **Candidate4 : it is**"
   ]
  },
  {
   "cell_type": "markdown",
   "metadata": {
    "colab_type": "text",
    "id": "qTQc236GaGLH"
   },
   "source": [
    "- 이 문장은 유니그램 정밀도나 바이그램 정밀도가 각각 $\\frac{2}{2}$, $\\frac{1}{1}$로 두 정밀도 모두 1이라는 높은 정밀도를 얻는다.\n",
    "- 이와 같이 제대로 된 번역이 아님에도 문장의 길이가 짧다는 이유로 높은 점수를 받는 것은 이상하다.\n",
    "- 그래서 Ca가 Ref보다 문장의 길이가 짧은 경우에는 점수에 패널티를 줄 필요가 있다.\n",
    "- 이를 **브레버티 패널티(Brevity Penalty)** 라고 한다. (직역하면 짧음 패널티)"
   ]
  },
  {
   "cell_type": "markdown",
   "metadata": {
    "colab_type": "text",
    "id": "GfRb3V57ai7q"
   },
   "source": [
    "<br>\n",
    "\n",
    "#### 3.1.5.2 길이가 긴 문장에 대한 패널티 부가 필요 여부\n",
    "\n",
    "- 이에 대해 배우기 전에, 만약 반대로 Ca의 길이가 Ref보다 긴 경우에도 문제가 생길 수 있는 지 보자."
   ]
  },
  {
   "cell_type": "markdown",
   "metadata": {
    "colab_type": "text",
    "id": "EDFZutfvapf3"
   },
   "source": [
    "**Example 3**\n",
    "\n",
    "- Candidate 1: I always invariably perpetually do.\n",
    "- Candidate 2: I always do.\n",
    "- Reference 1: I always do.\n",
    "- Reference 2: I invariably do.\n",
    "- Reference 3: I perpetually do."
   ]
  },
  {
   "cell_type": "markdown",
   "metadata": {
    "colab_type": "text",
    "id": "FKWdJXXjbXjJ"
   },
   "source": [
    "- **Example 3**에서 Ca1은 가장 많은 단어를 사용했지만 Ca2보다 좋지 못한 번역이다.\n",
    "- 다시 말해 Ref의 단어를 가장 많이 사용한 것이 꼭 좋은 번역이라는 의미는 아니다.\n",
    "- 그런데 다행히도 위와 같이 Ca의 길이가 불필요하게 Ref보다 긴 경우에는 BLEU 수식에서 정밀도를 n-gram으로 확장하여 바이그램, 트라이그램 등을 모두 계산에 사용하고 있는 것만으로도 이미 패널티를 받고 있다.\n",
    "- 즉, 브레버티 패널티를 설계할 때, 이 경우까지 고려할 필요는 없다."
   ]
  },
  {
   "cell_type": "markdown",
   "metadata": {
    "colab_type": "text",
    "id": "yfQz19zOb3-5"
   },
   "source": [
    "<br>\n",
    "\n",
    "#### 3.1.5.3 브레버티 패널티를 적용한 BLEU 식\n",
    "\n",
    "- 다시 Ref보다 Ca의 길이가 짧을 경우에 패널티를 주는 브레버티 패널티의 이야기로 돌아와보자.\n",
    "- 브레버티 패널티는 앞서 배운 BLEU의 식에 곱하는 방식으로 사용한다.\n",
    "- 브레버티 패널티를 줄여서 $BP$라고 했을 때, 최종 BLEU의 식은 아래와 같다.\n",
    "\n",
    "$\n",
    "\\qquad\n",
    "BLEU = BP \\times exp \\left( \\sum_{n=1}^N w_n \\; log \\; p_n \\right)\n",
    "$"
   ]
  },
  {
   "cell_type": "markdown",
   "metadata": {
    "colab_type": "text",
    "id": "9Gedz5bzclD_"
   },
   "source": [
    "- 위의 수식은 패널티를 줄 필요가 없는 경우에는 $BP$의 값이 1이어야 함을 의미한다.\n",
    "- 이를 반영한 $BP$의 수식은 아래와 같다.\n",
    "\n",
    "$\n",
    "\\qquad\n",
    "BP = \n",
    "\\begin{cases}\n",
    "    1 & \\text{if} \\;\\; c > r \\\\\n",
    "    e^{\\left( 1 - r / c \\right)} & \\text{if} \\;\\; c \\leq r\n",
    "\\end{cases}\n",
    "$\n",
    "\n",
    "- $c$ : Candidate의 길이\n",
    "- $r$ : Candidate와 가장 길이 차이가 작은 Reference의 길이"
   ]
  },
  {
   "cell_type": "markdown",
   "metadata": {
    "colab_type": "text",
    "id": "hTsAWhMudT_K"
   },
   "source": [
    "- Ref가 1개라면 Ca와 Ref의 두 문장의 길이만 가지고 계산하면 된다.\n",
    "- 하지만 여기서는 Ref가 여러 개일 때를 가정하고 있으므로 $r$은 모든 Ref들 중에서 Ca와 가장 길이 차이가 작은 Ref의 길이로 한다."
   ]
  },
  {
   "cell_type": "markdown",
   "metadata": {
    "colab_type": "text",
    "id": "NG_Mt8n5diiX"
   },
   "source": [
    "<br>\n",
    "\n",
    "#### 3.1.5.4 Ca와 길이 차이가 가장 작은 Ref의 길이 구하는 함수 구현\n",
    "\n",
    "- $r$을 구하는 코드는 아래와 같다."
   ]
  },
  {
   "cell_type": "code",
   "execution_count": null,
   "metadata": {
    "colab": {},
    "colab_type": "code",
    "id": "9eygW61Fdlum"
   },
   "outputs": [],
   "source": [
    "def closest_ref_length(candidate, reference_list): # Ca 길이와 가장 근접한 Ref의 길이를 리턴하는 함수\n",
    "\n",
    "    ca_len = len(candidate) # ca 길이\n",
    "    ref_lens = (len(ref) for ref in reference_list) # Ref들의 길이\n",
    "    closest_ref_len = min(ref_lens, key=lambda ref_len: (abs(ref_len - ca_len), ref_len))\n",
    "\n",
    "    # 길이 차이를 최소화하는 Ref를 찾아서 Ref의 길이를 리턴\n",
    "    return closest_ref_len"
   ]
  },
  {
   "cell_type": "markdown",
   "metadata": {
    "colab_type": "text",
    "id": "JyKCh5t2eHgy"
   },
   "source": [
    "- 만약 Ca와 길이가 정확히 동일한 Ref가 있다면 길이 차이가 0인 최고 수준의 매치(best match length)이다.\n",
    "- 또한 만약 서로 다른 길이의 Ref이지만 Ca와 길이 차이가 동일한 경우에는 더 작은 길이의 Ref를 택한다.\n",
    "  - 예를 들어 Ca가 길이가 10인데, Ref 1, 2가 각각 9와 11이라면 길이 차이는 동일하게 1밖에 나지 않지만 9를 택한다."
   ]
  },
  {
   "cell_type": "markdown",
   "metadata": {
    "colab_type": "text",
    "id": "lvoNv6IjerpR"
   },
   "source": [
    "<br>\n",
    "\n",
    "#### 3.1.5.5 브레버티 패널티 구하는 함수 구현\n",
    "\n",
    "- `closest_ref_length` 함수를 통해 $r$을 구했다면, 이제 $BP$를 구하는 함수 `brevity_penalty`를 구현해보자."
   ]
  },
  {
   "cell_type": "code",
   "execution_count": null,
   "metadata": {
    "colab": {},
    "colab_type": "code",
    "id": "VVLz2hy4e5ii"
   },
   "outputs": [],
   "source": [
    "def brevity_penalty(candidate, reference_list):\n",
    "\n",
    "    ca_len = len(candidate)\n",
    "    ref_len = closest_ref_length(candidate, reference_list)\n",
    "\n",
    "    if ca_len > ref_len:\n",
    "        return 1\n",
    "    elif ca_len == 0: # candidate가 비어있다면; BP = 0 -> BLEU = 0.0\n",
    "        return 0\n",
    "    else:\n",
    "        return np.exp(1 - ref_len / ca_len)"
   ]
  },
  {
   "cell_type": "markdown",
   "metadata": {
    "colab_type": "text",
    "id": "c9E2xJQPfP6i"
   },
   "source": [
    "- 위 함수는 앞서 배운 $BP$의 수식처럼 $c$가 $r$보다 클 경우에는 1을 리턴하고, 그 외의 경우에는 $e^{1 - r/c}$를 리턴한다."
   ]
  },
  {
   "cell_type": "markdown",
   "metadata": {
    "colab_type": "text",
    "id": "4Rkdj0lwfbhx"
   },
   "source": [
    "<br>\n",
    "\n",
    "#### 3.1.5.6 BLEU 점수 계산 함수 구현"
   ]
  },
  {
   "cell_type": "code",
   "execution_count": null,
   "metadata": {
    "colab": {},
    "colab_type": "code",
    "id": "ng6ZZIoZffZ5"
   },
   "outputs": [],
   "source": [
    "def bleu_score(candidate, reference_list, weights=[0.25, 0.25, 0.25, 0.25]):\n",
    "\n",
    "    bp = brevity_penalty(candidate, reference_list) # 브레버티 패널티, BP\n",
    "\n",
    "    p_n = [modified_precision(candidate, reference_list, n) for n, _ in enumerate(weights, start=1)] # p1, p2, p3, ..., pn\n",
    "\n",
    "    score = np.sum([w_i * np.log(p_i) if p_i != 0 else 0 for w_i, p_i in zip(weights, p_n)])\n",
    "\n",
    "    return bp * np.exp(score)"
   ]
  },
  {
   "cell_type": "markdown",
   "metadata": {
    "colab_type": "text",
    "id": "0-DYkJ_9gCia"
   },
   "source": [
    "- 위의 `bleu_score` 함수는 기본적으로는 $N$이 4에 각 gram에 대한 가중치는 동일하게 0.25라 주어진다고 가정한다.\n",
    "- 또한 함수 내에서는 $BP$를 구하고 `bp`에 저장하고, $p_1, \\; p_2, \\; \\dots, p_n$를 구하여 `p_n`에 저장하도록 구현되어져 있다.\n",
    "- 그리고 앞서 배운 BLEU의 식에 따라 추가 연산하여 최종 계산한 값을 리턴한다."
   ]
  },
  {
   "cell_type": "markdown",
   "metadata": {
    "colab_type": "text",
    "id": "qdAkI9F7gfMY"
   },
   "source": [
    "<br>\n",
    "\n",
    "- 위 함수가 동작하기 위해서는 앞서 구현한 `simple_count`, `count_clip`, `modified_precision`, `brevity_penalty` 4개의 함수 또한 모두 구현되어져 있어야 한다.\n",
    "- 지금까지 구현한 BLEU 코드로 계산된 점수와 NLTK 패키지에 이미 구현되어져 있는 BLEU 코드로 계산된 점수를 비교해보자."
   ]
  },
  {
   "cell_type": "markdown",
   "metadata": {
    "colab_type": "text",
    "id": "-_DDjC82gvow"
   },
   "source": [
    "<br>\n",
    "\n",
    "## 3.2 NLTK를 사용한 BLEU 측정하기\n",
    "\n",
    "- 파이썬에서는 NLTK 패키지를 사용하여 BLEU를 계산할 수 있다."
   ]
  },
  {
   "cell_type": "code",
   "execution_count": 32,
   "metadata": {
    "colab": {
     "base_uri": "https://localhost:8080/",
     "height": 52
    },
    "colab_type": "code",
    "id": "Pn7S4Pdgg2XW",
    "outputId": "c98bc22e-a9dd-4cea-9075-70bc28481368"
   },
   "outputs": [
    {
     "name": "stdout",
     "output_type": "stream",
     "text": [
      "0.5045666840058485\n",
      "0.5045666840058485\n"
     ]
    }
   ],
   "source": [
    "import nltk.translate.bleu_score as bleu\n",
    "\n",
    "candidate = 'It is a guide to action which ensures that the military always obeys the commands of the party'\n",
    "references = [\n",
    "    'It is a guide to action that ensures that the military will forever heed Party commands',\n",
    "    'It is the guiding principle which guarantees the military forces always being under the command of the Party',\n",
    "    'It is the practical guide for the army always to heed the directions of the party'\n",
    "]\n",
    "\n",
    "# 이번 챕터에서 구현한 코드로 계산한 BLEU 점수\n",
    "print(bleu_score(candidate.split(),list(map(lambda ref: ref.split(), references))))\n",
    "\n",
    "# NLTK 패키지 구현되어져 있는 코드로 계산한 BLEU 점수\n",
    "print(bleu.sentence_bleu(list(map(lambda ref: ref.split(), references)),candidate.split()))"
   ]
  },
  {
   "cell_type": "markdown",
   "metadata": {
    "colab_type": "text",
    "id": "65HhA5kwhBhf"
   },
   "source": [
    "- 실제 BLEU 구현은 이것보다 좀 더 복잡하다.\n",
    "- NLTK 패키지에서의 상세한 BLEU 코드는 [해당 링크](https://www.nltk.org/_modules/nltk/translate/bleu_score.html)에서 확인할 수 있으며 이번 챕터에서 구현한 코드와 실제 구현에서 고려해야 할 것들은 무엇이 있는 지 비교해보자."
   ]
  }
 ],
 "metadata": {
  "colab": {
   "collapsed_sections": [],
   "name": "Ch13_v03_BLEU-Score.ipynb",
   "provenance": [],
   "toc_visible": true
  },
  "kernelspec": {
   "display_name": "Python 3",
   "language": "python",
   "name": "python3"
  },
  "language_info": {
   "codemirror_mode": {
    "name": "ipython",
    "version": 3
   },
   "file_extension": ".py",
   "mimetype": "text/x-python",
   "name": "python",
   "nbconvert_exporter": "python",
   "pygments_lexer": "ipython3",
   "version": "3.6.9"
  }
 },
 "nbformat": 4,
 "nbformat_minor": 4
}
