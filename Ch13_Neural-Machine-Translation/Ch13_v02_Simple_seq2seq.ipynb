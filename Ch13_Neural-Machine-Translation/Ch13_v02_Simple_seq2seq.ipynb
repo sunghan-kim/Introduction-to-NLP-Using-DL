{
 "cells": [
  {
   "cell_type": "markdown",
   "metadata": {
    "colab_type": "text",
    "id": "209jnuoh5v-D"
   },
   "source": [
    "# Ch13. 기계 번역 (Neural Machine Translation)"
   ]
  },
  {
   "cell_type": "markdown",
   "metadata": {
    "colab_type": "text",
    "id": "9gF7QXRi57Yh"
   },
   "source": [
    "# v02. 간단한 seq2seq 만들기"
   ]
  },
  {
   "cell_type": "markdown",
   "metadata": {
    "colab_type": "text",
    "id": "8x4H70R15-0e"
   },
   "source": [
    "- 앞서 구현한 seq2seq 모델은 지금까지 만든 모델 중에서 가장 복잡한 모델이였다.\n",
    "- 아직은 함수형 API의 사용이 부담스러운 분들을 위해 여기서는 좀 더 단순하고 구현이 간단한 seq2seq를 만들면서 seq2seq의 아키텍쳐 개념을 이해해보자."
   ]
  },
  {
   "cell_type": "markdown",
   "metadata": {
    "colab_type": "text",
    "id": "Mc_wrnhi601X"
   },
   "source": [
    "<br>\n",
    "\n",
    "## 2.1 간단한 Seq2Seq (Simple Sequence-to-Sequence)\n",
    "\n",
    "- 이번 seq2seq는 보다 단순한 모델이지만 seq2seq의 아이디어는 그대로이다.\n",
    "- 인코더는 입력 시퀀스로부터 정보를 압축한 벡터를 생성한다.\n",
    "- 디코더는 이 벡터를 전달받아 출력 시퀀스를 만들어낸다.\n",
    "- 그리고 입력 시퀀스와 출력 시퀀스의 길이는 다를 수 있다."
   ]
  },
  {
   "cell_type": "markdown",
   "metadata": {
    "colab_type": "text",
    "id": "k7YQsjKu7IT2"
   },
   "source": [
    "<br>\n",
    "\n",
    "$\\quad$ ![](https://wikidocs.net/images/page/43646/simpleseq2seq1.PNG)\n",
    "\n",
    "- 위의 그림은 인코더 길이가 `n`의 입력 시퀀스를 입력받아 어떤 의문의 벡터 `?`에 입력 정보를 압축하고, 디코더가 이 벡터를 전달받아 길이 `m`의 출력 시퀀스를 만드는 것을 보여준다.\n",
    "- 그렇다면 여기서 인코더가 디코더에게 전달해주는 벡터의 정체는 무엇일까?"
   ]
  },
  {
   "cell_type": "markdown",
   "metadata": {
    "colab_type": "text",
    "id": "u13eQj967cFG"
   },
   "source": [
    "<br>\n",
    "\n",
    "$\\quad$ ![](https://wikidocs.net/images/page/43646/simpleseq2seq2.PNG)\n",
    "\n",
    "- 이번에도 인코더가 디코더에게 전달한 벡터는 인코더 LSTM 셀의 마지막 시점(time step)의 은닉 상태(hidden state)이다.\n",
    "- n번째 시점의 은닉 상태는 입력 시퀀스의 정보들을 반영하고 있다.\n",
    "- 앞서 이 원리를 사용하여 텍스트 분류 문제를 풀었었고, 앞서 배운 seq2seq에서도 이를 디코더에게 전달하는 벡터로 사용했다.\n",
    "- 그런데 이번에는 디코더로의 전달 방식이 다르다."
   ]
  },
  {
   "cell_type": "markdown",
   "metadata": {
    "colab_type": "text",
    "id": "zwvQRd-z71su"
   },
   "source": [
    "<br>\n",
    "\n",
    "$\\quad$ ![](https://wikidocs.net/images/page/43646/simpleseq2seq3.PNG)\n",
    "\n",
    "- 이번에는 인코더의 마지막 은닉 상태를 **디코더의 모든 시점의 입력으로 사용**한다.\n",
    "- 그리고 이를 위해 입력을 원하는 만큼 반복해서 사용하게 해주는 도구인 `RepeatVector()`를 사용한다.\n",
    "- 위의 그림은 `RepeatVector()`를 사용해서 만든 seq2seq를 보여준다.\n",
    "- 구조가 간단한 만큼 코드도 굉장히 간단해진다."
   ]
  },
  {
   "cell_type": "markdown",
   "metadata": {
    "colab_type": "text",
    "id": "mm773RLn9eWl"
   },
   "source": [
    "<br>\n",
    "\n",
    "- 코드의 형식은 아래와 같다.\n",
    "\n",
    "```python\n",
    "model = Sequential()\n",
    "model.add(LSTM(..., input_shape=(...))) # 인코더\n",
    "model.add(RepeatVector(...))\n",
    "model.add(LSTM(..., return_sequences=True)) # 디코더\n",
    "model.add(TimeDistributed(Dense(...)))\n",
    "```"
   ]
  }
 ],
 "metadata": {
  "colab": {
   "collapsed_sections": [],
   "name": "Ch13_v02_Simple-seq2seq.ipynb",
   "provenance": [],
   "toc_visible": true
  },
  "kernelspec": {
   "display_name": "Python 3",
   "language": "python",
   "name": "python3"
  },
  "language_info": {
   "codemirror_mode": {
    "name": "ipython",
    "version": 3
   },
   "file_extension": ".py",
   "mimetype": "text/x-python",
   "name": "python",
   "nbconvert_exporter": "python",
   "pygments_lexer": "ipython3",
   "version": "3.6.9"
  }
 },
 "nbformat": 4,
 "nbformat_minor": 4
}
