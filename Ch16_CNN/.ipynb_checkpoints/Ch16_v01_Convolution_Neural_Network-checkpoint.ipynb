{
 "cells": [
  {
   "cell_type": "markdown",
   "metadata": {
    "colab_type": "text",
    "id": "KOpAgZqNkpiL"
   },
   "source": [
    "# Ch16. 합성곱 신경망 (Convolution Neural Network)"
   ]
  },
  {
   "cell_type": "markdown",
   "metadata": {
    "colab_type": "text",
    "id": "GWuU_Lbzk3OC"
   },
   "source": [
    "# v01. 합성곱 신경망 (Convolution Neural Network)"
   ]
  },
  {
   "cell_type": "markdown",
   "metadata": {
    "colab_type": "text",
    "id": "c1sSGJeik80D"
   },
   "source": [
    "- 합성곱 신경망(Convolutional Neural Network)은 이미지 처리에 탁월한 성능을 보이는 신경망이다.\n",
    "- 이 책의 주제는 이미지 처리가 아니라 자연어 처리이기 때문에, 어떻게 보면 책의 범위를 벗어났다고 느낄 수도 있다.\n",
    "- 하지만 합성곱 신경망으로도 자연어 처리를 할 수 있다.\n",
    "- 합성곱 신경망을 이용한 자연어 처리를 배우기 전에 합성곱 신경망에 대해서 먼저 이해해보자.\n",
    "- 이번 챕터에 한해서만 현재 이미지 처리를 배우고 있다고 가정하고 설명한다."
   ]
  },
  {
   "cell_type": "markdown",
   "metadata": {
    "colab_type": "text",
    "id": "AdSxx72_l5Zd"
   },
   "source": [
    "<br>\n",
    "\n",
    "- 합성곱 신경망은 크게 **합성곱층(Convolution layer)**과 **풀링층(Pooling layer)**으로 구성된다.\n",
    "- 아래의 그림은 합성곱 신경망의 일반적인 예를 보여준다.\n",
    "\n",
    "$\\quad$ ![](https://wikidocs.net/images/page/64066/convpooling.PNG)\n",
    "\n",
    "- [http://cs231n.github.io/convolutional-networks](http://cs231n.github.io/convolutional-networks)"
   ]
  },
  {
   "cell_type": "markdown",
   "metadata": {
    "colab_type": "text",
    "id": "GnOPImxUmNV8"
   },
   "source": [
    "- 위의 그림에서 `CONV`는 합성곱 연산을 의미하고, 합성곱 연산의 결과가 활성화 함수 `ReLU`를 지난다.\n",
    "- 이 두 과정을 합성곱층이라고 한다."
   ]
  },
  {
   "cell_type": "markdown",
   "metadata": {
    "colab_type": "text",
    "id": "xL6x81cImW0r"
   },
   "source": [
    "- 그 후에 `POOL`이라는 구간을 지나는 데 이는 풀링 연산을 의미하며 풀링층이라고 한다."
   ]
  },
  {
   "cell_type": "markdown",
   "metadata": {
    "colab_type": "text",
    "id": "Pidfed8WmeQD"
   },
   "source": [
    "<br>\n",
    "\n",
    "- 이번 챕터에서는 합성곱 연산과 풀링 연산의 의미에 대해서 학습한다."
   ]
  },
  {
   "cell_type": "markdown",
   "metadata": {
    "colab_type": "text",
    "id": "QVtfXRjlmjRT"
   },
   "source": [
    "<br>\n",
    "\n",
    "## 1.1 합성곱 신경망의 대두"
   ]
  },
  {
   "cell_type": "code",
   "execution_count": null,
   "metadata": {
    "colab": {},
    "colab_type": "code",
    "id": "y_6iKzvWml5u"
   },
   "outputs": [],
   "source": []
  }
 ],
 "metadata": {
  "colab": {
   "collapsed_sections": [],
   "name": "Ch16_v01_Convolution-Neural-Network.ipynb",
   "provenance": [],
   "toc_visible": true
  },
  "kernelspec": {
   "display_name": "Python 3",
   "language": "python",
   "name": "python3"
  },
  "language_info": {
   "codemirror_mode": {
    "name": "ipython",
    "version": 3
   },
   "file_extension": ".py",
   "mimetype": "text/x-python",
   "name": "python",
   "nbconvert_exporter": "python",
   "pygments_lexer": "ipython3",
   "version": "3.6.9"
  }
 },
 "nbformat": 4,
 "nbformat_minor": 4
}
